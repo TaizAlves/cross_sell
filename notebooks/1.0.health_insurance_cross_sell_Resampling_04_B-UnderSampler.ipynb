{
 "cells": [
  {
   "cell_type": "markdown",
   "id": "deadly-premiere",
   "metadata": {},
   "source": [
    "# 0.0. Imports"
   ]
  },
  {
   "cell_type": "code",
   "execution_count": 21,
   "id": "technical-slide",
   "metadata": {
    "ExecuteTime": {
     "end_time": "2021-08-06T23:17:19.594932Z",
     "start_time": "2021-08-06T23:17:19.578934Z"
    }
   },
   "outputs": [],
   "source": [
    "import numpy  as np\n",
    "import pandas as pd\n",
    "import scikitplot as skplt\n",
    "\n",
    "import pickle\n",
    "import warnings\n",
    "import random\n",
    "\n",
    "from collections import Counter\n",
    "\n",
    "import seaborn as sns\n",
    "\n",
    "\n",
    "from imblearn.under_sampling import RandomUnderSampler\n",
    "\n",
    "from boruta                import BorutaPy\n",
    "\n",
    "from matplotlib import pyplot as plt\n",
    "\n",
    "from pandas_profiling import ProfileReport\n",
    "\n",
    "import xgboost           as xgb\n",
    "\n",
    "from sklearn import metrics         as m\n",
    "from   sklearn.metrics import precision_score, recall_score, accuracy_score, balanced_accuracy_score, f1_score\n",
    "from sklearn.metrics import roc_curve, auc, roc_auc_score\n",
    "\n",
    "from sklearn.decomposition import PCA\n",
    "\n",
    "from sklearn.svm import SVC\n",
    "from sklearn import model_selection as ms\n",
    "from sklearn import linear_model    as lm\n",
    "from sklearn import preprocessing   as pp\n",
    "from sklearn import ensemble        as en\n",
    "from sklearn import neighbors       as nh \n",
    "from sklearn.naive_bayes import GaussianNB\n",
    "\n",
    "from sklearn.ensemble      import RandomForestClassifier\n",
    "\n",
    "from category_encoders import TargetEncoder\n",
    "\n"
   ]
  },
  {
   "cell_type": "code",
   "execution_count": 3,
   "id": "brilliant-fortune",
   "metadata": {
    "ExecuteTime": {
     "end_time": "2021-08-06T23:13:08.626057Z",
     "start_time": "2021-08-06T23:13:08.614062Z"
    }
   },
   "outputs": [],
   "source": [
    "#!pip install -U imbalanced-learn"
   ]
  },
  {
   "cell_type": "markdown",
   "id": "quarterly-programming",
   "metadata": {},
   "source": [
    "# 0.1. Helper Function"
   ]
  },
  {
   "cell_type": "code",
   "execution_count": 4,
   "id": "martial-honey",
   "metadata": {
    "ExecuteTime": {
     "end_time": "2021-08-06T23:13:08.642054Z",
     "start_time": "2021-08-06T23:13:08.632057Z"
    }
   },
   "outputs": [],
   "source": [
    "def warning_off():\n",
    "    warnings.filterwarnings('ignore', category=FutureWarning) \n",
    "    pd.options.mode.chained_assignment = None\n",
    "    \n",
    "    return None\n",
    "warning_off()"
   ]
  },
  {
   "cell_type": "code",
   "execution_count": 5,
   "id": "incorrect-absorption",
   "metadata": {
    "ExecuteTime": {
     "end_time": "2021-08-06T23:13:08.674112Z",
     "start_time": "2021-08-06T23:13:08.646053Z"
    }
   },
   "outputs": [],
   "source": [
    "def data_preparation_yhat_model(target,x_val, y_val,model):\n",
    "    # prepare dataset\n",
    "    data = x_val.copy()\n",
    "    data[target] = y_val.copy()\n",
    "    \n",
    "    # propensity score\n",
    "    data['score'] = model[:, 1].tolist()      \n",
    "    \n",
    "    data = data.sort_values('score', ascending = False)\n",
    "    \n",
    "    # reset index\n",
    "    data = data.reset_index( drop=True )\n",
    "    \n",
    "    return data\n",
    "\n",
    "\n",
    "\n",
    "def precision_at_k( data, target, k=2000):\n",
    "    \n",
    "\n",
    "    # create ranking order\n",
    "    data['ranking'] = data.index + 1 \n",
    "\n",
    "    data['precision_at_k'] = data[target].cumsum() / data['ranking']\n",
    "\n",
    "    return data.loc[k, 'precision_at_k']\n",
    "\n",
    "\n",
    "def recall_at_k(  data,target, k=2000 ):\n",
    "\n",
    "    # create ranking order\n",
    "    data['ranking'] = data.index + 1 \n",
    "\n",
    "    data['recall_at_k'] = data[target].cumsum() / data[target].sum()\n",
    "\n",
    "    return data.loc[k, 'recall_at_k']\n",
    "\n",
    "\n",
    "\n",
    "def cross_validation(data,num_folds, model_name, model,target, k, x_train, y_train, verbose= False):\n",
    "    \n",
    "    for j in reversed( range( 1, num_folds+1 ) ):\n",
    "        if verbose:\n",
    "            print( '\\nKFold Number: {}'.format( j ) )\n",
    "    \n",
    "        kfold = ms.StratifiedKFold(n_splits = num_folds, shuffle = True, random_state = 42)\n",
    "\n",
    "        precision_list = []\n",
    "        recall_list = []\n",
    "        f1_score_list = []\n",
    "\n",
    "\n",
    "        for train_cv,val_cv in kfold.split(x_train, y_train):\n",
    "\n",
    "            x_train_fold = x_train.iloc[train_cv]\n",
    "            y_train_fold = y_train.iloc[train_cv]\n",
    "\n",
    "            x_val_fold = x_train.iloc[val_cv]\n",
    "            y_val_fold = y_train.iloc[val_cv]\n",
    "\n",
    "            model_fit = model.fit(x_train_fold,y_train_fold)\n",
    "\n",
    "            yhat_model = model_fit.predict_proba(x_val_fold)\n",
    "\n",
    "            x_val_fold[target] = y_val_fold\n",
    "            \n",
    "            dataset = data_preparation_yhat_model(target,x_val_fold.copy(), y_val_fold.copy(),yhat_model)\n",
    "            precision = precision_at_k(dataset, target, k)\n",
    "            precision_list.append(precision)\n",
    "\n",
    "            recall = recall_at_k(dataset, target, k)\n",
    "            recall_list.append(recall)\n",
    "\n",
    "            f1_score = round(2*(precision * recall) / (precision + recall), 3)\n",
    "            f1_score_list.append(f1_score)\n",
    "\n",
    "        \n",
    "        \n",
    "    return pd.DataFrame( {'Model Name': model_name,\n",
    "                          'PRECISION': np.round(np.mean(precision_list), 3).astype(str) + ' +/- ' + np.round(np.std(precision_list), 3).astype(str),\n",
    "                          'RECALL': np.round( np.mean( recall_list ), 3 ).astype( str ) + ' +/- ' + np.round( np.std( recall_list ), 3 ).astype( str ),\n",
    "                          'F1_score': np.round( np.mean( f1_score_list ), 3 ).astype( str ) + ' +/- ' + np.round( np.std( f1_score_list ), 3 ).astype( str ) }, index=[0] )\n",
    "    \n",
    "   "
   ]
  },
  {
   "cell_type": "markdown",
   "id": "published-current",
   "metadata": {},
   "source": [
    "# 0.2. Load dataset"
   ]
  },
  {
   "cell_type": "code",
   "execution_count": 6,
   "id": "formal-fields",
   "metadata": {
    "ExecuteTime": {
     "end_time": "2021-08-06T23:13:09.863536Z",
     "start_time": "2021-08-06T23:13:08.679110Z"
    }
   },
   "outputs": [
    {
     "data": {
      "text/html": [
       "<div>\n",
       "<style scoped>\n",
       "    .dataframe tbody tr th:only-of-type {\n",
       "        vertical-align: middle;\n",
       "    }\n",
       "\n",
       "    .dataframe tbody tr th {\n",
       "        vertical-align: top;\n",
       "    }\n",
       "\n",
       "    .dataframe thead th {\n",
       "        text-align: right;\n",
       "    }\n",
       "</style>\n",
       "<table border=\"1\" class=\"dataframe\">\n",
       "  <thead>\n",
       "    <tr style=\"text-align: right;\">\n",
       "      <th></th>\n",
       "      <th>id</th>\n",
       "      <th>Gender</th>\n",
       "      <th>Age</th>\n",
       "      <th>Driving_License</th>\n",
       "      <th>Region_Code</th>\n",
       "      <th>Previously_Insured</th>\n",
       "      <th>Vehicle_Age</th>\n",
       "      <th>Vehicle_Damage</th>\n",
       "      <th>Annual_Premium</th>\n",
       "      <th>Policy_Sales_Channel</th>\n",
       "      <th>Vintage</th>\n",
       "      <th>Response</th>\n",
       "    </tr>\n",
       "  </thead>\n",
       "  <tbody>\n",
       "    <tr>\n",
       "      <th>0</th>\n",
       "      <td>1</td>\n",
       "      <td>Male</td>\n",
       "      <td>44</td>\n",
       "      <td>1</td>\n",
       "      <td>28.0</td>\n",
       "      <td>0</td>\n",
       "      <td>&gt; 2 Years</td>\n",
       "      <td>Yes</td>\n",
       "      <td>40454.0</td>\n",
       "      <td>26.0</td>\n",
       "      <td>217</td>\n",
       "      <td>1</td>\n",
       "    </tr>\n",
       "    <tr>\n",
       "      <th>1</th>\n",
       "      <td>2</td>\n",
       "      <td>Male</td>\n",
       "      <td>76</td>\n",
       "      <td>1</td>\n",
       "      <td>3.0</td>\n",
       "      <td>0</td>\n",
       "      <td>1-2 Year</td>\n",
       "      <td>No</td>\n",
       "      <td>33536.0</td>\n",
       "      <td>26.0</td>\n",
       "      <td>183</td>\n",
       "      <td>0</td>\n",
       "    </tr>\n",
       "    <tr>\n",
       "      <th>2</th>\n",
       "      <td>3</td>\n",
       "      <td>Male</td>\n",
       "      <td>47</td>\n",
       "      <td>1</td>\n",
       "      <td>28.0</td>\n",
       "      <td>0</td>\n",
       "      <td>&gt; 2 Years</td>\n",
       "      <td>Yes</td>\n",
       "      <td>38294.0</td>\n",
       "      <td>26.0</td>\n",
       "      <td>27</td>\n",
       "      <td>1</td>\n",
       "    </tr>\n",
       "    <tr>\n",
       "      <th>3</th>\n",
       "      <td>4</td>\n",
       "      <td>Male</td>\n",
       "      <td>21</td>\n",
       "      <td>1</td>\n",
       "      <td>11.0</td>\n",
       "      <td>1</td>\n",
       "      <td>&lt; 1 Year</td>\n",
       "      <td>No</td>\n",
       "      <td>28619.0</td>\n",
       "      <td>152.0</td>\n",
       "      <td>203</td>\n",
       "      <td>0</td>\n",
       "    </tr>\n",
       "    <tr>\n",
       "      <th>4</th>\n",
       "      <td>5</td>\n",
       "      <td>Female</td>\n",
       "      <td>29</td>\n",
       "      <td>1</td>\n",
       "      <td>41.0</td>\n",
       "      <td>1</td>\n",
       "      <td>&lt; 1 Year</td>\n",
       "      <td>No</td>\n",
       "      <td>27496.0</td>\n",
       "      <td>152.0</td>\n",
       "      <td>39</td>\n",
       "      <td>0</td>\n",
       "    </tr>\n",
       "  </tbody>\n",
       "</table>\n",
       "</div>"
      ],
      "text/plain": [
       "   id  Gender  Age  Driving_License  Region_Code  Previously_Insured  \\\n",
       "0   1    Male   44                1         28.0                   0   \n",
       "1   2    Male   76                1          3.0                   0   \n",
       "2   3    Male   47                1         28.0                   0   \n",
       "3   4    Male   21                1         11.0                   1   \n",
       "4   5  Female   29                1         41.0                   1   \n",
       "\n",
       "  Vehicle_Age Vehicle_Damage  Annual_Premium  Policy_Sales_Channel  Vintage  \\\n",
       "0   > 2 Years            Yes         40454.0                  26.0      217   \n",
       "1    1-2 Year             No         33536.0                  26.0      183   \n",
       "2   > 2 Years            Yes         38294.0                  26.0       27   \n",
       "3    < 1 Year             No         28619.0                 152.0      203   \n",
       "4    < 1 Year             No         27496.0                 152.0       39   \n",
       "\n",
       "   Response  \n",
       "0         1  \n",
       "1         0  \n",
       "2         1  \n",
       "3         0  \n",
       "4         0  "
      ]
     },
     "execution_count": 6,
     "metadata": {},
     "output_type": "execute_result"
    }
   ],
   "source": [
    "df_raw = pd.read_csv('../data/raw/train.csv')\n",
    "df_raw.head()"
   ]
  },
  {
   "cell_type": "markdown",
   "id": "express-working",
   "metadata": {},
   "source": [
    "# 1.0. Data Description"
   ]
  },
  {
   "cell_type": "code",
   "execution_count": 7,
   "id": "incorporated-steal",
   "metadata": {
    "ExecuteTime": {
     "end_time": "2021-08-06T23:13:09.925521Z",
     "start_time": "2021-08-06T23:13:09.868534Z"
    }
   },
   "outputs": [],
   "source": [
    "df1 = df_raw.copy()"
   ]
  },
  {
   "cell_type": "markdown",
   "id": "uniform-medicaid",
   "metadata": {},
   "source": [
    "## 1.1. Rename Columns"
   ]
  },
  {
   "cell_type": "code",
   "execution_count": 8,
   "id": "grave-sigma",
   "metadata": {
    "ExecuteTime": {
     "end_time": "2021-08-06T23:13:09.987505Z",
     "start_time": "2021-08-06T23:13:09.933521Z"
    }
   },
   "outputs": [
    {
     "data": {
      "text/html": [
       "<div>\n",
       "<style scoped>\n",
       "    .dataframe tbody tr th:only-of-type {\n",
       "        vertical-align: middle;\n",
       "    }\n",
       "\n",
       "    .dataframe tbody tr th {\n",
       "        vertical-align: top;\n",
       "    }\n",
       "\n",
       "    .dataframe thead th {\n",
       "        text-align: right;\n",
       "    }\n",
       "</style>\n",
       "<table border=\"1\" class=\"dataframe\">\n",
       "  <thead>\n",
       "    <tr style=\"text-align: right;\">\n",
       "      <th></th>\n",
       "      <th>id</th>\n",
       "      <th>gender</th>\n",
       "      <th>age</th>\n",
       "      <th>driving_license</th>\n",
       "      <th>region_code</th>\n",
       "      <th>previously_insured</th>\n",
       "      <th>vehicle_age</th>\n",
       "      <th>vehicle_damage</th>\n",
       "      <th>annual_premium</th>\n",
       "      <th>policy_sales_channel</th>\n",
       "      <th>vintage</th>\n",
       "      <th>response</th>\n",
       "    </tr>\n",
       "  </thead>\n",
       "  <tbody>\n",
       "    <tr>\n",
       "      <th>0</th>\n",
       "      <td>1</td>\n",
       "      <td>Male</td>\n",
       "      <td>44</td>\n",
       "      <td>1</td>\n",
       "      <td>28.0</td>\n",
       "      <td>0</td>\n",
       "      <td>&gt; 2 Years</td>\n",
       "      <td>Yes</td>\n",
       "      <td>40454.0</td>\n",
       "      <td>26.0</td>\n",
       "      <td>217</td>\n",
       "      <td>1</td>\n",
       "    </tr>\n",
       "    <tr>\n",
       "      <th>1</th>\n",
       "      <td>2</td>\n",
       "      <td>Male</td>\n",
       "      <td>76</td>\n",
       "      <td>1</td>\n",
       "      <td>3.0</td>\n",
       "      <td>0</td>\n",
       "      <td>1-2 Year</td>\n",
       "      <td>No</td>\n",
       "      <td>33536.0</td>\n",
       "      <td>26.0</td>\n",
       "      <td>183</td>\n",
       "      <td>0</td>\n",
       "    </tr>\n",
       "    <tr>\n",
       "      <th>2</th>\n",
       "      <td>3</td>\n",
       "      <td>Male</td>\n",
       "      <td>47</td>\n",
       "      <td>1</td>\n",
       "      <td>28.0</td>\n",
       "      <td>0</td>\n",
       "      <td>&gt; 2 Years</td>\n",
       "      <td>Yes</td>\n",
       "      <td>38294.0</td>\n",
       "      <td>26.0</td>\n",
       "      <td>27</td>\n",
       "      <td>1</td>\n",
       "    </tr>\n",
       "    <tr>\n",
       "      <th>3</th>\n",
       "      <td>4</td>\n",
       "      <td>Male</td>\n",
       "      <td>21</td>\n",
       "      <td>1</td>\n",
       "      <td>11.0</td>\n",
       "      <td>1</td>\n",
       "      <td>&lt; 1 Year</td>\n",
       "      <td>No</td>\n",
       "      <td>28619.0</td>\n",
       "      <td>152.0</td>\n",
       "      <td>203</td>\n",
       "      <td>0</td>\n",
       "    </tr>\n",
       "    <tr>\n",
       "      <th>4</th>\n",
       "      <td>5</td>\n",
       "      <td>Female</td>\n",
       "      <td>29</td>\n",
       "      <td>1</td>\n",
       "      <td>41.0</td>\n",
       "      <td>1</td>\n",
       "      <td>&lt; 1 Year</td>\n",
       "      <td>No</td>\n",
       "      <td>27496.0</td>\n",
       "      <td>152.0</td>\n",
       "      <td>39</td>\n",
       "      <td>0</td>\n",
       "    </tr>\n",
       "  </tbody>\n",
       "</table>\n",
       "</div>"
      ],
      "text/plain": [
       "   id  gender  age  driving_license  region_code  previously_insured  \\\n",
       "0   1    Male   44                1         28.0                   0   \n",
       "1   2    Male   76                1          3.0                   0   \n",
       "2   3    Male   47                1         28.0                   0   \n",
       "3   4    Male   21                1         11.0                   1   \n",
       "4   5  Female   29                1         41.0                   1   \n",
       "\n",
       "  vehicle_age vehicle_damage  annual_premium  policy_sales_channel  vintage  \\\n",
       "0   > 2 Years            Yes         40454.0                  26.0      217   \n",
       "1    1-2 Year             No         33536.0                  26.0      183   \n",
       "2   > 2 Years            Yes         38294.0                  26.0       27   \n",
       "3    < 1 Year             No         28619.0                 152.0      203   \n",
       "4    < 1 Year             No         27496.0                 152.0       39   \n",
       "\n",
       "   response  \n",
       "0         1  \n",
       "1         0  \n",
       "2         1  \n",
       "3         0  \n",
       "4         0  "
      ]
     },
     "execution_count": 8,
     "metadata": {},
     "output_type": "execute_result"
    }
   ],
   "source": [
    "#Lower case \n",
    "col_names = [name.lower() for name in df1.columns]\n",
    "\n",
    "df1.columns = col_names\n",
    "df1.head()"
   ]
  },
  {
   "cell_type": "markdown",
   "id": "respected-communication",
   "metadata": {},
   "source": [
    "## 1.2. Data Dimensions"
   ]
  },
  {
   "cell_type": "code",
   "execution_count": 9,
   "id": "minor-latin",
   "metadata": {
    "ExecuteTime": {
     "end_time": "2021-08-06T23:13:10.017498Z",
     "start_time": "2021-08-06T23:13:09.991506Z"
    }
   },
   "outputs": [
    {
     "name": "stdout",
     "output_type": "stream",
     "text": [
      "Columns:  12\n",
      "Rows:  381109\n"
     ]
    }
   ],
   "source": [
    "print('Columns: ', df1.shape[1])\n",
    "print('Rows: ',df1.shape[0])"
   ]
  },
  {
   "cell_type": "markdown",
   "id": "dominican-relaxation",
   "metadata": {},
   "source": [
    "## 1.3. Data Types"
   ]
  },
  {
   "cell_type": "code",
   "execution_count": 10,
   "id": "proprietary-bullet",
   "metadata": {
    "ExecuteTime": {
     "end_time": "2021-08-06T23:13:10.049491Z",
     "start_time": "2021-08-06T23:13:10.022499Z"
    }
   },
   "outputs": [
    {
     "data": {
      "text/plain": [
       "id                        int64\n",
       "gender                   object\n",
       "age                       int64\n",
       "driving_license           int64\n",
       "region_code             float64\n",
       "previously_insured        int64\n",
       "vehicle_age              object\n",
       "vehicle_damage           object\n",
       "annual_premium          float64\n",
       "policy_sales_channel    float64\n",
       "vintage                   int64\n",
       "response                  int64\n",
       "dtype: object"
      ]
     },
     "execution_count": 10,
     "metadata": {},
     "output_type": "execute_result"
    }
   ],
   "source": [
    "df1.dtypes"
   ]
  },
  {
   "cell_type": "markdown",
   "id": "designing-disabled",
   "metadata": {},
   "source": [
    "### 1.3.1 Change Data Types"
   ]
  },
  {
   "cell_type": "code",
   "execution_count": 11,
   "id": "pending-worry",
   "metadata": {
    "ExecuteTime": {
     "end_time": "2021-08-06T23:13:11.870298Z",
     "start_time": "2021-08-06T23:13:11.735328Z"
    }
   },
   "outputs": [
    {
     "data": {
      "text/plain": [
       "id                        int32\n",
       "gender                   object\n",
       "age                       int32\n",
       "driving_license           int32\n",
       "region_code               int32\n",
       "previously_insured        int32\n",
       "vehicle_age              object\n",
       "vehicle_damage           object\n",
       "annual_premium          float64\n",
       "policy_sales_channel      int32\n",
       "vintage                   int32\n",
       "response                  int32\n",
       "dtype: object"
      ]
     },
     "execution_count": 11,
     "metadata": {},
     "output_type": "execute_result"
    }
   ],
   "source": [
    "df1['region_code'] = df1['region_code'].astype( int)\n",
    "df1['policy_sales_channel'] = df1['policy_sales_channel'].astype( int )\n",
    "df1['id'] = df1['id'].astype(np.int32)\n",
    "df1['age'] = df1['age'].astype(np.int32)\n",
    "df1['driving_license'] = df1['driving_license'].astype(np.int32)\n",
    "df1['previously_insured'] = df1['previously_insured'].astype(np.int32)\n",
    "df1['vintage'] = df1['vintage'].astype(np.int32)\n",
    "df1['response'] = df1['response'].astype(np.int32)\n",
    "\n",
    "df1.dtypes"
   ]
  },
  {
   "cell_type": "markdown",
   "id": "wireless-thanks",
   "metadata": {},
   "source": [
    "## 1.4. Check NA"
   ]
  },
  {
   "cell_type": "code",
   "execution_count": 10,
   "id": "derived-vaccine",
   "metadata": {
    "ExecuteTime": {
     "end_time": "2021-08-03T15:50:24.437063Z",
     "start_time": "2021-08-03T15:50:24.329101Z"
    }
   },
   "outputs": [
    {
     "data": {
      "text/plain": [
       "id                      0\n",
       "gender                  0\n",
       "age                     0\n",
       "driving_license         0\n",
       "region_code             0\n",
       "previously_insured      0\n",
       "vehicle_age             0\n",
       "vehicle_damage          0\n",
       "annual_premium          0\n",
       "policy_sales_channel    0\n",
       "vintage                 0\n",
       "response                0\n",
       "dtype: int64"
      ]
     },
     "execution_count": 10,
     "metadata": {},
     "output_type": "execute_result"
    }
   ],
   "source": [
    "df1.isna().sum()"
   ]
  },
  {
   "cell_type": "markdown",
   "id": "inclusive-doctrine",
   "metadata": {},
   "source": [
    "## 1.5. Data Descriptive"
   ]
  },
  {
   "cell_type": "code",
   "execution_count": 11,
   "id": "continent-indonesia",
   "metadata": {
    "ExecuteTime": {
     "end_time": "2021-08-03T15:50:30.835029Z",
     "start_time": "2021-08-03T15:50:30.730089Z"
    }
   },
   "outputs": [],
   "source": [
    "num_attributes = df1.select_dtypes(include= ['int32', 'float64'])\n",
    "cat_attributes = df1.select_dtypes(exclude= ['int32', 'float64','datetime64[ns]'])\n"
   ]
  },
  {
   "cell_type": "markdown",
   "id": "scientific-detail",
   "metadata": {},
   "source": [
    "### 1.5.1. Numerical Attributes"
   ]
  },
  {
   "cell_type": "code",
   "execution_count": 12,
   "id": "wicked-tiffany",
   "metadata": {
    "ExecuteTime": {
     "end_time": "2021-08-03T15:50:33.866950Z",
     "start_time": "2021-08-03T15:50:32.506006Z"
    }
   },
   "outputs": [
    {
     "data": {
      "text/html": [
       "<div>\n",
       "<style scoped>\n",
       "    .dataframe tbody tr th:only-of-type {\n",
       "        vertical-align: middle;\n",
       "    }\n",
       "\n",
       "    .dataframe tbody tr th {\n",
       "        vertical-align: top;\n",
       "    }\n",
       "\n",
       "    .dataframe thead th {\n",
       "        text-align: right;\n",
       "    }\n",
       "</style>\n",
       "<table border=\"1\" class=\"dataframe\">\n",
       "  <thead>\n",
       "    <tr style=\"text-align: right;\">\n",
       "      <th></th>\n",
       "      <th>attributes</th>\n",
       "      <th>min</th>\n",
       "      <th>max</th>\n",
       "      <th>range</th>\n",
       "      <th>mean</th>\n",
       "      <th>median</th>\n",
       "      <th>std</th>\n",
       "      <th>skew</th>\n",
       "      <th>kurtosis</th>\n",
       "    </tr>\n",
       "  </thead>\n",
       "  <tbody>\n",
       "    <tr>\n",
       "      <th>0</th>\n",
       "      <td>id</td>\n",
       "      <td>1.0</td>\n",
       "      <td>381109.0</td>\n",
       "      <td>381108.0</td>\n",
       "      <td>190555.000000</td>\n",
       "      <td>190555.0</td>\n",
       "      <td>110016.691870</td>\n",
       "      <td>9.443274e-16</td>\n",
       "      <td>-1.200000</td>\n",
       "    </tr>\n",
       "    <tr>\n",
       "      <th>1</th>\n",
       "      <td>age</td>\n",
       "      <td>20.0</td>\n",
       "      <td>85.0</td>\n",
       "      <td>65.0</td>\n",
       "      <td>38.822584</td>\n",
       "      <td>36.0</td>\n",
       "      <td>15.511591</td>\n",
       "      <td>6.725390e-01</td>\n",
       "      <td>-0.565655</td>\n",
       "    </tr>\n",
       "    <tr>\n",
       "      <th>2</th>\n",
       "      <td>driving_license</td>\n",
       "      <td>0.0</td>\n",
       "      <td>1.0</td>\n",
       "      <td>1.0</td>\n",
       "      <td>0.997869</td>\n",
       "      <td>1.0</td>\n",
       "      <td>0.046109</td>\n",
       "      <td>-2.159518e+01</td>\n",
       "      <td>464.354302</td>\n",
       "    </tr>\n",
       "    <tr>\n",
       "      <th>3</th>\n",
       "      <td>region_code</td>\n",
       "      <td>0.0</td>\n",
       "      <td>52.0</td>\n",
       "      <td>52.0</td>\n",
       "      <td>26.388807</td>\n",
       "      <td>28.0</td>\n",
       "      <td>13.229871</td>\n",
       "      <td>-1.152664e-01</td>\n",
       "      <td>-0.867857</td>\n",
       "    </tr>\n",
       "    <tr>\n",
       "      <th>4</th>\n",
       "      <td>previously_insured</td>\n",
       "      <td>0.0</td>\n",
       "      <td>1.0</td>\n",
       "      <td>1.0</td>\n",
       "      <td>0.458210</td>\n",
       "      <td>0.0</td>\n",
       "      <td>0.498251</td>\n",
       "      <td>1.677471e-01</td>\n",
       "      <td>-1.971871</td>\n",
       "    </tr>\n",
       "    <tr>\n",
       "      <th>5</th>\n",
       "      <td>annual_premium</td>\n",
       "      <td>2630.0</td>\n",
       "      <td>540165.0</td>\n",
       "      <td>537535.0</td>\n",
       "      <td>30564.389581</td>\n",
       "      <td>31669.0</td>\n",
       "      <td>17213.132474</td>\n",
       "      <td>1.766087e+00</td>\n",
       "      <td>34.004569</td>\n",
       "    </tr>\n",
       "    <tr>\n",
       "      <th>6</th>\n",
       "      <td>policy_sales_channel</td>\n",
       "      <td>1.0</td>\n",
       "      <td>163.0</td>\n",
       "      <td>162.0</td>\n",
       "      <td>112.034295</td>\n",
       "      <td>133.0</td>\n",
       "      <td>54.203924</td>\n",
       "      <td>-9.000081e-01</td>\n",
       "      <td>-0.970810</td>\n",
       "    </tr>\n",
       "    <tr>\n",
       "      <th>7</th>\n",
       "      <td>vintage</td>\n",
       "      <td>10.0</td>\n",
       "      <td>299.0</td>\n",
       "      <td>289.0</td>\n",
       "      <td>154.347397</td>\n",
       "      <td>154.0</td>\n",
       "      <td>83.671194</td>\n",
       "      <td>3.029517e-03</td>\n",
       "      <td>-1.200688</td>\n",
       "    </tr>\n",
       "    <tr>\n",
       "      <th>8</th>\n",
       "      <td>response</td>\n",
       "      <td>0.0</td>\n",
       "      <td>1.0</td>\n",
       "      <td>1.0</td>\n",
       "      <td>0.122563</td>\n",
       "      <td>0.0</td>\n",
       "      <td>0.327935</td>\n",
       "      <td>2.301906e+00</td>\n",
       "      <td>3.298788</td>\n",
       "    </tr>\n",
       "  </tbody>\n",
       "</table>\n",
       "</div>"
      ],
      "text/plain": [
       "             attributes     min       max     range           mean    median  \\\n",
       "0                    id     1.0  381109.0  381108.0  190555.000000  190555.0   \n",
       "1                   age    20.0      85.0      65.0      38.822584      36.0   \n",
       "2       driving_license     0.0       1.0       1.0       0.997869       1.0   \n",
       "3           region_code     0.0      52.0      52.0      26.388807      28.0   \n",
       "4    previously_insured     0.0       1.0       1.0       0.458210       0.0   \n",
       "5        annual_premium  2630.0  540165.0  537535.0   30564.389581   31669.0   \n",
       "6  policy_sales_channel     1.0     163.0     162.0     112.034295     133.0   \n",
       "7               vintage    10.0     299.0     289.0     154.347397     154.0   \n",
       "8              response     0.0       1.0       1.0       0.122563       0.0   \n",
       "\n",
       "             std          skew    kurtosis  \n",
       "0  110016.691870  9.443274e-16   -1.200000  \n",
       "1      15.511591  6.725390e-01   -0.565655  \n",
       "2       0.046109 -2.159518e+01  464.354302  \n",
       "3      13.229871 -1.152664e-01   -0.867857  \n",
       "4       0.498251  1.677471e-01   -1.971871  \n",
       "5   17213.132474  1.766087e+00   34.004569  \n",
       "6      54.203924 -9.000081e-01   -0.970810  \n",
       "7      83.671194  3.029517e-03   -1.200688  \n",
       "8       0.327935  2.301906e+00    3.298788  "
      ]
     },
     "execution_count": 12,
     "metadata": {},
     "output_type": "execute_result"
    }
   ],
   "source": [
    "# Central Tendency - Mean, Median\n",
    "ct1 = pd.DataFrame(num_attributes.apply(np.mean )).T\n",
    "ct2 = pd.DataFrame(num_attributes.apply(np.median )).T\n",
    "\n",
    "# dispersion - std, min, max, range, skew, kurtosis\n",
    "d1 = pd.DataFrame(num_attributes.apply( np.std)).T\n",
    "d2 = pd.DataFrame(num_attributes.apply( min)).T\n",
    "d3 = pd.DataFrame(num_attributes.apply( max)).T\n",
    "d4 = pd.DataFrame(num_attributes.apply( lambda x: x.max() - x.min())).T\n",
    "d5 = pd.DataFrame(num_attributes.apply( lambda x: x.skew() )).T\n",
    "d6 = pd.DataFrame(num_attributes.apply( lambda x: x.kurtosis() )).T\n",
    "\n",
    "# concat\n",
    "m = pd.concat([d2, d3, d4, ct1, ct2, d1, d5, d6]).T.reset_index()\n",
    "m.columns = ['attributes', 'min', 'max', 'range', 'mean', 'median', 'std', 'skew', 'kurtosis']\n",
    "m"
   ]
  },
  {
   "cell_type": "markdown",
   "id": "right-energy",
   "metadata": {
    "ExecuteTime": {
     "end_time": "2021-07-21T14:20:10.499764Z",
     "start_time": "2021-07-21T14:20:10.484088Z"
    }
   },
   "source": [
    "### 1.5.2. Categorical Attributes"
   ]
  },
  {
   "cell_type": "code",
   "execution_count": 68,
   "id": "german-implementation",
   "metadata": {
    "ExecuteTime": {
     "end_time": "2021-08-02T20:53:22.210882Z",
     "start_time": "2021-08-02T20:53:22.183891Z"
    }
   },
   "outputs": [
    {
     "data": {
      "text/html": [
       "<div>\n",
       "<style scoped>\n",
       "    .dataframe tbody tr th:only-of-type {\n",
       "        vertical-align: middle;\n",
       "    }\n",
       "\n",
       "    .dataframe tbody tr th {\n",
       "        vertical-align: top;\n",
       "    }\n",
       "\n",
       "    .dataframe thead th {\n",
       "        text-align: right;\n",
       "    }\n",
       "</style>\n",
       "<table border=\"1\" class=\"dataframe\">\n",
       "  <thead>\n",
       "    <tr style=\"text-align: right;\">\n",
       "      <th></th>\n",
       "      <th>gender</th>\n",
       "      <th>vehicle_age</th>\n",
       "      <th>vehicle_damage</th>\n",
       "    </tr>\n",
       "  </thead>\n",
       "  <tbody>\n",
       "    <tr>\n",
       "      <th>0</th>\n",
       "      <td>Male</td>\n",
       "      <td>&gt; 2 Years</td>\n",
       "      <td>Yes</td>\n",
       "    </tr>\n",
       "    <tr>\n",
       "      <th>1</th>\n",
       "      <td>Male</td>\n",
       "      <td>1-2 Year</td>\n",
       "      <td>No</td>\n",
       "    </tr>\n",
       "    <tr>\n",
       "      <th>2</th>\n",
       "      <td>Male</td>\n",
       "      <td>&gt; 2 Years</td>\n",
       "      <td>Yes</td>\n",
       "    </tr>\n",
       "    <tr>\n",
       "      <th>3</th>\n",
       "      <td>Male</td>\n",
       "      <td>&lt; 1 Year</td>\n",
       "      <td>No</td>\n",
       "    </tr>\n",
       "    <tr>\n",
       "      <th>4</th>\n",
       "      <td>Female</td>\n",
       "      <td>&lt; 1 Year</td>\n",
       "      <td>No</td>\n",
       "    </tr>\n",
       "  </tbody>\n",
       "</table>\n",
       "</div>"
      ],
      "text/plain": [
       "   gender vehicle_age vehicle_damage\n",
       "0    Male   > 2 Years            Yes\n",
       "1    Male    1-2 Year             No\n",
       "2    Male   > 2 Years            Yes\n",
       "3    Male    < 1 Year             No\n",
       "4  Female    < 1 Year             No"
      ]
     },
     "execution_count": 68,
     "metadata": {},
     "output_type": "execute_result"
    }
   ],
   "source": [
    "cat_attributes.head()"
   ]
  },
  {
   "cell_type": "code",
   "execution_count": 69,
   "id": "painful-estimate",
   "metadata": {
    "ExecuteTime": {
     "end_time": "2021-08-02T20:53:22.352848Z",
     "start_time": "2021-08-02T20:53:22.217882Z"
    }
   },
   "outputs": [
    {
     "data": {
      "text/plain": [
       "gender            2\n",
       "vehicle_age       3\n",
       "vehicle_damage    2\n",
       "dtype: int64"
      ]
     },
     "execution_count": 69,
     "metadata": {},
     "output_type": "execute_result"
    }
   ],
   "source": [
    "cat_attributes.apply( lambda x: x.unique().shape[0] )"
   ]
  },
  {
   "cell_type": "markdown",
   "id": "identified-poetry",
   "metadata": {},
   "source": [
    "## 2.0. Hypothesis"
   ]
  },
  {
   "cell_type": "markdown",
   "id": "sonic-block",
   "metadata": {
    "ExecuteTime": {
     "end_time": "2021-07-30T13:24:40.534008Z",
     "start_time": "2021-07-30T13:24:40.507147Z"
    }
   },
   "source": [
    "**Business main questions:**\n",
    "\n",
    "    - Customers : caracteristics of people who may be interested in hiring a car insurance \n",
    "    - Vehicle : What type of vehicle is more likely to be insurance (age, model, previously damaged)\n",
    "    - Insurance Company: which of our customers are more likely to take out car insurance and witch chanel to use "
   ]
  },
  {
   "cell_type": "markdown",
   "id": "mathematical-mailing",
   "metadata": {},
   "source": [
    "### 2.1 Customer Hypotheses"
   ]
  },
  {
   "cell_type": "markdown",
   "id": "aware-cowboy",
   "metadata": {},
   "source": [
    "1. Older people ( more than 35 year old) are more likely to hire an insurance?\n",
    "2. Women are more likely to contract an insurance than men?\n",
    "3. The region where people live have some influency on hire or not and insurance?\n",
    "4. Old people (over 70 years old) are not interested in car insurance ?\n",
    "5. older customers of the insurance company are more likely to take out car insurance ?\n"
   ]
  },
  {
   "cell_type": "markdown",
   "id": "sporting-father",
   "metadata": {
    "ExecuteTime": {
     "end_time": "2021-07-30T13:27:05.683990Z",
     "start_time": "2021-07-30T13:27:05.673812Z"
    }
   },
   "source": [
    "### 2.2 Vehicle Hypotheses"
   ]
  },
  {
   "cell_type": "markdown",
   "id": "forty-investor",
   "metadata": {
    "ExecuteTime": {
     "end_time": "2021-07-30T13:36:10.613067Z",
     "start_time": "2021-07-30T13:36:10.593071Z"
    }
   },
   "source": [
    "1. People who have the vehicle damage previously are more likely to hire an insurance?\n",
    "2. People don´t usually change car insurance company (fidelity) ? \n",
    "3. Newer vehicles are more insured ?"
   ]
  },
  {
   "cell_type": "markdown",
   "id": "assumed-sociology",
   "metadata": {
    "ExecuteTime": {
     "end_time": "2021-07-30T13:34:15.493187Z",
     "start_time": "2021-07-30T13:34:15.483330Z"
    }
   },
   "source": [
    "### 2.3 Company  Hypotheses"
   ]
  },
  {
   "cell_type": "markdown",
   "id": "normal-mathematics",
   "metadata": {},
   "source": [
    "1. annual premium $30,0000 or more are more likely to take out insurance police\n",
    "2. The more sales channel policy, more is the probability to response to an insurance proposal\n",
    "3. ~~what is the most efficient channel ? ~~\n",
    "4. ~~What channel is the cheapest, comparing to efficiency ?~~\n",
    "\n"
   ]
  },
  {
   "cell_type": "markdown",
   "id": "durable-verification",
   "metadata": {},
   "source": [
    "# 3.0. Feature Engineering"
   ]
  },
  {
   "cell_type": "markdown",
   "id": "empty-cowboy",
   "metadata": {
    "ExecuteTime": {
     "end_time": "2021-07-26T22:23:39.235928Z",
     "start_time": "2021-07-26T22:23:39.215732Z"
    }
   },
   "source": [
    "## 3.1. Feature Engineering"
   ]
  },
  {
   "cell_type": "code",
   "execution_count": 12,
   "id": "grateful-glenn",
   "metadata": {
    "ExecuteTime": {
     "end_time": "2021-08-06T23:13:32.553132Z",
     "start_time": "2021-08-06T23:13:32.491146Z"
    }
   },
   "outputs": [
    {
     "data": {
      "text/html": [
       "<div>\n",
       "<style scoped>\n",
       "    .dataframe tbody tr th:only-of-type {\n",
       "        vertical-align: middle;\n",
       "    }\n",
       "\n",
       "    .dataframe tbody tr th {\n",
       "        vertical-align: top;\n",
       "    }\n",
       "\n",
       "    .dataframe thead th {\n",
       "        text-align: right;\n",
       "    }\n",
       "</style>\n",
       "<table border=\"1\" class=\"dataframe\">\n",
       "  <thead>\n",
       "    <tr style=\"text-align: right;\">\n",
       "      <th></th>\n",
       "      <th>id</th>\n",
       "      <th>gender</th>\n",
       "      <th>age</th>\n",
       "      <th>driving_license</th>\n",
       "      <th>region_code</th>\n",
       "      <th>previously_insured</th>\n",
       "      <th>vehicle_age</th>\n",
       "      <th>vehicle_damage</th>\n",
       "      <th>annual_premium</th>\n",
       "      <th>policy_sales_channel</th>\n",
       "      <th>vintage</th>\n",
       "      <th>response</th>\n",
       "    </tr>\n",
       "  </thead>\n",
       "  <tbody>\n",
       "    <tr>\n",
       "      <th>0</th>\n",
       "      <td>1</td>\n",
       "      <td>Male</td>\n",
       "      <td>44</td>\n",
       "      <td>1</td>\n",
       "      <td>28</td>\n",
       "      <td>0</td>\n",
       "      <td>&gt; 2 Years</td>\n",
       "      <td>Yes</td>\n",
       "      <td>40454.0</td>\n",
       "      <td>26</td>\n",
       "      <td>217</td>\n",
       "      <td>1</td>\n",
       "    </tr>\n",
       "    <tr>\n",
       "      <th>1</th>\n",
       "      <td>2</td>\n",
       "      <td>Male</td>\n",
       "      <td>76</td>\n",
       "      <td>1</td>\n",
       "      <td>3</td>\n",
       "      <td>0</td>\n",
       "      <td>1-2 Year</td>\n",
       "      <td>No</td>\n",
       "      <td>33536.0</td>\n",
       "      <td>26</td>\n",
       "      <td>183</td>\n",
       "      <td>0</td>\n",
       "    </tr>\n",
       "    <tr>\n",
       "      <th>2</th>\n",
       "      <td>3</td>\n",
       "      <td>Male</td>\n",
       "      <td>47</td>\n",
       "      <td>1</td>\n",
       "      <td>28</td>\n",
       "      <td>0</td>\n",
       "      <td>&gt; 2 Years</td>\n",
       "      <td>Yes</td>\n",
       "      <td>38294.0</td>\n",
       "      <td>26</td>\n",
       "      <td>27</td>\n",
       "      <td>1</td>\n",
       "    </tr>\n",
       "    <tr>\n",
       "      <th>3</th>\n",
       "      <td>4</td>\n",
       "      <td>Male</td>\n",
       "      <td>21</td>\n",
       "      <td>1</td>\n",
       "      <td>11</td>\n",
       "      <td>1</td>\n",
       "      <td>&lt; 1 Year</td>\n",
       "      <td>No</td>\n",
       "      <td>28619.0</td>\n",
       "      <td>152</td>\n",
       "      <td>203</td>\n",
       "      <td>0</td>\n",
       "    </tr>\n",
       "    <tr>\n",
       "      <th>4</th>\n",
       "      <td>5</td>\n",
       "      <td>Female</td>\n",
       "      <td>29</td>\n",
       "      <td>1</td>\n",
       "      <td>41</td>\n",
       "      <td>1</td>\n",
       "      <td>&lt; 1 Year</td>\n",
       "      <td>No</td>\n",
       "      <td>27496.0</td>\n",
       "      <td>152</td>\n",
       "      <td>39</td>\n",
       "      <td>0</td>\n",
       "    </tr>\n",
       "  </tbody>\n",
       "</table>\n",
       "</div>"
      ],
      "text/plain": [
       "   id  gender  age  driving_license  region_code  previously_insured  \\\n",
       "0   1    Male   44                1           28                   0   \n",
       "1   2    Male   76                1            3                   0   \n",
       "2   3    Male   47                1           28                   0   \n",
       "3   4    Male   21                1           11                   1   \n",
       "4   5  Female   29                1           41                   1   \n",
       "\n",
       "  vehicle_age vehicle_damage  annual_premium  policy_sales_channel  vintage  \\\n",
       "0   > 2 Years            Yes         40454.0                    26      217   \n",
       "1    1-2 Year             No         33536.0                    26      183   \n",
       "2   > 2 Years            Yes         38294.0                    26       27   \n",
       "3    < 1 Year             No         28619.0                   152      203   \n",
       "4    < 1 Year             No         27496.0                   152       39   \n",
       "\n",
       "   response  \n",
       "0         1  \n",
       "1         0  \n",
       "2         1  \n",
       "3         0  \n",
       "4         0  "
      ]
     },
     "execution_count": 12,
     "metadata": {},
     "output_type": "execute_result"
    }
   ],
   "source": [
    "df2 = df1.copy()\n",
    "df2.head()"
   ]
  },
  {
   "cell_type": "code",
   "execution_count": 13,
   "id": "timely-principal",
   "metadata": {
    "ExecuteTime": {
     "end_time": "2021-08-06T23:13:37.782900Z",
     "start_time": "2021-08-06T23:13:37.367997Z"
    }
   },
   "outputs": [
    {
     "data": {
      "text/html": [
       "<div>\n",
       "<style scoped>\n",
       "    .dataframe tbody tr th:only-of-type {\n",
       "        vertical-align: middle;\n",
       "    }\n",
       "\n",
       "    .dataframe tbody tr th {\n",
       "        vertical-align: top;\n",
       "    }\n",
       "\n",
       "    .dataframe thead th {\n",
       "        text-align: right;\n",
       "    }\n",
       "</style>\n",
       "<table border=\"1\" class=\"dataframe\">\n",
       "  <thead>\n",
       "    <tr style=\"text-align: right;\">\n",
       "      <th></th>\n",
       "      <th>id</th>\n",
       "      <th>gender</th>\n",
       "      <th>age</th>\n",
       "      <th>driving_license</th>\n",
       "      <th>region_code</th>\n",
       "      <th>previously_insured</th>\n",
       "      <th>vehicle_age</th>\n",
       "      <th>vehicle_damage</th>\n",
       "      <th>annual_premium</th>\n",
       "      <th>policy_sales_channel</th>\n",
       "      <th>vintage</th>\n",
       "      <th>response</th>\n",
       "    </tr>\n",
       "  </thead>\n",
       "  <tbody>\n",
       "    <tr>\n",
       "      <th>0</th>\n",
       "      <td>1</td>\n",
       "      <td>Male</td>\n",
       "      <td>44</td>\n",
       "      <td>1</td>\n",
       "      <td>28</td>\n",
       "      <td>0</td>\n",
       "      <td>over_2_years</td>\n",
       "      <td>1</td>\n",
       "      <td>40454.0</td>\n",
       "      <td>26</td>\n",
       "      <td>217</td>\n",
       "      <td>1</td>\n",
       "    </tr>\n",
       "    <tr>\n",
       "      <th>1</th>\n",
       "      <td>2</td>\n",
       "      <td>Male</td>\n",
       "      <td>76</td>\n",
       "      <td>1</td>\n",
       "      <td>3</td>\n",
       "      <td>0</td>\n",
       "      <td>between_1_2_year</td>\n",
       "      <td>0</td>\n",
       "      <td>33536.0</td>\n",
       "      <td>26</td>\n",
       "      <td>183</td>\n",
       "      <td>0</td>\n",
       "    </tr>\n",
       "    <tr>\n",
       "      <th>2</th>\n",
       "      <td>3</td>\n",
       "      <td>Male</td>\n",
       "      <td>47</td>\n",
       "      <td>1</td>\n",
       "      <td>28</td>\n",
       "      <td>0</td>\n",
       "      <td>over_2_years</td>\n",
       "      <td>1</td>\n",
       "      <td>38294.0</td>\n",
       "      <td>26</td>\n",
       "      <td>27</td>\n",
       "      <td>1</td>\n",
       "    </tr>\n",
       "    <tr>\n",
       "      <th>3</th>\n",
       "      <td>4</td>\n",
       "      <td>Male</td>\n",
       "      <td>21</td>\n",
       "      <td>1</td>\n",
       "      <td>11</td>\n",
       "      <td>1</td>\n",
       "      <td>below_1_year</td>\n",
       "      <td>0</td>\n",
       "      <td>28619.0</td>\n",
       "      <td>152</td>\n",
       "      <td>203</td>\n",
       "      <td>0</td>\n",
       "    </tr>\n",
       "    <tr>\n",
       "      <th>4</th>\n",
       "      <td>5</td>\n",
       "      <td>Female</td>\n",
       "      <td>29</td>\n",
       "      <td>1</td>\n",
       "      <td>41</td>\n",
       "      <td>1</td>\n",
       "      <td>below_1_year</td>\n",
       "      <td>0</td>\n",
       "      <td>27496.0</td>\n",
       "      <td>152</td>\n",
       "      <td>39</td>\n",
       "      <td>0</td>\n",
       "    </tr>\n",
       "  </tbody>\n",
       "</table>\n",
       "</div>"
      ],
      "text/plain": [
       "   id  gender  age  driving_license  region_code  previously_insured  \\\n",
       "0   1    Male   44                1           28                   0   \n",
       "1   2    Male   76                1            3                   0   \n",
       "2   3    Male   47                1           28                   0   \n",
       "3   4    Male   21                1           11                   1   \n",
       "4   5  Female   29                1           41                   1   \n",
       "\n",
       "        vehicle_age  vehicle_damage  annual_premium  policy_sales_channel  \\\n",
       "0      over_2_years               1         40454.0                    26   \n",
       "1  between_1_2_year               0         33536.0                    26   \n",
       "2      over_2_years               1         38294.0                    26   \n",
       "3      below_1_year               0         28619.0                   152   \n",
       "4      below_1_year               0         27496.0                   152   \n",
       "\n",
       "   vintage  response  \n",
       "0      217         1  \n",
       "1      183         0  \n",
       "2       27         1  \n",
       "3      203         0  \n",
       "4       39         0  "
      ]
     },
     "execution_count": 13,
     "metadata": {},
     "output_type": "execute_result"
    }
   ],
   "source": [
    "#vehicle_damage\n",
    "df2['vehicle_damage'] = df2['vehicle_damage'].apply(lambda x: 0 if x == 'No' else 1)\n",
    "\n",
    "#vehicle_age\n",
    "df2['vehicle_age'] = df2['vehicle_age'].apply(lambda x: 'over_2_years' if x == '> 2 Years' else \n",
    "                                              'between_1_2_year' if x == '1-2 Year' else 'below_1_year' )\n",
    "\n",
    "df2.head()"
   ]
  },
  {
   "cell_type": "markdown",
   "id": "alike-corrections",
   "metadata": {},
   "source": [
    "# 3.0. Data Filtering"
   ]
  },
  {
   "cell_type": "code",
   "execution_count": 14,
   "id": "southwest-booking",
   "metadata": {
    "ExecuteTime": {
     "end_time": "2021-08-06T23:13:44.462320Z",
     "start_time": "2021-08-06T23:13:44.426333Z"
    }
   },
   "outputs": [],
   "source": [
    "df3 = df2.copy()"
   ]
  },
  {
   "cell_type": "markdown",
   "id": "polish-horror",
   "metadata": {},
   "source": [
    "# 4.0. Exploratory Data Analysis (EDA)"
   ]
  },
  {
   "cell_type": "code",
   "execution_count": 15,
   "id": "modern-furniture",
   "metadata": {
    "ExecuteTime": {
     "end_time": "2021-08-06T23:13:47.352044Z",
     "start_time": "2021-08-06T23:13:47.315053Z"
    }
   },
   "outputs": [],
   "source": [
    "df4 = df3.copy()"
   ]
  },
  {
   "cell_type": "markdown",
   "id": "stock-governor",
   "metadata": {},
   "source": [
    "## 4.1. Univariate Analysis\n",
    "\n"
   ]
  },
  {
   "cell_type": "markdown",
   "id": "retained-front",
   "metadata": {},
   "source": [
    "### 4.1.1. Response Variable"
   ]
  },
  {
   "cell_type": "markdown",
   "id": "effective-translator",
   "metadata": {
    "ExecuteTime": {
     "end_time": "2021-07-30T14:05:27.336081Z",
     "start_time": "2021-07-30T14:05:27.316013Z"
    }
   },
   "source": [
    "- Response: many more negative (0) than positive(1) responses - unbalaced data - commom but have to balance it for ML model, or it will have too maby false positive\n",
    "- Gender: df contains male (54%) female (46) - response yes (1) Female 4.77 % over Male 7.48 % **slightly difference**\n",
    "- Age: (response = 1)  quartil 25%=\tuntil 35 y     50%=\tuntil 43y    75%= \tuntil 51\n",
    "- driving_ license =  1: 99,8%  0: < 1%   (unbalanced data may cause bias)\n",
    "- region_ code = region 28 is 27.9% of the df,  region 8 is 8,9%. Some reagion (5) are more willing to  hire an insurance than others( 1,64% median only). Region 28, even thought is the biggest one, they are more willing  to NOT hire an insurance.\n",
    "- Previous insured = 99% of one condition, **may generate viés**\n",
    "- vehicle_age - older vehicle are more insured \n",
    "- vehicle_damage - vehicle that had already been damaged are more likely to hire an insurance\n",
    "- annual premium - median $31669, Q3 39.400 - very small difference from annual premium over 30.00 and response equal to 1 (3%) over annual premium less than 30.000\n",
    "- policy sales channel - channel 26 more response 1\n",
    "-vintage - no relation found to response ==1\n"
   ]
  },
  {
   "cell_type": "code",
   "execution_count": 74,
   "id": "choice-structure",
   "metadata": {
    "ExecuteTime": {
     "end_time": "2021-08-02T20:53:22.922715Z",
     "start_time": "2021-08-02T20:53:22.908717Z"
    }
   },
   "outputs": [],
   "source": [
    "# PROFILE  \n",
    "\n",
    "#profile = ProfileReport( df4 )\n",
    "#profile.to_file( 'output_v2.html' )"
   ]
  },
  {
   "cell_type": "code",
   "execution_count": 75,
   "id": "going-official",
   "metadata": {
    "ExecuteTime": {
     "end_time": "2021-08-02T20:53:23.606603Z",
     "start_time": "2021-08-02T20:53:22.925715Z"
    },
    "cell_style": "split"
   },
   "outputs": [
    {
     "data": {
      "image/png": "[encoded data removed]",
      "text/plain": [
       "<Figure size 360x360 with 1 Axes>"
      ]
     },
     "metadata": {
      "needs_background": "light"
     },
     "output_type": "display_data"
    }
   ],
   "source": [
    "# analisar o label\n",
    "sns.displot(df4['response'], kde=False);"
   ]
  },
  {
   "cell_type": "code",
   "execution_count": 19,
   "id": "enabling-facial",
   "metadata": {
    "ExecuteTime": {
     "end_time": "2021-08-03T15:53:15.737816Z",
     "start_time": "2021-08-03T15:53:15.715821Z"
    },
    "cell_style": "split"
   },
   "outputs": [
    {
     "data": {
      "text/plain": [
       "0    334399\n",
       "1     46710\n",
       "Name: response, dtype: int64"
      ]
     },
     "execution_count": 19,
     "metadata": {},
     "output_type": "execute_result"
    }
   ],
   "source": [
    "df4['response'].value_counts()"
   ]
  },
  {
   "cell_type": "markdown",
   "id": "earlier-knight",
   "metadata": {
    "cell_style": "split"
   },
   "source": [
    "**Unbalanced data**"
   ]
  },
  {
   "cell_type": "code",
   "execution_count": 76,
   "id": "nominated-asset",
   "metadata": {
    "ExecuteTime": {
     "end_time": "2021-08-02T20:53:23.813552Z",
     "start_time": "2021-08-02T20:53:23.610553Z"
    }
   },
   "outputs": [
    {
     "data": {
      "text/html": [
       "<div>\n",
       "<style scoped>\n",
       "    .dataframe tbody tr th:only-of-type {\n",
       "        vertical-align: middle;\n",
       "    }\n",
       "\n",
       "    .dataframe tbody tr th {\n",
       "        vertical-align: top;\n",
       "    }\n",
       "\n",
       "    .dataframe thead th {\n",
       "        text-align: right;\n",
       "    }\n",
       "</style>\n",
       "<table border=\"1\" class=\"dataframe\">\n",
       "  <thead>\n",
       "    <tr style=\"text-align: right;\">\n",
       "      <th></th>\n",
       "      <th></th>\n",
       "      <th>quantity</th>\n",
       "      <th>Age</th>\n",
       "      <th>Premium</th>\n",
       "      <th>Vintage</th>\n",
       "    </tr>\n",
       "    <tr>\n",
       "      <th>response</th>\n",
       "      <th>region_code</th>\n",
       "      <th></th>\n",
       "      <th></th>\n",
       "      <th></th>\n",
       "      <th></th>\n",
       "    </tr>\n",
       "  </thead>\n",
       "  <tbody>\n",
       "    <tr>\n",
       "      <th rowspan=\"5\" valign=\"top\">0</th>\n",
       "      <th>1</th>\n",
       "      <td>899</td>\n",
       "      <td>45.0</td>\n",
       "      <td>2660.351502</td>\n",
       "      <td>154.545050</td>\n",
       "    </tr>\n",
       "    <tr>\n",
       "      <th>31</th>\n",
       "      <td>1763</td>\n",
       "      <td>43.0</td>\n",
       "      <td>2673.854793</td>\n",
       "      <td>158.567782</td>\n",
       "    </tr>\n",
       "    <tr>\n",
       "      <th>48</th>\n",
       "      <td>4204</td>\n",
       "      <td>49.0</td>\n",
       "      <td>2677.646289</td>\n",
       "      <td>154.920314</td>\n",
       "    </tr>\n",
       "    <tr>\n",
       "      <th>20</th>\n",
       "      <td>1712</td>\n",
       "      <td>47.0</td>\n",
       "      <td>2747.074766</td>\n",
       "      <td>152.521028</td>\n",
       "    </tr>\n",
       "    <tr>\n",
       "      <th>0</th>\n",
       "      <td>1847</td>\n",
       "      <td>46.0</td>\n",
       "      <td>2863.350839</td>\n",
       "      <td>155.918787</td>\n",
       "    </tr>\n",
       "    <tr>\n",
       "      <th rowspan=\"9\" valign=\"top\">1</th>\n",
       "      <th>48</th>\n",
       "      <td>477</td>\n",
       "      <td>47.0</td>\n",
       "      <td>2867.400419</td>\n",
       "      <td>155.542977</td>\n",
       "    </tr>\n",
       "    <tr>\n",
       "      <th>31</th>\n",
       "      <td>197</td>\n",
       "      <td>44.0</td>\n",
       "      <td>2872.690355</td>\n",
       "      <td>149.609137</td>\n",
       "    </tr>\n",
       "    <tr>\n",
       "      <th>20</th>\n",
       "      <td>223</td>\n",
       "      <td>45.0</td>\n",
       "      <td>3047.044843</td>\n",
       "      <td>159.430493</td>\n",
       "    </tr>\n",
       "    <tr>\n",
       "      <th>1</th>\n",
       "      <td>109</td>\n",
       "      <td>45.0</td>\n",
       "      <td>3131.376147</td>\n",
       "      <td>157.889908</td>\n",
       "    </tr>\n",
       "    <tr>\n",
       "      <th>0</th>\n",
       "      <td>174</td>\n",
       "      <td>48.0</td>\n",
       "      <td>5002.798851</td>\n",
       "      <td>159.310345</td>\n",
       "    </tr>\n",
       "    <tr>\n",
       "      <th>44</th>\n",
       "      <td>33</td>\n",
       "      <td>36.0</td>\n",
       "      <td>21089.515152</td>\n",
       "      <td>176.363636</td>\n",
       "    </tr>\n",
       "    <tr>\n",
       "      <th>12</th>\n",
       "      <td>312</td>\n",
       "      <td>39.0</td>\n",
       "      <td>21878.336538</td>\n",
       "      <td>153.858974</td>\n",
       "    </tr>\n",
       "    <tr>\n",
       "      <th>16</th>\n",
       "      <td>134</td>\n",
       "      <td>34.5</td>\n",
       "      <td>21915.417910</td>\n",
       "      <td>152.791045</td>\n",
       "    </tr>\n",
       "    <tr>\n",
       "      <th>23</th>\n",
       "      <td>300</td>\n",
       "      <td>40.0</td>\n",
       "      <td>22702.416667</td>\n",
       "      <td>148.883333</td>\n",
       "    </tr>\n",
       "    <tr>\n",
       "      <th rowspan=\"3\" valign=\"top\">0</th>\n",
       "      <th>27</th>\n",
       "      <td>2614</td>\n",
       "      <td>25.0</td>\n",
       "      <td>22811.244836</td>\n",
       "      <td>151.763198</td>\n",
       "    </tr>\n",
       "    <tr>\n",
       "      <th>38</th>\n",
       "      <td>1637</td>\n",
       "      <td>44.0</td>\n",
       "      <td>23118.836286</td>\n",
       "      <td>156.795968</td>\n",
       "    </tr>\n",
       "    <tr>\n",
       "      <th>16</th>\n",
       "      <td>1873</td>\n",
       "      <td>25.0</td>\n",
       "      <td>23143.487987</td>\n",
       "      <td>156.119060</td>\n",
       "    </tr>\n",
       "    <tr>\n",
       "      <th rowspan=\"3\" valign=\"top\">1</th>\n",
       "      <th>3</th>\n",
       "      <td>1181</td>\n",
       "      <td>39.0</td>\n",
       "      <td>23189.732430</td>\n",
       "      <td>154.568163</td>\n",
       "    </tr>\n",
       "    <tr>\n",
       "      <th>30</th>\n",
       "      <td>900</td>\n",
       "      <td>35.0</td>\n",
       "      <td>23218.614444</td>\n",
       "      <td>156.186667</td>\n",
       "    </tr>\n",
       "    <tr>\n",
       "      <th>25</th>\n",
       "      <td>107</td>\n",
       "      <td>42.0</td>\n",
       "      <td>23259.392523</td>\n",
       "      <td>153.859813</td>\n",
       "    </tr>\n",
       "  </tbody>\n",
       "</table>\n",
       "</div>"
      ],
      "text/plain": [
       "                      quantity   Age       Premium     Vintage\n",
       "response region_code                                          \n",
       "0        1                 899  45.0   2660.351502  154.545050\n",
       "         31               1763  43.0   2673.854793  158.567782\n",
       "         48               4204  49.0   2677.646289  154.920314\n",
       "         20               1712  47.0   2747.074766  152.521028\n",
       "         0                1847  46.0   2863.350839  155.918787\n",
       "1        48                477  47.0   2867.400419  155.542977\n",
       "         31                197  44.0   2872.690355  149.609137\n",
       "         20                223  45.0   3047.044843  159.430493\n",
       "         1                 109  45.0   3131.376147  157.889908\n",
       "         0                 174  48.0   5002.798851  159.310345\n",
       "         44                 33  36.0  21089.515152  176.363636\n",
       "         12                312  39.0  21878.336538  153.858974\n",
       "         16                134  34.5  21915.417910  152.791045\n",
       "         23                300  40.0  22702.416667  148.883333\n",
       "0        27               2614  25.0  22811.244836  151.763198\n",
       "         38               1637  44.0  23118.836286  156.795968\n",
       "         16               1873  25.0  23143.487987  156.119060\n",
       "1        3                1181  39.0  23189.732430  154.568163\n",
       "         30                900  35.0  23218.614444  156.186667\n",
       "         25                107  42.0  23259.392523  153.859813"
      ]
     },
     "execution_count": 76,
     "metadata": {},
     "output_type": "execute_result"
    }
   ],
   "source": [
    "df4.groupby(['response', 'region_code']).agg(quantity= ('id', 'count'), Age= ('age', 'median'),Premium=('annual_premium', 'mean'), Vintage=('vintage', 'mean')).sort_values('Premium').head(20)\n"
   ]
  },
  {
   "cell_type": "markdown",
   "id": "stable-morrison",
   "metadata": {},
   "source": [
    "### 4.1.2. Numerical Variable"
   ]
  },
  {
   "cell_type": "code",
   "execution_count": 77,
   "id": "mobile-deposit",
   "metadata": {
    "ExecuteTime": {
     "end_time": "2021-08-02T20:53:31.834656Z",
     "start_time": "2021-08-02T20:53:29.185236Z"
    }
   },
   "outputs": [
    {
     "data": {
      "image/png": "[encoded data removed]",
      "text/plain": [
       "<Figure size 1152x864 with 9 Axes>"
      ]
     },
     "metadata": {
      "needs_background": "light"
     },
     "output_type": "display_data"
    }
   ],
   "source": [
    "num_attributes.hist( bins=25, figsize= (16,12) );"
   ]
  },
  {
   "cell_type": "code",
   "execution_count": null,
   "id": "stopped-proposition",
   "metadata": {
    "ExecuteTime": {
     "end_time": "2021-08-02T20:47:10.092746Z",
     "start_time": "2021-08-02T20:47:02.521Z"
    }
   },
   "outputs": [],
   "source": [
    "# Age\n",
    "plt.subplots(figsize=(8, 4))\n",
    "sns.boxplot( x='response', y='age', data=df4 );"
   ]
  },
  {
   "cell_type": "code",
   "execution_count": null,
   "id": "alpha-bolivia",
   "metadata": {
    "ExecuteTime": {
     "end_time": "2021-08-02T20:47:10.097750Z",
     "start_time": "2021-08-02T20:47:02.528Z"
    }
   },
   "outputs": [],
   "source": [
    "aux = df4[(df4['response'] == 1)]\n",
    "fig = plt.subplots(figsize = (15,4))\n",
    "sns.countplot(x = 'age', data = aux);"
   ]
  },
  {
   "cell_type": "code",
   "execution_count": null,
   "id": "great-translation",
   "metadata": {
    "ExecuteTime": {
     "end_time": "2021-08-02T20:47:10.100742Z",
     "start_time": "2021-08-02T20:47:02.536Z"
    },
    "cell_style": "split"
   },
   "outputs": [],
   "source": [
    "# Response = 1 \n",
    "aux[['age']].describe()"
   ]
  },
  {
   "cell_type": "code",
   "execution_count": null,
   "id": "egyptian-balance",
   "metadata": {
    "ExecuteTime": {
     "end_time": "2021-08-02T20:47:10.103744Z",
     "start_time": "2021-08-02T20:47:02.542Z"
    },
    "cell_style": "split"
   },
   "outputs": [],
   "source": [
    "# Response = 0 \n",
    "aux0 = df4.loc[df4['response'] == 0, 'age']\n",
    "aux0.describe()"
   ]
  },
  {
   "cell_type": "code",
   "execution_count": null,
   "id": "coordinated-following",
   "metadata": {
    "ExecuteTime": {
     "end_time": "2021-08-02T20:47:10.107742Z",
     "start_time": "2021-08-02T20:47:02.548Z"
    },
    "cell_style": "center"
   },
   "outputs": [],
   "source": [
    "fig, axs = plt.subplots(ncols= 2, figsize = (15,5))\n",
    "aux00 = df4.loc[df4['response'] == 0, 'age']\n",
    "sns.histplot( aux00, ax = axs[0] )\n",
    "\n",
    "\n",
    "aux1 = df4.loc[df4['response'] == 1, 'age']\n",
    "sns.histplot( aux1, ax = axs[1]  );\n",
    "plt.title('Response 1 ');"
   ]
  },
  {
   "cell_type": "code",
   "execution_count": null,
   "id": "scheduled-evolution",
   "metadata": {
    "ExecuteTime": {
     "end_time": "2021-08-02T20:47:10.111741Z",
     "start_time": "2021-08-02T20:47:02.554Z"
    }
   },
   "outputs": [],
   "source": [
    "more_equal_35 =df4.loc[(df4['age'] >= 35),:].groupby('response').count()['age'].reset_index().rename(columns={\"response\": \"response\", \"age\": \"more_than_35\"})\n",
    "less_than_35 = df4.loc[(df4['age'] < 35),:].groupby('response').count()['age'].reset_index()\n",
    "less_than_35.columns= ['response', 'less_than_35']\n",
    "age_aux = more_equal_35.merge(less_than_35, how='left', on='response')\n",
    "age_aux.plot.bar(rot=0);"
   ]
  },
  {
   "cell_type": "code",
   "execution_count": null,
   "id": "handmade-opening",
   "metadata": {
    "ExecuteTime": {
     "end_time": "2021-08-02T20:47:10.114741Z",
     "start_time": "2021-08-02T20:47:02.562Z"
    }
   },
   "outputs": [],
   "source": [
    "aux = df4.loc[df4['age'] >= 35, :]\n",
    "sns.displot(x= 'age',hue=\"response\", data= aux);"
   ]
  },
  {
   "cell_type": "code",
   "execution_count": null,
   "id": "destroyed-marker",
   "metadata": {
    "ExecuteTime": {
     "end_time": "2021-08-02T20:47:10.117739Z",
     "start_time": "2021-08-02T20:47:02.569Z"
    },
    "cell_style": "center"
   },
   "outputs": [],
   "source": [
    "more_equal_70 =df4.loc[(df4['age'] >= 70),:].groupby('response').count()['age'].reset_index().rename(columns={\"response\": \"response\", \"age\": \"more_than_70\"})\n",
    "less_than_70 = df4.loc[(df4['age'] < 70),:].groupby('response').count()['age'].reset_index()\n",
    "less_than_70.columns= ['response', 'less_than_70']\n",
    "age_aux = more_equal_70.merge(less_than_70, how='left', on='response')\n"
   ]
  },
  {
   "cell_type": "code",
   "execution_count": null,
   "id": "polish-jefferson",
   "metadata": {
    "ExecuteTime": {
     "end_time": "2021-08-02T20:47:10.120737Z",
     "start_time": "2021-08-02T20:47:02.577Z"
    },
    "cell_style": "split"
   },
   "outputs": [],
   "source": [
    "age_aux.plot.bar(rot=0);"
   ]
  },
  {
   "cell_type": "code",
   "execution_count": null,
   "id": "checked-fault",
   "metadata": {
    "ExecuteTime": {
     "end_time": "2021-08-02T20:47:10.123739Z",
     "start_time": "2021-08-02T20:47:02.586Z"
    },
    "cell_style": "split"
   },
   "outputs": [],
   "source": [
    "age_aux"
   ]
  },
  {
   "cell_type": "code",
   "execution_count": null,
   "id": "devoted-brooklyn",
   "metadata": {
    "ExecuteTime": {
     "end_time": "2021-08-02T20:47:10.126738Z",
     "start_time": "2021-08-02T20:47:02.598Z"
    }
   },
   "outputs": [],
   "source": [
    "more_70 = df4.loc[df4['age'] >= 70, :]\n",
    "more_70.groupby(['response']).agg(Percentage=('age', 'sum')).apply(lambda x: np.round(100 * x / float(x.sum()),2))"
   ]
  },
  {
   "cell_type": "markdown",
   "id": "competitive-affiliation",
   "metadata": {},
   "source": [
    "1. Older people ( more than 35 year old) are more likely to hire an insurance?\n",
    "**Yes, but the interest decreases after a certain age( 50th´s)**"
   ]
  },
  {
   "cell_type": "markdown",
   "id": "confidential-liability",
   "metadata": {},
   "source": [
    "4. Old people (over 70 years old) are not interested in car insurance ?\n",
    "**YES, people older than 70 years old are NOT interested in car insurance**"
   ]
  },
  {
   "cell_type": "code",
   "execution_count": null,
   "id": "sized-canon",
   "metadata": {
    "ExecuteTime": {
     "end_time": "2021-08-02T20:47:10.128737Z",
     "start_time": "2021-08-02T20:47:02.611Z"
    }
   },
   "outputs": [],
   "source": [
    "# Annul income\n",
    "plt.subplots(figsize=(8, 4))\n",
    "sns.boxplot(x='response', y='annual_premium', data=df4);"
   ]
  },
  {
   "cell_type": "markdown",
   "id": "partial-clinic",
   "metadata": {},
   "source": [
    "- too many outliers, try to zoon it"
   ]
  },
  {
   "cell_type": "code",
   "execution_count": null,
   "id": "naked-worship",
   "metadata": {
    "ExecuteTime": {
     "end_time": "2021-08-02T20:47:10.131737Z",
     "start_time": "2021-08-02T20:47:02.627Z"
    }
   },
   "outputs": [],
   "source": [
    "df4 = df4[(df4['annual_premium'] > 10000) &(df4['annual_premium'] < 100000)]"
   ]
  },
  {
   "cell_type": "code",
   "execution_count": null,
   "id": "nutritional-allocation",
   "metadata": {
    "ExecuteTime": {
     "end_time": "2021-08-02T20:47:10.133735Z",
     "start_time": "2021-08-02T20:47:02.634Z"
    },
    "cell_style": "split"
   },
   "outputs": [],
   "source": [
    "aux00 = df4.loc[df4['response'] == 0, 'annual_premium']\n",
    "sns.histplot( aux00 );"
   ]
  },
  {
   "cell_type": "code",
   "execution_count": null,
   "id": "blind-coast",
   "metadata": {
    "ExecuteTime": {
     "end_time": "2021-08-02T20:47:10.138734Z",
     "start_time": "2021-08-02T20:47:02.649Z"
    },
    "cell_style": "split"
   },
   "outputs": [],
   "source": [
    "aux00 = df4.loc[df4['response'] == 1, 'annual_premium']\n",
    "sns.histplot( aux00 );"
   ]
  },
  {
   "cell_type": "code",
   "execution_count": null,
   "id": "alone-rebound",
   "metadata": {
    "ExecuteTime": {
     "end_time": "2021-08-02T20:47:10.142734Z",
     "start_time": "2021-08-02T20:47:02.657Z"
    },
    "cell_style": "split"
   },
   "outputs": [],
   "source": [
    "aux = df4.loc[(df4['annual_premium'] >= 30000), :]\n",
    "axes =aux.groupby('response').count()['annual_premium'].plot.bar(rot=0, subplots=True);\n",
    "axes[0].legend(loc=1)\n",
    "plt.title('Annual Premium more than $30.000');"
   ]
  },
  {
   "cell_type": "code",
   "execution_count": null,
   "id": "divine-jerusalem",
   "metadata": {
    "ExecuteTime": {
     "end_time": "2021-08-02T20:47:10.148732Z",
     "start_time": "2021-08-02T20:47:02.675Z"
    },
    "cell_style": "split"
   },
   "outputs": [],
   "source": [
    "aux2= df4.loc[(df4['annual_premium'] < 30000), :]\n",
    "axes =aux2.groupby('response').count()['annual_premium'].plot.bar(rot=0, subplots=True);\n",
    "axes[0].legend(loc=1)\n",
    "plt.title('Annual Premium less than $30.000');"
   ]
  },
  {
   "cell_type": "code",
   "execution_count": null,
   "id": "understanding-engineering",
   "metadata": {
    "ExecuteTime": {
     "end_time": "2021-08-02T20:47:10.153731Z",
     "start_time": "2021-08-02T20:47:02.686Z"
    },
    "cell_style": "split"
   },
   "outputs": [],
   "source": [
    "percent_more= aux.groupby('response').count()['annual_premium'].reset_index()\n",
    "soma= percent_more['annual_premium'].sum()\n",
    "percent_more['percent'] = percent_more['annual_premium'].apply(lambda x: np.round(x/soma, 2) )\n",
    "percent_more\n"
   ]
  },
  {
   "cell_type": "code",
   "execution_count": null,
   "id": "changed-mailman",
   "metadata": {
    "ExecuteTime": {
     "end_time": "2021-08-02T20:47:10.157731Z",
     "start_time": "2021-08-02T20:47:02.694Z"
    },
    "cell_style": "split"
   },
   "outputs": [],
   "source": [
    "percent_less= aux2.groupby('response').count()['annual_premium'].reset_index()\n",
    "soma_less= percent_less['annual_premium'].sum()\n",
    "percent_less['percent'] = percent_less['annual_premium'].apply(lambda x: np.round(x/soma_less,2 ) )\n",
    "percent_less"
   ]
  },
  {
   "cell_type": "markdown",
   "id": "graduate-jesus",
   "metadata": {
    "ExecuteTime": {
     "end_time": "2021-07-27T01:18:05.540304Z",
     "start_time": "2021-07-27T01:18:05.509101Z"
    }
   },
   "source": [
    "2. annual premium $30.000 or more are more likely to take out insurance\n",
    "\n",
    "    Too many ouliers- solution: annual_premium greater than 10.000 and lower than 100000\n",
    "\n",
    "   **YES, BUT less than 0,03 difference between them**"
   ]
  },
  {
   "cell_type": "code",
   "execution_count": null,
   "id": "composed-defensive",
   "metadata": {
    "ExecuteTime": {
     "end_time": "2021-08-02T20:47:10.160729Z",
     "start_time": "2021-08-02T20:47:02.706Z"
    }
   },
   "outputs": [],
   "source": [
    "# driving license\n",
    "plt.subplots(figsize=(8, 4))\n",
    "aux = df4[['driving_license', 'response']].groupby( 'response' ).sum().reset_index()\n",
    "sns.barplot( x='response', y='driving_license', data=aux );\n"
   ]
  },
  {
   "cell_type": "code",
   "execution_count": null,
   "id": "three-tuner",
   "metadata": {
    "ExecuteTime": {
     "end_time": "2021-08-02T20:47:10.164728Z",
     "start_time": "2021-08-02T20:47:02.714Z"
    },
    "cell_style": "split"
   },
   "outputs": [],
   "source": [
    "# region code\n",
    "aux0 = df4[['id', 'region_code', 'response']].groupby( ['region_code', 'response'] ).count().reset_index()\n",
    "sns.scatterplot( x='region_code', y='id', hue='response', data=aux0 )\n"
   ]
  },
  {
   "cell_type": "code",
   "execution_count": null,
   "id": "agreed-boxing",
   "metadata": {
    "ExecuteTime": {
     "end_time": "2021-08-02T20:47:10.167728Z",
     "start_time": "2021-08-02T20:47:02.720Z"
    },
    "cell_style": "split"
   },
   "outputs": [],
   "source": [
    "sns.histplot(df4['region_code']);"
   ]
  },
  {
   "cell_type": "code",
   "execution_count": null,
   "id": "junior-assurance",
   "metadata": {
    "ExecuteTime": {
     "end_time": "2021-08-02T20:47:10.170727Z",
     "start_time": "2021-08-02T20:47:02.726Z"
    }
   },
   "outputs": [],
   "source": [
    "aux = df4[(df4['region_code'] != 28) & (df4['response'] == 1)]\n",
    "fig = plt.subplots(figsize = (15,4))\n",
    "sns.countplot(x = 'region_code', data = aux);"
   ]
  },
  {
   "cell_type": "code",
   "execution_count": null,
   "id": "generous-humidity",
   "metadata": {
    "ExecuteTime": {
     "end_time": "2021-08-02T20:47:10.173725Z",
     "start_time": "2021-08-02T20:47:02.733Z"
    }
   },
   "outputs": [],
   "source": [
    "aux_region_1 = df4.loc[df4['response'] == 1, :].groupby([ 'region_code']).agg(Regiao= ('region_code', 'count')).reset_index()\n",
    "\n",
    "perc_region_code_yes =aux_region_1[['Regiao']].apply(lambda x: np.round(100 * x / float(x.sum()),2)).reset_index()\n",
    "perc_region_code_yes.columns = ['region_code', 'percentage']\n",
    "\n",
    "\n",
    "aux_region_0 = df4.loc[df4['response'] == 0, :].groupby([ 'region_code']).agg(Regiao= ('region_code', 'count')).reset_index()\n",
    "\n",
    "perc_region_code_no = aux_region_0[['Regiao']].apply(lambda x: np.round(100 * x / float(x.sum()),2)).reset_index()\n",
    "perc_region_code_no.columns=['region_code', 'percentage']\n",
    "\n",
    "\n",
    "\n",
    "m =pd.merge(perc_region_code_yes, perc_region_code_no, how='left', on='region_code', suffixes=('response_0', 'Response_1') )\n",
    "m['dif'] = abs(m['percentageresponse_0'] - m['percentageResponse_1'])\n",
    "\n",
    "m[['percentageresponse_0', 'percentageResponse_1']].plot();\n"
   ]
  },
  {
   "cell_type": "code",
   "execution_count": null,
   "id": "heavy-soccer",
   "metadata": {
    "ExecuteTime": {
     "end_time": "2021-08-02T20:47:10.176725Z",
     "start_time": "2021-08-02T20:47:02.741Z"
    }
   },
   "outputs": [],
   "source": [
    "m['dif'] = abs(m['percentageresponse_0'] - m['percentageResponse_1'])\n",
    "#m.style.highlight_max( color='lightgreen', axis=0, subset=['dif'] )\n",
    "m.loc[m['dif'] >= 1, :]"
   ]
  },
  {
   "cell_type": "markdown",
   "id": "indonesian-nudist",
   "metadata": {},
   "source": [
    "3. The region where people live have some influency on hiring or not an insurance?\n",
    "**YES, but there are only  5 regions where it´s possible to valuate a predisposition based on the region_code and it differs (median) only 1,64 %, except from region 28 where the diference on percental are 26,77% more on response 0 over response 1**"
   ]
  },
  {
   "cell_type": "code",
   "execution_count": null,
   "id": "sorted-flavor",
   "metadata": {
    "ExecuteTime": {
     "end_time": "2021-08-02T20:47:10.180725Z",
     "start_time": "2021-08-02T20:47:02.753Z"
    }
   },
   "outputs": [],
   "source": [
    "#region 28 represents 27.9% of the database\n",
    "df4.loc[df4['region_code'] == 28, :].groupby([  'response']).agg(quantity= ('id', 'count'),Age= ('age', 'median'),Premium=('annual_premium', 'median'), Vintage=('vintage', 'median')).sort_values('Premium')\n"
   ]
  },
  {
   "cell_type": "code",
   "execution_count": null,
   "id": "mathematical-police",
   "metadata": {
    "ExecuteTime": {
     "end_time": "2021-08-02T20:47:10.183724Z",
     "start_time": "2021-08-02T20:47:02.760Z"
    }
   },
   "outputs": [],
   "source": [
    "# region 8 \n",
    "df4.loc[df4['region_code'] == 8, :].groupby([  'response']).agg(quantity= ('id', 'count'),Age= ('age', 'median'),Premium=('annual_premium', 'median'), Vintage=('vintage', 'median')).sort_values('Premium')\n"
   ]
  },
  {
   "cell_type": "code",
   "execution_count": null,
   "id": "corporate-therapy",
   "metadata": {
    "ExecuteTime": {
     "end_time": "2021-08-02T20:47:10.185723Z",
     "start_time": "2021-08-02T20:47:02.768Z"
    }
   },
   "outputs": [],
   "source": [
    "df4.loc[df4['region_code'] == 15, :].groupby([  'response']).agg(quantity= ('id', 'count'),Age= ('age', 'median'),Premium=('annual_premium', 'median'), Vintage=('vintage', 'median')).sort_values('Premium')\n"
   ]
  },
  {
   "cell_type": "code",
   "execution_count": null,
   "id": "isolated-fetish",
   "metadata": {
    "ExecuteTime": {
     "end_time": "2021-08-02T20:47:10.188725Z",
     "start_time": "2021-08-02T20:47:02.776Z"
    }
   },
   "outputs": [],
   "source": [
    "# Previous insured\n",
    "pd.crosstab(df4['previously_insured'], df4['response'] ).apply( lambda x: x / x.sum(), axis=1 )"
   ]
  },
  {
   "cell_type": "markdown",
   "id": "underlying-setting",
   "metadata": {},
   "source": [
    "- 99% of one condition, may generate viés "
   ]
  },
  {
   "cell_type": "code",
   "execution_count": null,
   "id": "surprising-timeline",
   "metadata": {
    "ExecuteTime": {
     "end_time": "2021-08-02T20:47:10.199719Z",
     "start_time": "2021-08-02T20:47:02.786Z"
    }
   },
   "outputs": [],
   "source": [
    "df4['vehicle_damage'].unique()"
   ]
  },
  {
   "cell_type": "code",
   "execution_count": null,
   "id": "under-cardiff",
   "metadata": {
    "ExecuteTime": {
     "end_time": "2021-08-02T20:47:10.202719Z",
     "start_time": "2021-08-02T20:47:02.792Z"
    }
   },
   "outputs": [],
   "source": [
    "#'policy_sales_channel'\n",
    "plt.figure( figsize=(24, 12 ))\n",
    "aux = df4[['policy_sales_channel', 'response']].groupby( 'policy_sales_channel').sum().reset_index()\n",
    "sns.barplot( x='response', y='policy_sales_channel', data=aux );"
   ]
  },
  {
   "cell_type": "code",
   "execution_count": null,
   "id": "starting-manufacturer",
   "metadata": {
    "ExecuteTime": {
     "end_time": "2021-08-02T20:47:10.205718Z",
     "start_time": "2021-08-02T20:47:02.798Z"
    }
   },
   "outputs": [],
   "source": [
    "plt.figure( figsize=(24, 12 ))\n",
    "ax =df4.groupby([  'response', 'policy_sales_channel']).agg(quantity= ('id', 'count')).reset_index()\n",
    "a= ax.loc[(ax['response']==1)& (ax['quantity']> 10)]\n",
    "sns.barplot(  x='policy_sales_channel',y='quantity', data=a );\n",
    "plt.xticks(\n",
    "    rotation=65, \n",
    "    horizontalalignment='right',\n",
    "    fontweight='light',\n",
    "    fontsize='x-large'  \n",
    ");\n"
   ]
  },
  {
   "cell_type": "code",
   "execution_count": null,
   "id": "quiet-algorithm",
   "metadata": {
    "ExecuteTime": {
     "end_time": "2021-08-02T20:47:10.208717Z",
     "start_time": "2021-08-02T20:47:02.805Z"
    }
   },
   "outputs": [],
   "source": [
    "plt.figure( figsize=(24, 12 ))\n",
    "ax =df4.groupby([  'response', 'policy_sales_channel']).agg(quantity= ('id', 'count')).reset_index()\n",
    "a= ax.loc[(ax['response']==0)& (ax['quantity']> 100)]\n",
    "sns.barplot(  x='policy_sales_channel',y='quantity', data=a );\n",
    "plt.xticks(\n",
    "    rotation=65, \n",
    "    horizontalalignment='right',\n",
    "    fontweight='light',\n",
    "    fontsize='x-large'  \n",
    ");"
   ]
  },
  {
   "cell_type": "markdown",
   "id": "productive-threshold",
   "metadata": {},
   "source": [
    "3. The more sales channel, more is the probability to response to an insurance proposal\n",
    "\n",
    "    **NO**"
   ]
  },
  {
   "cell_type": "code",
   "execution_count": null,
   "id": "brutal-testing",
   "metadata": {
    "ExecuteTime": {
     "end_time": "2021-08-02T20:47:10.211717Z",
     "start_time": "2021-08-02T20:47:02.815Z"
    }
   },
   "outputs": [],
   "source": [
    "df4.loc[(df4['policy_sales_channel'] == 26), :].groupby([  'response', 'region_code']).agg(quantity= ('id', 'count'),Age= ('age', 'median'),Premium=('annual_premium', 'median'), Vintage=('vintage', 'median')).sort_values('quantity', ascending= False).head(20)"
   ]
  },
  {
   "cell_type": "code",
   "execution_count": null,
   "id": "purple-sense",
   "metadata": {
    "ExecuteTime": {
     "end_time": "2021-08-02T20:47:10.214717Z",
     "start_time": "2021-08-02T20:47:02.822Z"
    }
   },
   "outputs": [],
   "source": [
    "# Vintage\n",
    "ax = df4.groupby([  'response', 'vintage']).agg(quantity= ('id', 'count')).reset_index()\n",
    "a= ax.loc[(ax['response'] ==1)]\n",
    "fig = plt.subplots(figsize = (15,4))\n",
    "sns.lineplot(  x='vintage',y='quantity', data=a );\n"
   ]
  },
  {
   "cell_type": "markdown",
   "id": "intensive-crossing",
   "metadata": {},
   "source": [
    "5. older customers of the insurance company are more likely to hire car insurance ?\n",
    "**No, there is no relation**"
   ]
  },
  {
   "cell_type": "markdown",
   "id": "induced-blackberry",
   "metadata": {},
   "source": [
    "### 4.1.3. Categorical Variable"
   ]
  },
  {
   "cell_type": "code",
   "execution_count": null,
   "id": "greenhouse-chicken",
   "metadata": {
    "ExecuteTime": {
     "end_time": "2021-08-02T20:47:10.216715Z",
     "start_time": "2021-08-02T20:47:02.832Z"
    }
   },
   "outputs": [],
   "source": [
    "#gender vehicle_age vehicle_damage\n",
    "\n",
    "plt.figure( figsize=(16, 12 ))\n",
    "# Gender\n",
    "\n",
    "plt.subplot( 2, 2, 1 )\n",
    "sns.countplot( df4['gender'] );\n",
    "\n",
    "plt.subplot( 2, 2, 2 )\n",
    "\n",
    "# Vehicle_age\n",
    "\n",
    "sns.countplot( df4['vehicle_age'] )\n",
    "\n",
    "\n",
    "\n"
   ]
  },
  {
   "cell_type": "code",
   "execution_count": null,
   "id": "relevant-polyester",
   "metadata": {
    "ExecuteTime": {
     "end_time": "2021-08-02T20:47:10.219714Z",
     "start_time": "2021-08-02T20:47:02.840Z"
    }
   },
   "outputs": [],
   "source": [
    "df4.groupby(['response', 'gender']).agg(Percentage=('gender', 'count')).apply(lambda x: np.round(100 * x / float(x.sum()),2))"
   ]
  },
  {
   "cell_type": "markdown",
   "id": "cardiac-journalism",
   "metadata": {},
   "source": [
    "4. Women are more likely to contract an insurance than men?\n",
    "\n",
    "    **NO, men are more likely**\n"
   ]
  },
  {
   "cell_type": "code",
   "execution_count": null,
   "id": "found-sound",
   "metadata": {
    "ExecuteTime": {
     "end_time": "2021-08-02T20:47:10.222715Z",
     "start_time": "2021-08-02T20:47:02.850Z"
    }
   },
   "outputs": [],
   "source": [
    "# vehicle_age\n",
    "\n",
    "pd.crosstab(df4['vehicle_age'], df4['response'] ).apply( lambda x: np.round(x / x.sum(), 2), axis=1 )"
   ]
  },
  {
   "cell_type": "markdown",
   "id": "valued-teach",
   "metadata": {},
   "source": [
    "Newer vehicles are more insured ?\n",
    "\n",
    "**NO, vehicle over 2 years are more insurance**\n"
   ]
  },
  {
   "cell_type": "code",
   "execution_count": null,
   "id": "choice-paris",
   "metadata": {
    "ExecuteTime": {
     "end_time": "2021-08-02T20:47:10.225713Z",
     "start_time": "2021-08-02T20:47:02.857Z"
    }
   },
   "outputs": [],
   "source": [
    "plt.figure( figsize=(10, 6 ))\n",
    "\n",
    "# vehicle damage\n",
    "a=df4.groupby('response').count()[['vehicle_damage']].reset_index()\n",
    "plt.pie(a['vehicle_damage'], labels =a['response'], autopct=\"%.1f%%\");\n",
    "plt.legend(title = \"response\");\n",
    "plt.title('Vehicle Damage');\n",
    "\n"
   ]
  },
  {
   "cell_type": "code",
   "execution_count": null,
   "id": "burning-explanation",
   "metadata": {
    "ExecuteTime": {
     "end_time": "2021-08-02T20:47:10.228713Z",
     "start_time": "2021-08-02T20:47:02.867Z"
    }
   },
   "outputs": [],
   "source": [
    "fig, axs = plt.subplots(figsize = (15,4))\n",
    "sns.countplot(x = df4['vehicle_damage'], hue = df4['response']);"
   ]
  },
  {
   "cell_type": "markdown",
   "id": "minute-fiber",
   "metadata": {},
   "source": [
    "5. People who have the vehicle damage are more likely to hire an insurance?\n",
    "\n",
    "    **Yes, comparing to people who has never had the veiche damaged**"
   ]
  },
  {
   "cell_type": "code",
   "execution_count": null,
   "id": "apart-figure",
   "metadata": {},
   "outputs": [],
   "source": []
  },
  {
   "cell_type": "markdown",
   "id": "white-sound",
   "metadata": {},
   "source": [
    "# 5.0. Data Preparation"
   ]
  },
  {
   "cell_type": "code",
   "execution_count": 16,
   "id": "modular-federation",
   "metadata": {
    "ExecuteTime": {
     "end_time": "2021-08-06T23:14:09.279866Z",
     "start_time": "2021-08-06T23:14:09.250872Z"
    }
   },
   "outputs": [],
   "source": [
    "df5 = df4.copy()"
   ]
  },
  {
   "cell_type": "code",
   "execution_count": 17,
   "id": "identified-chambers",
   "metadata": {
    "ExecuteTime": {
     "end_time": "2021-08-06T23:14:12.445121Z",
     "start_time": "2021-08-06T23:14:11.988227Z"
    }
   },
   "outputs": [],
   "source": [
    "X = df4.drop( 'response', axis=1 )\n",
    "y = df4['response'].copy() \n",
    "\n",
    "x_train, x_validation, y_train, y_validation = ms.train_test_split( X, y, test_size=0.20 )\n",
    "\n",
    "df5 = pd.concat( [x_train, y_train], axis=1 )"
   ]
  },
  {
   "cell_type": "markdown",
   "id": "entitled-compound",
   "metadata": {},
   "source": [
    "## 5.1. Standardization, Rescaling, Encoder"
   ]
  },
  {
   "cell_type": "code",
   "execution_count": null,
   "id": "clinical-sussex",
   "metadata": {},
   "outputs": [],
   "source": []
  },
  {
   "cell_type": "code",
   "execution_count": 18,
   "id": "cubic-bible",
   "metadata": {
    "ExecuteTime": {
     "end_time": "2021-08-06T23:14:15.688353Z",
     "start_time": "2021-08-06T23:14:14.915539Z"
    }
   },
   "outputs": [],
   "source": [
    "rs = pp.RobustScaler()\n",
    "x_train['annual_premium'] = rs.fit_transform( x_train[['annual_premium']].values )\n",
    "\n",
    "## ResCalling\n",
    "mms_age = pp.MinMaxScaler()\n",
    "mms_vintage = pp.MinMaxScaler()\n",
    "\n",
    "# Age\n",
    "x_train['age'] = mms_age.fit_transform( x_train[['age']].values )\n",
    "\n",
    "# vintage\n",
    "x_train['vintage'] = mms_vintage.fit_transform( x_train[['vintage']].values )\n",
    "\n",
    "## ENconder\n",
    "# gender - One Hot Encoding / Target Encoding\n",
    "\n",
    "encoder_gender =TargetEncoder()\n",
    "x_train['gender'] = encoder_gender.fit_transform(df5['gender'],df5['response'])\n",
    "\n",
    "# region_code - Target Encoding / Frequency Encoding\n",
    "target_encode_region_code = df5.groupby( 'region_code' )['response'].mean()\n",
    "x_train.loc[:, 'region_code'] = x_train['region_code'].map( target_encode_region_code )\n",
    "\n",
    "\n",
    "## vehicle_age - One Hot Encoding / Frequency Encoding\n",
    "x_train = pd.get_dummies( x_train, prefix='vehicle_age', columns=['vehicle_age'] )\n",
    "\n",
    "## policy_sales_channel - Target Encoding / Frequency Encoding\n",
    "fe_policy_sales_channel = x_train.groupby( 'policy_sales_channel' ).size() / len( x_train ) \n",
    "x_train.loc[:, 'policy_sales_channel'] = x_train['policy_sales_channel'].map( fe_policy_sales_channel )"
   ]
  },
  {
   "cell_type": "markdown",
   "id": "oriented-customs",
   "metadata": {
    "ExecuteTime": {
     "end_time": "2021-08-02T20:49:56.497452Z",
     "start_time": "2021-08-02T20:49:56.487458Z"
    }
   },
   "source": [
    "## 5.1 Resampling - target variable"
   ]
  },
  {
   "cell_type": "markdown",
   "id": "found-platform",
   "metadata": {},
   "source": [
    "**May cause Overfitting because the data sample is too small, but I will continue due to practice and checking proposal**"
   ]
  },
  {
   "cell_type": "markdown",
   "id": "frequent-equivalent",
   "metadata": {},
   "source": [
    "https://towardsdatascience.com/how-to-deal-with-imbalanced-data-in-python-f9b71aba53eb"
   ]
  },
  {
   "cell_type": "code",
   "execution_count": 25,
   "id": "caring-couple",
   "metadata": {
    "ExecuteTime": {
     "end_time": "2021-08-06T23:17:59.761749Z",
     "start_time": "2021-08-06T23:17:59.670773Z"
    }
   },
   "outputs": [
    {
     "name": "stdout",
     "output_type": "stream",
     "text": [
      "Before undersampling:  Counter({0: 267395, 1: 37492})\n"
     ]
    }
   ],
   "source": [
    "# summarize class distribution\n",
    "print(\"Before undersampling: \", Counter(y_train))"
   ]
  },
  {
   "cell_type": "code",
   "execution_count": 27,
   "id": "fossil-panic",
   "metadata": {
    "ExecuteTime": {
     "end_time": "2021-08-06T23:19:15.505928Z",
     "start_time": "2021-08-06T23:19:15.210961Z"
    }
   },
   "outputs": [],
   "source": [
    "undersample = RandomUnderSampler(sampling_strategy='majority')\n",
    "# fit and apply the transform\n",
    "X_train_under, y_train_under = undersample.fit_resample(x_train, y_train)"
   ]
  },
  {
   "cell_type": "code",
   "execution_count": 31,
   "id": "rapid-anatomy",
   "metadata": {
    "ExecuteTime": {
     "end_time": "2021-08-06T23:20:00.969731Z",
     "start_time": "2021-08-06T23:20:00.936784Z"
    }
   },
   "outputs": [
    {
     "name": "stdout",
     "output_type": "stream",
     "text": [
      "After undersampling:  Counter({0: 37492, 1: 37492})\n"
     ]
    }
   ],
   "source": [
    "print(\"After undersampling: \", Counter(y_train_under))"
   ]
  },
  {
   "cell_type": "markdown",
   "id": "dimensional-denver",
   "metadata": {},
   "source": [
    "## 5.4. Validation Preparation"
   ]
  },
  {
   "cell_type": "code",
   "execution_count": 32,
   "id": "increasing-italy",
   "metadata": {
    "ExecuteTime": {
     "end_time": "2021-08-06T23:22:00.482043Z",
     "start_time": "2021-08-06T23:22:00.451049Z"
    }
   },
   "outputs": [
    {
     "data": {
      "text/html": [
       "<div>\n",
       "<style scoped>\n",
       "    .dataframe tbody tr th:only-of-type {\n",
       "        vertical-align: middle;\n",
       "    }\n",
       "\n",
       "    .dataframe tbody tr th {\n",
       "        vertical-align: top;\n",
       "    }\n",
       "\n",
       "    .dataframe thead th {\n",
       "        text-align: right;\n",
       "    }\n",
       "</style>\n",
       "<table border=\"1\" class=\"dataframe\">\n",
       "  <thead>\n",
       "    <tr style=\"text-align: right;\">\n",
       "      <th></th>\n",
       "      <th>id</th>\n",
       "      <th>gender</th>\n",
       "      <th>age</th>\n",
       "      <th>driving_license</th>\n",
       "      <th>region_code</th>\n",
       "      <th>previously_insured</th>\n",
       "      <th>vehicle_age</th>\n",
       "      <th>vehicle_damage</th>\n",
       "      <th>annual_premium</th>\n",
       "      <th>policy_sales_channel</th>\n",
       "      <th>vintage</th>\n",
       "    </tr>\n",
       "  </thead>\n",
       "  <tbody>\n",
       "    <tr>\n",
       "      <th>85462</th>\n",
       "      <td>85463</td>\n",
       "      <td>Female</td>\n",
       "      <td>66</td>\n",
       "      <td>1</td>\n",
       "      <td>28</td>\n",
       "      <td>0</td>\n",
       "      <td>over_2_years</td>\n",
       "      <td>1</td>\n",
       "      <td>33781.0</td>\n",
       "      <td>26</td>\n",
       "      <td>253</td>\n",
       "    </tr>\n",
       "    <tr>\n",
       "      <th>264238</th>\n",
       "      <td>264239</td>\n",
       "      <td>Male</td>\n",
       "      <td>42</td>\n",
       "      <td>1</td>\n",
       "      <td>29</td>\n",
       "      <td>0</td>\n",
       "      <td>between_1_2_year</td>\n",
       "      <td>1</td>\n",
       "      <td>26330.0</td>\n",
       "      <td>124</td>\n",
       "      <td>265</td>\n",
       "    </tr>\n",
       "    <tr>\n",
       "      <th>201539</th>\n",
       "      <td>201540</td>\n",
       "      <td>Female</td>\n",
       "      <td>38</td>\n",
       "      <td>1</td>\n",
       "      <td>28</td>\n",
       "      <td>0</td>\n",
       "      <td>between_1_2_year</td>\n",
       "      <td>1</td>\n",
       "      <td>41847.0</td>\n",
       "      <td>124</td>\n",
       "      <td>256</td>\n",
       "    </tr>\n",
       "    <tr>\n",
       "      <th>226670</th>\n",
       "      <td>226671</td>\n",
       "      <td>Male</td>\n",
       "      <td>32</td>\n",
       "      <td>1</td>\n",
       "      <td>46</td>\n",
       "      <td>0</td>\n",
       "      <td>between_1_2_year</td>\n",
       "      <td>1</td>\n",
       "      <td>37575.0</td>\n",
       "      <td>124</td>\n",
       "      <td>140</td>\n",
       "    </tr>\n",
       "    <tr>\n",
       "      <th>54001</th>\n",
       "      <td>54002</td>\n",
       "      <td>Male</td>\n",
       "      <td>21</td>\n",
       "      <td>1</td>\n",
       "      <td>6</td>\n",
       "      <td>1</td>\n",
       "      <td>below_1_year</td>\n",
       "      <td>0</td>\n",
       "      <td>26168.0</td>\n",
       "      <td>160</td>\n",
       "      <td>18</td>\n",
       "    </tr>\n",
       "  </tbody>\n",
       "</table>\n",
       "</div>"
      ],
      "text/plain": [
       "            id  gender  age  driving_license  region_code  previously_insured  \\\n",
       "85462    85463  Female   66                1           28                   0   \n",
       "264238  264239    Male   42                1           29                   0   \n",
       "201539  201540  Female   38                1           28                   0   \n",
       "226670  226671    Male   32                1           46                   0   \n",
       "54001    54002    Male   21                1            6                   1   \n",
       "\n",
       "             vehicle_age  vehicle_damage  annual_premium  \\\n",
       "85462       over_2_years               1         33781.0   \n",
       "264238  between_1_2_year               1         26330.0   \n",
       "201539  between_1_2_year               1         41847.0   \n",
       "226670  between_1_2_year               1         37575.0   \n",
       "54001       below_1_year               0         26168.0   \n",
       "\n",
       "        policy_sales_channel  vintage  \n",
       "85462                     26      253  \n",
       "264238                   124      265  \n",
       "201539                   124      256  \n",
       "226670                   124      140  \n",
       "54001                    160       18  "
      ]
     },
     "execution_count": 32,
     "metadata": {},
     "output_type": "execute_result"
    }
   ],
   "source": [
    "x_validation.head()"
   ]
  },
  {
   "cell_type": "code",
   "execution_count": 33,
   "id": "convenient-front",
   "metadata": {
    "ExecuteTime": {
     "end_time": "2021-08-06T23:22:09.400485Z",
     "start_time": "2021-08-06T23:22:09.183582Z"
    }
   },
   "outputs": [],
   "source": [
    "# gender\n",
    "x_validation.loc[:, 'gender'] =  encoder_gender.transform(x_validation[['gender']], y=None )\n",
    "\n",
    "# age\n",
    "x_validation.loc[:, 'age'] = mms_age.transform( x_validation[['age']].values )\n",
    "\n",
    "# region_code\n",
    "x_validation.loc[:, 'region_code'] = x_validation.loc[:, 'region_code'].map( target_encode_region_code )\n",
    "\n",
    "# vehicle_age\n",
    "x_validation = pd.get_dummies( x_validation, prefix='vehicle_age', columns=['vehicle_age'] )\n",
    "\n",
    "# annual_premium\n",
    "x_validation.loc[:, 'annual_premium'] = rs.transform( x_validation[['annual_premium']].values )\n",
    "\n",
    "# policy_sales_channel\n",
    "x_validation.loc[:, 'policy_sales_channel'] = x_validation['policy_sales_channel'].map( fe_policy_sales_channel )\n",
    "\n",
    "# vintage\n",
    "x_validation.loc[:, 'vintage'] = mms_vintage.transform( x_validation[['vintage']].values )\n",
    "\n",
    "# fillna\n",
    "x_validation = x_validation.fillna( 0 )"
   ]
  },
  {
   "cell_type": "code",
   "execution_count": 34,
   "id": "adapted-guidance",
   "metadata": {
    "ExecuteTime": {
     "end_time": "2021-08-06T23:22:12.335909Z",
     "start_time": "2021-08-06T23:22:12.324913Z"
    }
   },
   "outputs": [
    {
     "data": {
      "text/plain": [
       "(76222, 13)"
      ]
     },
     "execution_count": 34,
     "metadata": {},
     "output_type": "execute_result"
    }
   ],
   "source": [
    "x_validation.shape"
   ]
  },
  {
   "cell_type": "markdown",
   "id": "mysterious-administrator",
   "metadata": {},
   "source": [
    "# 6.0. Feature Selection"
   ]
  },
  {
   "cell_type": "code",
   "execution_count": 47,
   "id": "developing-baker",
   "metadata": {
    "ExecuteTime": {
     "end_time": "2021-08-06T23:26:40.484518Z",
     "start_time": "2021-08-06T23:26:40.451979Z"
    }
   },
   "outputs": [],
   "source": [
    "df6 = df5.copy()"
   ]
  },
  {
   "cell_type": "markdown",
   "id": "suited-scheduling",
   "metadata": {},
   "source": [
    "## 6.1. Boruta Algorithm"
   ]
  },
  {
   "cell_type": "code",
   "execution_count": null,
   "id": "tribal-perry",
   "metadata": {
    "ExecuteTime": {
     "end_time": "2021-08-02T20:47:10.256705Z",
     "start_time": "2021-08-02T20:47:02.951Z"
    }
   },
   "outputs": [],
   "source": [
    "## training and test dataset for Boruta\n",
    "#x_train_b = df6.drop(['id', 'response'], axis = 1).values\n",
    "#y_train_b = y_train.values.ravel()\n",
    "#\n",
    "#\n",
    "## define RandomForestRegressor\n",
    "#rf = RandomForestClassifier(n_jobs=-1, class_weight='balanced', max_depth=5)\n",
    "#\n",
    "## define Boruta feature selection method\n",
    "#boruta_feat_selector = BorutaPy(rf, n_estimators='auto', verbose=2, random_state=42).fit( x_train_b,y_train_b )\n",
    "#\n",
    "## find all relevant features\n",
    "#boruta_feat_selector.fit(x_train_b,y_train_b )\n",
    "#\n",
    "## check ranking of features\n",
    "#boruta_feat_selector.ranking_"
   ]
  },
  {
   "cell_type": "code",
   "execution_count": null,
   "id": "hawaiian-soviet",
   "metadata": {
    "ExecuteTime": {
     "end_time": "2021-08-02T20:47:10.259705Z",
     "start_time": "2021-08-02T20:47:02.956Z"
    }
   },
   "outputs": [],
   "source": [
    "#cols_selected = boruta_feat_selector.support_.tolist()\n",
    "#\n",
    "##colunas selecionadas\n",
    "#x_train_fs = df6.drop(['id', 'response'], axis = 1)\n",
    "#cols_selected_boruta = x_train_fs.iloc[:, cols_selected].columns.to_list()\n",
    "#\n",
    "##colunas não selecionadas\n",
    "#cols_not_selected_boruta = list(np.setdiff1d(x_train_fs.columns,cols_selected_boruta))\n",
    "#\n",
    "#print(\"BorutaSelected Column: \\n\",cols_selected_boruta )\n",
    "#\n",
    "#\n",
    "#print(\"Boruta NOT Selected Column:\", cols_not_selected_boruta )\n"
   ]
  },
  {
   "cell_type": "markdown",
   "id": "cellular-resort",
   "metadata": {},
   "source": [
    "## 6.2. Feature Importance"
   ]
  },
  {
   "cell_type": "code",
   "execution_count": 63,
   "id": "social-special",
   "metadata": {
    "ExecuteTime": {
     "end_time": "2021-08-03T17:46:36.362534Z",
     "start_time": "2021-08-03T17:46:34.740894Z"
    }
   },
   "outputs": [],
   "source": [
    "from yellowbrick.features      import Rank1D"
   ]
  },
  {
   "cell_type": "code",
   "execution_count": 64,
   "id": "attended-chance",
   "metadata": {
    "ExecuteTime": {
     "end_time": "2021-08-03T17:46:39.788835Z",
     "start_time": "2021-08-03T17:46:38.314918Z"
    }
   },
   "outputs": [
    {
     "name": "stderr",
     "output_type": "stream",
     "text": [
      "C:\\Users\\ACER\\anaconda3\\envs\\datasciencemproducao\\lib\\site-packages\\scipy\\stats\\morestats.py:1681: UserWarning: p-value may not be accurate for N > 5000.\n",
      "  warnings.warn(\"p-value may not be accurate for N > 5000.\")\n"
     ]
    },
    {
     "data": {
      "image/png": "[encoded data removed]",
      "text/plain": [
       "<Figure size 576x396 with 1 Axes>"
      ]
     },
     "metadata": {},
     "output_type": "display_data"
    }
   ],
   "source": [
    "visualizer = Rank1D(algorithm='shapiro')\n",
    "\n",
    "visualizer.fit(x_train_res, y_train_res)           \n",
    "visualizer.transform(x_train_res)        \n",
    "visualizer.show();"
   ]
  },
  {
   "cell_type": "code",
   "execution_count": 71,
   "id": "gross-sapphire",
   "metadata": {
    "ExecuteTime": {
     "end_time": "2021-08-03T18:13:11.337764Z",
     "start_time": "2021-08-03T18:11:58.641589Z"
    }
   },
   "outputs": [
    {
     "data": {
      "text/plain": [
       "ExtraTreesClassifier(n_jobs=-1, random_state=42)"
      ]
     },
     "execution_count": 71,
     "metadata": {},
     "output_type": "execute_result"
    }
   ],
   "source": [
    "# model definition\n",
    "forest = en.ExtraTreesClassifier( n_estimators=100, random_state=42, n_jobs=-1 )\n",
    "\n",
    "# data preparation\n",
    "x_train_n = x_train_under.drop( ['id'], axis=1 )\n",
    "y_train_n = y_train_under.values\n",
    "forest.fit( x_train_n, y_train_n )"
   ]
  },
  {
   "cell_type": "code",
   "execution_count": 72,
   "id": "adopted-carter",
   "metadata": {
    "ExecuteTime": {
     "end_time": "2021-08-03T18:14:15.994173Z",
     "start_time": "2021-08-03T18:14:11.594718Z"
    }
   },
   "outputs": [
    {
     "name": "stdout",
     "output_type": "stream",
     "text": [
      "feature ranking\n",
      "                        feature  importance\n",
      "0            previously_insured    0.168268\n",
      "0                vehicle_damage    0.129209\n",
      "0          policy_sales_channel    0.108949\n",
      "0      vehicle_age_below_1_year    0.106977\n",
      "0                           age    0.095847\n",
      "0                annual_premium    0.084049\n",
      "0                   region_code    0.083338\n",
      "0                       vintage    0.083033\n",
      "0                        gender    0.075724\n",
      "0  vehicle_age_between_1_2_year    0.043313\n",
      "0      vehicle_age_over_2_years    0.020947\n",
      "0               driving_license    0.000346\n"
     ]
    },
    {
     "data": {
      "image/png": "[encoded data removed]",
      "text/plain": [
       "<Figure size 576x396 with 1 Axes>"
      ]
     },
     "metadata": {},
     "output_type": "display_data"
    }
   ],
   "source": [
    "importances = forest.feature_importances_\n",
    "indices = np.argsort( importances )[::-1]\n",
    "\n",
    "print( 'feature ranking')\n",
    "df = pd.DataFrame()\n",
    "\n",
    "for i, j in zip( x_train_n, forest.feature_importances_ ):\n",
    "    aux = pd.DataFrame( {'feature': i, 'importance': j}, index=[0] )\n",
    "    df = pd.concat( [df, aux], axis=0 )\n",
    "    \n",
    "print( df.sort_values( 'importance', ascending=False ) )\n",
    "\n",
    "# Plot the impurity-based feature importances of the forest\n",
    "plt.figure()\n",
    "plt.title(\"Feature importances\")\n",
    "plt.bar(range(x_train_n.shape[1]), importances[indices], color=\"r\", align=\"center\")\n",
    "plt.xticks(range(x_train_n.shape[1]), indices)\n",
    "plt.xlim([-1, x_train_n.shape[1]])\n",
    "plt.show()"
   ]
  },
  {
   "cell_type": "markdown",
   "id": "raised-backing",
   "metadata": {},
   "source": [
    "Selected Columns :\n",
    "\n",
    "From EDA Analysis:\n",
    "    \n",
    "            'gender','age','region_code','annual_preminum','vehicle_age_over_2_years',\n",
    "            'vehicle_damage','policy_sales_channel'\n",
    "         \n",
    "From Boruta\n",
    "       \n",
    "         'gender', 'age', 'driving_license', 'region_code', 'previously_insured', 'vehicle_damage', 'annual_premium', \n",
    "         'policy_sales_channel', 'vehicle_age_below_1_year', 'vehicle_age_between_1_2_year', 'vehicle_age_over_2_years'\n",
    "    \n",
    "\n",
    "From Features Importance - untill 4% \n",
    "\n",
    "        'previously_insured',   'vehicle_damage', 'policy_sales_channel', 'vehicle_age_below_1_year'    'age'   'annual_premium', 'region_code','vintage', 'gender', vehicle_age_between_1_2_year'      \n",
    "Features final list:\n",
    "\n",
    "        'gender','age','region_code','annual_premium', 'vehicle_damage', 'policy_sales_channel', 'vehicle_age_below_1_year',\n",
    "        , 'vehicle_age_between_1_2_year', 'vintage', 'previously_insured'"
   ]
  },
  {
   "cell_type": "code",
   "execution_count": 35,
   "id": "quarterly-potter",
   "metadata": {
    "ExecuteTime": {
     "end_time": "2021-08-06T23:23:26.664650Z",
     "start_time": "2021-08-06T23:23:26.636653Z"
    }
   },
   "outputs": [
    {
     "ename": "NameError",
     "evalue": "name 'x_train_under' is not defined",
     "output_type": "error",
     "traceback": [
      "\u001b[1;31m---------------------------------------------------------------------------\u001b[0m",
      "\u001b[1;31mNameError\u001b[0m                                 Traceback (most recent call last)",
      "\u001b[1;32m<ipython-input-35-93d82a32261c>\u001b[0m in \u001b[0;36m<module>\u001b[1;34m\u001b[0m\n\u001b[1;32m----> 1\u001b[1;33m \u001b[0mx_train_under\u001b[0m\u001b[1;33m[\u001b[0m\u001b[1;34m'previously_insured'\u001b[0m\u001b[1;33m]\u001b[0m\u001b[1;33m.\u001b[0m\u001b[0mvalue_counts\u001b[0m\u001b[1;33m(\u001b[0m\u001b[1;33m)\u001b[0m\u001b[1;33m\u001b[0m\u001b[1;33m\u001b[0m\u001b[0m\n\u001b[0m",
      "\u001b[1;31mNameError\u001b[0m: name 'x_train_under' is not defined"
     ]
    }
   ],
   "source": [
    "x_train_under['previously_insured'].value_counts()"
   ]
  },
  {
   "cell_type": "markdown",
   "id": "dangerous-istanbul",
   "metadata": {},
   "source": [
    "# 7.0. Machine Learning Modelling"
   ]
  },
  {
   "cell_type": "code",
   "execution_count": 48,
   "id": "better-topic",
   "metadata": {
    "ExecuteTime": {
     "end_time": "2021-08-06T23:26:52.258973Z",
     "start_time": "2021-08-06T23:26:52.228980Z"
    }
   },
   "outputs": [],
   "source": [
    "df7 = df6.copy()"
   ]
  },
  {
   "cell_type": "code",
   "execution_count": 36,
   "id": "indie-celebrity",
   "metadata": {
    "ExecuteTime": {
     "end_time": "2021-08-06T23:23:56.676684Z",
     "start_time": "2021-08-06T23:23:56.640691Z"
    }
   },
   "outputs": [
    {
     "data": {
      "text/html": [
       "<div>\n",
       "<style scoped>\n",
       "    .dataframe tbody tr th:only-of-type {\n",
       "        vertical-align: middle;\n",
       "    }\n",
       "\n",
       "    .dataframe tbody tr th {\n",
       "        vertical-align: top;\n",
       "    }\n",
       "\n",
       "    .dataframe thead th {\n",
       "        text-align: right;\n",
       "    }\n",
       "</style>\n",
       "<table border=\"1\" class=\"dataframe\">\n",
       "  <thead>\n",
       "    <tr style=\"text-align: right;\">\n",
       "      <th></th>\n",
       "      <th>id</th>\n",
       "      <th>gender</th>\n",
       "      <th>age</th>\n",
       "      <th>driving_license</th>\n",
       "      <th>region_code</th>\n",
       "      <th>previously_insured</th>\n",
       "      <th>vehicle_damage</th>\n",
       "      <th>annual_premium</th>\n",
       "      <th>policy_sales_channel</th>\n",
       "      <th>vintage</th>\n",
       "      <th>vehicle_age_below_1_year</th>\n",
       "      <th>vehicle_age_between_1_2_year</th>\n",
       "      <th>vehicle_age_over_2_years</th>\n",
       "    </tr>\n",
       "  </thead>\n",
       "  <tbody>\n",
       "    <tr>\n",
       "      <th>85462</th>\n",
       "      <td>85463</td>\n",
       "      <td>0.104575</td>\n",
       "      <td>0.707692</td>\n",
       "      <td>1</td>\n",
       "      <td>0.187668</td>\n",
       "      <td>0</td>\n",
       "      <td>1</td>\n",
       "      <td>0.141192</td>\n",
       "      <td>0.209127</td>\n",
       "      <td>0.840830</td>\n",
       "      <td>0</td>\n",
       "      <td>0</td>\n",
       "      <td>1</td>\n",
       "    </tr>\n",
       "    <tr>\n",
       "      <th>264238</th>\n",
       "      <td>264239</td>\n",
       "      <td>0.138613</td>\n",
       "      <td>0.338462</td>\n",
       "      <td>1</td>\n",
       "      <td>0.125395</td>\n",
       "      <td>0</td>\n",
       "      <td>1</td>\n",
       "      <td>-0.355045</td>\n",
       "      <td>0.194987</td>\n",
       "      <td>0.882353</td>\n",
       "      <td>0</td>\n",
       "      <td>1</td>\n",
       "      <td>0</td>\n",
       "    </tr>\n",
       "    <tr>\n",
       "      <th>201539</th>\n",
       "      <td>201540</td>\n",
       "      <td>0.104575</td>\n",
       "      <td>0.276923</td>\n",
       "      <td>1</td>\n",
       "      <td>0.187668</td>\n",
       "      <td>0</td>\n",
       "      <td>1</td>\n",
       "      <td>0.678388</td>\n",
       "      <td>0.194987</td>\n",
       "      <td>0.851211</td>\n",
       "      <td>0</td>\n",
       "      <td>1</td>\n",
       "      <td>0</td>\n",
       "    </tr>\n",
       "    <tr>\n",
       "      <th>226670</th>\n",
       "      <td>226671</td>\n",
       "      <td>0.138613</td>\n",
       "      <td>0.184615</td>\n",
       "      <td>1</td>\n",
       "      <td>0.105589</td>\n",
       "      <td>0</td>\n",
       "      <td>1</td>\n",
       "      <td>0.393873</td>\n",
       "      <td>0.194987</td>\n",
       "      <td>0.449827</td>\n",
       "      <td>0</td>\n",
       "      <td>1</td>\n",
       "      <td>0</td>\n",
       "    </tr>\n",
       "    <tr>\n",
       "      <th>54001</th>\n",
       "      <td>54002</td>\n",
       "      <td>0.138613</td>\n",
       "      <td>0.015385</td>\n",
       "      <td>1</td>\n",
       "      <td>0.070715</td>\n",
       "      <td>1</td>\n",
       "      <td>0</td>\n",
       "      <td>-0.365834</td>\n",
       "      <td>0.057110</td>\n",
       "      <td>0.027682</td>\n",
       "      <td>1</td>\n",
       "      <td>0</td>\n",
       "      <td>0</td>\n",
       "    </tr>\n",
       "  </tbody>\n",
       "</table>\n",
       "</div>"
      ],
      "text/plain": [
       "            id    gender       age  driving_license  region_code  \\\n",
       "85462    85463  0.104575  0.707692                1     0.187668   \n",
       "264238  264239  0.138613  0.338462                1     0.125395   \n",
       "201539  201540  0.104575  0.276923                1     0.187668   \n",
       "226670  226671  0.138613  0.184615                1     0.105589   \n",
       "54001    54002  0.138613  0.015385                1     0.070715   \n",
       "\n",
       "        previously_insured  vehicle_damage  annual_premium  \\\n",
       "85462                    0               1        0.141192   \n",
       "264238                   0               1       -0.355045   \n",
       "201539                   0               1        0.678388   \n",
       "226670                   0               1        0.393873   \n",
       "54001                    1               0       -0.365834   \n",
       "\n",
       "        policy_sales_channel   vintage  vehicle_age_below_1_year  \\\n",
       "85462               0.209127  0.840830                         0   \n",
       "264238              0.194987  0.882353                         0   \n",
       "201539              0.194987  0.851211                         0   \n",
       "226670              0.194987  0.449827                         0   \n",
       "54001               0.057110  0.027682                         1   \n",
       "\n",
       "        vehicle_age_between_1_2_year  vehicle_age_over_2_years  \n",
       "85462                              0                         1  \n",
       "264238                             1                         0  \n",
       "201539                             1                         0  \n",
       "226670                             1                         0  \n",
       "54001                              0                         0  "
      ]
     },
     "execution_count": 36,
     "metadata": {},
     "output_type": "execute_result"
    }
   ],
   "source": [
    "x_validation.head()"
   ]
  },
  {
   "cell_type": "code",
   "execution_count": 38,
   "id": "municipal-method",
   "metadata": {
    "ExecuteTime": {
     "end_time": "2021-08-06T23:24:25.542869Z",
     "start_time": "2021-08-06T23:24:25.506829Z"
    }
   },
   "outputs": [],
   "source": [
    "column_selected = ['gender','age','region_code','annual_premium', 'vehicle_damage', 'policy_sales_channel', 'vehicle_age_below_1_year',\n",
    "                   'vehicle_age_between_1_2_year', 'vintage', 'previously_insured']\n",
    "\n",
    "X_train = X_train_under[column_selected]\n",
    "x_test= x_validation[column_selected]\n",
    "y_test = y_validation.copy()\n",
    "y_train = y_train_under.copy()"
   ]
  },
  {
   "cell_type": "code",
   "execution_count": 42,
   "id": "threatened-reviewer",
   "metadata": {
    "ExecuteTime": {
     "end_time": "2021-08-06T23:24:58.982483Z",
     "start_time": "2021-08-06T23:24:58.961489Z"
    }
   },
   "outputs": [
    {
     "data": {
      "text/plain": [
       "(76222,)"
      ]
     },
     "execution_count": 42,
     "metadata": {},
     "output_type": "execute_result"
    }
   ],
   "source": [
    "y_test.shape"
   ]
  },
  {
   "cell_type": "markdown",
   "id": "colored-tennessee",
   "metadata": {},
   "source": [
    "- **Ordering Metrics**"
   ]
  },
  {
   "cell_type": "markdown",
   "id": "sporting-cartoon",
   "metadata": {},
   "source": [
    "## 7.1. KNN Classifier"
   ]
  },
  {
   "cell_type": "code",
   "execution_count": null,
   "id": "grateful-straight",
   "metadata": {
    "ExecuteTime": {
     "end_time": "2021-08-02T20:47:10.272702Z",
     "start_time": "2021-08-02T20:47:02.999Z"
    }
   },
   "outputs": [],
   "source": [
    "import pickle\n",
    "# model definition\n",
    "knn_model = nh.KNeighborsClassifier( n_neighbors=7 )\n",
    "\n",
    "# model training\n",
    "#knn_model.fit( X_train, y_train )\n",
    "#pickle.dump(knn_model, open('../model/knn_model-02.pkl', 'wb'))\n",
    "knn_model = pickle.load(open('../model/knn_model-02.pkl', 'rb'))\n",
    "# model prediction - Poder de GENERALIZACAO \n",
    "yhat_knn = knn_model.predict_proba( x_test )\n"
   ]
  },
  {
   "cell_type": "code",
   "execution_count": null,
   "id": "tight-triangle",
   "metadata": {
    "ExecuteTime": {
     "end_time": "2021-08-02T20:47:10.276701Z",
     "start_time": "2021-08-02T20:47:03.005Z"
    }
   },
   "outputs": [],
   "source": [
    "fig, axs = plt.subplots(ncols= 2, figsize = (15,5))\n",
    "skplt.metrics.plot_cumulative_gain(y_test, yhat_knn, ax=axs[0])\n",
    "skplt.metrics.plot_lift_curve(y_test, yhat_knn,ax=axs[1]);"
   ]
  },
  {
   "cell_type": "markdown",
   "id": "optional-fifty",
   "metadata": {
    "ExecuteTime": {
     "end_time": "2021-07-23T16:50:58.064998Z",
     "start_time": "2021-07-23T16:50:58.033799Z"
    }
   },
   "source": [
    "## 7.2. Logistic Regression"
   ]
  },
  {
   "cell_type": "code",
   "execution_count": 198,
   "id": "adolescent-cloud",
   "metadata": {
    "ExecuteTime": {
     "end_time": "2021-08-03T20:25:01.259007Z",
     "start_time": "2021-08-03T20:24:49.808906Z"
    }
   },
   "outputs": [],
   "source": [
    "# model definition\n",
    "lr_model = lm.LogisticRegression( random_state=42 ) \n",
    "\n",
    "# model training\n",
    "lr_model.fit( X_train, y_train )\n",
    "#pickle.dump(lr_model, open('../model/lr_model_02.pkl', 'wb'))\n",
    "#lr_model = pickle.load(open('../model/lr_model_02.pkl', 'rb'))\n",
    "\n",
    "# model prediction\n",
    "yhat_lr = lr_model.predict_proba( x_test )\n",
    "\n"
   ]
  },
  {
   "cell_type": "code",
   "execution_count": 197,
   "id": "boring-account",
   "metadata": {
    "ExecuteTime": {
     "end_time": "2021-08-03T20:24:49.799907Z",
     "start_time": "2021-08-03T20:24:49.298046Z"
    }
   },
   "outputs": [
    {
     "name": "stdout",
     "output_type": "stream",
     "text": [
      "Balanced Accuracy: 0.7623821507529585\n",
      "ROC AUC score for oversampled SMOTE data:  0.7623821507529585\n"
     ]
    }
   ],
   "source": [
    "#print(\"ROC AUC score for oversampled SMOTE data: \", roc_auc_score(y_test, yhat_lr))\n",
    "yhat_lr_ = lr_model.predict( x_test )\n",
    "print('Balanced Accuracy: '   + str(balanced_accuracy_score(y_test,yhat_lr_ )))\n",
    "print(\"ROC AUC score for oversampled SMOTE data: \", roc_auc_score(y_test, yhat_lr_))"
   ]
  },
  {
   "cell_type": "code",
   "execution_count": 145,
   "id": "fatty-trinity",
   "metadata": {
    "ExecuteTime": {
     "end_time": "2021-08-03T19:34:42.492786Z",
     "start_time": "2021-08-03T19:34:41.584004Z"
    }
   },
   "outputs": [
    {
     "data": {
      "image/png": "[encoded data removed]",
      "text/plain": [
       "<Figure size 1080x360 with 2 Axes>"
      ]
     },
     "metadata": {},
     "output_type": "display_data"
    }
   ],
   "source": [
    "fig, axs = plt.subplots(ncols= 2, figsize = (15,5))\n",
    "skplt.metrics.plot_cumulative_gain(y_test, yhat_lr, ax=axs[0])\n",
    "skplt.metrics.plot_lift_curve(y_test, yhat_lr,ax=axs[1]);"
   ]
  },
  {
   "cell_type": "markdown",
   "id": "important-insurance",
   "metadata": {},
   "source": [
    "## 7.3. RandomForest Classifier"
   ]
  },
  {
   "cell_type": "code",
   "execution_count": 199,
   "id": "respected-sussex",
   "metadata": {
    "ExecuteTime": {
     "end_time": "2021-08-03T20:25:58.991950Z",
     "start_time": "2021-08-03T20:25:01.270005Z"
    }
   },
   "outputs": [],
   "source": [
    "# model definition\n",
    "rfc_model = RandomForestClassifier(n_estimators = 300, random_state = 42)\n",
    "\n",
    "# model fit\n",
    "#rfc_model.fit( X_train, y_train )\n",
    "#pickle.dump(rfc_model, open('../model/rfc_model-resample.pkl', 'wb'))\n",
    "rfc_model = pickle.load(open('../model/rfc_model-resample.pkl', 'rb'))\n",
    "\n",
    "# model predict\n",
    "yhat_rfc = rfc_model.predict_proba( x_test )\n",
    "\n"
   ]
  },
  {
   "cell_type": "code",
   "execution_count": 196,
   "id": "grateful-expert",
   "metadata": {
    "ExecuteTime": {
     "end_time": "2021-08-03T20:24:49.254060Z",
     "start_time": "2021-08-03T20:24:04.115126Z"
    }
   },
   "outputs": [
    {
     "name": "stdout",
     "output_type": "stream",
     "text": [
      "Balanced Accuracy: 0.5750237224458437\n",
      "ROC AUC score for oversampled SMOTE data:  0.5750237224458437\n"
     ]
    }
   ],
   "source": [
    "yhat_rfc_ = rfc_model.predict( x_test )\n",
    "print('Balanced Accuracy: '   + str(balanced_accuracy_score(y_test,yhat_rfc_ )))\n",
    "print(\"ROC AUC score for oversampled SMOTE data: \", roc_auc_score(y_test, yhat_rfc_))"
   ]
  },
  {
   "cell_type": "code",
   "execution_count": 150,
   "id": "taken-howard",
   "metadata": {
    "ExecuteTime": {
     "end_time": "2021-08-03T19:55:25.614379Z",
     "start_time": "2021-08-03T19:55:22.941244Z"
    }
   },
   "outputs": [
    {
     "data": {
      "image/png": "[encoded data removed]",
      "text/plain": [
       "<Figure size 1080x360 with 2 Axes>"
      ]
     },
     "metadata": {},
     "output_type": "display_data"
    }
   ],
   "source": [
    "fig, axs = plt.subplots(ncols= 2, figsize = (15,5))\n",
    "skplt.metrics.plot_cumulative_gain(y_test, yhat_rfc, ax=axs[0])\n",
    "skplt.metrics.plot_lift_curve(y_test, yhat_rfc,ax=axs[1]);"
   ]
  },
  {
   "cell_type": "markdown",
   "id": "excellent-newcastle",
   "metadata": {},
   "source": [
    "## 7.4. Naive Bayles"
   ]
  },
  {
   "cell_type": "code",
   "execution_count": null,
   "id": "separated-uncertainty",
   "metadata": {
    "ExecuteTime": {
     "end_time": "2021-08-02T20:47:10.289700Z",
     "start_time": "2021-08-02T20:47:03.046Z"
    }
   },
   "outputs": [],
   "source": [
    "# model definition\n",
    "naive_model = GaussianNB()\n",
    "\n",
    "# model fit\n",
    "#naive_model.fit( X_train, y_train )\n",
    "#pickle.dump(naive_model, open('../model/naive_model_02.pkl', 'wb'))\n",
    "naive_model = pickle.load(open('../model/naive_model_02.pkl', 'rb'))\n",
    "\n",
    "# model predict\n",
    "yhat_naive = naive_model.predict_proba( x_test )"
   ]
  },
  {
   "cell_type": "code",
   "execution_count": null,
   "id": "equivalent-precipitation",
   "metadata": {
    "ExecuteTime": {
     "end_time": "2021-08-02T20:47:10.292698Z",
     "start_time": "2021-08-02T20:47:03.052Z"
    }
   },
   "outputs": [],
   "source": [
    "fig, axs = plt.subplots(ncols=2, figsize= (15,5))\n",
    "skplt.metrics.plot_cumulative_gain(y_test, yhat_naive, ax=axs[0])\n",
    "skplt.metrics.plot_lift_curve(y_test, yhat_naive,ax=axs[1]);"
   ]
  },
  {
   "cell_type": "markdown",
   "id": "bulgarian-housing",
   "metadata": {},
   "source": [
    "## 7.5. XGBoost Classifier"
   ]
  },
  {
   "cell_type": "code",
   "execution_count": 43,
   "id": "great-brooklyn",
   "metadata": {
    "ExecuteTime": {
     "end_time": "2021-08-06T23:25:43.308213Z",
     "start_time": "2021-08-06T23:25:31.511057Z"
    }
   },
   "outputs": [
    {
     "data": {
      "text/html": [
       "<div>\n",
       "<style scoped>\n",
       "    .dataframe tbody tr th:only-of-type {\n",
       "        vertical-align: middle;\n",
       "    }\n",
       "\n",
       "    .dataframe tbody tr th {\n",
       "        vertical-align: top;\n",
       "    }\n",
       "\n",
       "    .dataframe thead th {\n",
       "        text-align: right;\n",
       "    }\n",
       "</style>\n",
       "<table border=\"1\" class=\"dataframe\">\n",
       "  <thead>\n",
       "    <tr style=\"text-align: right;\">\n",
       "      <th></th>\n",
       "      <th>Variable</th>\n",
       "      <th>Importance</th>\n",
       "    </tr>\n",
       "  </thead>\n",
       "  <tbody>\n",
       "    <tr>\n",
       "      <th>9</th>\n",
       "      <td>previously_insured</td>\n",
       "      <td>0.509827</td>\n",
       "    </tr>\n",
       "    <tr>\n",
       "      <th>4</th>\n",
       "      <td>vehicle_damage</td>\n",
       "      <td>0.387295</td>\n",
       "    </tr>\n",
       "    <tr>\n",
       "      <th>6</th>\n",
       "      <td>vehicle_age_below_1_year</td>\n",
       "      <td>0.036243</td>\n",
       "    </tr>\n",
       "    <tr>\n",
       "      <th>1</th>\n",
       "      <td>age</td>\n",
       "      <td>0.026391</td>\n",
       "    </tr>\n",
       "    <tr>\n",
       "      <th>2</th>\n",
       "      <td>region_code</td>\n",
       "      <td>0.015468</td>\n",
       "    </tr>\n",
       "    <tr>\n",
       "      <th>5</th>\n",
       "      <td>policy_sales_channel</td>\n",
       "      <td>0.008793</td>\n",
       "    </tr>\n",
       "    <tr>\n",
       "      <th>7</th>\n",
       "      <td>vehicle_age_between_1_2_year</td>\n",
       "      <td>0.006434</td>\n",
       "    </tr>\n",
       "    <tr>\n",
       "      <th>0</th>\n",
       "      <td>gender</td>\n",
       "      <td>0.005300</td>\n",
       "    </tr>\n",
       "    <tr>\n",
       "      <th>3</th>\n",
       "      <td>annual_premium</td>\n",
       "      <td>0.002381</td>\n",
       "    </tr>\n",
       "    <tr>\n",
       "      <th>8</th>\n",
       "      <td>vintage</td>\n",
       "      <td>0.001869</td>\n",
       "    </tr>\n",
       "  </tbody>\n",
       "</table>\n",
       "</div>"
      ],
      "text/plain": [
       "                       Variable  Importance\n",
       "9            previously_insured    0.509827\n",
       "4                vehicle_damage    0.387295\n",
       "6      vehicle_age_below_1_year    0.036243\n",
       "1                           age    0.026391\n",
       "2                   region_code    0.015468\n",
       "5          policy_sales_channel    0.008793\n",
       "7  vehicle_age_between_1_2_year    0.006434\n",
       "0                        gender    0.005300\n",
       "3                annual_premium    0.002381\n",
       "8                       vintage    0.001869"
      ]
     },
     "execution_count": 43,
     "metadata": {},
     "output_type": "execute_result"
    }
   ],
   "source": [
    "# model definition\n",
    "xgb_model = xgb.XGBClassifier(objective = 'binary:logistic', eval_metric = 'error')\n",
    "\n",
    "# model fit\n",
    "model_xgb = xgb_model.fit(X_train,y_train)\n",
    "#pickle.dump(model_xgb, open('../model/model_xgbl_resamble.pkl', 'wb'))\n",
    "#model_xgb = pickle.load(open('../model/model_xgbl_resamble.pkl', 'rb'))\n",
    "\n",
    "# model predict\n",
    "yhat_xgb = model_xgb.predict_proba(x_test)\n",
    "\n",
    "pd.DataFrame({'Variable':X_train.columns,\n",
    "              'Importance':model_xgb.feature_importances_}).sort_values('Importance', ascending=False)"
   ]
  },
  {
   "cell_type": "code",
   "execution_count": 44,
   "id": "legal-gambling",
   "metadata": {
    "ExecuteTime": {
     "end_time": "2021-08-06T23:25:55.308381Z",
     "start_time": "2021-08-06T23:25:54.790503Z"
    }
   },
   "outputs": [
    {
     "name": "stdout",
     "output_type": "stream",
     "text": [
      "Balanced Accuracy: 0.7990112561357301\n",
      "ROC AUC score for oversampled SMOTE data:  0.7990112561357301\n"
     ]
    }
   ],
   "source": [
    "yhat_xgb_ = model_xgb.predict( x_test )\n",
    "print('Balanced Accuracy: '   + str(balanced_accuracy_score(y_test,yhat_xgb_ )))\n",
    "print(\"ROC AUC score for oversampled SMOTE data: \", roc_auc_score(y_test, yhat_xgb_))"
   ]
  },
  {
   "cell_type": "code",
   "execution_count": 45,
   "id": "broadband-pricing",
   "metadata": {
    "ExecuteTime": {
     "end_time": "2021-08-06T23:26:03.784425Z",
     "start_time": "2021-08-06T23:26:02.776616Z"
    }
   },
   "outputs": [
    {
     "data": {
      "image/png": "[encoded data removed]",
      "text/plain": [
       "<Figure size 1080x360 with 2 Axes>"
      ]
     },
     "metadata": {
      "needs_background": "light"
     },
     "output_type": "display_data"
    }
   ],
   "source": [
    "fig, axs = plt.subplots(ncols=2, figsize= (15,5))\n",
    "skplt.metrics.plot_cumulative_gain(y_test, yhat_xgb, ax=axs[0])\n",
    "skplt.metrics.plot_lift_curve(y_test, yhat_xgb,ax=axs[1]);"
   ]
  },
  {
   "cell_type": "markdown",
   "id": "signal-christmas",
   "metadata": {},
   "source": [
    "## 8.0. Performance Metrics"
   ]
  },
  {
   "cell_type": "code",
   "execution_count": 49,
   "id": "stable-gothic",
   "metadata": {
    "ExecuteTime": {
     "end_time": "2021-08-06T23:27:07.195938Z",
     "start_time": "2021-08-06T23:27:07.167944Z"
    }
   },
   "outputs": [],
   "source": [
    "df8 = df7.copy()"
   ]
  },
  {
   "cell_type": "markdown",
   "id": "honest-liberal",
   "metadata": {},
   "source": [
    "## 8.1 Single performance"
   ]
  },
  {
   "cell_type": "code",
   "execution_count": null,
   "id": "ordered-fleet",
   "metadata": {
    "ExecuteTime": {
     "end_time": "2021-08-02T20:47:10.305694Z",
     "start_time": "2021-08-02T20:47:03.091Z"
    }
   },
   "outputs": [],
   "source": [
    "df8_xgb = data_preparation_yhat_model('response',x_validation.copy(),y_validation.copy(), yhat_xgb )\n",
    "df8_xgb.head()"
   ]
  },
  {
   "cell_type": "code",
   "execution_count": null,
   "id": "shaped-turkey",
   "metadata": {
    "ExecuteTime": {
     "end_time": "2021-08-02T20:47:10.308694Z",
     "start_time": "2021-08-02T20:47:03.098Z"
    }
   },
   "outputs": [],
   "source": [
    "# Knn\n",
    "df8_knn = data_preparation_yhat_model('response',x_validation.copy(),y_validation.copy(), yhat_knn )\n",
    "# compute precision at k\n",
    "knn_precision = precision_at_k( df8_knn,'response', k=15000 )\n",
    "# Recall @k\n",
    "knn_recall = recall_at_k( df8_knn, 'response' , k=15000 )\n",
    "\n",
    "print( 'Precision at K: {}, Recall : {}'.format(knn_precision, knn_recall ) )"
   ]
  },
  {
   "cell_type": "code",
   "execution_count": 200,
   "id": "accepted-connection",
   "metadata": {
    "ExecuteTime": {
     "end_time": "2021-08-03T20:26:13.897990Z",
     "start_time": "2021-08-03T20:26:12.990335Z"
    }
   },
   "outputs": [
    {
     "name": "stdout",
     "output_type": "stream",
     "text": [
      "Precision at K: 0.3252449836677555, Recall : 0.5186011904761905\n"
     ]
    }
   ],
   "source": [
    "# Logistic Regression\n",
    "df8_lr = data_preparation_yhat_model('response',x_validation.copy(),y_validation.copy(), yhat_lr )\n",
    "# compute precision at k\n",
    "lr_precision = precision_at_k( df8_lr,'response', k=15000 )\n",
    "# Recall @k\n",
    "lr_recall = recall_at_k( df8_lr, 'response' , k=15000 )\n",
    "\n",
    "print( 'Precision at K: {}, Recall : {}'.format(lr_precision, lr_recall ) )"
   ]
  },
  {
   "cell_type": "code",
   "execution_count": null,
   "id": "cooperative-wednesday",
   "metadata": {
    "ExecuteTime": {
     "end_time": "2021-08-02T20:47:10.314693Z",
     "start_time": "2021-08-02T20:47:03.115Z"
    }
   },
   "outputs": [],
   "source": [
    "# Naive Bayes\n",
    "df8_bayes = data_preparation_yhat_model('response',x_validation.copy(),y_validation.copy(), yhat_naive )\n",
    "# compute precision at k\n",
    "naive_precision = precision_at_k( df8_bayes,'response', k=15000 )\n",
    "# Recall @k\n",
    "naive_recall = recall_at_k( df8_bayes, 'response' , k=15000 )\n",
    "\n",
    "print( 'Precision at K: {}, Recall : {}'.format(naive_precision, naive_recall ) )"
   ]
  },
  {
   "cell_type": "code",
   "execution_count": 203,
   "id": "bottom-muscle",
   "metadata": {
    "ExecuteTime": {
     "end_time": "2021-08-03T20:27:24.418394Z",
     "start_time": "2021-08-03T20:27:24.293422Z"
    }
   },
   "outputs": [
    {
     "name": "stdout",
     "output_type": "stream",
     "text": [
      "Precision at K: 0.32244517032197856, Recall : 0.5141369047619048\n"
     ]
    }
   ],
   "source": [
    "# Random Forest Classifier\n",
    "df8_rfc = data_preparation_yhat_model('response',x_validation.copy(),y_validation.copy(), yhat_rfc )\n",
    "# compute precision at k\n",
    "rfc_precision = precision_at_k( df8_rfc,'response', k=15000 )\n",
    "# Recall @k\n",
    "rfc_recall = recall_at_k( df8_rfc, 'response' , k=15000 )\n",
    "\n",
    "print( 'Precision at K: {}, Recall : {}'.format(rfc_precision, rfc_recall ) )"
   ]
  },
  {
   "cell_type": "code",
   "execution_count": 50,
   "id": "stable-netherlands",
   "metadata": {
    "ExecuteTime": {
     "end_time": "2021-08-06T23:27:36.094245Z",
     "start_time": "2021-08-06T23:27:35.943281Z"
    }
   },
   "outputs": [
    {
     "name": "stdout",
     "output_type": "stream",
     "text": [
      "Precision at K: 0.3478434771015266, Recall : 0.5660663918420482\n"
     ]
    }
   ],
   "source": [
    "#Xgboost \n",
    "df8_xgb = data_preparation_yhat_model('response',x_validation.copy(),y_validation.copy(), yhat_xgb )\n",
    "xgb_precision = precision_at_k( df8_xgb,'response', k=15000 )\n",
    "# Recall at K\n",
    "xgb_recall = recall_at_k( df8_xgb, 'response' , k=15000 )\n",
    "print( 'Precision at K: {}, Recall : {}'.format(xgb_precision, xgb_recall ) )"
   ]
  },
  {
   "cell_type": "markdown",
   "id": "characteristic-island",
   "metadata": {
    "ExecuteTime": {
     "end_time": "2021-07-25T22:55:57.975563Z",
     "start_time": "2021-07-25T22:55:57.959943Z"
    }
   },
   "source": [
    "## 8.2. Compare Model's Performance"
   ]
  },
  {
   "cell_type": "code",
   "execution_count": null,
   "id": "favorite-revelation",
   "metadata": {
    "ExecuteTime": {
     "end_time": "2021-08-02T20:47:10.321691Z",
     "start_time": "2021-08-02T20:47:03.142Z"
    }
   },
   "outputs": [],
   "source": [
    "performance_summary = { \n",
    "    'Precision at K' : [lr_precision, naive_precision, knn_precision, rfc_precision, xgb_precision],\n",
    "    'Recall at K'    : [lr_recall, naive_recall, knn_recall, rfc_recall, xgb_recall]\n",
    "}\n",
    "\n",
    "metrics = pd.DataFrame(performance_summary).T\n",
    "metrics.columns = ['Logistic R', 'Naive Bayes', 'KNN', 'Randon F', 'XGBoosting']\n",
    "metrics.style.highlight_max( color='lightgreen', axis=1 )"
   ]
  },
  {
   "cell_type": "code",
   "execution_count": null,
   "id": "collective-shipping",
   "metadata": {
    "ExecuteTime": {
     "end_time": "2021-08-02T20:47:10.324690Z",
     "start_time": "2021-08-02T20:47:03.149Z"
    }
   },
   "outputs": [],
   "source": [
    "cv_performance_lr = cross_validation (df8,5, 'Logic Regression', lr_model,'response',15000 ,X_train, y_train, verbose= True)"
   ]
  },
  {
   "cell_type": "code",
   "execution_count": null,
   "id": "bacterial-membership",
   "metadata": {
    "ExecuteTime": {
     "end_time": "2021-08-02T20:47:10.327689Z",
     "start_time": "2021-08-02T20:47:03.158Z"
    }
   },
   "outputs": [],
   "source": [
    "cv_performance_bayes = cross_validation (df8,5, 'Naive Bayes', naive_model,'response',15000 ,X_train, y_train, verbose= True)"
   ]
  },
  {
   "cell_type": "code",
   "execution_count": null,
   "id": "eligible-volunteer",
   "metadata": {
    "ExecuteTime": {
     "end_time": "2021-08-02T20:47:10.330689Z",
     "start_time": "2021-08-02T20:47:03.166Z"
    }
   },
   "outputs": [],
   "source": [
    "cv_performance_bayes"
   ]
  },
  {
   "cell_type": "code",
   "execution_count": null,
   "id": "looking-attachment",
   "metadata": {
    "ExecuteTime": {
     "end_time": "2021-08-02T20:47:10.333688Z",
     "start_time": "2021-08-02T20:47:03.177Z"
    }
   },
   "outputs": [],
   "source": [
    "cv_performance_Knn = cross_validation (df8,5, 'KNN', knn_model,'response',15000 ,X_train, y_train, verbose= True)\n",
    "cv_performance_Knn"
   ]
  },
  {
   "cell_type": "code",
   "execution_count": null,
   "id": "imported-paradise",
   "metadata": {
    "ExecuteTime": {
     "end_time": "2021-08-02T20:47:10.336687Z",
     "start_time": "2021-08-02T20:47:03.187Z"
    }
   },
   "outputs": [],
   "source": [
    "cv_performance_Knn"
   ]
  },
  {
   "cell_type": "code",
   "execution_count": null,
   "id": "cutting-humor",
   "metadata": {
    "ExecuteTime": {
     "end_time": "2021-08-02T20:47:10.338688Z",
     "start_time": "2021-08-02T20:47:03.192Z"
    }
   },
   "outputs": [],
   "source": [
    "cv_performance_rfc = cross_validation (df8,5, 'Randon Forest Classifier', rfc_model,'response',15000 ,X_train, y_train, verbose= True)\n",
    "cv_performance_xgb= cross_validation (df8,5, 'XG Boosting', xgb_model,'response',15000 ,X_train, y_train, verbose= True)"
   ]
  },
  {
   "cell_type": "code",
   "execution_count": null,
   "id": "ruled-while",
   "metadata": {
    "ExecuteTime": {
     "end_time": "2021-08-02T20:47:10.340686Z",
     "start_time": "2021-08-02T20:47:03.198Z"
    }
   },
   "outputs": [],
   "source": [
    "cross_validation =pd.concat([cv_performance_Knn,cv_performance_rfc,cv_performance_xgb ,cv_performance_bayes], ignore_index=True)\n",
    "cross_validation.to_csv('../data/cross_validation_02.csv', index= False)\n"
   ]
  },
  {
   "cell_type": "code",
   "execution_count": null,
   "id": "rapid-ticket",
   "metadata": {
    "ExecuteTime": {
     "end_time": "2021-08-02T20:47:10.343690Z",
     "start_time": "2021-08-02T20:47:03.205Z"
    }
   },
   "outputs": [],
   "source": [
    "cross_validation = pd.read_csv('../data/cross_validation_02.csv')\n",
    "cross_validation"
   ]
  },
  {
   "cell_type": "code",
   "execution_count": null,
   "id": "lonely-sherman",
   "metadata": {
    "ExecuteTime": {
     "end_time": "2021-08-02T20:47:10.346686Z",
     "start_time": "2021-08-02T20:47:03.210Z"
    }
   },
   "outputs": [],
   "source": [
    "df8.head()"
   ]
  },
  {
   "cell_type": "markdown",
   "id": "parliamentary-basic",
   "metadata": {},
   "source": [
    "# 9.0 Hyperparameter Fine Tunning"
   ]
  },
  {
   "cell_type": "markdown",
   "id": "extra-heavy",
   "metadata": {
    "ExecuteTime": {
     "end_time": "2021-07-29T16:15:27.223575Z",
     "start_time": "2021-07-29T16:15:26.953322Z"
    }
   },
   "source": [
    " ## 9.1 Random Search"
   ]
  },
  {
   "cell_type": "markdown",
   "id": "trying-louis",
   "metadata": {},
   "source": [
    "https://towardsdatascience.com/fine-tuning-xgboost-in-python-like-a-boss-b4543ed8b1e\n",
    "https://towardsdatascience.com/fine-tuning-xgboost-model-257868cf4187"
   ]
  },
  {
   "cell_type": "code",
   "execution_count": 51,
   "id": "bronze-contrast",
   "metadata": {
    "ExecuteTime": {
     "end_time": "2021-08-06T23:27:52.272427Z",
     "start_time": "2021-08-06T23:27:52.261429Z"
    }
   },
   "outputs": [],
   "source": [
    "param = { 'objective'        : ['binary:logistic'],\n",
    "          'eval_metric'      : ['error'],\n",
    "          'n_estimators'     : [1500, 1700, 2500, 3000, 3500], \n",
    "          'eta'              : [0.01, 0.03],\n",
    "          'max_depth'        : [ 3, 5, 9],\n",
    "          'subsample'        : [0.5 , 0.8, 1],\n",
    "          'colsample_bytree' : [0.3, 0.5, 0.7],\n",
    "          'gamma':[0,1,5] }\n",
    "\n",
    "MAX_EVAL = 5"
   ]
  },
  {
   "cell_type": "code",
   "execution_count": null,
   "id": "fossil-essence",
   "metadata": {
    "ExecuteTime": {
     "end_time": "2021-08-02T20:47:10.351685Z",
     "start_time": "2021-08-02T20:47:03.241Z"
    }
   },
   "outputs": [],
   "source": [
    "#final_result = pd.DataFrame()\n",
    "#\n",
    "#for i in range( MAX_EVAL ):\n",
    "#    # choose values for parameters randomly\n",
    "#    print ('Step ' + str(i + 1) + '/' + str(MAX_EVAL))\n",
    "#    hp = { k: random.sample( v, 1 )[0] for k, v in param.items() }\n",
    "#    print( hp )\n",
    "#    \n",
    "#    # model\n",
    "#    model_xgb = xgb.XGBClassifier (objective        = hp['objective'],\n",
    "#                                   eval_metric      = hp['eval_metric'],\n",
    "#                                   n_estimators     = hp['n_estimators'], \n",
    "#                                   eta              = hp['eta'], \n",
    "#                                   max_depth        = hp['max_depth'], \n",
    "#                                   subsample        = hp['subsample'],\n",
    "#                                   colsample_bytree = hp['colsample_bytree'],\n",
    "#                                   gamma = hp['gamma'])\n",
    "#\n",
    "#    # performance\n",
    "#    result = cross_validation (df8,5, 'Final ', model_xgb,'response',15000 ,X_train, y_train, verbose= True)\n",
    "#    final_result = pd.concat( [final_result, result] )\n",
    "#        \n",
    "#final_result"
   ]
  },
  {
   "cell_type": "code",
   "execution_count": null,
   "id": "varying-migration",
   "metadata": {
    "ExecuteTime": {
     "end_time": "2021-08-02T20:47:10.354684Z",
     "start_time": "2021-08-02T20:47:03.250Z"
    }
   },
   "outputs": [],
   "source": [
    "#final_result.to_csv('../data/tunning.csv')\n",
    "\n",
    "pd.read_csv('../data/tunning.csv')"
   ]
  },
  {
   "cell_type": "markdown",
   "id": "alpha-converter",
   "metadata": {},
   "source": [
    "## 9.2 Final Model"
   ]
  },
  {
   "cell_type": "code",
   "execution_count": null,
   "id": "representative-greek",
   "metadata": {},
   "outputs": [],
   "source": []
  },
  {
   "cell_type": "code",
   "execution_count": 52,
   "id": "allied-rhythm",
   "metadata": {
    "ExecuteTime": {
     "end_time": "2021-08-06T23:28:01.085345Z",
     "start_time": "2021-08-06T23:28:01.071350Z"
    }
   },
   "outputs": [],
   "source": [
    "xgb_param_tuned = {'objective'       : 'binary:logistic', \n",
    "                   'eval_metric'     : 'error', \n",
    "                   'n_estimators'    : 1500, \n",
    "                   'eta'             : 0.01, \n",
    "                   'max_depth'       : 5, \n",
    "                   'subsample'       : 0.8, \n",
    "                   'colsample_bytree': 0.5, \n",
    "                   'gamma': 0\n",
    "                  }"
   ]
  },
  {
   "cell_type": "code",
   "execution_count": 53,
   "id": "simplified-buffalo",
   "metadata": {
    "ExecuteTime": {
     "end_time": "2021-08-06T23:31:34.698944Z",
     "start_time": "2021-08-06T23:28:06.218132Z"
    }
   },
   "outputs": [],
   "source": [
    "model_xgb_tuned = xgb.XGBClassifier (objective        = xgb_param_tuned['objective'],\n",
    "                                     eval_metric      = xgb_param_tuned['eval_metric'],\n",
    "                                     n_estimators     = xgb_param_tuned['n_estimators'], \n",
    "                                     eta              = xgb_param_tuned['eta'], \n",
    "                                     max_depth        = xgb_param_tuned['max_depth'], \n",
    "                                     subsample        = xgb_param_tuned['subsample'],\n",
    "                                     colsample_bytree = xgb_param_tuned['colsample_bytree'],\n",
    "                                     gamma = xgb_param_tuned['gamma']).fit( X_train,y_train )\n",
    "\n",
    "\n",
    "\n",
    "yhat_xgb_tuned = model_xgb_tuned.predict_proba(x_test)"
   ]
  },
  {
   "cell_type": "code",
   "execution_count": 54,
   "id": "sublime-dutch",
   "metadata": {
    "ExecuteTime": {
     "end_time": "2021-08-06T23:31:34.857908Z",
     "start_time": "2021-08-06T23:31:34.702944Z"
    }
   },
   "outputs": [
    {
     "data": {
      "text/html": [
       "<div>\n",
       "<style scoped>\n",
       "    .dataframe tbody tr th:only-of-type {\n",
       "        vertical-align: middle;\n",
       "    }\n",
       "\n",
       "    .dataframe tbody tr th {\n",
       "        vertical-align: top;\n",
       "    }\n",
       "\n",
       "    .dataframe thead th {\n",
       "        text-align: right;\n",
       "    }\n",
       "</style>\n",
       "<table border=\"1\" class=\"dataframe\">\n",
       "  <thead>\n",
       "    <tr style=\"text-align: right;\">\n",
       "      <th></th>\n",
       "      <th>id</th>\n",
       "      <th>gender</th>\n",
       "      <th>age</th>\n",
       "      <th>driving_license</th>\n",
       "      <th>region_code</th>\n",
       "      <th>previously_insured</th>\n",
       "      <th>vehicle_damage</th>\n",
       "      <th>annual_premium</th>\n",
       "      <th>policy_sales_channel</th>\n",
       "      <th>vintage</th>\n",
       "      <th>vehicle_age_below_1_year</th>\n",
       "      <th>vehicle_age_between_1_2_year</th>\n",
       "      <th>vehicle_age_over_2_years</th>\n",
       "      <th>response</th>\n",
       "      <th>score</th>\n",
       "      <th>ranking</th>\n",
       "    </tr>\n",
       "  </thead>\n",
       "  <tbody>\n",
       "    <tr>\n",
       "      <th>0</th>\n",
       "      <td>153905</td>\n",
       "      <td>0.104575</td>\n",
       "      <td>0.523077</td>\n",
       "      <td>1</td>\n",
       "      <td>0.187668</td>\n",
       "      <td>0</td>\n",
       "      <td>1</td>\n",
       "      <td>1.672661</td>\n",
       "      <td>0.000046</td>\n",
       "      <td>0.906574</td>\n",
       "      <td>0</td>\n",
       "      <td>1</td>\n",
       "      <td>0</td>\n",
       "      <td>0</td>\n",
       "      <td>0.991283</td>\n",
       "      <td>1</td>\n",
       "    </tr>\n",
       "    <tr>\n",
       "      <th>1</th>\n",
       "      <td>304778</td>\n",
       "      <td>0.104575</td>\n",
       "      <td>0.338462</td>\n",
       "      <td>1</td>\n",
       "      <td>0.187668</td>\n",
       "      <td>0</td>\n",
       "      <td>1</td>\n",
       "      <td>1.337529</td>\n",
       "      <td>0.000144</td>\n",
       "      <td>0.173010</td>\n",
       "      <td>0</td>\n",
       "      <td>1</td>\n",
       "      <td>0</td>\n",
       "      <td>1</td>\n",
       "      <td>0.988699</td>\n",
       "      <td>2</td>\n",
       "    </tr>\n",
       "    <tr>\n",
       "      <th>2</th>\n",
       "      <td>212634</td>\n",
       "      <td>0.138613</td>\n",
       "      <td>0.369231</td>\n",
       "      <td>1</td>\n",
       "      <td>0.187668</td>\n",
       "      <td>0</td>\n",
       "      <td>1</td>\n",
       "      <td>6.400999</td>\n",
       "      <td>0.209127</td>\n",
       "      <td>0.930796</td>\n",
       "      <td>0</td>\n",
       "      <td>1</td>\n",
       "      <td>0</td>\n",
       "      <td>1</td>\n",
       "      <td>0.988140</td>\n",
       "      <td>3</td>\n",
       "    </tr>\n",
       "    <tr>\n",
       "      <th>3</th>\n",
       "      <td>321131</td>\n",
       "      <td>0.104575</td>\n",
       "      <td>0.138462</td>\n",
       "      <td>1</td>\n",
       "      <td>0.187668</td>\n",
       "      <td>0</td>\n",
       "      <td>1</td>\n",
       "      <td>-0.363969</td>\n",
       "      <td>0.000177</td>\n",
       "      <td>0.287197</td>\n",
       "      <td>1</td>\n",
       "      <td>0</td>\n",
       "      <td>0</td>\n",
       "      <td>0</td>\n",
       "      <td>0.986865</td>\n",
       "      <td>4</td>\n",
       "    </tr>\n",
       "    <tr>\n",
       "      <th>4</th>\n",
       "      <td>249625</td>\n",
       "      <td>0.138613</td>\n",
       "      <td>0.400000</td>\n",
       "      <td>1</td>\n",
       "      <td>0.128293</td>\n",
       "      <td>0</td>\n",
       "      <td>1</td>\n",
       "      <td>4.475058</td>\n",
       "      <td>0.209127</td>\n",
       "      <td>0.076125</td>\n",
       "      <td>0</td>\n",
       "      <td>1</td>\n",
       "      <td>0</td>\n",
       "      <td>0</td>\n",
       "      <td>0.986183</td>\n",
       "      <td>5</td>\n",
       "    </tr>\n",
       "    <tr>\n",
       "      <th>5</th>\n",
       "      <td>215304</td>\n",
       "      <td>0.138613</td>\n",
       "      <td>0.400000</td>\n",
       "      <td>1</td>\n",
       "      <td>0.187668</td>\n",
       "      <td>0</td>\n",
       "      <td>1</td>\n",
       "      <td>5.218182</td>\n",
       "      <td>0.209127</td>\n",
       "      <td>0.276817</td>\n",
       "      <td>0</td>\n",
       "      <td>0</td>\n",
       "      <td>1</td>\n",
       "      <td>1</td>\n",
       "      <td>0.985154</td>\n",
       "      <td>6</td>\n",
       "    </tr>\n",
       "    <tr>\n",
       "      <th>6</th>\n",
       "      <td>85548</td>\n",
       "      <td>0.138613</td>\n",
       "      <td>0.338462</td>\n",
       "      <td>1</td>\n",
       "      <td>0.066410</td>\n",
       "      <td>0</td>\n",
       "      <td>1</td>\n",
       "      <td>0.667199</td>\n",
       "      <td>0.002276</td>\n",
       "      <td>0.003460</td>\n",
       "      <td>0</td>\n",
       "      <td>0</td>\n",
       "      <td>1</td>\n",
       "      <td>0</td>\n",
       "      <td>0.984886</td>\n",
       "      <td>7</td>\n",
       "    </tr>\n",
       "    <tr>\n",
       "      <th>7</th>\n",
       "      <td>257393</td>\n",
       "      <td>0.138613</td>\n",
       "      <td>0.384615</td>\n",
       "      <td>1</td>\n",
       "      <td>0.187668</td>\n",
       "      <td>0</td>\n",
       "      <td>1</td>\n",
       "      <td>2.543790</td>\n",
       "      <td>0.004835</td>\n",
       "      <td>0.166090</td>\n",
       "      <td>0</td>\n",
       "      <td>0</td>\n",
       "      <td>1</td>\n",
       "      <td>1</td>\n",
       "      <td>0.984867</td>\n",
       "      <td>8</td>\n",
       "    </tr>\n",
       "    <tr>\n",
       "      <th>8</th>\n",
       "      <td>222367</td>\n",
       "      <td>0.104575</td>\n",
       "      <td>0.400000</td>\n",
       "      <td>1</td>\n",
       "      <td>0.187668</td>\n",
       "      <td>0</td>\n",
       "      <td>1</td>\n",
       "      <td>5.127539</td>\n",
       "      <td>0.209127</td>\n",
       "      <td>0.487889</td>\n",
       "      <td>0</td>\n",
       "      <td>1</td>\n",
       "      <td>0</td>\n",
       "      <td>0</td>\n",
       "      <td>0.984148</td>\n",
       "      <td>9</td>\n",
       "    </tr>\n",
       "    <tr>\n",
       "      <th>9</th>\n",
       "      <td>277943</td>\n",
       "      <td>0.104575</td>\n",
       "      <td>0.400000</td>\n",
       "      <td>1</td>\n",
       "      <td>0.187668</td>\n",
       "      <td>0</td>\n",
       "      <td>1</td>\n",
       "      <td>2.325408</td>\n",
       "      <td>0.194987</td>\n",
       "      <td>0.996540</td>\n",
       "      <td>0</td>\n",
       "      <td>0</td>\n",
       "      <td>1</td>\n",
       "      <td>0</td>\n",
       "      <td>0.983260</td>\n",
       "      <td>10</td>\n",
       "    </tr>\n",
       "    <tr>\n",
       "      <th>10</th>\n",
       "      <td>60998</td>\n",
       "      <td>0.138613</td>\n",
       "      <td>0.692308</td>\n",
       "      <td>1</td>\n",
       "      <td>0.187668</td>\n",
       "      <td>0</td>\n",
       "      <td>1</td>\n",
       "      <td>2.400866</td>\n",
       "      <td>0.209127</td>\n",
       "      <td>0.027682</td>\n",
       "      <td>0</td>\n",
       "      <td>0</td>\n",
       "      <td>1</td>\n",
       "      <td>0</td>\n",
       "      <td>0.982281</td>\n",
       "      <td>11</td>\n",
       "    </tr>\n",
       "    <tr>\n",
       "      <th>11</th>\n",
       "      <td>214637</td>\n",
       "      <td>0.138613</td>\n",
       "      <td>0.369231</td>\n",
       "      <td>1</td>\n",
       "      <td>0.187668</td>\n",
       "      <td>0</td>\n",
       "      <td>1</td>\n",
       "      <td>4.584815</td>\n",
       "      <td>0.209127</td>\n",
       "      <td>0.387543</td>\n",
       "      <td>0</td>\n",
       "      <td>1</td>\n",
       "      <td>0</td>\n",
       "      <td>0</td>\n",
       "      <td>0.980676</td>\n",
       "      <td>12</td>\n",
       "    </tr>\n",
       "    <tr>\n",
       "      <th>12</th>\n",
       "      <td>178876</td>\n",
       "      <td>0.104575</td>\n",
       "      <td>0.323077</td>\n",
       "      <td>1</td>\n",
       "      <td>0.187668</td>\n",
       "      <td>0</td>\n",
       "      <td>1</td>\n",
       "      <td>5.953846</td>\n",
       "      <td>0.209127</td>\n",
       "      <td>0.224913</td>\n",
       "      <td>0</td>\n",
       "      <td>1</td>\n",
       "      <td>0</td>\n",
       "      <td>1</td>\n",
       "      <td>0.979671</td>\n",
       "      <td>13</td>\n",
       "    </tr>\n",
       "    <tr>\n",
       "      <th>13</th>\n",
       "      <td>142164</td>\n",
       "      <td>0.138613</td>\n",
       "      <td>0.369231</td>\n",
       "      <td>1</td>\n",
       "      <td>0.063992</td>\n",
       "      <td>0</td>\n",
       "      <td>1</td>\n",
       "      <td>-0.217316</td>\n",
       "      <td>0.001102</td>\n",
       "      <td>0.996540</td>\n",
       "      <td>0</td>\n",
       "      <td>1</td>\n",
       "      <td>0</td>\n",
       "      <td>1</td>\n",
       "      <td>0.978660</td>\n",
       "      <td>14</td>\n",
       "    </tr>\n",
       "    <tr>\n",
       "      <th>14</th>\n",
       "      <td>86552</td>\n",
       "      <td>0.138613</td>\n",
       "      <td>0.215385</td>\n",
       "      <td>1</td>\n",
       "      <td>0.187668</td>\n",
       "      <td>0</td>\n",
       "      <td>1</td>\n",
       "      <td>3.779554</td>\n",
       "      <td>0.017518</td>\n",
       "      <td>0.207612</td>\n",
       "      <td>0</td>\n",
       "      <td>1</td>\n",
       "      <td>0</td>\n",
       "      <td>1</td>\n",
       "      <td>0.978513</td>\n",
       "      <td>15</td>\n",
       "    </tr>\n",
       "    <tr>\n",
       "      <th>15</th>\n",
       "      <td>42621</td>\n",
       "      <td>0.138613</td>\n",
       "      <td>0.215385</td>\n",
       "      <td>1</td>\n",
       "      <td>0.195000</td>\n",
       "      <td>0</td>\n",
       "      <td>1</td>\n",
       "      <td>1.776490</td>\n",
       "      <td>0.209127</td>\n",
       "      <td>0.262976</td>\n",
       "      <td>1</td>\n",
       "      <td>0</td>\n",
       "      <td>0</td>\n",
       "      <td>0</td>\n",
       "      <td>0.978086</td>\n",
       "      <td>16</td>\n",
       "    </tr>\n",
       "    <tr>\n",
       "      <th>16</th>\n",
       "      <td>268163</td>\n",
       "      <td>0.104575</td>\n",
       "      <td>0.430769</td>\n",
       "      <td>1</td>\n",
       "      <td>0.105589</td>\n",
       "      <td>0</td>\n",
       "      <td>1</td>\n",
       "      <td>2.324476</td>\n",
       "      <td>0.209127</td>\n",
       "      <td>0.038062</td>\n",
       "      <td>0</td>\n",
       "      <td>1</td>\n",
       "      <td>0</td>\n",
       "      <td>1</td>\n",
       "      <td>0.977547</td>\n",
       "      <td>17</td>\n",
       "    </tr>\n",
       "    <tr>\n",
       "      <th>17</th>\n",
       "      <td>150953</td>\n",
       "      <td>0.138613</td>\n",
       "      <td>0.323077</td>\n",
       "      <td>1</td>\n",
       "      <td>0.096258</td>\n",
       "      <td>0</td>\n",
       "      <td>1</td>\n",
       "      <td>-0.454212</td>\n",
       "      <td>0.007554</td>\n",
       "      <td>0.003460</td>\n",
       "      <td>0</td>\n",
       "      <td>1</td>\n",
       "      <td>0</td>\n",
       "      <td>0</td>\n",
       "      <td>0.977473</td>\n",
       "      <td>18</td>\n",
       "    </tr>\n",
       "    <tr>\n",
       "      <th>18</th>\n",
       "      <td>213167</td>\n",
       "      <td>0.104575</td>\n",
       "      <td>0.276923</td>\n",
       "      <td>1</td>\n",
       "      <td>0.187668</td>\n",
       "      <td>0</td>\n",
       "      <td>1</td>\n",
       "      <td>1.552314</td>\n",
       "      <td>0.001368</td>\n",
       "      <td>0.768166</td>\n",
       "      <td>1</td>\n",
       "      <td>0</td>\n",
       "      <td>0</td>\n",
       "      <td>1</td>\n",
       "      <td>0.976634</td>\n",
       "      <td>19</td>\n",
       "    </tr>\n",
       "    <tr>\n",
       "      <th>19</th>\n",
       "      <td>213219</td>\n",
       "      <td>0.138613</td>\n",
       "      <td>0.492308</td>\n",
       "      <td>1</td>\n",
       "      <td>0.187668</td>\n",
       "      <td>0</td>\n",
       "      <td>1</td>\n",
       "      <td>0.596870</td>\n",
       "      <td>0.000085</td>\n",
       "      <td>0.775087</td>\n",
       "      <td>1</td>\n",
       "      <td>0</td>\n",
       "      <td>0</td>\n",
       "      <td>1</td>\n",
       "      <td>0.976348</td>\n",
       "      <td>20</td>\n",
       "    </tr>\n",
       "    <tr>\n",
       "      <th>20</th>\n",
       "      <td>53878</td>\n",
       "      <td>0.138613</td>\n",
       "      <td>0.307692</td>\n",
       "      <td>1</td>\n",
       "      <td>0.090327</td>\n",
       "      <td>0</td>\n",
       "      <td>1</td>\n",
       "      <td>-0.725208</td>\n",
       "      <td>0.000377</td>\n",
       "      <td>0.996540</td>\n",
       "      <td>0</td>\n",
       "      <td>1</td>\n",
       "      <td>0</td>\n",
       "      <td>0</td>\n",
       "      <td>0.976167</td>\n",
       "      <td>21</td>\n",
       "    </tr>\n",
       "    <tr>\n",
       "      <th>21</th>\n",
       "      <td>252402</td>\n",
       "      <td>0.104575</td>\n",
       "      <td>0.400000</td>\n",
       "      <td>1</td>\n",
       "      <td>0.187668</td>\n",
       "      <td>0</td>\n",
       "      <td>1</td>\n",
       "      <td>3.537196</td>\n",
       "      <td>0.209127</td>\n",
       "      <td>0.121107</td>\n",
       "      <td>0</td>\n",
       "      <td>0</td>\n",
       "      <td>1</td>\n",
       "      <td>0</td>\n",
       "      <td>0.975540</td>\n",
       "      <td>22</td>\n",
       "    </tr>\n",
       "    <tr>\n",
       "      <th>22</th>\n",
       "      <td>359005</td>\n",
       "      <td>0.138613</td>\n",
       "      <td>0.230769</td>\n",
       "      <td>1</td>\n",
       "      <td>0.187668</td>\n",
       "      <td>0</td>\n",
       "      <td>1</td>\n",
       "      <td>3.947053</td>\n",
       "      <td>0.002348</td>\n",
       "      <td>0.494810</td>\n",
       "      <td>0</td>\n",
       "      <td>1</td>\n",
       "      <td>0</td>\n",
       "      <td>1</td>\n",
       "      <td>0.975232</td>\n",
       "      <td>23</td>\n",
       "    </tr>\n",
       "    <tr>\n",
       "      <th>23</th>\n",
       "      <td>39788</td>\n",
       "      <td>0.138613</td>\n",
       "      <td>0.353846</td>\n",
       "      <td>1</td>\n",
       "      <td>0.072498</td>\n",
       "      <td>0</td>\n",
       "      <td>1</td>\n",
       "      <td>1.323277</td>\n",
       "      <td>0.000131</td>\n",
       "      <td>0.782007</td>\n",
       "      <td>0</td>\n",
       "      <td>1</td>\n",
       "      <td>0</td>\n",
       "      <td>1</td>\n",
       "      <td>0.975211</td>\n",
       "      <td>24</td>\n",
       "    </tr>\n",
       "    <tr>\n",
       "      <th>24</th>\n",
       "      <td>31998</td>\n",
       "      <td>0.138613</td>\n",
       "      <td>0.246154</td>\n",
       "      <td>1</td>\n",
       "      <td>0.156985</td>\n",
       "      <td>0</td>\n",
       "      <td>1</td>\n",
       "      <td>-0.158575</td>\n",
       "      <td>0.194987</td>\n",
       "      <td>0.996540</td>\n",
       "      <td>0</td>\n",
       "      <td>1</td>\n",
       "      <td>0</td>\n",
       "      <td>1</td>\n",
       "      <td>0.974861</td>\n",
       "      <td>25</td>\n",
       "    </tr>\n",
       "    <tr>\n",
       "      <th>25</th>\n",
       "      <td>5424</td>\n",
       "      <td>0.138613</td>\n",
       "      <td>0.384615</td>\n",
       "      <td>1</td>\n",
       "      <td>0.187668</td>\n",
       "      <td>0</td>\n",
       "      <td>1</td>\n",
       "      <td>2.543790</td>\n",
       "      <td>0.209127</td>\n",
       "      <td>0.110727</td>\n",
       "      <td>0</td>\n",
       "      <td>1</td>\n",
       "      <td>0</td>\n",
       "      <td>0</td>\n",
       "      <td>0.974052</td>\n",
       "      <td>26</td>\n",
       "    </tr>\n",
       "    <tr>\n",
       "      <th>26</th>\n",
       "      <td>316583</td>\n",
       "      <td>0.104575</td>\n",
       "      <td>0.461538</td>\n",
       "      <td>1</td>\n",
       "      <td>0.187668</td>\n",
       "      <td>0</td>\n",
       "      <td>1</td>\n",
       "      <td>0.523410</td>\n",
       "      <td>0.000151</td>\n",
       "      <td>0.906574</td>\n",
       "      <td>0</td>\n",
       "      <td>0</td>\n",
       "      <td>1</td>\n",
       "      <td>1</td>\n",
       "      <td>0.973909</td>\n",
       "      <td>27</td>\n",
       "    </tr>\n",
       "    <tr>\n",
       "      <th>27</th>\n",
       "      <td>232918</td>\n",
       "      <td>0.104575</td>\n",
       "      <td>0.323077</td>\n",
       "      <td>1</td>\n",
       "      <td>0.187668</td>\n",
       "      <td>0</td>\n",
       "      <td>1</td>\n",
       "      <td>4.514419</td>\n",
       "      <td>0.194987</td>\n",
       "      <td>0.913495</td>\n",
       "      <td>0</td>\n",
       "      <td>1</td>\n",
       "      <td>0</td>\n",
       "      <td>0</td>\n",
       "      <td>0.973773</td>\n",
       "      <td>28</td>\n",
       "    </tr>\n",
       "    <tr>\n",
       "      <th>28</th>\n",
       "      <td>63022</td>\n",
       "      <td>0.138613</td>\n",
       "      <td>0.415385</td>\n",
       "      <td>1</td>\n",
       "      <td>0.105589</td>\n",
       "      <td>0</td>\n",
       "      <td>1</td>\n",
       "      <td>-0.390077</td>\n",
       "      <td>0.000112</td>\n",
       "      <td>0.238754</td>\n",
       "      <td>0</td>\n",
       "      <td>1</td>\n",
       "      <td>0</td>\n",
       "      <td>0</td>\n",
       "      <td>0.973563</td>\n",
       "      <td>29</td>\n",
       "    </tr>\n",
       "    <tr>\n",
       "      <th>29</th>\n",
       "      <td>3563</td>\n",
       "      <td>0.104575</td>\n",
       "      <td>0.430769</td>\n",
       "      <td>1</td>\n",
       "      <td>0.105589</td>\n",
       "      <td>0</td>\n",
       "      <td>1</td>\n",
       "      <td>-0.367033</td>\n",
       "      <td>0.003254</td>\n",
       "      <td>0.027682</td>\n",
       "      <td>0</td>\n",
       "      <td>1</td>\n",
       "      <td>0</td>\n",
       "      <td>1</td>\n",
       "      <td>0.973481</td>\n",
       "      <td>30</td>\n",
       "    </tr>\n",
       "  </tbody>\n",
       "</table>\n",
       "</div>"
      ],
      "text/plain": [
       "        id    gender       age  driving_license  region_code  \\\n",
       "0   153905  0.104575  0.523077                1     0.187668   \n",
       "1   304778  0.104575  0.338462                1     0.187668   \n",
       "2   212634  0.138613  0.369231                1     0.187668   \n",
       "3   321131  0.104575  0.138462                1     0.187668   \n",
       "4   249625  0.138613  0.400000                1     0.128293   \n",
       "5   215304  0.138613  0.400000                1     0.187668   \n",
       "6    85548  0.138613  0.338462                1     0.066410   \n",
       "7   257393  0.138613  0.384615                1     0.187668   \n",
       "8   222367  0.104575  0.400000                1     0.187668   \n",
       "9   277943  0.104575  0.400000                1     0.187668   \n",
       "10   60998  0.138613  0.692308                1     0.187668   \n",
       "11  214637  0.138613  0.369231                1     0.187668   \n",
       "12  178876  0.104575  0.323077                1     0.187668   \n",
       "13  142164  0.138613  0.369231                1     0.063992   \n",
       "14   86552  0.138613  0.215385                1     0.187668   \n",
       "15   42621  0.138613  0.215385                1     0.195000   \n",
       "16  268163  0.104575  0.430769                1     0.105589   \n",
       "17  150953  0.138613  0.323077                1     0.096258   \n",
       "18  213167  0.104575  0.276923                1     0.187668   \n",
       "19  213219  0.138613  0.492308                1     0.187668   \n",
       "20   53878  0.138613  0.307692                1     0.090327   \n",
       "21  252402  0.104575  0.400000                1     0.187668   \n",
       "22  359005  0.138613  0.230769                1     0.187668   \n",
       "23   39788  0.138613  0.353846                1     0.072498   \n",
       "24   31998  0.138613  0.246154                1     0.156985   \n",
       "25    5424  0.138613  0.384615                1     0.187668   \n",
       "26  316583  0.104575  0.461538                1     0.187668   \n",
       "27  232918  0.104575  0.323077                1     0.187668   \n",
       "28   63022  0.138613  0.415385                1     0.105589   \n",
       "29    3563  0.104575  0.430769                1     0.105589   \n",
       "\n",
       "    previously_insured  vehicle_damage  annual_premium  policy_sales_channel  \\\n",
       "0                    0               1        1.672661              0.000046   \n",
       "1                    0               1        1.337529              0.000144   \n",
       "2                    0               1        6.400999              0.209127   \n",
       "3                    0               1       -0.363969              0.000177   \n",
       "4                    0               1        4.475058              0.209127   \n",
       "5                    0               1        5.218182              0.209127   \n",
       "6                    0               1        0.667199              0.002276   \n",
       "7                    0               1        2.543790              0.004835   \n",
       "8                    0               1        5.127539              0.209127   \n",
       "9                    0               1        2.325408              0.194987   \n",
       "10                   0               1        2.400866              0.209127   \n",
       "11                   0               1        4.584815              0.209127   \n",
       "12                   0               1        5.953846              0.209127   \n",
       "13                   0               1       -0.217316              0.001102   \n",
       "14                   0               1        3.779554              0.017518   \n",
       "15                   0               1        1.776490              0.209127   \n",
       "16                   0               1        2.324476              0.209127   \n",
       "17                   0               1       -0.454212              0.007554   \n",
       "18                   0               1        1.552314              0.001368   \n",
       "19                   0               1        0.596870              0.000085   \n",
       "20                   0               1       -0.725208              0.000377   \n",
       "21                   0               1        3.537196              0.209127   \n",
       "22                   0               1        3.947053              0.002348   \n",
       "23                   0               1        1.323277              0.000131   \n",
       "24                   0               1       -0.158575              0.194987   \n",
       "25                   0               1        2.543790              0.209127   \n",
       "26                   0               1        0.523410              0.000151   \n",
       "27                   0               1        4.514419              0.194987   \n",
       "28                   0               1       -0.390077              0.000112   \n",
       "29                   0               1       -0.367033              0.003254   \n",
       "\n",
       "     vintage  vehicle_age_below_1_year  vehicle_age_between_1_2_year  \\\n",
       "0   0.906574                         0                             1   \n",
       "1   0.173010                         0                             1   \n",
       "2   0.930796                         0                             1   \n",
       "3   0.287197                         1                             0   \n",
       "4   0.076125                         0                             1   \n",
       "5   0.276817                         0                             0   \n",
       "6   0.003460                         0                             0   \n",
       "7   0.166090                         0                             0   \n",
       "8   0.487889                         0                             1   \n",
       "9   0.996540                         0                             0   \n",
       "10  0.027682                         0                             0   \n",
       "11  0.387543                         0                             1   \n",
       "12  0.224913                         0                             1   \n",
       "13  0.996540                         0                             1   \n",
       "14  0.207612                         0                             1   \n",
       "15  0.262976                         1                             0   \n",
       "16  0.038062                         0                             1   \n",
       "17  0.003460                         0                             1   \n",
       "18  0.768166                         1                             0   \n",
       "19  0.775087                         1                             0   \n",
       "20  0.996540                         0                             1   \n",
       "21  0.121107                         0                             0   \n",
       "22  0.494810                         0                             1   \n",
       "23  0.782007                         0                             1   \n",
       "24  0.996540                         0                             1   \n",
       "25  0.110727                         0                             1   \n",
       "26  0.906574                         0                             0   \n",
       "27  0.913495                         0                             1   \n",
       "28  0.238754                         0                             1   \n",
       "29  0.027682                         0                             1   \n",
       "\n",
       "    vehicle_age_over_2_years  response     score  ranking  \n",
       "0                          0         0  0.991283        1  \n",
       "1                          0         1  0.988699        2  \n",
       "2                          0         1  0.988140        3  \n",
       "3                          0         0  0.986865        4  \n",
       "4                          0         0  0.986183        5  \n",
       "5                          1         1  0.985154        6  \n",
       "6                          1         0  0.984886        7  \n",
       "7                          1         1  0.984867        8  \n",
       "8                          0         0  0.984148        9  \n",
       "9                          1         0  0.983260       10  \n",
       "10                         1         0  0.982281       11  \n",
       "11                         0         0  0.980676       12  \n",
       "12                         0         1  0.979671       13  \n",
       "13                         0         1  0.978660       14  \n",
       "14                         0         1  0.978513       15  \n",
       "15                         0         0  0.978086       16  \n",
       "16                         0         1  0.977547       17  \n",
       "17                         0         0  0.977473       18  \n",
       "18                         0         1  0.976634       19  \n",
       "19                         0         1  0.976348       20  \n",
       "20                         0         0  0.976167       21  \n",
       "21                         1         0  0.975540       22  \n",
       "22                         0         1  0.975232       23  \n",
       "23                         0         1  0.975211       24  \n",
       "24                         0         1  0.974861       25  \n",
       "25                         0         0  0.974052       26  \n",
       "26                         1         1  0.973909       27  \n",
       "27                         0         0  0.973773       28  \n",
       "28                         0         0  0.973563       29  \n",
       "29                         0         1  0.973481       30  "
      ]
     },
     "execution_count": 54,
     "metadata": {},
     "output_type": "execute_result"
    }
   ],
   "source": [
    "df_predict_xgb = data_preparation_yhat_model('response',x_validation.copy(),y_validation.copy(), yhat_xgb_tuned )\n",
    "df_predict_xgb['ranking'] = df_predict_xgb.index+1\n",
    "df_predict_xgb.head(30)"
   ]
  },
  {
   "cell_type": "markdown",
   "id": "powered-timber",
   "metadata": {
    "ExecuteTime": {
     "end_time": "2021-08-03T22:05:23.083706Z",
     "start_time": "2021-08-03T22:05:22.993727Z"
    }
   },
   "source": [
    "# 10. **Business main questions:**"
   ]
  },
  {
   "cell_type": "code",
   "execution_count": 55,
   "id": "rural-metro",
   "metadata": {
    "ExecuteTime": {
     "end_time": "2021-08-06T23:31:35.445771Z",
     "start_time": "2021-08-06T23:31:34.863908Z"
    }
   },
   "outputs": [
    {
     "data": {
      "image/png": "[encoded data removed]",
      "text/plain": [
       "<Figure size 432x288 with 1 Axes>"
      ]
     },
     "metadata": {
      "needs_background": "light"
     },
     "output_type": "display_data"
    }
   ],
   "source": [
    "#fig, axs = plt.subplots(ncols=2, figsize= (15,5))\n",
    "skplt.metrics.plot_cumulative_gain(y_test, yhat_xgb_tuned)\n",
    "#skplt.metrics.plot_lift_curve(y_test, yhat_xgb_tuned,ax=axs[1]);\n",
    "plt.axvline(0.26, 0, 1, color='yellow', ls='--', lw=3);"
   ]
  },
  {
   "cell_type": "markdown",
   "id": "solved-meter",
   "metadata": {},
   "source": [
    "**1. What percentage of customers interested in purchasing a car insurance will the sales team be able to hire by making 20.000 calls?**"
   ]
  },
  {
   "cell_type": "code",
   "execution_count": 56,
   "id": "bridal-representative",
   "metadata": {
    "ExecuteTime": {
     "end_time": "2021-08-06T23:34:54.225606Z",
     "start_time": "2021-08-06T23:34:54.197611Z"
    }
   },
   "outputs": [
    {
     "name": "stdout",
     "output_type": "stream",
     "text": [
      "20.000 calls would cover 69.429% of the interested customers \n"
     ]
    }
   ],
   "source": [
    "percent_of_dataset = 20000 / len(x_validation)\n",
    "percent_of_dataset\n",
    "recall = recall_at_k( df_predict_xgb ,'response' , k=20000 )*100\n",
    "print(\"20.000 calls would cover {}% of the interested customers \".format(np.round(recall,3)) )\n"
   ]
  },
  {
   "cell_type": "markdown",
   "id": "altered-deviation",
   "metadata": {},
   "source": [
    "**2. What if the ability of the sales team increase to 40.000 calls. What percentage of customers interested in purchasing an insurance will the sales team be able to contact?**"
   ]
  },
  {
   "cell_type": "code",
   "execution_count": 57,
   "id": "bound-hayes",
   "metadata": {
    "ExecuteTime": {
     "end_time": "2021-08-06T23:35:03.215530Z",
     "start_time": "2021-08-06T23:35:03.201515Z"
    }
   },
   "outputs": [
    {
     "name": "stdout",
     "output_type": "stream",
     "text": [
      "40.000 calls represents 52.48% of the dataset and those would cover 99.479% of the interested customers \n"
     ]
    }
   ],
   "source": [
    "percent_of_dataset = np.round((40000 / len(x_validation) )*100,2)\n",
    "recall = recall_at_k( df_predict_xgb ,'response' , k=40000 )*100\n",
    "print(\"40.000 calls represents {}% of the dataset and those would cover {}% of the interested customers \".format(percent_of_dataset, np.round(recall,3)) )"
   ]
  },
  {
   "cell_type": "markdown",
   "id": "fabulous-surge",
   "metadata": {
    "ExecuteTime": {
     "end_time": "2021-08-03T21:46:24.322997Z",
     "start_time": "2021-08-03T21:46:24.314967Z"
    }
   },
   "source": [
    "**3. How many calls does the sales team need to make in order to reach 80% of the interested customers?**"
   ]
  },
  {
   "cell_type": "code",
   "execution_count": 58,
   "id": "forty-creature",
   "metadata": {
    "ExecuteTime": {
     "end_time": "2021-08-06T23:35:42.486863Z",
     "start_time": "2021-08-06T23:35:42.477865Z"
    }
   },
   "outputs": [
    {
     "data": {
      "text/plain": [
       "24391.04"
      ]
     },
     "execution_count": 58,
     "metadata": {},
     "output_type": "execute_result"
    }
   ],
   "source": [
    "nr_customers = len(x_validation)*0.32\n",
    "nr_customers"
   ]
  },
  {
   "cell_type": "code",
   "execution_count": 59,
   "id": "postal-timber",
   "metadata": {
    "ExecuteTime": {
     "end_time": "2021-08-06T23:35:45.341209Z",
     "start_time": "2021-08-06T23:35:45.318197Z"
    }
   },
   "outputs": [
    {
     "name": "stdout",
     "output_type": "stream",
     "text": [
      "80.09329572575396\n",
      "For 80% of the interested customers, the sales team would need to make 24.050 calls\n"
     ]
    }
   ],
   "source": [
    "recall = recall_at_k( df_predict_xgb ,'response' , k=24050)*100\n",
    "print(recall)\n",
    "\n",
    "print('For 80% of the interested customers, the sales team would need to make 24.050 calls')"
   ]
  }
 ],
 "metadata": {
  "kernelspec": {
   "display_name": "Python 3",
   "language": "python",
   "name": "python3"
  },
  "language_info": {
   "codemirror_mode": {
    "name": "ipython",
    "version": 3
   },
   "file_extension": ".py",
   "mimetype": "text/x-python",
   "name": "python",
   "nbconvert_exporter": "python",
   "pygments_lexer": "ipython3",
   "version": "3.8.8"
  }
 },
 "nbformat": 4,
 "nbformat_minor": 5
}
