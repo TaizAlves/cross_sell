{
 "cells": [
  {
   "cell_type": "code",
   "execution_count": 1,
   "id": "sharing-switzerland",
   "metadata": {
    "ExecuteTime": {
     "end_time": "2021-07-29T23:40:22.369983Z",
     "start_time": "2021-07-29T23:40:21.523184Z"
    }
   },
   "outputs": [],
   "source": [
    "import pandas as pd\n",
    "import pandas.io.sql as psql\n",
    "import psycopg2 as pg\n",
    "\n",
    "import json"
   ]
  },
  {
   "cell_type": "code",
   "execution_count": null,
   "id": "native-hebrew",
   "metadata": {
    "ExecuteTime": {
     "end_time": "2021-07-18T15:30:31.799118Z",
     "start_time": "2021-07-18T15:30:19.291067Z"
    }
   },
   "outputs": [],
   "source": [
    "#!pip install psycopg2"
   ]
  },
  {
   "cell_type": "markdown",
   "id": "static-jerusalem",
   "metadata": {
    "ExecuteTime": {
     "end_time": "2021-07-18T17:43:35.187957Z",
     "start_time": "2021-07-18T17:43:35.172467Z"
    }
   },
   "source": [
    "# 1.0 Conectando ao Banco de Dados"
   ]
  },
  {
   "cell_type": "code",
   "execution_count": 2,
   "id": "utility-allowance",
   "metadata": {
    "ExecuteTime": {
     "end_time": "2021-07-29T23:40:24.265553Z",
     "start_time": "2021-07-29T23:40:24.245595Z"
    }
   },
   "outputs": [],
   "source": [
    "with open('../credential.json') as arquivo:\n",
    "  credential = json.load(arquivo)"
   ]
  },
  {
   "cell_type": "code",
   "execution_count": 4,
   "id": "explicit-missile",
   "metadata": {
    "ExecuteTime": {
     "end_time": "2021-07-29T23:40:33.812306Z",
     "start_time": "2021-07-29T23:40:31.572831Z"
    }
   },
   "outputs": [],
   "source": [
    "conn = pg.connect(user = credential['username'],\n",
    "                 password= credential['password'],\n",
    "                 host = credential['host'],\n",
    "                port = credential['port'],\n",
    "                 database = credential['database'])"
   ]
  },
  {
   "cell_type": "markdown",
   "id": "beneficial-glasgow",
   "metadata": {},
   "source": [
    "## 1.1 Conectando com banco de Dados pelo Pandas"
   ]
  },
  {
   "cell_type": "code",
   "execution_count": null,
   "id": "respiratory-palestine",
   "metadata": {
    "ExecuteTime": {
     "start_time": "2021-07-29T23:40:36.055Z"
    }
   },
   "outputs": [],
   "source": [
    "query = ''' \n",
    "        SELECT *\n",
    "        FROM pa004.users u LEFT JOIN pa004.vehicle v ON ( u.id = v.id )\n",
    "                      LEFT JOIN pa004.insurance i ON ( u.id = i.id )\n",
    "'''\n",
    "\n",
    "\n",
    "df1 = pd.read_sql(query, conn)\n",
    "df1.set_index('id')\n",
    "df1.head()"
   ]
  },
  {
   "cell_type": "code",
   "execution_count": null,
   "id": "western-thesaurus",
   "metadata": {
    "ExecuteTime": {
     "start_time": "2021-07-29T23:40:44.864Z"
    }
   },
   "outputs": [],
   "source": [
    "df1.to_csv('../data/raw/sql_train.csv', encoding='utf-8')"
   ]
  },
  {
   "cell_type": "code",
   "execution_count": null,
   "id": "beautiful-literacy",
   "metadata": {
    "ExecuteTime": {
     "start_time": "2021-07-29T23:41:13.314Z"
    }
   },
   "outputs": [],
   "source": [
    "#sempre fechar a conexão com o banco de dados\n",
    "conn.close()"
   ]
  },
  {
   "cell_type": "code",
   "execution_count": null,
   "id": "individual-wichita",
   "metadata": {
    "ExecuteTime": {
     "start_time": "2021-07-29T23:41:07.755Z"
    }
   },
   "outputs": [],
   "source": [
    "df1.head()\n"
   ]
  },
  {
   "cell_type": "code",
   "execution_count": null,
   "id": "critical-habitat",
   "metadata": {
    "ExecuteTime": {
     "start_time": "2021-07-29T23:42:30.947Z"
    }
   },
   "outputs": [],
   "source": [
    "df1.shape"
   ]
  }
 ],
 "metadata": {
  "kernelspec": {
   "display_name": "Python 3",
   "language": "python",
   "name": "python3"
  },
  "language_info": {
   "codemirror_mode": {
    "name": "ipython",
    "version": 3
   },
   "file_extension": ".py",
   "mimetype": "text/x-python",
   "name": "python",
   "nbconvert_exporter": "python",
   "pygments_lexer": "ipython3",
   "version": "3.8.8"
  }
 },
 "nbformat": 4,
 "nbformat_minor": 5
}
