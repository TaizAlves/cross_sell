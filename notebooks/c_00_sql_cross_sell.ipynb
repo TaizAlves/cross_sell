{
 "cells": [
  {
   "cell_type": "code",
   "execution_count": 1,
   "id": "sharing-switzerland",
   "metadata": {
    "ExecuteTime": {
     "end_time": "2021-07-21T14:11:57.787159Z",
     "start_time": "2021-07-21T14:11:52.641925Z"
    }
   },
   "outputs": [],
   "source": [
    "import pandas as pd\n",
    "import pandas.io.sql as psql\n",
    "import psycopg2 as pg\n",
    "\n",
    "import json"
   ]
  },
  {
   "cell_type": "code",
   "execution_count": 2,
   "id": "native-hebrew",
   "metadata": {
    "ExecuteTime": {
     "end_time": "2021-07-18T15:30:31.799118Z",
     "start_time": "2021-07-18T15:30:19.291067Z"
    }
   },
   "outputs": [
    {
     "name": "stdout",
     "output_type": "stream",
     "text": [
      "Collecting psycopg2\n",
      "  Downloading psycopg2-2.9.1-cp38-cp38-win_amd64.whl (1.1 MB)\n",
      "Installing collected packages: psycopg2\n",
      "Successfully installed psycopg2-2.9.1\n"
     ]
    }
   ],
   "source": [
    "#!pip install psycopg2"
   ]
  },
  {
   "cell_type": "markdown",
   "id": "static-jerusalem",
   "metadata": {
    "ExecuteTime": {
     "end_time": "2021-07-18T17:43:35.187957Z",
     "start_time": "2021-07-18T17:43:35.172467Z"
    }
   },
   "source": [
    "# 1.0 Conectando ao Banco de Dados"
   ]
  },
  {
   "cell_type": "code",
   "execution_count": 2,
   "id": "utility-allowance",
   "metadata": {
    "ExecuteTime": {
     "end_time": "2021-07-21T14:12:00.011010Z",
     "start_time": "2021-07-21T14:11:59.979850Z"
    }
   },
   "outputs": [],
   "source": [
    "with open('../credential.json') as arquivo:\n",
    "  credential = json.load(arquivo)"
   ]
  },
  {
   "cell_type": "code",
   "execution_count": 3,
   "id": "explicit-missile",
   "metadata": {
    "ExecuteTime": {
     "end_time": "2021-07-21T14:12:05.371873Z",
     "start_time": "2021-07-21T14:12:04.106428Z"
    }
   },
   "outputs": [],
   "source": [
    "conn = pg.connect(user = credential['username'],\n",
    "                 password= credential['password'],\n",
    "                 host = credential['host'],\n",
    "                port = credential['port'],\n",
    "                 database = credential['database'])"
   ]
  },
  {
   "cell_type": "markdown",
   "id": "beneficial-glasgow",
   "metadata": {},
   "source": [
    "## 1.1 Conectando com banco de Dados pelo Pandas"
   ]
  },
  {
   "cell_type": "code",
   "execution_count": 4,
   "id": "respiratory-palestine",
   "metadata": {
    "ExecuteTime": {
     "end_time": "2021-07-21T14:12:27.209076Z",
     "start_time": "2021-07-21T14:12:11.832985Z"
    }
   },
   "outputs": [
    {
     "data": {
      "text/html": [
       "<div>\n",
       "<style scoped>\n",
       "    .dataframe tbody tr th:only-of-type {\n",
       "        vertical-align: middle;\n",
       "    }\n",
       "\n",
       "    .dataframe tbody tr th {\n",
       "        vertical-align: top;\n",
       "    }\n",
       "\n",
       "    .dataframe thead th {\n",
       "        text-align: right;\n",
       "    }\n",
       "</style>\n",
       "<table border=\"1\" class=\"dataframe\">\n",
       "  <thead>\n",
       "    <tr style=\"text-align: right;\">\n",
       "      <th></th>\n",
       "      <th>id</th>\n",
       "      <th>gender</th>\n",
       "      <th>age</th>\n",
       "      <th>region_code</th>\n",
       "      <th>policy_sales_channel</th>\n",
       "      <th>id</th>\n",
       "      <th>driving_license</th>\n",
       "      <th>vehicle_age</th>\n",
       "      <th>vehicle_damage</th>\n",
       "      <th>id</th>\n",
       "      <th>previously_insured</th>\n",
       "      <th>annual_premium</th>\n",
       "      <th>vintage</th>\n",
       "      <th>response</th>\n",
       "    </tr>\n",
       "  </thead>\n",
       "  <tbody>\n",
       "    <tr>\n",
       "      <th>0</th>\n",
       "      <td>7</td>\n",
       "      <td>Male</td>\n",
       "      <td>23</td>\n",
       "      <td>11.0</td>\n",
       "      <td>152.0</td>\n",
       "      <td>7</td>\n",
       "      <td>1</td>\n",
       "      <td>&lt; 1 Year</td>\n",
       "      <td>Yes</td>\n",
       "      <td>7</td>\n",
       "      <td>0</td>\n",
       "      <td>23367.0</td>\n",
       "      <td>249</td>\n",
       "      <td>0</td>\n",
       "    </tr>\n",
       "    <tr>\n",
       "      <th>1</th>\n",
       "      <td>13</td>\n",
       "      <td>Female</td>\n",
       "      <td>41</td>\n",
       "      <td>15.0</td>\n",
       "      <td>14.0</td>\n",
       "      <td>13</td>\n",
       "      <td>1</td>\n",
       "      <td>1-2 Year</td>\n",
       "      <td>No</td>\n",
       "      <td>13</td>\n",
       "      <td>1</td>\n",
       "      <td>31409.0</td>\n",
       "      <td>221</td>\n",
       "      <td>0</td>\n",
       "    </tr>\n",
       "    <tr>\n",
       "      <th>2</th>\n",
       "      <td>18</td>\n",
       "      <td>Female</td>\n",
       "      <td>25</td>\n",
       "      <td>35.0</td>\n",
       "      <td>152.0</td>\n",
       "      <td>18</td>\n",
       "      <td>1</td>\n",
       "      <td>&lt; 1 Year</td>\n",
       "      <td>No</td>\n",
       "      <td>18</td>\n",
       "      <td>1</td>\n",
       "      <td>46622.0</td>\n",
       "      <td>299</td>\n",
       "      <td>0</td>\n",
       "    </tr>\n",
       "    <tr>\n",
       "      <th>3</th>\n",
       "      <td>31</td>\n",
       "      <td>Female</td>\n",
       "      <td>26</td>\n",
       "      <td>8.0</td>\n",
       "      <td>160.0</td>\n",
       "      <td>31</td>\n",
       "      <td>1</td>\n",
       "      <td>&lt; 1 Year</td>\n",
       "      <td>No</td>\n",
       "      <td>31</td>\n",
       "      <td>0</td>\n",
       "      <td>2630.0</td>\n",
       "      <td>136</td>\n",
       "      <td>0</td>\n",
       "    </tr>\n",
       "    <tr>\n",
       "      <th>4</th>\n",
       "      <td>39</td>\n",
       "      <td>Male</td>\n",
       "      <td>45</td>\n",
       "      <td>8.0</td>\n",
       "      <td>124.0</td>\n",
       "      <td>39</td>\n",
       "      <td>1</td>\n",
       "      <td>1-2 Year</td>\n",
       "      <td>Yes</td>\n",
       "      <td>39</td>\n",
       "      <td>0</td>\n",
       "      <td>42297.0</td>\n",
       "      <td>264</td>\n",
       "      <td>0</td>\n",
       "    </tr>\n",
       "  </tbody>\n",
       "</table>\n",
       "</div>"
      ],
      "text/plain": [
       "   id  gender  age  region_code  policy_sales_channel  id  driving_license  \\\n",
       "0   7    Male   23         11.0                 152.0   7                1   \n",
       "1  13  Female   41         15.0                  14.0  13                1   \n",
       "2  18  Female   25         35.0                 152.0  18                1   \n",
       "3  31  Female   26          8.0                 160.0  31                1   \n",
       "4  39    Male   45          8.0                 124.0  39                1   \n",
       "\n",
       "  vehicle_age vehicle_damage  id  previously_insured  annual_premium  vintage  \\\n",
       "0    < 1 Year            Yes   7                   0         23367.0      249   \n",
       "1    1-2 Year             No  13                   1         31409.0      221   \n",
       "2    < 1 Year             No  18                   1         46622.0      299   \n",
       "3    < 1 Year             No  31                   0          2630.0      136   \n",
       "4    1-2 Year            Yes  39                   0         42297.0      264   \n",
       "\n",
       "   response  \n",
       "0         0  \n",
       "1         0  \n",
       "2         0  \n",
       "3         0  \n",
       "4         0  "
      ]
     },
     "execution_count": 4,
     "metadata": {},
     "output_type": "execute_result"
    }
   ],
   "source": [
    "query = ''' \n",
    "        SELECT *\n",
    "        FROM pa004.users u INNER JOIN pa004.vehicle v ON ( u.id = v.id )\n",
    "                      INNER JOIN pa004.insurance i ON ( u.id = i.id )\n",
    "'''\n",
    "\n",
    "\n",
    "df1 = pd.read_sql(query, conn)\n",
    "df1.head()"
   ]
  },
  {
   "cell_type": "code",
   "execution_count": 5,
   "id": "western-thesaurus",
   "metadata": {
    "ExecuteTime": {
     "end_time": "2021-07-21T14:13:37.826060Z",
     "start_time": "2021-07-21T14:13:33.568467Z"
    }
   },
   "outputs": [],
   "source": [
    "#df1.to_csv('../data/raw/train.csv')"
   ]
  },
  {
   "cell_type": "code",
   "execution_count": 6,
   "id": "beautiful-literacy",
   "metadata": {
    "ExecuteTime": {
     "end_time": "2021-07-21T14:15:10.197908Z",
     "start_time": "2021-07-21T14:15:10.097630Z"
    }
   },
   "outputs": [],
   "source": [
    "#sempre fechar a conexão com o banco de dados\n",
    "conn.close()"
   ]
  },
  {
   "cell_type": "code",
   "execution_count": null,
   "id": "individual-wichita",
   "metadata": {},
   "outputs": [],
   "source": []
  }
 ],
 "metadata": {
  "kernelspec": {
   "display_name": "Python 3",
   "language": "python",
   "name": "python3"
  },
  "language_info": {
   "codemirror_mode": {
    "name": "ipython",
    "version": 3
   },
   "file_extension": ".py",
   "mimetype": "text/x-python",
   "name": "python",
   "nbconvert_exporter": "python",
   "pygments_lexer": "ipython3",
   "version": "3.8.8"
  }
 },
 "nbformat": 4,
 "nbformat_minor": 5
}
