{
 "cells": [
  {
   "cell_type": "markdown",
   "id": "deadly-premiere",
   "metadata": {},
   "source": [
    "# 0.0. Imports"
   ]
  },
  {
   "cell_type": "code",
   "execution_count": 1,
   "id": "technical-slide",
   "metadata": {
    "ExecuteTime": {
     "end_time": "2021-08-02T12:01:51.918766Z",
     "start_time": "2021-08-02T12:01:38.941111Z"
    }
   },
   "outputs": [
    {
     "name": "stderr",
     "output_type": "stream",
     "text": [
      "In C:\\Users\\ACER\\anaconda3\\envs\\datasciencemproducao\\lib\\site-packages\\matplotlib\\mpl-data\\stylelib\\_classic_test.mplstyle: \n",
      "The text.latex.preview rcparam was deprecated in Matplotlib 3.3 and will be removed two minor releases later.\n",
      "In C:\\Users\\ACER\\anaconda3\\envs\\datasciencemproducao\\lib\\site-packages\\matplotlib\\mpl-data\\stylelib\\_classic_test.mplstyle: \n",
      "The mathtext.fallback_to_cm rcparam was deprecated in Matplotlib 3.3 and will be removed two minor releases later.\n",
      "In C:\\Users\\ACER\\anaconda3\\envs\\datasciencemproducao\\lib\\site-packages\\matplotlib\\mpl-data\\stylelib\\_classic_test.mplstyle: Support for setting the 'mathtext.fallback_to_cm' rcParam is deprecated since 3.3 and will be removed two minor releases later; use 'mathtext.fallback : 'cm' instead.\n",
      "In C:\\Users\\ACER\\anaconda3\\envs\\datasciencemproducao\\lib\\site-packages\\matplotlib\\mpl-data\\stylelib\\_classic_test.mplstyle: \n",
      "The validate_bool_maybe_none function was deprecated in Matplotlib 3.3 and will be removed two minor releases later.\n",
      "In C:\\Users\\ACER\\anaconda3\\envs\\datasciencemproducao\\lib\\site-packages\\matplotlib\\mpl-data\\stylelib\\_classic_test.mplstyle: \n",
      "The savefig.jpeg_quality rcparam was deprecated in Matplotlib 3.3 and will be removed two minor releases later.\n",
      "In C:\\Users\\ACER\\anaconda3\\envs\\datasciencemproducao\\lib\\site-packages\\matplotlib\\mpl-data\\stylelib\\_classic_test.mplstyle: \n",
      "The keymap.all_axes rcparam was deprecated in Matplotlib 3.3 and will be removed two minor releases later.\n",
      "In C:\\Users\\ACER\\anaconda3\\envs\\datasciencemproducao\\lib\\site-packages\\matplotlib\\mpl-data\\stylelib\\_classic_test.mplstyle: \n",
      "The animation.avconv_path rcparam was deprecated in Matplotlib 3.3 and will be removed two minor releases later.\n",
      "In C:\\Users\\ACER\\anaconda3\\envs\\datasciencemproducao\\lib\\site-packages\\matplotlib\\mpl-data\\stylelib\\_classic_test.mplstyle: \n",
      "The animation.avconv_args rcparam was deprecated in Matplotlib 3.3 and will be removed two minor releases later.\n"
     ]
    }
   ],
   "source": [
    "import numpy  as np\n",
    "import pandas as pd\n",
    "import scikitplot as skplt\n",
    "\n",
    "import pickle\n",
    "import warnings\n",
    "import random\n",
    "\n",
    "import seaborn as sns\n",
    "from boruta                import BorutaPy\n",
    "\n",
    "from matplotlib import pyplot as plt\n",
    "\n",
    "from pandas_profiling import ProfileReport\n",
    "\n",
    "import xgboost           as xgb\n",
    "\n",
    "from sklearn import metrics         as m\n",
    "\n",
    "from sklearn.svm import SVC\n",
    "from sklearn import model_selection as ms\n",
    "from sklearn import linear_model    as lm\n",
    "from sklearn import preprocessing   as pp\n",
    "from sklearn import ensemble        as en\n",
    "from sklearn import neighbors       as nh \n",
    "from sklearn.naive_bayes import GaussianNB\n",
    "\n",
    "from sklearn.ensemble      import RandomForestClassifier\n",
    "\n",
    "from category_encoders import TargetEncoder\n",
    "\n"
   ]
  },
  {
   "cell_type": "code",
   "execution_count": 2,
   "id": "brilliant-fortune",
   "metadata": {
    "ExecuteTime": {
     "end_time": "2021-08-02T12:01:51.934361Z",
     "start_time": "2021-08-02T12:01:51.918766Z"
    }
   },
   "outputs": [],
   "source": [
    "#!pip install scikit-plot"
   ]
  },
  {
   "cell_type": "markdown",
   "id": "quarterly-programming",
   "metadata": {},
   "source": [
    "# 0.1. Helper Function"
   ]
  },
  {
   "cell_type": "code",
   "execution_count": 3,
   "id": "martial-honey",
   "metadata": {
    "ExecuteTime": {
     "end_time": "2021-08-02T12:01:51.950001Z",
     "start_time": "2021-08-02T12:01:51.934361Z"
    }
   },
   "outputs": [],
   "source": [
    "def warning_off():\n",
    "    warnings.filterwarnings('ignore', category=FutureWarning) \n",
    "    pd.options.mode.chained_assignment = None\n",
    "    \n",
    "    return None\n",
    "warning_off()"
   ]
  },
  {
   "cell_type": "code",
   "execution_count": 90,
   "id": "incorrect-absorption",
   "metadata": {
    "ExecuteTime": {
     "end_time": "2021-08-02T12:14:14.682700Z",
     "start_time": "2021-08-02T12:14:14.613739Z"
    }
   },
   "outputs": [],
   "source": [
    "def data_preparation_yhat_model(target,x_val, y_val,model):\n",
    "    # prepare dataset\n",
    "    data = x_val.copy()\n",
    "    data[target] = y_val.copy()\n",
    "    \n",
    "    # propensity score\n",
    "    data['score'] = model[:, 1].tolist()      \n",
    "    \n",
    "    data = data.sort_values('score', ascending = False)\n",
    "    \n",
    "    # reset index\n",
    "    data = data.reset_index( drop=True )\n",
    "    \n",
    "    return data\n",
    "\n",
    "\n",
    "\n",
    "def precision_at_k( data, target, k=2000):\n",
    "    \n",
    "\n",
    "    # create ranking order\n",
    "    data['ranking'] = data.index + 1 \n",
    "\n",
    "    data['precision_at_k'] = data[target].cumsum() / data['ranking']\n",
    "\n",
    "    return data.loc[k, 'precision_at_k']\n",
    "\n",
    "\n",
    "def recall_at_k(  data,target, k=2000 ):\n",
    "\n",
    "    # create ranking order\n",
    "    data['ranking'] = data.index + 1 \n",
    "\n",
    "    data['recall_at_k'] = data[target].cumsum() / data[target].sum()\n",
    "\n",
    "    return data.loc[k, 'recall_at_k']\n",
    "\n",
    "\n",
    "\n",
    "def cross_validation(data,num_folds, model_name, model,target, k, x_train, y_train, verbose= False):\n",
    "    \n",
    "    for j in reversed( range( 1, num_folds+1 ) ):\n",
    "        if verbose:\n",
    "            print( '\\nKFold Number: {}'.format( j ) )\n",
    "    \n",
    "        kfold = ms.StratifiedKFold(n_splits = num_folds, shuffle = True, random_state = 42)\n",
    "\n",
    "        precision_list = []\n",
    "        recall_list = []\n",
    "        f1_score_list = []\n",
    "\n",
    "\n",
    "        for train_cv,val_cv in kfold.split(x_train, y_train):\n",
    "\n",
    "            x_train_fold = x_train.iloc[train_cv]\n",
    "            y_train_fold = y_train.iloc[train_cv]\n",
    "\n",
    "            x_val_fold = x_train.iloc[val_cv]\n",
    "            y_val_fold = y_train.iloc[val_cv]\n",
    "\n",
    "            model_fit = model.fit(x_train_fold,y_train_fold)\n",
    "\n",
    "            yhat_model = model_fit.predict_proba(x_val_fold)\n",
    "\n",
    "            x_val_fold[target] = y_val_fold\n",
    "            \n",
    "            dataset = data_preparation_yhat_model(target,x_val_fold.copy(), y_val_fold.copy(),yhat_model)\n",
    "            precision = precision_at_k(dataset, target, k)\n",
    "            precision_list.append(precision)\n",
    "\n",
    "            recall = recall_at_k(dataset, target, k)\n",
    "            recall_list.append(recall)\n",
    "\n",
    "            f1_score = round(2*(precision * recall) / (precision + recall), 3)\n",
    "            f1_score_list.append(f1_score)\n",
    "\n",
    "        \n",
    "        \n",
    "    return pd.DataFrame( {'Model Name': model_name,\n",
    "                          'PRECISION': np.round(np.mean(precision_list), 3).astype(str) + ' +/- ' + np.round(np.std(precision_list), 3).astype(str),\n",
    "                          'RECALL': np.round( np.mean( recall_list ), 3 ).astype( str ) + ' +/- ' + np.round( np.std( recall_list ), 3 ).astype( str ),\n",
    "                          'F1_score': np.round( np.mean( f1_score_list ), 3 ).astype( str ) + ' +/- ' + np.round( np.std( f1_score_list ), 3 ).astype( str ) }, index=[0] )\n",
    "    \n",
    "   "
   ]
  },
  {
   "cell_type": "markdown",
   "id": "published-current",
   "metadata": {},
   "source": [
    "# 0.2. Load dataset"
   ]
  },
  {
   "cell_type": "code",
   "execution_count": 5,
   "id": "formal-fields",
   "metadata": {
    "ExecuteTime": {
     "end_time": "2021-08-02T12:01:53.190902Z",
     "start_time": "2021-08-02T12:01:51.987731Z"
    }
   },
   "outputs": [
    {
     "data": {
      "text/html": [
       "<div>\n",
       "<style scoped>\n",
       "    .dataframe tbody tr th:only-of-type {\n",
       "        vertical-align: middle;\n",
       "    }\n",
       "\n",
       "    .dataframe tbody tr th {\n",
       "        vertical-align: top;\n",
       "    }\n",
       "\n",
       "    .dataframe thead th {\n",
       "        text-align: right;\n",
       "    }\n",
       "</style>\n",
       "<table border=\"1\" class=\"dataframe\">\n",
       "  <thead>\n",
       "    <tr style=\"text-align: right;\">\n",
       "      <th></th>\n",
       "      <th>id</th>\n",
       "      <th>Gender</th>\n",
       "      <th>Age</th>\n",
       "      <th>Driving_License</th>\n",
       "      <th>Region_Code</th>\n",
       "      <th>Previously_Insured</th>\n",
       "      <th>Vehicle_Age</th>\n",
       "      <th>Vehicle_Damage</th>\n",
       "      <th>Annual_Premium</th>\n",
       "      <th>Policy_Sales_Channel</th>\n",
       "      <th>Vintage</th>\n",
       "      <th>Response</th>\n",
       "    </tr>\n",
       "  </thead>\n",
       "  <tbody>\n",
       "    <tr>\n",
       "      <th>0</th>\n",
       "      <td>1</td>\n",
       "      <td>Male</td>\n",
       "      <td>44</td>\n",
       "      <td>1</td>\n",
       "      <td>28.0</td>\n",
       "      <td>0</td>\n",
       "      <td>&gt; 2 Years</td>\n",
       "      <td>Yes</td>\n",
       "      <td>40454.0</td>\n",
       "      <td>26.0</td>\n",
       "      <td>217</td>\n",
       "      <td>1</td>\n",
       "    </tr>\n",
       "    <tr>\n",
       "      <th>1</th>\n",
       "      <td>2</td>\n",
       "      <td>Male</td>\n",
       "      <td>76</td>\n",
       "      <td>1</td>\n",
       "      <td>3.0</td>\n",
       "      <td>0</td>\n",
       "      <td>1-2 Year</td>\n",
       "      <td>No</td>\n",
       "      <td>33536.0</td>\n",
       "      <td>26.0</td>\n",
       "      <td>183</td>\n",
       "      <td>0</td>\n",
       "    </tr>\n",
       "    <tr>\n",
       "      <th>2</th>\n",
       "      <td>3</td>\n",
       "      <td>Male</td>\n",
       "      <td>47</td>\n",
       "      <td>1</td>\n",
       "      <td>28.0</td>\n",
       "      <td>0</td>\n",
       "      <td>&gt; 2 Years</td>\n",
       "      <td>Yes</td>\n",
       "      <td>38294.0</td>\n",
       "      <td>26.0</td>\n",
       "      <td>27</td>\n",
       "      <td>1</td>\n",
       "    </tr>\n",
       "    <tr>\n",
       "      <th>3</th>\n",
       "      <td>4</td>\n",
       "      <td>Male</td>\n",
       "      <td>21</td>\n",
       "      <td>1</td>\n",
       "      <td>11.0</td>\n",
       "      <td>1</td>\n",
       "      <td>&lt; 1 Year</td>\n",
       "      <td>No</td>\n",
       "      <td>28619.0</td>\n",
       "      <td>152.0</td>\n",
       "      <td>203</td>\n",
       "      <td>0</td>\n",
       "    </tr>\n",
       "    <tr>\n",
       "      <th>4</th>\n",
       "      <td>5</td>\n",
       "      <td>Female</td>\n",
       "      <td>29</td>\n",
       "      <td>1</td>\n",
       "      <td>41.0</td>\n",
       "      <td>1</td>\n",
       "      <td>&lt; 1 Year</td>\n",
       "      <td>No</td>\n",
       "      <td>27496.0</td>\n",
       "      <td>152.0</td>\n",
       "      <td>39</td>\n",
       "      <td>0</td>\n",
       "    </tr>\n",
       "  </tbody>\n",
       "</table>\n",
       "</div>"
      ],
      "text/plain": [
       "   id  Gender  Age  Driving_License  Region_Code  Previously_Insured  \\\n",
       "0   1    Male   44                1         28.0                   0   \n",
       "1   2    Male   76                1          3.0                   0   \n",
       "2   3    Male   47                1         28.0                   0   \n",
       "3   4    Male   21                1         11.0                   1   \n",
       "4   5  Female   29                1         41.0                   1   \n",
       "\n",
       "  Vehicle_Age Vehicle_Damage  Annual_Premium  Policy_Sales_Channel  Vintage  \\\n",
       "0   > 2 Years            Yes         40454.0                  26.0      217   \n",
       "1    1-2 Year             No         33536.0                  26.0      183   \n",
       "2   > 2 Years            Yes         38294.0                  26.0       27   \n",
       "3    < 1 Year             No         28619.0                 152.0      203   \n",
       "4    < 1 Year             No         27496.0                 152.0       39   \n",
       "\n",
       "   Response  \n",
       "0         1  \n",
       "1         0  \n",
       "2         1  \n",
       "3         0  \n",
       "4         0  "
      ]
     },
     "execution_count": 5,
     "metadata": {},
     "output_type": "execute_result"
    }
   ],
   "source": [
    "df_raw = pd.read_csv('../data/raw/train.csv')\n",
    "df_raw.head()"
   ]
  },
  {
   "cell_type": "markdown",
   "id": "express-working",
   "metadata": {},
   "source": [
    "# 1.0. Data Description"
   ]
  },
  {
   "cell_type": "code",
   "execution_count": 6,
   "id": "incorporated-steal",
   "metadata": {
    "ExecuteTime": {
     "end_time": "2021-08-02T12:01:53.253401Z",
     "start_time": "2021-08-02T12:01:53.190902Z"
    }
   },
   "outputs": [],
   "source": [
    "df1 = df_raw.copy()"
   ]
  },
  {
   "cell_type": "markdown",
   "id": "uniform-medicaid",
   "metadata": {},
   "source": [
    "## 1.1. Rename Columns"
   ]
  },
  {
   "cell_type": "code",
   "execution_count": 7,
   "id": "grave-sigma",
   "metadata": {
    "ExecuteTime": {
     "end_time": "2021-08-02T12:01:53.306818Z",
     "start_time": "2021-08-02T12:01:53.253401Z"
    }
   },
   "outputs": [
    {
     "data": {
      "text/html": [
       "<div>\n",
       "<style scoped>\n",
       "    .dataframe tbody tr th:only-of-type {\n",
       "        vertical-align: middle;\n",
       "    }\n",
       "\n",
       "    .dataframe tbody tr th {\n",
       "        vertical-align: top;\n",
       "    }\n",
       "\n",
       "    .dataframe thead th {\n",
       "        text-align: right;\n",
       "    }\n",
       "</style>\n",
       "<table border=\"1\" class=\"dataframe\">\n",
       "  <thead>\n",
       "    <tr style=\"text-align: right;\">\n",
       "      <th></th>\n",
       "      <th>id</th>\n",
       "      <th>gender</th>\n",
       "      <th>age</th>\n",
       "      <th>driving_license</th>\n",
       "      <th>region_code</th>\n",
       "      <th>previously_insured</th>\n",
       "      <th>vehicle_age</th>\n",
       "      <th>vehicle_damage</th>\n",
       "      <th>annual_premium</th>\n",
       "      <th>policy_sales_channel</th>\n",
       "      <th>vintage</th>\n",
       "      <th>response</th>\n",
       "    </tr>\n",
       "  </thead>\n",
       "  <tbody>\n",
       "    <tr>\n",
       "      <th>0</th>\n",
       "      <td>1</td>\n",
       "      <td>Male</td>\n",
       "      <td>44</td>\n",
       "      <td>1</td>\n",
       "      <td>28.0</td>\n",
       "      <td>0</td>\n",
       "      <td>&gt; 2 Years</td>\n",
       "      <td>Yes</td>\n",
       "      <td>40454.0</td>\n",
       "      <td>26.0</td>\n",
       "      <td>217</td>\n",
       "      <td>1</td>\n",
       "    </tr>\n",
       "    <tr>\n",
       "      <th>1</th>\n",
       "      <td>2</td>\n",
       "      <td>Male</td>\n",
       "      <td>76</td>\n",
       "      <td>1</td>\n",
       "      <td>3.0</td>\n",
       "      <td>0</td>\n",
       "      <td>1-2 Year</td>\n",
       "      <td>No</td>\n",
       "      <td>33536.0</td>\n",
       "      <td>26.0</td>\n",
       "      <td>183</td>\n",
       "      <td>0</td>\n",
       "    </tr>\n",
       "    <tr>\n",
       "      <th>2</th>\n",
       "      <td>3</td>\n",
       "      <td>Male</td>\n",
       "      <td>47</td>\n",
       "      <td>1</td>\n",
       "      <td>28.0</td>\n",
       "      <td>0</td>\n",
       "      <td>&gt; 2 Years</td>\n",
       "      <td>Yes</td>\n",
       "      <td>38294.0</td>\n",
       "      <td>26.0</td>\n",
       "      <td>27</td>\n",
       "      <td>1</td>\n",
       "    </tr>\n",
       "    <tr>\n",
       "      <th>3</th>\n",
       "      <td>4</td>\n",
       "      <td>Male</td>\n",
       "      <td>21</td>\n",
       "      <td>1</td>\n",
       "      <td>11.0</td>\n",
       "      <td>1</td>\n",
       "      <td>&lt; 1 Year</td>\n",
       "      <td>No</td>\n",
       "      <td>28619.0</td>\n",
       "      <td>152.0</td>\n",
       "      <td>203</td>\n",
       "      <td>0</td>\n",
       "    </tr>\n",
       "    <tr>\n",
       "      <th>4</th>\n",
       "      <td>5</td>\n",
       "      <td>Female</td>\n",
       "      <td>29</td>\n",
       "      <td>1</td>\n",
       "      <td>41.0</td>\n",
       "      <td>1</td>\n",
       "      <td>&lt; 1 Year</td>\n",
       "      <td>No</td>\n",
       "      <td>27496.0</td>\n",
       "      <td>152.0</td>\n",
       "      <td>39</td>\n",
       "      <td>0</td>\n",
       "    </tr>\n",
       "  </tbody>\n",
       "</table>\n",
       "</div>"
      ],
      "text/plain": [
       "   id  gender  age  driving_license  region_code  previously_insured  \\\n",
       "0   1    Male   44                1         28.0                   0   \n",
       "1   2    Male   76                1          3.0                   0   \n",
       "2   3    Male   47                1         28.0                   0   \n",
       "3   4    Male   21                1         11.0                   1   \n",
       "4   5  Female   29                1         41.0                   1   \n",
       "\n",
       "  vehicle_age vehicle_damage  annual_premium  policy_sales_channel  vintage  \\\n",
       "0   > 2 Years            Yes         40454.0                  26.0      217   \n",
       "1    1-2 Year             No         33536.0                  26.0      183   \n",
       "2   > 2 Years            Yes         38294.0                  26.0       27   \n",
       "3    < 1 Year             No         28619.0                 152.0      203   \n",
       "4    < 1 Year             No         27496.0                 152.0       39   \n",
       "\n",
       "   response  \n",
       "0         1  \n",
       "1         0  \n",
       "2         1  \n",
       "3         0  \n",
       "4         0  "
      ]
     },
     "execution_count": 7,
     "metadata": {},
     "output_type": "execute_result"
    }
   ],
   "source": [
    "#Lower case \n",
    "col_names = [name.lower() for name in df1.columns]\n",
    "\n",
    "df1.columns = col_names\n",
    "df1.head()"
   ]
  },
  {
   "cell_type": "markdown",
   "id": "respected-communication",
   "metadata": {},
   "source": [
    "## 1.2. Data Dimensions"
   ]
  },
  {
   "cell_type": "code",
   "execution_count": 8,
   "id": "minor-latin",
   "metadata": {
    "ExecuteTime": {
     "end_time": "2021-08-02T12:01:53.322437Z",
     "start_time": "2021-08-02T12:01:53.306818Z"
    }
   },
   "outputs": [
    {
     "name": "stdout",
     "output_type": "stream",
     "text": [
      "Columns:  12\n",
      "Rows:  381109\n"
     ]
    }
   ],
   "source": [
    "print('Columns: ', df1.shape[1])\n",
    "print('Rows: ',df1.shape[0])"
   ]
  },
  {
   "cell_type": "markdown",
   "id": "dominican-relaxation",
   "metadata": {},
   "source": [
    "## 1.3. Data Types"
   ]
  },
  {
   "cell_type": "code",
   "execution_count": 9,
   "id": "proprietary-bullet",
   "metadata": {
    "ExecuteTime": {
     "end_time": "2021-08-02T12:01:53.353689Z",
     "start_time": "2021-08-02T12:01:53.322437Z"
    }
   },
   "outputs": [
    {
     "data": {
      "text/plain": [
       "id                        int64\n",
       "gender                   object\n",
       "age                       int64\n",
       "driving_license           int64\n",
       "region_code             float64\n",
       "previously_insured        int64\n",
       "vehicle_age              object\n",
       "vehicle_damage           object\n",
       "annual_premium          float64\n",
       "policy_sales_channel    float64\n",
       "vintage                   int64\n",
       "response                  int64\n",
       "dtype: object"
      ]
     },
     "execution_count": 9,
     "metadata": {},
     "output_type": "execute_result"
    }
   ],
   "source": [
    "df1.dtypes"
   ]
  },
  {
   "cell_type": "markdown",
   "id": "designing-disabled",
   "metadata": {},
   "source": [
    "### 1.3.1 Change Data Types"
   ]
  },
  {
   "cell_type": "code",
   "execution_count": 10,
   "id": "pending-worry",
   "metadata": {
    "ExecuteTime": {
     "end_time": "2021-08-02T12:01:53.522991Z",
     "start_time": "2021-08-02T12:01:53.353689Z"
    }
   },
   "outputs": [
    {
     "data": {
      "text/plain": [
       "id                        int32\n",
       "gender                   object\n",
       "age                       int32\n",
       "driving_license           int32\n",
       "region_code               int32\n",
       "previously_insured        int32\n",
       "vehicle_age              object\n",
       "vehicle_damage           object\n",
       "annual_premium          float64\n",
       "policy_sales_channel      int32\n",
       "vintage                   int32\n",
       "response                  int32\n",
       "dtype: object"
      ]
     },
     "execution_count": 10,
     "metadata": {},
     "output_type": "execute_result"
    }
   ],
   "source": [
    "df1['region_code'] = df1['region_code'].astype( int)\n",
    "df1['policy_sales_channel'] = df1['policy_sales_channel'].astype( int )\n",
    "df1['id'] = df1['id'].astype(np.int32)\n",
    "df1['age'] = df1['age'].astype(np.int32)\n",
    "df1['driving_license'] = df1['driving_license'].astype(np.int32)\n",
    "df1['previously_insured'] = df1['previously_insured'].astype(np.int32)\n",
    "df1['vintage'] = df1['vintage'].astype(np.int32)\n",
    "df1['response'] = df1['response'].astype(np.int32)\n",
    "\n",
    "df1.dtypes"
   ]
  },
  {
   "cell_type": "markdown",
   "id": "wireless-thanks",
   "metadata": {},
   "source": [
    "## 1.4. Check NA"
   ]
  },
  {
   "cell_type": "code",
   "execution_count": 11,
   "id": "derived-vaccine",
   "metadata": {
    "ExecuteTime": {
     "end_time": "2021-08-02T12:01:53.623256Z",
     "start_time": "2021-08-02T12:01:53.522991Z"
    }
   },
   "outputs": [
    {
     "data": {
      "text/plain": [
       "id                      0\n",
       "gender                  0\n",
       "age                     0\n",
       "driving_license         0\n",
       "region_code             0\n",
       "previously_insured      0\n",
       "vehicle_age             0\n",
       "vehicle_damage          0\n",
       "annual_premium          0\n",
       "policy_sales_channel    0\n",
       "vintage                 0\n",
       "response                0\n",
       "dtype: int64"
      ]
     },
     "execution_count": 11,
     "metadata": {},
     "output_type": "execute_result"
    }
   ],
   "source": [
    "df1.isna().sum()"
   ]
  },
  {
   "cell_type": "markdown",
   "id": "inclusive-doctrine",
   "metadata": {},
   "source": [
    "## 1.5. Data Descriptive"
   ]
  },
  {
   "cell_type": "code",
   "execution_count": 12,
   "id": "continent-indonesia",
   "metadata": {
    "ExecuteTime": {
     "end_time": "2021-08-02T12:01:53.739163Z",
     "start_time": "2021-08-02T12:01:53.623256Z"
    }
   },
   "outputs": [],
   "source": [
    "num_attributes = df1.select_dtypes(include= ['int32', 'float64'])\n",
    "cat_attributes = df1.select_dtypes(exclude= ['int32', 'float64','datetime64[ns]'])\n"
   ]
  },
  {
   "cell_type": "markdown",
   "id": "scientific-detail",
   "metadata": {},
   "source": [
    "### 1.5.1. Numerical Attributes"
   ]
  },
  {
   "cell_type": "code",
   "execution_count": 13,
   "id": "wicked-tiffany",
   "metadata": {
    "ExecuteTime": {
     "end_time": "2021-08-02T12:01:55.123869Z",
     "start_time": "2021-08-02T12:01:53.739163Z"
    }
   },
   "outputs": [
    {
     "data": {
      "text/html": [
       "<div>\n",
       "<style scoped>\n",
       "    .dataframe tbody tr th:only-of-type {\n",
       "        vertical-align: middle;\n",
       "    }\n",
       "\n",
       "    .dataframe tbody tr th {\n",
       "        vertical-align: top;\n",
       "    }\n",
       "\n",
       "    .dataframe thead th {\n",
       "        text-align: right;\n",
       "    }\n",
       "</style>\n",
       "<table border=\"1\" class=\"dataframe\">\n",
       "  <thead>\n",
       "    <tr style=\"text-align: right;\">\n",
       "      <th></th>\n",
       "      <th>attributes</th>\n",
       "      <th>min</th>\n",
       "      <th>max</th>\n",
       "      <th>range</th>\n",
       "      <th>mean</th>\n",
       "      <th>median</th>\n",
       "      <th>std</th>\n",
       "      <th>skew</th>\n",
       "      <th>kurtosis</th>\n",
       "    </tr>\n",
       "  </thead>\n",
       "  <tbody>\n",
       "    <tr>\n",
       "      <th>0</th>\n",
       "      <td>id</td>\n",
       "      <td>1.0</td>\n",
       "      <td>381109.0</td>\n",
       "      <td>381108.0</td>\n",
       "      <td>190555.000000</td>\n",
       "      <td>190555.0</td>\n",
       "      <td>110016.691870</td>\n",
       "      <td>9.443274e-16</td>\n",
       "      <td>-1.200000</td>\n",
       "    </tr>\n",
       "    <tr>\n",
       "      <th>1</th>\n",
       "      <td>age</td>\n",
       "      <td>20.0</td>\n",
       "      <td>85.0</td>\n",
       "      <td>65.0</td>\n",
       "      <td>38.822584</td>\n",
       "      <td>36.0</td>\n",
       "      <td>15.511591</td>\n",
       "      <td>6.725390e-01</td>\n",
       "      <td>-0.565655</td>\n",
       "    </tr>\n",
       "    <tr>\n",
       "      <th>2</th>\n",
       "      <td>driving_license</td>\n",
       "      <td>0.0</td>\n",
       "      <td>1.0</td>\n",
       "      <td>1.0</td>\n",
       "      <td>0.997869</td>\n",
       "      <td>1.0</td>\n",
       "      <td>0.046109</td>\n",
       "      <td>-2.159518e+01</td>\n",
       "      <td>464.354302</td>\n",
       "    </tr>\n",
       "    <tr>\n",
       "      <th>3</th>\n",
       "      <td>region_code</td>\n",
       "      <td>0.0</td>\n",
       "      <td>52.0</td>\n",
       "      <td>52.0</td>\n",
       "      <td>26.388807</td>\n",
       "      <td>28.0</td>\n",
       "      <td>13.229871</td>\n",
       "      <td>-1.152664e-01</td>\n",
       "      <td>-0.867857</td>\n",
       "    </tr>\n",
       "    <tr>\n",
       "      <th>4</th>\n",
       "      <td>previously_insured</td>\n",
       "      <td>0.0</td>\n",
       "      <td>1.0</td>\n",
       "      <td>1.0</td>\n",
       "      <td>0.458210</td>\n",
       "      <td>0.0</td>\n",
       "      <td>0.498251</td>\n",
       "      <td>1.677471e-01</td>\n",
       "      <td>-1.971871</td>\n",
       "    </tr>\n",
       "    <tr>\n",
       "      <th>5</th>\n",
       "      <td>annual_premium</td>\n",
       "      <td>2630.0</td>\n",
       "      <td>540165.0</td>\n",
       "      <td>537535.0</td>\n",
       "      <td>30564.389581</td>\n",
       "      <td>31669.0</td>\n",
       "      <td>17213.132474</td>\n",
       "      <td>1.766087e+00</td>\n",
       "      <td>34.004569</td>\n",
       "    </tr>\n",
       "    <tr>\n",
       "      <th>6</th>\n",
       "      <td>policy_sales_channel</td>\n",
       "      <td>1.0</td>\n",
       "      <td>163.0</td>\n",
       "      <td>162.0</td>\n",
       "      <td>112.034295</td>\n",
       "      <td>133.0</td>\n",
       "      <td>54.203924</td>\n",
       "      <td>-9.000081e-01</td>\n",
       "      <td>-0.970810</td>\n",
       "    </tr>\n",
       "    <tr>\n",
       "      <th>7</th>\n",
       "      <td>vintage</td>\n",
       "      <td>10.0</td>\n",
       "      <td>299.0</td>\n",
       "      <td>289.0</td>\n",
       "      <td>154.347397</td>\n",
       "      <td>154.0</td>\n",
       "      <td>83.671194</td>\n",
       "      <td>3.029517e-03</td>\n",
       "      <td>-1.200688</td>\n",
       "    </tr>\n",
       "    <tr>\n",
       "      <th>8</th>\n",
       "      <td>response</td>\n",
       "      <td>0.0</td>\n",
       "      <td>1.0</td>\n",
       "      <td>1.0</td>\n",
       "      <td>0.122563</td>\n",
       "      <td>0.0</td>\n",
       "      <td>0.327935</td>\n",
       "      <td>2.301906e+00</td>\n",
       "      <td>3.298788</td>\n",
       "    </tr>\n",
       "  </tbody>\n",
       "</table>\n",
       "</div>"
      ],
      "text/plain": [
       "             attributes     min       max     range           mean    median  \\\n",
       "0                    id     1.0  381109.0  381108.0  190555.000000  190555.0   \n",
       "1                   age    20.0      85.0      65.0      38.822584      36.0   \n",
       "2       driving_license     0.0       1.0       1.0       0.997869       1.0   \n",
       "3           region_code     0.0      52.0      52.0      26.388807      28.0   \n",
       "4    previously_insured     0.0       1.0       1.0       0.458210       0.0   \n",
       "5        annual_premium  2630.0  540165.0  537535.0   30564.389581   31669.0   \n",
       "6  policy_sales_channel     1.0     163.0     162.0     112.034295     133.0   \n",
       "7               vintage    10.0     299.0     289.0     154.347397     154.0   \n",
       "8              response     0.0       1.0       1.0       0.122563       0.0   \n",
       "\n",
       "             std          skew    kurtosis  \n",
       "0  110016.691870  9.443274e-16   -1.200000  \n",
       "1      15.511591  6.725390e-01   -0.565655  \n",
       "2       0.046109 -2.159518e+01  464.354302  \n",
       "3      13.229871 -1.152664e-01   -0.867857  \n",
       "4       0.498251  1.677471e-01   -1.971871  \n",
       "5   17213.132474  1.766087e+00   34.004569  \n",
       "6      54.203924 -9.000081e-01   -0.970810  \n",
       "7      83.671194  3.029517e-03   -1.200688  \n",
       "8       0.327935  2.301906e+00    3.298788  "
      ]
     },
     "execution_count": 13,
     "metadata": {},
     "output_type": "execute_result"
    }
   ],
   "source": [
    "# Central Tendency - Mean, Median\n",
    "ct1 = pd.DataFrame(num_attributes.apply(np.mean )).T\n",
    "ct2 = pd.DataFrame(num_attributes.apply(np.median )).T\n",
    "\n",
    "# dispersion - std, min, max, range, skew, kurtosis\n",
    "d1 = pd.DataFrame(num_attributes.apply( np.std)).T\n",
    "d2 = pd.DataFrame(num_attributes.apply( min)).T\n",
    "d3 = pd.DataFrame(num_attributes.apply( max)).T\n",
    "d4 = pd.DataFrame(num_attributes.apply( lambda x: x.max() - x.min())).T\n",
    "d5 = pd.DataFrame(num_attributes.apply( lambda x: x.skew() )).T\n",
    "d6 = pd.DataFrame(num_attributes.apply( lambda x: x.kurtosis() )).T\n",
    "\n",
    "# concat\n",
    "m = pd.concat([d2, d3, d4, ct1, ct2, d1, d5, d6]).T.reset_index()\n",
    "m.columns = ['attributes', 'min', 'max', 'range', 'mean', 'median', 'std', 'skew', 'kurtosis']\n",
    "m"
   ]
  },
  {
   "cell_type": "markdown",
   "id": "right-energy",
   "metadata": {
    "ExecuteTime": {
     "end_time": "2021-07-21T14:20:10.499764Z",
     "start_time": "2021-07-21T14:20:10.484088Z"
    }
   },
   "source": [
    "### 1.5.2. Categorical Attributes"
   ]
  },
  {
   "cell_type": "code",
   "execution_count": 14,
   "id": "german-implementation",
   "metadata": {
    "ExecuteTime": {
     "end_time": "2021-08-02T12:01:55.155069Z",
     "start_time": "2021-08-02T12:01:55.123869Z"
    }
   },
   "outputs": [
    {
     "data": {
      "text/html": [
       "<div>\n",
       "<style scoped>\n",
       "    .dataframe tbody tr th:only-of-type {\n",
       "        vertical-align: middle;\n",
       "    }\n",
       "\n",
       "    .dataframe tbody tr th {\n",
       "        vertical-align: top;\n",
       "    }\n",
       "\n",
       "    .dataframe thead th {\n",
       "        text-align: right;\n",
       "    }\n",
       "</style>\n",
       "<table border=\"1\" class=\"dataframe\">\n",
       "  <thead>\n",
       "    <tr style=\"text-align: right;\">\n",
       "      <th></th>\n",
       "      <th>gender</th>\n",
       "      <th>vehicle_age</th>\n",
       "      <th>vehicle_damage</th>\n",
       "    </tr>\n",
       "  </thead>\n",
       "  <tbody>\n",
       "    <tr>\n",
       "      <th>0</th>\n",
       "      <td>Male</td>\n",
       "      <td>&gt; 2 Years</td>\n",
       "      <td>Yes</td>\n",
       "    </tr>\n",
       "    <tr>\n",
       "      <th>1</th>\n",
       "      <td>Male</td>\n",
       "      <td>1-2 Year</td>\n",
       "      <td>No</td>\n",
       "    </tr>\n",
       "    <tr>\n",
       "      <th>2</th>\n",
       "      <td>Male</td>\n",
       "      <td>&gt; 2 Years</td>\n",
       "      <td>Yes</td>\n",
       "    </tr>\n",
       "    <tr>\n",
       "      <th>3</th>\n",
       "      <td>Male</td>\n",
       "      <td>&lt; 1 Year</td>\n",
       "      <td>No</td>\n",
       "    </tr>\n",
       "    <tr>\n",
       "      <th>4</th>\n",
       "      <td>Female</td>\n",
       "      <td>&lt; 1 Year</td>\n",
       "      <td>No</td>\n",
       "    </tr>\n",
       "  </tbody>\n",
       "</table>\n",
       "</div>"
      ],
      "text/plain": [
       "   gender vehicle_age vehicle_damage\n",
       "0    Male   > 2 Years            Yes\n",
       "1    Male    1-2 Year             No\n",
       "2    Male   > 2 Years            Yes\n",
       "3    Male    < 1 Year             No\n",
       "4  Female    < 1 Year             No"
      ]
     },
     "execution_count": 14,
     "metadata": {},
     "output_type": "execute_result"
    }
   ],
   "source": [
    "cat_attributes.head()"
   ]
  },
  {
   "cell_type": "code",
   "execution_count": 15,
   "id": "painful-estimate",
   "metadata": {
    "ExecuteTime": {
     "end_time": "2021-08-02T12:01:55.286594Z",
     "start_time": "2021-08-02T12:01:55.155069Z"
    }
   },
   "outputs": [
    {
     "data": {
      "text/plain": [
       "gender            2\n",
       "vehicle_age       3\n",
       "vehicle_damage    2\n",
       "dtype: int64"
      ]
     },
     "execution_count": 15,
     "metadata": {},
     "output_type": "execute_result"
    }
   ],
   "source": [
    "cat_attributes.apply( lambda x: x.unique().shape[0] )"
   ]
  },
  {
   "cell_type": "markdown",
   "id": "identified-poetry",
   "metadata": {},
   "source": [
    "## 2.0. Hypothesis"
   ]
  },
  {
   "cell_type": "markdown",
   "id": "sonic-block",
   "metadata": {
    "ExecuteTime": {
     "end_time": "2021-07-30T13:24:40.534008Z",
     "start_time": "2021-07-30T13:24:40.507147Z"
    }
   },
   "source": [
    "**Business main questions:**\n",
    "\n",
    "    - Customers : caracteristics of people who may be interested in hiring a car insurance \n",
    "    - Vehicle : What type of vehicle is more likely to be insurance (age, model, previously damaged)\n",
    "    - Insurance Company: which of our customers are more likely to take out car insurance and witch chanel to use "
   ]
  },
  {
   "cell_type": "markdown",
   "id": "mathematical-mailing",
   "metadata": {},
   "source": [
    "### 2.1 Customer Hypotheses"
   ]
  },
  {
   "cell_type": "markdown",
   "id": "aware-cowboy",
   "metadata": {},
   "source": [
    "1. Older people ( more than 35 year old) are more likely to hire an insurance?\n",
    "2. Women are more likely to contract an insurance than men?\n",
    "3. The region where people live have some influency on hire or not and insurance?\n",
    "4. Old people (over 70 years old) are not interested in car insurance ?\n",
    "5. older customers of the insurance company are more likely to take out car insurance ?\n"
   ]
  },
  {
   "cell_type": "markdown",
   "id": "sporting-father",
   "metadata": {
    "ExecuteTime": {
     "end_time": "2021-07-30T13:27:05.683990Z",
     "start_time": "2021-07-30T13:27:05.673812Z"
    }
   },
   "source": [
    "### 2.2 Vehicle Hypotheses"
   ]
  },
  {
   "cell_type": "markdown",
   "id": "forty-investor",
   "metadata": {
    "ExecuteTime": {
     "end_time": "2021-07-30T13:36:10.613067Z",
     "start_time": "2021-07-30T13:36:10.593071Z"
    }
   },
   "source": [
    "1. People who have the vehicle damage previously are more likely to hire an insurance?\n",
    "2. People don´t usually change car insurance company (fidelity) ? \n",
    "3. Newer vehicles are more insured ?"
   ]
  },
  {
   "cell_type": "markdown",
   "id": "assumed-sociology",
   "metadata": {
    "ExecuteTime": {
     "end_time": "2021-07-30T13:34:15.493187Z",
     "start_time": "2021-07-30T13:34:15.483330Z"
    }
   },
   "source": [
    "### 2.3 Company  Hypotheses"
   ]
  },
  {
   "cell_type": "markdown",
   "id": "normal-mathematics",
   "metadata": {},
   "source": [
    "1. annual premium $30,0000 or more are more likely to take out insurance police\n",
    "2. The more sales channel policy, more is the probability to response to an insurance proposal\n",
    "3. ~~what is the most efficient channel ? ~~\n",
    "4. ~~What channel is the cheapest, comparing to efficiency ?~~\n",
    "\n"
   ]
  },
  {
   "cell_type": "markdown",
   "id": "durable-verification",
   "metadata": {},
   "source": [
    "# 3.0. Feature Engineering"
   ]
  },
  {
   "cell_type": "markdown",
   "id": "empty-cowboy",
   "metadata": {
    "ExecuteTime": {
     "end_time": "2021-07-26T22:23:39.235928Z",
     "start_time": "2021-07-26T22:23:39.215732Z"
    }
   },
   "source": [
    "## 3.1. Feature Engineering"
   ]
  },
  {
   "cell_type": "code",
   "execution_count": 16,
   "id": "grateful-glenn",
   "metadata": {
    "ExecuteTime": {
     "end_time": "2021-08-02T12:01:55.371243Z",
     "start_time": "2021-08-02T12:01:55.286594Z"
    }
   },
   "outputs": [
    {
     "data": {
      "text/html": [
       "<div>\n",
       "<style scoped>\n",
       "    .dataframe tbody tr th:only-of-type {\n",
       "        vertical-align: middle;\n",
       "    }\n",
       "\n",
       "    .dataframe tbody tr th {\n",
       "        vertical-align: top;\n",
       "    }\n",
       "\n",
       "    .dataframe thead th {\n",
       "        text-align: right;\n",
       "    }\n",
       "</style>\n",
       "<table border=\"1\" class=\"dataframe\">\n",
       "  <thead>\n",
       "    <tr style=\"text-align: right;\">\n",
       "      <th></th>\n",
       "      <th>id</th>\n",
       "      <th>gender</th>\n",
       "      <th>age</th>\n",
       "      <th>driving_license</th>\n",
       "      <th>region_code</th>\n",
       "      <th>previously_insured</th>\n",
       "      <th>vehicle_age</th>\n",
       "      <th>vehicle_damage</th>\n",
       "      <th>annual_premium</th>\n",
       "      <th>policy_sales_channel</th>\n",
       "      <th>vintage</th>\n",
       "      <th>response</th>\n",
       "    </tr>\n",
       "  </thead>\n",
       "  <tbody>\n",
       "    <tr>\n",
       "      <th>0</th>\n",
       "      <td>1</td>\n",
       "      <td>Male</td>\n",
       "      <td>44</td>\n",
       "      <td>1</td>\n",
       "      <td>28</td>\n",
       "      <td>0</td>\n",
       "      <td>&gt; 2 Years</td>\n",
       "      <td>Yes</td>\n",
       "      <td>40454.0</td>\n",
       "      <td>26</td>\n",
       "      <td>217</td>\n",
       "      <td>1</td>\n",
       "    </tr>\n",
       "    <tr>\n",
       "      <th>1</th>\n",
       "      <td>2</td>\n",
       "      <td>Male</td>\n",
       "      <td>76</td>\n",
       "      <td>1</td>\n",
       "      <td>3</td>\n",
       "      <td>0</td>\n",
       "      <td>1-2 Year</td>\n",
       "      <td>No</td>\n",
       "      <td>33536.0</td>\n",
       "      <td>26</td>\n",
       "      <td>183</td>\n",
       "      <td>0</td>\n",
       "    </tr>\n",
       "    <tr>\n",
       "      <th>2</th>\n",
       "      <td>3</td>\n",
       "      <td>Male</td>\n",
       "      <td>47</td>\n",
       "      <td>1</td>\n",
       "      <td>28</td>\n",
       "      <td>0</td>\n",
       "      <td>&gt; 2 Years</td>\n",
       "      <td>Yes</td>\n",
       "      <td>38294.0</td>\n",
       "      <td>26</td>\n",
       "      <td>27</td>\n",
       "      <td>1</td>\n",
       "    </tr>\n",
       "    <tr>\n",
       "      <th>3</th>\n",
       "      <td>4</td>\n",
       "      <td>Male</td>\n",
       "      <td>21</td>\n",
       "      <td>1</td>\n",
       "      <td>11</td>\n",
       "      <td>1</td>\n",
       "      <td>&lt; 1 Year</td>\n",
       "      <td>No</td>\n",
       "      <td>28619.0</td>\n",
       "      <td>152</td>\n",
       "      <td>203</td>\n",
       "      <td>0</td>\n",
       "    </tr>\n",
       "    <tr>\n",
       "      <th>4</th>\n",
       "      <td>5</td>\n",
       "      <td>Female</td>\n",
       "      <td>29</td>\n",
       "      <td>1</td>\n",
       "      <td>41</td>\n",
       "      <td>1</td>\n",
       "      <td>&lt; 1 Year</td>\n",
       "      <td>No</td>\n",
       "      <td>27496.0</td>\n",
       "      <td>152</td>\n",
       "      <td>39</td>\n",
       "      <td>0</td>\n",
       "    </tr>\n",
       "  </tbody>\n",
       "</table>\n",
       "</div>"
      ],
      "text/plain": [
       "   id  gender  age  driving_license  region_code  previously_insured  \\\n",
       "0   1    Male   44                1           28                   0   \n",
       "1   2    Male   76                1            3                   0   \n",
       "2   3    Male   47                1           28                   0   \n",
       "3   4    Male   21                1           11                   1   \n",
       "4   5  Female   29                1           41                   1   \n",
       "\n",
       "  vehicle_age vehicle_damage  annual_premium  policy_sales_channel  vintage  \\\n",
       "0   > 2 Years            Yes         40454.0                    26      217   \n",
       "1    1-2 Year             No         33536.0                    26      183   \n",
       "2   > 2 Years            Yes         38294.0                    26       27   \n",
       "3    < 1 Year             No         28619.0                   152      203   \n",
       "4    < 1 Year             No         27496.0                   152       39   \n",
       "\n",
       "   response  \n",
       "0         1  \n",
       "1         0  \n",
       "2         1  \n",
       "3         0  \n",
       "4         0  "
      ]
     },
     "execution_count": 16,
     "metadata": {},
     "output_type": "execute_result"
    }
   ],
   "source": [
    "df2 = df1.copy()\n",
    "df2.head()"
   ]
  },
  {
   "cell_type": "code",
   "execution_count": 17,
   "id": "timely-principal",
   "metadata": {
    "ExecuteTime": {
     "end_time": "2021-08-02T12:01:55.709894Z",
     "start_time": "2021-08-02T12:01:55.371243Z"
    }
   },
   "outputs": [
    {
     "data": {
      "text/html": [
       "<div>\n",
       "<style scoped>\n",
       "    .dataframe tbody tr th:only-of-type {\n",
       "        vertical-align: middle;\n",
       "    }\n",
       "\n",
       "    .dataframe tbody tr th {\n",
       "        vertical-align: top;\n",
       "    }\n",
       "\n",
       "    .dataframe thead th {\n",
       "        text-align: right;\n",
       "    }\n",
       "</style>\n",
       "<table border=\"1\" class=\"dataframe\">\n",
       "  <thead>\n",
       "    <tr style=\"text-align: right;\">\n",
       "      <th></th>\n",
       "      <th>id</th>\n",
       "      <th>gender</th>\n",
       "      <th>age</th>\n",
       "      <th>driving_license</th>\n",
       "      <th>region_code</th>\n",
       "      <th>previously_insured</th>\n",
       "      <th>vehicle_age</th>\n",
       "      <th>vehicle_damage</th>\n",
       "      <th>annual_premium</th>\n",
       "      <th>policy_sales_channel</th>\n",
       "      <th>vintage</th>\n",
       "      <th>response</th>\n",
       "    </tr>\n",
       "  </thead>\n",
       "  <tbody>\n",
       "    <tr>\n",
       "      <th>0</th>\n",
       "      <td>1</td>\n",
       "      <td>Male</td>\n",
       "      <td>44</td>\n",
       "      <td>1</td>\n",
       "      <td>28</td>\n",
       "      <td>0</td>\n",
       "      <td>over_2_years</td>\n",
       "      <td>1</td>\n",
       "      <td>40454.0</td>\n",
       "      <td>26</td>\n",
       "      <td>217</td>\n",
       "      <td>1</td>\n",
       "    </tr>\n",
       "    <tr>\n",
       "      <th>1</th>\n",
       "      <td>2</td>\n",
       "      <td>Male</td>\n",
       "      <td>76</td>\n",
       "      <td>1</td>\n",
       "      <td>3</td>\n",
       "      <td>0</td>\n",
       "      <td>between_1_2_year</td>\n",
       "      <td>0</td>\n",
       "      <td>33536.0</td>\n",
       "      <td>26</td>\n",
       "      <td>183</td>\n",
       "      <td>0</td>\n",
       "    </tr>\n",
       "    <tr>\n",
       "      <th>2</th>\n",
       "      <td>3</td>\n",
       "      <td>Male</td>\n",
       "      <td>47</td>\n",
       "      <td>1</td>\n",
       "      <td>28</td>\n",
       "      <td>0</td>\n",
       "      <td>over_2_years</td>\n",
       "      <td>1</td>\n",
       "      <td>38294.0</td>\n",
       "      <td>26</td>\n",
       "      <td>27</td>\n",
       "      <td>1</td>\n",
       "    </tr>\n",
       "    <tr>\n",
       "      <th>3</th>\n",
       "      <td>4</td>\n",
       "      <td>Male</td>\n",
       "      <td>21</td>\n",
       "      <td>1</td>\n",
       "      <td>11</td>\n",
       "      <td>1</td>\n",
       "      <td>below_1_year</td>\n",
       "      <td>0</td>\n",
       "      <td>28619.0</td>\n",
       "      <td>152</td>\n",
       "      <td>203</td>\n",
       "      <td>0</td>\n",
       "    </tr>\n",
       "    <tr>\n",
       "      <th>4</th>\n",
       "      <td>5</td>\n",
       "      <td>Female</td>\n",
       "      <td>29</td>\n",
       "      <td>1</td>\n",
       "      <td>41</td>\n",
       "      <td>1</td>\n",
       "      <td>below_1_year</td>\n",
       "      <td>0</td>\n",
       "      <td>27496.0</td>\n",
       "      <td>152</td>\n",
       "      <td>39</td>\n",
       "      <td>0</td>\n",
       "    </tr>\n",
       "  </tbody>\n",
       "</table>\n",
       "</div>"
      ],
      "text/plain": [
       "   id  gender  age  driving_license  region_code  previously_insured  \\\n",
       "0   1    Male   44                1           28                   0   \n",
       "1   2    Male   76                1            3                   0   \n",
       "2   3    Male   47                1           28                   0   \n",
       "3   4    Male   21                1           11                   1   \n",
       "4   5  Female   29                1           41                   1   \n",
       "\n",
       "        vehicle_age  vehicle_damage  annual_premium  policy_sales_channel  \\\n",
       "0      over_2_years               1         40454.0                    26   \n",
       "1  between_1_2_year               0         33536.0                    26   \n",
       "2      over_2_years               1         38294.0                    26   \n",
       "3      below_1_year               0         28619.0                   152   \n",
       "4      below_1_year               0         27496.0                   152   \n",
       "\n",
       "   vintage  response  \n",
       "0      217         1  \n",
       "1      183         0  \n",
       "2       27         1  \n",
       "3      203         0  \n",
       "4       39         0  "
      ]
     },
     "execution_count": 17,
     "metadata": {},
     "output_type": "execute_result"
    }
   ],
   "source": [
    "#vehicle_damage\n",
    "df2['vehicle_damage'] = df2['vehicle_damage'].apply(lambda x: 0 if x == 'No' else 1)\n",
    "\n",
    "#vehicle_age\n",
    "df2['vehicle_age'] = df2['vehicle_age'].apply(lambda x: 'over_2_years' if x == '> 2 Years' else \n",
    "                                              'between_1_2_year' if x == '1-2 Year' else 'below_1_year' )\n",
    "\n",
    "df2.head()"
   ]
  },
  {
   "cell_type": "markdown",
   "id": "alike-corrections",
   "metadata": {},
   "source": [
    "# 3.0. Data Filtering"
   ]
  },
  {
   "cell_type": "code",
   "execution_count": 18,
   "id": "southwest-booking",
   "metadata": {
    "ExecuteTime": {
     "end_time": "2021-08-02T12:01:55.756768Z",
     "start_time": "2021-08-02T12:01:55.709894Z"
    }
   },
   "outputs": [],
   "source": [
    "df3 = df2.copy()"
   ]
  },
  {
   "cell_type": "markdown",
   "id": "polish-horror",
   "metadata": {},
   "source": [
    "# 4.0. Exploratory Data Analysis (EDA)"
   ]
  },
  {
   "cell_type": "code",
   "execution_count": 19,
   "id": "modern-furniture",
   "metadata": {
    "ExecuteTime": {
     "end_time": "2021-08-02T12:01:55.810180Z",
     "start_time": "2021-08-02T12:01:55.756768Z"
    }
   },
   "outputs": [],
   "source": [
    "df4 = df3.copy()"
   ]
  },
  {
   "cell_type": "markdown",
   "id": "stock-governor",
   "metadata": {},
   "source": [
    "## 4.1. Univariate Analysis\n",
    "\n"
   ]
  },
  {
   "cell_type": "markdown",
   "id": "retained-front",
   "metadata": {},
   "source": [
    "### 4.1.1. Response Variable"
   ]
  },
  {
   "cell_type": "markdown",
   "id": "effective-translator",
   "metadata": {
    "ExecuteTime": {
     "end_time": "2021-07-30T14:05:27.336081Z",
     "start_time": "2021-07-30T14:05:27.316013Z"
    }
   },
   "source": [
    "- Response: many more negative (0) than positive(1) responses - unbalaced data - commom but have to balance it for ML model, or it will have too maby false positive\n",
    "- Gender: df contains male (54%) female (46) - response yes (1) Female 4.77 % over Male 7.48 % **slightly difference**\n",
    "- Age: (response = 1)  quartil 25%=\tuntil 35 y     50%=\tuntil 43y    75%= \tuntil 51\n",
    "- driving_ license =  1: 99,8%  0: < 1%   (unbalanced data may cause bias)\n",
    "- region_ code = region 28 is 27.9% of the df,  region 8 is 8,9%. Some reagion (5) are more willing to  hire an insurance than others( 1,64% median only). Region 28, even thought is the biggest one, they are more willing  to NOT hire an insurance.\n",
    "- Previous insured = 99% of one condition, **may generate viés**\n",
    "- vehicle_age - older vehicle are more insured \n",
    "- vehicle_damage - vehicle that had already been damaged are more likely to hire an insurance\n",
    "- annual premium - median $31669, Q3 39.400 - very small difference from annual premium over 30.00 and response equal to 1 (3%) over annual premium less than 30.000\n",
    "- policy sales channel - channel 26 more response 1\n",
    "-vintage - no relation found to response ==1\n"
   ]
  },
  {
   "cell_type": "code",
   "execution_count": 20,
   "id": "choice-structure",
   "metadata": {
    "ExecuteTime": {
     "end_time": "2021-08-02T12:01:55.825806Z",
     "start_time": "2021-08-02T12:01:55.810180Z"
    }
   },
   "outputs": [],
   "source": [
    "# PROFILE  \n",
    "\n",
    "#profile = ProfileReport( df4 )\n",
    "#profile.to_file( 'output_v2.html' )"
   ]
  },
  {
   "cell_type": "code",
   "execution_count": 21,
   "id": "going-official",
   "metadata": {
    "ExecuteTime": {
     "end_time": "2021-08-02T12:01:57.246143Z",
     "start_time": "2021-08-02T12:01:55.825806Z"
    }
   },
   "outputs": [
    {
     "data": {
      "image/png": "[encoded data removed]",
      "text/plain": [
       "<Figure size 360x360 with 1 Axes>"
      ]
     },
     "metadata": {
      "needs_background": "light"
     },
     "output_type": "display_data"
    }
   ],
   "source": [
    "# analisar o label\n",
    "sns.displot(df4['response'], kde=False);"
   ]
  },
  {
   "cell_type": "code",
   "execution_count": 22,
   "id": "nominated-asset",
   "metadata": {
    "ExecuteTime": {
     "end_time": "2021-08-02T12:01:57.446730Z",
     "start_time": "2021-08-02T12:01:57.246143Z"
    }
   },
   "outputs": [
    {
     "data": {
      "text/html": [
       "<div>\n",
       "<style scoped>\n",
       "    .dataframe tbody tr th:only-of-type {\n",
       "        vertical-align: middle;\n",
       "    }\n",
       "\n",
       "    .dataframe tbody tr th {\n",
       "        vertical-align: top;\n",
       "    }\n",
       "\n",
       "    .dataframe thead th {\n",
       "        text-align: right;\n",
       "    }\n",
       "</style>\n",
       "<table border=\"1\" class=\"dataframe\">\n",
       "  <thead>\n",
       "    <tr style=\"text-align: right;\">\n",
       "      <th></th>\n",
       "      <th></th>\n",
       "      <th>quantity</th>\n",
       "      <th>Age</th>\n",
       "      <th>Premium</th>\n",
       "      <th>Vintage</th>\n",
       "    </tr>\n",
       "    <tr>\n",
       "      <th>response</th>\n",
       "      <th>region_code</th>\n",
       "      <th></th>\n",
       "      <th></th>\n",
       "      <th></th>\n",
       "      <th></th>\n",
       "    </tr>\n",
       "  </thead>\n",
       "  <tbody>\n",
       "    <tr>\n",
       "      <th rowspan=\"5\" valign=\"top\">0</th>\n",
       "      <th>1</th>\n",
       "      <td>899</td>\n",
       "      <td>45.0</td>\n",
       "      <td>2660.351502</td>\n",
       "      <td>154.545050</td>\n",
       "    </tr>\n",
       "    <tr>\n",
       "      <th>31</th>\n",
       "      <td>1763</td>\n",
       "      <td>43.0</td>\n",
       "      <td>2673.854793</td>\n",
       "      <td>158.567782</td>\n",
       "    </tr>\n",
       "    <tr>\n",
       "      <th>48</th>\n",
       "      <td>4204</td>\n",
       "      <td>49.0</td>\n",
       "      <td>2677.646289</td>\n",
       "      <td>154.920314</td>\n",
       "    </tr>\n",
       "    <tr>\n",
       "      <th>20</th>\n",
       "      <td>1712</td>\n",
       "      <td>47.0</td>\n",
       "      <td>2747.074766</td>\n",
       "      <td>152.521028</td>\n",
       "    </tr>\n",
       "    <tr>\n",
       "      <th>0</th>\n",
       "      <td>1847</td>\n",
       "      <td>46.0</td>\n",
       "      <td>2863.350839</td>\n",
       "      <td>155.918787</td>\n",
       "    </tr>\n",
       "    <tr>\n",
       "      <th rowspan=\"9\" valign=\"top\">1</th>\n",
       "      <th>48</th>\n",
       "      <td>477</td>\n",
       "      <td>47.0</td>\n",
       "      <td>2867.400419</td>\n",
       "      <td>155.542977</td>\n",
       "    </tr>\n",
       "    <tr>\n",
       "      <th>31</th>\n",
       "      <td>197</td>\n",
       "      <td>44.0</td>\n",
       "      <td>2872.690355</td>\n",
       "      <td>149.609137</td>\n",
       "    </tr>\n",
       "    <tr>\n",
       "      <th>20</th>\n",
       "      <td>223</td>\n",
       "      <td>45.0</td>\n",
       "      <td>3047.044843</td>\n",
       "      <td>159.430493</td>\n",
       "    </tr>\n",
       "    <tr>\n",
       "      <th>1</th>\n",
       "      <td>109</td>\n",
       "      <td>45.0</td>\n",
       "      <td>3131.376147</td>\n",
       "      <td>157.889908</td>\n",
       "    </tr>\n",
       "    <tr>\n",
       "      <th>0</th>\n",
       "      <td>174</td>\n",
       "      <td>48.0</td>\n",
       "      <td>5002.798851</td>\n",
       "      <td>159.310345</td>\n",
       "    </tr>\n",
       "    <tr>\n",
       "      <th>44</th>\n",
       "      <td>33</td>\n",
       "      <td>36.0</td>\n",
       "      <td>21089.515152</td>\n",
       "      <td>176.363636</td>\n",
       "    </tr>\n",
       "    <tr>\n",
       "      <th>12</th>\n",
       "      <td>312</td>\n",
       "      <td>39.0</td>\n",
       "      <td>21878.336538</td>\n",
       "      <td>153.858974</td>\n",
       "    </tr>\n",
       "    <tr>\n",
       "      <th>16</th>\n",
       "      <td>134</td>\n",
       "      <td>34.5</td>\n",
       "      <td>21915.417910</td>\n",
       "      <td>152.791045</td>\n",
       "    </tr>\n",
       "    <tr>\n",
       "      <th>23</th>\n",
       "      <td>300</td>\n",
       "      <td>40.0</td>\n",
       "      <td>22702.416667</td>\n",
       "      <td>148.883333</td>\n",
       "    </tr>\n",
       "    <tr>\n",
       "      <th rowspan=\"3\" valign=\"top\">0</th>\n",
       "      <th>27</th>\n",
       "      <td>2614</td>\n",
       "      <td>25.0</td>\n",
       "      <td>22811.244836</td>\n",
       "      <td>151.763198</td>\n",
       "    </tr>\n",
       "    <tr>\n",
       "      <th>38</th>\n",
       "      <td>1637</td>\n",
       "      <td>44.0</td>\n",
       "      <td>23118.836286</td>\n",
       "      <td>156.795968</td>\n",
       "    </tr>\n",
       "    <tr>\n",
       "      <th>16</th>\n",
       "      <td>1873</td>\n",
       "      <td>25.0</td>\n",
       "      <td>23143.487987</td>\n",
       "      <td>156.119060</td>\n",
       "    </tr>\n",
       "    <tr>\n",
       "      <th rowspan=\"3\" valign=\"top\">1</th>\n",
       "      <th>3</th>\n",
       "      <td>1181</td>\n",
       "      <td>39.0</td>\n",
       "      <td>23189.732430</td>\n",
       "      <td>154.568163</td>\n",
       "    </tr>\n",
       "    <tr>\n",
       "      <th>30</th>\n",
       "      <td>900</td>\n",
       "      <td>35.0</td>\n",
       "      <td>23218.614444</td>\n",
       "      <td>156.186667</td>\n",
       "    </tr>\n",
       "    <tr>\n",
       "      <th>25</th>\n",
       "      <td>107</td>\n",
       "      <td>42.0</td>\n",
       "      <td>23259.392523</td>\n",
       "      <td>153.859813</td>\n",
       "    </tr>\n",
       "  </tbody>\n",
       "</table>\n",
       "</div>"
      ],
      "text/plain": [
       "                      quantity   Age       Premium     Vintage\n",
       "response region_code                                          \n",
       "0        1                 899  45.0   2660.351502  154.545050\n",
       "         31               1763  43.0   2673.854793  158.567782\n",
       "         48               4204  49.0   2677.646289  154.920314\n",
       "         20               1712  47.0   2747.074766  152.521028\n",
       "         0                1847  46.0   2863.350839  155.918787\n",
       "1        48                477  47.0   2867.400419  155.542977\n",
       "         31                197  44.0   2872.690355  149.609137\n",
       "         20                223  45.0   3047.044843  159.430493\n",
       "         1                 109  45.0   3131.376147  157.889908\n",
       "         0                 174  48.0   5002.798851  159.310345\n",
       "         44                 33  36.0  21089.515152  176.363636\n",
       "         12                312  39.0  21878.336538  153.858974\n",
       "         16                134  34.5  21915.417910  152.791045\n",
       "         23                300  40.0  22702.416667  148.883333\n",
       "0        27               2614  25.0  22811.244836  151.763198\n",
       "         38               1637  44.0  23118.836286  156.795968\n",
       "         16               1873  25.0  23143.487987  156.119060\n",
       "1        3                1181  39.0  23189.732430  154.568163\n",
       "         30                900  35.0  23218.614444  156.186667\n",
       "         25                107  42.0  23259.392523  153.859813"
      ]
     },
     "execution_count": 22,
     "metadata": {},
     "output_type": "execute_result"
    }
   ],
   "source": [
    "df4.groupby(['response', 'region_code']).agg(quantity= ('id', 'count'), Age= ('age', 'median'),Premium=('annual_premium', 'mean'), Vintage=('vintage', 'mean')).sort_values('Premium').head(20)\n"
   ]
  },
  {
   "cell_type": "markdown",
   "id": "stable-morrison",
   "metadata": {},
   "source": [
    "### 4.1.2. Numerical Variable"
   ]
  },
  {
   "cell_type": "code",
   "execution_count": 23,
   "id": "mobile-deposit",
   "metadata": {
    "ExecuteTime": {
     "end_time": "2021-08-02T12:02:00.124813Z",
     "start_time": "2021-08-02T12:01:57.446730Z"
    }
   },
   "outputs": [
    {
     "data": {
      "image/png": "[encoded data removed]",
      "text/plain": [
       "<Figure size 1152x864 with 9 Axes>"
      ]
     },
     "metadata": {
      "needs_background": "light"
     },
     "output_type": "display_data"
    }
   ],
   "source": [
    "num_attributes.hist( bins=25, figsize= (16,12) );"
   ]
  },
  {
   "cell_type": "code",
   "execution_count": 24,
   "id": "stopped-proposition",
   "metadata": {
    "ExecuteTime": {
     "end_time": "2021-08-02T12:02:00.885642Z",
     "start_time": "2021-08-02T12:02:00.126920Z"
    }
   },
   "outputs": [
    {
     "data": {
      "image/png": "[encoded data removed]",
      "text/plain": [
       "<Figure size 576x288 with 1 Axes>"
      ]
     },
     "metadata": {
      "needs_background": "light"
     },
     "output_type": "display_data"
    }
   ],
   "source": [
    "# Age\n",
    "plt.subplots(figsize=(8, 4))\n",
    "sns.boxplot( x='response', y='age', data=df4 );"
   ]
  },
  {
   "cell_type": "code",
   "execution_count": 25,
   "id": "alpha-bolivia",
   "metadata": {
    "ExecuteTime": {
     "end_time": "2021-08-02T12:02:02.102025Z",
     "start_time": "2021-08-02T12:02:00.885642Z"
    }
   },
   "outputs": [
    {
     "data": {
      "image/png": "[encoded data removed]",
      "text/plain": [
       "<Figure size 1080x288 with 1 Axes>"
      ]
     },
     "metadata": {
      "needs_background": "light"
     },
     "output_type": "display_data"
    }
   ],
   "source": [
    "aux = df4[(df4['response'] == 1)]\n",
    "fig = plt.subplots(figsize = (15,4))\n",
    "sns.countplot(x = 'age', data = aux);"
   ]
  },
  {
   "cell_type": "code",
   "execution_count": 26,
   "id": "great-translation",
   "metadata": {
    "ExecuteTime": {
     "end_time": "2021-08-02T12:02:02.148904Z",
     "start_time": "2021-08-02T12:02:02.102025Z"
    },
    "cell_style": "split"
   },
   "outputs": [
    {
     "data": {
      "text/html": [
       "<div>\n",
       "<style scoped>\n",
       "    .dataframe tbody tr th:only-of-type {\n",
       "        vertical-align: middle;\n",
       "    }\n",
       "\n",
       "    .dataframe tbody tr th {\n",
       "        vertical-align: top;\n",
       "    }\n",
       "\n",
       "    .dataframe thead th {\n",
       "        text-align: right;\n",
       "    }\n",
       "</style>\n",
       "<table border=\"1\" class=\"dataframe\">\n",
       "  <thead>\n",
       "    <tr style=\"text-align: right;\">\n",
       "      <th></th>\n",
       "      <th>age</th>\n",
       "    </tr>\n",
       "  </thead>\n",
       "  <tbody>\n",
       "    <tr>\n",
       "      <th>count</th>\n",
       "      <td>46710.000000</td>\n",
       "    </tr>\n",
       "    <tr>\n",
       "      <th>mean</th>\n",
       "      <td>43.435560</td>\n",
       "    </tr>\n",
       "    <tr>\n",
       "      <th>std</th>\n",
       "      <td>12.168924</td>\n",
       "    </tr>\n",
       "    <tr>\n",
       "      <th>min</th>\n",
       "      <td>20.000000</td>\n",
       "    </tr>\n",
       "    <tr>\n",
       "      <th>25%</th>\n",
       "      <td>35.000000</td>\n",
       "    </tr>\n",
       "    <tr>\n",
       "      <th>50%</th>\n",
       "      <td>43.000000</td>\n",
       "    </tr>\n",
       "    <tr>\n",
       "      <th>75%</th>\n",
       "      <td>51.000000</td>\n",
       "    </tr>\n",
       "    <tr>\n",
       "      <th>max</th>\n",
       "      <td>83.000000</td>\n",
       "    </tr>\n",
       "  </tbody>\n",
       "</table>\n",
       "</div>"
      ],
      "text/plain": [
       "                age\n",
       "count  46710.000000\n",
       "mean      43.435560\n",
       "std       12.168924\n",
       "min       20.000000\n",
       "25%       35.000000\n",
       "50%       43.000000\n",
       "75%       51.000000\n",
       "max       83.000000"
      ]
     },
     "execution_count": 26,
     "metadata": {},
     "output_type": "execute_result"
    }
   ],
   "source": [
    "# Response = 1 \n",
    "aux[['age']].describe()"
   ]
  },
  {
   "cell_type": "code",
   "execution_count": 27,
   "id": "egyptian-balance",
   "metadata": {
    "ExecuteTime": {
     "end_time": "2021-08-02T12:02:02.202301Z",
     "start_time": "2021-08-02T12:02:02.148904Z"
    },
    "cell_style": "split"
   },
   "outputs": [
    {
     "data": {
      "text/plain": [
       "count    334399.000000\n",
       "mean         38.178227\n",
       "std          15.816052\n",
       "min          20.000000\n",
       "25%          24.000000\n",
       "50%          34.000000\n",
       "75%          49.000000\n",
       "max          85.000000\n",
       "Name: age, dtype: float64"
      ]
     },
     "execution_count": 27,
     "metadata": {},
     "output_type": "execute_result"
    }
   ],
   "source": [
    "# Response = 0 \n",
    "aux0 = df4.loc[df4['response'] == 0, 'age']\n",
    "aux0.describe()"
   ]
  },
  {
   "cell_type": "code",
   "execution_count": 28,
   "id": "coordinated-following",
   "metadata": {
    "ExecuteTime": {
     "end_time": "2021-08-02T12:02:03.352055Z",
     "start_time": "2021-08-02T12:02:02.202301Z"
    },
    "cell_style": "center"
   },
   "outputs": [
    {
     "data": {
      "image/png": "[encoded data removed]",
      "text/plain": [
       "<Figure size 1080x360 with 2 Axes>"
      ]
     },
     "metadata": {
      "needs_background": "light"
     },
     "output_type": "display_data"
    }
   ],
   "source": [
    "fig, axs = plt.subplots(ncols= 2, figsize = (15,5))\n",
    "aux00 = df4.loc[df4['response'] == 0, 'age']\n",
    "sns.histplot( aux00, ax = axs[0] )\n",
    "\n",
    "\n",
    "aux1 = df4.loc[df4['response'] == 1, 'age']\n",
    "sns.histplot( aux1, ax = axs[1]  );\n",
    "plt.title('Response 1 ');"
   ]
  },
  {
   "cell_type": "code",
   "execution_count": 29,
   "id": "scheduled-evolution",
   "metadata": {
    "ExecuteTime": {
     "end_time": "2021-08-02T12:02:03.822367Z",
     "start_time": "2021-08-02T12:02:03.352055Z"
    }
   },
   "outputs": [
    {
     "data": {
      "image/png": "[encoded data removed]",
      "text/plain": [
       "<Figure size 432x288 with 1 Axes>"
      ]
     },
     "metadata": {
      "needs_background": "light"
     },
     "output_type": "display_data"
    }
   ],
   "source": [
    "more_equal_35 =df4.loc[(df4['age'] >= 35),:].groupby('response').count()['age'].reset_index().rename(columns={\"response\": \"response\", \"age\": \"more_than_35\"})\n",
    "less_than_35 = df4.loc[(df4['age'] < 35),:].groupby('response').count()['age'].reset_index()\n",
    "less_than_35.columns= ['response', 'less_than_35']\n",
    "age_aux = more_equal_35.merge(less_than_35, how='left', on='response')\n",
    "age_aux.plot.bar(rot=0);"
   ]
  },
  {
   "cell_type": "code",
   "execution_count": 30,
   "id": "handmade-opening",
   "metadata": {
    "ExecuteTime": {
     "end_time": "2021-08-02T12:02:05.095079Z",
     "start_time": "2021-08-02T12:02:03.822367Z"
    }
   },
   "outputs": [
    {
     "data": {
      "image/png": "[encoded data removed]",
      "text/plain": [
       "<Figure size 413.25x360 with 1 Axes>"
      ]
     },
     "metadata": {
      "needs_background": "light"
     },
     "output_type": "display_data"
    }
   ],
   "source": [
    "aux = df4.loc[df4['age'] >= 35, :]\n",
    "sns.displot(x= 'age',hue=\"response\", data= aux);"
   ]
  },
  {
   "cell_type": "code",
   "execution_count": 31,
   "id": "destroyed-marker",
   "metadata": {
    "ExecuteTime": {
     "end_time": "2021-08-02T12:02:05.326877Z",
     "start_time": "2021-08-02T12:02:05.095079Z"
    },
    "cell_style": "center"
   },
   "outputs": [],
   "source": [
    "more_equal_70 =df4.loc[(df4['age'] >= 70),:].groupby('response').count()['age'].reset_index().rename(columns={\"response\": \"response\", \"age\": \"more_than_70\"})\n",
    "less_than_70 = df4.loc[(df4['age'] < 70),:].groupby('response').count()['age'].reset_index()\n",
    "less_than_70.columns= ['response', 'less_than_70']\n",
    "age_aux = more_equal_70.merge(less_than_70, how='left', on='response')\n"
   ]
  },
  {
   "cell_type": "code",
   "execution_count": 32,
   "id": "polish-jefferson",
   "metadata": {
    "ExecuteTime": {
     "end_time": "2021-08-02T12:02:05.580857Z",
     "start_time": "2021-08-02T12:02:05.326877Z"
    },
    "cell_style": "split"
   },
   "outputs": [
    {
     "data": {
      "image/png": "[encoded data removed]",
      "text/plain": [
       "<Figure size 432x288 with 1 Axes>"
      ]
     },
     "metadata": {
      "needs_background": "light"
     },
     "output_type": "display_data"
    }
   ],
   "source": [
    "age_aux.plot.bar(rot=0);"
   ]
  },
  {
   "cell_type": "code",
   "execution_count": 33,
   "id": "checked-fault",
   "metadata": {
    "ExecuteTime": {
     "end_time": "2021-08-02T12:02:05.612110Z",
     "start_time": "2021-08-02T12:02:05.580857Z"
    },
    "cell_style": "split"
   },
   "outputs": [
    {
     "data": {
      "text/html": [
       "<div>\n",
       "<style scoped>\n",
       "    .dataframe tbody tr th:only-of-type {\n",
       "        vertical-align: middle;\n",
       "    }\n",
       "\n",
       "    .dataframe tbody tr th {\n",
       "        vertical-align: top;\n",
       "    }\n",
       "\n",
       "    .dataframe thead th {\n",
       "        text-align: right;\n",
       "    }\n",
       "</style>\n",
       "<table border=\"1\" class=\"dataframe\">\n",
       "  <thead>\n",
       "    <tr style=\"text-align: right;\">\n",
       "      <th></th>\n",
       "      <th>response</th>\n",
       "      <th>more_than_70</th>\n",
       "      <th>less_than_70</th>\n",
       "    </tr>\n",
       "  </thead>\n",
       "  <tbody>\n",
       "    <tr>\n",
       "      <th>0</th>\n",
       "      <td>0</td>\n",
       "      <td>16411</td>\n",
       "      <td>317988</td>\n",
       "    </tr>\n",
       "    <tr>\n",
       "      <th>1</th>\n",
       "      <td>1</td>\n",
       "      <td>1339</td>\n",
       "      <td>45371</td>\n",
       "    </tr>\n",
       "  </tbody>\n",
       "</table>\n",
       "</div>"
      ],
      "text/plain": [
       "   response  more_than_70  less_than_70\n",
       "0         0         16411        317988\n",
       "1         1          1339         45371"
      ]
     },
     "execution_count": 33,
     "metadata": {},
     "output_type": "execute_result"
    }
   ],
   "source": [
    "age_aux"
   ]
  },
  {
   "cell_type": "code",
   "execution_count": 34,
   "id": "devoted-brooklyn",
   "metadata": {
    "ExecuteTime": {
     "end_time": "2021-08-02T12:02:05.681121Z",
     "start_time": "2021-08-02T12:02:05.612110Z"
    }
   },
   "outputs": [
    {
     "data": {
      "text/html": [
       "<div>\n",
       "<style scoped>\n",
       "    .dataframe tbody tr th:only-of-type {\n",
       "        vertical-align: middle;\n",
       "    }\n",
       "\n",
       "    .dataframe tbody tr th {\n",
       "        vertical-align: top;\n",
       "    }\n",
       "\n",
       "    .dataframe thead th {\n",
       "        text-align: right;\n",
       "    }\n",
       "</style>\n",
       "<table border=\"1\" class=\"dataframe\">\n",
       "  <thead>\n",
       "    <tr style=\"text-align: right;\">\n",
       "      <th></th>\n",
       "      <th>Percentage</th>\n",
       "    </tr>\n",
       "    <tr>\n",
       "      <th>response</th>\n",
       "      <th></th>\n",
       "    </tr>\n",
       "  </thead>\n",
       "  <tbody>\n",
       "    <tr>\n",
       "      <th>0</th>\n",
       "      <td>92.49</td>\n",
       "    </tr>\n",
       "    <tr>\n",
       "      <th>1</th>\n",
       "      <td>7.51</td>\n",
       "    </tr>\n",
       "  </tbody>\n",
       "</table>\n",
       "</div>"
      ],
      "text/plain": [
       "          Percentage\n",
       "response            \n",
       "0              92.49\n",
       "1               7.51"
      ]
     },
     "execution_count": 34,
     "metadata": {},
     "output_type": "execute_result"
    }
   ],
   "source": [
    "more_70 = df4.loc[df4['age'] >= 70, :]\n",
    "more_70.groupby(['response']).agg(Percentage=('age', 'sum')).apply(lambda x: np.round(100 * x / float(x.sum()),2))"
   ]
  },
  {
   "cell_type": "markdown",
   "id": "competitive-affiliation",
   "metadata": {},
   "source": [
    "1. Older people ( more than 35 year old) are more likely to hire an insurance?\n",
    "**Yes, but the interest decreases after a certain age( 50th´s)**"
   ]
  },
  {
   "cell_type": "markdown",
   "id": "confidential-liability",
   "metadata": {},
   "source": [
    "4. Old people (over 70 years old) are not interested in car insurance ?\n",
    "**YES, people older than 70 years old are NOT interested in car insurance**"
   ]
  },
  {
   "cell_type": "code",
   "execution_count": 35,
   "id": "sized-canon",
   "metadata": {
    "ExecuteTime": {
     "end_time": "2021-08-02T12:02:06.082342Z",
     "start_time": "2021-08-02T12:02:05.681121Z"
    }
   },
   "outputs": [
    {
     "data": {
      "image/png": "[encoded data removed]",
      "text/plain": [
       "<Figure size 576x288 with 1 Axes>"
      ]
     },
     "metadata": {
      "needs_background": "light"
     },
     "output_type": "display_data"
    }
   ],
   "source": [
    "# Annul income\n",
    "plt.subplots(figsize=(8, 4))\n",
    "sns.boxplot(x='response', y='annual_premium', data=df4);"
   ]
  },
  {
   "cell_type": "markdown",
   "id": "partial-clinic",
   "metadata": {},
   "source": [
    "- too many outliers, try to zoon it"
   ]
  },
  {
   "cell_type": "code",
   "execution_count": 36,
   "id": "naked-worship",
   "metadata": {
    "ExecuteTime": {
     "end_time": "2021-08-02T12:02:06.160468Z",
     "start_time": "2021-08-02T12:02:06.082342Z"
    }
   },
   "outputs": [],
   "source": [
    "df4 = df4[(df4['annual_premium'] > 10000) &(df4['annual_premium'] < 100000)]"
   ]
  },
  {
   "cell_type": "code",
   "execution_count": 37,
   "id": "nutritional-allocation",
   "metadata": {
    "ExecuteTime": {
     "end_time": "2021-08-02T12:02:07.438998Z",
     "start_time": "2021-08-02T12:02:06.160468Z"
    },
    "cell_style": "split"
   },
   "outputs": [
    {
     "data": {
      "image/png": "[encoded data removed]",
      "text/plain": [
       "<Figure size 432x288 with 1 Axes>"
      ]
     },
     "metadata": {
      "needs_background": "light"
     },
     "output_type": "display_data"
    }
   ],
   "source": [
    "aux00 = df4.loc[df4['response'] == 0, 'annual_premium']\n",
    "sns.histplot( aux00 );"
   ]
  },
  {
   "cell_type": "code",
   "execution_count": 38,
   "id": "blind-coast",
   "metadata": {
    "ExecuteTime": {
     "end_time": "2021-08-02T12:02:08.015668Z",
     "start_time": "2021-08-02T12:02:07.438998Z"
    },
    "cell_style": "split"
   },
   "outputs": [
    {
     "data": {
      "image/png": "[encoded data removed]",
      "text/plain": [
       "<Figure size 432x288 with 1 Axes>"
      ]
     },
     "metadata": {
      "needs_background": "light"
     },
     "output_type": "display_data"
    }
   ],
   "source": [
    "aux00 = df4.loc[df4['response'] == 1, 'annual_premium']\n",
    "sns.histplot( aux00 );"
   ]
  },
  {
   "cell_type": "code",
   "execution_count": 39,
   "id": "alone-rebound",
   "metadata": {
    "ExecuteTime": {
     "end_time": "2021-08-02T12:02:08.347740Z",
     "start_time": "2021-08-02T12:02:08.015668Z"
    },
    "cell_style": "split"
   },
   "outputs": [
    {
     "data": {
      "image/png": "[encoded data removed]",
      "text/plain": [
       "<Figure size 432x288 with 1 Axes>"
      ]
     },
     "metadata": {
      "needs_background": "light"
     },
     "output_type": "display_data"
    }
   ],
   "source": [
    "aux = df4.loc[(df4['annual_premium'] >= 30000), :]\n",
    "axes =aux.groupby('response').count()['annual_premium'].plot.bar(rot=0, subplots=True);\n",
    "axes[0].legend(loc=1)\n",
    "plt.title('Annual Premium more than $30.000');"
   ]
  },
  {
   "cell_type": "code",
   "execution_count": 40,
   "id": "divine-jerusalem",
   "metadata": {
    "ExecuteTime": {
     "end_time": "2021-08-02T12:02:08.610783Z",
     "start_time": "2021-08-02T12:02:08.347740Z"
    },
    "cell_style": "split"
   },
   "outputs": [
    {
     "data": {
      "image/png": "[encoded data removed]",
      "text/plain": [
       "<Figure size 432x288 with 1 Axes>"
      ]
     },
     "metadata": {
      "needs_background": "light"
     },
     "output_type": "display_data"
    }
   ],
   "source": [
    "aux2= df4.loc[(df4['annual_premium'] < 30000), :]\n",
    "axes =aux2.groupby('response').count()['annual_premium'].plot.bar(rot=0, subplots=True);\n",
    "axes[0].legend(loc=1)\n",
    "plt.title('Annual Premium less than $30.000');"
   ]
  },
  {
   "cell_type": "code",
   "execution_count": 41,
   "id": "understanding-engineering",
   "metadata": {
    "ExecuteTime": {
     "end_time": "2021-08-02T12:02:08.733202Z",
     "start_time": "2021-08-02T12:02:08.610783Z"
    },
    "cell_style": "split"
   },
   "outputs": [
    {
     "data": {
      "text/html": [
       "<div>\n",
       "<style scoped>\n",
       "    .dataframe tbody tr th:only-of-type {\n",
       "        vertical-align: middle;\n",
       "    }\n",
       "\n",
       "    .dataframe tbody tr th {\n",
       "        vertical-align: top;\n",
       "    }\n",
       "\n",
       "    .dataframe thead th {\n",
       "        text-align: right;\n",
       "    }\n",
       "</style>\n",
       "<table border=\"1\" class=\"dataframe\">\n",
       "  <thead>\n",
       "    <tr style=\"text-align: right;\">\n",
       "      <th></th>\n",
       "      <th>response</th>\n",
       "      <th>annual_premium</th>\n",
       "      <th>percent</th>\n",
       "    </tr>\n",
       "  </thead>\n",
       "  <tbody>\n",
       "    <tr>\n",
       "      <th>0</th>\n",
       "      <td>0</td>\n",
       "      <td>186213</td>\n",
       "      <td>0.87</td>\n",
       "    </tr>\n",
       "    <tr>\n",
       "      <th>1</th>\n",
       "      <td>1</td>\n",
       "      <td>28053</td>\n",
       "      <td>0.13</td>\n",
       "    </tr>\n",
       "  </tbody>\n",
       "</table>\n",
       "</div>"
      ],
      "text/plain": [
       "   response  annual_premium  percent\n",
       "0         0          186213     0.87\n",
       "1         1           28053     0.13"
      ]
     },
     "execution_count": 41,
     "metadata": {},
     "output_type": "execute_result"
    }
   ],
   "source": [
    "percent_more= aux.groupby('response').count()['annual_premium'].reset_index()\n",
    "soma= percent_more['annual_premium'].sum()\n",
    "percent_more['percent'] = percent_more['annual_premium'].apply(lambda x: np.round(x/soma, 2) )\n",
    "percent_more\n"
   ]
  },
  {
   "cell_type": "code",
   "execution_count": 42,
   "id": "changed-mailman",
   "metadata": {
    "ExecuteTime": {
     "end_time": "2021-08-02T12:02:08.795701Z",
     "start_time": "2021-08-02T12:02:08.733202Z"
    },
    "cell_style": "split"
   },
   "outputs": [
    {
     "data": {
      "text/html": [
       "<div>\n",
       "<style scoped>\n",
       "    .dataframe tbody tr th:only-of-type {\n",
       "        vertical-align: middle;\n",
       "    }\n",
       "\n",
       "    .dataframe tbody tr th {\n",
       "        vertical-align: top;\n",
       "    }\n",
       "\n",
       "    .dataframe thead th {\n",
       "        text-align: right;\n",
       "    }\n",
       "</style>\n",
       "<table border=\"1\" class=\"dataframe\">\n",
       "  <thead>\n",
       "    <tr style=\"text-align: right;\">\n",
       "      <th></th>\n",
       "      <th>response</th>\n",
       "      <th>annual_premium</th>\n",
       "      <th>percent</th>\n",
       "    </tr>\n",
       "  </thead>\n",
       "  <tbody>\n",
       "    <tr>\n",
       "      <th>0</th>\n",
       "      <td>0</td>\n",
       "      <td>91155</td>\n",
       "      <td>0.9</td>\n",
       "    </tr>\n",
       "    <tr>\n",
       "      <th>1</th>\n",
       "      <td>1</td>\n",
       "      <td>10028</td>\n",
       "      <td>0.1</td>\n",
       "    </tr>\n",
       "  </tbody>\n",
       "</table>\n",
       "</div>"
      ],
      "text/plain": [
       "   response  annual_premium  percent\n",
       "0         0           91155      0.9\n",
       "1         1           10028      0.1"
      ]
     },
     "execution_count": 42,
     "metadata": {},
     "output_type": "execute_result"
    }
   ],
   "source": [
    "percent_less= aux2.groupby('response').count()['annual_premium'].reset_index()\n",
    "soma_less= percent_less['annual_premium'].sum()\n",
    "percent_less['percent'] = percent_less['annual_premium'].apply(lambda x: np.round(x/soma_less,2 ) )\n",
    "percent_less"
   ]
  },
  {
   "cell_type": "markdown",
   "id": "graduate-jesus",
   "metadata": {
    "ExecuteTime": {
     "end_time": "2021-07-27T01:18:05.540304Z",
     "start_time": "2021-07-27T01:18:05.509101Z"
    }
   },
   "source": [
    "2. annual premium $30.000 or more are more likely to take out insurance\n",
    "\n",
    "    Too many ouliers- solution: annual_premium greater than 10.000 and lower than 100000\n",
    "\n",
    "   **YES, BUT less than 0,03 difference between them**"
   ]
  },
  {
   "cell_type": "code",
   "execution_count": 43,
   "id": "composed-defensive",
   "metadata": {
    "ExecuteTime": {
     "end_time": "2021-08-02T12:02:09.011924Z",
     "start_time": "2021-08-02T12:02:08.795701Z"
    }
   },
   "outputs": [
    {
     "data": {
      "image/png": "[encoded data removed]",
      "text/plain": [
       "<Figure size 576x288 with 1 Axes>"
      ]
     },
     "metadata": {
      "needs_background": "light"
     },
     "output_type": "display_data"
    }
   ],
   "source": [
    "# driving license\n",
    "plt.subplots(figsize=(8, 4))\n",
    "aux = df4[['driving_license', 'response']].groupby( 'response' ).sum().reset_index()\n",
    "sns.barplot( x='response', y='driving_license', data=aux );\n"
   ]
  },
  {
   "cell_type": "code",
   "execution_count": 44,
   "id": "three-tuner",
   "metadata": {
    "ExecuteTime": {
     "end_time": "2021-08-02T12:02:09.466597Z",
     "start_time": "2021-08-02T12:02:09.011924Z"
    },
    "cell_style": "split"
   },
   "outputs": [
    {
     "data": {
      "text/plain": [
       "<AxesSubplot:xlabel='region_code', ylabel='id'>"
      ]
     },
     "execution_count": 44,
     "metadata": {},
     "output_type": "execute_result"
    },
    {
     "data": {
      "image/png": "[encoded data removed]",
      "text/plain": [
       "<Figure size 432x288 with 1 Axes>"
      ]
     },
     "metadata": {
      "needs_background": "light"
     },
     "output_type": "display_data"
    }
   ],
   "source": [
    "# region code\n",
    "aux0 = df4[['id', 'region_code', 'response']].groupby( ['region_code', 'response'] ).count().reset_index()\n",
    "sns.scatterplot( x='region_code', y='id', hue='response', data=aux0 )\n"
   ]
  },
  {
   "cell_type": "code",
   "execution_count": 45,
   "id": "agreed-boxing",
   "metadata": {
    "ExecuteTime": {
     "end_time": "2021-08-02T12:02:10.137457Z",
     "start_time": "2021-08-02T12:02:09.466597Z"
    },
    "cell_style": "split"
   },
   "outputs": [
    {
     "data": {
      "image/png": "[encoded data removed]",
      "text/plain": [
       "<Figure size 432x288 with 1 Axes>"
      ]
     },
     "metadata": {
      "needs_background": "light"
     },
     "output_type": "display_data"
    }
   ],
   "source": [
    "sns.histplot(df4['region_code']);"
   ]
  },
  {
   "cell_type": "code",
   "execution_count": 93,
   "id": "junior-assurance",
   "metadata": {
    "ExecuteTime": {
     "end_time": "2021-08-02T17:26:11.095207Z",
     "start_time": "2021-08-02T17:26:09.924482Z"
    }
   },
   "outputs": [
    {
     "data": {
      "image/png": "[encoded data removed]",
      "text/plain": [
       "<Figure size 1080x288 with 1 Axes>"
      ]
     },
     "metadata": {
      "needs_background": "light"
     },
     "output_type": "display_data"
    }
   ],
   "source": [
    "aux = df4[(df4['region_code'] != 28) & (df4['response'] == 1)]\n",
    "fig = plt.subplots(figsize = (15,4))\n",
    "sns.countplot(x = 'region_code', data = aux);"
   ]
  },
  {
   "cell_type": "code",
   "execution_count": 47,
   "id": "generous-humidity",
   "metadata": {
    "ExecuteTime": {
     "end_time": "2021-08-02T12:02:11.488002Z",
     "start_time": "2021-08-02T12:02:11.118165Z"
    }
   },
   "outputs": [
    {
     "data": {
      "image/png": "[encoded data removed]",
      "text/plain": [
       "<Figure size 432x288 with 1 Axes>"
      ]
     },
     "metadata": {
      "needs_background": "light"
     },
     "output_type": "display_data"
    }
   ],
   "source": [
    "aux_region_1 = df4.loc[df4['response'] == 1, :].groupby([ 'region_code']).agg(Regiao= ('region_code', 'count')).reset_index()\n",
    "\n",
    "perc_region_code_yes =aux_region_1[['Regiao']].apply(lambda x: np.round(100 * x / float(x.sum()),2)).reset_index()\n",
    "perc_region_code_yes.columns = ['region_code', 'percentage']\n",
    "\n",
    "\n",
    "aux_region_0 = df4.loc[df4['response'] == 0, :].groupby([ 'region_code']).agg(Regiao= ('region_code', 'count')).reset_index()\n",
    "\n",
    "perc_region_code_no = aux_region_0[['Regiao']].apply(lambda x: np.round(100 * x / float(x.sum()),2)).reset_index()\n",
    "perc_region_code_no.columns=['region_code', 'percentage']\n",
    "\n",
    "\n",
    "\n",
    "m =pd.merge(perc_region_code_yes, perc_region_code_no, how='left', on='region_code', suffixes=('response_0', 'Response_1') )\n",
    "m['dif'] = abs(m['percentageresponse_0'] - m['percentageResponse_1'])\n",
    "\n",
    "m[['percentageresponse_0', 'percentageResponse_1']].plot();\n"
   ]
  },
  {
   "cell_type": "code",
   "execution_count": 48,
   "id": "heavy-soccer",
   "metadata": {
    "ExecuteTime": {
     "end_time": "2021-08-02T12:02:11.519251Z",
     "start_time": "2021-08-02T12:02:11.488002Z"
    }
   },
   "outputs": [
    {
     "data": {
      "text/html": [
       "<div>\n",
       "<style scoped>\n",
       "    .dataframe tbody tr th:only-of-type {\n",
       "        vertical-align: middle;\n",
       "    }\n",
       "\n",
       "    .dataframe tbody tr th {\n",
       "        vertical-align: top;\n",
       "    }\n",
       "\n",
       "    .dataframe thead th {\n",
       "        text-align: right;\n",
       "    }\n",
       "</style>\n",
       "<table border=\"1\" class=\"dataframe\">\n",
       "  <thead>\n",
       "    <tr style=\"text-align: right;\">\n",
       "      <th></th>\n",
       "      <th>region_code</th>\n",
       "      <th>percentageresponse_0</th>\n",
       "      <th>percentageResponse_1</th>\n",
       "      <th>dif</th>\n",
       "    </tr>\n",
       "  </thead>\n",
       "  <tbody>\n",
       "    <tr>\n",
       "      <th>8</th>\n",
       "      <td>8</td>\n",
       "      <td>7.15</td>\n",
       "      <td>9.75</td>\n",
       "      <td>2.60</td>\n",
       "    </tr>\n",
       "    <tr>\n",
       "      <th>15</th>\n",
       "      <td>15</td>\n",
       "      <td>1.96</td>\n",
       "      <td>3.75</td>\n",
       "      <td>1.79</td>\n",
       "    </tr>\n",
       "    <tr>\n",
       "      <th>28</th>\n",
       "      <td>28</td>\n",
       "      <td>47.35</td>\n",
       "      <td>28.16</td>\n",
       "      <td>19.19</td>\n",
       "    </tr>\n",
       "    <tr>\n",
       "      <th>30</th>\n",
       "      <td>30</td>\n",
       "      <td>1.76</td>\n",
       "      <td>3.45</td>\n",
       "      <td>1.69</td>\n",
       "    </tr>\n",
       "    <tr>\n",
       "      <th>36</th>\n",
       "      <td>36</td>\n",
       "      <td>1.35</td>\n",
       "      <td>2.41</td>\n",
       "      <td>1.06</td>\n",
       "    </tr>\n",
       "    <tr>\n",
       "      <th>46</th>\n",
       "      <td>46</td>\n",
       "      <td>4.38</td>\n",
       "      <td>5.51</td>\n",
       "      <td>1.13</td>\n",
       "    </tr>\n",
       "    <tr>\n",
       "      <th>50</th>\n",
       "      <td>50</td>\n",
       "      <td>1.40</td>\n",
       "      <td>3.06</td>\n",
       "      <td>1.66</td>\n",
       "    </tr>\n",
       "  </tbody>\n",
       "</table>\n",
       "</div>"
      ],
      "text/plain": [
       "    region_code  percentageresponse_0  percentageResponse_1    dif\n",
       "8             8                  7.15                  9.75   2.60\n",
       "15           15                  1.96                  3.75   1.79\n",
       "28           28                 47.35                 28.16  19.19\n",
       "30           30                  1.76                  3.45   1.69\n",
       "36           36                  1.35                  2.41   1.06\n",
       "46           46                  4.38                  5.51   1.13\n",
       "50           50                  1.40                  3.06   1.66"
      ]
     },
     "execution_count": 48,
     "metadata": {},
     "output_type": "execute_result"
    }
   ],
   "source": [
    "m['dif'] = abs(m['percentageresponse_0'] - m['percentageResponse_1'])\n",
    "#m.style.highlight_max( color='lightgreen', axis=0, subset=['dif'] )\n",
    "m.loc[m['dif'] >= 1, :]"
   ]
  },
  {
   "cell_type": "markdown",
   "id": "indonesian-nudist",
   "metadata": {},
   "source": [
    "3. The region where people live have some influency on hiring or not an insurance?\n",
    "**YES, but there are only  5 regions where it´s possible to valuate a predisposition based on the region_code and it differs (median) only 1,64 %, except from region 28 where the diference on percental are 26,77% more on response 0 over response 1**"
   ]
  },
  {
   "cell_type": "code",
   "execution_count": 49,
   "id": "sorted-flavor",
   "metadata": {
    "ExecuteTime": {
     "end_time": "2021-08-02T12:02:11.641689Z",
     "start_time": "2021-08-02T12:02:11.525772Z"
    }
   },
   "outputs": [
    {
     "data": {
      "text/html": [
       "<div>\n",
       "<style scoped>\n",
       "    .dataframe tbody tr th:only-of-type {\n",
       "        vertical-align: middle;\n",
       "    }\n",
       "\n",
       "    .dataframe tbody tr th {\n",
       "        vertical-align: top;\n",
       "    }\n",
       "\n",
       "    .dataframe thead th {\n",
       "        text-align: right;\n",
       "    }\n",
       "</style>\n",
       "<table border=\"1\" class=\"dataframe\">\n",
       "  <thead>\n",
       "    <tr style=\"text-align: right;\">\n",
       "      <th></th>\n",
       "      <th>quantity</th>\n",
       "      <th>Age</th>\n",
       "      <th>Premium</th>\n",
       "      <th>Vintage</th>\n",
       "    </tr>\n",
       "    <tr>\n",
       "      <th>response</th>\n",
       "      <th></th>\n",
       "      <th></th>\n",
       "      <th></th>\n",
       "      <th></th>\n",
       "    </tr>\n",
       "  </thead>\n",
       "  <tbody>\n",
       "    <tr>\n",
       "      <th>0</th>\n",
       "      <td>78119</td>\n",
       "      <td>46</td>\n",
       "      <td>39926.0</td>\n",
       "      <td>155</td>\n",
       "    </tr>\n",
       "    <tr>\n",
       "      <th>1</th>\n",
       "      <td>18031</td>\n",
       "      <td>45</td>\n",
       "      <td>40397.0</td>\n",
       "      <td>155</td>\n",
       "    </tr>\n",
       "  </tbody>\n",
       "</table>\n",
       "</div>"
      ],
      "text/plain": [
       "          quantity  Age  Premium  Vintage\n",
       "response                                 \n",
       "0            78119   46  39926.0      155\n",
       "1            18031   45  40397.0      155"
      ]
     },
     "execution_count": 49,
     "metadata": {},
     "output_type": "execute_result"
    }
   ],
   "source": [
    "#region 28 represents 27.9% of the database\n",
    "df4.loc[df4['region_code'] == 28, :].groupby([  'response']).agg(quantity= ('id', 'count'),Age= ('age', 'median'),Premium=('annual_premium', 'median'), Vintage=('vintage', 'median')).sort_values('Premium')\n"
   ]
  },
  {
   "cell_type": "code",
   "execution_count": 50,
   "id": "mathematical-police",
   "metadata": {
    "ExecuteTime": {
     "end_time": "2021-08-02T12:02:11.719815Z",
     "start_time": "2021-08-02T12:02:11.641689Z"
    }
   },
   "outputs": [
    {
     "data": {
      "text/html": [
       "<div>\n",
       "<style scoped>\n",
       "    .dataframe tbody tr th:only-of-type {\n",
       "        vertical-align: middle;\n",
       "    }\n",
       "\n",
       "    .dataframe tbody tr th {\n",
       "        vertical-align: top;\n",
       "    }\n",
       "\n",
       "    .dataframe thead th {\n",
       "        text-align: right;\n",
       "    }\n",
       "</style>\n",
       "<table border=\"1\" class=\"dataframe\">\n",
       "  <thead>\n",
       "    <tr style=\"text-align: right;\">\n",
       "      <th></th>\n",
       "      <th>quantity</th>\n",
       "      <th>Age</th>\n",
       "      <th>Premium</th>\n",
       "      <th>Vintage</th>\n",
       "    </tr>\n",
       "    <tr>\n",
       "      <th>response</th>\n",
       "      <th></th>\n",
       "      <th></th>\n",
       "      <th></th>\n",
       "      <th></th>\n",
       "    </tr>\n",
       "  </thead>\n",
       "  <tbody>\n",
       "    <tr>\n",
       "      <th>1</th>\n",
       "      <td>2724</td>\n",
       "      <td>45</td>\n",
       "      <td>38741.5</td>\n",
       "      <td>151</td>\n",
       "    </tr>\n",
       "    <tr>\n",
       "      <th>0</th>\n",
       "      <td>27034</td>\n",
       "      <td>30</td>\n",
       "      <td>38754.0</td>\n",
       "      <td>154</td>\n",
       "    </tr>\n",
       "  </tbody>\n",
       "</table>\n",
       "</div>"
      ],
      "text/plain": [
       "          quantity  Age  Premium  Vintage\n",
       "response                                 \n",
       "1             2724   45  38741.5      151\n",
       "0            27034   30  38754.0      154"
      ]
     },
     "execution_count": 50,
     "metadata": {},
     "output_type": "execute_result"
    }
   ],
   "source": [
    "# region 8 \n",
    "df4.loc[df4['region_code'] == 8, :].groupby([  'response']).agg(quantity= ('id', 'count'),Age= ('age', 'median'),Premium=('annual_premium', 'median'), Vintage=('vintage', 'median')).sort_values('Premium')\n"
   ]
  },
  {
   "cell_type": "code",
   "execution_count": 51,
   "id": "corporate-therapy",
   "metadata": {
    "ExecuteTime": {
     "end_time": "2021-08-02T12:02:11.804475Z",
     "start_time": "2021-08-02T12:02:11.719815Z"
    }
   },
   "outputs": [
    {
     "data": {
      "text/html": [
       "<div>\n",
       "<style scoped>\n",
       "    .dataframe tbody tr th:only-of-type {\n",
       "        vertical-align: middle;\n",
       "    }\n",
       "\n",
       "    .dataframe tbody tr th {\n",
       "        vertical-align: top;\n",
       "    }\n",
       "\n",
       "    .dataframe thead th {\n",
       "        text-align: right;\n",
       "    }\n",
       "</style>\n",
       "<table border=\"1\" class=\"dataframe\">\n",
       "  <thead>\n",
       "    <tr style=\"text-align: right;\">\n",
       "      <th></th>\n",
       "      <th>quantity</th>\n",
       "      <th>Age</th>\n",
       "      <th>Premium</th>\n",
       "      <th>Vintage</th>\n",
       "    </tr>\n",
       "    <tr>\n",
       "      <th>response</th>\n",
       "      <th></th>\n",
       "      <th></th>\n",
       "      <th></th>\n",
       "      <th></th>\n",
       "    </tr>\n",
       "  </thead>\n",
       "  <tbody>\n",
       "    <tr>\n",
       "      <th>1</th>\n",
       "      <td>748</td>\n",
       "      <td>38</td>\n",
       "      <td>33476.5</td>\n",
       "      <td>160</td>\n",
       "    </tr>\n",
       "    <tr>\n",
       "      <th>0</th>\n",
       "      <td>10397</td>\n",
       "      <td>25</td>\n",
       "      <td>33625.0</td>\n",
       "      <td>155</td>\n",
       "    </tr>\n",
       "  </tbody>\n",
       "</table>\n",
       "</div>"
      ],
      "text/plain": [
       "          quantity  Age  Premium  Vintage\n",
       "response                                 \n",
       "1              748   38  33476.5      160\n",
       "0            10397   25  33625.0      155"
      ]
     },
     "execution_count": 51,
     "metadata": {},
     "output_type": "execute_result"
    }
   ],
   "source": [
    "df4.loc[df4['region_code'] == 15, :].groupby([  'response']).agg(quantity= ('id', 'count'),Age= ('age', 'median'),Premium=('annual_premium', 'median'), Vintage=('vintage', 'median')).sort_values('Premium')\n"
   ]
  },
  {
   "cell_type": "code",
   "execution_count": 52,
   "id": "isolated-fetish",
   "metadata": {
    "ExecuteTime": {
     "end_time": "2021-08-02T12:02:11.942518Z",
     "start_time": "2021-08-02T12:02:11.804475Z"
    }
   },
   "outputs": [
    {
     "data": {
      "text/html": [
       "<div>\n",
       "<style scoped>\n",
       "    .dataframe tbody tr th:only-of-type {\n",
       "        vertical-align: middle;\n",
       "    }\n",
       "\n",
       "    .dataframe tbody tr th {\n",
       "        vertical-align: top;\n",
       "    }\n",
       "\n",
       "    .dataframe thead th {\n",
       "        text-align: right;\n",
       "    }\n",
       "</style>\n",
       "<table border=\"1\" class=\"dataframe\">\n",
       "  <thead>\n",
       "    <tr style=\"text-align: right;\">\n",
       "      <th>response</th>\n",
       "      <th>0</th>\n",
       "      <th>1</th>\n",
       "    </tr>\n",
       "    <tr>\n",
       "      <th>previously_insured</th>\n",
       "      <th></th>\n",
       "      <th></th>\n",
       "    </tr>\n",
       "  </thead>\n",
       "  <tbody>\n",
       "    <tr>\n",
       "      <th>0</th>\n",
       "      <td>0.769438</td>\n",
       "      <td>0.230562</td>\n",
       "    </tr>\n",
       "    <tr>\n",
       "      <th>1</th>\n",
       "      <td>0.999191</td>\n",
       "      <td>0.000809</td>\n",
       "    </tr>\n",
       "  </tbody>\n",
       "</table>\n",
       "</div>"
      ],
      "text/plain": [
       "response                   0         1\n",
       "previously_insured                    \n",
       "0                   0.769438  0.230562\n",
       "1                   0.999191  0.000809"
      ]
     },
     "execution_count": 52,
     "metadata": {},
     "output_type": "execute_result"
    }
   ],
   "source": [
    "# Previous insured\n",
    "pd.crosstab(df4['previously_insured'], df4['response'] ).apply( lambda x: x / x.sum(), axis=1 )"
   ]
  },
  {
   "cell_type": "markdown",
   "id": "underlying-setting",
   "metadata": {},
   "source": [
    "- 99% of one condition, may generate viés "
   ]
  },
  {
   "cell_type": "code",
   "execution_count": 53,
   "id": "surprising-timeline",
   "metadata": {
    "ExecuteTime": {
     "end_time": "2021-08-02T12:02:11.973767Z",
     "start_time": "2021-08-02T12:02:11.942518Z"
    }
   },
   "outputs": [
    {
     "data": {
      "text/plain": [
       "array([1, 0], dtype=int64)"
      ]
     },
     "execution_count": 53,
     "metadata": {},
     "output_type": "execute_result"
    }
   ],
   "source": [
    "df4['vehicle_damage'].unique()"
   ]
  },
  {
   "cell_type": "code",
   "execution_count": 54,
   "id": "under-cardiff",
   "metadata": {
    "ExecuteTime": {
     "end_time": "2021-08-02T12:02:14.588288Z",
     "start_time": "2021-08-02T12:02:11.973767Z"
    }
   },
   "outputs": [
    {
     "data": {
      "image/png": "[encoded data removed]",
      "text/plain": [
       "<Figure size 1728x864 with 1 Axes>"
      ]
     },
     "metadata": {
      "needs_background": "light"
     },
     "output_type": "display_data"
    }
   ],
   "source": [
    "#'policy_sales_channel'\n",
    "plt.figure( figsize=(24, 12 ))\n",
    "aux = df4[['policy_sales_channel', 'response']].groupby( 'policy_sales_channel').sum().reset_index()\n",
    "sns.barplot( x='response', y='policy_sales_channel', data=aux );"
   ]
  },
  {
   "cell_type": "code",
   "execution_count": 95,
   "id": "starting-manufacturer",
   "metadata": {
    "ExecuteTime": {
     "end_time": "2021-08-02T17:27:27.226231Z",
     "start_time": "2021-08-02T17:27:25.801570Z"
    }
   },
   "outputs": [
    {
     "data": {
      "image/png": "[encoded data removed]",
      "text/plain": [
       "<Figure size 1728x864 with 1 Axes>"
      ]
     },
     "metadata": {
      "needs_background": "light"
     },
     "output_type": "display_data"
    }
   ],
   "source": [
    "plt.figure( figsize=(24, 12 ))\n",
    "ax =df4.groupby([  'response', 'policy_sales_channel']).agg(quantity= ('id', 'count')).reset_index()\n",
    "a= ax.loc[(ax['response']==1)& (ax['quantity']> 10)]\n",
    "sns.barplot(  x='policy_sales_channel',y='quantity', data=a );\n",
    "plt.xticks(\n",
    "    rotation=65, \n",
    "    horizontalalignment='right',\n",
    "    fontweight='light',\n",
    "    fontsize='x-large'  \n",
    ");\n"
   ]
  },
  {
   "cell_type": "code",
   "execution_count": 96,
   "id": "quiet-algorithm",
   "metadata": {
    "ExecuteTime": {
     "end_time": "2021-08-02T17:28:17.939259Z",
     "start_time": "2021-08-02T17:28:16.852514Z"
    }
   },
   "outputs": [
    {
     "data": {
      "image/png": "[encoded data removed]",
      "text/plain": [
       "<Figure size 1728x864 with 1 Axes>"
      ]
     },
     "metadata": {
      "needs_background": "light"
     },
     "output_type": "display_data"
    }
   ],
   "source": [
    "plt.figure( figsize=(24, 12 ))\n",
    "ax =df4.groupby([  'response', 'policy_sales_channel']).agg(quantity= ('id', 'count')).reset_index()\n",
    "a= ax.loc[(ax['response']==0)& (ax['quantity']> 100)]\n",
    "sns.barplot(  x='policy_sales_channel',y='quantity', data=a );\n",
    "plt.xticks(\n",
    "    rotation=65, \n",
    "    horizontalalignment='right',\n",
    "    fontweight='light',\n",
    "    fontsize='x-large'  \n",
    ");"
   ]
  },
  {
   "cell_type": "markdown",
   "id": "productive-threshold",
   "metadata": {},
   "source": [
    "3. The more sales channel, more is the probability to response to an insurance proposal\n",
    "\n",
    "    **NO**"
   ]
  },
  {
   "cell_type": "code",
   "execution_count": 56,
   "id": "brutal-testing",
   "metadata": {
    "ExecuteTime": {
     "end_time": "2021-08-02T12:02:16.080526Z",
     "start_time": "2021-08-02T12:02:15.949035Z"
    }
   },
   "outputs": [
    {
     "data": {
      "text/html": [
       "<div>\n",
       "<style scoped>\n",
       "    .dataframe tbody tr th:only-of-type {\n",
       "        vertical-align: middle;\n",
       "    }\n",
       "\n",
       "    .dataframe tbody tr th {\n",
       "        vertical-align: top;\n",
       "    }\n",
       "\n",
       "    .dataframe thead th {\n",
       "        text-align: right;\n",
       "    }\n",
       "</style>\n",
       "<table border=\"1\" class=\"dataframe\">\n",
       "  <thead>\n",
       "    <tr style=\"text-align: right;\">\n",
       "      <th></th>\n",
       "      <th></th>\n",
       "      <th>quantity</th>\n",
       "      <th>Age</th>\n",
       "      <th>Premium</th>\n",
       "      <th>Vintage</th>\n",
       "    </tr>\n",
       "    <tr>\n",
       "      <th>response</th>\n",
       "      <th>region_code</th>\n",
       "      <th></th>\n",
       "      <th></th>\n",
       "      <th></th>\n",
       "      <th></th>\n",
       "    </tr>\n",
       "  </thead>\n",
       "  <tbody>\n",
       "    <tr>\n",
       "      <th>0</th>\n",
       "      <th>28</th>\n",
       "      <td>26606</td>\n",
       "      <td>50.0</td>\n",
       "      <td>40513.5</td>\n",
       "      <td>154.0</td>\n",
       "    </tr>\n",
       "    <tr>\n",
       "      <th>1</th>\n",
       "      <th>28</th>\n",
       "      <td>8210</td>\n",
       "      <td>48.0</td>\n",
       "      <td>41733.5</td>\n",
       "      <td>157.0</td>\n",
       "    </tr>\n",
       "    <tr>\n",
       "      <th rowspan=\"5\" valign=\"top\">0</th>\n",
       "      <th>8</th>\n",
       "      <td>4833</td>\n",
       "      <td>51.0</td>\n",
       "      <td>39476.0</td>\n",
       "      <td>154.0</td>\n",
       "    </tr>\n",
       "    <tr>\n",
       "      <th>46</th>\n",
       "      <td>2302</td>\n",
       "      <td>50.0</td>\n",
       "      <td>30464.0</td>\n",
       "      <td>157.0</td>\n",
       "    </tr>\n",
       "    <tr>\n",
       "      <th>41</th>\n",
       "      <td>2086</td>\n",
       "      <td>50.0</td>\n",
       "      <td>34312.5</td>\n",
       "      <td>153.5</td>\n",
       "    </tr>\n",
       "    <tr>\n",
       "      <th>29</th>\n",
       "      <td>1278</td>\n",
       "      <td>50.0</td>\n",
       "      <td>34733.0</td>\n",
       "      <td>153.0</td>\n",
       "    </tr>\n",
       "    <tr>\n",
       "      <th>3</th>\n",
       "      <td>1059</td>\n",
       "      <td>51.0</td>\n",
       "      <td>30531.0</td>\n",
       "      <td>158.0</td>\n",
       "    </tr>\n",
       "    <tr>\n",
       "      <th>1</th>\n",
       "      <th>8</th>\n",
       "      <td>932</td>\n",
       "      <td>48.0</td>\n",
       "      <td>39744.5</td>\n",
       "      <td>148.0</td>\n",
       "    </tr>\n",
       "    <tr>\n",
       "      <th rowspan=\"10\" valign=\"top\">0</th>\n",
       "      <th>47</th>\n",
       "      <td>882</td>\n",
       "      <td>46.0</td>\n",
       "      <td>33400.5</td>\n",
       "      <td>155.0</td>\n",
       "    </tr>\n",
       "    <tr>\n",
       "      <th>33</th>\n",
       "      <td>848</td>\n",
       "      <td>52.0</td>\n",
       "      <td>33210.5</td>\n",
       "      <td>154.0</td>\n",
       "    </tr>\n",
       "    <tr>\n",
       "      <th>15</th>\n",
       "      <td>830</td>\n",
       "      <td>48.0</td>\n",
       "      <td>34779.5</td>\n",
       "      <td>149.0</td>\n",
       "    </tr>\n",
       "    <tr>\n",
       "      <th>11</th>\n",
       "      <td>773</td>\n",
       "      <td>52.0</td>\n",
       "      <td>31871.0</td>\n",
       "      <td>149.0</td>\n",
       "    </tr>\n",
       "    <tr>\n",
       "      <th>50</th>\n",
       "      <td>723</td>\n",
       "      <td>51.0</td>\n",
       "      <td>34309.0</td>\n",
       "      <td>153.0</td>\n",
       "    </tr>\n",
       "    <tr>\n",
       "      <th>45</th>\n",
       "      <td>696</td>\n",
       "      <td>49.0</td>\n",
       "      <td>29920.5</td>\n",
       "      <td>145.5</td>\n",
       "    </tr>\n",
       "    <tr>\n",
       "      <th>39</th>\n",
       "      <td>677</td>\n",
       "      <td>53.0</td>\n",
       "      <td>34379.0</td>\n",
       "      <td>161.0</td>\n",
       "    </tr>\n",
       "    <tr>\n",
       "      <th>30</th>\n",
       "      <td>655</td>\n",
       "      <td>48.0</td>\n",
       "      <td>30098.0</td>\n",
       "      <td>152.0</td>\n",
       "    </tr>\n",
       "    <tr>\n",
       "      <th>36</th>\n",
       "      <td>589</td>\n",
       "      <td>47.0</td>\n",
       "      <td>34556.0</td>\n",
       "      <td>148.0</td>\n",
       "    </tr>\n",
       "    <tr>\n",
       "      <th>35</th>\n",
       "      <td>578</td>\n",
       "      <td>49.0</td>\n",
       "      <td>32747.0</td>\n",
       "      <td>154.0</td>\n",
       "    </tr>\n",
       "    <tr>\n",
       "      <th>1</th>\n",
       "      <th>41</th>\n",
       "      <td>542</td>\n",
       "      <td>47.0</td>\n",
       "      <td>34755.5</td>\n",
       "      <td>154.0</td>\n",
       "    </tr>\n",
       "    <tr>\n",
       "      <th>0</th>\n",
       "      <th>14</th>\n",
       "      <td>508</td>\n",
       "      <td>48.0</td>\n",
       "      <td>30740.0</td>\n",
       "      <td>154.5</td>\n",
       "    </tr>\n",
       "  </tbody>\n",
       "</table>\n",
       "</div>"
      ],
      "text/plain": [
       "                      quantity   Age  Premium  Vintage\n",
       "response region_code                                  \n",
       "0        28              26606  50.0  40513.5    154.0\n",
       "1        28               8210  48.0  41733.5    157.0\n",
       "0        8                4833  51.0  39476.0    154.0\n",
       "         46               2302  50.0  30464.0    157.0\n",
       "         41               2086  50.0  34312.5    153.5\n",
       "         29               1278  50.0  34733.0    153.0\n",
       "         3                1059  51.0  30531.0    158.0\n",
       "1        8                 932  48.0  39744.5    148.0\n",
       "0        47                882  46.0  33400.5    155.0\n",
       "         33                848  52.0  33210.5    154.0\n",
       "         15                830  48.0  34779.5    149.0\n",
       "         11                773  52.0  31871.0    149.0\n",
       "         50                723  51.0  34309.0    153.0\n",
       "         45                696  49.0  29920.5    145.5\n",
       "         39                677  53.0  34379.0    161.0\n",
       "         30                655  48.0  30098.0    152.0\n",
       "         36                589  47.0  34556.0    148.0\n",
       "         35                578  49.0  32747.0    154.0\n",
       "1        41                542  47.0  34755.5    154.0\n",
       "0        14                508  48.0  30740.0    154.5"
      ]
     },
     "execution_count": 56,
     "metadata": {},
     "output_type": "execute_result"
    }
   ],
   "source": [
    "df4.loc[(df4['policy_sales_channel'] == 26), :].groupby([  'response', 'region_code']).agg(quantity= ('id', 'count'),Age= ('age', 'median'),Premium=('annual_premium', 'median'), Vintage=('vintage', 'median')).sort_values('quantity', ascending= False).head(20)"
   ]
  },
  {
   "cell_type": "code",
   "execution_count": 57,
   "id": "purple-sense",
   "metadata": {
    "ExecuteTime": {
     "end_time": "2021-08-02T12:02:16.466130Z",
     "start_time": "2021-08-02T12:02:16.080526Z"
    }
   },
   "outputs": [
    {
     "data": {
      "image/png": "[encoded data removed]",
      "text/plain": [
       "<Figure size 1080x288 with 1 Axes>"
      ]
     },
     "metadata": {
      "needs_background": "light"
     },
     "output_type": "display_data"
    }
   ],
   "source": [
    "# Vintage\n",
    "ax = df4.groupby([  'response', 'vintage']).agg(quantity= ('id', 'count')).reset_index()\n",
    "a= ax.loc[(ax['response'] ==1)]\n",
    "fig = plt.subplots(figsize = (15,4))\n",
    "sns.lineplot(  x='vintage',y='quantity', data=a );\n"
   ]
  },
  {
   "cell_type": "markdown",
   "id": "intensive-crossing",
   "metadata": {},
   "source": [
    "5. older customers of the insurance company are more likely to hire car insurance ?\n",
    "**No, there is no relation**"
   ]
  },
  {
   "cell_type": "markdown",
   "id": "induced-blackberry",
   "metadata": {},
   "source": [
    "### 4.1.3. Categorical Variable"
   ]
  },
  {
   "cell_type": "code",
   "execution_count": 58,
   "id": "greenhouse-chicken",
   "metadata": {
    "ExecuteTime": {
     "end_time": "2021-08-02T12:02:17.654187Z",
     "start_time": "2021-08-02T12:02:16.466130Z"
    }
   },
   "outputs": [
    {
     "data": {
      "text/plain": [
       "<AxesSubplot:xlabel='vehicle_age', ylabel='count'>"
      ]
     },
     "execution_count": 58,
     "metadata": {},
     "output_type": "execute_result"
    },
    {
     "data": {
      "image/png": "[encoded data removed]",
      "text/plain": [
       "<Figure size 1152x864 with 2 Axes>"
      ]
     },
     "metadata": {
      "needs_background": "light"
     },
     "output_type": "display_data"
    }
   ],
   "source": [
    "#gender vehicle_age vehicle_damage\n",
    "\n",
    "plt.figure( figsize=(16, 12 ))\n",
    "# Gender\n",
    "\n",
    "plt.subplot( 2, 2, 1 )\n",
    "sns.countplot( df4['gender'] );\n",
    "\n",
    "plt.subplot( 2, 2, 2 )\n",
    "\n",
    "# Vehicle_age\n",
    "\n",
    "sns.countplot( df4['vehicle_age'] )\n",
    "\n",
    "\n",
    "\n"
   ]
  },
  {
   "cell_type": "code",
   "execution_count": 59,
   "id": "relevant-polyester",
   "metadata": {
    "ExecuteTime": {
     "end_time": "2021-08-02T12:02:17.801303Z",
     "start_time": "2021-08-02T12:02:17.654187Z"
    }
   },
   "outputs": [
    {
     "data": {
      "text/html": [
       "<div>\n",
       "<style scoped>\n",
       "    .dataframe tbody tr th:only-of-type {\n",
       "        vertical-align: middle;\n",
       "    }\n",
       "\n",
       "    .dataframe tbody tr th {\n",
       "        vertical-align: top;\n",
       "    }\n",
       "\n",
       "    .dataframe thead th {\n",
       "        text-align: right;\n",
       "    }\n",
       "</style>\n",
       "<table border=\"1\" class=\"dataframe\">\n",
       "  <thead>\n",
       "    <tr style=\"text-align: right;\">\n",
       "      <th></th>\n",
       "      <th></th>\n",
       "      <th>Percentage</th>\n",
       "    </tr>\n",
       "    <tr>\n",
       "      <th>response</th>\n",
       "      <th>gender</th>\n",
       "      <th></th>\n",
       "    </tr>\n",
       "  </thead>\n",
       "  <tbody>\n",
       "    <tr>\n",
       "      <th rowspan=\"2\" valign=\"top\">0</th>\n",
       "      <th>Female</th>\n",
       "      <td>41.84</td>\n",
       "    </tr>\n",
       "    <tr>\n",
       "      <th>Male</th>\n",
       "      <td>46.09</td>\n",
       "    </tr>\n",
       "    <tr>\n",
       "      <th rowspan=\"2\" valign=\"top\">1</th>\n",
       "      <th>Female</th>\n",
       "      <td>4.67</td>\n",
       "    </tr>\n",
       "    <tr>\n",
       "      <th>Male</th>\n",
       "      <td>7.40</td>\n",
       "    </tr>\n",
       "  </tbody>\n",
       "</table>\n",
       "</div>"
      ],
      "text/plain": [
       "                 Percentage\n",
       "response gender            \n",
       "0        Female       41.84\n",
       "         Male         46.09\n",
       "1        Female        4.67\n",
       "         Male          7.40"
      ]
     },
     "execution_count": 59,
     "metadata": {},
     "output_type": "execute_result"
    }
   ],
   "source": [
    "df4.groupby(['response', 'gender']).agg(Percentage=('gender', 'count')).apply(lambda x: np.round(100 * x / float(x.sum()),2))"
   ]
  },
  {
   "cell_type": "markdown",
   "id": "cardiac-journalism",
   "metadata": {},
   "source": [
    "4. Women are more likely to contract an insurance than men?\n",
    "\n",
    "    **NO, men are more likely**\n"
   ]
  },
  {
   "cell_type": "code",
   "execution_count": 60,
   "id": "found-sound",
   "metadata": {
    "ExecuteTime": {
     "end_time": "2021-08-02T12:02:17.970611Z",
     "start_time": "2021-08-02T12:02:17.801303Z"
    }
   },
   "outputs": [
    {
     "data": {
      "text/html": [
       "<div>\n",
       "<style scoped>\n",
       "    .dataframe tbody tr th:only-of-type {\n",
       "        vertical-align: middle;\n",
       "    }\n",
       "\n",
       "    .dataframe tbody tr th {\n",
       "        vertical-align: top;\n",
       "    }\n",
       "\n",
       "    .dataframe thead th {\n",
       "        text-align: right;\n",
       "    }\n",
       "</style>\n",
       "<table border=\"1\" class=\"dataframe\">\n",
       "  <thead>\n",
       "    <tr style=\"text-align: right;\">\n",
       "      <th>response</th>\n",
       "      <th>0</th>\n",
       "      <th>1</th>\n",
       "    </tr>\n",
       "    <tr>\n",
       "      <th>vehicle_age</th>\n",
       "      <th></th>\n",
       "      <th></th>\n",
       "    </tr>\n",
       "  </thead>\n",
       "  <tbody>\n",
       "    <tr>\n",
       "      <th>below_1_year</th>\n",
       "      <td>0.96</td>\n",
       "      <td>0.04</td>\n",
       "    </tr>\n",
       "    <tr>\n",
       "      <th>between_1_2_year</th>\n",
       "      <td>0.82</td>\n",
       "      <td>0.18</td>\n",
       "    </tr>\n",
       "    <tr>\n",
       "      <th>over_2_years</th>\n",
       "      <td>0.69</td>\n",
       "      <td>0.31</td>\n",
       "    </tr>\n",
       "  </tbody>\n",
       "</table>\n",
       "</div>"
      ],
      "text/plain": [
       "response             0     1\n",
       "vehicle_age                 \n",
       "below_1_year      0.96  0.04\n",
       "between_1_2_year  0.82  0.18\n",
       "over_2_years      0.69  0.31"
      ]
     },
     "execution_count": 60,
     "metadata": {},
     "output_type": "execute_result"
    }
   ],
   "source": [
    "# vehicle_age\n",
    "\n",
    "pd.crosstab(df4['vehicle_age'], df4['response'] ).apply( lambda x: np.round(x / x.sum(), 2), axis=1 )"
   ]
  },
  {
   "cell_type": "markdown",
   "id": "valued-teach",
   "metadata": {},
   "source": [
    "Newer vehicles are more insured ?\n",
    "\n",
    "**NO, vehicle over 2 years are more insurance**\n"
   ]
  },
  {
   "cell_type": "code",
   "execution_count": 61,
   "id": "choice-paris",
   "metadata": {
    "ExecuteTime": {
     "end_time": "2021-08-02T12:02:18.425176Z",
     "start_time": "2021-08-02T12:02:17.970611Z"
    }
   },
   "outputs": [
    {
     "data": {
      "image/png": "[encoded data removed]",
      "text/plain": [
       "<Figure size 720x432 with 1 Axes>"
      ]
     },
     "metadata": {},
     "output_type": "display_data"
    }
   ],
   "source": [
    "plt.figure( figsize=(10, 6 ))\n",
    "\n",
    "# vehicle damage\n",
    "a=df4.groupby('response').count()[['vehicle_damage']].reset_index()\n",
    "plt.pie(a['vehicle_damage'], labels =a['response'], autopct=\"%.1f%%\");\n",
    "plt.legend(title = \"response\");\n",
    "plt.title('Vehicle Damage');\n",
    "\n"
   ]
  },
  {
   "cell_type": "code",
   "execution_count": 62,
   "id": "burning-explanation",
   "metadata": {
    "ExecuteTime": {
     "end_time": "2021-08-02T12:02:18.873171Z",
     "start_time": "2021-08-02T12:02:18.425176Z"
    }
   },
   "outputs": [
    {
     "data": {
      "image/png": "[encoded data removed]",
      "text/plain": [
       "<Figure size 1080x288 with 1 Axes>"
      ]
     },
     "metadata": {
      "needs_background": "light"
     },
     "output_type": "display_data"
    }
   ],
   "source": [
    "fig, axs = plt.subplots(figsize = (15,4))\n",
    "sns.countplot(x = df4['vehicle_damage'], hue = df4['response']);"
   ]
  },
  {
   "cell_type": "markdown",
   "id": "minute-fiber",
   "metadata": {},
   "source": [
    "5. People who have the vehicle damage are more likely to hire an insurance?\n",
    "\n",
    "    **Yes, comparing to people who has never had the veiche damaged**"
   ]
  },
  {
   "cell_type": "code",
   "execution_count": null,
   "id": "apart-figure",
   "metadata": {},
   "outputs": [],
   "source": []
  },
  {
   "cell_type": "markdown",
   "id": "white-sound",
   "metadata": {},
   "source": [
    "# 5.0. Data Preparation"
   ]
  },
  {
   "cell_type": "code",
   "execution_count": 63,
   "id": "modular-federation",
   "metadata": {
    "ExecuteTime": {
     "end_time": "2021-08-02T12:04:03.733295Z",
     "start_time": "2021-08-02T12:04:03.679810Z"
    }
   },
   "outputs": [],
   "source": [
    "df5 = df4.copy()"
   ]
  },
  {
   "cell_type": "code",
   "execution_count": 64,
   "id": "identified-chambers",
   "metadata": {
    "ExecuteTime": {
     "end_time": "2021-08-02T12:04:05.569179Z",
     "start_time": "2021-08-02T12:04:05.337285Z"
    }
   },
   "outputs": [],
   "source": [
    "X = df4.drop( 'response', axis=1 )\n",
    "y = df4['response'].copy() \n",
    "\n",
    "x_train, x_validation, y_train, y_validation = ms.train_test_split( X, y, test_size=0.20 )\n",
    "\n",
    "df5 = pd.concat( [x_train, y_train], axis=1 )"
   ]
  },
  {
   "cell_type": "markdown",
   "id": "entitled-compound",
   "metadata": {},
   "source": [
    "## 5.1. Standardization"
   ]
  },
  {
   "cell_type": "code",
   "execution_count": 65,
   "id": "comfortable-donor",
   "metadata": {
    "ExecuteTime": {
     "end_time": "2021-08-02T12:04:32.186192Z",
     "start_time": "2021-08-02T12:04:32.101499Z"
    }
   },
   "outputs": [],
   "source": [
    "ss = pp.StandardScaler()\n",
    "\n",
    "# annual_premium\n",
    "df5['annual_premium'] = ss.fit_transform( df5[['annual_premium']].values )"
   ]
  },
  {
   "cell_type": "markdown",
   "id": "bronze-publisher",
   "metadata": {},
   "source": [
    "## 5.2. Rescaling"
   ]
  },
  {
   "cell_type": "code",
   "execution_count": 66,
   "id": "spread-monte",
   "metadata": {
    "ExecuteTime": {
     "end_time": "2021-08-02T12:04:40.628703Z",
     "start_time": "2021-08-02T12:04:40.550565Z"
    }
   },
   "outputs": [],
   "source": [
    "mms_age = pp.MinMaxScaler()\n",
    "mms_vintage = pp.MinMaxScaler()\n",
    "\n",
    "# Age\n",
    "df5['age'] = mms_age.fit_transform( df5[['age']].values )\n",
    "\n",
    "# vintage\n",
    "df5['vintage'] = mms_vintage.fit_transform( df5[['vintage']].values )"
   ]
  },
  {
   "cell_type": "markdown",
   "id": "executive-netherlands",
   "metadata": {},
   "source": [
    "### 5.3.1. Encoding"
   ]
  },
  {
   "cell_type": "markdown",
   "id": "plain-trail",
   "metadata": {},
   "source": [
    "## Encoder"
   ]
  },
  {
   "cell_type": "code",
   "execution_count": 67,
   "id": "conservative-stability",
   "metadata": {
    "ExecuteTime": {
     "end_time": "2021-08-02T12:04:46.324962Z",
     "start_time": "2021-08-02T12:04:45.831235Z"
    }
   },
   "outputs": [],
   "source": [
    "# gender - One Hot Encoding / Target Encoding\n",
    "\n",
    "encoder_gender =TargetEncoder()\n",
    "df5['gender'] = encoder_gender.fit_transform(df5['gender'], df5['response'])\n",
    "\n",
    "# region_code - Target Encoding / Frequency Encoding\n",
    "target_encode_region_code = df5.groupby( 'region_code' )['response'].mean()\n",
    "df5.loc[:, 'region_code'] = df5['region_code'].map( target_encode_region_code )\n",
    "\n",
    "\n",
    "## vehicle_age - One Hot Encoding / Frequency Encoding\n",
    "df5 = pd.get_dummies( df5, prefix='vehicle_age', columns=['vehicle_age'] )\n",
    "\n",
    "## policy_sales_channel - Target Encoding / Frequency Encoding\n",
    "fe_policy_sales_channel = df5.groupby( 'policy_sales_channel' ).size() / len( df5 ) \n",
    "df5.loc[:, 'policy_sales_channel'] = df5['policy_sales_channel'].map( fe_policy_sales_channel )"
   ]
  },
  {
   "cell_type": "markdown",
   "id": "dimensional-denver",
   "metadata": {},
   "source": [
    "## 5.4. Validation Preparation"
   ]
  },
  {
   "cell_type": "code",
   "execution_count": 68,
   "id": "convenient-front",
   "metadata": {
    "ExecuteTime": {
     "end_time": "2021-08-02T12:04:50.755452Z",
     "start_time": "2021-08-02T12:04:50.570874Z"
    }
   },
   "outputs": [],
   "source": [
    "# gender\n",
    "x_validation.loc[:, 'gender'] =  encoder_gender.transform(x_validation[['gender']], y=None )\n",
    "\n",
    "# age\n",
    "x_validation.loc[:, 'age'] = mms_age.transform( x_validation[['age']].values )\n",
    "\n",
    "# region_code\n",
    "x_validation.loc[:, 'region_code'] = x_validation.loc[:, 'region_code'].map( target_encode_region_code )\n",
    "\n",
    "# vehicle_age\n",
    "x_validation = pd.get_dummies( x_validation, prefix='vehicle_age', columns=['vehicle_age'] )\n",
    "\n",
    "# annual_premium\n",
    "x_validation.loc[:, 'annual_premium'] = ss.transform( x_validation[['annual_premium']].values )\n",
    "\n",
    "# policy_sales_channel\n",
    "x_validation.loc[:, 'policy_sales_channel'] = x_validation['policy_sales_channel'].map( fe_policy_sales_channel )\n",
    "\n",
    "# vintage\n",
    "x_validation.loc[:, 'vintage'] = mms_vintage.transform( x_validation[['vintage']].values )\n",
    "\n",
    "# fillna\n",
    "x_validation = x_validation.fillna( 0 )"
   ]
  },
  {
   "cell_type": "code",
   "execution_count": 69,
   "id": "adapted-guidance",
   "metadata": {
    "ExecuteTime": {
     "end_time": "2021-08-02T12:04:52.760244Z",
     "start_time": "2021-08-02T12:04:52.706783Z"
    }
   },
   "outputs": [
    {
     "data": {
      "text/html": [
       "<div>\n",
       "<style scoped>\n",
       "    .dataframe tbody tr th:only-of-type {\n",
       "        vertical-align: middle;\n",
       "    }\n",
       "\n",
       "    .dataframe tbody tr th {\n",
       "        vertical-align: top;\n",
       "    }\n",
       "\n",
       "    .dataframe thead th {\n",
       "        text-align: right;\n",
       "    }\n",
       "</style>\n",
       "<table border=\"1\" class=\"dataframe\">\n",
       "  <thead>\n",
       "    <tr style=\"text-align: right;\">\n",
       "      <th></th>\n",
       "      <th>id</th>\n",
       "      <th>gender</th>\n",
       "      <th>age</th>\n",
       "      <th>driving_license</th>\n",
       "      <th>region_code</th>\n",
       "      <th>previously_insured</th>\n",
       "      <th>vehicle_damage</th>\n",
       "      <th>annual_premium</th>\n",
       "      <th>policy_sales_channel</th>\n",
       "      <th>vintage</th>\n",
       "      <th>response</th>\n",
       "      <th>vehicle_age_below_1_year</th>\n",
       "      <th>vehicle_age_between_1_2_year</th>\n",
       "      <th>vehicle_age_over_2_years</th>\n",
       "    </tr>\n",
       "  </thead>\n",
       "  <tbody>\n",
       "    <tr>\n",
       "      <th>77995</th>\n",
       "      <td>77996</td>\n",
       "      <td>0.137661</td>\n",
       "      <td>0.323077</td>\n",
       "      <td>1</td>\n",
       "      <td>0.066038</td>\n",
       "      <td>1</td>\n",
       "      <td>0</td>\n",
       "      <td>0.071134</td>\n",
       "      <td>0.386489</td>\n",
       "      <td>0.290657</td>\n",
       "      <td>0</td>\n",
       "      <td>0</td>\n",
       "      <td>1</td>\n",
       "      <td>0</td>\n",
       "    </tr>\n",
       "    <tr>\n",
       "      <th>363111</th>\n",
       "      <td>363112</td>\n",
       "      <td>0.137661</td>\n",
       "      <td>0.061538</td>\n",
       "      <td>1</td>\n",
       "      <td>0.115760</td>\n",
       "      <td>0</td>\n",
       "      <td>1</td>\n",
       "      <td>0.235449</td>\n",
       "      <td>0.196129</td>\n",
       "      <td>0.062284</td>\n",
       "      <td>1</td>\n",
       "      <td>1</td>\n",
       "      <td>0</td>\n",
       "      <td>0</td>\n",
       "    </tr>\n",
       "    <tr>\n",
       "      <th>39313</th>\n",
       "      <td>39314</td>\n",
       "      <td>0.100309</td>\n",
       "      <td>0.184615</td>\n",
       "      <td>1</td>\n",
       "      <td>0.187618</td>\n",
       "      <td>1</td>\n",
       "      <td>0</td>\n",
       "      <td>-0.734496</td>\n",
       "      <td>0.386489</td>\n",
       "      <td>0.965398</td>\n",
       "      <td>0</td>\n",
       "      <td>1</td>\n",
       "      <td>0</td>\n",
       "      <td>0</td>\n",
       "    </tr>\n",
       "    <tr>\n",
       "      <th>264682</th>\n",
       "      <td>264683</td>\n",
       "      <td>0.100309</td>\n",
       "      <td>0.046154</td>\n",
       "      <td>1</td>\n",
       "      <td>0.113643</td>\n",
       "      <td>0</td>\n",
       "      <td>1</td>\n",
       "      <td>-0.266611</td>\n",
       "      <td>0.386489</td>\n",
       "      <td>0.328720</td>\n",
       "      <td>0</td>\n",
       "      <td>1</td>\n",
       "      <td>0</td>\n",
       "      <td>0</td>\n",
       "    </tr>\n",
       "    <tr>\n",
       "      <th>125877</th>\n",
       "      <td>125878</td>\n",
       "      <td>0.100309</td>\n",
       "      <td>0.030769</td>\n",
       "      <td>1</td>\n",
       "      <td>0.068380</td>\n",
       "      <td>1</td>\n",
       "      <td>1</td>\n",
       "      <td>0.131374</td>\n",
       "      <td>0.386489</td>\n",
       "      <td>0.131488</td>\n",
       "      <td>0</td>\n",
       "      <td>1</td>\n",
       "      <td>0</td>\n",
       "      <td>0</td>\n",
       "    </tr>\n",
       "  </tbody>\n",
       "</table>\n",
       "</div>"
      ],
      "text/plain": [
       "            id    gender       age  driving_license  region_code  \\\n",
       "77995    77996  0.137661  0.323077                1     0.066038   \n",
       "363111  363112  0.137661  0.061538                1     0.115760   \n",
       "39313    39314  0.100309  0.184615                1     0.187618   \n",
       "264682  264683  0.100309  0.046154                1     0.113643   \n",
       "125877  125878  0.100309  0.030769                1     0.068380   \n",
       "\n",
       "        previously_insured  vehicle_damage  annual_premium  \\\n",
       "77995                    1               0        0.071134   \n",
       "363111                   0               1        0.235449   \n",
       "39313                    1               0       -0.734496   \n",
       "264682                   0               1       -0.266611   \n",
       "125877                   1               1        0.131374   \n",
       "\n",
       "        policy_sales_channel   vintage  response  vehicle_age_below_1_year  \\\n",
       "77995               0.386489  0.290657         0                         0   \n",
       "363111              0.196129  0.062284         1                         1   \n",
       "39313               0.386489  0.965398         0                         1   \n",
       "264682              0.386489  0.328720         0                         1   \n",
       "125877              0.386489  0.131488         0                         1   \n",
       "\n",
       "        vehicle_age_between_1_2_year  vehicle_age_over_2_years  \n",
       "77995                              1                         0  \n",
       "363111                             0                         0  \n",
       "39313                              0                         0  \n",
       "264682                             0                         0  \n",
       "125877                             0                         0  "
      ]
     },
     "execution_count": 69,
     "metadata": {},
     "output_type": "execute_result"
    }
   ],
   "source": [
    "df5.head()"
   ]
  },
  {
   "cell_type": "markdown",
   "id": "mysterious-administrator",
   "metadata": {},
   "source": [
    "# 6.0. Feature Selection"
   ]
  },
  {
   "cell_type": "code",
   "execution_count": 70,
   "id": "developing-baker",
   "metadata": {
    "ExecuteTime": {
     "end_time": "2021-08-02T12:04:57.655840Z",
     "start_time": "2021-08-02T12:04:57.624543Z"
    }
   },
   "outputs": [],
   "source": [
    "df6 = df5.copy()"
   ]
  },
  {
   "cell_type": "markdown",
   "id": "suited-scheduling",
   "metadata": {},
   "source": [
    "## 6.1. Boruta Algorithm"
   ]
  },
  {
   "cell_type": "code",
   "execution_count": null,
   "id": "tribal-perry",
   "metadata": {
    "ExecuteTime": {
     "end_time": "2021-07-29T23:56:12.161235Z",
     "start_time": "2021-07-29T23:56:12.149238Z"
    }
   },
   "outputs": [],
   "source": [
    "## training and test dataset for Boruta\n",
    "#x_train_b = df6.drop(['id', 'response'], axis = 1).values\n",
    "#y_train_b = y_train.values.ravel()\n",
    "#\n",
    "#\n",
    "## define RandomForestRegressor\n",
    "#rf = RandomForestClassifier(n_jobs=-1, class_weight='balanced', max_depth=5)\n",
    "#\n",
    "## define Boruta feature selection method\n",
    "#boruta_feat_selector = BorutaPy(rf, n_estimators='auto', verbose=2, random_state=42).fit( x_train_b,y_train_b )\n",
    "#\n",
    "## find all relevant features\n",
    "#boruta_feat_selector.fit(x_train_b,y_train_b )\n",
    "#\n",
    "## check ranking of features\n",
    "#boruta_feat_selector.ranking_"
   ]
  },
  {
   "cell_type": "code",
   "execution_count": null,
   "id": "hawaiian-soviet",
   "metadata": {
    "ExecuteTime": {
     "end_time": "2021-07-29T23:56:12.177232Z",
     "start_time": "2021-07-29T23:56:12.166234Z"
    }
   },
   "outputs": [],
   "source": [
    "#cols_selected = boruta_feat_selector.support_.tolist()\n",
    "#\n",
    "##colunas selecionadas\n",
    "#x_train_fs = df6.drop(['id', 'response'], axis = 1)\n",
    "#cols_selected_boruta = x_train_fs.iloc[:, cols_selected].columns.to_list()\n",
    "#\n",
    "##colunas não selecionadas\n",
    "#cols_not_selected_boruta = list(np.setdiff1d(x_train_fs.columns,cols_selected_boruta))\n",
    "#\n",
    "#print(\"BorutaSelected Column: \\n\",cols_selected_boruta )\n",
    "#\n",
    "#\n",
    "#print(\"Boruta NOT Selected Column:\", cols_not_selected_boruta )\n"
   ]
  },
  {
   "cell_type": "markdown",
   "id": "cellular-resort",
   "metadata": {},
   "source": [
    "## 6.2. Feature Importance"
   ]
  },
  {
   "cell_type": "code",
   "execution_count": 174,
   "id": "gross-sapphire",
   "metadata": {
    "ExecuteTime": {
     "end_time": "2021-08-01T23:32:31.716128Z",
     "start_time": "2021-08-01T23:31:17.335987Z"
    }
   },
   "outputs": [
    {
     "data": {
      "text/plain": [
       "ExtraTreesClassifier(bootstrap=False, ccp_alpha=0.0, class_weight=None,\n",
       "                     criterion='gini', max_depth=None, max_features='auto',\n",
       "                     max_leaf_nodes=None, max_samples=None,\n",
       "                     min_impurity_decrease=0.0, min_impurity_split=None,\n",
       "                     min_samples_leaf=1, min_samples_split=2,\n",
       "                     min_weight_fraction_leaf=0.0, n_estimators=250, n_jobs=-1,\n",
       "                     oob_score=False, random_state=0, verbose=0,\n",
       "                     warm_start=False)"
      ]
     },
     "execution_count": 174,
     "metadata": {},
     "output_type": "execute_result"
    }
   ],
   "source": [
    "# model definition\n",
    "forest = en.ExtraTreesClassifier( n_estimators=250, random_state=0, n_jobs=-1 )\n",
    "\n",
    "# data preparation\n",
    "x_train_n = df5.drop( ['id', 'response'], axis=1 )\n",
    "y_train_n = y_train.values\n",
    "forest.fit( x_train_n, y_train_n )"
   ]
  },
  {
   "cell_type": "code",
   "execution_count": 175,
   "id": "adopted-carter",
   "metadata": {
    "ExecuteTime": {
     "end_time": "2021-08-01T23:32:52.566180Z",
     "start_time": "2021-08-01T23:32:31.765706Z"
    }
   },
   "outputs": [
    {
     "name": "stdout",
     "output_type": "stream",
     "text": [
      "feature ranking\n",
      "                        feature  importance\n",
      "0                annual_premium    0.274667\n",
      "0                       vintage    0.249203\n",
      "0                           age    0.155158\n",
      "0                   region_code    0.101760\n",
      "0                vehicle_damage    0.072382\n",
      "0          policy_sales_channel    0.058304\n",
      "0            previously_insured    0.057397\n",
      "0      vehicle_age_below_1_year    0.016145\n",
      "0  vehicle_age_between_1_2_year    0.006643\n",
      "0                        gender    0.004764\n",
      "0      vehicle_age_over_2_years    0.003060\n",
      "0               driving_license    0.000517\n"
     ]
    },
    {
     "data": {
      "image/png": "[encoded data removed]",
      "text/plain": [
       "<Figure size 432x288 with 1 Axes>"
      ]
     },
     "metadata": {
      "needs_background": "light"
     },
     "output_type": "display_data"
    }
   ],
   "source": [
    "importances = forest.feature_importances_\n",
    "indices = np.argsort( importances )[::-1]\n",
    "\n",
    "print( 'feature ranking')\n",
    "df = pd.DataFrame()\n",
    "\n",
    "for i, j in zip( x_train_n, forest.feature_importances_ ):\n",
    "    aux = pd.DataFrame( {'feature': i, 'importance': j}, index=[0] )\n",
    "    df = pd.concat( [df, aux], axis=0 )\n",
    "    \n",
    "print( df.sort_values( 'importance', ascending=False ) )\n",
    "\n",
    "# Plot the impurity-based feature importances of the forest\n",
    "plt.figure()\n",
    "plt.title(\"Feature importances\")\n",
    "plt.bar(range(x_train_n.shape[1]), importances[indices], color=\"r\", align=\"center\")\n",
    "plt.xticks(range(x_train_n.shape[1]), indices)\n",
    "plt.xlim([-1, x_train_n.shape[1]])\n",
    "plt.show()"
   ]
  },
  {
   "cell_type": "markdown",
   "id": "raised-backing",
   "metadata": {},
   "source": [
    "Selected Columns :\n",
    "\n",
    "From EDA Analysis:\n",
    "    \n",
    "            'gender','age','region_code','annual_preminum','vehicle_age_over_2_years',\n",
    "            'vehicle_damage','policy_sales_channel'\n",
    "         \n",
    "From Boruta\n",
    "       \n",
    "         'gender', 'age', 'driving_license', 'region_code', 'previously_insured', 'vehicle_damage', 'annual_premium', \n",
    "         'policy_sales_channel', 'vehicle_age_below_1_year', 'vehicle_age_between_1_2_year', 'vehicle_age_over_2_years'\n",
    "    \n",
    "\n",
    "From Features Importance - untill 5% \n",
    "\n",
    "        'annual_premium', 'vintage', 'age', 'region_code','vehicle_damage', 'policy_sales_channel', 'previously_insured'.        \n",
    "Features final list:\n",
    "\n",
    "        'gender','age','region_code','annual_premium', 'vehicle_damage', 'policy_sales_channel', 'vehicle_age_below_1_year',\n",
    "        'vehicle_age_over_2_years', 'vehicle_age_between_1_2_year'"
   ]
  },
  {
   "cell_type": "markdown",
   "id": "dangerous-istanbul",
   "metadata": {},
   "source": [
    "# 7.0. Machine Learning Modelling"
   ]
  },
  {
   "cell_type": "code",
   "execution_count": 71,
   "id": "better-topic",
   "metadata": {
    "ExecuteTime": {
     "end_time": "2021-08-02T12:06:23.399177Z",
     "start_time": "2021-08-02T12:06:23.361359Z"
    }
   },
   "outputs": [],
   "source": [
    "df7 = df6.copy()"
   ]
  },
  {
   "cell_type": "code",
   "execution_count": 72,
   "id": "municipal-method",
   "metadata": {
    "ExecuteTime": {
     "end_time": "2021-08-02T12:06:26.393924Z",
     "start_time": "2021-08-02T12:06:26.309271Z"
    }
   },
   "outputs": [],
   "source": [
    "column_selected = ['gender','age','region_code','annual_premium', 'vehicle_damage', 'policy_sales_channel', 'vehicle_age_below_1_year', 'vehicle_age_over_2_years', 'vehicle_age_between_1_2_year']\n",
    "\n",
    "X_train = df7[column_selected]\n",
    "x_test= x_validation[column_selected]\n",
    "y_test = y_validation.copy()"
   ]
  },
  {
   "cell_type": "markdown",
   "id": "colored-tennessee",
   "metadata": {},
   "source": [
    "- **Ordering Metrics**"
   ]
  },
  {
   "cell_type": "markdown",
   "id": "sporting-cartoon",
   "metadata": {},
   "source": [
    "## 7.1. KNN Classifier"
   ]
  },
  {
   "cell_type": "code",
   "execution_count": 73,
   "id": "grateful-straight",
   "metadata": {
    "ExecuteTime": {
     "end_time": "2021-08-02T12:08:31.806298Z",
     "start_time": "2021-08-02T12:08:14.002785Z"
    }
   },
   "outputs": [],
   "source": [
    "import pickle\n",
    "# model definition\n",
    "knn_model = nh.KNeighborsClassifier( n_neighbors=7 )\n",
    "\n",
    "# model training\n",
    "#knn_model.fit( X_train, y_train )\n",
    "#pickle.dump(knn_model, open('../model/knn_model-02.pkl', 'wb'))\n",
    "knn_model = pickle.load(open('../model/knn_model-02.pkl', 'rb'))\n",
    "# model prediction - Poder de GENERALIZACAO \n",
    "yhat_knn = knn_model.predict_proba( x_test )\n"
   ]
  },
  {
   "cell_type": "code",
   "execution_count": 74,
   "id": "tight-triangle",
   "metadata": {
    "ExecuteTime": {
     "end_time": "2021-08-02T12:08:35.031720Z",
     "start_time": "2021-08-02T12:08:34.461973Z"
    }
   },
   "outputs": [
    {
     "data": {
      "image/png": "[encoded data removed]",
      "text/plain": [
       "<Figure size 1080x360 with 2 Axes>"
      ]
     },
     "metadata": {
      "needs_background": "light"
     },
     "output_type": "display_data"
    }
   ],
   "source": [
    "fig, axs = plt.subplots(ncols= 2, figsize = (15,5))\n",
    "skplt.metrics.plot_cumulative_gain(y_test, yhat_knn, ax=axs[0])\n",
    "skplt.metrics.plot_lift_curve(y_test, yhat_knn,ax=axs[1]);"
   ]
  },
  {
   "cell_type": "markdown",
   "id": "optional-fifty",
   "metadata": {
    "ExecuteTime": {
     "end_time": "2021-07-23T16:50:58.064998Z",
     "start_time": "2021-07-23T16:50:58.033799Z"
    }
   },
   "source": [
    "## 7.2. Logistic Regression"
   ]
  },
  {
   "cell_type": "code",
   "execution_count": 75,
   "id": "adolescent-cloud",
   "metadata": {
    "ExecuteTime": {
     "end_time": "2021-08-02T12:09:12.717198Z",
     "start_time": "2021-08-02T12:09:12.601258Z"
    }
   },
   "outputs": [],
   "source": [
    "# model definition\n",
    "lr_model = lm.LogisticRegression( random_state=42 ) \n",
    "\n",
    "# model training\n",
    "#lr_model.fit( X_train, y_train )\n",
    "#pickle.dump(lr_model, open('../model/lr_model_02.pkl', 'wb'))\n",
    "lr_model = pickle.load(open('../model/lr_model_02.pkl', 'rb'))\n",
    "\n",
    "# model prediction\n",
    "yhat_lr = lr_model.predict_proba( x_test )"
   ]
  },
  {
   "cell_type": "code",
   "execution_count": 77,
   "id": "fatty-trinity",
   "metadata": {
    "ExecuteTime": {
     "end_time": "2021-08-02T12:09:17.368135Z",
     "start_time": "2021-08-02T12:09:16.780469Z"
    }
   },
   "outputs": [
    {
     "data": {
      "image/png": "[encoded data removed]",
      "text/plain": [
       "<Figure size 1080x360 with 2 Axes>"
      ]
     },
     "metadata": {
      "needs_background": "light"
     },
     "output_type": "display_data"
    }
   ],
   "source": [
    "fig, axs = plt.subplots(ncols= 2, figsize = (15,5))\n",
    "skplt.metrics.plot_cumulative_gain(y_test, yhat_lr, ax=axs[0])\n",
    "skplt.metrics.plot_lift_curve(y_test, yhat_lr,ax=axs[1]);"
   ]
  },
  {
   "cell_type": "markdown",
   "id": "important-insurance",
   "metadata": {},
   "source": [
    "## 7.3. RandomForest Classifier"
   ]
  },
  {
   "cell_type": "code",
   "execution_count": 78,
   "id": "respected-sussex",
   "metadata": {
    "ExecuteTime": {
     "end_time": "2021-08-02T12:10:15.266995Z",
     "start_time": "2021-08-02T12:09:39.143772Z"
    }
   },
   "outputs": [],
   "source": [
    "# model definition\n",
    "rfc_model = RandomForestClassifier(n_estimators = 300, random_state = 42)\n",
    "\n",
    "# model fit\n",
    "#rfc_model.fit( X_train, y_train )\n",
    "#pickle.dump(rfc_model, open('../model/rfc_model-02.pkl', 'wb'))\n",
    "rfc_model = pickle.load(open('../model/rfc_model-02.pkl', 'rb'))\n",
    "\n",
    "# model predict\n",
    "yhat_rfc = rfc_model.predict_proba( x_test )\n",
    "\n"
   ]
  },
  {
   "cell_type": "code",
   "execution_count": 79,
   "id": "taken-howard",
   "metadata": {
    "ExecuteTime": {
     "end_time": "2021-08-02T12:10:16.169346Z",
     "start_time": "2021-08-02T12:10:15.282556Z"
    }
   },
   "outputs": [
    {
     "data": {
      "image/png": "[encoded data removed]",
      "text/plain": [
       "<Figure size 1080x360 with 2 Axes>"
      ]
     },
     "metadata": {
      "needs_background": "light"
     },
     "output_type": "display_data"
    }
   ],
   "source": [
    "fig, axs = plt.subplots(ncols= 2, figsize = (15,5))\n",
    "skplt.metrics.plot_cumulative_gain(y_test, yhat_rfc, ax=axs[0])\n",
    "skplt.metrics.plot_lift_curve(y_test, yhat_rfc,ax=axs[1]);"
   ]
  },
  {
   "cell_type": "markdown",
   "id": "excellent-newcastle",
   "metadata": {},
   "source": [
    "## 7.4. Naive Bayles"
   ]
  },
  {
   "cell_type": "code",
   "execution_count": 80,
   "id": "separated-uncertainty",
   "metadata": {
    "ExecuteTime": {
     "end_time": "2021-08-02T12:10:38.826156Z",
     "start_time": "2021-08-02T12:10:38.431069Z"
    }
   },
   "outputs": [],
   "source": [
    "# model definition\n",
    "naive_model = GaussianNB()\n",
    "\n",
    "# model fit\n",
    "#naive_model.fit( X_train, y_train )\n",
    "#pickle.dump(naive_model, open('../model/naive_model_02.pkl', 'wb'))\n",
    "naive_model = pickle.load(open('../model/naive_model_02.pkl', 'rb'))\n",
    "\n",
    "# model predict\n",
    "yhat_naive = naive_model.predict_proba( x_test )"
   ]
  },
  {
   "cell_type": "code",
   "execution_count": 81,
   "id": "equivalent-precipitation",
   "metadata": {
    "ExecuteTime": {
     "end_time": "2021-08-02T12:10:42.708411Z",
     "start_time": "2021-08-02T12:10:42.122074Z"
    }
   },
   "outputs": [
    {
     "data": {
      "image/png": "[encoded data removed]",
      "text/plain": [
       "<Figure size 1080x360 with 2 Axes>"
      ]
     },
     "metadata": {
      "needs_background": "light"
     },
     "output_type": "display_data"
    }
   ],
   "source": [
    "fig, axs = plt.subplots(ncols=2, figsize= (15,5))\n",
    "skplt.metrics.plot_cumulative_gain(y_test, yhat_naive, ax=axs[0])\n",
    "skplt.metrics.plot_lift_curve(y_test, yhat_naive,ax=axs[1]);"
   ]
  },
  {
   "cell_type": "markdown",
   "id": "bulgarian-housing",
   "metadata": {},
   "source": [
    "## 7.5. XGBoost Classifier"
   ]
  },
  {
   "cell_type": "code",
   "execution_count": 82,
   "id": "great-brooklyn",
   "metadata": {
    "ExecuteTime": {
     "end_time": "2021-08-02T12:11:02.726329Z",
     "start_time": "2021-08-02T12:11:01.887588Z"
    }
   },
   "outputs": [
    {
     "data": {
      "text/html": [
       "<div>\n",
       "<style scoped>\n",
       "    .dataframe tbody tr th:only-of-type {\n",
       "        vertical-align: middle;\n",
       "    }\n",
       "\n",
       "    .dataframe tbody tr th {\n",
       "        vertical-align: top;\n",
       "    }\n",
       "\n",
       "    .dataframe thead th {\n",
       "        text-align: right;\n",
       "    }\n",
       "</style>\n",
       "<table border=\"1\" class=\"dataframe\">\n",
       "  <thead>\n",
       "    <tr style=\"text-align: right;\">\n",
       "      <th></th>\n",
       "      <th>Variable</th>\n",
       "      <th>Importance</th>\n",
       "    </tr>\n",
       "  </thead>\n",
       "  <tbody>\n",
       "    <tr>\n",
       "      <th>4</th>\n",
       "      <td>vehicle_damage</td>\n",
       "      <td>0.883088</td>\n",
       "    </tr>\n",
       "    <tr>\n",
       "      <th>1</th>\n",
       "      <td>age</td>\n",
       "      <td>0.043238</td>\n",
       "    </tr>\n",
       "    <tr>\n",
       "      <th>2</th>\n",
       "      <td>region_code</td>\n",
       "      <td>0.018461</td>\n",
       "    </tr>\n",
       "    <tr>\n",
       "      <th>5</th>\n",
       "      <td>policy_sales_channel</td>\n",
       "      <td>0.014391</td>\n",
       "    </tr>\n",
       "    <tr>\n",
       "      <th>6</th>\n",
       "      <td>vehicle_age_below_1_year</td>\n",
       "      <td>0.013376</td>\n",
       "    </tr>\n",
       "    <tr>\n",
       "      <th>7</th>\n",
       "      <td>vehicle_age_over_2_years</td>\n",
       "      <td>0.010925</td>\n",
       "    </tr>\n",
       "    <tr>\n",
       "      <th>8</th>\n",
       "      <td>vehicle_age_between_1_2_year</td>\n",
       "      <td>0.006949</td>\n",
       "    </tr>\n",
       "    <tr>\n",
       "      <th>0</th>\n",
       "      <td>gender</td>\n",
       "      <td>0.006679</td>\n",
       "    </tr>\n",
       "    <tr>\n",
       "      <th>3</th>\n",
       "      <td>annual_premium</td>\n",
       "      <td>0.002894</td>\n",
       "    </tr>\n",
       "  </tbody>\n",
       "</table>\n",
       "</div>"
      ],
      "text/plain": [
       "                       Variable  Importance\n",
       "4                vehicle_damage    0.883088\n",
       "1                           age    0.043238\n",
       "2                   region_code    0.018461\n",
       "5          policy_sales_channel    0.014391\n",
       "6      vehicle_age_below_1_year    0.013376\n",
       "7      vehicle_age_over_2_years    0.010925\n",
       "8  vehicle_age_between_1_2_year    0.006949\n",
       "0                        gender    0.006679\n",
       "3                annual_premium    0.002894"
      ]
     },
     "execution_count": 82,
     "metadata": {},
     "output_type": "execute_result"
    }
   ],
   "source": [
    "# model definition\n",
    "xgb_model = xgb.XGBClassifier(objective = 'binary:logistic', eval_metric = 'error')\n",
    "\n",
    "# model fit\n",
    "#model_xgb = xgb_model.fit(X_train,y_train)\n",
    "#pickle.dump(model_xgb, open('../model/model_xgbl_02.pkl', 'wb'))\n",
    "model_xgb = pickle.load(open('../model/model_xgbl_02.pkl', 'rb'))\n",
    "\n",
    "# model predict\n",
    "yhat_xgb = model_xgb.predict_proba(x_test)\n",
    "\n",
    "pd.DataFrame({'Variable':X_train.columns,\n",
    "              'Importance':model_xgb.feature_importances_}).sort_values('Importance', ascending=False)"
   ]
  },
  {
   "cell_type": "code",
   "execution_count": 214,
   "id": "broadband-pricing",
   "metadata": {
    "ExecuteTime": {
     "end_time": "2021-08-01T23:53:56.992286Z",
     "start_time": "2021-08-01T23:53:56.337084Z"
    }
   },
   "outputs": [
    {
     "data": {
      "image/png": "[encoded data removed]",
      "text/plain": [
       "<Figure size 1080x360 with 2 Axes>"
      ]
     },
     "metadata": {
      "needs_background": "light"
     },
     "output_type": "display_data"
    }
   ],
   "source": [
    "fig, axs = plt.subplots(ncols=2, figsize= (15,5))\n",
    "skplt.metrics.plot_cumulative_gain(y_test, yhat_xgb, ax=axs[0])\n",
    "skplt.metrics.plot_lift_curve(y_test, yhat_xgb,ax=axs[1]);"
   ]
  },
  {
   "cell_type": "markdown",
   "id": "signal-christmas",
   "metadata": {},
   "source": [
    "## 8.0. Performance Metrics"
   ]
  },
  {
   "cell_type": "code",
   "execution_count": 83,
   "id": "stable-gothic",
   "metadata": {
    "ExecuteTime": {
     "end_time": "2021-08-02T12:11:18.687067Z",
     "start_time": "2021-08-02T12:11:18.533311Z"
    }
   },
   "outputs": [],
   "source": [
    "df8 = df7.copy()"
   ]
  },
  {
   "cell_type": "code",
   "execution_count": 84,
   "id": "civilian-pocket",
   "metadata": {
    "ExecuteTime": {
     "end_time": "2021-08-02T12:11:20.907977Z",
     "start_time": "2021-08-02T12:11:20.608076Z"
    }
   },
   "outputs": [
    {
     "name": "stdout",
     "output_type": "stream",
     "text": [
      "[[55358     0]\n",
      " [ 7732     0]]\n"
     ]
    },
    {
     "data": {
      "text/plain": [
       "0.8774449199556189"
      ]
     },
     "execution_count": 84,
     "metadata": {},
     "output_type": "execute_result"
    }
   ],
   "source": [
    "# Making the Confusion Matrix\n",
    "from sklearn.metrics import confusion_matrix, accuracy_score\n",
    "y_pred = model_xgb.predict(x_test)\n",
    "cm = confusion_matrix(y_test, y_pred)\n",
    "print(cm)\n",
    "accuracy_score(y_test, y_pred)"
   ]
  },
  {
   "cell_type": "markdown",
   "id": "honest-liberal",
   "metadata": {},
   "source": [
    "## 8.1 Single performance"
   ]
  },
  {
   "cell_type": "code",
   "execution_count": 85,
   "id": "ordered-fleet",
   "metadata": {
    "ExecuteTime": {
     "end_time": "2021-08-02T12:11:40.728951Z",
     "start_time": "2021-08-02T12:11:40.566033Z"
    }
   },
   "outputs": [
    {
     "data": {
      "text/html": [
       "<div>\n",
       "<style scoped>\n",
       "    .dataframe tbody tr th:only-of-type {\n",
       "        vertical-align: middle;\n",
       "    }\n",
       "\n",
       "    .dataframe tbody tr th {\n",
       "        vertical-align: top;\n",
       "    }\n",
       "\n",
       "    .dataframe thead th {\n",
       "        text-align: right;\n",
       "    }\n",
       "</style>\n",
       "<table border=\"1\" class=\"dataframe\">\n",
       "  <thead>\n",
       "    <tr style=\"text-align: right;\">\n",
       "      <th></th>\n",
       "      <th>id</th>\n",
       "      <th>gender</th>\n",
       "      <th>age</th>\n",
       "      <th>driving_license</th>\n",
       "      <th>region_code</th>\n",
       "      <th>previously_insured</th>\n",
       "      <th>vehicle_damage</th>\n",
       "      <th>annual_premium</th>\n",
       "      <th>policy_sales_channel</th>\n",
       "      <th>vintage</th>\n",
       "      <th>vehicle_age_below_1_year</th>\n",
       "      <th>vehicle_age_between_1_2_year</th>\n",
       "      <th>vehicle_age_over_2_years</th>\n",
       "      <th>response</th>\n",
       "      <th>score</th>\n",
       "    </tr>\n",
       "  </thead>\n",
       "  <tbody>\n",
       "    <tr>\n",
       "      <th>0</th>\n",
       "      <td>202652</td>\n",
       "      <td>0.100309</td>\n",
       "      <td>0.215385</td>\n",
       "      <td>1</td>\n",
       "      <td>0.115847</td>\n",
       "      <td>0</td>\n",
       "      <td>1</td>\n",
       "      <td>-1.429307</td>\n",
       "      <td>0.213533</td>\n",
       "      <td>0.993080</td>\n",
       "      <td>0</td>\n",
       "      <td>0</td>\n",
       "      <td>1</td>\n",
       "      <td>1</td>\n",
       "      <td>0.492946</td>\n",
       "    </tr>\n",
       "    <tr>\n",
       "      <th>1</th>\n",
       "      <td>69660</td>\n",
       "      <td>0.100309</td>\n",
       "      <td>0.246154</td>\n",
       "      <td>1</td>\n",
       "      <td>0.187618</td>\n",
       "      <td>0</td>\n",
       "      <td>1</td>\n",
       "      <td>2.204777</td>\n",
       "      <td>0.213533</td>\n",
       "      <td>0.775087</td>\n",
       "      <td>0</td>\n",
       "      <td>0</td>\n",
       "      <td>1</td>\n",
       "      <td>0</td>\n",
       "      <td>0.492357</td>\n",
       "    </tr>\n",
       "    <tr>\n",
       "      <th>2</th>\n",
       "      <td>181795</td>\n",
       "      <td>0.100309</td>\n",
       "      <td>0.276923</td>\n",
       "      <td>1</td>\n",
       "      <td>0.187618</td>\n",
       "      <td>0</td>\n",
       "      <td>1</td>\n",
       "      <td>2.628007</td>\n",
       "      <td>0.213533</td>\n",
       "      <td>0.474048</td>\n",
       "      <td>0</td>\n",
       "      <td>0</td>\n",
       "      <td>1</td>\n",
       "      <td>0</td>\n",
       "      <td>0.488327</td>\n",
       "    </tr>\n",
       "    <tr>\n",
       "      <th>3</th>\n",
       "      <td>137285</td>\n",
       "      <td>0.137661</td>\n",
       "      <td>0.200000</td>\n",
       "      <td>1</td>\n",
       "      <td>0.187618</td>\n",
       "      <td>0</td>\n",
       "      <td>1</td>\n",
       "      <td>1.762319</td>\n",
       "      <td>0.213533</td>\n",
       "      <td>0.629758</td>\n",
       "      <td>0</td>\n",
       "      <td>0</td>\n",
       "      <td>1</td>\n",
       "      <td>0</td>\n",
       "      <td>0.486961</td>\n",
       "    </tr>\n",
       "    <tr>\n",
       "      <th>4</th>\n",
       "      <td>284611</td>\n",
       "      <td>0.137661</td>\n",
       "      <td>0.230769</td>\n",
       "      <td>1</td>\n",
       "      <td>0.187618</td>\n",
       "      <td>0</td>\n",
       "      <td>1</td>\n",
       "      <td>-0.297688</td>\n",
       "      <td>0.213533</td>\n",
       "      <td>0.951557</td>\n",
       "      <td>0</td>\n",
       "      <td>0</td>\n",
       "      <td>1</td>\n",
       "      <td>0</td>\n",
       "      <td>0.483844</td>\n",
       "    </tr>\n",
       "  </tbody>\n",
       "</table>\n",
       "</div>"
      ],
      "text/plain": [
       "       id    gender       age  driving_license  region_code  \\\n",
       "0  202652  0.100309  0.215385                1     0.115847   \n",
       "1   69660  0.100309  0.246154                1     0.187618   \n",
       "2  181795  0.100309  0.276923                1     0.187618   \n",
       "3  137285  0.137661  0.200000                1     0.187618   \n",
       "4  284611  0.137661  0.230769                1     0.187618   \n",
       "\n",
       "   previously_insured  vehicle_damage  annual_premium  policy_sales_channel  \\\n",
       "0                   0               1       -1.429307              0.213533   \n",
       "1                   0               1        2.204777              0.213533   \n",
       "2                   0               1        2.628007              0.213533   \n",
       "3                   0               1        1.762319              0.213533   \n",
       "4                   0               1       -0.297688              0.213533   \n",
       "\n",
       "    vintage  vehicle_age_below_1_year  vehicle_age_between_1_2_year  \\\n",
       "0  0.993080                         0                             0   \n",
       "1  0.775087                         0                             0   \n",
       "2  0.474048                         0                             0   \n",
       "3  0.629758                         0                             0   \n",
       "4  0.951557                         0                             0   \n",
       "\n",
       "   vehicle_age_over_2_years  response     score  \n",
       "0                         1         1  0.492946  \n",
       "1                         1         0  0.492357  \n",
       "2                         1         0  0.488327  \n",
       "3                         1         0  0.486961  \n",
       "4                         1         0  0.483844  "
      ]
     },
     "execution_count": 85,
     "metadata": {},
     "output_type": "execute_result"
    }
   ],
   "source": [
    "df8_xgb = data_preparation_yhat_model('response',x_validation.copy(),y_validation.copy(), yhat_xgb )\n",
    "df8_xgb.head()"
   ]
  },
  {
   "cell_type": "code",
   "execution_count": 218,
   "id": "shaped-turkey",
   "metadata": {
    "ExecuteTime": {
     "end_time": "2021-08-02T00:18:23.074167Z",
     "start_time": "2021-08-02T00:18:22.942640Z"
    }
   },
   "outputs": [
    {
     "name": "stdout",
     "output_type": "stream",
     "text": [
      "Precision at K: 0.29838010799280046, Recall : 0.5819032761310452\n"
     ]
    }
   ],
   "source": [
    "# Knn\n",
    "df8_knn = data_preparation_yhat_model('response',x_validation.copy(),y_validation.copy(), yhat_knn )\n",
    "# compute precision at k\n",
    "knn_precision = precision_at_k( df8_knn,'response', k=15000 )\n",
    "# Recall @k\n",
    "knn_recall = recall_at_k( df8_knn, 'response' , k=15000 )\n",
    "\n",
    "print( 'Precision at K: {}, Recall : {}'.format(knn_precision, knn_recall ) )"
   ]
  },
  {
   "cell_type": "code",
   "execution_count": 219,
   "id": "accepted-connection",
   "metadata": {
    "ExecuteTime": {
     "end_time": "2021-08-02T00:18:32.421294Z",
     "start_time": "2021-08-02T00:18:32.274181Z"
    }
   },
   "outputs": [
    {
     "name": "stdout",
     "output_type": "stream",
     "text": [
      "Precision at K: 0.32331177921471904, Recall : 0.6305252210088403\n"
     ]
    }
   ],
   "source": [
    "# Logistic Regression\n",
    "df8_lr = data_preparation_yhat_model('response',x_validation.copy(),y_validation.copy(), yhat_lr )\n",
    "# compute precision at k\n",
    "lr_precision = precision_at_k( df8_lr,'response', k=15000 )\n",
    "# Recall @k\n",
    "lr_recall = recall_at_k( df8_lr, 'response' , k=15000 )\n",
    "\n",
    "print( 'Precision at K: {}, Recall : {}'.format(lr_precision, lr_recall ) )"
   ]
  },
  {
   "cell_type": "code",
   "execution_count": 220,
   "id": "cooperative-wednesday",
   "metadata": {
    "ExecuteTime": {
     "end_time": "2021-08-02T00:18:35.415744Z",
     "start_time": "2021-08-02T00:18:35.299885Z"
    }
   },
   "outputs": [
    {
     "name": "stdout",
     "output_type": "stream",
     "text": [
      "Precision at K: 0.2867142190520632, Recall : 0.5591523660946438\n"
     ]
    }
   ],
   "source": [
    "# Naive Bayes\n",
    "df8_bayes = data_preparation_yhat_model('response',x_validation.copy(),y_validation.copy(), yhat_naive )\n",
    "# compute precision at k\n",
    "naive_precision = precision_at_k( df8_bayes,'response', k=15000 )\n",
    "# Recall @k\n",
    "naive_recall = recall_at_k( df8_bayes, 'response' , k=15000 )\n",
    "\n",
    "print( 'Precision at K: {}, Recall : {}'.format(naive_precision, naive_recall ) )"
   ]
  },
  {
   "cell_type": "code",
   "execution_count": 221,
   "id": "bottom-muscle",
   "metadata": {
    "ExecuteTime": {
     "end_time": "2021-08-02T00:18:41.836489Z",
     "start_time": "2021-08-02T00:18:41.720587Z"
    }
   },
   "outputs": [
    {
     "name": "stdout",
     "output_type": "stream",
     "text": [
      "Precision at K: 0.29924671688554094, Recall : 0.5835933437337494\n"
     ]
    }
   ],
   "source": [
    "# Random Forest Classifier\n",
    "df8_rfc = data_preparation_yhat_model('response',x_validation.copy(),y_validation.copy(), yhat_rfc )\n",
    "# compute precision at k\n",
    "rfc_precision = precision_at_k( df8_rfc,'response', k=15000 )\n",
    "# Recall @k\n",
    "rfc_recall = recall_at_k( df8_rfc, 'response' , k=15000 )\n",
    "\n",
    "print( 'Precision at K: {}, Recall : {}'.format(rfc_precision, rfc_recall ) )"
   ]
  },
  {
   "cell_type": "code",
   "execution_count": 222,
   "id": "stable-netherlands",
   "metadata": {
    "ExecuteTime": {
     "end_time": "2021-08-02T00:18:47.323569Z",
     "start_time": "2021-08-02T00:18:47.207656Z"
    }
   },
   "outputs": [
    {
     "name": "stdout",
     "output_type": "stream",
     "text": [
      "Precision at K: 0.3403773081794547, Recall : 0.6638065522620905\n"
     ]
    }
   ],
   "source": [
    "#Xgboost \n",
    "df8_xgb = data_preparation_yhat_model('response',x_validation.copy(),y_validation.copy(), yhat_xgb )\n",
    "xgb_precision = precision_at_k( df8_xgb,'response', k=15000 )\n",
    "# Recall at K\n",
    "xgb_recall = recall_at_k( df8_xgb, 'response' , k=15000 )\n",
    "print( 'Precision at K: {}, Recall : {}'.format(xgb_precision, xgb_recall ) )"
   ]
  },
  {
   "cell_type": "markdown",
   "id": "characteristic-island",
   "metadata": {
    "ExecuteTime": {
     "end_time": "2021-07-25T22:55:57.975563Z",
     "start_time": "2021-07-25T22:55:57.959943Z"
    }
   },
   "source": [
    "## 8.2. Compare Model's Performance"
   ]
  },
  {
   "cell_type": "code",
   "execution_count": 223,
   "id": "favorite-revelation",
   "metadata": {
    "ExecuteTime": {
     "end_time": "2021-08-02T00:19:09.047737Z",
     "start_time": "2021-08-02T00:19:08.684204Z"
    }
   },
   "outputs": [
    {
     "data": {
      "text/html": [
       "<style  type=\"text/css\" >\n",
       "#T_3cc81_row0_col4,#T_3cc81_row1_col4{\n",
       "            background-color:  lightgreen;\n",
       "        }</style><table id=\"T_3cc81_\" ><thead>    <tr>        <th class=\"blank level0\" ></th>        <th class=\"col_heading level0 col0\" >Logistic R</th>        <th class=\"col_heading level0 col1\" >Naive Bayes</th>        <th class=\"col_heading level0 col2\" >KNN</th>        <th class=\"col_heading level0 col3\" >Randon F</th>        <th class=\"col_heading level0 col4\" >XGBoosting</th>    </tr></thead><tbody>\n",
       "                <tr>\n",
       "                        <th id=\"T_3cc81_level0_row0\" class=\"row_heading level0 row0\" >Precision at K</th>\n",
       "                        <td id=\"T_3cc81_row0_col0\" class=\"data row0 col0\" >0.323312</td>\n",
       "                        <td id=\"T_3cc81_row0_col1\" class=\"data row0 col1\" >0.286714</td>\n",
       "                        <td id=\"T_3cc81_row0_col2\" class=\"data row0 col2\" >0.298380</td>\n",
       "                        <td id=\"T_3cc81_row0_col3\" class=\"data row0 col3\" >0.299247</td>\n",
       "                        <td id=\"T_3cc81_row0_col4\" class=\"data row0 col4\" >0.340377</td>\n",
       "            </tr>\n",
       "            <tr>\n",
       "                        <th id=\"T_3cc81_level0_row1\" class=\"row_heading level0 row1\" >Recall at K</th>\n",
       "                        <td id=\"T_3cc81_row1_col0\" class=\"data row1 col0\" >0.630525</td>\n",
       "                        <td id=\"T_3cc81_row1_col1\" class=\"data row1 col1\" >0.559152</td>\n",
       "                        <td id=\"T_3cc81_row1_col2\" class=\"data row1 col2\" >0.581903</td>\n",
       "                        <td id=\"T_3cc81_row1_col3\" class=\"data row1 col3\" >0.583593</td>\n",
       "                        <td id=\"T_3cc81_row1_col4\" class=\"data row1 col4\" >0.663807</td>\n",
       "            </tr>\n",
       "    </tbody></table>"
      ],
      "text/plain": [
       "<pandas.io.formats.style.Styler at 0x1eb8c157610>"
      ]
     },
     "execution_count": 223,
     "metadata": {},
     "output_type": "execute_result"
    }
   ],
   "source": [
    "performance_summary = { \n",
    "    'Precision at K' : [lr_precision, naive_precision, knn_precision, rfc_precision, xgb_precision],\n",
    "    'Recall at K'    : [lr_recall, naive_recall, knn_recall, rfc_recall, xgb_recall]\n",
    "}\n",
    "\n",
    "metrics = pd.DataFrame(performance_summary).T\n",
    "metrics.columns = ['Logistic R', 'Naive Bayes', 'KNN', 'Randon F', 'XGBoosting']\n",
    "metrics.style.highlight_max( color='lightgreen', axis=1 )"
   ]
  },
  {
   "cell_type": "code",
   "execution_count": null,
   "id": "collective-shipping",
   "metadata": {
    "ExecuteTime": {
     "end_time": "2021-08-02T00:33:35.515175Z",
     "start_time": "2021-08-02T00:32:51.777Z"
    }
   },
   "outputs": [],
   "source": [
    "cv_performance_lr = cross_validation (df8,5, 'Logic Regression', lr_model,'response',15000 ,X_train, y_train, verbose= True)"
   ]
  },
  {
   "cell_type": "code",
   "execution_count": 224,
   "id": "bacterial-membership",
   "metadata": {
    "ExecuteTime": {
     "end_time": "2021-08-02T00:19:36.383521Z",
     "start_time": "2021-08-02T00:19:29.693318Z"
    }
   },
   "outputs": [
    {
     "name": "stdout",
     "output_type": "stream",
     "text": [
      "\n",
      "KFold Number: 5\n",
      "\n",
      "KFold Number: 4\n",
      "\n",
      "KFold Number: 3\n",
      "\n",
      "KFold Number: 2\n",
      "\n",
      "KFold Number: 1\n"
     ]
    }
   ],
   "source": [
    "cv_performance_bayes = cross_validation (df8,5, 'Naive Bayes', naive_model,'response',15000 ,X_train, y_train, verbose= True)"
   ]
  },
  {
   "cell_type": "code",
   "execution_count": 225,
   "id": "eligible-volunteer",
   "metadata": {
    "ExecuteTime": {
     "end_time": "2021-08-02T00:20:25.445178Z",
     "start_time": "2021-08-02T00:20:25.413929Z"
    }
   },
   "outputs": [
    {
     "data": {
      "text/html": [
       "<div>\n",
       "<style scoped>\n",
       "    .dataframe tbody tr th:only-of-type {\n",
       "        vertical-align: middle;\n",
       "    }\n",
       "\n",
       "    .dataframe tbody tr th {\n",
       "        vertical-align: top;\n",
       "    }\n",
       "\n",
       "    .dataframe thead th {\n",
       "        text-align: right;\n",
       "    }\n",
       "</style>\n",
       "<table border=\"1\" class=\"dataframe\">\n",
       "  <thead>\n",
       "    <tr style=\"text-align: right;\">\n",
       "      <th></th>\n",
       "      <th>Model Name</th>\n",
       "      <th>PRECISION</th>\n",
       "      <th>RECALL</th>\n",
       "      <th>F1_score</th>\n",
       "    </tr>\n",
       "  </thead>\n",
       "  <tbody>\n",
       "    <tr>\n",
       "      <th>0</th>\n",
       "      <td>Naive Bayes</td>\n",
       "      <td>0.283 +/- 0.001</td>\n",
       "      <td>0.697 +/- 0.004</td>\n",
       "      <td>0.402 +/- 0.002</td>\n",
       "    </tr>\n",
       "  </tbody>\n",
       "</table>\n",
       "</div>"
      ],
      "text/plain": [
       "    Model Name        PRECISION           RECALL         F1_score\n",
       "0  Naive Bayes  0.283 +/- 0.001  0.697 +/- 0.004  0.402 +/- 0.002"
      ]
     },
     "execution_count": 225,
     "metadata": {},
     "output_type": "execute_result"
    }
   ],
   "source": [
    "cv_performance_bayes"
   ]
  },
  {
   "cell_type": "code",
   "execution_count": 231,
   "id": "looking-attachment",
   "metadata": {
    "ExecuteTime": {
     "end_time": "2021-08-02T00:44:32.313535Z",
     "start_time": "2021-08-02T00:33:40.580237Z"
    }
   },
   "outputs": [
    {
     "name": "stdout",
     "output_type": "stream",
     "text": [
      "\n",
      "KFold Number: 5\n",
      "\n",
      "KFold Number: 4\n",
      "\n",
      "KFold Number: 3\n",
      "\n",
      "KFold Number: 2\n",
      "\n",
      "KFold Number: 1\n"
     ]
    },
    {
     "ename": "NameError",
     "evalue": "name 'cv_performanmce_Knn' is not defined",
     "output_type": "error",
     "traceback": [
      "\u001b[1;31m---------------------------------------------------------------------------\u001b[0m",
      "\u001b[1;31mNameError\u001b[0m                                 Traceback (most recent call last)",
      "\u001b[1;32m<ipython-input-231-3745836759d8>\u001b[0m in \u001b[0;36m<module>\u001b[1;34m\u001b[0m\n\u001b[0;32m      1\u001b[0m \u001b[0mcv_performance_Knn\u001b[0m \u001b[1;33m=\u001b[0m \u001b[0mcross_validation\u001b[0m \u001b[1;33m(\u001b[0m\u001b[0mdf8\u001b[0m\u001b[1;33m,\u001b[0m\u001b[1;36m5\u001b[0m\u001b[1;33m,\u001b[0m \u001b[1;34m'KNN'\u001b[0m\u001b[1;33m,\u001b[0m \u001b[0mknn_model\u001b[0m\u001b[1;33m,\u001b[0m\u001b[1;34m'response'\u001b[0m\u001b[1;33m,\u001b[0m\u001b[1;36m15000\u001b[0m \u001b[1;33m,\u001b[0m\u001b[0mX_train\u001b[0m\u001b[1;33m,\u001b[0m \u001b[0my_train\u001b[0m\u001b[1;33m,\u001b[0m \u001b[0mverbose\u001b[0m\u001b[1;33m=\u001b[0m \u001b[1;32mTrue\u001b[0m\u001b[1;33m)\u001b[0m\u001b[1;33m\u001b[0m\u001b[1;33m\u001b[0m\u001b[0m\n\u001b[1;32m----> 2\u001b[1;33m \u001b[0mcv_performanmce_Knn\u001b[0m\u001b[1;33m\u001b[0m\u001b[1;33m\u001b[0m\u001b[0m\n\u001b[0m",
      "\u001b[1;31mNameError\u001b[0m: name 'cv_performanmce_Knn' is not defined"
     ]
    }
   ],
   "source": [
    "cv_performance_Knn = cross_validation (df8,5, 'KNN', knn_model,'response',15000 ,X_train, y_train, verbose= True)\n",
    "cv_performance_Knn"
   ]
  },
  {
   "cell_type": "code",
   "execution_count": 232,
   "id": "imported-paradise",
   "metadata": {
    "ExecuteTime": {
     "end_time": "2021-08-02T00:47:16.310841Z",
     "start_time": "2021-08-02T00:47:16.270792Z"
    }
   },
   "outputs": [
    {
     "data": {
      "text/html": [
       "<div>\n",
       "<style scoped>\n",
       "    .dataframe tbody tr th:only-of-type {\n",
       "        vertical-align: middle;\n",
       "    }\n",
       "\n",
       "    .dataframe tbody tr th {\n",
       "        vertical-align: top;\n",
       "    }\n",
       "\n",
       "    .dataframe thead th {\n",
       "        text-align: right;\n",
       "    }\n",
       "</style>\n",
       "<table border=\"1\" class=\"dataframe\">\n",
       "  <thead>\n",
       "    <tr style=\"text-align: right;\">\n",
       "      <th></th>\n",
       "      <th>Model Name</th>\n",
       "      <th>PRECISION</th>\n",
       "      <th>RECALL</th>\n",
       "      <th>F1_score</th>\n",
       "    </tr>\n",
       "  </thead>\n",
       "  <tbody>\n",
       "    <tr>\n",
       "      <th>0</th>\n",
       "      <td>KNN</td>\n",
       "      <td>0.281 +/- 0.003</td>\n",
       "      <td>0.694 +/- 0.008</td>\n",
       "      <td>0.4 +/- 0.004</td>\n",
       "    </tr>\n",
       "  </tbody>\n",
       "</table>\n",
       "</div>"
      ],
      "text/plain": [
       "  Model Name        PRECISION           RECALL       F1_score\n",
       "0        KNN  0.281 +/- 0.003  0.694 +/- 0.008  0.4 +/- 0.004"
      ]
     },
     "execution_count": 232,
     "metadata": {},
     "output_type": "execute_result"
    }
   ],
   "source": [
    "cv_performance_Knn"
   ]
  },
  {
   "cell_type": "code",
   "execution_count": 233,
   "id": "cutting-humor",
   "metadata": {
    "ExecuteTime": {
     "end_time": "2021-08-02T02:01:15.829685Z",
     "start_time": "2021-08-02T00:47:23.050886Z"
    }
   },
   "outputs": [
    {
     "name": "stdout",
     "output_type": "stream",
     "text": [
      "\n",
      "KFold Number: 5\n",
      "\n",
      "KFold Number: 4\n",
      "\n",
      "KFold Number: 3\n",
      "\n",
      "KFold Number: 2\n",
      "\n",
      "KFold Number: 1\n",
      "\n",
      "KFold Number: 5\n",
      "\n",
      "KFold Number: 4\n",
      "\n",
      "KFold Number: 3\n",
      "\n",
      "KFold Number: 2\n",
      "\n",
      "KFold Number: 1\n"
     ]
    }
   ],
   "source": [
    "cv_performance_rfc = cross_validation (df8,5, 'Randon Forest Classifier', rfc_model,'response',15000 ,X_train, y_train, verbose= True)\n",
    "cv_performance_xgb= cross_validation (df8,5, 'XG Boosting', xgb_model,'response',15000 ,X_train, y_train, verbose= True)"
   ]
  },
  {
   "cell_type": "code",
   "execution_count": 234,
   "id": "ruled-while",
   "metadata": {
    "ExecuteTime": {
     "end_time": "2021-08-02T02:01:16.516161Z",
     "start_time": "2021-08-02T02:01:15.845285Z"
    }
   },
   "outputs": [],
   "source": [
    "cross_validation =pd.concat([cv_performance_Knn,cv_performance_rfc,cv_performance_xgb ,cv_performance_bayes], ignore_index=True)\n",
    "cross_validation.to_csv('../data/cross_validation_02.csv', index= False)\n"
   ]
  },
  {
   "cell_type": "code",
   "execution_count": 86,
   "id": "rapid-ticket",
   "metadata": {
    "ExecuteTime": {
     "end_time": "2021-08-02T12:12:37.917721Z",
     "start_time": "2021-08-02T12:12:37.484922Z"
    }
   },
   "outputs": [
    {
     "data": {
      "text/html": [
       "<div>\n",
       "<style scoped>\n",
       "    .dataframe tbody tr th:only-of-type {\n",
       "        vertical-align: middle;\n",
       "    }\n",
       "\n",
       "    .dataframe tbody tr th {\n",
       "        vertical-align: top;\n",
       "    }\n",
       "\n",
       "    .dataframe thead th {\n",
       "        text-align: right;\n",
       "    }\n",
       "</style>\n",
       "<table border=\"1\" class=\"dataframe\">\n",
       "  <thead>\n",
       "    <tr style=\"text-align: right;\">\n",
       "      <th></th>\n",
       "      <th>Model Name</th>\n",
       "      <th>PRECISION</th>\n",
       "      <th>RECALL</th>\n",
       "      <th>F1_score</th>\n",
       "    </tr>\n",
       "  </thead>\n",
       "  <tbody>\n",
       "    <tr>\n",
       "      <th>0</th>\n",
       "      <td>KNN</td>\n",
       "      <td>0.281 +/- 0.003</td>\n",
       "      <td>0.694 +/- 0.008</td>\n",
       "      <td>0.4 +/- 0.004</td>\n",
       "    </tr>\n",
       "    <tr>\n",
       "      <th>1</th>\n",
       "      <td>Randon Forest Classifier</td>\n",
       "      <td>0.286 +/- 0.002</td>\n",
       "      <td>0.705 +/- 0.006</td>\n",
       "      <td>0.407 +/- 0.003</td>\n",
       "    </tr>\n",
       "    <tr>\n",
       "      <th>2</th>\n",
       "      <td>XG Boosting</td>\n",
       "      <td>0.318 +/- 0.002</td>\n",
       "      <td>0.785 +/- 0.005</td>\n",
       "      <td>0.453 +/- 0.003</td>\n",
       "    </tr>\n",
       "    <tr>\n",
       "      <th>3</th>\n",
       "      <td>Naive Bayes</td>\n",
       "      <td>0.283 +/- 0.001</td>\n",
       "      <td>0.697 +/- 0.004</td>\n",
       "      <td>0.402 +/- 0.002</td>\n",
       "    </tr>\n",
       "  </tbody>\n",
       "</table>\n",
       "</div>"
      ],
      "text/plain": [
       "                 Model Name        PRECISION           RECALL         F1_score\n",
       "0                       KNN  0.281 +/- 0.003  0.694 +/- 0.008    0.4 +/- 0.004\n",
       "1  Randon Forest Classifier  0.286 +/- 0.002  0.705 +/- 0.006  0.407 +/- 0.003\n",
       "2               XG Boosting  0.318 +/- 0.002  0.785 +/- 0.005  0.453 +/- 0.003\n",
       "3               Naive Bayes  0.283 +/- 0.001  0.697 +/- 0.004  0.402 +/- 0.002"
      ]
     },
     "execution_count": 86,
     "metadata": {},
     "output_type": "execute_result"
    }
   ],
   "source": [
    "cross_validation = pd.read_csv('../data/cross_validation_02.csv')\n",
    "cross_validation"
   ]
  },
  {
   "cell_type": "code",
   "execution_count": null,
   "id": "lonely-sherman",
   "metadata": {
    "ExecuteTime": {
     "end_time": "2021-07-29T23:55:12.765065Z",
     "start_time": "2021-07-29T23:54:59.460Z"
    }
   },
   "outputs": [],
   "source": [
    "df8.head()"
   ]
  },
  {
   "cell_type": "markdown",
   "id": "parliamentary-basic",
   "metadata": {},
   "source": [
    "# 9.0 Hyperparameter Fine Tunning"
   ]
  },
  {
   "cell_type": "markdown",
   "id": "extra-heavy",
   "metadata": {
    "ExecuteTime": {
     "end_time": "2021-07-29T16:15:27.223575Z",
     "start_time": "2021-07-29T16:15:26.953322Z"
    }
   },
   "source": [
    " ## 9.1 Random Search"
   ]
  },
  {
   "cell_type": "markdown",
   "id": "trying-louis",
   "metadata": {},
   "source": [
    "https://towardsdatascience.com/fine-tuning-xgboost-in-python-like-a-boss-b4543ed8b1e\n",
    "https://towardsdatascience.com/fine-tuning-xgboost-model-257868cf4187"
   ]
  },
  {
   "cell_type": "code",
   "execution_count": 88,
   "id": "bronze-contrast",
   "metadata": {
    "ExecuteTime": {
     "end_time": "2021-08-02T12:13:30.919835Z",
     "start_time": "2021-08-02T12:13:30.904257Z"
    }
   },
   "outputs": [],
   "source": [
    "param = { 'objective'        : ['binary:logistic'],\n",
    "          'eval_metric'      : ['error'],\n",
    "          'n_estimators'     : [1500, 1700, 2500, 3000, 3500], \n",
    "          'eta'              : [0.01, 0.03],\n",
    "          'max_depth'        : [ 3, 5, 9],\n",
    "          'subsample'        : [0.5 , 0.8, 1],\n",
    "          'colsample_bytree' : [0.3, 0.5, 0.7],\n",
    "          'gamma':[0,1,5] }\n",
    "\n",
    "MAX_EVAL = 5"
   ]
  },
  {
   "cell_type": "code",
   "execution_count": 91,
   "id": "fossil-essence",
   "metadata": {
    "ExecuteTime": {
     "end_time": "2021-08-02T13:23:27.103490Z",
     "start_time": "2021-08-02T12:14:28.362759Z"
    }
   },
   "outputs": [
    {
     "name": "stdout",
     "output_type": "stream",
     "text": [
      "Step 1/5\n",
      "{'objective': 'binary:logistic', 'eval_metric': 'error', 'n_estimators': 2500, 'eta': 0.01, 'max_depth': 9, 'subsample': 0.8, 'colsample_bytree': 0.3, 'gamma': 0}\n",
      "\n",
      "KFold Number: 5\n"
     ]
    },
    {
     "ename": "KeyboardInterrupt",
     "evalue": "",
     "output_type": "error",
     "traceback": [
      "\u001b[1;31m---------------------------------------------------------------------------\u001b[0m",
      "\u001b[1;31mKeyboardInterrupt\u001b[0m                         Traceback (most recent call last)",
      "\u001b[1;32m<ipython-input-91-bd1ca35bb22b>\u001b[0m in \u001b[0;36m<module>\u001b[1;34m\u001b[0m\n\u001b[0;32m     18\u001b[0m \u001b[1;33m\u001b[0m\u001b[0m\n\u001b[0;32m     19\u001b[0m     \u001b[1;31m# performance\u001b[0m\u001b[1;33m\u001b[0m\u001b[1;33m\u001b[0m\u001b[1;33m\u001b[0m\u001b[0m\n\u001b[1;32m---> 20\u001b[1;33m     \u001b[0mresult\u001b[0m \u001b[1;33m=\u001b[0m \u001b[0mcross_validation\u001b[0m \u001b[1;33m(\u001b[0m\u001b[0mdf8\u001b[0m\u001b[1;33m,\u001b[0m\u001b[1;36m5\u001b[0m\u001b[1;33m,\u001b[0m \u001b[1;34m'Final '\u001b[0m\u001b[1;33m,\u001b[0m \u001b[0mmodel_xgb\u001b[0m\u001b[1;33m,\u001b[0m\u001b[1;34m'response'\u001b[0m\u001b[1;33m,\u001b[0m\u001b[1;36m15000\u001b[0m \u001b[1;33m,\u001b[0m\u001b[0mX_train\u001b[0m\u001b[1;33m,\u001b[0m \u001b[0my_train\u001b[0m\u001b[1;33m,\u001b[0m \u001b[0mverbose\u001b[0m\u001b[1;33m=\u001b[0m \u001b[1;32mTrue\u001b[0m\u001b[1;33m)\u001b[0m\u001b[1;33m\u001b[0m\u001b[1;33m\u001b[0m\u001b[0m\n\u001b[0m\u001b[0;32m     21\u001b[0m     \u001b[0mfinal_result\u001b[0m \u001b[1;33m=\u001b[0m \u001b[0mpd\u001b[0m\u001b[1;33m.\u001b[0m\u001b[0mconcat\u001b[0m\u001b[1;33m(\u001b[0m \u001b[1;33m[\u001b[0m\u001b[0mfinal_result\u001b[0m\u001b[1;33m,\u001b[0m \u001b[0mresult\u001b[0m\u001b[1;33m]\u001b[0m \u001b[1;33m)\u001b[0m\u001b[1;33m\u001b[0m\u001b[1;33m\u001b[0m\u001b[0m\n\u001b[0;32m     22\u001b[0m \u001b[1;33m\u001b[0m\u001b[0m\n",
      "\u001b[1;32m<ipython-input-90-a46d56600fb7>\u001b[0m in \u001b[0;36mcross_validation\u001b[1;34m(data, num_folds, model_name, model, target, k, x_train, y_train, verbose)\u001b[0m\n\u001b[0;32m     59\u001b[0m             \u001b[0my_val_fold\u001b[0m \u001b[1;33m=\u001b[0m \u001b[0my_train\u001b[0m\u001b[1;33m.\u001b[0m\u001b[0miloc\u001b[0m\u001b[1;33m[\u001b[0m\u001b[0mval_cv\u001b[0m\u001b[1;33m]\u001b[0m\u001b[1;33m\u001b[0m\u001b[1;33m\u001b[0m\u001b[0m\n\u001b[0;32m     60\u001b[0m \u001b[1;33m\u001b[0m\u001b[0m\n\u001b[1;32m---> 61\u001b[1;33m             \u001b[0mmodel_fit\u001b[0m \u001b[1;33m=\u001b[0m \u001b[0mmodel\u001b[0m\u001b[1;33m.\u001b[0m\u001b[0mfit\u001b[0m\u001b[1;33m(\u001b[0m\u001b[0mx_train_fold\u001b[0m\u001b[1;33m,\u001b[0m\u001b[0my_train_fold\u001b[0m\u001b[1;33m)\u001b[0m\u001b[1;33m\u001b[0m\u001b[1;33m\u001b[0m\u001b[0m\n\u001b[0m\u001b[0;32m     62\u001b[0m \u001b[1;33m\u001b[0m\u001b[0m\n\u001b[0;32m     63\u001b[0m             \u001b[0myhat_model\u001b[0m \u001b[1;33m=\u001b[0m \u001b[0mmodel_fit\u001b[0m\u001b[1;33m.\u001b[0m\u001b[0mpredict_proba\u001b[0m\u001b[1;33m(\u001b[0m\u001b[0mx_val_fold\u001b[0m\u001b[1;33m)\u001b[0m\u001b[1;33m\u001b[0m\u001b[1;33m\u001b[0m\u001b[0m\n",
      "\u001b[1;32m~\\anaconda3\\envs\\datasciencemproducao\\lib\\site-packages\\xgboost\\sklearn.py\u001b[0m in \u001b[0;36mfit\u001b[1;34m(self, X, y, sample_weight, eval_set, eval_metric, early_stopping_rounds, verbose, xgb_model, sample_weight_eval_set, callbacks)\u001b[0m\n\u001b[0;32m    726\u001b[0m                                     missing=self.missing, nthread=self.n_jobs)\n\u001b[0;32m    727\u001b[0m \u001b[1;33m\u001b[0m\u001b[0m\n\u001b[1;32m--> 728\u001b[1;33m         self._Booster = train(xgb_options, train_dmatrix, self.get_num_boosting_rounds(),\n\u001b[0m\u001b[0;32m    729\u001b[0m                               \u001b[0mevals\u001b[0m\u001b[1;33m=\u001b[0m\u001b[0mevals\u001b[0m\u001b[1;33m,\u001b[0m \u001b[0mearly_stopping_rounds\u001b[0m\u001b[1;33m=\u001b[0m\u001b[0mearly_stopping_rounds\u001b[0m\u001b[1;33m,\u001b[0m\u001b[1;33m\u001b[0m\u001b[1;33m\u001b[0m\u001b[0m\n\u001b[0;32m    730\u001b[0m                               \u001b[0mevals_result\u001b[0m\u001b[1;33m=\u001b[0m\u001b[0mevals_result\u001b[0m\u001b[1;33m,\u001b[0m \u001b[0mobj\u001b[0m\u001b[1;33m=\u001b[0m\u001b[0mobj\u001b[0m\u001b[1;33m,\u001b[0m \u001b[0mfeval\u001b[0m\u001b[1;33m=\u001b[0m\u001b[0mfeval\u001b[0m\u001b[1;33m,\u001b[0m\u001b[1;33m\u001b[0m\u001b[1;33m\u001b[0m\u001b[0m\n",
      "\u001b[1;32m~\\anaconda3\\envs\\datasciencemproducao\\lib\\site-packages\\xgboost\\training.py\u001b[0m in \u001b[0;36mtrain\u001b[1;34m(params, dtrain, num_boost_round, evals, obj, feval, maximize, early_stopping_rounds, evals_result, verbose_eval, xgb_model, callbacks, learning_rates)\u001b[0m\n\u001b[0;32m    210\u001b[0m         \u001b[0mcallbacks\u001b[0m\u001b[1;33m.\u001b[0m\u001b[0mappend\u001b[0m\u001b[1;33m(\u001b[0m\u001b[0mcallback\u001b[0m\u001b[1;33m.\u001b[0m\u001b[0mreset_learning_rate\u001b[0m\u001b[1;33m(\u001b[0m\u001b[0mlearning_rates\u001b[0m\u001b[1;33m)\u001b[0m\u001b[1;33m)\u001b[0m\u001b[1;33m\u001b[0m\u001b[1;33m\u001b[0m\u001b[0m\n\u001b[0;32m    211\u001b[0m \u001b[1;33m\u001b[0m\u001b[0m\n\u001b[1;32m--> 212\u001b[1;33m     return _train_internal(params, dtrain,\n\u001b[0m\u001b[0;32m    213\u001b[0m                            \u001b[0mnum_boost_round\u001b[0m\u001b[1;33m=\u001b[0m\u001b[0mnum_boost_round\u001b[0m\u001b[1;33m,\u001b[0m\u001b[1;33m\u001b[0m\u001b[1;33m\u001b[0m\u001b[0m\n\u001b[0;32m    214\u001b[0m                            \u001b[0mevals\u001b[0m\u001b[1;33m=\u001b[0m\u001b[0mevals\u001b[0m\u001b[1;33m,\u001b[0m\u001b[1;33m\u001b[0m\u001b[1;33m\u001b[0m\u001b[0m\n",
      "\u001b[1;32m~\\anaconda3\\envs\\datasciencemproducao\\lib\\site-packages\\xgboost\\training.py\u001b[0m in \u001b[0;36m_train_internal\u001b[1;34m(params, dtrain, num_boost_round, evals, obj, feval, xgb_model, callbacks)\u001b[0m\n\u001b[0;32m     72\u001b[0m         \u001b[1;31m# Skip the first update if it is a recovery step.\u001b[0m\u001b[1;33m\u001b[0m\u001b[1;33m\u001b[0m\u001b[1;33m\u001b[0m\u001b[0m\n\u001b[0;32m     73\u001b[0m         \u001b[1;32mif\u001b[0m \u001b[0mversion\u001b[0m \u001b[1;33m%\u001b[0m \u001b[1;36m2\u001b[0m \u001b[1;33m==\u001b[0m \u001b[1;36m0\u001b[0m\u001b[1;33m:\u001b[0m\u001b[1;33m\u001b[0m\u001b[1;33m\u001b[0m\u001b[0m\n\u001b[1;32m---> 74\u001b[1;33m             \u001b[0mbst\u001b[0m\u001b[1;33m.\u001b[0m\u001b[0mupdate\u001b[0m\u001b[1;33m(\u001b[0m\u001b[0mdtrain\u001b[0m\u001b[1;33m,\u001b[0m \u001b[0mi\u001b[0m\u001b[1;33m,\u001b[0m \u001b[0mobj\u001b[0m\u001b[1;33m)\u001b[0m\u001b[1;33m\u001b[0m\u001b[1;33m\u001b[0m\u001b[0m\n\u001b[0m\u001b[0;32m     75\u001b[0m             \u001b[0mbst\u001b[0m\u001b[1;33m.\u001b[0m\u001b[0msave_rabit_checkpoint\u001b[0m\u001b[1;33m(\u001b[0m\u001b[1;33m)\u001b[0m\u001b[1;33m\u001b[0m\u001b[1;33m\u001b[0m\u001b[0m\n\u001b[0;32m     76\u001b[0m             \u001b[0mversion\u001b[0m \u001b[1;33m+=\u001b[0m \u001b[1;36m1\u001b[0m\u001b[1;33m\u001b[0m\u001b[1;33m\u001b[0m\u001b[0m\n",
      "\u001b[1;32m~\\anaconda3\\envs\\datasciencemproducao\\lib\\site-packages\\xgboost\\core.py\u001b[0m in \u001b[0;36mupdate\u001b[1;34m(self, dtrain, iteration, fobj)\u001b[0m\n\u001b[0;32m   1106\u001b[0m \u001b[1;33m\u001b[0m\u001b[0m\n\u001b[0;32m   1107\u001b[0m         \u001b[1;32mif\u001b[0m \u001b[0mfobj\u001b[0m \u001b[1;32mis\u001b[0m \u001b[1;32mNone\u001b[0m\u001b[1;33m:\u001b[0m\u001b[1;33m\u001b[0m\u001b[1;33m\u001b[0m\u001b[0m\n\u001b[1;32m-> 1108\u001b[1;33m             _check_call(_LIB.XGBoosterUpdateOneIter(self.handle, ctypes.c_int(iteration),\n\u001b[0m\u001b[0;32m   1109\u001b[0m                                                     dtrain.handle))\n\u001b[0;32m   1110\u001b[0m         \u001b[1;32melse\u001b[0m\u001b[1;33m:\u001b[0m\u001b[1;33m\u001b[0m\u001b[1;33m\u001b[0m\u001b[0m\n",
      "\u001b[1;31mKeyboardInterrupt\u001b[0m: "
     ]
    }
   ],
   "source": [
    "final_result = pd.DataFrame()\n",
    "\n",
    "for i in range( MAX_EVAL ):\n",
    "    # choose values for parameters randomly\n",
    "    print ('Step ' + str(i + 1) + '/' + str(MAX_EVAL))\n",
    "    hp = { k: random.sample( v, 1 )[0] for k, v in param.items() }\n",
    "    print( hp )\n",
    "    \n",
    "    # model\n",
    "    model_xgb = xgb.XGBClassifier (objective        = hp['objective'],\n",
    "                                   eval_metric      = hp['eval_metric'],\n",
    "                                   n_estimators     = hp['n_estimators'], \n",
    "                                   eta              = hp['eta'], \n",
    "                                   max_depth        = hp['max_depth'], \n",
    "                                   subsample        = hp['subsample'],\n",
    "                                   colsample_bytree = hp['colsample_bytree'],\n",
    "                                   gamma = hp['gamma'])\n",
    "\n",
    "    # performance\n",
    "    result = cross_validation (df8,5, 'Final ', model_xgb,'response',15000 ,X_train, y_train, verbose= True)\n",
    "    final_result = pd.concat( [final_result, result] )\n",
    "        \n",
    "final_result"
   ]
  },
  {
   "cell_type": "code",
   "execution_count": null,
   "id": "varying-migration",
   "metadata": {
    "ExecuteTime": {
     "start_time": "2021-07-30T01:55:35.900Z"
    }
   },
   "outputs": [],
   "source": [
    "#final_result.to_csv('../data/tunning.csv')\n",
    "\n",
    "pd.read_csv('../data/tunning.csv')"
   ]
  },
  {
   "cell_type": "markdown",
   "id": "alpha-converter",
   "metadata": {},
   "source": [
    "## 9.2 Final Model"
   ]
  },
  {
   "cell_type": "code",
   "execution_count": null,
   "id": "representative-greek",
   "metadata": {},
   "outputs": [],
   "source": []
  },
  {
   "cell_type": "code",
   "execution_count": 99,
   "id": "allied-rhythm",
   "metadata": {
    "ExecuteTime": {
     "end_time": "2021-08-02T18:48:10.398071Z",
     "start_time": "2021-08-02T18:48:10.379027Z"
    }
   },
   "outputs": [],
   "source": [
    "xgb_param_tuned = {'objective'       : 'binary:logistic', \n",
    "                   'eval_metric'     : 'error', \n",
    "                   'n_estimators'    : 1500, \n",
    "                   'eta'             : 0.01, \n",
    "                   'max_depth'       : 5, \n",
    "                   'subsample'       : 0.8, \n",
    "                   'colsample_bytree': 0.5, \n",
    "                   'gamma': 0\n",
    "                  }"
   ]
  },
  {
   "cell_type": "code",
   "execution_count": 100,
   "id": "simplified-buffalo",
   "metadata": {
    "ExecuteTime": {
     "end_time": "2021-08-02T19:02:06.001138Z",
     "start_time": "2021-08-02T18:48:12.470535Z"
    }
   },
   "outputs": [],
   "source": [
    "model_xgb_tuned = xgb.XGBClassifier (objective        = xgb_param_tuned['objective'],\n",
    "                                     eval_metric      = xgb_param_tuned['eval_metric'],\n",
    "                                     n_estimators     = xgb_param_tuned['n_estimators'], \n",
    "                                     eta              = xgb_param_tuned['eta'], \n",
    "                                     max_depth        = xgb_param_tuned['max_depth'], \n",
    "                                     subsample        = xgb_param_tuned['subsample'],\n",
    "                                     colsample_bytree = xgb_param_tuned['colsample_bytree'],\n",
    "                                     gamma = xgb_param_tuned['gamma']).fit( X_train,y_train )\n",
    "\n",
    "\n",
    "\n",
    "yhat_xgb_tuned = model_xgb_tuned.predict_proba(x_test)"
   ]
  },
  {
   "cell_type": "code",
   "execution_count": 101,
   "id": "sublime-dutch",
   "metadata": {
    "ExecuteTime": {
     "end_time": "2021-08-02T19:02:06.869932Z",
     "start_time": "2021-08-02T19:02:06.033132Z"
    }
   },
   "outputs": [
    {
     "data": {
      "text/html": [
       "<div>\n",
       "<style scoped>\n",
       "    .dataframe tbody tr th:only-of-type {\n",
       "        vertical-align: middle;\n",
       "    }\n",
       "\n",
       "    .dataframe tbody tr th {\n",
       "        vertical-align: top;\n",
       "    }\n",
       "\n",
       "    .dataframe thead th {\n",
       "        text-align: right;\n",
       "    }\n",
       "</style>\n",
       "<table border=\"1\" class=\"dataframe\">\n",
       "  <thead>\n",
       "    <tr style=\"text-align: right;\">\n",
       "      <th></th>\n",
       "      <th>id</th>\n",
       "      <th>gender</th>\n",
       "      <th>age</th>\n",
       "      <th>driving_license</th>\n",
       "      <th>region_code</th>\n",
       "      <th>previously_insured</th>\n",
       "      <th>vehicle_damage</th>\n",
       "      <th>annual_premium</th>\n",
       "      <th>policy_sales_channel</th>\n",
       "      <th>vintage</th>\n",
       "      <th>vehicle_age_below_1_year</th>\n",
       "      <th>vehicle_age_between_1_2_year</th>\n",
       "      <th>vehicle_age_over_2_years</th>\n",
       "      <th>response</th>\n",
       "      <th>score</th>\n",
       "      <th>ranking</th>\n",
       "    </tr>\n",
       "  </thead>\n",
       "  <tbody>\n",
       "    <tr>\n",
       "      <th>0</th>\n",
       "      <td>260266</td>\n",
       "      <td>0.137661</td>\n",
       "      <td>0.492308</td>\n",
       "      <td>1</td>\n",
       "      <td>0.187618</td>\n",
       "      <td>0</td>\n",
       "      <td>1</td>\n",
       "      <td>4.227237</td>\n",
       "      <td>0.213533</td>\n",
       "      <td>0.283737</td>\n",
       "      <td>1</td>\n",
       "      <td>0</td>\n",
       "      <td>0</td>\n",
       "      <td>1</td>\n",
       "      <td>0.943754</td>\n",
       "      <td>1</td>\n",
       "    </tr>\n",
       "    <tr>\n",
       "      <th>1</th>\n",
       "      <td>29801</td>\n",
       "      <td>0.137661</td>\n",
       "      <td>0.261538</td>\n",
       "      <td>1</td>\n",
       "      <td>0.384615</td>\n",
       "      <td>0</td>\n",
       "      <td>1</td>\n",
       "      <td>0.738330</td>\n",
       "      <td>0.006308</td>\n",
       "      <td>0.757785</td>\n",
       "      <td>0</td>\n",
       "      <td>1</td>\n",
       "      <td>0</td>\n",
       "      <td>1</td>\n",
       "      <td>0.920988</td>\n",
       "      <td>2</td>\n",
       "    </tr>\n",
       "    <tr>\n",
       "      <th>2</th>\n",
       "      <td>341439</td>\n",
       "      <td>0.137661</td>\n",
       "      <td>0.492308</td>\n",
       "      <td>1</td>\n",
       "      <td>0.113643</td>\n",
       "      <td>0</td>\n",
       "      <td>1</td>\n",
       "      <td>0.278192</td>\n",
       "      <td>0.196129</td>\n",
       "      <td>0.761246</td>\n",
       "      <td>1</td>\n",
       "      <td>0</td>\n",
       "      <td>0</td>\n",
       "      <td>1</td>\n",
       "      <td>0.868803</td>\n",
       "      <td>3</td>\n",
       "    </tr>\n",
       "    <tr>\n",
       "      <th>3</th>\n",
       "      <td>99225</td>\n",
       "      <td>0.137661</td>\n",
       "      <td>0.492308</td>\n",
       "      <td>1</td>\n",
       "      <td>0.187618</td>\n",
       "      <td>0</td>\n",
       "      <td>1</td>\n",
       "      <td>1.326878</td>\n",
       "      <td>0.196129</td>\n",
       "      <td>0.975779</td>\n",
       "      <td>1</td>\n",
       "      <td>0</td>\n",
       "      <td>0</td>\n",
       "      <td>1</td>\n",
       "      <td>0.857373</td>\n",
       "      <td>4</td>\n",
       "    </tr>\n",
       "    <tr>\n",
       "      <th>4</th>\n",
       "      <td>159966</td>\n",
       "      <td>0.137661</td>\n",
       "      <td>0.569231</td>\n",
       "      <td>1</td>\n",
       "      <td>0.187618</td>\n",
       "      <td>0</td>\n",
       "      <td>1</td>\n",
       "      <td>0.284115</td>\n",
       "      <td>0.196129</td>\n",
       "      <td>0.425606</td>\n",
       "      <td>1</td>\n",
       "      <td>0</td>\n",
       "      <td>0</td>\n",
       "      <td>1</td>\n",
       "      <td>0.848707</td>\n",
       "      <td>5</td>\n",
       "    </tr>\n",
       "    <tr>\n",
       "      <th>5</th>\n",
       "      <td>181250</td>\n",
       "      <td>0.137661</td>\n",
       "      <td>0.276923</td>\n",
       "      <td>1</td>\n",
       "      <td>0.384615</td>\n",
       "      <td>0</td>\n",
       "      <td>1</td>\n",
       "      <td>0.005790</td>\n",
       "      <td>0.213533</td>\n",
       "      <td>0.013841</td>\n",
       "      <td>0</td>\n",
       "      <td>1</td>\n",
       "      <td>0</td>\n",
       "      <td>1</td>\n",
       "      <td>0.845918</td>\n",
       "      <td>6</td>\n",
       "    </tr>\n",
       "    <tr>\n",
       "      <th>6</th>\n",
       "      <td>213167</td>\n",
       "      <td>0.100309</td>\n",
       "      <td>0.276923</td>\n",
       "      <td>1</td>\n",
       "      <td>0.187618</td>\n",
       "      <td>0</td>\n",
       "      <td>1</td>\n",
       "      <td>1.726047</td>\n",
       "      <td>0.001292</td>\n",
       "      <td>0.768166</td>\n",
       "      <td>1</td>\n",
       "      <td>0</td>\n",
       "      <td>0</td>\n",
       "      <td>1</td>\n",
       "      <td>0.832695</td>\n",
       "      <td>7</td>\n",
       "    </tr>\n",
       "    <tr>\n",
       "      <th>7</th>\n",
       "      <td>285218</td>\n",
       "      <td>0.137661</td>\n",
       "      <td>0.230769</td>\n",
       "      <td>1</td>\n",
       "      <td>0.097522</td>\n",
       "      <td>0</td>\n",
       "      <td>1</td>\n",
       "      <td>-1.296979</td>\n",
       "      <td>0.196129</td>\n",
       "      <td>0.951557</td>\n",
       "      <td>1</td>\n",
       "      <td>0</td>\n",
       "      <td>0</td>\n",
       "      <td>0</td>\n",
       "      <td>0.822131</td>\n",
       "      <td>8</td>\n",
       "    </tr>\n",
       "    <tr>\n",
       "      <th>8</th>\n",
       "      <td>42164</td>\n",
       "      <td>0.137661</td>\n",
       "      <td>0.538462</td>\n",
       "      <td>1</td>\n",
       "      <td>0.089467</td>\n",
       "      <td>0</td>\n",
       "      <td>1</td>\n",
       "      <td>0.668157</td>\n",
       "      <td>0.213533</td>\n",
       "      <td>0.840830</td>\n",
       "      <td>1</td>\n",
       "      <td>0</td>\n",
       "      <td>0</td>\n",
       "      <td>1</td>\n",
       "      <td>0.820294</td>\n",
       "      <td>9</td>\n",
       "    </tr>\n",
       "    <tr>\n",
       "      <th>9</th>\n",
       "      <td>233485</td>\n",
       "      <td>0.137661</td>\n",
       "      <td>0.230769</td>\n",
       "      <td>1</td>\n",
       "      <td>0.147142</td>\n",
       "      <td>0</td>\n",
       "      <td>1</td>\n",
       "      <td>-1.562545</td>\n",
       "      <td>0.196129</td>\n",
       "      <td>0.107266</td>\n",
       "      <td>0</td>\n",
       "      <td>1</td>\n",
       "      <td>0</td>\n",
       "      <td>0</td>\n",
       "      <td>0.814158</td>\n",
       "      <td>10</td>\n",
       "    </tr>\n",
       "    <tr>\n",
       "      <th>10</th>\n",
       "      <td>247986</td>\n",
       "      <td>0.137661</td>\n",
       "      <td>0.215385</td>\n",
       "      <td>1</td>\n",
       "      <td>0.187618</td>\n",
       "      <td>0</td>\n",
       "      <td>1</td>\n",
       "      <td>5.004342</td>\n",
       "      <td>0.196129</td>\n",
       "      <td>0.532872</td>\n",
       "      <td>0</td>\n",
       "      <td>1</td>\n",
       "      <td>0</td>\n",
       "      <td>0</td>\n",
       "      <td>0.801213</td>\n",
       "      <td>11</td>\n",
       "    </tr>\n",
       "    <tr>\n",
       "      <th>11</th>\n",
       "      <td>210416</td>\n",
       "      <td>0.137661</td>\n",
       "      <td>0.523077</td>\n",
       "      <td>1</td>\n",
       "      <td>0.091197</td>\n",
       "      <td>0</td>\n",
       "      <td>1</td>\n",
       "      <td>0.877948</td>\n",
       "      <td>0.196129</td>\n",
       "      <td>0.301038</td>\n",
       "      <td>1</td>\n",
       "      <td>0</td>\n",
       "      <td>0</td>\n",
       "      <td>1</td>\n",
       "      <td>0.800136</td>\n",
       "      <td>12</td>\n",
       "    </tr>\n",
       "    <tr>\n",
       "      <th>12</th>\n",
       "      <td>10541</td>\n",
       "      <td>0.137661</td>\n",
       "      <td>0.307692</td>\n",
       "      <td>1</td>\n",
       "      <td>0.384615</td>\n",
       "      <td>0</td>\n",
       "      <td>1</td>\n",
       "      <td>0.002783</td>\n",
       "      <td>0.027199</td>\n",
       "      <td>0.754325</td>\n",
       "      <td>0</td>\n",
       "      <td>1</td>\n",
       "      <td>0</td>\n",
       "      <td>0</td>\n",
       "      <td>0.798047</td>\n",
       "      <td>13</td>\n",
       "    </tr>\n",
       "    <tr>\n",
       "      <th>13</th>\n",
       "      <td>173186</td>\n",
       "      <td>0.100309</td>\n",
       "      <td>0.369231</td>\n",
       "      <td>1</td>\n",
       "      <td>0.097522</td>\n",
       "      <td>0</td>\n",
       "      <td>1</td>\n",
       "      <td>-1.562090</td>\n",
       "      <td>0.000067</td>\n",
       "      <td>0.595156</td>\n",
       "      <td>0</td>\n",
       "      <td>1</td>\n",
       "      <td>0</td>\n",
       "      <td>0</td>\n",
       "      <td>0.776678</td>\n",
       "      <td>14</td>\n",
       "    </tr>\n",
       "    <tr>\n",
       "      <th>14</th>\n",
       "      <td>324386</td>\n",
       "      <td>0.100309</td>\n",
       "      <td>0.276923</td>\n",
       "      <td>1</td>\n",
       "      <td>0.065943</td>\n",
       "      <td>0</td>\n",
       "      <td>1</td>\n",
       "      <td>1.940305</td>\n",
       "      <td>0.003222</td>\n",
       "      <td>0.955017</td>\n",
       "      <td>0</td>\n",
       "      <td>1</td>\n",
       "      <td>0</td>\n",
       "      <td>1</td>\n",
       "      <td>0.773584</td>\n",
       "      <td>15</td>\n",
       "    </tr>\n",
       "    <tr>\n",
       "      <th>15</th>\n",
       "      <td>480</td>\n",
       "      <td>0.137661</td>\n",
       "      <td>0.153846</td>\n",
       "      <td>1</td>\n",
       "      <td>0.187618</td>\n",
       "      <td>0</td>\n",
       "      <td>1</td>\n",
       "      <td>1.403431</td>\n",
       "      <td>0.000170</td>\n",
       "      <td>0.377163</td>\n",
       "      <td>1</td>\n",
       "      <td>0</td>\n",
       "      <td>0</td>\n",
       "      <td>1</td>\n",
       "      <td>0.773476</td>\n",
       "      <td>16</td>\n",
       "    </tr>\n",
       "    <tr>\n",
       "      <th>16</th>\n",
       "      <td>139080</td>\n",
       "      <td>0.100309</td>\n",
       "      <td>0.384615</td>\n",
       "      <td>1</td>\n",
       "      <td>0.187618</td>\n",
       "      <td>0</td>\n",
       "      <td>1</td>\n",
       "      <td>0.236087</td>\n",
       "      <td>0.213533</td>\n",
       "      <td>0.840830</td>\n",
       "      <td>1</td>\n",
       "      <td>0</td>\n",
       "      <td>0</td>\n",
       "      <td>1</td>\n",
       "      <td>0.769611</td>\n",
       "      <td>17</td>\n",
       "    </tr>\n",
       "    <tr>\n",
       "      <th>17</th>\n",
       "      <td>265411</td>\n",
       "      <td>0.100309</td>\n",
       "      <td>0.169231</td>\n",
       "      <td>1</td>\n",
       "      <td>0.428571</td>\n",
       "      <td>0</td>\n",
       "      <td>1</td>\n",
       "      <td>-1.221702</td>\n",
       "      <td>0.213533</td>\n",
       "      <td>0.352941</td>\n",
       "      <td>0</td>\n",
       "      <td>1</td>\n",
       "      <td>0</td>\n",
       "      <td>0</td>\n",
       "      <td>0.768031</td>\n",
       "      <td>18</td>\n",
       "    </tr>\n",
       "    <tr>\n",
       "      <th>18</th>\n",
       "      <td>162563</td>\n",
       "      <td>0.137661</td>\n",
       "      <td>0.461538</td>\n",
       "      <td>1</td>\n",
       "      <td>0.051974</td>\n",
       "      <td>0</td>\n",
       "      <td>1</td>\n",
       "      <td>-0.553047</td>\n",
       "      <td>0.007493</td>\n",
       "      <td>0.041522</td>\n",
       "      <td>0</td>\n",
       "      <td>1</td>\n",
       "      <td>0</td>\n",
       "      <td>1</td>\n",
       "      <td>0.758116</td>\n",
       "      <td>19</td>\n",
       "    </tr>\n",
       "    <tr>\n",
       "      <th>19</th>\n",
       "      <td>120713</td>\n",
       "      <td>0.137661</td>\n",
       "      <td>0.276923</td>\n",
       "      <td>1</td>\n",
       "      <td>0.187618</td>\n",
       "      <td>0</td>\n",
       "      <td>1</td>\n",
       "      <td>3.082768</td>\n",
       "      <td>0.000151</td>\n",
       "      <td>0.830450</td>\n",
       "      <td>0</td>\n",
       "      <td>1</td>\n",
       "      <td>0</td>\n",
       "      <td>1</td>\n",
       "      <td>0.751796</td>\n",
       "      <td>20</td>\n",
       "    </tr>\n",
       "    <tr>\n",
       "      <th>20</th>\n",
       "      <td>24748</td>\n",
       "      <td>0.137661</td>\n",
       "      <td>0.415385</td>\n",
       "      <td>1</td>\n",
       "      <td>0.104577</td>\n",
       "      <td>0</td>\n",
       "      <td>1</td>\n",
       "      <td>-1.432223</td>\n",
       "      <td>0.000004</td>\n",
       "      <td>0.826990</td>\n",
       "      <td>0</td>\n",
       "      <td>1</td>\n",
       "      <td>0</td>\n",
       "      <td>1</td>\n",
       "      <td>0.749860</td>\n",
       "      <td>21</td>\n",
       "    </tr>\n",
       "    <tr>\n",
       "      <th>21</th>\n",
       "      <td>313411</td>\n",
       "      <td>0.137661</td>\n",
       "      <td>0.476923</td>\n",
       "      <td>1</td>\n",
       "      <td>0.187618</td>\n",
       "      <td>0</td>\n",
       "      <td>1</td>\n",
       "      <td>1.069696</td>\n",
       "      <td>0.213533</td>\n",
       "      <td>0.027682</td>\n",
       "      <td>1</td>\n",
       "      <td>0</td>\n",
       "      <td>0</td>\n",
       "      <td>0</td>\n",
       "      <td>0.747719</td>\n",
       "      <td>22</td>\n",
       "    </tr>\n",
       "    <tr>\n",
       "      <th>22</th>\n",
       "      <td>212599</td>\n",
       "      <td>0.137661</td>\n",
       "      <td>0.415385</td>\n",
       "      <td>1</td>\n",
       "      <td>0.187618</td>\n",
       "      <td>0</td>\n",
       "      <td>1</td>\n",
       "      <td>0.336518</td>\n",
       "      <td>0.196129</td>\n",
       "      <td>0.193772</td>\n",
       "      <td>1</td>\n",
       "      <td>0</td>\n",
       "      <td>0</td>\n",
       "      <td>1</td>\n",
       "      <td>0.738083</td>\n",
       "      <td>23</td>\n",
       "    </tr>\n",
       "    <tr>\n",
       "      <th>23</th>\n",
       "      <td>55917</td>\n",
       "      <td>0.137661</td>\n",
       "      <td>0.476923</td>\n",
       "      <td>1</td>\n",
       "      <td>0.106431</td>\n",
       "      <td>0</td>\n",
       "      <td>1</td>\n",
       "      <td>4.833191</td>\n",
       "      <td>0.213533</td>\n",
       "      <td>0.110727</td>\n",
       "      <td>0</td>\n",
       "      <td>1</td>\n",
       "      <td>0</td>\n",
       "      <td>0</td>\n",
       "      <td>0.734550</td>\n",
       "      <td>24</td>\n",
       "    </tr>\n",
       "    <tr>\n",
       "      <th>24</th>\n",
       "      <td>179271</td>\n",
       "      <td>0.137661</td>\n",
       "      <td>0.184615</td>\n",
       "      <td>1</td>\n",
       "      <td>0.115847</td>\n",
       "      <td>0</td>\n",
       "      <td>1</td>\n",
       "      <td>-1.611303</td>\n",
       "      <td>0.213533</td>\n",
       "      <td>0.352941</td>\n",
       "      <td>1</td>\n",
       "      <td>0</td>\n",
       "      <td>0</td>\n",
       "      <td>1</td>\n",
       "      <td>0.733418</td>\n",
       "      <td>25</td>\n",
       "    </tr>\n",
       "    <tr>\n",
       "      <th>25</th>\n",
       "      <td>301730</td>\n",
       "      <td>0.100309</td>\n",
       "      <td>0.215385</td>\n",
       "      <td>1</td>\n",
       "      <td>0.187618</td>\n",
       "      <td>0</td>\n",
       "      <td>1</td>\n",
       "      <td>0.300975</td>\n",
       "      <td>0.000151</td>\n",
       "      <td>0.010381</td>\n",
       "      <td>0</td>\n",
       "      <td>1</td>\n",
       "      <td>0</td>\n",
       "      <td>1</td>\n",
       "      <td>0.729790</td>\n",
       "      <td>26</td>\n",
       "    </tr>\n",
       "    <tr>\n",
       "      <th>26</th>\n",
       "      <td>59918</td>\n",
       "      <td>0.137661</td>\n",
       "      <td>0.476923</td>\n",
       "      <td>1</td>\n",
       "      <td>0.091197</td>\n",
       "      <td>0</td>\n",
       "      <td>1</td>\n",
       "      <td>0.803127</td>\n",
       "      <td>0.213533</td>\n",
       "      <td>0.020761</td>\n",
       "      <td>1</td>\n",
       "      <td>0</td>\n",
       "      <td>0</td>\n",
       "      <td>1</td>\n",
       "      <td>0.724275</td>\n",
       "      <td>27</td>\n",
       "    </tr>\n",
       "    <tr>\n",
       "      <th>27</th>\n",
       "      <td>238645</td>\n",
       "      <td>0.137661</td>\n",
       "      <td>0.353846</td>\n",
       "      <td>1</td>\n",
       "      <td>0.187618</td>\n",
       "      <td>0</td>\n",
       "      <td>1</td>\n",
       "      <td>0.269351</td>\n",
       "      <td>0.213533</td>\n",
       "      <td>0.176471</td>\n",
       "      <td>1</td>\n",
       "      <td>0</td>\n",
       "      <td>0</td>\n",
       "      <td>1</td>\n",
       "      <td>0.723843</td>\n",
       "      <td>28</td>\n",
       "    </tr>\n",
       "    <tr>\n",
       "      <th>28</th>\n",
       "      <td>268661</td>\n",
       "      <td>0.137661</td>\n",
       "      <td>0.307692</td>\n",
       "      <td>1</td>\n",
       "      <td>0.187618</td>\n",
       "      <td>0</td>\n",
       "      <td>1</td>\n",
       "      <td>-0.615839</td>\n",
       "      <td>0.213533</td>\n",
       "      <td>0.612457</td>\n",
       "      <td>1</td>\n",
       "      <td>0</td>\n",
       "      <td>0</td>\n",
       "      <td>1</td>\n",
       "      <td>0.721521</td>\n",
       "      <td>29</td>\n",
       "    </tr>\n",
       "    <tr>\n",
       "      <th>29</th>\n",
       "      <td>17669</td>\n",
       "      <td>0.100309</td>\n",
       "      <td>0.169231</td>\n",
       "      <td>1</td>\n",
       "      <td>0.187618</td>\n",
       "      <td>0</td>\n",
       "      <td>1</td>\n",
       "      <td>0.832017</td>\n",
       "      <td>0.000170</td>\n",
       "      <td>0.792388</td>\n",
       "      <td>1</td>\n",
       "      <td>0</td>\n",
       "      <td>0</td>\n",
       "      <td>1</td>\n",
       "      <td>0.708970</td>\n",
       "      <td>30</td>\n",
       "    </tr>\n",
       "  </tbody>\n",
       "</table>\n",
       "</div>"
      ],
      "text/plain": [
       "        id    gender       age  driving_license  region_code  \\\n",
       "0   260266  0.137661  0.492308                1     0.187618   \n",
       "1    29801  0.137661  0.261538                1     0.384615   \n",
       "2   341439  0.137661  0.492308                1     0.113643   \n",
       "3    99225  0.137661  0.492308                1     0.187618   \n",
       "4   159966  0.137661  0.569231                1     0.187618   \n",
       "5   181250  0.137661  0.276923                1     0.384615   \n",
       "6   213167  0.100309  0.276923                1     0.187618   \n",
       "7   285218  0.137661  0.230769                1     0.097522   \n",
       "8    42164  0.137661  0.538462                1     0.089467   \n",
       "9   233485  0.137661  0.230769                1     0.147142   \n",
       "10  247986  0.137661  0.215385                1     0.187618   \n",
       "11  210416  0.137661  0.523077                1     0.091197   \n",
       "12   10541  0.137661  0.307692                1     0.384615   \n",
       "13  173186  0.100309  0.369231                1     0.097522   \n",
       "14  324386  0.100309  0.276923                1     0.065943   \n",
       "15     480  0.137661  0.153846                1     0.187618   \n",
       "16  139080  0.100309  0.384615                1     0.187618   \n",
       "17  265411  0.100309  0.169231                1     0.428571   \n",
       "18  162563  0.137661  0.461538                1     0.051974   \n",
       "19  120713  0.137661  0.276923                1     0.187618   \n",
       "20   24748  0.137661  0.415385                1     0.104577   \n",
       "21  313411  0.137661  0.476923                1     0.187618   \n",
       "22  212599  0.137661  0.415385                1     0.187618   \n",
       "23   55917  0.137661  0.476923                1     0.106431   \n",
       "24  179271  0.137661  0.184615                1     0.115847   \n",
       "25  301730  0.100309  0.215385                1     0.187618   \n",
       "26   59918  0.137661  0.476923                1     0.091197   \n",
       "27  238645  0.137661  0.353846                1     0.187618   \n",
       "28  268661  0.137661  0.307692                1     0.187618   \n",
       "29   17669  0.100309  0.169231                1     0.187618   \n",
       "\n",
       "    previously_insured  vehicle_damage  annual_premium  policy_sales_channel  \\\n",
       "0                    0               1        4.227237              0.213533   \n",
       "1                    0               1        0.738330              0.006308   \n",
       "2                    0               1        0.278192              0.196129   \n",
       "3                    0               1        1.326878              0.196129   \n",
       "4                    0               1        0.284115              0.196129   \n",
       "5                    0               1        0.005790              0.213533   \n",
       "6                    0               1        1.726047              0.001292   \n",
       "7                    0               1       -1.296979              0.196129   \n",
       "8                    0               1        0.668157              0.213533   \n",
       "9                    0               1       -1.562545              0.196129   \n",
       "10                   0               1        5.004342              0.196129   \n",
       "11                   0               1        0.877948              0.196129   \n",
       "12                   0               1        0.002783              0.027199   \n",
       "13                   0               1       -1.562090              0.000067   \n",
       "14                   0               1        1.940305              0.003222   \n",
       "15                   0               1        1.403431              0.000170   \n",
       "16                   0               1        0.236087              0.213533   \n",
       "17                   0               1       -1.221702              0.213533   \n",
       "18                   0               1       -0.553047              0.007493   \n",
       "19                   0               1        3.082768              0.000151   \n",
       "20                   0               1       -1.432223              0.000004   \n",
       "21                   0               1        1.069696              0.213533   \n",
       "22                   0               1        0.336518              0.196129   \n",
       "23                   0               1        4.833191              0.213533   \n",
       "24                   0               1       -1.611303              0.213533   \n",
       "25                   0               1        0.300975              0.000151   \n",
       "26                   0               1        0.803127              0.213533   \n",
       "27                   0               1        0.269351              0.213533   \n",
       "28                   0               1       -0.615839              0.213533   \n",
       "29                   0               1        0.832017              0.000170   \n",
       "\n",
       "     vintage  vehicle_age_below_1_year  vehicle_age_between_1_2_year  \\\n",
       "0   0.283737                         1                             0   \n",
       "1   0.757785                         0                             1   \n",
       "2   0.761246                         1                             0   \n",
       "3   0.975779                         1                             0   \n",
       "4   0.425606                         1                             0   \n",
       "5   0.013841                         0                             1   \n",
       "6   0.768166                         1                             0   \n",
       "7   0.951557                         1                             0   \n",
       "8   0.840830                         1                             0   \n",
       "9   0.107266                         0                             1   \n",
       "10  0.532872                         0                             1   \n",
       "11  0.301038                         1                             0   \n",
       "12  0.754325                         0                             1   \n",
       "13  0.595156                         0                             1   \n",
       "14  0.955017                         0                             1   \n",
       "15  0.377163                         1                             0   \n",
       "16  0.840830                         1                             0   \n",
       "17  0.352941                         0                             1   \n",
       "18  0.041522                         0                             1   \n",
       "19  0.830450                         0                             1   \n",
       "20  0.826990                         0                             1   \n",
       "21  0.027682                         1                             0   \n",
       "22  0.193772                         1                             0   \n",
       "23  0.110727                         0                             1   \n",
       "24  0.352941                         1                             0   \n",
       "25  0.010381                         0                             1   \n",
       "26  0.020761                         1                             0   \n",
       "27  0.176471                         1                             0   \n",
       "28  0.612457                         1                             0   \n",
       "29  0.792388                         1                             0   \n",
       "\n",
       "    vehicle_age_over_2_years  response     score  ranking  \n",
       "0                          0         1  0.943754        1  \n",
       "1                          0         1  0.920988        2  \n",
       "2                          0         1  0.868803        3  \n",
       "3                          0         1  0.857373        4  \n",
       "4                          0         1  0.848707        5  \n",
       "5                          0         1  0.845918        6  \n",
       "6                          0         1  0.832695        7  \n",
       "7                          0         0  0.822131        8  \n",
       "8                          0         1  0.820294        9  \n",
       "9                          0         0  0.814158       10  \n",
       "10                         0         0  0.801213       11  \n",
       "11                         0         1  0.800136       12  \n",
       "12                         0         0  0.798047       13  \n",
       "13                         0         0  0.776678       14  \n",
       "14                         0         1  0.773584       15  \n",
       "15                         0         1  0.773476       16  \n",
       "16                         0         1  0.769611       17  \n",
       "17                         0         0  0.768031       18  \n",
       "18                         0         1  0.758116       19  \n",
       "19                         0         1  0.751796       20  \n",
       "20                         0         1  0.749860       21  \n",
       "21                         0         0  0.747719       22  \n",
       "22                         0         1  0.738083       23  \n",
       "23                         0         0  0.734550       24  \n",
       "24                         0         1  0.733418       25  \n",
       "25                         0         1  0.729790       26  \n",
       "26                         0         1  0.724275       27  \n",
       "27                         0         1  0.723843       28  \n",
       "28                         0         1  0.721521       29  \n",
       "29                         0         1  0.708970       30  "
      ]
     },
     "execution_count": 101,
     "metadata": {},
     "output_type": "execute_result"
    }
   ],
   "source": [
    "df_predict_xgb = data_preparation_yhat_model('response',x_validation.copy(),y_validation.copy(), yhat_xgb_tuned )\n",
    "df_predict_xgb['ranking'] = df_predict_xgb.index+1\n",
    "df_predict_xgb.head(30)"
   ]
  }
 ],
 "metadata": {
  "kernelspec": {
   "display_name": "Python 3",
   "language": "python",
   "name": "python3"
  },
  "language_info": {
   "codemirror_mode": {
    "name": "ipython",
    "version": 3
   },
   "file_extension": ".py",
   "mimetype": "text/x-python",
   "name": "python",
   "nbconvert_exporter": "python",
   "pygments_lexer": "ipython3",
   "version": "3.8.8"
  }
 },
 "nbformat": 4,
 "nbformat_minor": 5
}
