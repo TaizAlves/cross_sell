{
 "cells": [
  {
   "cell_type": "markdown",
   "id": "deadly-premiere",
   "metadata": {},
   "source": [
    "# 0.0. Imports"
   ]
  },
  {
   "cell_type": "code",
   "execution_count": 1,
   "id": "technical-slide",
   "metadata": {
    "ExecuteTime": {
     "end_time": "2021-07-29T23:17:12.779545Z",
     "start_time": "2021-07-29T23:17:02.939248Z"
    }
   },
   "outputs": [
    {
     "name": "stderr",
     "output_type": "stream",
     "text": [
      "In C:\\Users\\ACER\\anaconda3\\envs\\datasciencemproducao\\lib\\site-packages\\matplotlib\\mpl-data\\stylelib\\_classic_test.mplstyle: \n",
      "The text.latex.preview rcparam was deprecated in Matplotlib 3.3 and will be removed two minor releases later.\n",
      "In C:\\Users\\ACER\\anaconda3\\envs\\datasciencemproducao\\lib\\site-packages\\matplotlib\\mpl-data\\stylelib\\_classic_test.mplstyle: \n",
      "The mathtext.fallback_to_cm rcparam was deprecated in Matplotlib 3.3 and will be removed two minor releases later.\n",
      "In C:\\Users\\ACER\\anaconda3\\envs\\datasciencemproducao\\lib\\site-packages\\matplotlib\\mpl-data\\stylelib\\_classic_test.mplstyle: Support for setting the 'mathtext.fallback_to_cm' rcParam is deprecated since 3.3 and will be removed two minor releases later; use 'mathtext.fallback : 'cm' instead.\n",
      "In C:\\Users\\ACER\\anaconda3\\envs\\datasciencemproducao\\lib\\site-packages\\matplotlib\\mpl-data\\stylelib\\_classic_test.mplstyle: \n",
      "The validate_bool_maybe_none function was deprecated in Matplotlib 3.3 and will be removed two minor releases later.\n",
      "In C:\\Users\\ACER\\anaconda3\\envs\\datasciencemproducao\\lib\\site-packages\\matplotlib\\mpl-data\\stylelib\\_classic_test.mplstyle: \n",
      "The savefig.jpeg_quality rcparam was deprecated in Matplotlib 3.3 and will be removed two minor releases later.\n",
      "In C:\\Users\\ACER\\anaconda3\\envs\\datasciencemproducao\\lib\\site-packages\\matplotlib\\mpl-data\\stylelib\\_classic_test.mplstyle: \n",
      "The keymap.all_axes rcparam was deprecated in Matplotlib 3.3 and will be removed two minor releases later.\n",
      "In C:\\Users\\ACER\\anaconda3\\envs\\datasciencemproducao\\lib\\site-packages\\matplotlib\\mpl-data\\stylelib\\_classic_test.mplstyle: \n",
      "The animation.avconv_path rcparam was deprecated in Matplotlib 3.3 and will be removed two minor releases later.\n",
      "In C:\\Users\\ACER\\anaconda3\\envs\\datasciencemproducao\\lib\\site-packages\\matplotlib\\mpl-data\\stylelib\\_classic_test.mplstyle: \n",
      "The animation.avconv_args rcparam was deprecated in Matplotlib 3.3 and will be removed two minor releases later.\n"
     ]
    }
   ],
   "source": [
    "import numpy  as np\n",
    "import pandas as pd\n",
    "import scikitplot as skplt\n",
    "\n",
    "import pickle\n",
    "import warnings\n",
    "import random\n",
    "\n",
    "import seaborn as sns\n",
    "from boruta                import BorutaPy\n",
    "\n",
    "from matplotlib import pyplot as plt\n",
    "\n",
    "from pandas_profiling import ProfileReport\n",
    "\n",
    "import xgboost           as xgb\n",
    "\n",
    "from sklearn import metrics         as m\n",
    "\n",
    "from sklearn.svm import SVC\n",
    "from sklearn import model_selection as ms\n",
    "from sklearn import linear_model    as lm\n",
    "from sklearn import preprocessing   as pp\n",
    "from sklearn import ensemble        as en\n",
    "from sklearn import neighbors       as nh \n",
    "from sklearn.naive_bayes import GaussianNB\n",
    "\n",
    "from sklearn.ensemble      import RandomForestClassifier\n",
    "\n",
    "from category_encoders import TargetEncoder"
   ]
  },
  {
   "cell_type": "code",
   "execution_count": 2,
   "id": "brilliant-fortune",
   "metadata": {
    "ExecuteTime": {
     "end_time": "2021-07-29T23:17:12.799548Z",
     "start_time": "2021-07-29T23:17:12.779545Z"
    }
   },
   "outputs": [],
   "source": [
    "#!pip install scikit-plot"
   ]
  },
  {
   "cell_type": "markdown",
   "id": "quarterly-programming",
   "metadata": {},
   "source": [
    "# 0.1. Helper Function"
   ]
  },
  {
   "cell_type": "code",
   "execution_count": 3,
   "id": "martial-honey",
   "metadata": {
    "ExecuteTime": {
     "end_time": "2021-07-29T23:17:12.819427Z",
     "start_time": "2021-07-29T23:17:12.799548Z"
    }
   },
   "outputs": [],
   "source": [
    "def warning_off():\n",
    "    warnings.filterwarnings('ignore', category=FutureWarning) \n",
    "    pd.options.mode.chained_assignment = None\n",
    "    \n",
    "    return None\n",
    "warning_off()"
   ]
  },
  {
   "cell_type": "code",
   "execution_count": 4,
   "id": "incorrect-absorption",
   "metadata": {
    "ExecuteTime": {
     "end_time": "2021-07-29T23:17:12.879325Z",
     "start_time": "2021-07-29T23:17:12.824436Z"
    }
   },
   "outputs": [],
   "source": [
    "def data_preparation_yhat_model(target,x_val, y_val,model):\n",
    "    # prepare dataset\n",
    "    data = x_val.copy()\n",
    "    data[target] = y_val.copy()\n",
    "    \n",
    "    # propensity score\n",
    "    data['score'] = model[:, 1].tolist()      \n",
    "    \n",
    "    data = data.sort_values('score', ascending = False)\n",
    "    \n",
    "    # reset index\n",
    "    data = data.reset_index( drop=True )\n",
    "    \n",
    "    return data\n",
    "\n",
    "\n",
    "\n",
    "def precision_at_k( data, target, k=2000):\n",
    "    \n",
    "\n",
    "    # create ranking order\n",
    "    data['ranking'] = data.index + 1 \n",
    "\n",
    "    data['precision_at_k'] = data[target].cumsum() / data['ranking']\n",
    "\n",
    "    return data.loc[k, 'precision_at_k']\n",
    "\n",
    "\n",
    "def recall_at_k(  data,target, k=2000 ):\n",
    "\n",
    "    # create ranking order\n",
    "    data['ranking'] = data.index + 1 \n",
    "\n",
    "    data['recall_at_k'] = data[target].cumsum() / data[target].sum()\n",
    "\n",
    "    return data.loc[k, 'recall_at_k']\n",
    "\n",
    "\n",
    "\n",
    "def cross_validation(data,num_folds, model_name, model,target, k, x_train, y_train, verbose= False):\n",
    "    \n",
    "    for j in reversed( range( 1, num_folds+1 ) ):\n",
    "        if verbose:\n",
    "            print( '\\nKFold Number: {}'.format( j ) )\n",
    "    \n",
    "        kfold = ms.StratifiedKFold(n_splits = num_folds, shuffle = True, random_state = 42)\n",
    "\n",
    "        precision_list = []\n",
    "        recall_list = []\n",
    "        f1_score_list = []\n",
    "\n",
    "\n",
    "        for train_cv,val_cv in kfold.split(x_train, y_train):\n",
    "\n",
    "            x_train_fold = x_train.iloc[train_cv]\n",
    "            y_train_fold = y_train.iloc[train_cv]\n",
    "\n",
    "            x_val_fold = x_train.iloc[val_cv]\n",
    "            y_val_fold = y_train.iloc[val_cv]\n",
    "\n",
    "            model_fit = model.fit(x_train_fold,y_train_fold)\n",
    "\n",
    "            yhat_model = model_fit.predict_proba(x_val_fold)\n",
    "\n",
    "            x_val_fold[target] = y_val_fold\n",
    "            \n",
    "            dataset = data_preparation_yhat_model(target,x_val_fold.copy(), y_val_fold.copy(),yhat_model)\n",
    "            precision = precision_at_k(dataset, target, k)\n",
    "            precision_list.append(precision)\n",
    "\n",
    "            recall = recall_at_k(dataset, target, k)\n",
    "            recall_list.append(recall)\n",
    "\n",
    "            f1_score = round(2*(precision * recall) / (precision + recall), 3)\n",
    "            f1_score_list.append(f1_score)\n",
    "\n",
    "        \n",
    "        \n",
    "    return pd.DataFrame( {'Model Name': model_name,\n",
    "                          'PRECISION': np.round(np.mean(precision_list), 3).astype(str) + ' +/- ' + np.round(np.std(precision_list), 3).astype(str),\n",
    "                          'RECALL': np.round( np.mean( recall_list ), 3 ).astype( str ) + ' +/- ' + np.round( np.std( recall_list ), 3 ).astype( str ),\n",
    "                          'F1_score': np.round( np.mean( f1_score_list ), 3 ).astype( str ) + ' +/- ' + np.round( np.std( f1_score_list ), 3 ).astype( str ) }, index=[0] )\n",
    "    \n",
    "   "
   ]
  },
  {
   "cell_type": "markdown",
   "id": "published-current",
   "metadata": {},
   "source": [
    "# 0.2. Load dataset"
   ]
  },
  {
   "cell_type": "code",
   "execution_count": 5,
   "id": "formal-fields",
   "metadata": {
    "ExecuteTime": {
     "end_time": "2021-07-29T23:17:13.759572Z",
     "start_time": "2021-07-29T23:17:12.879325Z"
    }
   },
   "outputs": [
    {
     "data": {
      "text/html": [
       "<div>\n",
       "<style scoped>\n",
       "    .dataframe tbody tr th:only-of-type {\n",
       "        vertical-align: middle;\n",
       "    }\n",
       "\n",
       "    .dataframe tbody tr th {\n",
       "        vertical-align: top;\n",
       "    }\n",
       "\n",
       "    .dataframe thead th {\n",
       "        text-align: right;\n",
       "    }\n",
       "</style>\n",
       "<table border=\"1\" class=\"dataframe\">\n",
       "  <thead>\n",
       "    <tr style=\"text-align: right;\">\n",
       "      <th></th>\n",
       "      <th>id</th>\n",
       "      <th>Gender</th>\n",
       "      <th>Age</th>\n",
       "      <th>Driving_License</th>\n",
       "      <th>Region_Code</th>\n",
       "      <th>Previously_Insured</th>\n",
       "      <th>Vehicle_Age</th>\n",
       "      <th>Vehicle_Damage</th>\n",
       "      <th>Annual_Premium</th>\n",
       "      <th>Policy_Sales_Channel</th>\n",
       "      <th>Vintage</th>\n",
       "      <th>Response</th>\n",
       "    </tr>\n",
       "  </thead>\n",
       "  <tbody>\n",
       "    <tr>\n",
       "      <th>0</th>\n",
       "      <td>1</td>\n",
       "      <td>Male</td>\n",
       "      <td>44</td>\n",
       "      <td>1</td>\n",
       "      <td>28.0</td>\n",
       "      <td>0</td>\n",
       "      <td>&gt; 2 Years</td>\n",
       "      <td>Yes</td>\n",
       "      <td>40454.0</td>\n",
       "      <td>26.0</td>\n",
       "      <td>217</td>\n",
       "      <td>1</td>\n",
       "    </tr>\n",
       "    <tr>\n",
       "      <th>1</th>\n",
       "      <td>2</td>\n",
       "      <td>Male</td>\n",
       "      <td>76</td>\n",
       "      <td>1</td>\n",
       "      <td>3.0</td>\n",
       "      <td>0</td>\n",
       "      <td>1-2 Year</td>\n",
       "      <td>No</td>\n",
       "      <td>33536.0</td>\n",
       "      <td>26.0</td>\n",
       "      <td>183</td>\n",
       "      <td>0</td>\n",
       "    </tr>\n",
       "    <tr>\n",
       "      <th>2</th>\n",
       "      <td>3</td>\n",
       "      <td>Male</td>\n",
       "      <td>47</td>\n",
       "      <td>1</td>\n",
       "      <td>28.0</td>\n",
       "      <td>0</td>\n",
       "      <td>&gt; 2 Years</td>\n",
       "      <td>Yes</td>\n",
       "      <td>38294.0</td>\n",
       "      <td>26.0</td>\n",
       "      <td>27</td>\n",
       "      <td>1</td>\n",
       "    </tr>\n",
       "    <tr>\n",
       "      <th>3</th>\n",
       "      <td>4</td>\n",
       "      <td>Male</td>\n",
       "      <td>21</td>\n",
       "      <td>1</td>\n",
       "      <td>11.0</td>\n",
       "      <td>1</td>\n",
       "      <td>&lt; 1 Year</td>\n",
       "      <td>No</td>\n",
       "      <td>28619.0</td>\n",
       "      <td>152.0</td>\n",
       "      <td>203</td>\n",
       "      <td>0</td>\n",
       "    </tr>\n",
       "    <tr>\n",
       "      <th>4</th>\n",
       "      <td>5</td>\n",
       "      <td>Female</td>\n",
       "      <td>29</td>\n",
       "      <td>1</td>\n",
       "      <td>41.0</td>\n",
       "      <td>1</td>\n",
       "      <td>&lt; 1 Year</td>\n",
       "      <td>No</td>\n",
       "      <td>27496.0</td>\n",
       "      <td>152.0</td>\n",
       "      <td>39</td>\n",
       "      <td>0</td>\n",
       "    </tr>\n",
       "  </tbody>\n",
       "</table>\n",
       "</div>"
      ],
      "text/plain": [
       "   id  Gender  Age  Driving_License  Region_Code  Previously_Insured  \\\n",
       "0   1    Male   44                1         28.0                   0   \n",
       "1   2    Male   76                1          3.0                   0   \n",
       "2   3    Male   47                1         28.0                   0   \n",
       "3   4    Male   21                1         11.0                   1   \n",
       "4   5  Female   29                1         41.0                   1   \n",
       "\n",
       "  Vehicle_Age Vehicle_Damage  Annual_Premium  Policy_Sales_Channel  Vintage  \\\n",
       "0   > 2 Years            Yes         40454.0                  26.0      217   \n",
       "1    1-2 Year             No         33536.0                  26.0      183   \n",
       "2   > 2 Years            Yes         38294.0                  26.0       27   \n",
       "3    < 1 Year             No         28619.0                 152.0      203   \n",
       "4    < 1 Year             No         27496.0                 152.0       39   \n",
       "\n",
       "   Response  \n",
       "0         1  \n",
       "1         0  \n",
       "2         1  \n",
       "3         0  \n",
       "4         0  "
      ]
     },
     "execution_count": 5,
     "metadata": {},
     "output_type": "execute_result"
    }
   ],
   "source": [
    "df_raw = pd.read_csv('../data/raw/train.csv')\n",
    "df_raw.head()"
   ]
  },
  {
   "cell_type": "markdown",
   "id": "express-working",
   "metadata": {},
   "source": [
    "# 1.0. Data Description"
   ]
  },
  {
   "cell_type": "code",
   "execution_count": 6,
   "id": "incorporated-steal",
   "metadata": {
    "ExecuteTime": {
     "end_time": "2021-07-29T23:17:13.799516Z",
     "start_time": "2021-07-29T23:17:13.759572Z"
    }
   },
   "outputs": [],
   "source": [
    "df1 = df_raw.copy()"
   ]
  },
  {
   "cell_type": "markdown",
   "id": "uniform-medicaid",
   "metadata": {},
   "source": [
    "## 1.1. Rename Columns"
   ]
  },
  {
   "cell_type": "code",
   "execution_count": 7,
   "id": "grave-sigma",
   "metadata": {
    "ExecuteTime": {
     "end_time": "2021-07-29T23:17:13.859374Z",
     "start_time": "2021-07-29T23:17:13.804704Z"
    }
   },
   "outputs": [
    {
     "data": {
      "text/html": [
       "<div>\n",
       "<style scoped>\n",
       "    .dataframe tbody tr th:only-of-type {\n",
       "        vertical-align: middle;\n",
       "    }\n",
       "\n",
       "    .dataframe tbody tr th {\n",
       "        vertical-align: top;\n",
       "    }\n",
       "\n",
       "    .dataframe thead th {\n",
       "        text-align: right;\n",
       "    }\n",
       "</style>\n",
       "<table border=\"1\" class=\"dataframe\">\n",
       "  <thead>\n",
       "    <tr style=\"text-align: right;\">\n",
       "      <th></th>\n",
       "      <th>id</th>\n",
       "      <th>gender</th>\n",
       "      <th>age</th>\n",
       "      <th>driving_license</th>\n",
       "      <th>region_code</th>\n",
       "      <th>previously_insured</th>\n",
       "      <th>vehicle_age</th>\n",
       "      <th>vehicle_damage</th>\n",
       "      <th>annual_premium</th>\n",
       "      <th>policy_sales_channel</th>\n",
       "      <th>vintage</th>\n",
       "      <th>response</th>\n",
       "    </tr>\n",
       "  </thead>\n",
       "  <tbody>\n",
       "    <tr>\n",
       "      <th>0</th>\n",
       "      <td>1</td>\n",
       "      <td>Male</td>\n",
       "      <td>44</td>\n",
       "      <td>1</td>\n",
       "      <td>28.0</td>\n",
       "      <td>0</td>\n",
       "      <td>&gt; 2 Years</td>\n",
       "      <td>Yes</td>\n",
       "      <td>40454.0</td>\n",
       "      <td>26.0</td>\n",
       "      <td>217</td>\n",
       "      <td>1</td>\n",
       "    </tr>\n",
       "    <tr>\n",
       "      <th>1</th>\n",
       "      <td>2</td>\n",
       "      <td>Male</td>\n",
       "      <td>76</td>\n",
       "      <td>1</td>\n",
       "      <td>3.0</td>\n",
       "      <td>0</td>\n",
       "      <td>1-2 Year</td>\n",
       "      <td>No</td>\n",
       "      <td>33536.0</td>\n",
       "      <td>26.0</td>\n",
       "      <td>183</td>\n",
       "      <td>0</td>\n",
       "    </tr>\n",
       "    <tr>\n",
       "      <th>2</th>\n",
       "      <td>3</td>\n",
       "      <td>Male</td>\n",
       "      <td>47</td>\n",
       "      <td>1</td>\n",
       "      <td>28.0</td>\n",
       "      <td>0</td>\n",
       "      <td>&gt; 2 Years</td>\n",
       "      <td>Yes</td>\n",
       "      <td>38294.0</td>\n",
       "      <td>26.0</td>\n",
       "      <td>27</td>\n",
       "      <td>1</td>\n",
       "    </tr>\n",
       "    <tr>\n",
       "      <th>3</th>\n",
       "      <td>4</td>\n",
       "      <td>Male</td>\n",
       "      <td>21</td>\n",
       "      <td>1</td>\n",
       "      <td>11.0</td>\n",
       "      <td>1</td>\n",
       "      <td>&lt; 1 Year</td>\n",
       "      <td>No</td>\n",
       "      <td>28619.0</td>\n",
       "      <td>152.0</td>\n",
       "      <td>203</td>\n",
       "      <td>0</td>\n",
       "    </tr>\n",
       "    <tr>\n",
       "      <th>4</th>\n",
       "      <td>5</td>\n",
       "      <td>Female</td>\n",
       "      <td>29</td>\n",
       "      <td>1</td>\n",
       "      <td>41.0</td>\n",
       "      <td>1</td>\n",
       "      <td>&lt; 1 Year</td>\n",
       "      <td>No</td>\n",
       "      <td>27496.0</td>\n",
       "      <td>152.0</td>\n",
       "      <td>39</td>\n",
       "      <td>0</td>\n",
       "    </tr>\n",
       "  </tbody>\n",
       "</table>\n",
       "</div>"
      ],
      "text/plain": [
       "   id  gender  age  driving_license  region_code  previously_insured  \\\n",
       "0   1    Male   44                1         28.0                   0   \n",
       "1   2    Male   76                1          3.0                   0   \n",
       "2   3    Male   47                1         28.0                   0   \n",
       "3   4    Male   21                1         11.0                   1   \n",
       "4   5  Female   29                1         41.0                   1   \n",
       "\n",
       "  vehicle_age vehicle_damage  annual_premium  policy_sales_channel  vintage  \\\n",
       "0   > 2 Years            Yes         40454.0                  26.0      217   \n",
       "1    1-2 Year             No         33536.0                  26.0      183   \n",
       "2   > 2 Years            Yes         38294.0                  26.0       27   \n",
       "3    < 1 Year             No         28619.0                 152.0      203   \n",
       "4    < 1 Year             No         27496.0                 152.0       39   \n",
       "\n",
       "   response  \n",
       "0         1  \n",
       "1         0  \n",
       "2         1  \n",
       "3         0  \n",
       "4         0  "
      ]
     },
     "execution_count": 7,
     "metadata": {},
     "output_type": "execute_result"
    }
   ],
   "source": [
    "#Lower case \n",
    "col_names = [name.lower() for name in df1.columns]\n",
    "\n",
    "df1.columns = col_names\n",
    "df1.head()"
   ]
  },
  {
   "cell_type": "markdown",
   "id": "respected-communication",
   "metadata": {},
   "source": [
    "## 1.2. Data Dimensions"
   ]
  },
  {
   "cell_type": "code",
   "execution_count": 8,
   "id": "minor-latin",
   "metadata": {
    "ExecuteTime": {
     "end_time": "2021-07-29T23:17:13.879455Z",
     "start_time": "2021-07-29T23:17:13.859899Z"
    }
   },
   "outputs": [
    {
     "name": "stdout",
     "output_type": "stream",
     "text": [
      "Columns:  12\n",
      "Rows:  381109\n"
     ]
    }
   ],
   "source": [
    "print('Columns: ', df1.shape[1])\n",
    "print('Rows: ',df1.shape[0])"
   ]
  },
  {
   "cell_type": "markdown",
   "id": "dominican-relaxation",
   "metadata": {},
   "source": [
    "## 1.3. Data Types"
   ]
  },
  {
   "cell_type": "code",
   "execution_count": 9,
   "id": "proprietary-bullet",
   "metadata": {
    "ExecuteTime": {
     "end_time": "2021-07-29T23:17:13.919332Z",
     "start_time": "2021-07-29T23:17:13.884464Z"
    }
   },
   "outputs": [
    {
     "data": {
      "text/plain": [
       "id                        int64\n",
       "gender                   object\n",
       "age                       int64\n",
       "driving_license           int64\n",
       "region_code             float64\n",
       "previously_insured        int64\n",
       "vehicle_age              object\n",
       "vehicle_damage           object\n",
       "annual_premium          float64\n",
       "policy_sales_channel    float64\n",
       "vintage                   int64\n",
       "response                  int64\n",
       "dtype: object"
      ]
     },
     "execution_count": 9,
     "metadata": {},
     "output_type": "execute_result"
    }
   ],
   "source": [
    "df1.dtypes"
   ]
  },
  {
   "cell_type": "markdown",
   "id": "wireless-thanks",
   "metadata": {},
   "source": [
    "## 1.4. Check NA"
   ]
  },
  {
   "cell_type": "code",
   "execution_count": 10,
   "id": "derived-vaccine",
   "metadata": {
    "ExecuteTime": {
     "end_time": "2021-07-29T23:17:14.079535Z",
     "start_time": "2021-07-29T23:17:13.919332Z"
    }
   },
   "outputs": [
    {
     "data": {
      "text/plain": [
       "id                      0\n",
       "gender                  0\n",
       "age                     0\n",
       "driving_license         0\n",
       "region_code             0\n",
       "previously_insured      0\n",
       "vehicle_age             0\n",
       "vehicle_damage          0\n",
       "annual_premium          0\n",
       "policy_sales_channel    0\n",
       "vintage                 0\n",
       "response                0\n",
       "dtype: int64"
      ]
     },
     "execution_count": 10,
     "metadata": {},
     "output_type": "execute_result"
    }
   ],
   "source": [
    "df1.isna().sum()"
   ]
  },
  {
   "cell_type": "markdown",
   "id": "inclusive-doctrine",
   "metadata": {},
   "source": [
    "## 1.5. Data Descriptive"
   ]
  },
  {
   "cell_type": "code",
   "execution_count": 11,
   "id": "continent-indonesia",
   "metadata": {
    "ExecuteTime": {
     "end_time": "2021-07-29T23:17:14.179661Z",
     "start_time": "2021-07-29T23:17:14.084550Z"
    }
   },
   "outputs": [],
   "source": [
    "num_attributes = df1.select_dtypes(include= ['int64', 'float64'])\n",
    "cat_attributes = df1.select_dtypes(exclude= ['int64', 'float64','datetime64[ns]'])\n"
   ]
  },
  {
   "cell_type": "markdown",
   "id": "scientific-detail",
   "metadata": {},
   "source": [
    "### 1.5.1. Numerical Attributes"
   ]
  },
  {
   "cell_type": "code",
   "execution_count": 12,
   "id": "wicked-tiffany",
   "metadata": {
    "ExecuteTime": {
     "end_time": "2021-07-29T23:17:16.069653Z",
     "start_time": "2021-07-29T23:17:14.184667Z"
    }
   },
   "outputs": [
    {
     "data": {
      "text/html": [
       "<div>\n",
       "<style scoped>\n",
       "    .dataframe tbody tr th:only-of-type {\n",
       "        vertical-align: middle;\n",
       "    }\n",
       "\n",
       "    .dataframe tbody tr th {\n",
       "        vertical-align: top;\n",
       "    }\n",
       "\n",
       "    .dataframe thead th {\n",
       "        text-align: right;\n",
       "    }\n",
       "</style>\n",
       "<table border=\"1\" class=\"dataframe\">\n",
       "  <thead>\n",
       "    <tr style=\"text-align: right;\">\n",
       "      <th></th>\n",
       "      <th>attributes</th>\n",
       "      <th>min</th>\n",
       "      <th>max</th>\n",
       "      <th>range</th>\n",
       "      <th>mean</th>\n",
       "      <th>median</th>\n",
       "      <th>std</th>\n",
       "      <th>skew</th>\n",
       "      <th>kurtosis</th>\n",
       "    </tr>\n",
       "  </thead>\n",
       "  <tbody>\n",
       "    <tr>\n",
       "      <th>0</th>\n",
       "      <td>id</td>\n",
       "      <td>1.0</td>\n",
       "      <td>381109.0</td>\n",
       "      <td>381108.0</td>\n",
       "      <td>190555.000000</td>\n",
       "      <td>190555.0</td>\n",
       "      <td>110016.691870</td>\n",
       "      <td>9.443274e-16</td>\n",
       "      <td>-1.200000</td>\n",
       "    </tr>\n",
       "    <tr>\n",
       "      <th>1</th>\n",
       "      <td>age</td>\n",
       "      <td>20.0</td>\n",
       "      <td>85.0</td>\n",
       "      <td>65.0</td>\n",
       "      <td>38.822584</td>\n",
       "      <td>36.0</td>\n",
       "      <td>15.511591</td>\n",
       "      <td>6.725390e-01</td>\n",
       "      <td>-0.565655</td>\n",
       "    </tr>\n",
       "    <tr>\n",
       "      <th>2</th>\n",
       "      <td>driving_license</td>\n",
       "      <td>0.0</td>\n",
       "      <td>1.0</td>\n",
       "      <td>1.0</td>\n",
       "      <td>0.997869</td>\n",
       "      <td>1.0</td>\n",
       "      <td>0.046109</td>\n",
       "      <td>-2.159518e+01</td>\n",
       "      <td>464.354302</td>\n",
       "    </tr>\n",
       "    <tr>\n",
       "      <th>3</th>\n",
       "      <td>region_code</td>\n",
       "      <td>0.0</td>\n",
       "      <td>52.0</td>\n",
       "      <td>52.0</td>\n",
       "      <td>26.388807</td>\n",
       "      <td>28.0</td>\n",
       "      <td>13.229871</td>\n",
       "      <td>-1.152664e-01</td>\n",
       "      <td>-0.867857</td>\n",
       "    </tr>\n",
       "    <tr>\n",
       "      <th>4</th>\n",
       "      <td>previously_insured</td>\n",
       "      <td>0.0</td>\n",
       "      <td>1.0</td>\n",
       "      <td>1.0</td>\n",
       "      <td>0.458210</td>\n",
       "      <td>0.0</td>\n",
       "      <td>0.498251</td>\n",
       "      <td>1.677471e-01</td>\n",
       "      <td>-1.971871</td>\n",
       "    </tr>\n",
       "    <tr>\n",
       "      <th>5</th>\n",
       "      <td>annual_premium</td>\n",
       "      <td>2630.0</td>\n",
       "      <td>540165.0</td>\n",
       "      <td>537535.0</td>\n",
       "      <td>30564.389581</td>\n",
       "      <td>31669.0</td>\n",
       "      <td>17213.132474</td>\n",
       "      <td>1.766087e+00</td>\n",
       "      <td>34.004569</td>\n",
       "    </tr>\n",
       "    <tr>\n",
       "      <th>6</th>\n",
       "      <td>policy_sales_channel</td>\n",
       "      <td>1.0</td>\n",
       "      <td>163.0</td>\n",
       "      <td>162.0</td>\n",
       "      <td>112.034295</td>\n",
       "      <td>133.0</td>\n",
       "      <td>54.203924</td>\n",
       "      <td>-9.000081e-01</td>\n",
       "      <td>-0.970810</td>\n",
       "    </tr>\n",
       "    <tr>\n",
       "      <th>7</th>\n",
       "      <td>vintage</td>\n",
       "      <td>10.0</td>\n",
       "      <td>299.0</td>\n",
       "      <td>289.0</td>\n",
       "      <td>154.347397</td>\n",
       "      <td>154.0</td>\n",
       "      <td>83.671194</td>\n",
       "      <td>3.029517e-03</td>\n",
       "      <td>-1.200688</td>\n",
       "    </tr>\n",
       "    <tr>\n",
       "      <th>8</th>\n",
       "      <td>response</td>\n",
       "      <td>0.0</td>\n",
       "      <td>1.0</td>\n",
       "      <td>1.0</td>\n",
       "      <td>0.122563</td>\n",
       "      <td>0.0</td>\n",
       "      <td>0.327935</td>\n",
       "      <td>2.301906e+00</td>\n",
       "      <td>3.298788</td>\n",
       "    </tr>\n",
       "  </tbody>\n",
       "</table>\n",
       "</div>"
      ],
      "text/plain": [
       "             attributes     min       max     range           mean    median  \\\n",
       "0                    id     1.0  381109.0  381108.0  190555.000000  190555.0   \n",
       "1                   age    20.0      85.0      65.0      38.822584      36.0   \n",
       "2       driving_license     0.0       1.0       1.0       0.997869       1.0   \n",
       "3           region_code     0.0      52.0      52.0      26.388807      28.0   \n",
       "4    previously_insured     0.0       1.0       1.0       0.458210       0.0   \n",
       "5        annual_premium  2630.0  540165.0  537535.0   30564.389581   31669.0   \n",
       "6  policy_sales_channel     1.0     163.0     162.0     112.034295     133.0   \n",
       "7               vintage    10.0     299.0     289.0     154.347397     154.0   \n",
       "8              response     0.0       1.0       1.0       0.122563       0.0   \n",
       "\n",
       "             std          skew    kurtosis  \n",
       "0  110016.691870  9.443274e-16   -1.200000  \n",
       "1      15.511591  6.725390e-01   -0.565655  \n",
       "2       0.046109 -2.159518e+01  464.354302  \n",
       "3      13.229871 -1.152664e-01   -0.867857  \n",
       "4       0.498251  1.677471e-01   -1.971871  \n",
       "5   17213.132474  1.766087e+00   34.004569  \n",
       "6      54.203924 -9.000081e-01   -0.970810  \n",
       "7      83.671194  3.029517e-03   -1.200688  \n",
       "8       0.327935  2.301906e+00    3.298788  "
      ]
     },
     "execution_count": 12,
     "metadata": {},
     "output_type": "execute_result"
    }
   ],
   "source": [
    "# Central Tendency - Mean, Median\n",
    "ct1 = pd.DataFrame(num_attributes.apply(np.mean )).T\n",
    "ct2 = pd.DataFrame(num_attributes.apply(np.median )).T\n",
    "\n",
    "# dispersion - std, min, max, range, skew, kurtosis\n",
    "d1 = pd.DataFrame(num_attributes.apply( np.std)).T\n",
    "d2 = pd.DataFrame(num_attributes.apply( min)).T\n",
    "d3 = pd.DataFrame(num_attributes.apply( max)).T\n",
    "d4 = pd.DataFrame(num_attributes.apply( lambda x: x.max() - x.min())).T\n",
    "d5 = pd.DataFrame(num_attributes.apply( lambda x: x.skew() )).T\n",
    "d6 = pd.DataFrame(num_attributes.apply( lambda x: x.kurtosis() )).T\n",
    "\n",
    "# concat\n",
    "m = pd.concat([d2, d3, d4, ct1, ct2, d1, d5, d6]).T.reset_index()\n",
    "m.columns = ['attributes', 'min', 'max', 'range', 'mean', 'median', 'std', 'skew', 'kurtosis']\n",
    "m"
   ]
  },
  {
   "cell_type": "markdown",
   "id": "right-energy",
   "metadata": {
    "ExecuteTime": {
     "end_time": "2021-07-21T14:20:10.499764Z",
     "start_time": "2021-07-21T14:20:10.484088Z"
    }
   },
   "source": [
    "### 1.5.2. Categorical Attributes"
   ]
  },
  {
   "cell_type": "code",
   "execution_count": 13,
   "id": "german-implementation",
   "metadata": {
    "ExecuteTime": {
     "end_time": "2021-07-29T23:17:16.109575Z",
     "start_time": "2021-07-29T23:17:16.069653Z"
    }
   },
   "outputs": [
    {
     "data": {
      "text/html": [
       "<div>\n",
       "<style scoped>\n",
       "    .dataframe tbody tr th:only-of-type {\n",
       "        vertical-align: middle;\n",
       "    }\n",
       "\n",
       "    .dataframe tbody tr th {\n",
       "        vertical-align: top;\n",
       "    }\n",
       "\n",
       "    .dataframe thead th {\n",
       "        text-align: right;\n",
       "    }\n",
       "</style>\n",
       "<table border=\"1\" class=\"dataframe\">\n",
       "  <thead>\n",
       "    <tr style=\"text-align: right;\">\n",
       "      <th></th>\n",
       "      <th>gender</th>\n",
       "      <th>vehicle_age</th>\n",
       "      <th>vehicle_damage</th>\n",
       "    </tr>\n",
       "  </thead>\n",
       "  <tbody>\n",
       "    <tr>\n",
       "      <th>0</th>\n",
       "      <td>Male</td>\n",
       "      <td>&gt; 2 Years</td>\n",
       "      <td>Yes</td>\n",
       "    </tr>\n",
       "    <tr>\n",
       "      <th>1</th>\n",
       "      <td>Male</td>\n",
       "      <td>1-2 Year</td>\n",
       "      <td>No</td>\n",
       "    </tr>\n",
       "    <tr>\n",
       "      <th>2</th>\n",
       "      <td>Male</td>\n",
       "      <td>&gt; 2 Years</td>\n",
       "      <td>Yes</td>\n",
       "    </tr>\n",
       "    <tr>\n",
       "      <th>3</th>\n",
       "      <td>Male</td>\n",
       "      <td>&lt; 1 Year</td>\n",
       "      <td>No</td>\n",
       "    </tr>\n",
       "    <tr>\n",
       "      <th>4</th>\n",
       "      <td>Female</td>\n",
       "      <td>&lt; 1 Year</td>\n",
       "      <td>No</td>\n",
       "    </tr>\n",
       "  </tbody>\n",
       "</table>\n",
       "</div>"
      ],
      "text/plain": [
       "   gender vehicle_age vehicle_damage\n",
       "0    Male   > 2 Years            Yes\n",
       "1    Male    1-2 Year             No\n",
       "2    Male   > 2 Years            Yes\n",
       "3    Male    < 1 Year             No\n",
       "4  Female    < 1 Year             No"
      ]
     },
     "execution_count": 13,
     "metadata": {},
     "output_type": "execute_result"
    }
   ],
   "source": [
    "cat_attributes.head()"
   ]
  },
  {
   "cell_type": "code",
   "execution_count": 14,
   "id": "painful-estimate",
   "metadata": {
    "ExecuteTime": {
     "end_time": "2021-07-29T23:17:16.249277Z",
     "start_time": "2021-07-29T23:17:16.109575Z"
    }
   },
   "outputs": [
    {
     "data": {
      "text/plain": [
       "gender            2\n",
       "vehicle_age       3\n",
       "vehicle_damage    2\n",
       "dtype: int64"
      ]
     },
     "execution_count": 14,
     "metadata": {},
     "output_type": "execute_result"
    }
   ],
   "source": [
    "cat_attributes.apply( lambda x: x.unique().shape[0] )"
   ]
  },
  {
   "cell_type": "markdown",
   "id": "durable-verification",
   "metadata": {},
   "source": [
    "# 2.0. Feature Engineering"
   ]
  },
  {
   "cell_type": "markdown",
   "id": "identified-poetry",
   "metadata": {},
   "source": [
    "## 2.1. Hypothesis"
   ]
  },
  {
   "cell_type": "markdown",
   "id": "normal-mathematics",
   "metadata": {},
   "source": [
    "1. Older people ( more than 35 year old) are more likely to hire an insurance?\n",
    "2. annual premium $30,0000 or more are more likely to take out insurance police\n",
    "3. The more sales channel policy, more is the probability to response to an insurance proposal\n",
    "4. Women are more likely to contract an insurance than men?\n",
    "5. People who have the vehicle damage are more likely to hire an insurance?"
   ]
  },
  {
   "cell_type": "markdown",
   "id": "empty-cowboy",
   "metadata": {
    "ExecuteTime": {
     "end_time": "2021-07-26T22:23:39.235928Z",
     "start_time": "2021-07-26T22:23:39.215732Z"
    }
   },
   "source": [
    "## 2.2. Feature Engineering"
   ]
  },
  {
   "cell_type": "code",
   "execution_count": 15,
   "id": "grateful-glenn",
   "metadata": {
    "ExecuteTime": {
     "end_time": "2021-07-29T23:17:16.329506Z",
     "start_time": "2021-07-29T23:17:16.249277Z"
    }
   },
   "outputs": [
    {
     "data": {
      "text/html": [
       "<div>\n",
       "<style scoped>\n",
       "    .dataframe tbody tr th:only-of-type {\n",
       "        vertical-align: middle;\n",
       "    }\n",
       "\n",
       "    .dataframe tbody tr th {\n",
       "        vertical-align: top;\n",
       "    }\n",
       "\n",
       "    .dataframe thead th {\n",
       "        text-align: right;\n",
       "    }\n",
       "</style>\n",
       "<table border=\"1\" class=\"dataframe\">\n",
       "  <thead>\n",
       "    <tr style=\"text-align: right;\">\n",
       "      <th></th>\n",
       "      <th>id</th>\n",
       "      <th>gender</th>\n",
       "      <th>age</th>\n",
       "      <th>driving_license</th>\n",
       "      <th>region_code</th>\n",
       "      <th>previously_insured</th>\n",
       "      <th>vehicle_age</th>\n",
       "      <th>vehicle_damage</th>\n",
       "      <th>annual_premium</th>\n",
       "      <th>policy_sales_channel</th>\n",
       "      <th>vintage</th>\n",
       "      <th>response</th>\n",
       "    </tr>\n",
       "  </thead>\n",
       "  <tbody>\n",
       "    <tr>\n",
       "      <th>0</th>\n",
       "      <td>1</td>\n",
       "      <td>Male</td>\n",
       "      <td>44</td>\n",
       "      <td>1</td>\n",
       "      <td>28.0</td>\n",
       "      <td>0</td>\n",
       "      <td>&gt; 2 Years</td>\n",
       "      <td>Yes</td>\n",
       "      <td>40454.0</td>\n",
       "      <td>26.0</td>\n",
       "      <td>217</td>\n",
       "      <td>1</td>\n",
       "    </tr>\n",
       "    <tr>\n",
       "      <th>1</th>\n",
       "      <td>2</td>\n",
       "      <td>Male</td>\n",
       "      <td>76</td>\n",
       "      <td>1</td>\n",
       "      <td>3.0</td>\n",
       "      <td>0</td>\n",
       "      <td>1-2 Year</td>\n",
       "      <td>No</td>\n",
       "      <td>33536.0</td>\n",
       "      <td>26.0</td>\n",
       "      <td>183</td>\n",
       "      <td>0</td>\n",
       "    </tr>\n",
       "    <tr>\n",
       "      <th>2</th>\n",
       "      <td>3</td>\n",
       "      <td>Male</td>\n",
       "      <td>47</td>\n",
       "      <td>1</td>\n",
       "      <td>28.0</td>\n",
       "      <td>0</td>\n",
       "      <td>&gt; 2 Years</td>\n",
       "      <td>Yes</td>\n",
       "      <td>38294.0</td>\n",
       "      <td>26.0</td>\n",
       "      <td>27</td>\n",
       "      <td>1</td>\n",
       "    </tr>\n",
       "    <tr>\n",
       "      <th>3</th>\n",
       "      <td>4</td>\n",
       "      <td>Male</td>\n",
       "      <td>21</td>\n",
       "      <td>1</td>\n",
       "      <td>11.0</td>\n",
       "      <td>1</td>\n",
       "      <td>&lt; 1 Year</td>\n",
       "      <td>No</td>\n",
       "      <td>28619.0</td>\n",
       "      <td>152.0</td>\n",
       "      <td>203</td>\n",
       "      <td>0</td>\n",
       "    </tr>\n",
       "    <tr>\n",
       "      <th>4</th>\n",
       "      <td>5</td>\n",
       "      <td>Female</td>\n",
       "      <td>29</td>\n",
       "      <td>1</td>\n",
       "      <td>41.0</td>\n",
       "      <td>1</td>\n",
       "      <td>&lt; 1 Year</td>\n",
       "      <td>No</td>\n",
       "      <td>27496.0</td>\n",
       "      <td>152.0</td>\n",
       "      <td>39</td>\n",
       "      <td>0</td>\n",
       "    </tr>\n",
       "  </tbody>\n",
       "</table>\n",
       "</div>"
      ],
      "text/plain": [
       "   id  gender  age  driving_license  region_code  previously_insured  \\\n",
       "0   1    Male   44                1         28.0                   0   \n",
       "1   2    Male   76                1          3.0                   0   \n",
       "2   3    Male   47                1         28.0                   0   \n",
       "3   4    Male   21                1         11.0                   1   \n",
       "4   5  Female   29                1         41.0                   1   \n",
       "\n",
       "  vehicle_age vehicle_damage  annual_premium  policy_sales_channel  vintage  \\\n",
       "0   > 2 Years            Yes         40454.0                  26.0      217   \n",
       "1    1-2 Year             No         33536.0                  26.0      183   \n",
       "2   > 2 Years            Yes         38294.0                  26.0       27   \n",
       "3    < 1 Year             No         28619.0                 152.0      203   \n",
       "4    < 1 Year             No         27496.0                 152.0       39   \n",
       "\n",
       "   response  \n",
       "0         1  \n",
       "1         0  \n",
       "2         1  \n",
       "3         0  \n",
       "4         0  "
      ]
     },
     "execution_count": 15,
     "metadata": {},
     "output_type": "execute_result"
    }
   ],
   "source": [
    "df2 = df1.copy()\n",
    "df2.head()"
   ]
  },
  {
   "cell_type": "code",
   "execution_count": 16,
   "id": "timely-principal",
   "metadata": {
    "ExecuteTime": {
     "end_time": "2021-07-29T23:17:16.719573Z",
     "start_time": "2021-07-29T23:17:16.329506Z"
    }
   },
   "outputs": [
    {
     "data": {
      "text/html": [
       "<div>\n",
       "<style scoped>\n",
       "    .dataframe tbody tr th:only-of-type {\n",
       "        vertical-align: middle;\n",
       "    }\n",
       "\n",
       "    .dataframe tbody tr th {\n",
       "        vertical-align: top;\n",
       "    }\n",
       "\n",
       "    .dataframe thead th {\n",
       "        text-align: right;\n",
       "    }\n",
       "</style>\n",
       "<table border=\"1\" class=\"dataframe\">\n",
       "  <thead>\n",
       "    <tr style=\"text-align: right;\">\n",
       "      <th></th>\n",
       "      <th>id</th>\n",
       "      <th>gender</th>\n",
       "      <th>age</th>\n",
       "      <th>driving_license</th>\n",
       "      <th>region_code</th>\n",
       "      <th>previously_insured</th>\n",
       "      <th>vehicle_age</th>\n",
       "      <th>vehicle_damage</th>\n",
       "      <th>annual_premium</th>\n",
       "      <th>policy_sales_channel</th>\n",
       "      <th>vintage</th>\n",
       "      <th>response</th>\n",
       "    </tr>\n",
       "  </thead>\n",
       "  <tbody>\n",
       "    <tr>\n",
       "      <th>0</th>\n",
       "      <td>1</td>\n",
       "      <td>Male</td>\n",
       "      <td>44</td>\n",
       "      <td>1</td>\n",
       "      <td>28.0</td>\n",
       "      <td>0</td>\n",
       "      <td>over_2_years</td>\n",
       "      <td>1</td>\n",
       "      <td>40454.0</td>\n",
       "      <td>26.0</td>\n",
       "      <td>217</td>\n",
       "      <td>1</td>\n",
       "    </tr>\n",
       "    <tr>\n",
       "      <th>1</th>\n",
       "      <td>2</td>\n",
       "      <td>Male</td>\n",
       "      <td>76</td>\n",
       "      <td>1</td>\n",
       "      <td>3.0</td>\n",
       "      <td>0</td>\n",
       "      <td>between_1_2_year</td>\n",
       "      <td>0</td>\n",
       "      <td>33536.0</td>\n",
       "      <td>26.0</td>\n",
       "      <td>183</td>\n",
       "      <td>0</td>\n",
       "    </tr>\n",
       "    <tr>\n",
       "      <th>2</th>\n",
       "      <td>3</td>\n",
       "      <td>Male</td>\n",
       "      <td>47</td>\n",
       "      <td>1</td>\n",
       "      <td>28.0</td>\n",
       "      <td>0</td>\n",
       "      <td>over_2_years</td>\n",
       "      <td>1</td>\n",
       "      <td>38294.0</td>\n",
       "      <td>26.0</td>\n",
       "      <td>27</td>\n",
       "      <td>1</td>\n",
       "    </tr>\n",
       "    <tr>\n",
       "      <th>3</th>\n",
       "      <td>4</td>\n",
       "      <td>Male</td>\n",
       "      <td>21</td>\n",
       "      <td>1</td>\n",
       "      <td>11.0</td>\n",
       "      <td>1</td>\n",
       "      <td>below_1_year</td>\n",
       "      <td>0</td>\n",
       "      <td>28619.0</td>\n",
       "      <td>152.0</td>\n",
       "      <td>203</td>\n",
       "      <td>0</td>\n",
       "    </tr>\n",
       "    <tr>\n",
       "      <th>4</th>\n",
       "      <td>5</td>\n",
       "      <td>Female</td>\n",
       "      <td>29</td>\n",
       "      <td>1</td>\n",
       "      <td>41.0</td>\n",
       "      <td>1</td>\n",
       "      <td>below_1_year</td>\n",
       "      <td>0</td>\n",
       "      <td>27496.0</td>\n",
       "      <td>152.0</td>\n",
       "      <td>39</td>\n",
       "      <td>0</td>\n",
       "    </tr>\n",
       "  </tbody>\n",
       "</table>\n",
       "</div>"
      ],
      "text/plain": [
       "   id  gender  age  driving_license  region_code  previously_insured  \\\n",
       "0   1    Male   44                1         28.0                   0   \n",
       "1   2    Male   76                1          3.0                   0   \n",
       "2   3    Male   47                1         28.0                   0   \n",
       "3   4    Male   21                1         11.0                   1   \n",
       "4   5  Female   29                1         41.0                   1   \n",
       "\n",
       "        vehicle_age  vehicle_damage  annual_premium  policy_sales_channel  \\\n",
       "0      over_2_years               1         40454.0                  26.0   \n",
       "1  between_1_2_year               0         33536.0                  26.0   \n",
       "2      over_2_years               1         38294.0                  26.0   \n",
       "3      below_1_year               0         28619.0                 152.0   \n",
       "4      below_1_year               0         27496.0                 152.0   \n",
       "\n",
       "   vintage  response  \n",
       "0      217         1  \n",
       "1      183         0  \n",
       "2       27         1  \n",
       "3      203         0  \n",
       "4       39         0  "
      ]
     },
     "execution_count": 16,
     "metadata": {},
     "output_type": "execute_result"
    }
   ],
   "source": [
    "#vehicle_damage\n",
    "df2['vehicle_damage'] = df2['vehicle_damage'].apply(lambda x: 0 if x == 'No' else 1)\n",
    "\n",
    "#vehicle_age\n",
    "df2['vehicle_age'] = df2['vehicle_age'].apply(lambda x: 'over_2_years' if x == '> 2 Years' else \n",
    "                                              'between_1_2_year' if x == '1-2 Year' else 'below_1_year' )\n",
    "\n",
    "df2.head()"
   ]
  },
  {
   "cell_type": "markdown",
   "id": "alike-corrections",
   "metadata": {},
   "source": [
    "# 3.0. Data Filtering"
   ]
  },
  {
   "cell_type": "code",
   "execution_count": 17,
   "id": "southwest-booking",
   "metadata": {
    "ExecuteTime": {
     "end_time": "2021-07-29T23:17:16.779520Z",
     "start_time": "2021-07-29T23:17:16.719573Z"
    }
   },
   "outputs": [],
   "source": [
    "df3 = df2.copy()"
   ]
  },
  {
   "cell_type": "markdown",
   "id": "polish-horror",
   "metadata": {},
   "source": [
    "# 4.0. Exploratoria Data Analysis"
   ]
  },
  {
   "cell_type": "code",
   "execution_count": 18,
   "id": "modern-furniture",
   "metadata": {
    "ExecuteTime": {
     "end_time": "2021-07-29T23:17:16.819452Z",
     "start_time": "2021-07-29T23:17:16.779520Z"
    }
   },
   "outputs": [],
   "source": [
    "df4 = df3.copy()"
   ]
  },
  {
   "cell_type": "markdown",
   "id": "stock-governor",
   "metadata": {},
   "source": [
    "## 4.1. Univariate Analysis\n",
    "\n"
   ]
  },
  {
   "cell_type": "markdown",
   "id": "retained-front",
   "metadata": {},
   "source": [
    "### 4.1.1. Response Variable"
   ]
  },
  {
   "cell_type": "code",
   "execution_count": 19,
   "id": "going-official",
   "metadata": {
    "ExecuteTime": {
     "end_time": "2021-07-29T23:17:17.799636Z",
     "start_time": "2021-07-29T23:17:16.819452Z"
    }
   },
   "outputs": [
    {
     "data": {
      "image/png": "[encoded data removed]",
      "text/plain": [
       "<Figure size 360x360 with 1 Axes>"
      ]
     },
     "metadata": {
      "needs_background": "light"
     },
     "output_type": "display_data"
    }
   ],
   "source": [
    "# analisar o label\n",
    "sns.displot(df4['response'], kde=False);"
   ]
  },
  {
   "cell_type": "code",
   "execution_count": 20,
   "id": "nominated-asset",
   "metadata": {
    "ExecuteTime": {
     "end_time": "2021-07-29T23:17:17.959720Z",
     "start_time": "2021-07-29T23:17:17.799636Z"
    }
   },
   "outputs": [
    {
     "data": {
      "text/html": [
       "<div>\n",
       "<style scoped>\n",
       "    .dataframe tbody tr th:only-of-type {\n",
       "        vertical-align: middle;\n",
       "    }\n",
       "\n",
       "    .dataframe tbody tr th {\n",
       "        vertical-align: top;\n",
       "    }\n",
       "\n",
       "    .dataframe thead th {\n",
       "        text-align: right;\n",
       "    }\n",
       "</style>\n",
       "<table border=\"1\" class=\"dataframe\">\n",
       "  <thead>\n",
       "    <tr style=\"text-align: right;\">\n",
       "      <th></th>\n",
       "      <th></th>\n",
       "      <th>quantity</th>\n",
       "      <th>Age</th>\n",
       "      <th>Premium</th>\n",
       "      <th>Vintage</th>\n",
       "    </tr>\n",
       "    <tr>\n",
       "      <th>response</th>\n",
       "      <th>region_code</th>\n",
       "      <th></th>\n",
       "      <th></th>\n",
       "      <th></th>\n",
       "      <th></th>\n",
       "    </tr>\n",
       "  </thead>\n",
       "  <tbody>\n",
       "    <tr>\n",
       "      <th rowspan=\"5\" valign=\"top\">0</th>\n",
       "      <th>1.0</th>\n",
       "      <td>899</td>\n",
       "      <td>45.0</td>\n",
       "      <td>2660.351502</td>\n",
       "      <td>154.545050</td>\n",
       "    </tr>\n",
       "    <tr>\n",
       "      <th>31.0</th>\n",
       "      <td>1763</td>\n",
       "      <td>43.0</td>\n",
       "      <td>2673.854793</td>\n",
       "      <td>158.567782</td>\n",
       "    </tr>\n",
       "    <tr>\n",
       "      <th>48.0</th>\n",
       "      <td>4204</td>\n",
       "      <td>49.0</td>\n",
       "      <td>2677.646289</td>\n",
       "      <td>154.920314</td>\n",
       "    </tr>\n",
       "    <tr>\n",
       "      <th>20.0</th>\n",
       "      <td>1712</td>\n",
       "      <td>47.0</td>\n",
       "      <td>2747.074766</td>\n",
       "      <td>152.521028</td>\n",
       "    </tr>\n",
       "    <tr>\n",
       "      <th>0.0</th>\n",
       "      <td>1847</td>\n",
       "      <td>46.0</td>\n",
       "      <td>2863.350839</td>\n",
       "      <td>155.918787</td>\n",
       "    </tr>\n",
       "    <tr>\n",
       "      <th rowspan=\"9\" valign=\"top\">1</th>\n",
       "      <th>48.0</th>\n",
       "      <td>477</td>\n",
       "      <td>47.0</td>\n",
       "      <td>2867.400419</td>\n",
       "      <td>155.542977</td>\n",
       "    </tr>\n",
       "    <tr>\n",
       "      <th>31.0</th>\n",
       "      <td>197</td>\n",
       "      <td>44.0</td>\n",
       "      <td>2872.690355</td>\n",
       "      <td>149.609137</td>\n",
       "    </tr>\n",
       "    <tr>\n",
       "      <th>20.0</th>\n",
       "      <td>223</td>\n",
       "      <td>45.0</td>\n",
       "      <td>3047.044843</td>\n",
       "      <td>159.430493</td>\n",
       "    </tr>\n",
       "    <tr>\n",
       "      <th>1.0</th>\n",
       "      <td>109</td>\n",
       "      <td>45.0</td>\n",
       "      <td>3131.376147</td>\n",
       "      <td>157.889908</td>\n",
       "    </tr>\n",
       "    <tr>\n",
       "      <th>0.0</th>\n",
       "      <td>174</td>\n",
       "      <td>48.0</td>\n",
       "      <td>5002.798851</td>\n",
       "      <td>159.310345</td>\n",
       "    </tr>\n",
       "    <tr>\n",
       "      <th>44.0</th>\n",
       "      <td>33</td>\n",
       "      <td>36.0</td>\n",
       "      <td>21089.515152</td>\n",
       "      <td>176.363636</td>\n",
       "    </tr>\n",
       "    <tr>\n",
       "      <th>12.0</th>\n",
       "      <td>312</td>\n",
       "      <td>39.0</td>\n",
       "      <td>21878.336538</td>\n",
       "      <td>153.858974</td>\n",
       "    </tr>\n",
       "    <tr>\n",
       "      <th>16.0</th>\n",
       "      <td>134</td>\n",
       "      <td>34.5</td>\n",
       "      <td>21915.417910</td>\n",
       "      <td>152.791045</td>\n",
       "    </tr>\n",
       "    <tr>\n",
       "      <th>23.0</th>\n",
       "      <td>300</td>\n",
       "      <td>40.0</td>\n",
       "      <td>22702.416667</td>\n",
       "      <td>148.883333</td>\n",
       "    </tr>\n",
       "    <tr>\n",
       "      <th rowspan=\"3\" valign=\"top\">0</th>\n",
       "      <th>27.0</th>\n",
       "      <td>2614</td>\n",
       "      <td>25.0</td>\n",
       "      <td>22811.244836</td>\n",
       "      <td>151.763198</td>\n",
       "    </tr>\n",
       "    <tr>\n",
       "      <th>38.0</th>\n",
       "      <td>1637</td>\n",
       "      <td>44.0</td>\n",
       "      <td>23118.836286</td>\n",
       "      <td>156.795968</td>\n",
       "    </tr>\n",
       "    <tr>\n",
       "      <th>16.0</th>\n",
       "      <td>1873</td>\n",
       "      <td>25.0</td>\n",
       "      <td>23143.487987</td>\n",
       "      <td>156.119060</td>\n",
       "    </tr>\n",
       "    <tr>\n",
       "      <th rowspan=\"3\" valign=\"top\">1</th>\n",
       "      <th>3.0</th>\n",
       "      <td>1181</td>\n",
       "      <td>39.0</td>\n",
       "      <td>23189.732430</td>\n",
       "      <td>154.568163</td>\n",
       "    </tr>\n",
       "    <tr>\n",
       "      <th>30.0</th>\n",
       "      <td>900</td>\n",
       "      <td>35.0</td>\n",
       "      <td>23218.614444</td>\n",
       "      <td>156.186667</td>\n",
       "    </tr>\n",
       "    <tr>\n",
       "      <th>25.0</th>\n",
       "      <td>107</td>\n",
       "      <td>42.0</td>\n",
       "      <td>23259.392523</td>\n",
       "      <td>153.859813</td>\n",
       "    </tr>\n",
       "  </tbody>\n",
       "</table>\n",
       "</div>"
      ],
      "text/plain": [
       "                      quantity   Age       Premium     Vintage\n",
       "response region_code                                          \n",
       "0        1.0               899  45.0   2660.351502  154.545050\n",
       "         31.0             1763  43.0   2673.854793  158.567782\n",
       "         48.0             4204  49.0   2677.646289  154.920314\n",
       "         20.0             1712  47.0   2747.074766  152.521028\n",
       "         0.0              1847  46.0   2863.350839  155.918787\n",
       "1        48.0              477  47.0   2867.400419  155.542977\n",
       "         31.0              197  44.0   2872.690355  149.609137\n",
       "         20.0              223  45.0   3047.044843  159.430493\n",
       "         1.0               109  45.0   3131.376147  157.889908\n",
       "         0.0               174  48.0   5002.798851  159.310345\n",
       "         44.0               33  36.0  21089.515152  176.363636\n",
       "         12.0              312  39.0  21878.336538  153.858974\n",
       "         16.0              134  34.5  21915.417910  152.791045\n",
       "         23.0              300  40.0  22702.416667  148.883333\n",
       "0        27.0             2614  25.0  22811.244836  151.763198\n",
       "         38.0             1637  44.0  23118.836286  156.795968\n",
       "         16.0             1873  25.0  23143.487987  156.119060\n",
       "1        3.0              1181  39.0  23189.732430  154.568163\n",
       "         30.0              900  35.0  23218.614444  156.186667\n",
       "         25.0              107  42.0  23259.392523  153.859813"
      ]
     },
     "execution_count": 20,
     "metadata": {},
     "output_type": "execute_result"
    }
   ],
   "source": [
    "df4.groupby(['response', 'region_code']).agg(quantity= ('id', 'count'), Age= ('age', 'median'),Premium=('annual_premium', 'mean'), Vintage=('vintage', 'mean')).sort_values('Premium').head(20)\n"
   ]
  },
  {
   "cell_type": "markdown",
   "id": "stable-morrison",
   "metadata": {},
   "source": [
    "### 4.1.2. Numerical Variable"
   ]
  },
  {
   "cell_type": "code",
   "execution_count": 21,
   "id": "mobile-deposit",
   "metadata": {
    "ExecuteTime": {
     "end_time": "2021-07-29T23:17:20.139864Z",
     "start_time": "2021-07-29T23:17:17.959720Z"
    }
   },
   "outputs": [
    {
     "data": {
      "image/png": "[encoded data removed]",
      "text/plain": [
       "<Figure size 432x288 with 9 Axes>"
      ]
     },
     "metadata": {
      "needs_background": "light"
     },
     "output_type": "display_data"
    }
   ],
   "source": [
    "\n",
    "num_attributes.hist( bins=25 );"
   ]
  },
  {
   "cell_type": "code",
   "execution_count": 22,
   "id": "choice-structure",
   "metadata": {
    "ExecuteTime": {
     "end_time": "2021-07-29T23:17:20.159566Z",
     "start_time": "2021-07-29T23:17:20.139864Z"
    }
   },
   "outputs": [],
   "source": [
    "# PROFILE  \n",
    "\n",
    "#profile = ProfileReport( df4 )\n",
    "#profile.to_file( 'output_v2.html' )"
   ]
  },
  {
   "cell_type": "code",
   "execution_count": 23,
   "id": "stopped-proposition",
   "metadata": {
    "ExecuteTime": {
     "end_time": "2021-07-29T23:17:20.479487Z",
     "start_time": "2021-07-29T23:17:20.169529Z"
    }
   },
   "outputs": [
    {
     "data": {
      "image/png": "[encoded data removed]",
      "text/plain": [
       "<Figure size 576x288 with 1 Axes>"
      ]
     },
     "metadata": {
      "needs_background": "light"
     },
     "output_type": "display_data"
    }
   ],
   "source": [
    "# Age\n",
    "plt.subplots(figsize=(8, 4))\n",
    "sns.boxplot( x='response', y='age', data=df4 );"
   ]
  },
  {
   "cell_type": "code",
   "execution_count": 24,
   "id": "coordinated-following",
   "metadata": {
    "ExecuteTime": {
     "end_time": "2021-07-29T23:17:21.479678Z",
     "start_time": "2021-07-29T23:17:20.486544Z"
    },
    "cell_style": "split"
   },
   "outputs": [
    {
     "data": {
      "text/plain": [
       "<AxesSubplot:xlabel='age', ylabel='Count'>"
      ]
     },
     "execution_count": 24,
     "metadata": {},
     "output_type": "execute_result"
    },
    {
     "data": {
      "image/png": "[encoded data removed]",
      "text/plain": [
       "<Figure size 432x288 with 1 Axes>"
      ]
     },
     "metadata": {
      "needs_background": "light"
     },
     "output_type": "display_data"
    }
   ],
   "source": [
    "aux00 = df4.loc[df4['response'] == 0, 'age']\n",
    "sns.histplot( aux00 )"
   ]
  },
  {
   "cell_type": "code",
   "execution_count": 25,
   "id": "neither-stadium",
   "metadata": {
    "ExecuteTime": {
     "end_time": "2021-07-29T23:17:21.979528Z",
     "start_time": "2021-07-29T23:17:21.479678Z"
    },
    "cell_style": "split"
   },
   "outputs": [
    {
     "data": {
      "image/png": "[encoded data removed]",
      "text/plain": [
       "<Figure size 432x288 with 1 Axes>"
      ]
     },
     "metadata": {
      "needs_background": "light"
     },
     "output_type": "display_data"
    }
   ],
   "source": [
    "aux00 = df4.loc[df4['response'] == 1, 'age']\n",
    "sns.histplot( aux00 );"
   ]
  },
  {
   "cell_type": "code",
   "execution_count": 26,
   "id": "alpha-bolivia",
   "metadata": {
    "ExecuteTime": {
     "end_time": "2021-07-29T23:17:23.359552Z",
     "start_time": "2021-07-29T23:17:21.979528Z"
    }
   },
   "outputs": [
    {
     "data": {
      "image/png": "[encoded data removed]",
      "text/plain": [
       "<Figure size 1080x288 with 1 Axes>"
      ]
     },
     "metadata": {
      "needs_background": "light"
     },
     "output_type": "display_data"
    }
   ],
   "source": [
    "aux = df4[(df4['response'] == 1)]\n",
    "fig = plt.subplots(figsize = (15,4))\n",
    "sns.countplot(x = 'age', data = aux);"
   ]
  },
  {
   "cell_type": "code",
   "execution_count": 27,
   "id": "scheduled-evolution",
   "metadata": {
    "ExecuteTime": {
     "end_time": "2021-07-29T23:17:23.899750Z",
     "start_time": "2021-07-29T23:17:23.359552Z"
    }
   },
   "outputs": [
    {
     "data": {
      "image/png": "[encoded data removed]",
      "text/plain": [
       "<Figure size 432x288 with 1 Axes>"
      ]
     },
     "metadata": {
      "needs_background": "light"
     },
     "output_type": "display_data"
    }
   ],
   "source": [
    "more_equal_35 =df4.loc[(df4['age'] >= 35),:].groupby('response').count()['age'].reset_index().rename(columns={\"response\": \"response\", \"age\": \"more_than_35\"})\n",
    "less_than_35 = df4.loc[(df4['age'] < 35),:].groupby('response').count()['age'].reset_index()\n",
    "less_than_35.columns= ['response', 'less_than_35']\n",
    "age_aux = more_equal_35.merge(less_than_35, how='left', on='response')\n",
    "age_aux.plot.bar(rot=0);"
   ]
  },
  {
   "cell_type": "code",
   "execution_count": 28,
   "id": "handmade-opening",
   "metadata": {
    "ExecuteTime": {
     "end_time": "2021-07-29T23:17:25.419513Z",
     "start_time": "2021-07-29T23:17:23.899750Z"
    }
   },
   "outputs": [
    {
     "data": {
      "image/png": "[encoded data removed]",
      "text/plain": [
       "<Figure size 413.25x360 with 1 Axes>"
      ]
     },
     "metadata": {
      "needs_background": "light"
     },
     "output_type": "display_data"
    }
   ],
   "source": [
    "aux = df4.loc[df4['age'] >= 35, :]\n",
    "sns.displot(x= 'age',hue=\"response\", data= aux);"
   ]
  },
  {
   "cell_type": "markdown",
   "id": "competitive-affiliation",
   "metadata": {},
   "source": [
    "1. Older people ( more than 35 year old) are more likely to hire an insurance?\n",
    "**Yes, but the interest decreases after a certain age( 50th´s)**"
   ]
  },
  {
   "cell_type": "code",
   "execution_count": 29,
   "id": "sized-canon",
   "metadata": {
    "ExecuteTime": {
     "end_time": "2021-07-29T23:17:25.789566Z",
     "start_time": "2021-07-29T23:17:25.419513Z"
    }
   },
   "outputs": [
    {
     "data": {
      "image/png": "[encoded data removed]",
      "text/plain": [
       "<Figure size 576x288 with 1 Axes>"
      ]
     },
     "metadata": {
      "needs_background": "light"
     },
     "output_type": "display_data"
    }
   ],
   "source": [
    "# Annul income\n",
    "plt.subplots(figsize=(8, 4))\n",
    "sns.boxplot(x='response', y='annual_premium', data=df4);"
   ]
  },
  {
   "cell_type": "markdown",
   "id": "partial-clinic",
   "metadata": {},
   "source": [
    "- too many outliers, try to zoon it"
   ]
  },
  {
   "cell_type": "code",
   "execution_count": 30,
   "id": "naked-worship",
   "metadata": {
    "ExecuteTime": {
     "end_time": "2021-07-29T23:17:25.909401Z",
     "start_time": "2021-07-29T23:17:25.789566Z"
    }
   },
   "outputs": [],
   "source": [
    "df4 = df4[(df4['annual_premium'] > 10000) &(df4['annual_premium'] < 100000)]"
   ]
  },
  {
   "cell_type": "code",
   "execution_count": 31,
   "id": "nutritional-allocation",
   "metadata": {
    "ExecuteTime": {
     "end_time": "2021-07-29T23:17:27.159496Z",
     "start_time": "2021-07-29T23:17:25.909401Z"
    },
    "cell_style": "split"
   },
   "outputs": [
    {
     "data": {
      "image/png": "[encoded data removed]",
      "text/plain": [
       "<Figure size 432x288 with 1 Axes>"
      ]
     },
     "metadata": {
      "needs_background": "light"
     },
     "output_type": "display_data"
    }
   ],
   "source": [
    "aux00 = df4.loc[df4['response'] == 0, 'annual_premium']\n",
    "sns.histplot( aux00 );"
   ]
  },
  {
   "cell_type": "code",
   "execution_count": 32,
   "id": "blind-coast",
   "metadata": {
    "ExecuteTime": {
     "end_time": "2021-07-29T23:17:27.779254Z",
     "start_time": "2021-07-29T23:17:27.159496Z"
    },
    "cell_style": "split"
   },
   "outputs": [
    {
     "data": {
      "image/png": "[encoded data removed]",
      "text/plain": [
       "<Figure size 432x288 with 1 Axes>"
      ]
     },
     "metadata": {
      "needs_background": "light"
     },
     "output_type": "display_data"
    }
   ],
   "source": [
    "aux00 = df4.loc[df4['response'] == 1, 'annual_premium']\n",
    "sns.histplot( aux00 );"
   ]
  },
  {
   "cell_type": "code",
   "execution_count": 33,
   "id": "alone-rebound",
   "metadata": {
    "ExecuteTime": {
     "end_time": "2021-07-29T23:17:28.179692Z",
     "start_time": "2021-07-29T23:17:27.779254Z"
    },
    "cell_style": "split"
   },
   "outputs": [
    {
     "data": {
      "image/png": "[encoded data removed]",
      "text/plain": [
       "<Figure size 432x288 with 1 Axes>"
      ]
     },
     "metadata": {
      "needs_background": "light"
     },
     "output_type": "display_data"
    }
   ],
   "source": [
    "aux = df4.loc[(df4['annual_premium'] >= 30000), :]\n",
    "axes =aux.groupby('response').count()['annual_premium'].plot.bar(rot=0, subplots=True);\n",
    "axes[0].legend(loc=1)\n",
    "plt.title('Annual Premium more than $30.000');"
   ]
  },
  {
   "cell_type": "code",
   "execution_count": 34,
   "id": "divine-jerusalem",
   "metadata": {
    "ExecuteTime": {
     "end_time": "2021-07-29T23:17:28.819597Z",
     "start_time": "2021-07-29T23:17:28.179692Z"
    },
    "cell_style": "split"
   },
   "outputs": [
    {
     "data": {
      "image/png": "[encoded data removed]",
      "text/plain": [
       "<Figure size 432x288 with 1 Axes>"
      ]
     },
     "metadata": {
      "needs_background": "light"
     },
     "output_type": "display_data"
    }
   ],
   "source": [
    "aux2= df4.loc[(df4['annual_premium'] < 30000), :]\n",
    "axes =aux2.groupby('response').count()['annual_premium'].plot.bar(rot=0, subplots=True);\n",
    "axes[0].legend(loc=1)\n",
    "plt.title('Annual Premium less than $30.000');"
   ]
  },
  {
   "cell_type": "code",
   "execution_count": 35,
   "id": "understanding-engineering",
   "metadata": {
    "ExecuteTime": {
     "end_time": "2021-07-29T23:17:28.949624Z",
     "start_time": "2021-07-29T23:17:28.819597Z"
    },
    "cell_style": "split"
   },
   "outputs": [
    {
     "data": {
      "text/html": [
       "<div>\n",
       "<style scoped>\n",
       "    .dataframe tbody tr th:only-of-type {\n",
       "        vertical-align: middle;\n",
       "    }\n",
       "\n",
       "    .dataframe tbody tr th {\n",
       "        vertical-align: top;\n",
       "    }\n",
       "\n",
       "    .dataframe thead th {\n",
       "        text-align: right;\n",
       "    }\n",
       "</style>\n",
       "<table border=\"1\" class=\"dataframe\">\n",
       "  <thead>\n",
       "    <tr style=\"text-align: right;\">\n",
       "      <th></th>\n",
       "      <th>response</th>\n",
       "      <th>annual_premium</th>\n",
       "      <th>percent</th>\n",
       "    </tr>\n",
       "  </thead>\n",
       "  <tbody>\n",
       "    <tr>\n",
       "      <th>0</th>\n",
       "      <td>0</td>\n",
       "      <td>186213</td>\n",
       "      <td>0.869074</td>\n",
       "    </tr>\n",
       "    <tr>\n",
       "      <th>1</th>\n",
       "      <td>1</td>\n",
       "      <td>28053</td>\n",
       "      <td>0.130926</td>\n",
       "    </tr>\n",
       "  </tbody>\n",
       "</table>\n",
       "</div>"
      ],
      "text/plain": [
       "   response  annual_premium   percent\n",
       "0         0          186213  0.869074\n",
       "1         1           28053  0.130926"
      ]
     },
     "execution_count": 35,
     "metadata": {},
     "output_type": "execute_result"
    }
   ],
   "source": [
    "percent_more= aux.groupby('response').count()['annual_premium'].reset_index()\n",
    "soma= percent_more['annual_premium'].sum()\n",
    "percent_more['percent'] = percent_more['annual_premium'].apply(lambda x: x/soma)\n",
    "percent_more\n"
   ]
  },
  {
   "cell_type": "code",
   "execution_count": 36,
   "id": "changed-mailman",
   "metadata": {
    "ExecuteTime": {
     "end_time": "2021-07-29T23:17:29.049634Z",
     "start_time": "2021-07-29T23:17:28.949624Z"
    },
    "cell_style": "split"
   },
   "outputs": [
    {
     "data": {
      "text/html": [
       "<div>\n",
       "<style scoped>\n",
       "    .dataframe tbody tr th:only-of-type {\n",
       "        vertical-align: middle;\n",
       "    }\n",
       "\n",
       "    .dataframe tbody tr th {\n",
       "        vertical-align: top;\n",
       "    }\n",
       "\n",
       "    .dataframe thead th {\n",
       "        text-align: right;\n",
       "    }\n",
       "</style>\n",
       "<table border=\"1\" class=\"dataframe\">\n",
       "  <thead>\n",
       "    <tr style=\"text-align: right;\">\n",
       "      <th></th>\n",
       "      <th>response</th>\n",
       "      <th>annual_premium</th>\n",
       "      <th>percent</th>\n",
       "    </tr>\n",
       "  </thead>\n",
       "  <tbody>\n",
       "    <tr>\n",
       "      <th>0</th>\n",
       "      <td>0</td>\n",
       "      <td>91155</td>\n",
       "      <td>0.900892</td>\n",
       "    </tr>\n",
       "    <tr>\n",
       "      <th>1</th>\n",
       "      <td>1</td>\n",
       "      <td>10028</td>\n",
       "      <td>0.099108</td>\n",
       "    </tr>\n",
       "  </tbody>\n",
       "</table>\n",
       "</div>"
      ],
      "text/plain": [
       "   response  annual_premium   percent\n",
       "0         0           91155  0.900892\n",
       "1         1           10028  0.099108"
      ]
     },
     "execution_count": 36,
     "metadata": {},
     "output_type": "execute_result"
    }
   ],
   "source": [
    "percent_less= aux2.groupby('response').count()['annual_premium'].reset_index()\n",
    "soma_less= percent_less['annual_premium'].sum()\n",
    "percent_less['percent'] = percent_less['annual_premium'].apply(lambda x: x/soma_less)\n",
    "percent_less"
   ]
  },
  {
   "cell_type": "markdown",
   "id": "graduate-jesus",
   "metadata": {
    "ExecuteTime": {
     "end_time": "2021-07-27T01:18:05.540304Z",
     "start_time": "2021-07-27T01:18:05.509101Z"
    }
   },
   "source": [
    "2. annual premium $30.000 or more are more likely to take out insurance\n",
    "\n",
    "    Too many ouliers- solution: annual_premium greater than 10.000 and lower than 100000\n",
    "\n",
    "   **No, less than 4% difference between them**"
   ]
  },
  {
   "cell_type": "code",
   "execution_count": 37,
   "id": "composed-defensive",
   "metadata": {
    "ExecuteTime": {
     "end_time": "2021-07-29T23:17:29.649641Z",
     "start_time": "2021-07-29T23:17:29.054642Z"
    }
   },
   "outputs": [
    {
     "data": {
      "image/png": "[encoded data removed]",
      "text/plain": [
       "<Figure size 576x288 with 1 Axes>"
      ]
     },
     "metadata": {
      "needs_background": "light"
     },
     "output_type": "display_data"
    }
   ],
   "source": [
    "# driving license\n",
    "plt.subplots(figsize=(8, 4))\n",
    "aux = df4[['driving_license', 'response']].groupby( 'response' ).sum().reset_index()\n",
    "sns.barplot( x='response', y='driving_license', data=aux );\n"
   ]
  },
  {
   "cell_type": "code",
   "execution_count": 38,
   "id": "three-tuner",
   "metadata": {
    "ExecuteTime": {
     "end_time": "2021-07-29T23:17:30.419291Z",
     "start_time": "2021-07-29T23:17:29.649641Z"
    },
    "cell_style": "split"
   },
   "outputs": [
    {
     "data": {
      "text/plain": [
       "<AxesSubplot:xlabel='region_code', ylabel='id'>"
      ]
     },
     "execution_count": 38,
     "metadata": {},
     "output_type": "execute_result"
    },
    {
     "data": {
      "image/png": "[encoded data removed]",
      "text/plain": [
       "<Figure size 432x288 with 1 Axes>"
      ]
     },
     "metadata": {
      "needs_background": "light"
     },
     "output_type": "display_data"
    }
   ],
   "source": [
    "# region code\n",
    "aux0 = df4[['id', 'region_code', 'response']].groupby( ['region_code', 'response'] ).count().reset_index()\n",
    "sns.scatterplot( x='region_code', y='id', hue='response', data=aux0 )\n"
   ]
  },
  {
   "cell_type": "code",
   "execution_count": 39,
   "id": "agreed-boxing",
   "metadata": {
    "ExecuteTime": {
     "end_time": "2021-07-29T23:17:31.349289Z",
     "start_time": "2021-07-29T23:17:30.419291Z"
    },
    "cell_style": "split"
   },
   "outputs": [
    {
     "data": {
      "image/png": "[encoded data removed]",
      "text/plain": [
       "<Figure size 432x288 with 1 Axes>"
      ]
     },
     "metadata": {
      "needs_background": "light"
     },
     "output_type": "display_data"
    }
   ],
   "source": [
    "sns.histplot(df4['region_code']);"
   ]
  },
  {
   "cell_type": "code",
   "execution_count": 40,
   "id": "sorted-flavor",
   "metadata": {
    "ExecuteTime": {
     "end_time": "2021-07-29T23:17:31.449657Z",
     "start_time": "2021-07-29T23:17:31.349289Z"
    }
   },
   "outputs": [
    {
     "data": {
      "text/html": [
       "<div>\n",
       "<style scoped>\n",
       "    .dataframe tbody tr th:only-of-type {\n",
       "        vertical-align: middle;\n",
       "    }\n",
       "\n",
       "    .dataframe tbody tr th {\n",
       "        vertical-align: top;\n",
       "    }\n",
       "\n",
       "    .dataframe thead th {\n",
       "        text-align: right;\n",
       "    }\n",
       "</style>\n",
       "<table border=\"1\" class=\"dataframe\">\n",
       "  <thead>\n",
       "    <tr style=\"text-align: right;\">\n",
       "      <th></th>\n",
       "      <th>quantity</th>\n",
       "      <th>Age</th>\n",
       "      <th>Premium</th>\n",
       "      <th>Vintage</th>\n",
       "    </tr>\n",
       "    <tr>\n",
       "      <th>response</th>\n",
       "      <th></th>\n",
       "      <th></th>\n",
       "      <th></th>\n",
       "      <th></th>\n",
       "    </tr>\n",
       "  </thead>\n",
       "  <tbody>\n",
       "    <tr>\n",
       "      <th>0</th>\n",
       "      <td>78119</td>\n",
       "      <td>46</td>\n",
       "      <td>41685.096391</td>\n",
       "      <td>154.397368</td>\n",
       "    </tr>\n",
       "    <tr>\n",
       "      <th>1</th>\n",
       "      <td>18031</td>\n",
       "      <td>45</td>\n",
       "      <td>42016.139759</td>\n",
       "      <td>154.402363</td>\n",
       "    </tr>\n",
       "  </tbody>\n",
       "</table>\n",
       "</div>"
      ],
      "text/plain": [
       "          quantity  Age       Premium     Vintage\n",
       "response                                         \n",
       "0            78119   46  41685.096391  154.397368\n",
       "1            18031   45  42016.139759  154.402363"
      ]
     },
     "execution_count": 40,
     "metadata": {},
     "output_type": "execute_result"
    }
   ],
   "source": [
    "#region 28 represents 27.9% of the database\n",
    "df4.loc[df4['region_code'] == 28, :].groupby([  'response']).agg(quantity= ('id', 'count'),Age= ('age', 'median'),Premium=('annual_premium', 'mean'), Vintage=('vintage', 'mean')).sort_values('Premium')\n"
   ]
  },
  {
   "cell_type": "code",
   "execution_count": 41,
   "id": "cardiovascular-groove",
   "metadata": {
    "ExecuteTime": {
     "end_time": "2021-07-29T23:17:31.549647Z",
     "start_time": "2021-07-29T23:17:31.454665Z"
    }
   },
   "outputs": [
    {
     "data": {
      "text/html": [
       "<div>\n",
       "<style scoped>\n",
       "    .dataframe tbody tr th:only-of-type {\n",
       "        vertical-align: middle;\n",
       "    }\n",
       "\n",
       "    .dataframe tbody tr th {\n",
       "        vertical-align: top;\n",
       "    }\n",
       "\n",
       "    .dataframe thead th {\n",
       "        text-align: right;\n",
       "    }\n",
       "</style>\n",
       "<table border=\"1\" class=\"dataframe\">\n",
       "  <thead>\n",
       "    <tr style=\"text-align: right;\">\n",
       "      <th></th>\n",
       "      <th>quantity</th>\n",
       "      <th>Age</th>\n",
       "      <th>Premium</th>\n",
       "      <th>Vintage</th>\n",
       "    </tr>\n",
       "    <tr>\n",
       "      <th>response</th>\n",
       "      <th></th>\n",
       "      <th></th>\n",
       "      <th></th>\n",
       "      <th></th>\n",
       "    </tr>\n",
       "  </thead>\n",
       "  <tbody>\n",
       "    <tr>\n",
       "      <th>1</th>\n",
       "      <td>2724</td>\n",
       "      <td>45</td>\n",
       "      <td>40541.461821</td>\n",
       "      <td>153.109765</td>\n",
       "    </tr>\n",
       "    <tr>\n",
       "      <th>0</th>\n",
       "      <td>27034</td>\n",
       "      <td>30</td>\n",
       "      <td>40771.045461</td>\n",
       "      <td>154.918584</td>\n",
       "    </tr>\n",
       "  </tbody>\n",
       "</table>\n",
       "</div>"
      ],
      "text/plain": [
       "          quantity  Age       Premium     Vintage\n",
       "response                                         \n",
       "1             2724   45  40541.461821  153.109765\n",
       "0            27034   30  40771.045461  154.918584"
      ]
     },
     "execution_count": 41,
     "metadata": {},
     "output_type": "execute_result"
    }
   ],
   "source": [
    "df4.loc[df4['region_code'] == 8, :].groupby([  'response']).agg(quantity= ('id', 'count'),Age= ('age', 'median'),Premium=('annual_premium', 'mean'), Vintage=('vintage', 'mean')).sort_values('Premium')\n"
   ]
  },
  {
   "cell_type": "code",
   "execution_count": 42,
   "id": "junior-assurance",
   "metadata": {
    "ExecuteTime": {
     "end_time": "2021-07-29T23:17:32.929643Z",
     "start_time": "2021-07-29T23:17:31.554656Z"
    }
   },
   "outputs": [
    {
     "data": {
      "image/png": "[encoded data removed]",
      "text/plain": [
       "<Figure size 1080x288 with 1 Axes>"
      ]
     },
     "metadata": {
      "needs_background": "light"
     },
     "output_type": "display_data"
    }
   ],
   "source": [
    "aux = df4[(df4['region_code'] != 28)& (df4['region_code'] != 8) & (df4['response'] == 1)]\n",
    "fig = plt.subplots(figsize = (15,4))\n",
    "sns.countplot(x = 'region_code', data = aux);"
   ]
  },
  {
   "cell_type": "code",
   "execution_count": null,
   "id": "advised-berlin",
   "metadata": {},
   "outputs": [],
   "source": []
  },
  {
   "cell_type": "code",
   "execution_count": 43,
   "id": "isolated-fetish",
   "metadata": {
    "ExecuteTime": {
     "end_time": "2021-07-29T23:17:33.069572Z",
     "start_time": "2021-07-29T23:17:32.929643Z"
    }
   },
   "outputs": [
    {
     "data": {
      "text/html": [
       "<div>\n",
       "<style scoped>\n",
       "    .dataframe tbody tr th:only-of-type {\n",
       "        vertical-align: middle;\n",
       "    }\n",
       "\n",
       "    .dataframe tbody tr th {\n",
       "        vertical-align: top;\n",
       "    }\n",
       "\n",
       "    .dataframe thead th {\n",
       "        text-align: right;\n",
       "    }\n",
       "</style>\n",
       "<table border=\"1\" class=\"dataframe\">\n",
       "  <thead>\n",
       "    <tr style=\"text-align: right;\">\n",
       "      <th>response</th>\n",
       "      <th>0</th>\n",
       "      <th>1</th>\n",
       "    </tr>\n",
       "    <tr>\n",
       "      <th>previously_insured</th>\n",
       "      <th></th>\n",
       "      <th></th>\n",
       "    </tr>\n",
       "  </thead>\n",
       "  <tbody>\n",
       "    <tr>\n",
       "      <th>0</th>\n",
       "      <td>0.769438</td>\n",
       "      <td>0.230562</td>\n",
       "    </tr>\n",
       "    <tr>\n",
       "      <th>1</th>\n",
       "      <td>0.999191</td>\n",
       "      <td>0.000809</td>\n",
       "    </tr>\n",
       "  </tbody>\n",
       "</table>\n",
       "</div>"
      ],
      "text/plain": [
       "response                   0         1\n",
       "previously_insured                    \n",
       "0                   0.769438  0.230562\n",
       "1                   0.999191  0.000809"
      ]
     },
     "execution_count": 43,
     "metadata": {},
     "output_type": "execute_result"
    }
   ],
   "source": [
    "# Previous insured\n",
    "pd.crosstab(df4['previously_insured'], df4['response'] ).apply( lambda x: x / x.sum(), axis=1 )"
   ]
  },
  {
   "cell_type": "markdown",
   "id": "underlying-setting",
   "metadata": {},
   "source": [
    "- 99% of one condition, may generate viés "
   ]
  },
  {
   "cell_type": "code",
   "execution_count": 44,
   "id": "surprising-timeline",
   "metadata": {
    "ExecuteTime": {
     "end_time": "2021-07-29T23:17:33.089368Z",
     "start_time": "2021-07-29T23:17:33.069572Z"
    }
   },
   "outputs": [
    {
     "data": {
      "text/plain": [
       "array([1, 0], dtype=int64)"
      ]
     },
     "execution_count": 44,
     "metadata": {},
     "output_type": "execute_result"
    }
   ],
   "source": [
    "df4['vehicle_damage'].unique()"
   ]
  },
  {
   "cell_type": "code",
   "execution_count": 45,
   "id": "under-cardiff",
   "metadata": {
    "ExecuteTime": {
     "end_time": "2021-07-29T23:17:36.079674Z",
     "start_time": "2021-07-29T23:17:33.089368Z"
    }
   },
   "outputs": [
    {
     "data": {
      "image/png": "[encoded data removed]",
      "text/plain": [
       "<Figure size 1728x864 with 1 Axes>"
      ]
     },
     "metadata": {
      "needs_background": "light"
     },
     "output_type": "display_data"
    }
   ],
   "source": [
    "#'policy_sales_channel'\n",
    "plt.figure( figsize=(24, 12 ))\n",
    "aux = df4[['policy_sales_channel', 'response']].groupby( 'policy_sales_channel').sum().reset_index()\n",
    "sns.barplot( x='response', y='policy_sales_channel', data=aux );"
   ]
  },
  {
   "cell_type": "markdown",
   "id": "productive-threshold",
   "metadata": {},
   "source": [
    "3. The more sales channel, more is the probability to response to an insurance proposal\n",
    "\n",
    "    **NO**"
   ]
  },
  {
   "cell_type": "markdown",
   "id": "induced-blackberry",
   "metadata": {},
   "source": [
    "### 4.1.3. Categorical Variable"
   ]
  },
  {
   "cell_type": "code",
   "execution_count": 46,
   "id": "greenhouse-chicken",
   "metadata": {
    "ExecuteTime": {
     "end_time": "2021-07-29T23:17:37.149493Z",
     "start_time": "2021-07-29T23:17:36.079674Z"
    }
   },
   "outputs": [
    {
     "data": {
      "text/plain": [
       "<AxesSubplot:xlabel='vehicle_age', ylabel='count'>"
      ]
     },
     "execution_count": 46,
     "metadata": {},
     "output_type": "execute_result"
    },
    {
     "data": {
      "image/png": "[encoded data removed]",
      "text/plain": [
       "<Figure size 1152x864 with 2 Axes>"
      ]
     },
     "metadata": {
      "needs_background": "light"
     },
     "output_type": "display_data"
    }
   ],
   "source": [
    "#gender vehicle_age vehicle_damage\n",
    "\n",
    "plt.figure( figsize=(16, 12 ))\n",
    "# Gender\n",
    "\n",
    "plt.subplot( 2, 2, 1 )\n",
    "sns.countplot( df4['gender'] );\n",
    "\n",
    "plt.subplot( 2, 2, 2 )\n",
    "\n",
    "# Vehicle_age\n",
    "\n",
    "sns.countplot( df4['vehicle_age'] )\n",
    "\n",
    "\n",
    "\n"
   ]
  },
  {
   "cell_type": "code",
   "execution_count": 47,
   "id": "relevant-polyester",
   "metadata": {
    "ExecuteTime": {
     "end_time": "2021-07-29T23:17:37.289480Z",
     "start_time": "2021-07-29T23:17:37.149493Z"
    }
   },
   "outputs": [
    {
     "data": {
      "text/html": [
       "<div>\n",
       "<style scoped>\n",
       "    .dataframe tbody tr th:only-of-type {\n",
       "        vertical-align: middle;\n",
       "    }\n",
       "\n",
       "    .dataframe tbody tr th {\n",
       "        vertical-align: top;\n",
       "    }\n",
       "\n",
       "    .dataframe thead th {\n",
       "        text-align: right;\n",
       "    }\n",
       "</style>\n",
       "<table border=\"1\" class=\"dataframe\">\n",
       "  <thead>\n",
       "    <tr style=\"text-align: right;\">\n",
       "      <th></th>\n",
       "      <th></th>\n",
       "      <th>Quantity</th>\n",
       "    </tr>\n",
       "    <tr>\n",
       "      <th>response</th>\n",
       "      <th>gender</th>\n",
       "      <th></th>\n",
       "    </tr>\n",
       "  </thead>\n",
       "  <tbody>\n",
       "    <tr>\n",
       "      <th rowspan=\"2\" valign=\"top\">0</th>\n",
       "      <th>Female</th>\n",
       "      <td>131981</td>\n",
       "    </tr>\n",
       "    <tr>\n",
       "      <th>Male</th>\n",
       "      <td>145387</td>\n",
       "    </tr>\n",
       "    <tr>\n",
       "      <th rowspan=\"2\" valign=\"top\">1</th>\n",
       "      <th>Female</th>\n",
       "      <td>14734</td>\n",
       "    </tr>\n",
       "    <tr>\n",
       "      <th>Male</th>\n",
       "      <td>23347</td>\n",
       "    </tr>\n",
       "  </tbody>\n",
       "</table>\n",
       "</div>"
      ],
      "text/plain": [
       "                 Quantity\n",
       "response gender          \n",
       "0        Female    131981\n",
       "         Male      145387\n",
       "1        Female     14734\n",
       "         Male       23347"
      ]
     },
     "execution_count": 47,
     "metadata": {},
     "output_type": "execute_result"
    }
   ],
   "source": [
    "df4.groupby(['response', 'gender']).agg(Quantity=('gender', 'count'))"
   ]
  },
  {
   "cell_type": "markdown",
   "id": "cardiac-journalism",
   "metadata": {},
   "source": [
    "4. Women are more likely to contract an insurance than men?\n",
    "\n",
    "    **NO, men are more likely**\n"
   ]
  },
  {
   "cell_type": "code",
   "execution_count": 48,
   "id": "found-sound",
   "metadata": {
    "ExecuteTime": {
     "end_time": "2021-07-29T23:17:37.429549Z",
     "start_time": "2021-07-29T23:17:37.289480Z"
    }
   },
   "outputs": [
    {
     "data": {
      "text/html": [
       "<div>\n",
       "<style scoped>\n",
       "    .dataframe tbody tr th:only-of-type {\n",
       "        vertical-align: middle;\n",
       "    }\n",
       "\n",
       "    .dataframe tbody tr th {\n",
       "        vertical-align: top;\n",
       "    }\n",
       "\n",
       "    .dataframe thead th {\n",
       "        text-align: right;\n",
       "    }\n",
       "</style>\n",
       "<table border=\"1\" class=\"dataframe\">\n",
       "  <thead>\n",
       "    <tr style=\"text-align: right;\">\n",
       "      <th></th>\n",
       "      <th>vehicle_age</th>\n",
       "      <th>response</th>\n",
       "      <th>id</th>\n",
       "    </tr>\n",
       "  </thead>\n",
       "  <tbody>\n",
       "    <tr>\n",
       "      <th>0</th>\n",
       "      <td>below_1_year</td>\n",
       "      <td>0</td>\n",
       "      <td>137861</td>\n",
       "    </tr>\n",
       "    <tr>\n",
       "      <th>1</th>\n",
       "      <td>below_1_year</td>\n",
       "      <td>1</td>\n",
       "      <td>5994</td>\n",
       "    </tr>\n",
       "    <tr>\n",
       "      <th>2</th>\n",
       "      <td>between_1_2_year</td>\n",
       "      <td>0</td>\n",
       "      <td>130381</td>\n",
       "    </tr>\n",
       "    <tr>\n",
       "      <th>3</th>\n",
       "      <td>between_1_2_year</td>\n",
       "      <td>1</td>\n",
       "      <td>28017</td>\n",
       "    </tr>\n",
       "    <tr>\n",
       "      <th>4</th>\n",
       "      <td>over_2_years</td>\n",
       "      <td>0</td>\n",
       "      <td>9126</td>\n",
       "    </tr>\n",
       "    <tr>\n",
       "      <th>5</th>\n",
       "      <td>over_2_years</td>\n",
       "      <td>1</td>\n",
       "      <td>4070</td>\n",
       "    </tr>\n",
       "  </tbody>\n",
       "</table>\n",
       "</div>"
      ],
      "text/plain": [
       "        vehicle_age  response      id\n",
       "0      below_1_year         0  137861\n",
       "1      below_1_year         1    5994\n",
       "2  between_1_2_year         0  130381\n",
       "3  between_1_2_year         1   28017\n",
       "4      over_2_years         0    9126\n",
       "5      over_2_years         1    4070"
      ]
     },
     "execution_count": 48,
     "metadata": {},
     "output_type": "execute_result"
    }
   ],
   "source": [
    "# vehicle_age\n",
    "df4[['id','vehicle_age', 'response']].groupby( ['vehicle_age', 'response'] ).count().reset_index()"
   ]
  },
  {
   "cell_type": "code",
   "execution_count": 49,
   "id": "choice-paris",
   "metadata": {
    "ExecuteTime": {
     "end_time": "2021-07-29T23:17:37.899321Z",
     "start_time": "2021-07-29T23:17:37.429549Z"
    }
   },
   "outputs": [
    {
     "data": {
      "image/png": "[encoded data removed]",
      "text/plain": [
       "<Figure size 720x432 with 1 Axes>"
      ]
     },
     "metadata": {},
     "output_type": "display_data"
    }
   ],
   "source": [
    "plt.figure( figsize=(10, 6 ))\n",
    "\n",
    "# vehicle damage\n",
    "a=df4.groupby('response').count()[['vehicle_damage']].reset_index()\n",
    "plt.pie(a['vehicle_damage'], labels =a['response'], autopct=\"%.1f%%\");\n",
    "plt.legend(title = \"response\");\n",
    "plt.title('Vehicle Damage');\n",
    "\n"
   ]
  },
  {
   "cell_type": "code",
   "execution_count": 50,
   "id": "burning-explanation",
   "metadata": {
    "ExecuteTime": {
     "end_time": "2021-07-29T23:17:38.299573Z",
     "start_time": "2021-07-29T23:17:37.899321Z"
    }
   },
   "outputs": [
    {
     "data": {
      "image/png": "[encoded data removed]",
      "text/plain": [
       "<Figure size 1080x288 with 1 Axes>"
      ]
     },
     "metadata": {
      "needs_background": "light"
     },
     "output_type": "display_data"
    }
   ],
   "source": [
    "fig, axs = plt.subplots(figsize = (15,4))\n",
    "sns.countplot(x = df4['vehicle_damage'], hue = df4['response']);"
   ]
  },
  {
   "cell_type": "markdown",
   "id": "minute-fiber",
   "metadata": {},
   "source": [
    "5. People who have the vehicle damage are more likely to hire an insurance?\n",
    "\n",
    "    **Yes, comparing to people who has never had the veiche damaged**"
   ]
  },
  {
   "cell_type": "code",
   "execution_count": null,
   "id": "apart-figure",
   "metadata": {},
   "outputs": [],
   "source": []
  },
  {
   "cell_type": "markdown",
   "id": "white-sound",
   "metadata": {},
   "source": [
    "# 5.0. Data Preparation"
   ]
  },
  {
   "cell_type": "code",
   "execution_count": 51,
   "id": "modular-federation",
   "metadata": {
    "ExecuteTime": {
     "end_time": "2021-07-29T23:17:38.339768Z",
     "start_time": "2021-07-29T23:17:38.299573Z"
    }
   },
   "outputs": [],
   "source": [
    "df5 = df4.copy()"
   ]
  },
  {
   "cell_type": "code",
   "execution_count": 52,
   "id": "identified-chambers",
   "metadata": {
    "ExecuteTime": {
     "end_time": "2021-07-29T23:17:38.654396Z",
     "start_time": "2021-07-29T23:17:38.339768Z"
    }
   },
   "outputs": [],
   "source": [
    "X = df4.drop( 'response', axis=1 )\n",
    "y = df4['response'].copy() \n",
    "\n",
    "x_train, x_validation, y_train, y_validation = ms.train_test_split( X, y, test_size=0.20 )\n",
    "\n",
    "df5 = pd.concat( [x_train, y_train], axis=1 )"
   ]
  },
  {
   "cell_type": "markdown",
   "id": "entitled-compound",
   "metadata": {},
   "source": [
    "## 5.1. Standardization"
   ]
  },
  {
   "cell_type": "code",
   "execution_count": 53,
   "id": "comfortable-donor",
   "metadata": {
    "ExecuteTime": {
     "end_time": "2021-07-29T23:17:38.774485Z",
     "start_time": "2021-07-29T23:17:38.654396Z"
    }
   },
   "outputs": [],
   "source": [
    "ss = pp.StandardScaler()\n",
    "\n",
    "# annual_premium\n",
    "df5['annual_premium'] = ss.fit_transform( df5[['annual_premium']].values )"
   ]
  },
  {
   "cell_type": "markdown",
   "id": "bronze-publisher",
   "metadata": {},
   "source": [
    "## 5.2. Rescaling"
   ]
  },
  {
   "cell_type": "code",
   "execution_count": 54,
   "id": "spread-monte",
   "metadata": {
    "ExecuteTime": {
     "end_time": "2021-07-29T23:17:38.889568Z",
     "start_time": "2021-07-29T23:17:38.779521Z"
    }
   },
   "outputs": [],
   "source": [
    "mms_age = pp.MinMaxScaler()\n",
    "mms_vintage = pp.MinMaxScaler()\n",
    "\n",
    "# Age\n",
    "df5['age'] = mms_age.fit_transform( df5[['age']].values )\n",
    "\n",
    "# vintage\n",
    "df5['vintage'] = mms_vintage.fit_transform( df5[['vintage']].values )"
   ]
  },
  {
   "cell_type": "markdown",
   "id": "executive-netherlands",
   "metadata": {},
   "source": [
    "### 5.3.1. Encoding"
   ]
  },
  {
   "cell_type": "markdown",
   "id": "plain-trail",
   "metadata": {},
   "source": [
    "## Encoder"
   ]
  },
  {
   "cell_type": "code",
   "execution_count": 55,
   "id": "conservative-stability",
   "metadata": {
    "ExecuteTime": {
     "end_time": "2021-07-29T23:17:39.409651Z",
     "start_time": "2021-07-29T23:17:38.889568Z"
    }
   },
   "outputs": [],
   "source": [
    "# gender - One Hot Encoding / Target Encoding\n",
    "\n",
    "encoder_gender =TargetEncoder()\n",
    "df5['gender'] = encoder_gender.fit_transform(df5['gender'], df5['response'])\n",
    "\n",
    "# region_code - Target Encoding / Frequency Encoding\n",
    "target_encode_region_code = df5.groupby( 'region_code' )['response'].mean()\n",
    "df5.loc[:, 'region_code'] = df5['region_code'].map( target_encode_region_code )\n",
    "\n",
    "\n",
    "## vehicle_age - One Hot Encoding / Frequency Encoding\n",
    "df5 = pd.get_dummies( df5, prefix='vehicle_age', columns=['vehicle_age'] )\n",
    "\n",
    "## policy_sales_channel - Target Encoding / Frequency Encoding\n",
    "fe_policy_sales_channel = df5.groupby( 'policy_sales_channel' ).size() / len( df5 ) \n",
    "df5.loc[:, 'policy_sales_channel'] = df5['policy_sales_channel'].map( fe_policy_sales_channel )"
   ]
  },
  {
   "cell_type": "markdown",
   "id": "dimensional-denver",
   "metadata": {},
   "source": [
    "## 5.4. Validation Preparation"
   ]
  },
  {
   "cell_type": "code",
   "execution_count": 56,
   "id": "convenient-front",
   "metadata": {
    "ExecuteTime": {
     "end_time": "2021-07-29T23:17:39.624319Z",
     "start_time": "2021-07-29T23:17:39.417257Z"
    }
   },
   "outputs": [],
   "source": [
    "# gender\n",
    "x_validation.loc[:, 'gender'] =  encoder_gender.transform(x_validation[['gender']], y=None )\n",
    "\n",
    "# age\n",
    "x_validation.loc[:, 'age'] = mms_age.transform( x_validation[['age']].values )\n",
    "\n",
    "# region_code\n",
    "x_validation.loc[:, 'region_code'] = x_validation.loc[:, 'region_code'].map( target_encode_region_code )\n",
    "\n",
    "# vehicle_age\n",
    "x_validation = pd.get_dummies( x_validation, prefix='vehicle_age', columns=['vehicle_age'] )\n",
    "\n",
    "# annual_premium\n",
    "x_validation.loc[:, 'annual_premium'] = ss.transform( x_validation[['annual_premium']].values )\n",
    "\n",
    "# policy_sales_channel\n",
    "x_validation.loc[:, 'policy_sales_channel'] = x_validation['policy_sales_channel'].map( fe_policy_sales_channel )\n",
    "\n",
    "# vintage\n",
    "x_validation.loc[:, 'vintage'] = mms_vintage.transform( x_validation[['vintage']].values )\n",
    "\n",
    "# fillna\n",
    "x_validation = x_validation.fillna( 0 )"
   ]
  },
  {
   "cell_type": "code",
   "execution_count": 57,
   "id": "adapted-guidance",
   "metadata": {
    "ExecuteTime": {
     "end_time": "2021-07-29T23:17:39.669603Z",
     "start_time": "2021-07-29T23:17:39.624319Z"
    }
   },
   "outputs": [
    {
     "data": {
      "text/html": [
       "<div>\n",
       "<style scoped>\n",
       "    .dataframe tbody tr th:only-of-type {\n",
       "        vertical-align: middle;\n",
       "    }\n",
       "\n",
       "    .dataframe tbody tr th {\n",
       "        vertical-align: top;\n",
       "    }\n",
       "\n",
       "    .dataframe thead th {\n",
       "        text-align: right;\n",
       "    }\n",
       "</style>\n",
       "<table border=\"1\" class=\"dataframe\">\n",
       "  <thead>\n",
       "    <tr style=\"text-align: right;\">\n",
       "      <th></th>\n",
       "      <th>id</th>\n",
       "      <th>gender</th>\n",
       "      <th>age</th>\n",
       "      <th>driving_license</th>\n",
       "      <th>region_code</th>\n",
       "      <th>previously_insured</th>\n",
       "      <th>vehicle_damage</th>\n",
       "      <th>annual_premium</th>\n",
       "      <th>policy_sales_channel</th>\n",
       "      <th>vintage</th>\n",
       "      <th>response</th>\n",
       "      <th>vehicle_age_below_1_year</th>\n",
       "      <th>vehicle_age_between_1_2_year</th>\n",
       "      <th>vehicle_age_over_2_years</th>\n",
       "    </tr>\n",
       "  </thead>\n",
       "  <tbody>\n",
       "    <tr>\n",
       "      <th>112928</th>\n",
       "      <td>112929</td>\n",
       "      <td>0.138743</td>\n",
       "      <td>0.153846</td>\n",
       "      <td>1</td>\n",
       "      <td>0.075190</td>\n",
       "      <td>1</td>\n",
       "      <td>0</td>\n",
       "      <td>0.277429</td>\n",
       "      <td>0.386251</td>\n",
       "      <td>0.553633</td>\n",
       "      <td>0</td>\n",
       "      <td>1</td>\n",
       "      <td>0</td>\n",
       "      <td>0</td>\n",
       "    </tr>\n",
       "    <tr>\n",
       "      <th>348883</th>\n",
       "      <td>348884</td>\n",
       "      <td>0.138743</td>\n",
       "      <td>0.507692</td>\n",
       "      <td>1</td>\n",
       "      <td>0.187291</td>\n",
       "      <td>0</td>\n",
       "      <td>1</td>\n",
       "      <td>-0.246861</td>\n",
       "      <td>0.196633</td>\n",
       "      <td>0.733564</td>\n",
       "      <td>0</td>\n",
       "      <td>0</td>\n",
       "      <td>1</td>\n",
       "      <td>0</td>\n",
       "    </tr>\n",
       "    <tr>\n",
       "      <th>147545</th>\n",
       "      <td>147546</td>\n",
       "      <td>0.138743</td>\n",
       "      <td>0.584615</td>\n",
       "      <td>1</td>\n",
       "      <td>0.187291</td>\n",
       "      <td>0</td>\n",
       "      <td>1</td>\n",
       "      <td>2.059650</td>\n",
       "      <td>0.212614</td>\n",
       "      <td>0.653979</td>\n",
       "      <td>0</td>\n",
       "      <td>0</td>\n",
       "      <td>1</td>\n",
       "      <td>0</td>\n",
       "    </tr>\n",
       "    <tr>\n",
       "      <th>235629</th>\n",
       "      <td>235630</td>\n",
       "      <td>0.100252</td>\n",
       "      <td>0.846154</td>\n",
       "      <td>1</td>\n",
       "      <td>0.187291</td>\n",
       "      <td>0</td>\n",
       "      <td>1</td>\n",
       "      <td>-0.159509</td>\n",
       "      <td>0.212614</td>\n",
       "      <td>0.820069</td>\n",
       "      <td>0</td>\n",
       "      <td>0</td>\n",
       "      <td>1</td>\n",
       "      <td>0</td>\n",
       "    </tr>\n",
       "    <tr>\n",
       "      <th>7274</th>\n",
       "      <td>7275</td>\n",
       "      <td>0.138743</td>\n",
       "      <td>0.153846</td>\n",
       "      <td>1</td>\n",
       "      <td>0.071589</td>\n",
       "      <td>1</td>\n",
       "      <td>0</td>\n",
       "      <td>-0.895156</td>\n",
       "      <td>0.386251</td>\n",
       "      <td>0.740484</td>\n",
       "      <td>0</td>\n",
       "      <td>1</td>\n",
       "      <td>0</td>\n",
       "      <td>0</td>\n",
       "    </tr>\n",
       "  </tbody>\n",
       "</table>\n",
       "</div>"
      ],
      "text/plain": [
       "            id    gender       age  driving_license  region_code  \\\n",
       "112928  112929  0.138743  0.153846                1     0.075190   \n",
       "348883  348884  0.138743  0.507692                1     0.187291   \n",
       "147545  147546  0.138743  0.584615                1     0.187291   \n",
       "235629  235630  0.100252  0.846154                1     0.187291   \n",
       "7274      7275  0.138743  0.153846                1     0.071589   \n",
       "\n",
       "        previously_insured  vehicle_damage  annual_premium  \\\n",
       "112928                   1               0        0.277429   \n",
       "348883                   0               1       -0.246861   \n",
       "147545                   0               1        2.059650   \n",
       "235629                   0               1       -0.159509   \n",
       "7274                     1               0       -0.895156   \n",
       "\n",
       "        policy_sales_channel   vintage  response  vehicle_age_below_1_year  \\\n",
       "112928              0.386251  0.553633         0                         1   \n",
       "348883              0.196633  0.733564         0                         0   \n",
       "147545              0.212614  0.653979         0                         0   \n",
       "235629              0.212614  0.820069         0                         0   \n",
       "7274                0.386251  0.740484         0                         1   \n",
       "\n",
       "        vehicle_age_between_1_2_year  vehicle_age_over_2_years  \n",
       "112928                             0                         0  \n",
       "348883                             1                         0  \n",
       "147545                             1                         0  \n",
       "235629                             1                         0  \n",
       "7274                               0                         0  "
      ]
     },
     "execution_count": 57,
     "metadata": {},
     "output_type": "execute_result"
    }
   ],
   "source": [
    "df5.head()"
   ]
  },
  {
   "cell_type": "markdown",
   "id": "mysterious-administrator",
   "metadata": {},
   "source": [
    "# 6.0. Feature Selection"
   ]
  },
  {
   "cell_type": "code",
   "execution_count": 58,
   "id": "developing-baker",
   "metadata": {
    "ExecuteTime": {
     "end_time": "2021-07-29T23:17:39.709348Z",
     "start_time": "2021-07-29T23:17:39.669603Z"
    }
   },
   "outputs": [],
   "source": [
    "df6 = df5.copy()"
   ]
  },
  {
   "cell_type": "markdown",
   "id": "suited-scheduling",
   "metadata": {},
   "source": [
    "## 6.1. Boruta Algorithm"
   ]
  },
  {
   "cell_type": "code",
   "execution_count": 59,
   "id": "tribal-perry",
   "metadata": {
    "ExecuteTime": {
     "end_time": "2021-07-29T23:17:39.724462Z",
     "start_time": "2021-07-29T23:17:39.709348Z"
    }
   },
   "outputs": [],
   "source": [
    "## training and test dataset for Boruta\n",
    "#x_train_b = df6.drop(['id', 'response'], axis = 1).values\n",
    "#y_train_b = y_train.values.ravel()\n",
    "#\n",
    "#\n",
    "## define RandomForestRegressor\n",
    "#rf = RandomForestClassifier(n_jobs=-1, class_weight='balanced', max_depth=5)\n",
    "#\n",
    "## define Boruta feature selection method\n",
    "#boruta_feat_selector = BorutaPy(rf, n_estimators='auto', verbose=2, random_state=42).fit( x_train_b,y_train_b )\n",
    "#\n",
    "## find all relevant features\n",
    "#boruta_feat_selector.fit(x_train_b,y_train_b )\n",
    "#\n",
    "## check ranking of features\n",
    "#boruta_feat_selector.ranking_"
   ]
  },
  {
   "cell_type": "code",
   "execution_count": 60,
   "id": "hawaiian-soviet",
   "metadata": {
    "ExecuteTime": {
     "end_time": "2021-07-29T23:17:39.739730Z",
     "start_time": "2021-07-29T23:17:39.729494Z"
    }
   },
   "outputs": [],
   "source": [
    "#cols_selected = boruta_feat_selector.support_.tolist()\n",
    "#\n",
    "##colunas selecionadas\n",
    "#x_train_fs = df6.drop(['id', 'response'], axis = 1)\n",
    "#cols_selected_boruta = x_train_fs.iloc[:, cols_selected].columns.to_list()\n",
    "#\n",
    "##colunas não selecionadas\n",
    "#cols_not_selected_boruta = list(np.setdiff1d(x_train_fs.columns,cols_selected_boruta))\n",
    "#\n",
    "#print(\"BorutaSelected Column: \\n\",cols_selected_boruta )\n",
    "#\n",
    "#\n",
    "#print(\"Boruta NOT Selected Column:\", cols_not_selected_boruta )\n"
   ]
  },
  {
   "cell_type": "markdown",
   "id": "cellular-resort",
   "metadata": {},
   "source": [
    "## 6.2. Feature Importance"
   ]
  },
  {
   "cell_type": "code",
   "execution_count": 61,
   "id": "gross-sapphire",
   "metadata": {
    "ExecuteTime": {
     "end_time": "2021-07-29T23:19:21.629731Z",
     "start_time": "2021-07-29T23:17:39.744738Z"
    }
   },
   "outputs": [
    {
     "data": {
      "text/plain": [
       "ExtraTreesClassifier(bootstrap=False, ccp_alpha=0.0, class_weight=None,\n",
       "                     criterion='gini', max_depth=None, max_features='auto',\n",
       "                     max_leaf_nodes=None, max_samples=None,\n",
       "                     min_impurity_decrease=0.0, min_impurity_split=None,\n",
       "                     min_samples_leaf=1, min_samples_split=2,\n",
       "                     min_weight_fraction_leaf=0.0, n_estimators=250, n_jobs=-1,\n",
       "                     oob_score=False, random_state=0, verbose=0,\n",
       "                     warm_start=False)"
      ]
     },
     "execution_count": 61,
     "metadata": {},
     "output_type": "execute_result"
    }
   ],
   "source": [
    "# model definition\n",
    "forest = en.ExtraTreesClassifier( n_estimators=250, random_state=0, n_jobs=-1 )\n",
    "\n",
    "# data preparation\n",
    "x_train_n = df5.drop( ['id', 'response'], axis=1 )\n",
    "y_train_n = y_train.values\n",
    "forest.fit( x_train_n, y_train_n )"
   ]
  },
  {
   "cell_type": "code",
   "execution_count": 62,
   "id": "adopted-carter",
   "metadata": {
    "ExecuteTime": {
     "end_time": "2021-07-29T23:19:49.829637Z",
     "start_time": "2021-07-29T23:19:21.669848Z"
    }
   },
   "outputs": [
    {
     "name": "stdout",
     "output_type": "stream",
     "text": [
      "feature ranking\n",
      "                        feature  importance\n",
      "0                annual_premium    0.274703\n",
      "0                       vintage    0.249271\n",
      "0                           age    0.154354\n",
      "0                   region_code    0.102311\n",
      "0                vehicle_damage    0.072092\n",
      "0          policy_sales_channel    0.058263\n",
      "0            previously_insured    0.058259\n",
      "0      vehicle_age_below_1_year    0.015569\n",
      "0  vehicle_age_between_1_2_year    0.006639\n",
      "0                        gender    0.004996\n",
      "0      vehicle_age_over_2_years    0.003009\n",
      "0               driving_license    0.000533\n"
     ]
    },
    {
     "data": {
      "image/png": "[encoded data removed]",
      "text/plain": [
       "<Figure size 432x288 with 1 Axes>"
      ]
     },
     "metadata": {
      "needs_background": "light"
     },
     "output_type": "display_data"
    }
   ],
   "source": [
    "importances = forest.feature_importances_\n",
    "indices = np.argsort( importances )[::-1]\n",
    "\n",
    "print( 'feature ranking')\n",
    "df = pd.DataFrame()\n",
    "\n",
    "for i, j in zip( x_train_n, forest.feature_importances_ ):\n",
    "    aux = pd.DataFrame( {'feature': i, 'importance': j}, index=[0] )\n",
    "    df = pd.concat( [df, aux], axis=0 )\n",
    "    \n",
    "print( df.sort_values( 'importance', ascending=False ) )\n",
    "\n",
    "# Plot the impurity-based feature importances of the forest\n",
    "plt.figure()\n",
    "plt.title(\"Feature importances\")\n",
    "plt.bar(range(x_train_n.shape[1]), importances[indices], color=\"r\", align=\"center\")\n",
    "plt.xticks(range(x_train_n.shape[1]), indices)\n",
    "plt.xlim([-1, x_train_n.shape[1]])\n",
    "plt.show()"
   ]
  },
  {
   "cell_type": "markdown",
   "id": "raised-backing",
   "metadata": {},
   "source": [
    "Selected Columns :\n",
    "\n",
    "From EDA Analysis:\n",
    "    \n",
    "            'gender', age','annual_preminum', 'policy_sales_channel', 'region_code', 'vehicle_age'\n",
    "         \n",
    "From Boruta\n",
    "       \n",
    "         'gender', 'age', 'driving_license', 'region_code', 'previously_insured', 'vehicle_damage', 'annual_premium', \n",
    "         'policy_sales_channel', 'vehicle_age_below_1_year', 'vehicle_age_between_1_2_year', 'vehicle_age_over_2_years'\n",
    "    \n",
    "\n",
    "From Features Importance - untill 5% \n",
    "\n",
    "        'annual_premium', 'vintage', 'age', 'region_code','vehicle_damage', 'policy_sales_channel', 'previously_insured'.        \n",
    "Features final list:\n",
    "    "
   ]
  },
  {
   "cell_type": "markdown",
   "id": "dangerous-istanbul",
   "metadata": {},
   "source": [
    "# 7.0. Machine Learning Modelling"
   ]
  },
  {
   "cell_type": "code",
   "execution_count": 63,
   "id": "better-topic",
   "metadata": {
    "ExecuteTime": {
     "end_time": "2021-07-29T23:19:50.149527Z",
     "start_time": "2021-07-29T23:19:49.849861Z"
    }
   },
   "outputs": [],
   "source": [
    "df7 = df6.copy()"
   ]
  },
  {
   "cell_type": "code",
   "execution_count": 64,
   "id": "municipal-method",
   "metadata": {
    "ExecuteTime": {
     "end_time": "2021-07-29T23:19:50.329726Z",
     "start_time": "2021-07-29T23:19:50.149527Z"
    }
   },
   "outputs": [],
   "source": [
    "column_selected = ['annual_premium', 'vintage', 'age', 'region_code','vehicle_damage', 'policy_sales_channel']\n",
    "\n",
    "X_train = df7[column_selected]\n",
    "x_test= x_validation[column_selected]\n",
    "y_test = y_validation.copy()"
   ]
  },
  {
   "cell_type": "markdown",
   "id": "colored-tennessee",
   "metadata": {},
   "source": [
    "- **Ordering Metrics**"
   ]
  },
  {
   "cell_type": "markdown",
   "id": "sporting-cartoon",
   "metadata": {},
   "source": [
    "## 7.1. KNN Classifier"
   ]
  },
  {
   "cell_type": "code",
   "execution_count": 65,
   "id": "grateful-straight",
   "metadata": {
    "ExecuteTime": {
     "end_time": "2021-07-29T23:20:19.009478Z",
     "start_time": "2021-07-29T23:19:50.334735Z"
    }
   },
   "outputs": [
    {
     "name": "stderr",
     "output_type": "stream",
     "text": [
      "ERROR:root:Internal Python error in the inspect module.\n",
      "Below is the traceback from this internal error.\n",
      "\n"
     ]
    },
    {
     "name": "stdout",
     "output_type": "stream",
     "text": [
      "Traceback (most recent call last):\n",
      "  File \"C:\\Users\\ACER\\anaconda3\\envs\\datasciencemproducao\\lib\\site-packages\\IPython\\core\\interactiveshell.py\", line 3427, in run_code\n",
      "    exec(code_obj, self.user_global_ns, self.user_ns)\n",
      "  File \"<ipython-input-65-77928a8a4782>\", line 10, in <module>\n",
      "    yhat_knn = knn_model.predict_proba( x_test )\n",
      "  File \"C:\\Users\\ACER\\anaconda3\\envs\\datasciencemproducao\\lib\\site-packages\\sklearn\\ensemble\\_forest.py\", line 665, in predict_proba\n",
      "    Parallel(n_jobs=n_jobs, verbose=self.verbose,\n",
      "  File \"C:\\Users\\ACER\\anaconda3\\envs\\datasciencemproducao\\lib\\site-packages\\joblib\\parallel.py\", line 1044, in __call__\n",
      "    while self.dispatch_one_batch(iterator):\n",
      "  File \"C:\\Users\\ACER\\anaconda3\\envs\\datasciencemproducao\\lib\\site-packages\\joblib\\parallel.py\", line 859, in dispatch_one_batch\n",
      "    self._dispatch(tasks)\n",
      "  File \"C:\\Users\\ACER\\anaconda3\\envs\\datasciencemproducao\\lib\\site-packages\\joblib\\parallel.py\", line 777, in _dispatch\n",
      "    job = self._backend.apply_async(batch, callback=cb)\n",
      "  File \"C:\\Users\\ACER\\anaconda3\\envs\\datasciencemproducao\\lib\\site-packages\\joblib\\_parallel_backends.py\", line 208, in apply_async\n",
      "    result = ImmediateResult(func)\n",
      "  File \"C:\\Users\\ACER\\anaconda3\\envs\\datasciencemproducao\\lib\\site-packages\\joblib\\_parallel_backends.py\", line 572, in __init__\n",
      "    self.results = batch()\n",
      "  File \"C:\\Users\\ACER\\anaconda3\\envs\\datasciencemproducao\\lib\\site-packages\\joblib\\parallel.py\", line 262, in __call__\n",
      "    return [func(*args, **kwargs)\n",
      "  File \"C:\\Users\\ACER\\anaconda3\\envs\\datasciencemproducao\\lib\\site-packages\\joblib\\parallel.py\", line 262, in <listcomp>\n",
      "    return [func(*args, **kwargs)\n",
      "  File \"C:\\Users\\ACER\\anaconda3\\envs\\datasciencemproducao\\lib\\site-packages\\sklearn\\ensemble\\_forest.py\", line 449, in _accumulate_prediction\n",
      "    prediction = predict(X, check_input=False)\n",
      "  File \"C:\\Users\\ACER\\anaconda3\\envs\\datasciencemproducao\\lib\\site-packages\\sklearn\\tree\\_classes.py\", line 912, in predict_proba\n",
      "    normalizer = proba.sum(axis=1)[:, np.newaxis]\n",
      "  File \"C:\\Users\\ACER\\anaconda3\\envs\\datasciencemproducao\\lib\\site-packages\\numpy\\core\\_methods.py\", line 47, in _sum\n",
      "    return umr_sum(a, axis, dtype, out, keepdims, initial, where)\n",
      "KeyboardInterrupt\n",
      "\n",
      "During handling of the above exception, another exception occurred:\n",
      "\n",
      "Traceback (most recent call last):\n",
      "  File \"C:\\Users\\ACER\\anaconda3\\envs\\datasciencemproducao\\lib\\site-packages\\IPython\\core\\interactiveshell.py\", line 2054, in showtraceback\n",
      "    stb = value._render_traceback_()\n",
      "AttributeError: 'KeyboardInterrupt' object has no attribute '_render_traceback_'\n",
      "\n",
      "During handling of the above exception, another exception occurred:\n",
      "\n",
      "Traceback (most recent call last):\n",
      "  File \"C:\\Users\\ACER\\anaconda3\\envs\\datasciencemproducao\\lib\\site-packages\\IPython\\core\\ultratb.py\", line 1101, in get_records\n",
      "    return _fixed_getinnerframes(etb, number_of_lines_of_context, tb_offset)\n",
      "  File \"C:\\Users\\ACER\\anaconda3\\envs\\datasciencemproducao\\lib\\site-packages\\IPython\\core\\ultratb.py\", line 248, in wrapped\n",
      "    return f(*args, **kwargs)\n",
      "  File \"C:\\Users\\ACER\\anaconda3\\envs\\datasciencemproducao\\lib\\site-packages\\IPython\\core\\ultratb.py\", line 281, in _fixed_getinnerframes\n",
      "    records = fix_frame_records_filenames(inspect.getinnerframes(etb, context))\n",
      "  File \"C:\\Users\\ACER\\anaconda3\\envs\\datasciencemproducao\\lib\\inspect.py\", line 1515, in getinnerframes\n",
      "    frameinfo = (tb.tb_frame,) + getframeinfo(tb, context)\n",
      "  File \"C:\\Users\\ACER\\anaconda3\\envs\\datasciencemproducao\\lib\\inspect.py\", line 1473, in getframeinfo\n",
      "    filename = getsourcefile(frame) or getfile(frame)\n",
      "  File \"C:\\Users\\ACER\\anaconda3\\envs\\datasciencemproducao\\lib\\inspect.py\", line 708, in getsourcefile\n",
      "    if getattr(getmodule(object, filename), '__loader__', None) is not None:\n",
      "  File \"C:\\Users\\ACER\\anaconda3\\envs\\datasciencemproducao\\lib\\inspect.py\", line 751, in getmodule\n",
      "    f = getabsfile(module)\n",
      "  File \"C:\\Users\\ACER\\anaconda3\\envs\\datasciencemproducao\\lib\\inspect.py\", line 720, in getabsfile\n",
      "    _filename = getsourcefile(object) or getfile(object)\n",
      "  File \"C:\\Users\\ACER\\anaconda3\\envs\\datasciencemproducao\\lib\\inspect.py\", line 705, in getsourcefile\n",
      "    if os.path.exists(filename):\n",
      "  File \"C:\\Users\\ACER\\anaconda3\\envs\\datasciencemproducao\\lib\\genericpath.py\", line 19, in exists\n",
      "    os.stat(path)\n",
      "KeyboardInterrupt\n"
     ]
    },
    {
     "ename": "TypeError",
     "evalue": "object of type 'NoneType' has no len()",
     "output_type": "error",
     "traceback": [
      "\u001b[1;31m---------------------------------------------------------------------------\u001b[0m",
      "\u001b[1;31mKeyboardInterrupt\u001b[0m                         Traceback (most recent call last)",
      "    \u001b[1;31m[... skipping hidden 1 frame]\u001b[0m\n",
      "\u001b[1;32m<ipython-input-65-77928a8a4782>\u001b[0m in \u001b[0;36m<module>\u001b[1;34m\u001b[0m\n\u001b[0;32m      9\u001b[0m \u001b[1;31m# model prediction - Poder de GENERALIZACAO\u001b[0m\u001b[1;33m\u001b[0m\u001b[1;33m\u001b[0m\u001b[1;33m\u001b[0m\u001b[0m\n\u001b[1;32m---> 10\u001b[1;33m \u001b[0myhat_knn\u001b[0m \u001b[1;33m=\u001b[0m \u001b[0mknn_model\u001b[0m\u001b[1;33m.\u001b[0m\u001b[0mpredict_proba\u001b[0m\u001b[1;33m(\u001b[0m \u001b[0mx_test\u001b[0m \u001b[1;33m)\u001b[0m\u001b[1;33m\u001b[0m\u001b[1;33m\u001b[0m\u001b[0m\n\u001b[0m",
      "\u001b[1;32m~\\anaconda3\\envs\\datasciencemproducao\\lib\\site-packages\\sklearn\\ensemble\\_forest.py\u001b[0m in \u001b[0;36mpredict_proba\u001b[1;34m(self, X)\u001b[0m\n\u001b[0;32m    664\u001b[0m         \u001b[0mlock\u001b[0m \u001b[1;33m=\u001b[0m \u001b[0mthreading\u001b[0m\u001b[1;33m.\u001b[0m\u001b[0mLock\u001b[0m\u001b[1;33m(\u001b[0m\u001b[1;33m)\u001b[0m\u001b[1;33m\u001b[0m\u001b[1;33m\u001b[0m\u001b[0m\n\u001b[1;32m--> 665\u001b[1;33m         Parallel(n_jobs=n_jobs, verbose=self.verbose,\n\u001b[0m\u001b[0;32m    666\u001b[0m                  \u001b[1;33m**\u001b[0m\u001b[0m_joblib_parallel_args\u001b[0m\u001b[1;33m(\u001b[0m\u001b[0mrequire\u001b[0m\u001b[1;33m=\u001b[0m\u001b[1;34m\"sharedmem\"\u001b[0m\u001b[1;33m)\u001b[0m\u001b[1;33m)\u001b[0m\u001b[1;33m(\u001b[0m\u001b[1;33m\u001b[0m\u001b[1;33m\u001b[0m\u001b[0m\n",
      "\u001b[1;32m~\\anaconda3\\envs\\datasciencemproducao\\lib\\site-packages\\joblib\\parallel.py\u001b[0m in \u001b[0;36m__call__\u001b[1;34m(self, iterable)\u001b[0m\n\u001b[0;32m   1043\u001b[0m \u001b[1;33m\u001b[0m\u001b[0m\n\u001b[1;32m-> 1044\u001b[1;33m             \u001b[1;32mwhile\u001b[0m \u001b[0mself\u001b[0m\u001b[1;33m.\u001b[0m\u001b[0mdispatch_one_batch\u001b[0m\u001b[1;33m(\u001b[0m\u001b[0miterator\u001b[0m\u001b[1;33m)\u001b[0m\u001b[1;33m:\u001b[0m\u001b[1;33m\u001b[0m\u001b[1;33m\u001b[0m\u001b[0m\n\u001b[0m\u001b[0;32m   1045\u001b[0m                 \u001b[1;32mpass\u001b[0m\u001b[1;33m\u001b[0m\u001b[1;33m\u001b[0m\u001b[0m\n",
      "\u001b[1;32m~\\anaconda3\\envs\\datasciencemproducao\\lib\\site-packages\\joblib\\parallel.py\u001b[0m in \u001b[0;36mdispatch_one_batch\u001b[1;34m(self, iterator)\u001b[0m\n\u001b[0;32m    858\u001b[0m             \u001b[1;32melse\u001b[0m\u001b[1;33m:\u001b[0m\u001b[1;33m\u001b[0m\u001b[1;33m\u001b[0m\u001b[0m\n\u001b[1;32m--> 859\u001b[1;33m                 \u001b[0mself\u001b[0m\u001b[1;33m.\u001b[0m\u001b[0m_dispatch\u001b[0m\u001b[1;33m(\u001b[0m\u001b[0mtasks\u001b[0m\u001b[1;33m)\u001b[0m\u001b[1;33m\u001b[0m\u001b[1;33m\u001b[0m\u001b[0m\n\u001b[0m\u001b[0;32m    860\u001b[0m                 \u001b[1;32mreturn\u001b[0m \u001b[1;32mTrue\u001b[0m\u001b[1;33m\u001b[0m\u001b[1;33m\u001b[0m\u001b[0m\n",
      "\u001b[1;32m~\\anaconda3\\envs\\datasciencemproducao\\lib\\site-packages\\joblib\\parallel.py\u001b[0m in \u001b[0;36m_dispatch\u001b[1;34m(self, batch)\u001b[0m\n\u001b[0;32m    776\u001b[0m             \u001b[0mjob_idx\u001b[0m \u001b[1;33m=\u001b[0m \u001b[0mlen\u001b[0m\u001b[1;33m(\u001b[0m\u001b[0mself\u001b[0m\u001b[1;33m.\u001b[0m\u001b[0m_jobs\u001b[0m\u001b[1;33m)\u001b[0m\u001b[1;33m\u001b[0m\u001b[1;33m\u001b[0m\u001b[0m\n\u001b[1;32m--> 777\u001b[1;33m             \u001b[0mjob\u001b[0m \u001b[1;33m=\u001b[0m \u001b[0mself\u001b[0m\u001b[1;33m.\u001b[0m\u001b[0m_backend\u001b[0m\u001b[1;33m.\u001b[0m\u001b[0mapply_async\u001b[0m\u001b[1;33m(\u001b[0m\u001b[0mbatch\u001b[0m\u001b[1;33m,\u001b[0m \u001b[0mcallback\u001b[0m\u001b[1;33m=\u001b[0m\u001b[0mcb\u001b[0m\u001b[1;33m)\u001b[0m\u001b[1;33m\u001b[0m\u001b[1;33m\u001b[0m\u001b[0m\n\u001b[0m\u001b[0;32m    778\u001b[0m             \u001b[1;31m# A job can complete so quickly than its callback is\u001b[0m\u001b[1;33m\u001b[0m\u001b[1;33m\u001b[0m\u001b[1;33m\u001b[0m\u001b[0m\n",
      "\u001b[1;32m~\\anaconda3\\envs\\datasciencemproducao\\lib\\site-packages\\joblib\\_parallel_backends.py\u001b[0m in \u001b[0;36mapply_async\u001b[1;34m(self, func, callback)\u001b[0m\n\u001b[0;32m    207\u001b[0m         \u001b[1;34m\"\"\"Schedule a func to be run\"\"\"\u001b[0m\u001b[1;33m\u001b[0m\u001b[1;33m\u001b[0m\u001b[0m\n\u001b[1;32m--> 208\u001b[1;33m         \u001b[0mresult\u001b[0m \u001b[1;33m=\u001b[0m \u001b[0mImmediateResult\u001b[0m\u001b[1;33m(\u001b[0m\u001b[0mfunc\u001b[0m\u001b[1;33m)\u001b[0m\u001b[1;33m\u001b[0m\u001b[1;33m\u001b[0m\u001b[0m\n\u001b[0m\u001b[0;32m    209\u001b[0m         \u001b[1;32mif\u001b[0m \u001b[0mcallback\u001b[0m\u001b[1;33m:\u001b[0m\u001b[1;33m\u001b[0m\u001b[1;33m\u001b[0m\u001b[0m\n",
      "\u001b[1;32m~\\anaconda3\\envs\\datasciencemproducao\\lib\\site-packages\\joblib\\_parallel_backends.py\u001b[0m in \u001b[0;36m__init__\u001b[1;34m(self, batch)\u001b[0m\n\u001b[0;32m    571\u001b[0m         \u001b[1;31m# arguments in memory\u001b[0m\u001b[1;33m\u001b[0m\u001b[1;33m\u001b[0m\u001b[1;33m\u001b[0m\u001b[0m\n\u001b[1;32m--> 572\u001b[1;33m         \u001b[0mself\u001b[0m\u001b[1;33m.\u001b[0m\u001b[0mresults\u001b[0m \u001b[1;33m=\u001b[0m \u001b[0mbatch\u001b[0m\u001b[1;33m(\u001b[0m\u001b[1;33m)\u001b[0m\u001b[1;33m\u001b[0m\u001b[1;33m\u001b[0m\u001b[0m\n\u001b[0m\u001b[0;32m    573\u001b[0m \u001b[1;33m\u001b[0m\u001b[0m\n",
      "\u001b[1;32m~\\anaconda3\\envs\\datasciencemproducao\\lib\\site-packages\\joblib\\parallel.py\u001b[0m in \u001b[0;36m__call__\u001b[1;34m(self)\u001b[0m\n\u001b[0;32m    261\u001b[0m         \u001b[1;32mwith\u001b[0m \u001b[0mparallel_backend\u001b[0m\u001b[1;33m(\u001b[0m\u001b[0mself\u001b[0m\u001b[1;33m.\u001b[0m\u001b[0m_backend\u001b[0m\u001b[1;33m,\u001b[0m \u001b[0mn_jobs\u001b[0m\u001b[1;33m=\u001b[0m\u001b[0mself\u001b[0m\u001b[1;33m.\u001b[0m\u001b[0m_n_jobs\u001b[0m\u001b[1;33m)\u001b[0m\u001b[1;33m:\u001b[0m\u001b[1;33m\u001b[0m\u001b[1;33m\u001b[0m\u001b[0m\n\u001b[1;32m--> 262\u001b[1;33m             return [func(*args, **kwargs)\n\u001b[0m\u001b[0;32m    263\u001b[0m                     for func, args, kwargs in self.items]\n",
      "\u001b[1;32m~\\anaconda3\\envs\\datasciencemproducao\\lib\\site-packages\\joblib\\parallel.py\u001b[0m in \u001b[0;36m<listcomp>\u001b[1;34m(.0)\u001b[0m\n\u001b[0;32m    261\u001b[0m         \u001b[1;32mwith\u001b[0m \u001b[0mparallel_backend\u001b[0m\u001b[1;33m(\u001b[0m\u001b[0mself\u001b[0m\u001b[1;33m.\u001b[0m\u001b[0m_backend\u001b[0m\u001b[1;33m,\u001b[0m \u001b[0mn_jobs\u001b[0m\u001b[1;33m=\u001b[0m\u001b[0mself\u001b[0m\u001b[1;33m.\u001b[0m\u001b[0m_n_jobs\u001b[0m\u001b[1;33m)\u001b[0m\u001b[1;33m:\u001b[0m\u001b[1;33m\u001b[0m\u001b[1;33m\u001b[0m\u001b[0m\n\u001b[1;32m--> 262\u001b[1;33m             return [func(*args, **kwargs)\n\u001b[0m\u001b[0;32m    263\u001b[0m                     for func, args, kwargs in self.items]\n",
      "\u001b[1;32m~\\anaconda3\\envs\\datasciencemproducao\\lib\\site-packages\\sklearn\\ensemble\\_forest.py\u001b[0m in \u001b[0;36m_accumulate_prediction\u001b[1;34m(predict, X, out, lock)\u001b[0m\n\u001b[0;32m    448\u001b[0m     \"\"\"\n\u001b[1;32m--> 449\u001b[1;33m     \u001b[0mprediction\u001b[0m \u001b[1;33m=\u001b[0m \u001b[0mpredict\u001b[0m\u001b[1;33m(\u001b[0m\u001b[0mX\u001b[0m\u001b[1;33m,\u001b[0m \u001b[0mcheck_input\u001b[0m\u001b[1;33m=\u001b[0m\u001b[1;32mFalse\u001b[0m\u001b[1;33m)\u001b[0m\u001b[1;33m\u001b[0m\u001b[1;33m\u001b[0m\u001b[0m\n\u001b[0m\u001b[0;32m    450\u001b[0m     \u001b[1;32mwith\u001b[0m \u001b[0mlock\u001b[0m\u001b[1;33m:\u001b[0m\u001b[1;33m\u001b[0m\u001b[1;33m\u001b[0m\u001b[0m\n",
      "\u001b[1;32m~\\anaconda3\\envs\\datasciencemproducao\\lib\\site-packages\\sklearn\\tree\\_classes.py\u001b[0m in \u001b[0;36mpredict_proba\u001b[1;34m(self, X, check_input)\u001b[0m\n\u001b[0;32m    911\u001b[0m             \u001b[0mproba\u001b[0m \u001b[1;33m=\u001b[0m \u001b[0mproba\u001b[0m\u001b[1;33m[\u001b[0m\u001b[1;33m:\u001b[0m\u001b[1;33m,\u001b[0m \u001b[1;33m:\u001b[0m\u001b[0mself\u001b[0m\u001b[1;33m.\u001b[0m\u001b[0mn_classes_\u001b[0m\u001b[1;33m]\u001b[0m\u001b[1;33m\u001b[0m\u001b[1;33m\u001b[0m\u001b[0m\n\u001b[1;32m--> 912\u001b[1;33m             \u001b[0mnormalizer\u001b[0m \u001b[1;33m=\u001b[0m \u001b[0mproba\u001b[0m\u001b[1;33m.\u001b[0m\u001b[0msum\u001b[0m\u001b[1;33m(\u001b[0m\u001b[0maxis\u001b[0m\u001b[1;33m=\u001b[0m\u001b[1;36m1\u001b[0m\u001b[1;33m)\u001b[0m\u001b[1;33m[\u001b[0m\u001b[1;33m:\u001b[0m\u001b[1;33m,\u001b[0m \u001b[0mnp\u001b[0m\u001b[1;33m.\u001b[0m\u001b[0mnewaxis\u001b[0m\u001b[1;33m]\u001b[0m\u001b[1;33m\u001b[0m\u001b[1;33m\u001b[0m\u001b[0m\n\u001b[0m\u001b[0;32m    913\u001b[0m             \u001b[0mnormalizer\u001b[0m\u001b[1;33m[\u001b[0m\u001b[0mnormalizer\u001b[0m \u001b[1;33m==\u001b[0m \u001b[1;36m0.0\u001b[0m\u001b[1;33m]\u001b[0m \u001b[1;33m=\u001b[0m \u001b[1;36m1.0\u001b[0m\u001b[1;33m\u001b[0m\u001b[1;33m\u001b[0m\u001b[0m\n",
      "\u001b[1;32m~\\anaconda3\\envs\\datasciencemproducao\\lib\\site-packages\\numpy\\core\\_methods.py\u001b[0m in \u001b[0;36m_sum\u001b[1;34m(a, axis, dtype, out, keepdims, initial, where)\u001b[0m\n\u001b[0;32m     46\u001b[0m          initial=_NoValue, where=True):\n\u001b[1;32m---> 47\u001b[1;33m     \u001b[1;32mreturn\u001b[0m \u001b[0mumr_sum\u001b[0m\u001b[1;33m(\u001b[0m\u001b[0ma\u001b[0m\u001b[1;33m,\u001b[0m \u001b[0maxis\u001b[0m\u001b[1;33m,\u001b[0m \u001b[0mdtype\u001b[0m\u001b[1;33m,\u001b[0m \u001b[0mout\u001b[0m\u001b[1;33m,\u001b[0m \u001b[0mkeepdims\u001b[0m\u001b[1;33m,\u001b[0m \u001b[0minitial\u001b[0m\u001b[1;33m,\u001b[0m \u001b[0mwhere\u001b[0m\u001b[1;33m)\u001b[0m\u001b[1;33m\u001b[0m\u001b[1;33m\u001b[0m\u001b[0m\n\u001b[0m\u001b[0;32m     48\u001b[0m \u001b[1;33m\u001b[0m\u001b[0m\n",
      "\u001b[1;31mKeyboardInterrupt\u001b[0m: ",
      "\nDuring handling of the above exception, another exception occurred:\n",
      "\u001b[1;31mAttributeError\u001b[0m                            Traceback (most recent call last)",
      "\u001b[1;32m~\\anaconda3\\envs\\datasciencemproducao\\lib\\site-packages\\IPython\\core\\interactiveshell.py\u001b[0m in \u001b[0;36mshowtraceback\u001b[1;34m(self, exc_tuple, filename, tb_offset, exception_only, running_compiled_code)\u001b[0m\n\u001b[0;32m   2053\u001b[0m                         \u001b[1;31m# in the engines. This should return a list of strings.\u001b[0m\u001b[1;33m\u001b[0m\u001b[1;33m\u001b[0m\u001b[1;33m\u001b[0m\u001b[0m\n\u001b[1;32m-> 2054\u001b[1;33m                         \u001b[0mstb\u001b[0m \u001b[1;33m=\u001b[0m \u001b[0mvalue\u001b[0m\u001b[1;33m.\u001b[0m\u001b[0m_render_traceback_\u001b[0m\u001b[1;33m(\u001b[0m\u001b[1;33m)\u001b[0m\u001b[1;33m\u001b[0m\u001b[1;33m\u001b[0m\u001b[0m\n\u001b[0m\u001b[0;32m   2055\u001b[0m                     \u001b[1;32mexcept\u001b[0m \u001b[0mException\u001b[0m\u001b[1;33m:\u001b[0m\u001b[1;33m\u001b[0m\u001b[1;33m\u001b[0m\u001b[0m\n",
      "\u001b[1;31mAttributeError\u001b[0m: 'KeyboardInterrupt' object has no attribute '_render_traceback_'",
      "\nDuring handling of the above exception, another exception occurred:\n",
      "\u001b[1;31mTypeError\u001b[0m                                 Traceback (most recent call last)",
      "    \u001b[1;31m[... skipping hidden 1 frame]\u001b[0m\n",
      "\u001b[1;32m~\\anaconda3\\envs\\datasciencemproducao\\lib\\site-packages\\IPython\\core\\interactiveshell.py\u001b[0m in \u001b[0;36mshowtraceback\u001b[1;34m(self, exc_tuple, filename, tb_offset, exception_only, running_compiled_code)\u001b[0m\n\u001b[0;32m   2054\u001b[0m                         \u001b[0mstb\u001b[0m \u001b[1;33m=\u001b[0m \u001b[0mvalue\u001b[0m\u001b[1;33m.\u001b[0m\u001b[0m_render_traceback_\u001b[0m\u001b[1;33m(\u001b[0m\u001b[1;33m)\u001b[0m\u001b[1;33m\u001b[0m\u001b[1;33m\u001b[0m\u001b[0m\n\u001b[0;32m   2055\u001b[0m                     \u001b[1;32mexcept\u001b[0m \u001b[0mException\u001b[0m\u001b[1;33m:\u001b[0m\u001b[1;33m\u001b[0m\u001b[1;33m\u001b[0m\u001b[0m\n\u001b[1;32m-> 2056\u001b[1;33m                         stb = self.InteractiveTB.structured_traceback(etype,\n\u001b[0m\u001b[0;32m   2057\u001b[0m                                             value, tb, tb_offset=tb_offset)\n\u001b[0;32m   2058\u001b[0m \u001b[1;33m\u001b[0m\u001b[0m\n",
      "\u001b[1;32m~\\anaconda3\\envs\\datasciencemproducao\\lib\\site-packages\\IPython\\core\\ultratb.py\u001b[0m in \u001b[0;36mstructured_traceback\u001b[1;34m(self, etype, value, tb, tb_offset, number_of_lines_of_context)\u001b[0m\n\u001b[0;32m   1365\u001b[0m         \u001b[1;32melse\u001b[0m\u001b[1;33m:\u001b[0m\u001b[1;33m\u001b[0m\u001b[1;33m\u001b[0m\u001b[0m\n\u001b[0;32m   1366\u001b[0m             \u001b[0mself\u001b[0m\u001b[1;33m.\u001b[0m\u001b[0mtb\u001b[0m \u001b[1;33m=\u001b[0m \u001b[0mtb\u001b[0m\u001b[1;33m\u001b[0m\u001b[1;33m\u001b[0m\u001b[0m\n\u001b[1;32m-> 1367\u001b[1;33m         return FormattedTB.structured_traceback(\n\u001b[0m\u001b[0;32m   1368\u001b[0m             self, etype, value, tb, tb_offset, number_of_lines_of_context)\n\u001b[0;32m   1369\u001b[0m \u001b[1;33m\u001b[0m\u001b[0m\n",
      "\u001b[1;32m~\\anaconda3\\envs\\datasciencemproducao\\lib\\site-packages\\IPython\\core\\ultratb.py\u001b[0m in \u001b[0;36mstructured_traceback\u001b[1;34m(self, etype, value, tb, tb_offset, number_of_lines_of_context)\u001b[0m\n\u001b[0;32m   1265\u001b[0m         \u001b[1;32mif\u001b[0m \u001b[0mmode\u001b[0m \u001b[1;32min\u001b[0m \u001b[0mself\u001b[0m\u001b[1;33m.\u001b[0m\u001b[0mverbose_modes\u001b[0m\u001b[1;33m:\u001b[0m\u001b[1;33m\u001b[0m\u001b[1;33m\u001b[0m\u001b[0m\n\u001b[0;32m   1266\u001b[0m             \u001b[1;31m# Verbose modes need a full traceback\u001b[0m\u001b[1;33m\u001b[0m\u001b[1;33m\u001b[0m\u001b[1;33m\u001b[0m\u001b[0m\n\u001b[1;32m-> 1267\u001b[1;33m             return VerboseTB.structured_traceback(\n\u001b[0m\u001b[0;32m   1268\u001b[0m                 \u001b[0mself\u001b[0m\u001b[1;33m,\u001b[0m \u001b[0metype\u001b[0m\u001b[1;33m,\u001b[0m \u001b[0mvalue\u001b[0m\u001b[1;33m,\u001b[0m \u001b[0mtb\u001b[0m\u001b[1;33m,\u001b[0m \u001b[0mtb_offset\u001b[0m\u001b[1;33m,\u001b[0m \u001b[0mnumber_of_lines_of_context\u001b[0m\u001b[1;33m\u001b[0m\u001b[1;33m\u001b[0m\u001b[0m\n\u001b[0;32m   1269\u001b[0m             )\n",
      "\u001b[1;32m~\\anaconda3\\envs\\datasciencemproducao\\lib\\site-packages\\IPython\\core\\ultratb.py\u001b[0m in \u001b[0;36mstructured_traceback\u001b[1;34m(self, etype, evalue, etb, tb_offset, number_of_lines_of_context)\u001b[0m\n\u001b[0;32m   1122\u001b[0m         \u001b[1;34m\"\"\"Return a nice text document describing the traceback.\"\"\"\u001b[0m\u001b[1;33m\u001b[0m\u001b[1;33m\u001b[0m\u001b[0m\n\u001b[0;32m   1123\u001b[0m \u001b[1;33m\u001b[0m\u001b[0m\n\u001b[1;32m-> 1124\u001b[1;33m         formatted_exception = self.format_exception_as_a_whole(etype, evalue, etb, number_of_lines_of_context,\n\u001b[0m\u001b[0;32m   1125\u001b[0m                                                                tb_offset)\n\u001b[0;32m   1126\u001b[0m \u001b[1;33m\u001b[0m\u001b[0m\n",
      "\u001b[1;32m~\\anaconda3\\envs\\datasciencemproducao\\lib\\site-packages\\IPython\\core\\ultratb.py\u001b[0m in \u001b[0;36mformat_exception_as_a_whole\u001b[1;34m(self, etype, evalue, etb, number_of_lines_of_context, tb_offset)\u001b[0m\n\u001b[0;32m   1080\u001b[0m \u001b[1;33m\u001b[0m\u001b[0m\n\u001b[0;32m   1081\u001b[0m \u001b[1;33m\u001b[0m\u001b[0m\n\u001b[1;32m-> 1082\u001b[1;33m         \u001b[0mlast_unique\u001b[0m\u001b[1;33m,\u001b[0m \u001b[0mrecursion_repeat\u001b[0m \u001b[1;33m=\u001b[0m \u001b[0mfind_recursion\u001b[0m\u001b[1;33m(\u001b[0m\u001b[0morig_etype\u001b[0m\u001b[1;33m,\u001b[0m \u001b[0mevalue\u001b[0m\u001b[1;33m,\u001b[0m \u001b[0mrecords\u001b[0m\u001b[1;33m)\u001b[0m\u001b[1;33m\u001b[0m\u001b[1;33m\u001b[0m\u001b[0m\n\u001b[0m\u001b[0;32m   1083\u001b[0m \u001b[1;33m\u001b[0m\u001b[0m\n\u001b[0;32m   1084\u001b[0m         \u001b[0mframes\u001b[0m \u001b[1;33m=\u001b[0m \u001b[0mself\u001b[0m\u001b[1;33m.\u001b[0m\u001b[0mformat_records\u001b[0m\u001b[1;33m(\u001b[0m\u001b[0mrecords\u001b[0m\u001b[1;33m,\u001b[0m \u001b[0mlast_unique\u001b[0m\u001b[1;33m,\u001b[0m \u001b[0mrecursion_repeat\u001b[0m\u001b[1;33m)\u001b[0m\u001b[1;33m\u001b[0m\u001b[1;33m\u001b[0m\u001b[0m\n",
      "\u001b[1;32m~\\anaconda3\\envs\\datasciencemproducao\\lib\\site-packages\\IPython\\core\\ultratb.py\u001b[0m in \u001b[0;36mfind_recursion\u001b[1;34m(etype, value, records)\u001b[0m\n\u001b[0;32m    380\u001b[0m     \u001b[1;31m# first frame (from in to out) that looks different.\u001b[0m\u001b[1;33m\u001b[0m\u001b[1;33m\u001b[0m\u001b[1;33m\u001b[0m\u001b[0m\n\u001b[0;32m    381\u001b[0m     \u001b[1;32mif\u001b[0m \u001b[1;32mnot\u001b[0m \u001b[0mis_recursion_error\u001b[0m\u001b[1;33m(\u001b[0m\u001b[0metype\u001b[0m\u001b[1;33m,\u001b[0m \u001b[0mvalue\u001b[0m\u001b[1;33m,\u001b[0m \u001b[0mrecords\u001b[0m\u001b[1;33m)\u001b[0m\u001b[1;33m:\u001b[0m\u001b[1;33m\u001b[0m\u001b[1;33m\u001b[0m\u001b[0m\n\u001b[1;32m--> 382\u001b[1;33m         \u001b[1;32mreturn\u001b[0m \u001b[0mlen\u001b[0m\u001b[1;33m(\u001b[0m\u001b[0mrecords\u001b[0m\u001b[1;33m)\u001b[0m\u001b[1;33m,\u001b[0m \u001b[1;36m0\u001b[0m\u001b[1;33m\u001b[0m\u001b[1;33m\u001b[0m\u001b[0m\n\u001b[0m\u001b[0;32m    383\u001b[0m \u001b[1;33m\u001b[0m\u001b[0m\n\u001b[0;32m    384\u001b[0m     \u001b[1;31m# Select filename, lineno, func_name to track frames with\u001b[0m\u001b[1;33m\u001b[0m\u001b[1;33m\u001b[0m\u001b[1;33m\u001b[0m\u001b[0m\n",
      "\u001b[1;31mTypeError\u001b[0m: object of type 'NoneType' has no len()"
     ]
    }
   ],
   "source": [
    "import pickle\n",
    "# model definition\n",
    "knn_model = nh.KNeighborsClassifier( n_neighbors=7 )\n",
    "\n",
    "# model training\n",
    "#knn_model.fit( X_train, y_train )\n",
    "#pickle.dump(rfc_model, open('../model/knn_model.pkl', 'wb'))\n",
    "knn_model = pickle.load(open('../model/knn_model.pkl', 'rb'))\n",
    "# model prediction - Poder de GENERALIZACAO \n",
    "yhat_knn = knn_model.predict_proba( x_test )\n"
   ]
  },
  {
   "cell_type": "code",
   "execution_count": null,
   "id": "tight-triangle",
   "metadata": {
    "ExecuteTime": {
     "end_time": "2021-07-29T23:20:19.079417Z",
     "start_time": "2021-07-29T23:17:03.543Z"
    }
   },
   "outputs": [],
   "source": [
    "fig, axs = plt.subplots(ncols= 2, figsize = (15,5))\n",
    "skplt.metrics.plot_cumulative_gain(y_test, yhat_knn, ax=axs[0])\n",
    "skplt.metrics.plot_lift_curve(y_test, yhat_knn,ax=axs[1]);"
   ]
  },
  {
   "cell_type": "markdown",
   "id": "optional-fifty",
   "metadata": {
    "ExecuteTime": {
     "end_time": "2021-07-23T16:50:58.064998Z",
     "start_time": "2021-07-23T16:50:58.033799Z"
    }
   },
   "source": [
    "## 7.2. Logistic Regression"
   ]
  },
  {
   "cell_type": "code",
   "execution_count": null,
   "id": "adolescent-cloud",
   "metadata": {
    "ExecuteTime": {
     "end_time": "2021-07-29T23:20:19.159462Z",
     "start_time": "2021-07-29T23:17:03.556Z"
    }
   },
   "outputs": [],
   "source": [
    "# model definition\n",
    "lr_model = lm.LogisticRegression( random_state=42 ) \n",
    "\n",
    "# model training\n",
    "#lr_model.fit( X_train, y_train )\n",
    "#pickle.dump(lr_model, open('../model/lr_model.pkl', 'wb'))\n",
    "lr_model = pickle.load(open('../model/lr_model.pkl', 'rb'))\n",
    "\n",
    "# model prediction\n",
    "yhat_lr = lr_model.predict_proba( x_test )"
   ]
  },
  {
   "cell_type": "code",
   "execution_count": null,
   "id": "fatty-trinity",
   "metadata": {
    "ExecuteTime": {
     "end_time": "2021-07-29T23:20:19.174827Z",
     "start_time": "2021-07-29T23:17:03.563Z"
    }
   },
   "outputs": [],
   "source": [
    "fig, axs = plt.subplots(ncols= 2, figsize = (15,5))\n",
    "skplt.metrics.plot_cumulative_gain(y_test, yhat_lr, ax=axs[0])\n",
    "skplt.metrics.plot_lift_curve(y_test, yhat_lr,ax=axs[1]);"
   ]
  },
  {
   "cell_type": "markdown",
   "id": "important-insurance",
   "metadata": {},
   "source": [
    "## 7.3. RandomForest Classifier"
   ]
  },
  {
   "cell_type": "code",
   "execution_count": null,
   "id": "respected-sussex",
   "metadata": {
    "ExecuteTime": {
     "end_time": "2021-07-29T23:20:19.179360Z",
     "start_time": "2021-07-29T23:17:03.572Z"
    }
   },
   "outputs": [],
   "source": [
    "# model definition\n",
    "rfc_model = RandomForestClassifier(n_estimators = 300, random_state = 42)\n",
    "\n",
    "# model fit\n",
    "#rfc_model.fit( X_train, y_train )\n",
    "#pickle.dump(rfc_model, open('../model/rfc_model.pkl', 'wb'))\n",
    "rfc_model = pickle.load(open('../model/rfc_model.pkl', 'rb'))\n",
    "\n",
    "# model predict\n",
    "yhat_rfc = rfc_model.predict_proba( x_test )\n",
    "\n"
   ]
  },
  {
   "cell_type": "code",
   "execution_count": null,
   "id": "taken-howard",
   "metadata": {
    "ExecuteTime": {
     "end_time": "2021-07-29T23:20:19.184367Z",
     "start_time": "2021-07-29T23:17:03.577Z"
    }
   },
   "outputs": [],
   "source": [
    "fig, axs = plt.subplots(ncols= 2, figsize = (15,5))\n",
    "skplt.metrics.plot_cumulative_gain(y_test, yhat_rfc, ax=axs[0])\n",
    "skplt.metrics.plot_lift_curve(y_test, yhat_rfc,ax=axs[1]);"
   ]
  },
  {
   "cell_type": "markdown",
   "id": "excellent-newcastle",
   "metadata": {},
   "source": [
    "## 7.4. Naive Bayles"
   ]
  },
  {
   "cell_type": "code",
   "execution_count": null,
   "id": "separated-uncertainty",
   "metadata": {
    "ExecuteTime": {
     "end_time": "2021-07-29T23:20:19.189465Z",
     "start_time": "2021-07-29T23:17:03.587Z"
    }
   },
   "outputs": [],
   "source": [
    "# model definition\n",
    "naive_model = GaussianNB()\n",
    "\n",
    "# model fit\n",
    "#naive_model.fit( X_train, y_train )\n",
    "#pickle.dump(naive_model, open('../model/naive_model.pkl', 'wb'))\n",
    "naive_model = pickle.load(open('../model/naive_model.pkl', 'rb'))\n",
    "\n",
    "# model predict\n",
    "yhat_naive = naive_model.predict_proba( x_test )"
   ]
  },
  {
   "cell_type": "code",
   "execution_count": null,
   "id": "equivalent-precipitation",
   "metadata": {
    "ExecuteTime": {
     "end_time": "2021-07-29T23:20:19.194477Z",
     "start_time": "2021-07-29T23:17:03.592Z"
    }
   },
   "outputs": [],
   "source": [
    "fig, axs = plt.subplots(ncols=2, figsize= (15,5))\n",
    "skplt.metrics.plot_cumulative_gain(y_test, yhat_naive, ax=axs[0])\n",
    "skplt.metrics.plot_lift_curve(y_test, yhat_naive,ax=axs[1]);"
   ]
  },
  {
   "cell_type": "markdown",
   "id": "bulgarian-housing",
   "metadata": {},
   "source": [
    "## 7.5. XGBoost Classifier"
   ]
  },
  {
   "cell_type": "code",
   "execution_count": null,
   "id": "great-brooklyn",
   "metadata": {
    "ExecuteTime": {
     "end_time": "2021-07-29T23:20:19.194477Z",
     "start_time": "2021-07-29T23:17:03.603Z"
    }
   },
   "outputs": [],
   "source": [
    "# model definition\n",
    "xgb_model = xgb.XGBClassifier(objective = 'binary:logistic', eval_metric = 'error')\n",
    "\n",
    "# model fit\n",
    "#model_xgb = xgb_model.fit(X_train,y_train)\n",
    "#pickle.dump(model_xgb, open('../model/model_xgbl.pkl', 'wb'))\n",
    "model_xgb = pickle.load(open('../model/model_xgbl.pkl', 'rb'))\n",
    "\n",
    "# model predict\n",
    "yhat_xgb = model_xgb.predict_proba(x_test)"
   ]
  },
  {
   "cell_type": "code",
   "execution_count": null,
   "id": "broadband-pricing",
   "metadata": {
    "ExecuteTime": {
     "end_time": "2021-07-29T23:20:19.199555Z",
     "start_time": "2021-07-29T23:17:03.609Z"
    }
   },
   "outputs": [],
   "source": [
    "fig, axs = plt.subplots(ncols=2, figsize= (15,5))\n",
    "skplt.metrics.plot_cumulative_gain(y_test, yhat_xgb, ax=axs[0])\n",
    "skplt.metrics.plot_lift_curve(y_test, yhat_xgb,ax=axs[1]);"
   ]
  },
  {
   "cell_type": "markdown",
   "id": "signal-christmas",
   "metadata": {},
   "source": [
    "## 8.0. Performance Metrics"
   ]
  },
  {
   "cell_type": "code",
   "execution_count": 66,
   "id": "stable-gothic",
   "metadata": {
    "ExecuteTime": {
     "end_time": "2021-07-29T23:20:45.839776Z",
     "start_time": "2021-07-29T23:20:45.549686Z"
    }
   },
   "outputs": [],
   "source": [
    "df8 = df7.copy()"
   ]
  },
  {
   "cell_type": "code",
   "execution_count": null,
   "id": "civilian-pocket",
   "metadata": {
    "ExecuteTime": {
     "end_time": "2021-07-29T23:20:19.199555Z",
     "start_time": "2021-07-29T23:17:03.623Z"
    }
   },
   "outputs": [],
   "source": [
    "# Making the Confusion Matrix\n",
    "from sklearn.metrics import confusion_matrix, accuracy_score\n",
    "y_pred = model_xgb.predict(x_test)\n",
    "cm = confusion_matrix(y_test, y_pred)\n",
    "print(cm)\n",
    "accuracy_score(y_test, y_pred)"
   ]
  },
  {
   "cell_type": "markdown",
   "id": "honest-liberal",
   "metadata": {},
   "source": [
    "## 8.1 Single performance"
   ]
  },
  {
   "cell_type": "code",
   "execution_count": null,
   "id": "ordered-fleet",
   "metadata": {
    "ExecuteTime": {
     "end_time": "2021-07-29T23:20:19.209537Z",
     "start_time": "2021-07-29T23:17:03.631Z"
    }
   },
   "outputs": [],
   "source": [
    "df8_xgb = data_preparation_yhat_model('response',x_validation.copy(),y_validation.copy(), yhat_xgb )\n",
    "df8_xgb.head()"
   ]
  },
  {
   "cell_type": "code",
   "execution_count": null,
   "id": "shaped-turkey",
   "metadata": {
    "ExecuteTime": {
     "end_time": "2021-07-29T23:20:19.209537Z",
     "start_time": "2021-07-29T23:17:03.638Z"
    }
   },
   "outputs": [],
   "source": [
    "# Knn\n",
    "df8_knn = data_preparation_yhat_model('response',x_validation.copy(),y_validation.copy(), yhat_knn )\n",
    "# compute precision at k\n",
    "knn_precision = precision_at_k( df8_knn,'response', k=15000 )\n",
    "# Recall @k\n",
    "knn_recall = recall_at_k( df8_knn, 'response' , k=15000 )\n",
    "\n",
    "print( 'Precision at K: {}, Recall : {}'.format(knn_precision, knn_recall ) )"
   ]
  },
  {
   "cell_type": "code",
   "execution_count": null,
   "id": "accepted-connection",
   "metadata": {
    "ExecuteTime": {
     "end_time": "2021-07-29T23:20:19.214544Z",
     "start_time": "2021-07-29T23:17:03.645Z"
    }
   },
   "outputs": [],
   "source": [
    "# Logistic Regression\n",
    "df8_lr = data_preparation_yhat_model('response',x_validation.copy(),y_validation.copy(), yhat_lr )\n",
    "# compute precision at k\n",
    "lr_precision = precision_at_k( df8_lr,'response', k=15000 )\n",
    "# Recall @k\n",
    "lr_recall = recall_at_k( df8_lr, 'response' , k=15000 )\n",
    "\n",
    "print( 'Precision at K: {}, Recall : {}'.format(lr_precision, lr_recall ) )"
   ]
  },
  {
   "cell_type": "code",
   "execution_count": null,
   "id": "cooperative-wednesday",
   "metadata": {
    "ExecuteTime": {
     "end_time": "2021-07-29T23:20:19.219584Z",
     "start_time": "2021-07-29T23:17:03.651Z"
    }
   },
   "outputs": [],
   "source": [
    "# Naive Bayes\n",
    "df8_bayes = data_preparation_yhat_model('response',x_validation.copy(),y_validation.copy(), yhat_naive )\n",
    "# compute precision at k\n",
    "naive_precision = precision_at_k( df8_bayes,'response', k=15000 )\n",
    "# Recall @k\n",
    "naive_recall = recall_at_k( df8_bayes, 'response' , k=15000 )\n",
    "\n",
    "print( 'Precision at K: {}, Recall : {}'.format(naive_precision, naive_recall ) )"
   ]
  },
  {
   "cell_type": "code",
   "execution_count": null,
   "id": "bottom-muscle",
   "metadata": {
    "ExecuteTime": {
     "end_time": "2021-07-29T23:20:19.224591Z",
     "start_time": "2021-07-29T23:17:03.657Z"
    }
   },
   "outputs": [],
   "source": [
    "# Random Forest Classifier\n",
    "df8_rfc = data_preparation_yhat_model('response',x_validation.copy(),y_validation.copy(), yhat_rfc )\n",
    "# compute precision at k\n",
    "rfc_precision = precision_at_k( df8_rfc,'response', k=15000 )\n",
    "# Recall @k\n",
    "rfc_recall = recall_at_k( df8_rfc, 'response' , k=15000 )\n",
    "\n",
    "print( 'Precision at K: {}, Recall : {}'.format(rfc_precision, rfc_recall ) )"
   ]
  },
  {
   "cell_type": "code",
   "execution_count": null,
   "id": "stable-netherlands",
   "metadata": {
    "ExecuteTime": {
     "end_time": "2021-07-29T23:20:19.229636Z",
     "start_time": "2021-07-29T23:17:03.665Z"
    }
   },
   "outputs": [],
   "source": [
    "#Xgboost \n",
    "df8_xgb = data_preparation_yhat_model('response',x_validation.copy(),y_validation.copy(), yhat_xgb )\n",
    "xgb_precision = precision_at_k( df8_xgb,'response', k=15000 )\n",
    "# Recall at K\n",
    "xgb_recall = recall_at_k( df8_xgb, 'response' , k=15000 )\n",
    "print( 'Precision at K: {}, Recall : {}'.format(xgb_precision, xgb_recall ) )"
   ]
  },
  {
   "cell_type": "markdown",
   "id": "characteristic-island",
   "metadata": {
    "ExecuteTime": {
     "end_time": "2021-07-25T22:55:57.975563Z",
     "start_time": "2021-07-25T22:55:57.959943Z"
    }
   },
   "source": [
    "## 8.2. Compare Model's Performance"
   ]
  },
  {
   "cell_type": "code",
   "execution_count": null,
   "id": "favorite-revelation",
   "metadata": {
    "ExecuteTime": {
     "end_time": "2021-07-29T23:20:19.229636Z",
     "start_time": "2021-07-29T23:17:03.674Z"
    }
   },
   "outputs": [],
   "source": [
    "performance_summary = { \n",
    "    'Precision at K' : [lr_precision, naive_precision, knn_precision, rfc_precision, xgb_precision],\n",
    "    'Recall at K'    : [lr_recall, naive_recall, knn_recall, rfc_recall, xgb_recall]\n",
    "}\n",
    "\n",
    "metrics = pd.DataFrame(performance_summary).T\n",
    "metrics.columns = ['Logistic R', 'Naive Bayes', 'KNN', 'Randon F', 'XGBoosting']\n",
    "metrics.style.highlight_max( color='lightgreen', axis=1 )"
   ]
  },
  {
   "cell_type": "code",
   "execution_count": null,
   "id": "collective-shipping",
   "metadata": {
    "ExecuteTime": {
     "end_time": "2021-07-29T23:20:19.234645Z",
     "start_time": "2021-07-29T23:17:03.679Z"
    }
   },
   "outputs": [],
   "source": [
    "#cv_performance_lr = cross_validation (df8,5, 'Logic Regression', lr_model,'response',15000 ,X_train, y_train, verbose= True)"
   ]
  },
  {
   "cell_type": "code",
   "execution_count": null,
   "id": "bacterial-membership",
   "metadata": {
    "ExecuteTime": {
     "end_time": "2021-07-29T23:20:19.239681Z",
     "start_time": "2021-07-29T23:17:03.685Z"
    }
   },
   "outputs": [],
   "source": [
    "cv_performance_bayes = cross_validation (df8,5, 'Naive Bayes', naive_model,'response',15000 ,X_train, y_train, verbose= True)"
   ]
  },
  {
   "cell_type": "code",
   "execution_count": null,
   "id": "looking-attachment",
   "metadata": {
    "ExecuteTime": {
     "end_time": "2021-07-29T23:20:19.239681Z",
     "start_time": "2021-07-29T23:17:03.692Z"
    }
   },
   "outputs": [],
   "source": [
    "#cv_performance_Knn = cross_validation (df8,5, 'KNN', knn_model,'response',15000 ,X_train, y_train, verbose= True)"
   ]
  },
  {
   "cell_type": "code",
   "execution_count": null,
   "id": "cutting-humor",
   "metadata": {
    "ExecuteTime": {
     "end_time": "2021-07-29T23:20:19.249822Z",
     "start_time": "2021-07-29T23:17:03.697Z"
    }
   },
   "outputs": [],
   "source": [
    "#cv_performance_rfc = cross_validation (df8,5, 'Randon Forest Classifier', rfc_model,'response',15000 ,X_train, y_train, verbose= True)\n",
    "#cv_performance_xgb= cross_validation (df8,5, 'XG Boosting', xgb_model,'response',15000 ,X_train, y_train, verbose= True)"
   ]
  },
  {
   "cell_type": "code",
   "execution_count": null,
   "id": "ruled-while",
   "metadata": {
    "ExecuteTime": {
     "end_time": "2021-07-29T23:20:19.254330Z",
     "start_time": "2021-07-29T23:17:03.706Z"
    }
   },
   "outputs": [],
   "source": [
    "#cross_validation =pd.concat([cv_performance_Knn,cv_performance_rfc,cv_performance_xgb ,cv_performance_lr,cv_performance_bayes], ignore_index=True)\n",
    "#cross_validation.to_csv('../data/cross_validation.csv', index= False)\n"
   ]
  },
  {
   "cell_type": "code",
   "execution_count": null,
   "id": "rapid-ticket",
   "metadata": {
    "ExecuteTime": {
     "end_time": "2021-07-29T23:20:19.254330Z",
     "start_time": "2021-07-29T23:17:03.713Z"
    }
   },
   "outputs": [],
   "source": [
    "cross_validation = pd.read_csv('../data/cross_validation.csv')\n",
    "cross_validation"
   ]
  },
  {
   "cell_type": "code",
   "execution_count": null,
   "id": "lonely-sherman",
   "metadata": {
    "ExecuteTime": {
     "end_time": "2021-07-29T23:20:19.259362Z",
     "start_time": "2021-07-29T23:17:03.718Z"
    }
   },
   "outputs": [],
   "source": [
    "df8.head()"
   ]
  },
  {
   "cell_type": "markdown",
   "id": "parliamentary-basic",
   "metadata": {},
   "source": [
    "# 9.0 Hyperparameter Fine Tunning"
   ]
  },
  {
   "cell_type": "markdown",
   "id": "extra-heavy",
   "metadata": {
    "ExecuteTime": {
     "end_time": "2021-07-29T16:15:27.223575Z",
     "start_time": "2021-07-29T16:15:26.953322Z"
    }
   },
   "source": [
    " ## 9.1 Random Search"
   ]
  },
  {
   "cell_type": "code",
   "execution_count": 67,
   "id": "bronze-contrast",
   "metadata": {
    "ExecuteTime": {
     "end_time": "2021-07-29T23:20:59.700008Z",
     "start_time": "2021-07-29T23:20:59.649756Z"
    }
   },
   "outputs": [],
   "source": [
    "param = { 'objective'        : ['binary:logistic'],\n",
    "          'eval_metric'      : ['error'],\n",
    "          'n_estimators'     : [100, 250, 400, 600, 800], \n",
    "          'eta'              : [0.01, 0.03],\n",
    "          'max_depth'        : [ 3, 5, 9],\n",
    "          'subsample'        : [0.1 , 0.5, 0.7],\n",
    "          'colsample_bytree' : [0.3, 0.7, 0.9],\n",
    "          'min_child_weight' : [3, 8, 15] }\n",
    "\n",
    "MAX_EVAL = 10"
   ]
  },
  {
   "cell_type": "code",
   "execution_count": 68,
   "id": "fossil-essence",
   "metadata": {
    "ExecuteTime": {
     "end_time": "2021-07-29T23:21:37.529658Z",
     "start_time": "2021-07-29T23:21:15.689579Z"
    }
   },
   "outputs": [
    {
     "name": "stdout",
     "output_type": "stream",
     "text": [
      "Step 1/10\n",
      "{'objective': 'binary:logistic', 'eval_metric': 'error', 'n_estimators': 250, 'eta': 0.01, 'max_depth': 9, 'subsample': 0.5, 'colsample_bytree': 0.3, 'min_child_weight': 15}\n",
      "\n",
      "KFold Number: 5\n"
     ]
    },
    {
     "ename": "KeyboardInterrupt",
     "evalue": "",
     "output_type": "error",
     "traceback": [
      "\u001b[1;31m---------------------------------------------------------------------------\u001b[0m",
      "\u001b[1;31mKeyboardInterrupt\u001b[0m                         Traceback (most recent call last)",
      "\u001b[1;32m<ipython-input-68-bd0e5d77694d>\u001b[0m in \u001b[0;36m<module>\u001b[1;34m\u001b[0m\n\u001b[0;32m     18\u001b[0m \u001b[1;33m\u001b[0m\u001b[0m\n\u001b[0;32m     19\u001b[0m     \u001b[1;31m# performance\u001b[0m\u001b[1;33m\u001b[0m\u001b[1;33m\u001b[0m\u001b[1;33m\u001b[0m\u001b[0m\n\u001b[1;32m---> 20\u001b[1;33m     \u001b[0mresult\u001b[0m \u001b[1;33m=\u001b[0m \u001b[0mcross_validation\u001b[0m \u001b[1;33m(\u001b[0m\u001b[0mdf8\u001b[0m\u001b[1;33m,\u001b[0m\u001b[1;36m5\u001b[0m\u001b[1;33m,\u001b[0m \u001b[1;34m'Final '\u001b[0m\u001b[1;33m,\u001b[0m \u001b[0mmodel_xgb\u001b[0m\u001b[1;33m,\u001b[0m\u001b[1;34m'response'\u001b[0m\u001b[1;33m,\u001b[0m\u001b[1;36m15000\u001b[0m \u001b[1;33m,\u001b[0m\u001b[0mX_train\u001b[0m\u001b[1;33m,\u001b[0m \u001b[0my_train\u001b[0m\u001b[1;33m,\u001b[0m \u001b[0mverbose\u001b[0m\u001b[1;33m=\u001b[0m \u001b[1;32mTrue\u001b[0m\u001b[1;33m)\u001b[0m\u001b[1;33m\u001b[0m\u001b[1;33m\u001b[0m\u001b[0m\n\u001b[0m\u001b[0;32m     21\u001b[0m     \u001b[0mfinal_result\u001b[0m \u001b[1;33m=\u001b[0m \u001b[0mpd\u001b[0m\u001b[1;33m.\u001b[0m\u001b[0mconcat\u001b[0m\u001b[1;33m(\u001b[0m \u001b[1;33m[\u001b[0m\u001b[0mfinal_result\u001b[0m\u001b[1;33m,\u001b[0m \u001b[0mresult\u001b[0m\u001b[1;33m]\u001b[0m \u001b[1;33m)\u001b[0m\u001b[1;33m\u001b[0m\u001b[1;33m\u001b[0m\u001b[0m\n\u001b[0;32m     22\u001b[0m \u001b[1;33m\u001b[0m\u001b[0m\n",
      "\u001b[1;32m<ipython-input-4-a46d56600fb7>\u001b[0m in \u001b[0;36mcross_validation\u001b[1;34m(data, num_folds, model_name, model, target, k, x_train, y_train, verbose)\u001b[0m\n\u001b[0;32m     59\u001b[0m             \u001b[0my_val_fold\u001b[0m \u001b[1;33m=\u001b[0m \u001b[0my_train\u001b[0m\u001b[1;33m.\u001b[0m\u001b[0miloc\u001b[0m\u001b[1;33m[\u001b[0m\u001b[0mval_cv\u001b[0m\u001b[1;33m]\u001b[0m\u001b[1;33m\u001b[0m\u001b[1;33m\u001b[0m\u001b[0m\n\u001b[0;32m     60\u001b[0m \u001b[1;33m\u001b[0m\u001b[0m\n\u001b[1;32m---> 61\u001b[1;33m             \u001b[0mmodel_fit\u001b[0m \u001b[1;33m=\u001b[0m \u001b[0mmodel\u001b[0m\u001b[1;33m.\u001b[0m\u001b[0mfit\u001b[0m\u001b[1;33m(\u001b[0m\u001b[0mx_train_fold\u001b[0m\u001b[1;33m,\u001b[0m\u001b[0my_train_fold\u001b[0m\u001b[1;33m)\u001b[0m\u001b[1;33m\u001b[0m\u001b[1;33m\u001b[0m\u001b[0m\n\u001b[0m\u001b[0;32m     62\u001b[0m \u001b[1;33m\u001b[0m\u001b[0m\n\u001b[0;32m     63\u001b[0m             \u001b[0myhat_model\u001b[0m \u001b[1;33m=\u001b[0m \u001b[0mmodel_fit\u001b[0m\u001b[1;33m.\u001b[0m\u001b[0mpredict_proba\u001b[0m\u001b[1;33m(\u001b[0m\u001b[0mx_val_fold\u001b[0m\u001b[1;33m)\u001b[0m\u001b[1;33m\u001b[0m\u001b[1;33m\u001b[0m\u001b[0m\n",
      "\u001b[1;32m~\\anaconda3\\envs\\datasciencemproducao\\lib\\site-packages\\xgboost\\sklearn.py\u001b[0m in \u001b[0;36mfit\u001b[1;34m(self, X, y, sample_weight, eval_set, eval_metric, early_stopping_rounds, verbose, xgb_model, sample_weight_eval_set, callbacks)\u001b[0m\n\u001b[0;32m    726\u001b[0m                                     missing=self.missing, nthread=self.n_jobs)\n\u001b[0;32m    727\u001b[0m \u001b[1;33m\u001b[0m\u001b[0m\n\u001b[1;32m--> 728\u001b[1;33m         self._Booster = train(xgb_options, train_dmatrix, self.get_num_boosting_rounds(),\n\u001b[0m\u001b[0;32m    729\u001b[0m                               \u001b[0mevals\u001b[0m\u001b[1;33m=\u001b[0m\u001b[0mevals\u001b[0m\u001b[1;33m,\u001b[0m \u001b[0mearly_stopping_rounds\u001b[0m\u001b[1;33m=\u001b[0m\u001b[0mearly_stopping_rounds\u001b[0m\u001b[1;33m,\u001b[0m\u001b[1;33m\u001b[0m\u001b[1;33m\u001b[0m\u001b[0m\n\u001b[0;32m    730\u001b[0m                               \u001b[0mevals_result\u001b[0m\u001b[1;33m=\u001b[0m\u001b[0mevals_result\u001b[0m\u001b[1;33m,\u001b[0m \u001b[0mobj\u001b[0m\u001b[1;33m=\u001b[0m\u001b[0mobj\u001b[0m\u001b[1;33m,\u001b[0m \u001b[0mfeval\u001b[0m\u001b[1;33m=\u001b[0m\u001b[0mfeval\u001b[0m\u001b[1;33m,\u001b[0m\u001b[1;33m\u001b[0m\u001b[1;33m\u001b[0m\u001b[0m\n",
      "\u001b[1;32m~\\anaconda3\\envs\\datasciencemproducao\\lib\\site-packages\\xgboost\\training.py\u001b[0m in \u001b[0;36mtrain\u001b[1;34m(params, dtrain, num_boost_round, evals, obj, feval, maximize, early_stopping_rounds, evals_result, verbose_eval, xgb_model, callbacks, learning_rates)\u001b[0m\n\u001b[0;32m    210\u001b[0m         \u001b[0mcallbacks\u001b[0m\u001b[1;33m.\u001b[0m\u001b[0mappend\u001b[0m\u001b[1;33m(\u001b[0m\u001b[0mcallback\u001b[0m\u001b[1;33m.\u001b[0m\u001b[0mreset_learning_rate\u001b[0m\u001b[1;33m(\u001b[0m\u001b[0mlearning_rates\u001b[0m\u001b[1;33m)\u001b[0m\u001b[1;33m)\u001b[0m\u001b[1;33m\u001b[0m\u001b[1;33m\u001b[0m\u001b[0m\n\u001b[0;32m    211\u001b[0m \u001b[1;33m\u001b[0m\u001b[0m\n\u001b[1;32m--> 212\u001b[1;33m     return _train_internal(params, dtrain,\n\u001b[0m\u001b[0;32m    213\u001b[0m                            \u001b[0mnum_boost_round\u001b[0m\u001b[1;33m=\u001b[0m\u001b[0mnum_boost_round\u001b[0m\u001b[1;33m,\u001b[0m\u001b[1;33m\u001b[0m\u001b[1;33m\u001b[0m\u001b[0m\n\u001b[0;32m    214\u001b[0m                            \u001b[0mevals\u001b[0m\u001b[1;33m=\u001b[0m\u001b[0mevals\u001b[0m\u001b[1;33m,\u001b[0m\u001b[1;33m\u001b[0m\u001b[1;33m\u001b[0m\u001b[0m\n",
      "\u001b[1;32m~\\anaconda3\\envs\\datasciencemproducao\\lib\\site-packages\\xgboost\\training.py\u001b[0m in \u001b[0;36m_train_internal\u001b[1;34m(params, dtrain, num_boost_round, evals, obj, feval, xgb_model, callbacks)\u001b[0m\n\u001b[0;32m     72\u001b[0m         \u001b[1;31m# Skip the first update if it is a recovery step.\u001b[0m\u001b[1;33m\u001b[0m\u001b[1;33m\u001b[0m\u001b[1;33m\u001b[0m\u001b[0m\n\u001b[0;32m     73\u001b[0m         \u001b[1;32mif\u001b[0m \u001b[0mversion\u001b[0m \u001b[1;33m%\u001b[0m \u001b[1;36m2\u001b[0m \u001b[1;33m==\u001b[0m \u001b[1;36m0\u001b[0m\u001b[1;33m:\u001b[0m\u001b[1;33m\u001b[0m\u001b[1;33m\u001b[0m\u001b[0m\n\u001b[1;32m---> 74\u001b[1;33m             \u001b[0mbst\u001b[0m\u001b[1;33m.\u001b[0m\u001b[0mupdate\u001b[0m\u001b[1;33m(\u001b[0m\u001b[0mdtrain\u001b[0m\u001b[1;33m,\u001b[0m \u001b[0mi\u001b[0m\u001b[1;33m,\u001b[0m \u001b[0mobj\u001b[0m\u001b[1;33m)\u001b[0m\u001b[1;33m\u001b[0m\u001b[1;33m\u001b[0m\u001b[0m\n\u001b[0m\u001b[0;32m     75\u001b[0m             \u001b[0mbst\u001b[0m\u001b[1;33m.\u001b[0m\u001b[0msave_rabit_checkpoint\u001b[0m\u001b[1;33m(\u001b[0m\u001b[1;33m)\u001b[0m\u001b[1;33m\u001b[0m\u001b[1;33m\u001b[0m\u001b[0m\n\u001b[0;32m     76\u001b[0m             \u001b[0mversion\u001b[0m \u001b[1;33m+=\u001b[0m \u001b[1;36m1\u001b[0m\u001b[1;33m\u001b[0m\u001b[1;33m\u001b[0m\u001b[0m\n",
      "\u001b[1;32m~\\anaconda3\\envs\\datasciencemproducao\\lib\\site-packages\\xgboost\\core.py\u001b[0m in \u001b[0;36mupdate\u001b[1;34m(self, dtrain, iteration, fobj)\u001b[0m\n\u001b[0;32m   1106\u001b[0m \u001b[1;33m\u001b[0m\u001b[0m\n\u001b[0;32m   1107\u001b[0m         \u001b[1;32mif\u001b[0m \u001b[0mfobj\u001b[0m \u001b[1;32mis\u001b[0m \u001b[1;32mNone\u001b[0m\u001b[1;33m:\u001b[0m\u001b[1;33m\u001b[0m\u001b[1;33m\u001b[0m\u001b[0m\n\u001b[1;32m-> 1108\u001b[1;33m             _check_call(_LIB.XGBoosterUpdateOneIter(self.handle, ctypes.c_int(iteration),\n\u001b[0m\u001b[0;32m   1109\u001b[0m                                                     dtrain.handle))\n\u001b[0;32m   1110\u001b[0m         \u001b[1;32melse\u001b[0m\u001b[1;33m:\u001b[0m\u001b[1;33m\u001b[0m\u001b[1;33m\u001b[0m\u001b[0m\n",
      "\u001b[1;31mKeyboardInterrupt\u001b[0m: "
     ]
    }
   ],
   "source": [
    "final_result = pd.DataFrame()\n",
    "\n",
    "for i in range( MAX_EVAL ):\n",
    "    # choose values for parameters randomly\n",
    "    print ('Step ' + str(i + 1) + '/' + str(MAX_EVAL))\n",
    "    hp = { k: random.sample( v, 1 )[0] for k, v in param.items() }\n",
    "    print( hp )\n",
    "    \n",
    "    # model\n",
    "    model_xgb = xgb.XGBClassifier (objective        = hp['objective'],\n",
    "                                   eval_metric      = hp['eval_metric'],\n",
    "                                   n_estimators     = hp['n_estimators'], \n",
    "                                   eta              = hp['eta'], \n",
    "                                   max_depth        = hp['max_depth'], \n",
    "                                   subsample        = hp['subsample'],\n",
    "                                   colsample_bytree = hp['colsample_bytree'],\n",
    "                                   min_child_weight = hp['min_child_weight'])\n",
    "\n",
    "    # performance\n",
    "    result = cross_validation (df8,5, 'Final ', model_xgb,'response',15000 ,X_train, y_train, verbose= True)\n",
    "    final_result = pd.concat( [final_result, result] )\n",
    "        \n",
    "final_result"
   ]
  },
  {
   "cell_type": "code",
   "execution_count": null,
   "id": "national-transaction",
   "metadata": {
    "ExecuteTime": {
     "end_time": "2021-07-29T23:20:19.269417Z",
     "start_time": "2021-07-29T23:17:03.742Z"
    }
   },
   "outputs": [],
   "source": [
    "results_tunning = pd.read_csv('../data/tunning_results.csv')\n",
    "results_tunning"
   ]
  },
  {
   "cell_type": "markdown",
   "id": "alpha-converter",
   "metadata": {},
   "source": [
    "## 9.2 Final Model"
   ]
  },
  {
   "cell_type": "markdown",
   "id": "legendary-enlargement",
   "metadata": {},
   "source": [
    "### 9.2.1 Test Dataset"
   ]
  },
  {
   "cell_type": "code",
   "execution_count": 69,
   "id": "distant-heater",
   "metadata": {
    "ExecuteTime": {
     "end_time": "2021-07-29T23:22:06.819532Z",
     "start_time": "2021-07-29T23:22:05.959732Z"
    }
   },
   "outputs": [],
   "source": [
    "df_test = pd.read_csv('../data/raw/test.csv')\n"
   ]
  },
  {
   "cell_type": "code",
   "execution_count": 70,
   "id": "ranging-avenue",
   "metadata": {
    "ExecuteTime": {
     "end_time": "2021-07-29T23:22:08.479683Z",
     "start_time": "2021-07-29T23:22:08.379679Z"
    }
   },
   "outputs": [
    {
     "data": {
      "text/html": [
       "<div>\n",
       "<style scoped>\n",
       "    .dataframe tbody tr th:only-of-type {\n",
       "        vertical-align: middle;\n",
       "    }\n",
       "\n",
       "    .dataframe tbody tr th {\n",
       "        vertical-align: top;\n",
       "    }\n",
       "\n",
       "    .dataframe thead th {\n",
       "        text-align: right;\n",
       "    }\n",
       "</style>\n",
       "<table border=\"1\" class=\"dataframe\">\n",
       "  <thead>\n",
       "    <tr style=\"text-align: right;\">\n",
       "      <th></th>\n",
       "      <th>id</th>\n",
       "      <th>gender</th>\n",
       "      <th>age</th>\n",
       "      <th>driving_license</th>\n",
       "      <th>region_code</th>\n",
       "      <th>previously_insured</th>\n",
       "      <th>vehicle_age</th>\n",
       "      <th>vehicle_damage</th>\n",
       "      <th>annual_premium</th>\n",
       "      <th>policy_sales_channel</th>\n",
       "      <th>vintage</th>\n",
       "    </tr>\n",
       "  </thead>\n",
       "  <tbody>\n",
       "    <tr>\n",
       "      <th>0</th>\n",
       "      <td>381110</td>\n",
       "      <td>Male</td>\n",
       "      <td>25</td>\n",
       "      <td>1</td>\n",
       "      <td>11.0</td>\n",
       "      <td>1</td>\n",
       "      <td>&lt; 1 Year</td>\n",
       "      <td>No</td>\n",
       "      <td>35786.0</td>\n",
       "      <td>152.0</td>\n",
       "      <td>53</td>\n",
       "    </tr>\n",
       "    <tr>\n",
       "      <th>1</th>\n",
       "      <td>381111</td>\n",
       "      <td>Male</td>\n",
       "      <td>40</td>\n",
       "      <td>1</td>\n",
       "      <td>28.0</td>\n",
       "      <td>0</td>\n",
       "      <td>1-2 Year</td>\n",
       "      <td>Yes</td>\n",
       "      <td>33762.0</td>\n",
       "      <td>7.0</td>\n",
       "      <td>111</td>\n",
       "    </tr>\n",
       "    <tr>\n",
       "      <th>2</th>\n",
       "      <td>381112</td>\n",
       "      <td>Male</td>\n",
       "      <td>47</td>\n",
       "      <td>1</td>\n",
       "      <td>28.0</td>\n",
       "      <td>0</td>\n",
       "      <td>1-2 Year</td>\n",
       "      <td>Yes</td>\n",
       "      <td>40050.0</td>\n",
       "      <td>124.0</td>\n",
       "      <td>199</td>\n",
       "    </tr>\n",
       "    <tr>\n",
       "      <th>3</th>\n",
       "      <td>381113</td>\n",
       "      <td>Male</td>\n",
       "      <td>24</td>\n",
       "      <td>1</td>\n",
       "      <td>27.0</td>\n",
       "      <td>1</td>\n",
       "      <td>&lt; 1 Year</td>\n",
       "      <td>Yes</td>\n",
       "      <td>37356.0</td>\n",
       "      <td>152.0</td>\n",
       "      <td>187</td>\n",
       "    </tr>\n",
       "    <tr>\n",
       "      <th>4</th>\n",
       "      <td>381114</td>\n",
       "      <td>Male</td>\n",
       "      <td>27</td>\n",
       "      <td>1</td>\n",
       "      <td>28.0</td>\n",
       "      <td>1</td>\n",
       "      <td>&lt; 1 Year</td>\n",
       "      <td>No</td>\n",
       "      <td>59097.0</td>\n",
       "      <td>152.0</td>\n",
       "      <td>297</td>\n",
       "    </tr>\n",
       "  </tbody>\n",
       "</table>\n",
       "</div>"
      ],
      "text/plain": [
       "       id gender  age  driving_license  region_code  previously_insured  \\\n",
       "0  381110   Male   25                1         11.0                   1   \n",
       "1  381111   Male   40                1         28.0                   0   \n",
       "2  381112   Male   47                1         28.0                   0   \n",
       "3  381113   Male   24                1         27.0                   1   \n",
       "4  381114   Male   27                1         28.0                   1   \n",
       "\n",
       "  vehicle_age vehicle_damage  annual_premium  policy_sales_channel  vintage  \n",
       "0    < 1 Year             No         35786.0                 152.0       53  \n",
       "1    1-2 Year            Yes         33762.0                   7.0      111  \n",
       "2    1-2 Year            Yes         40050.0                 124.0      199  \n",
       "3    < 1 Year            Yes         37356.0                 152.0      187  \n",
       "4    < 1 Year             No         59097.0                 152.0      297  "
      ]
     },
     "execution_count": 70,
     "metadata": {},
     "output_type": "execute_result"
    }
   ],
   "source": [
    "#Lower case \n",
    "col_names = [name.lower() for name in df_test.columns]\n",
    "\n",
    "df_test.columns = col_names\n",
    "df_test.head()"
   ]
  },
  {
   "cell_type": "code",
   "execution_count": 81,
   "id": "postal-certification",
   "metadata": {
    "ExecuteTime": {
     "end_time": "2021-07-29T23:28:05.465630Z",
     "start_time": "2021-07-29T23:28:05.456633Z"
    }
   },
   "outputs": [],
   "source": [
    "column_selected = ['annual_premium', 'vintage', 'age', 'region_code','vehicle_damage', 'policy_sales_channel', 'gender']"
   ]
  },
  {
   "cell_type": "code",
   "execution_count": 72,
   "id": "marked-million",
   "metadata": {
    "ExecuteTime": {
     "end_time": "2021-07-29T23:22:17.489728Z",
     "start_time": "2021-07-29T23:22:17.299810Z"
    }
   },
   "outputs": [],
   "source": [
    "\n",
    "df_test['vehicle_damage'] = df_test['vehicle_damage'].apply( lambda x: 1 if x == 'Yes' else 0)\n",
    "df_test['gender'] = df_test['gender'].apply( lambda x: 1 if x == 'Female' else 0)"
   ]
  },
  {
   "cell_type": "code",
   "execution_count": 73,
   "id": "naked-eclipse",
   "metadata": {
    "ExecuteTime": {
     "end_time": "2021-07-29T23:22:19.769755Z",
     "start_time": "2021-07-29T23:22:19.309802Z"
    }
   },
   "outputs": [],
   "source": [
    "# gender - One hot enconding / Target Enconding\n",
    "df_test.loc[:, 'gender'] = encoder_gender.transform(df_test[['gender']], y=None )\n",
    "\n",
    "# age\n",
    "df_test.loc[:, 'age'] = mms_age.fit_transform(df_test[['age']].values)\n",
    "\n",
    "# region_code - Frequency Enconding / Target Enconding / Weighted Target Enconding\n",
    "df_test.loc[:, 'region_code'] = df_test.loc[:, 'region_code'].map(target_encode_region_code)\n",
    "\n",
    "# Vehicle Age\n",
    "df_test.loc[:, 'vehicle_age'] = pd.get_dummies( df_test, prefix='vehicle_age', columns=['vehicle_age'] )\n",
    "\n",
    "# annual_premium\n",
    "df_test.loc[:, 'annual_premium'] = ss.transform( df_test[['annual_premium']].values )\n",
    "\n",
    "# policy_sales_channel - Target Enconding / Frequency Enconding\n",
    "df_test.loc[:, 'policy_sales_channel'] = df_test['policy_sales_channel'].map(fe_policy_sales_channel)\n",
    "\n",
    "# vintage\n",
    "df_test.loc[:, 'vintage'] = mms_vintage.fit_transform(df_test[['vintage']].values)\n",
    "\n",
    "# fillna\n",
    "df_test = df_test.fillna (0)"
   ]
  },
  {
   "cell_type": "code",
   "execution_count": 74,
   "id": "going-composer",
   "metadata": {
    "ExecuteTime": {
     "end_time": "2021-07-29T23:22:28.429911Z",
     "start_time": "2021-07-29T23:22:28.399691Z"
    }
   },
   "outputs": [],
   "source": [
    "df_test  = df_test[column_selected]"
   ]
  },
  {
   "cell_type": "code",
   "execution_count": 75,
   "id": "medium-attention",
   "metadata": {
    "ExecuteTime": {
     "end_time": "2021-07-29T23:22:30.289427Z",
     "start_time": "2021-07-29T23:22:30.239736Z"
    }
   },
   "outputs": [],
   "source": [
    "df_train = df8.copy()"
   ]
  },
  {
   "cell_type": "code",
   "execution_count": 76,
   "id": "fixed-monkey",
   "metadata": {
    "ExecuteTime": {
     "end_time": "2021-07-29T23:22:31.649749Z",
     "start_time": "2021-07-29T23:22:31.589746Z"
    }
   },
   "outputs": [],
   "source": [
    "df_train_x = df_train.drop('response', axis = 1)\n",
    "df_train_y = df_train['response'].copy()"
   ]
  },
  {
   "cell_type": "code",
   "execution_count": 77,
   "id": "unable-nerve",
   "metadata": {
    "ExecuteTime": {
     "end_time": "2021-07-29T23:22:33.079396Z",
     "start_time": "2021-07-29T23:22:33.049464Z"
    }
   },
   "outputs": [],
   "source": [
    "df_train_x_selected = df_train_x[column_selected]\n",
    "df_train_y_selected = df_train_y.copy()"
   ]
  },
  {
   "cell_type": "code",
   "execution_count": null,
   "id": "representative-greek",
   "metadata": {},
   "outputs": [],
   "source": []
  },
  {
   "cell_type": "code",
   "execution_count": 82,
   "id": "allied-rhythm",
   "metadata": {
    "ExecuteTime": {
     "end_time": "2021-07-29T23:28:19.562329Z",
     "start_time": "2021-07-29T23:28:19.552333Z"
    }
   },
   "outputs": [],
   "source": [
    "xgb_param_tuned = {'objective'       : 'binary:logistic', \n",
    "                   'eval_metric'     : 'error', \n",
    "                   'n_estimators'    : 800, \n",
    "                   'eta'             : 0.03, \n",
    "                   'max_depth'       : 3, \n",
    "                   'subsample'       : 0.1, \n",
    "                   'colsample_bytree': 0.3, \n",
    "                   'min_child_weight': 15\n",
    "                  }"
   ]
  },
  {
   "cell_type": "code",
   "execution_count": 83,
   "id": "simplified-buffalo",
   "metadata": {
    "ExecuteTime": {
     "end_time": "2021-07-29T23:32:18.797785Z",
     "start_time": "2021-07-29T23:28:26.405728Z"
    }
   },
   "outputs": [],
   "source": [
    "model_xgb_tuned = xgb.XGBClassifier (objective        = xgb_param_tuned['objective'],\n",
    "                                     eval_metric      = xgb_param_tuned['eval_metric'],\n",
    "                                     n_estimators     = xgb_param_tuned['n_estimators'], \n",
    "                                     eta              = xgb_param_tuned['eta'], \n",
    "                                     max_depth        = xgb_param_tuned['max_depth'], \n",
    "                                     subsample        = xgb_param_tuned['subsample'],\n",
    "                                     colsample_bytree = xgb_param_tuned['colsample_bytree'],\n",
    "                                     min_child_weight = xgb_param_tuned['min_child_weight']).fit(df_train_x_selected ,df_train_y_selected )\n",
    "\n",
    "\n",
    "\n",
    "yhat_xgb_tuned = model_xgb_tuned.predict_proba(df_test)"
   ]
  },
  {
   "cell_type": "code",
   "execution_count": 80,
   "id": "agreed-livestock",
   "metadata": {
    "ExecuteTime": {
     "end_time": "2021-07-29T23:26:49.958064Z",
     "start_time": "2021-07-29T23:26:49.674086Z"
    }
   },
   "outputs": [
    {
     "data": {
      "text/html": [
       "<div>\n",
       "<style scoped>\n",
       "    .dataframe tbody tr th:only-of-type {\n",
       "        vertical-align: middle;\n",
       "    }\n",
       "\n",
       "    .dataframe tbody tr th {\n",
       "        vertical-align: top;\n",
       "    }\n",
       "\n",
       "    .dataframe thead th {\n",
       "        text-align: right;\n",
       "    }\n",
       "</style>\n",
       "<table border=\"1\" class=\"dataframe\">\n",
       "  <thead>\n",
       "    <tr style=\"text-align: right;\">\n",
       "      <th></th>\n",
       "      <th>index</th>\n",
       "      <th>annual_premium</th>\n",
       "      <th>vintage</th>\n",
       "      <th>age</th>\n",
       "      <th>region_code</th>\n",
       "      <th>vehicle_damage</th>\n",
       "      <th>policy_sales_channel</th>\n",
       "      <th>score</th>\n",
       "      <th>ranking</th>\n",
       "    </tr>\n",
       "  </thead>\n",
       "  <tbody>\n",
       "    <tr>\n",
       "      <th>0</th>\n",
       "      <td>13033</td>\n",
       "      <td>-1.116179</td>\n",
       "      <td>0.747405</td>\n",
       "      <td>0.153846</td>\n",
       "      <td>0.102981</td>\n",
       "      <td>1</td>\n",
       "      <td>0.003174</td>\n",
       "      <td>0.601757</td>\n",
       "      <td>1</td>\n",
       "    </tr>\n",
       "    <tr>\n",
       "      <th>1</th>\n",
       "      <td>40385</td>\n",
       "      <td>-1.449171</td>\n",
       "      <td>0.671280</td>\n",
       "      <td>0.261538</td>\n",
       "      <td>0.102981</td>\n",
       "      <td>1</td>\n",
       "      <td>0.003174</td>\n",
       "      <td>0.594845</td>\n",
       "      <td>2</td>\n",
       "    </tr>\n",
       "    <tr>\n",
       "      <th>2</th>\n",
       "      <td>89500</td>\n",
       "      <td>0.332229</td>\n",
       "      <td>0.965398</td>\n",
       "      <td>0.200000</td>\n",
       "      <td>0.102981</td>\n",
       "      <td>1</td>\n",
       "      <td>0.006404</td>\n",
       "      <td>0.592168</td>\n",
       "      <td>3</td>\n",
       "    </tr>\n",
       "    <tr>\n",
       "      <th>3</th>\n",
       "      <td>93331</td>\n",
       "      <td>-1.446618</td>\n",
       "      <td>0.166090</td>\n",
       "      <td>0.200000</td>\n",
       "      <td>0.115881</td>\n",
       "      <td>1</td>\n",
       "      <td>0.003174</td>\n",
       "      <td>0.589507</td>\n",
       "      <td>4</td>\n",
       "    </tr>\n",
       "    <tr>\n",
       "      <th>4</th>\n",
       "      <td>3761</td>\n",
       "      <td>-3.044380</td>\n",
       "      <td>0.743945</td>\n",
       "      <td>0.215385</td>\n",
       "      <td>0.102981</td>\n",
       "      <td>1</td>\n",
       "      <td>0.006404</td>\n",
       "      <td>0.584106</td>\n",
       "      <td>5</td>\n",
       "    </tr>\n",
       "    <tr>\n",
       "      <th>5</th>\n",
       "      <td>45406</td>\n",
       "      <td>-0.615778</td>\n",
       "      <td>0.788927</td>\n",
       "      <td>0.200000</td>\n",
       "      <td>0.118519</td>\n",
       "      <td>1</td>\n",
       "      <td>0.006404</td>\n",
       "      <td>0.582879</td>\n",
       "      <td>6</td>\n",
       "    </tr>\n",
       "    <tr>\n",
       "      <th>6</th>\n",
       "      <td>92815</td>\n",
       "      <td>2.261798</td>\n",
       "      <td>0.743945</td>\n",
       "      <td>0.153846</td>\n",
       "      <td>0.187291</td>\n",
       "      <td>1</td>\n",
       "      <td>0.003174</td>\n",
       "      <td>0.581553</td>\n",
       "      <td>7</td>\n",
       "    </tr>\n",
       "    <tr>\n",
       "      <th>7</th>\n",
       "      <td>86817</td>\n",
       "      <td>-1.417714</td>\n",
       "      <td>0.892734</td>\n",
       "      <td>0.230769</td>\n",
       "      <td>0.102981</td>\n",
       "      <td>1</td>\n",
       "      <td>0.212614</td>\n",
       "      <td>0.581082</td>\n",
       "      <td>8</td>\n",
       "    </tr>\n",
       "    <tr>\n",
       "      <th>8</th>\n",
       "      <td>29595</td>\n",
       "      <td>-1.426376</td>\n",
       "      <td>0.252595</td>\n",
       "      <td>0.200000</td>\n",
       "      <td>0.102981</td>\n",
       "      <td>1</td>\n",
       "      <td>0.212614</td>\n",
       "      <td>0.581026</td>\n",
       "      <td>9</td>\n",
       "    </tr>\n",
       "    <tr>\n",
       "      <th>9</th>\n",
       "      <td>93345</td>\n",
       "      <td>1.597272</td>\n",
       "      <td>0.121107</td>\n",
       "      <td>0.246154</td>\n",
       "      <td>0.113231</td>\n",
       "      <td>1</td>\n",
       "      <td>0.003174</td>\n",
       "      <td>0.569086</td>\n",
       "      <td>10</td>\n",
       "    </tr>\n",
       "    <tr>\n",
       "      <th>10</th>\n",
       "      <td>97912</td>\n",
       "      <td>1.443267</td>\n",
       "      <td>0.941176</td>\n",
       "      <td>0.215385</td>\n",
       "      <td>0.102981</td>\n",
       "      <td>1</td>\n",
       "      <td>0.009209</td>\n",
       "      <td>0.564718</td>\n",
       "      <td>11</td>\n",
       "    </tr>\n",
       "    <tr>\n",
       "      <th>11</th>\n",
       "      <td>48936</td>\n",
       "      <td>-3.044380</td>\n",
       "      <td>0.010381</td>\n",
       "      <td>0.153846</td>\n",
       "      <td>0.113231</td>\n",
       "      <td>1</td>\n",
       "      <td>0.007438</td>\n",
       "      <td>0.558715</td>\n",
       "      <td>12</td>\n",
       "    </tr>\n",
       "    <tr>\n",
       "      <th>12</th>\n",
       "      <td>67353</td>\n",
       "      <td>-3.044380</td>\n",
       "      <td>0.010381</td>\n",
       "      <td>0.246154</td>\n",
       "      <td>0.102981</td>\n",
       "      <td>1</td>\n",
       "      <td>0.007438</td>\n",
       "      <td>0.558600</td>\n",
       "      <td>13</td>\n",
       "    </tr>\n",
       "    <tr>\n",
       "      <th>13</th>\n",
       "      <td>110635</td>\n",
       "      <td>-1.307659</td>\n",
       "      <td>0.581315</td>\n",
       "      <td>0.215385</td>\n",
       "      <td>0.115881</td>\n",
       "      <td>1</td>\n",
       "      <td>0.212614</td>\n",
       "      <td>0.556367</td>\n",
       "      <td>14</td>\n",
       "    </tr>\n",
       "    <tr>\n",
       "      <th>14</th>\n",
       "      <td>79010</td>\n",
       "      <td>0.269770</td>\n",
       "      <td>0.117647</td>\n",
       "      <td>0.230769</td>\n",
       "      <td>0.113231</td>\n",
       "      <td>1</td>\n",
       "      <td>0.006404</td>\n",
       "      <td>0.556331</td>\n",
       "      <td>15</td>\n",
       "    </tr>\n",
       "    <tr>\n",
       "      <th>15</th>\n",
       "      <td>88570</td>\n",
       "      <td>-1.347596</td>\n",
       "      <td>0.885813</td>\n",
       "      <td>0.215385</td>\n",
       "      <td>0.102981</td>\n",
       "      <td>1</td>\n",
       "      <td>0.003174</td>\n",
       "      <td>0.555646</td>\n",
       "      <td>16</td>\n",
       "    </tr>\n",
       "    <tr>\n",
       "      <th>16</th>\n",
       "      <td>38804</td>\n",
       "      <td>-0.065228</td>\n",
       "      <td>0.422145</td>\n",
       "      <td>0.184615</td>\n",
       "      <td>0.102981</td>\n",
       "      <td>1</td>\n",
       "      <td>0.006404</td>\n",
       "      <td>0.555420</td>\n",
       "      <td>17</td>\n",
       "    </tr>\n",
       "    <tr>\n",
       "      <th>17</th>\n",
       "      <td>100831</td>\n",
       "      <td>0.224635</td>\n",
       "      <td>0.494810</td>\n",
       "      <td>0.169231</td>\n",
       "      <td>0.113231</td>\n",
       "      <td>1</td>\n",
       "      <td>0.006404</td>\n",
       "      <td>0.553103</td>\n",
       "      <td>18</td>\n",
       "    </tr>\n",
       "    <tr>\n",
       "      <th>18</th>\n",
       "      <td>71473</td>\n",
       "      <td>-0.602922</td>\n",
       "      <td>0.539792</td>\n",
       "      <td>0.200000</td>\n",
       "      <td>0.102981</td>\n",
       "      <td>1</td>\n",
       "      <td>0.212614</td>\n",
       "      <td>0.552829</td>\n",
       "      <td>19</td>\n",
       "    </tr>\n",
       "    <tr>\n",
       "      <th>19</th>\n",
       "      <td>40685</td>\n",
       "      <td>2.136515</td>\n",
       "      <td>0.442907</td>\n",
       "      <td>0.246154</td>\n",
       "      <td>0.102981</td>\n",
       "      <td>1</td>\n",
       "      <td>0.003174</td>\n",
       "      <td>0.551569</td>\n",
       "      <td>20</td>\n",
       "    </tr>\n",
       "    <tr>\n",
       "      <th>20</th>\n",
       "      <td>24780</td>\n",
       "      <td>-0.236557</td>\n",
       "      <td>0.913495</td>\n",
       "      <td>0.153846</td>\n",
       "      <td>0.118519</td>\n",
       "      <td>1</td>\n",
       "      <td>0.003174</td>\n",
       "      <td>0.551456</td>\n",
       "      <td>21</td>\n",
       "    </tr>\n",
       "    <tr>\n",
       "      <th>21</th>\n",
       "      <td>74058</td>\n",
       "      <td>-0.569003</td>\n",
       "      <td>0.314879</td>\n",
       "      <td>0.200000</td>\n",
       "      <td>0.154280</td>\n",
       "      <td>1</td>\n",
       "      <td>0.003174</td>\n",
       "      <td>0.550889</td>\n",
       "      <td>22</td>\n",
       "    </tr>\n",
       "    <tr>\n",
       "      <th>22</th>\n",
       "      <td>36074</td>\n",
       "      <td>-1.256597</td>\n",
       "      <td>0.252595</td>\n",
       "      <td>0.215385</td>\n",
       "      <td>0.155085</td>\n",
       "      <td>1</td>\n",
       "      <td>0.006404</td>\n",
       "      <td>0.550840</td>\n",
       "      <td>23</td>\n",
       "    </tr>\n",
       "    <tr>\n",
       "      <th>23</th>\n",
       "      <td>4012</td>\n",
       "      <td>0.110842</td>\n",
       "      <td>0.667820</td>\n",
       "      <td>0.215385</td>\n",
       "      <td>0.115881</td>\n",
       "      <td>1</td>\n",
       "      <td>0.003174</td>\n",
       "      <td>0.550013</td>\n",
       "      <td>24</td>\n",
       "    </tr>\n",
       "    <tr>\n",
       "      <th>24</th>\n",
       "      <td>68486</td>\n",
       "      <td>-1.468957</td>\n",
       "      <td>0.612457</td>\n",
       "      <td>0.153846</td>\n",
       "      <td>0.119508</td>\n",
       "      <td>1</td>\n",
       "      <td>0.006404</td>\n",
       "      <td>0.549292</td>\n",
       "      <td>25</td>\n",
       "    </tr>\n",
       "    <tr>\n",
       "      <th>25</th>\n",
       "      <td>5230</td>\n",
       "      <td>-3.044380</td>\n",
       "      <td>1.000000</td>\n",
       "      <td>0.276923</td>\n",
       "      <td>0.115881</td>\n",
       "      <td>1</td>\n",
       "      <td>0.006404</td>\n",
       "      <td>0.548445</td>\n",
       "      <td>26</td>\n",
       "    </tr>\n",
       "    <tr>\n",
       "      <th>26</th>\n",
       "      <td>36913</td>\n",
       "      <td>-3.044380</td>\n",
       "      <td>0.020761</td>\n",
       "      <td>0.215385</td>\n",
       "      <td>0.102981</td>\n",
       "      <td>1</td>\n",
       "      <td>0.007438</td>\n",
       "      <td>0.548005</td>\n",
       "      <td>27</td>\n",
       "    </tr>\n",
       "    <tr>\n",
       "      <th>27</th>\n",
       "      <td>67358</td>\n",
       "      <td>-3.044380</td>\n",
       "      <td>0.373702</td>\n",
       "      <td>0.230769</td>\n",
       "      <td>0.113231</td>\n",
       "      <td>1</td>\n",
       "      <td>0.006404</td>\n",
       "      <td>0.547383</td>\n",
       "      <td>28</td>\n",
       "    </tr>\n",
       "    <tr>\n",
       "      <th>28</th>\n",
       "      <td>88271</td>\n",
       "      <td>-3.044380</td>\n",
       "      <td>0.854671</td>\n",
       "      <td>0.215385</td>\n",
       "      <td>0.102981</td>\n",
       "      <td>1</td>\n",
       "      <td>0.212614</td>\n",
       "      <td>0.547118</td>\n",
       "      <td>29</td>\n",
       "    </tr>\n",
       "    <tr>\n",
       "      <th>29</th>\n",
       "      <td>25919</td>\n",
       "      <td>0.254087</td>\n",
       "      <td>0.314879</td>\n",
       "      <td>0.200000</td>\n",
       "      <td>0.187291</td>\n",
       "      <td>1</td>\n",
       "      <td>0.003174</td>\n",
       "      <td>0.546716</td>\n",
       "      <td>30</td>\n",
       "    </tr>\n",
       "    <tr>\n",
       "      <th>30</th>\n",
       "      <td>123307</td>\n",
       "      <td>-0.454662</td>\n",
       "      <td>0.089965</td>\n",
       "      <td>0.200000</td>\n",
       "      <td>0.152021</td>\n",
       "      <td>1</td>\n",
       "      <td>0.003174</td>\n",
       "      <td>0.544597</td>\n",
       "      <td>31</td>\n",
       "    </tr>\n",
       "    <tr>\n",
       "      <th>31</th>\n",
       "      <td>16073</td>\n",
       "      <td>-1.470507</td>\n",
       "      <td>0.522491</td>\n",
       "      <td>0.261538</td>\n",
       "      <td>0.102981</td>\n",
       "      <td>1</td>\n",
       "      <td>0.006404</td>\n",
       "      <td>0.544268</td>\n",
       "      <td>32</td>\n",
       "    </tr>\n",
       "    <tr>\n",
       "      <th>32</th>\n",
       "      <td>119674</td>\n",
       "      <td>-0.430681</td>\n",
       "      <td>0.044983</td>\n",
       "      <td>0.184615</td>\n",
       "      <td>0.187291</td>\n",
       "      <td>1</td>\n",
       "      <td>0.006404</td>\n",
       "      <td>0.543411</td>\n",
       "      <td>33</td>\n",
       "    </tr>\n",
       "    <tr>\n",
       "      <th>33</th>\n",
       "      <td>42660</td>\n",
       "      <td>-3.044380</td>\n",
       "      <td>0.820069</td>\n",
       "      <td>0.230769</td>\n",
       "      <td>0.102981</td>\n",
       "      <td>1</td>\n",
       "      <td>0.212614</td>\n",
       "      <td>0.542467</td>\n",
       "      <td>34</td>\n",
       "    </tr>\n",
       "    <tr>\n",
       "      <th>34</th>\n",
       "      <td>109775</td>\n",
       "      <td>-0.610399</td>\n",
       "      <td>0.096886</td>\n",
       "      <td>0.138462</td>\n",
       "      <td>0.105873</td>\n",
       "      <td>1</td>\n",
       "      <td>0.003174</td>\n",
       "      <td>0.541569</td>\n",
       "      <td>35</td>\n",
       "    </tr>\n",
       "    <tr>\n",
       "      <th>35</th>\n",
       "      <td>53983</td>\n",
       "      <td>-3.044380</td>\n",
       "      <td>0.100346</td>\n",
       "      <td>0.153846</td>\n",
       "      <td>0.113231</td>\n",
       "      <td>1</td>\n",
       "      <td>0.006404</td>\n",
       "      <td>0.541001</td>\n",
       "      <td>36</td>\n",
       "    </tr>\n",
       "    <tr>\n",
       "      <th>36</th>\n",
       "      <td>102354</td>\n",
       "      <td>-0.684711</td>\n",
       "      <td>0.671280</td>\n",
       "      <td>0.184615</td>\n",
       "      <td>0.187291</td>\n",
       "      <td>1</td>\n",
       "      <td>0.003174</td>\n",
       "      <td>0.540896</td>\n",
       "      <td>37</td>\n",
       "    </tr>\n",
       "    <tr>\n",
       "      <th>37</th>\n",
       "      <td>103028</td>\n",
       "      <td>-3.044380</td>\n",
       "      <td>0.332180</td>\n",
       "      <td>0.200000</td>\n",
       "      <td>0.113231</td>\n",
       "      <td>1</td>\n",
       "      <td>0.006404</td>\n",
       "      <td>0.540855</td>\n",
       "      <td>38</td>\n",
       "    </tr>\n",
       "    <tr>\n",
       "      <th>38</th>\n",
       "      <td>106560</td>\n",
       "      <td>-1.758548</td>\n",
       "      <td>0.477509</td>\n",
       "      <td>0.184615</td>\n",
       "      <td>0.113231</td>\n",
       "      <td>1</td>\n",
       "      <td>0.006404</td>\n",
       "      <td>0.540663</td>\n",
       "      <td>39</td>\n",
       "    </tr>\n",
       "    <tr>\n",
       "      <th>39</th>\n",
       "      <td>23536</td>\n",
       "      <td>-3.044380</td>\n",
       "      <td>0.664360</td>\n",
       "      <td>0.184615</td>\n",
       "      <td>0.500000</td>\n",
       "      <td>1</td>\n",
       "      <td>0.006404</td>\n",
       "      <td>0.540591</td>\n",
       "      <td>40</td>\n",
       "    </tr>\n",
       "    <tr>\n",
       "      <th>40</th>\n",
       "      <td>8064</td>\n",
       "      <td>-3.044380</td>\n",
       "      <td>0.930796</td>\n",
       "      <td>0.200000</td>\n",
       "      <td>0.333333</td>\n",
       "      <td>1</td>\n",
       "      <td>0.006404</td>\n",
       "      <td>0.539744</td>\n",
       "      <td>41</td>\n",
       "    </tr>\n",
       "    <tr>\n",
       "      <th>41</th>\n",
       "      <td>73741</td>\n",
       "      <td>-0.903819</td>\n",
       "      <td>0.010381</td>\n",
       "      <td>0.261538</td>\n",
       "      <td>0.118519</td>\n",
       "      <td>1</td>\n",
       "      <td>0.006404</td>\n",
       "      <td>0.539738</td>\n",
       "      <td>42</td>\n",
       "    </tr>\n",
       "    <tr>\n",
       "      <th>42</th>\n",
       "      <td>109752</td>\n",
       "      <td>-0.241207</td>\n",
       "      <td>0.096886</td>\n",
       "      <td>0.184615</td>\n",
       "      <td>0.118519</td>\n",
       "      <td>1</td>\n",
       "      <td>0.006404</td>\n",
       "      <td>0.539673</td>\n",
       "      <td>43</td>\n",
       "    </tr>\n",
       "    <tr>\n",
       "      <th>43</th>\n",
       "      <td>5205</td>\n",
       "      <td>-0.625352</td>\n",
       "      <td>0.681661</td>\n",
       "      <td>0.276923</td>\n",
       "      <td>0.115881</td>\n",
       "      <td>1</td>\n",
       "      <td>0.006404</td>\n",
       "      <td>0.538757</td>\n",
       "      <td>44</td>\n",
       "    </tr>\n",
       "    <tr>\n",
       "      <th>44</th>\n",
       "      <td>94569</td>\n",
       "      <td>-3.044380</td>\n",
       "      <td>0.532872</td>\n",
       "      <td>0.200000</td>\n",
       "      <td>0.102981</td>\n",
       "      <td>1</td>\n",
       "      <td>0.212614</td>\n",
       "      <td>0.538247</td>\n",
       "      <td>45</td>\n",
       "    </tr>\n",
       "    <tr>\n",
       "      <th>45</th>\n",
       "      <td>16602</td>\n",
       "      <td>-0.821209</td>\n",
       "      <td>0.754325</td>\n",
       "      <td>0.153846</td>\n",
       "      <td>0.155085</td>\n",
       "      <td>1</td>\n",
       "      <td>0.212614</td>\n",
       "      <td>0.537537</td>\n",
       "      <td>46</td>\n",
       "    </tr>\n",
       "    <tr>\n",
       "      <th>46</th>\n",
       "      <td>86753</td>\n",
       "      <td>-0.918499</td>\n",
       "      <td>0.667820</td>\n",
       "      <td>0.215385</td>\n",
       "      <td>0.102981</td>\n",
       "      <td>1</td>\n",
       "      <td>0.212614</td>\n",
       "      <td>0.537377</td>\n",
       "      <td>47</td>\n",
       "    </tr>\n",
       "    <tr>\n",
       "      <th>47</th>\n",
       "      <td>107158</td>\n",
       "      <td>-3.044380</td>\n",
       "      <td>0.996540</td>\n",
       "      <td>0.215385</td>\n",
       "      <td>0.428571</td>\n",
       "      <td>1</td>\n",
       "      <td>0.212614</td>\n",
       "      <td>0.537352</td>\n",
       "      <td>48</td>\n",
       "    </tr>\n",
       "    <tr>\n",
       "      <th>48</th>\n",
       "      <td>86085</td>\n",
       "      <td>-3.044380</td>\n",
       "      <td>0.276817</td>\n",
       "      <td>0.246154</td>\n",
       "      <td>0.102981</td>\n",
       "      <td>1</td>\n",
       "      <td>0.003174</td>\n",
       "      <td>0.536267</td>\n",
       "      <td>49</td>\n",
       "    </tr>\n",
       "    <tr>\n",
       "      <th>49</th>\n",
       "      <td>44229</td>\n",
       "      <td>-3.044380</td>\n",
       "      <td>0.726644</td>\n",
       "      <td>0.153846</td>\n",
       "      <td>0.115881</td>\n",
       "      <td>1</td>\n",
       "      <td>0.006404</td>\n",
       "      <td>0.536119</td>\n",
       "      <td>50</td>\n",
       "    </tr>\n",
       "  </tbody>\n",
       "</table>\n",
       "</div>"
      ],
      "text/plain": [
       "     index  annual_premium   vintage       age  region_code  vehicle_damage  \\\n",
       "0    13033       -1.116179  0.747405  0.153846     0.102981               1   \n",
       "1    40385       -1.449171  0.671280  0.261538     0.102981               1   \n",
       "2    89500        0.332229  0.965398  0.200000     0.102981               1   \n",
       "3    93331       -1.446618  0.166090  0.200000     0.115881               1   \n",
       "4     3761       -3.044380  0.743945  0.215385     0.102981               1   \n",
       "5    45406       -0.615778  0.788927  0.200000     0.118519               1   \n",
       "6    92815        2.261798  0.743945  0.153846     0.187291               1   \n",
       "7    86817       -1.417714  0.892734  0.230769     0.102981               1   \n",
       "8    29595       -1.426376  0.252595  0.200000     0.102981               1   \n",
       "9    93345        1.597272  0.121107  0.246154     0.113231               1   \n",
       "10   97912        1.443267  0.941176  0.215385     0.102981               1   \n",
       "11   48936       -3.044380  0.010381  0.153846     0.113231               1   \n",
       "12   67353       -3.044380  0.010381  0.246154     0.102981               1   \n",
       "13  110635       -1.307659  0.581315  0.215385     0.115881               1   \n",
       "14   79010        0.269770  0.117647  0.230769     0.113231               1   \n",
       "15   88570       -1.347596  0.885813  0.215385     0.102981               1   \n",
       "16   38804       -0.065228  0.422145  0.184615     0.102981               1   \n",
       "17  100831        0.224635  0.494810  0.169231     0.113231               1   \n",
       "18   71473       -0.602922  0.539792  0.200000     0.102981               1   \n",
       "19   40685        2.136515  0.442907  0.246154     0.102981               1   \n",
       "20   24780       -0.236557  0.913495  0.153846     0.118519               1   \n",
       "21   74058       -0.569003  0.314879  0.200000     0.154280               1   \n",
       "22   36074       -1.256597  0.252595  0.215385     0.155085               1   \n",
       "23    4012        0.110842  0.667820  0.215385     0.115881               1   \n",
       "24   68486       -1.468957  0.612457  0.153846     0.119508               1   \n",
       "25    5230       -3.044380  1.000000  0.276923     0.115881               1   \n",
       "26   36913       -3.044380  0.020761  0.215385     0.102981               1   \n",
       "27   67358       -3.044380  0.373702  0.230769     0.113231               1   \n",
       "28   88271       -3.044380  0.854671  0.215385     0.102981               1   \n",
       "29   25919        0.254087  0.314879  0.200000     0.187291               1   \n",
       "30  123307       -0.454662  0.089965  0.200000     0.152021               1   \n",
       "31   16073       -1.470507  0.522491  0.261538     0.102981               1   \n",
       "32  119674       -0.430681  0.044983  0.184615     0.187291               1   \n",
       "33   42660       -3.044380  0.820069  0.230769     0.102981               1   \n",
       "34  109775       -0.610399  0.096886  0.138462     0.105873               1   \n",
       "35   53983       -3.044380  0.100346  0.153846     0.113231               1   \n",
       "36  102354       -0.684711  0.671280  0.184615     0.187291               1   \n",
       "37  103028       -3.044380  0.332180  0.200000     0.113231               1   \n",
       "38  106560       -1.758548  0.477509  0.184615     0.113231               1   \n",
       "39   23536       -3.044380  0.664360  0.184615     0.500000               1   \n",
       "40    8064       -3.044380  0.930796  0.200000     0.333333               1   \n",
       "41   73741       -0.903819  0.010381  0.261538     0.118519               1   \n",
       "42  109752       -0.241207  0.096886  0.184615     0.118519               1   \n",
       "43    5205       -0.625352  0.681661  0.276923     0.115881               1   \n",
       "44   94569       -3.044380  0.532872  0.200000     0.102981               1   \n",
       "45   16602       -0.821209  0.754325  0.153846     0.155085               1   \n",
       "46   86753       -0.918499  0.667820  0.215385     0.102981               1   \n",
       "47  107158       -3.044380  0.996540  0.215385     0.428571               1   \n",
       "48   86085       -3.044380  0.276817  0.246154     0.102981               1   \n",
       "49   44229       -3.044380  0.726644  0.153846     0.115881               1   \n",
       "\n",
       "    policy_sales_channel     score  ranking  \n",
       "0               0.003174  0.601757        1  \n",
       "1               0.003174  0.594845        2  \n",
       "2               0.006404  0.592168        3  \n",
       "3               0.003174  0.589507        4  \n",
       "4               0.006404  0.584106        5  \n",
       "5               0.006404  0.582879        6  \n",
       "6               0.003174  0.581553        7  \n",
       "7               0.212614  0.581082        8  \n",
       "8               0.212614  0.581026        9  \n",
       "9               0.003174  0.569086       10  \n",
       "10              0.009209  0.564718       11  \n",
       "11              0.007438  0.558715       12  \n",
       "12              0.007438  0.558600       13  \n",
       "13              0.212614  0.556367       14  \n",
       "14              0.006404  0.556331       15  \n",
       "15              0.003174  0.555646       16  \n",
       "16              0.006404  0.555420       17  \n",
       "17              0.006404  0.553103       18  \n",
       "18              0.212614  0.552829       19  \n",
       "19              0.003174  0.551569       20  \n",
       "20              0.003174  0.551456       21  \n",
       "21              0.003174  0.550889       22  \n",
       "22              0.006404  0.550840       23  \n",
       "23              0.003174  0.550013       24  \n",
       "24              0.006404  0.549292       25  \n",
       "25              0.006404  0.548445       26  \n",
       "26              0.007438  0.548005       27  \n",
       "27              0.006404  0.547383       28  \n",
       "28              0.212614  0.547118       29  \n",
       "29              0.003174  0.546716       30  \n",
       "30              0.003174  0.544597       31  \n",
       "31              0.006404  0.544268       32  \n",
       "32              0.006404  0.543411       33  \n",
       "33              0.212614  0.542467       34  \n",
       "34              0.003174  0.541569       35  \n",
       "35              0.006404  0.541001       36  \n",
       "36              0.003174  0.540896       37  \n",
       "37              0.006404  0.540855       38  \n",
       "38              0.006404  0.540663       39  \n",
       "39              0.006404  0.540591       40  \n",
       "40              0.006404  0.539744       41  \n",
       "41              0.006404  0.539738       42  \n",
       "42              0.006404  0.539673       43  \n",
       "43              0.006404  0.538757       44  \n",
       "44              0.212614  0.538247       45  \n",
       "45              0.212614  0.537537       46  \n",
       "46              0.212614  0.537377       47  \n",
       "47              0.212614  0.537352       48  \n",
       "48              0.003174  0.536267       49  \n",
       "49              0.006404  0.536119       50  "
      ]
     },
     "execution_count": 80,
     "metadata": {},
     "output_type": "execute_result"
    }
   ],
   "source": [
    "df_predictions= df_test.copy()\n",
    "df_predictions['score'] = yhat_xgb_tuned[:,1].tolist()\n",
    "df_predictions = df_predictions.sort_values('score', ascending = False).reset_index()\n",
    "df_predictions['ranking'] = df_predictions.index+1\n",
    "df_predictions.head(50)"
   ]
  }
 ],
 "metadata": {
  "kernelspec": {
   "display_name": "Python 3",
   "language": "python",
   "name": "python3"
  },
  "language_info": {
   "codemirror_mode": {
    "name": "ipython",
    "version": 3
   },
   "file_extension": ".py",
   "mimetype": "text/x-python",
   "name": "python",
   "nbconvert_exporter": "python",
   "pygments_lexer": "ipython3",
   "version": "3.8.8"
  }
 },
 "nbformat": 4,
 "nbformat_minor": 5
}
