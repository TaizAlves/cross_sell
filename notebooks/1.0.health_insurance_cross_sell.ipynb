{
 "cells": [
  {
   "cell_type": "markdown",
   "id": "deadly-premiere",
   "metadata": {},
   "source": [
    "# 0.0. Imports"
   ]
  },
  {
   "cell_type": "code",
   "execution_count": 1,
   "id": "technical-slide",
   "metadata": {
    "ExecuteTime": {
     "end_time": "2021-07-25T21:21:03.387467Z",
     "start_time": "2021-07-25T21:20:48.284831Z"
    }
   },
   "outputs": [
    {
     "name": "stderr",
     "output_type": "stream",
     "text": [
      "In C:\\Users\\ACER\\anaconda3\\envs\\datasciencemproducao\\lib\\site-packages\\matplotlib\\mpl-data\\stylelib\\_classic_test.mplstyle: \n",
      "The text.latex.preview rcparam was deprecated in Matplotlib 3.3 and will be removed two minor releases later.\n",
      "In C:\\Users\\ACER\\anaconda3\\envs\\datasciencemproducao\\lib\\site-packages\\matplotlib\\mpl-data\\stylelib\\_classic_test.mplstyle: \n",
      "The mathtext.fallback_to_cm rcparam was deprecated in Matplotlib 3.3 and will be removed two minor releases later.\n",
      "In C:\\Users\\ACER\\anaconda3\\envs\\datasciencemproducao\\lib\\site-packages\\matplotlib\\mpl-data\\stylelib\\_classic_test.mplstyle: Support for setting the 'mathtext.fallback_to_cm' rcParam is deprecated since 3.3 and will be removed two minor releases later; use 'mathtext.fallback : 'cm' instead.\n",
      "In C:\\Users\\ACER\\anaconda3\\envs\\datasciencemproducao\\lib\\site-packages\\matplotlib\\mpl-data\\stylelib\\_classic_test.mplstyle: \n",
      "The validate_bool_maybe_none function was deprecated in Matplotlib 3.3 and will be removed two minor releases later.\n",
      "In C:\\Users\\ACER\\anaconda3\\envs\\datasciencemproducao\\lib\\site-packages\\matplotlib\\mpl-data\\stylelib\\_classic_test.mplstyle: \n",
      "The savefig.jpeg_quality rcparam was deprecated in Matplotlib 3.3 and will be removed two minor releases later.\n",
      "In C:\\Users\\ACER\\anaconda3\\envs\\datasciencemproducao\\lib\\site-packages\\matplotlib\\mpl-data\\stylelib\\_classic_test.mplstyle: \n",
      "The keymap.all_axes rcparam was deprecated in Matplotlib 3.3 and will be removed two minor releases later.\n",
      "In C:\\Users\\ACER\\anaconda3\\envs\\datasciencemproducao\\lib\\site-packages\\matplotlib\\mpl-data\\stylelib\\_classic_test.mplstyle: \n",
      "The animation.avconv_path rcparam was deprecated in Matplotlib 3.3 and will be removed two minor releases later.\n",
      "In C:\\Users\\ACER\\anaconda3\\envs\\datasciencemproducao\\lib\\site-packages\\matplotlib\\mpl-data\\stylelib\\_classic_test.mplstyle: \n",
      "The animation.avconv_args rcparam was deprecated in Matplotlib 3.3 and will be removed two minor releases later.\n"
     ]
    }
   ],
   "source": [
    "import numpy  as np\n",
    "import pandas as pd\n",
    "import scikitplot as skplt\n",
    "\n",
    "import seaborn as sns\n",
    "from boruta                import BorutaPy\n",
    "\n",
    "from matplotlib import pyplot as plt\n",
    "\n",
    "from pandas_profiling import ProfileReport\n",
    "\n",
    "import xgboost           as xgb\n",
    "\n",
    "from sklearn.svm import SVC\n",
    "from sklearn import model_selection as ms\n",
    "from sklearn import linear_model    as lm\n",
    "from sklearn import preprocessing   as pp\n",
    "from sklearn import ensemble        as en\n",
    "from sklearn import neighbors       as nh \n",
    "from sklearn.naive_bayes import GaussianNB\n",
    "\n",
    "from sklearn.ensemble      import RandomForestClassifier\n",
    "\n",
    "from category_encoders import TargetEncoder"
   ]
  },
  {
   "cell_type": "code",
   "execution_count": 2,
   "id": "brilliant-fortune",
   "metadata": {
    "ExecuteTime": {
     "end_time": "2021-07-25T21:21:03.403084Z",
     "start_time": "2021-07-25T21:21:03.387467Z"
    }
   },
   "outputs": [],
   "source": [
    "#!pip install scikit-plot"
   ]
  },
  {
   "cell_type": "markdown",
   "id": "quarterly-programming",
   "metadata": {},
   "source": [
    "# 0.1. Helper Function"
   ]
  },
  {
   "cell_type": "markdown",
   "id": "published-current",
   "metadata": {},
   "source": [
    "# 0.2. Load dataset"
   ]
  },
  {
   "cell_type": "code",
   "execution_count": 3,
   "id": "formal-fields",
   "metadata": {
    "ExecuteTime": {
     "end_time": "2021-07-25T21:21:04.268028Z",
     "start_time": "2021-07-25T21:21:03.403084Z"
    }
   },
   "outputs": [
    {
     "data": {
      "text/html": [
       "<div>\n",
       "<style scoped>\n",
       "    .dataframe tbody tr th:only-of-type {\n",
       "        vertical-align: middle;\n",
       "    }\n",
       "\n",
       "    .dataframe tbody tr th {\n",
       "        vertical-align: top;\n",
       "    }\n",
       "\n",
       "    .dataframe thead th {\n",
       "        text-align: right;\n",
       "    }\n",
       "</style>\n",
       "<table border=\"1\" class=\"dataframe\">\n",
       "  <thead>\n",
       "    <tr style=\"text-align: right;\">\n",
       "      <th></th>\n",
       "      <th>id</th>\n",
       "      <th>Gender</th>\n",
       "      <th>Age</th>\n",
       "      <th>Driving_License</th>\n",
       "      <th>Region_Code</th>\n",
       "      <th>Previously_Insured</th>\n",
       "      <th>Vehicle_Age</th>\n",
       "      <th>Vehicle_Damage</th>\n",
       "      <th>Annual_Premium</th>\n",
       "      <th>Policy_Sales_Channel</th>\n",
       "      <th>Vintage</th>\n",
       "      <th>Response</th>\n",
       "    </tr>\n",
       "  </thead>\n",
       "  <tbody>\n",
       "    <tr>\n",
       "      <th>0</th>\n",
       "      <td>1</td>\n",
       "      <td>Male</td>\n",
       "      <td>44</td>\n",
       "      <td>1</td>\n",
       "      <td>28.0</td>\n",
       "      <td>0</td>\n",
       "      <td>&gt; 2 Years</td>\n",
       "      <td>Yes</td>\n",
       "      <td>40454.0</td>\n",
       "      <td>26.0</td>\n",
       "      <td>217</td>\n",
       "      <td>1</td>\n",
       "    </tr>\n",
       "    <tr>\n",
       "      <th>1</th>\n",
       "      <td>2</td>\n",
       "      <td>Male</td>\n",
       "      <td>76</td>\n",
       "      <td>1</td>\n",
       "      <td>3.0</td>\n",
       "      <td>0</td>\n",
       "      <td>1-2 Year</td>\n",
       "      <td>No</td>\n",
       "      <td>33536.0</td>\n",
       "      <td>26.0</td>\n",
       "      <td>183</td>\n",
       "      <td>0</td>\n",
       "    </tr>\n",
       "    <tr>\n",
       "      <th>2</th>\n",
       "      <td>3</td>\n",
       "      <td>Male</td>\n",
       "      <td>47</td>\n",
       "      <td>1</td>\n",
       "      <td>28.0</td>\n",
       "      <td>0</td>\n",
       "      <td>&gt; 2 Years</td>\n",
       "      <td>Yes</td>\n",
       "      <td>38294.0</td>\n",
       "      <td>26.0</td>\n",
       "      <td>27</td>\n",
       "      <td>1</td>\n",
       "    </tr>\n",
       "    <tr>\n",
       "      <th>3</th>\n",
       "      <td>4</td>\n",
       "      <td>Male</td>\n",
       "      <td>21</td>\n",
       "      <td>1</td>\n",
       "      <td>11.0</td>\n",
       "      <td>1</td>\n",
       "      <td>&lt; 1 Year</td>\n",
       "      <td>No</td>\n",
       "      <td>28619.0</td>\n",
       "      <td>152.0</td>\n",
       "      <td>203</td>\n",
       "      <td>0</td>\n",
       "    </tr>\n",
       "    <tr>\n",
       "      <th>4</th>\n",
       "      <td>5</td>\n",
       "      <td>Female</td>\n",
       "      <td>29</td>\n",
       "      <td>1</td>\n",
       "      <td>41.0</td>\n",
       "      <td>1</td>\n",
       "      <td>&lt; 1 Year</td>\n",
       "      <td>No</td>\n",
       "      <td>27496.0</td>\n",
       "      <td>152.0</td>\n",
       "      <td>39</td>\n",
       "      <td>0</td>\n",
       "    </tr>\n",
       "  </tbody>\n",
       "</table>\n",
       "</div>"
      ],
      "text/plain": [
       "   id  Gender  Age  Driving_License  Region_Code  Previously_Insured  \\\n",
       "0   1    Male   44                1         28.0                   0   \n",
       "1   2    Male   76                1          3.0                   0   \n",
       "2   3    Male   47                1         28.0                   0   \n",
       "3   4    Male   21                1         11.0                   1   \n",
       "4   5  Female   29                1         41.0                   1   \n",
       "\n",
       "  Vehicle_Age Vehicle_Damage  Annual_Premium  Policy_Sales_Channel  Vintage  \\\n",
       "0   > 2 Years            Yes         40454.0                  26.0      217   \n",
       "1    1-2 Year             No         33536.0                  26.0      183   \n",
       "2   > 2 Years            Yes         38294.0                  26.0       27   \n",
       "3    < 1 Year             No         28619.0                 152.0      203   \n",
       "4    < 1 Year             No         27496.0                 152.0       39   \n",
       "\n",
       "   Response  \n",
       "0         1  \n",
       "1         0  \n",
       "2         1  \n",
       "3         0  \n",
       "4         0  "
      ]
     },
     "execution_count": 3,
     "metadata": {},
     "output_type": "execute_result"
    }
   ],
   "source": [
    "df_raw = pd.read_csv('../data/raw/train.csv')\n",
    "df_raw.head()"
   ]
  },
  {
   "cell_type": "markdown",
   "id": "express-working",
   "metadata": {},
   "source": [
    "# 1.0. Data Description"
   ]
  },
  {
   "cell_type": "code",
   "execution_count": 4,
   "id": "incorporated-steal",
   "metadata": {
    "ExecuteTime": {
     "end_time": "2021-07-25T21:21:04.321490Z",
     "start_time": "2021-07-25T21:21:04.268028Z"
    }
   },
   "outputs": [],
   "source": [
    "df1 = df_raw.copy()"
   ]
  },
  {
   "cell_type": "markdown",
   "id": "uniform-medicaid",
   "metadata": {},
   "source": [
    "## 1.1. Rename Columns"
   ]
  },
  {
   "cell_type": "code",
   "execution_count": 5,
   "id": "grave-sigma",
   "metadata": {
    "ExecuteTime": {
     "end_time": "2021-07-25T21:21:04.390557Z",
     "start_time": "2021-07-25T21:21:04.321490Z"
    }
   },
   "outputs": [
    {
     "data": {
      "text/html": [
       "<div>\n",
       "<style scoped>\n",
       "    .dataframe tbody tr th:only-of-type {\n",
       "        vertical-align: middle;\n",
       "    }\n",
       "\n",
       "    .dataframe tbody tr th {\n",
       "        vertical-align: top;\n",
       "    }\n",
       "\n",
       "    .dataframe thead th {\n",
       "        text-align: right;\n",
       "    }\n",
       "</style>\n",
       "<table border=\"1\" class=\"dataframe\">\n",
       "  <thead>\n",
       "    <tr style=\"text-align: right;\">\n",
       "      <th></th>\n",
       "      <th>id</th>\n",
       "      <th>gender</th>\n",
       "      <th>age</th>\n",
       "      <th>driving_license</th>\n",
       "      <th>region_code</th>\n",
       "      <th>previously_insured</th>\n",
       "      <th>vehicle_age</th>\n",
       "      <th>vehicle_damage</th>\n",
       "      <th>annual_premium</th>\n",
       "      <th>policy_sales_channel</th>\n",
       "      <th>vintage</th>\n",
       "      <th>response</th>\n",
       "    </tr>\n",
       "  </thead>\n",
       "  <tbody>\n",
       "    <tr>\n",
       "      <th>0</th>\n",
       "      <td>1</td>\n",
       "      <td>Male</td>\n",
       "      <td>44</td>\n",
       "      <td>1</td>\n",
       "      <td>28.0</td>\n",
       "      <td>0</td>\n",
       "      <td>&gt; 2 Years</td>\n",
       "      <td>Yes</td>\n",
       "      <td>40454.0</td>\n",
       "      <td>26.0</td>\n",
       "      <td>217</td>\n",
       "      <td>1</td>\n",
       "    </tr>\n",
       "    <tr>\n",
       "      <th>1</th>\n",
       "      <td>2</td>\n",
       "      <td>Male</td>\n",
       "      <td>76</td>\n",
       "      <td>1</td>\n",
       "      <td>3.0</td>\n",
       "      <td>0</td>\n",
       "      <td>1-2 Year</td>\n",
       "      <td>No</td>\n",
       "      <td>33536.0</td>\n",
       "      <td>26.0</td>\n",
       "      <td>183</td>\n",
       "      <td>0</td>\n",
       "    </tr>\n",
       "    <tr>\n",
       "      <th>2</th>\n",
       "      <td>3</td>\n",
       "      <td>Male</td>\n",
       "      <td>47</td>\n",
       "      <td>1</td>\n",
       "      <td>28.0</td>\n",
       "      <td>0</td>\n",
       "      <td>&gt; 2 Years</td>\n",
       "      <td>Yes</td>\n",
       "      <td>38294.0</td>\n",
       "      <td>26.0</td>\n",
       "      <td>27</td>\n",
       "      <td>1</td>\n",
       "    </tr>\n",
       "    <tr>\n",
       "      <th>3</th>\n",
       "      <td>4</td>\n",
       "      <td>Male</td>\n",
       "      <td>21</td>\n",
       "      <td>1</td>\n",
       "      <td>11.0</td>\n",
       "      <td>1</td>\n",
       "      <td>&lt; 1 Year</td>\n",
       "      <td>No</td>\n",
       "      <td>28619.0</td>\n",
       "      <td>152.0</td>\n",
       "      <td>203</td>\n",
       "      <td>0</td>\n",
       "    </tr>\n",
       "    <tr>\n",
       "      <th>4</th>\n",
       "      <td>5</td>\n",
       "      <td>Female</td>\n",
       "      <td>29</td>\n",
       "      <td>1</td>\n",
       "      <td>41.0</td>\n",
       "      <td>1</td>\n",
       "      <td>&lt; 1 Year</td>\n",
       "      <td>No</td>\n",
       "      <td>27496.0</td>\n",
       "      <td>152.0</td>\n",
       "      <td>39</td>\n",
       "      <td>0</td>\n",
       "    </tr>\n",
       "  </tbody>\n",
       "</table>\n",
       "</div>"
      ],
      "text/plain": [
       "   id  gender  age  driving_license  region_code  previously_insured  \\\n",
       "0   1    Male   44                1         28.0                   0   \n",
       "1   2    Male   76                1          3.0                   0   \n",
       "2   3    Male   47                1         28.0                   0   \n",
       "3   4    Male   21                1         11.0                   1   \n",
       "4   5  Female   29                1         41.0                   1   \n",
       "\n",
       "  vehicle_age vehicle_damage  annual_premium  policy_sales_channel  vintage  \\\n",
       "0   > 2 Years            Yes         40454.0                  26.0      217   \n",
       "1    1-2 Year             No         33536.0                  26.0      183   \n",
       "2   > 2 Years            Yes         38294.0                  26.0       27   \n",
       "3    < 1 Year             No         28619.0                 152.0      203   \n",
       "4    < 1 Year             No         27496.0                 152.0       39   \n",
       "\n",
       "   response  \n",
       "0         1  \n",
       "1         0  \n",
       "2         1  \n",
       "3         0  \n",
       "4         0  "
      ]
     },
     "execution_count": 5,
     "metadata": {},
     "output_type": "execute_result"
    }
   ],
   "source": [
    "#Lower case \n",
    "col_names = [name.lower() for name in df1.columns]\n",
    "\n",
    "df1.columns = col_names\n",
    "df1.head()"
   ]
  },
  {
   "cell_type": "markdown",
   "id": "respected-communication",
   "metadata": {},
   "source": [
    "## 1.2. Data Dimensions"
   ]
  },
  {
   "cell_type": "code",
   "execution_count": 6,
   "id": "minor-latin",
   "metadata": {
    "ExecuteTime": {
     "end_time": "2021-07-25T21:21:04.406117Z",
     "start_time": "2021-07-25T21:21:04.390557Z"
    }
   },
   "outputs": [
    {
     "name": "stdout",
     "output_type": "stream",
     "text": [
      "Columns:  12\n",
      "Rows:  381109\n"
     ]
    }
   ],
   "source": [
    "print('Columns: ', df1.shape[1])\n",
    "print('Rows: ',df1.shape[0])"
   ]
  },
  {
   "cell_type": "markdown",
   "id": "dominican-relaxation",
   "metadata": {},
   "source": [
    "## 1.3. Data Types"
   ]
  },
  {
   "cell_type": "code",
   "execution_count": 7,
   "id": "proprietary-bullet",
   "metadata": {
    "ExecuteTime": {
     "end_time": "2021-07-25T21:21:04.437431Z",
     "start_time": "2021-07-25T21:21:04.406117Z"
    }
   },
   "outputs": [
    {
     "data": {
      "text/plain": [
       "id                        int64\n",
       "gender                   object\n",
       "age                       int64\n",
       "driving_license           int64\n",
       "region_code             float64\n",
       "previously_insured        int64\n",
       "vehicle_age              object\n",
       "vehicle_damage           object\n",
       "annual_premium          float64\n",
       "policy_sales_channel    float64\n",
       "vintage                   int64\n",
       "response                  int64\n",
       "dtype: object"
      ]
     },
     "execution_count": 7,
     "metadata": {},
     "output_type": "execute_result"
    }
   ],
   "source": [
    "df1.dtypes"
   ]
  },
  {
   "cell_type": "markdown",
   "id": "wireless-thanks",
   "metadata": {},
   "source": [
    "## 1.4. Check NA"
   ]
  },
  {
   "cell_type": "code",
   "execution_count": 8,
   "id": "derived-vaccine",
   "metadata": {
    "ExecuteTime": {
     "end_time": "2021-07-25T21:21:04.553311Z",
     "start_time": "2021-07-25T21:21:04.437431Z"
    }
   },
   "outputs": [
    {
     "data": {
      "text/plain": [
       "id                      0\n",
       "gender                  0\n",
       "age                     0\n",
       "driving_license         0\n",
       "region_code             0\n",
       "previously_insured      0\n",
       "vehicle_age             0\n",
       "vehicle_damage          0\n",
       "annual_premium          0\n",
       "policy_sales_channel    0\n",
       "vintage                 0\n",
       "response                0\n",
       "dtype: int64"
      ]
     },
     "execution_count": 8,
     "metadata": {},
     "output_type": "execute_result"
    }
   ],
   "source": [
    "df1.isna().sum()"
   ]
  },
  {
   "cell_type": "markdown",
   "id": "inclusive-doctrine",
   "metadata": {},
   "source": [
    "## 1.5. Data Descriptive"
   ]
  },
  {
   "cell_type": "code",
   "execution_count": 9,
   "id": "continent-indonesia",
   "metadata": {
    "ExecuteTime": {
     "end_time": "2021-07-25T21:21:04.621922Z",
     "start_time": "2021-07-25T21:21:04.553311Z"
    }
   },
   "outputs": [],
   "source": [
    "num_attributes = df1.select_dtypes(include= ['int64', 'float64'])\n",
    "cat_attributes = df1.select_dtypes(exclude= ['int64', 'float64','datetime64[ns]'])\n"
   ]
  },
  {
   "cell_type": "markdown",
   "id": "scientific-detail",
   "metadata": {},
   "source": [
    "### 1.5.1. Numerical Attributes"
   ]
  },
  {
   "cell_type": "code",
   "execution_count": 10,
   "id": "wicked-tiffany",
   "metadata": {
    "ExecuteTime": {
     "end_time": "2021-07-25T21:21:05.996469Z",
     "start_time": "2021-07-25T21:21:04.621922Z"
    }
   },
   "outputs": [
    {
     "data": {
      "text/html": [
       "<div>\n",
       "<style scoped>\n",
       "    .dataframe tbody tr th:only-of-type {\n",
       "        vertical-align: middle;\n",
       "    }\n",
       "\n",
       "    .dataframe tbody tr th {\n",
       "        vertical-align: top;\n",
       "    }\n",
       "\n",
       "    .dataframe thead th {\n",
       "        text-align: right;\n",
       "    }\n",
       "</style>\n",
       "<table border=\"1\" class=\"dataframe\">\n",
       "  <thead>\n",
       "    <tr style=\"text-align: right;\">\n",
       "      <th></th>\n",
       "      <th>attributes</th>\n",
       "      <th>min</th>\n",
       "      <th>max</th>\n",
       "      <th>range</th>\n",
       "      <th>mean</th>\n",
       "      <th>median</th>\n",
       "      <th>std</th>\n",
       "      <th>skew</th>\n",
       "      <th>kurtosis</th>\n",
       "    </tr>\n",
       "  </thead>\n",
       "  <tbody>\n",
       "    <tr>\n",
       "      <th>0</th>\n",
       "      <td>id</td>\n",
       "      <td>1.0</td>\n",
       "      <td>381109.0</td>\n",
       "      <td>381108.0</td>\n",
       "      <td>190555.000000</td>\n",
       "      <td>190555.0</td>\n",
       "      <td>110016.691870</td>\n",
       "      <td>9.443274e-16</td>\n",
       "      <td>-1.200000</td>\n",
       "    </tr>\n",
       "    <tr>\n",
       "      <th>1</th>\n",
       "      <td>age</td>\n",
       "      <td>20.0</td>\n",
       "      <td>85.0</td>\n",
       "      <td>65.0</td>\n",
       "      <td>38.822584</td>\n",
       "      <td>36.0</td>\n",
       "      <td>15.511591</td>\n",
       "      <td>6.725390e-01</td>\n",
       "      <td>-0.565655</td>\n",
       "    </tr>\n",
       "    <tr>\n",
       "      <th>2</th>\n",
       "      <td>driving_license</td>\n",
       "      <td>0.0</td>\n",
       "      <td>1.0</td>\n",
       "      <td>1.0</td>\n",
       "      <td>0.997869</td>\n",
       "      <td>1.0</td>\n",
       "      <td>0.046109</td>\n",
       "      <td>-2.159518e+01</td>\n",
       "      <td>464.354302</td>\n",
       "    </tr>\n",
       "    <tr>\n",
       "      <th>3</th>\n",
       "      <td>region_code</td>\n",
       "      <td>0.0</td>\n",
       "      <td>52.0</td>\n",
       "      <td>52.0</td>\n",
       "      <td>26.388807</td>\n",
       "      <td>28.0</td>\n",
       "      <td>13.229871</td>\n",
       "      <td>-1.152664e-01</td>\n",
       "      <td>-0.867857</td>\n",
       "    </tr>\n",
       "    <tr>\n",
       "      <th>4</th>\n",
       "      <td>previously_insured</td>\n",
       "      <td>0.0</td>\n",
       "      <td>1.0</td>\n",
       "      <td>1.0</td>\n",
       "      <td>0.458210</td>\n",
       "      <td>0.0</td>\n",
       "      <td>0.498251</td>\n",
       "      <td>1.677471e-01</td>\n",
       "      <td>-1.971871</td>\n",
       "    </tr>\n",
       "    <tr>\n",
       "      <th>5</th>\n",
       "      <td>annual_premium</td>\n",
       "      <td>2630.0</td>\n",
       "      <td>540165.0</td>\n",
       "      <td>537535.0</td>\n",
       "      <td>30564.389581</td>\n",
       "      <td>31669.0</td>\n",
       "      <td>17213.132474</td>\n",
       "      <td>1.766087e+00</td>\n",
       "      <td>34.004569</td>\n",
       "    </tr>\n",
       "    <tr>\n",
       "      <th>6</th>\n",
       "      <td>policy_sales_channel</td>\n",
       "      <td>1.0</td>\n",
       "      <td>163.0</td>\n",
       "      <td>162.0</td>\n",
       "      <td>112.034295</td>\n",
       "      <td>133.0</td>\n",
       "      <td>54.203924</td>\n",
       "      <td>-9.000081e-01</td>\n",
       "      <td>-0.970810</td>\n",
       "    </tr>\n",
       "    <tr>\n",
       "      <th>7</th>\n",
       "      <td>vintage</td>\n",
       "      <td>10.0</td>\n",
       "      <td>299.0</td>\n",
       "      <td>289.0</td>\n",
       "      <td>154.347397</td>\n",
       "      <td>154.0</td>\n",
       "      <td>83.671194</td>\n",
       "      <td>3.029517e-03</td>\n",
       "      <td>-1.200688</td>\n",
       "    </tr>\n",
       "    <tr>\n",
       "      <th>8</th>\n",
       "      <td>response</td>\n",
       "      <td>0.0</td>\n",
       "      <td>1.0</td>\n",
       "      <td>1.0</td>\n",
       "      <td>0.122563</td>\n",
       "      <td>0.0</td>\n",
       "      <td>0.327935</td>\n",
       "      <td>2.301906e+00</td>\n",
       "      <td>3.298788</td>\n",
       "    </tr>\n",
       "  </tbody>\n",
       "</table>\n",
       "</div>"
      ],
      "text/plain": [
       "             attributes     min       max     range           mean    median  \\\n",
       "0                    id     1.0  381109.0  381108.0  190555.000000  190555.0   \n",
       "1                   age    20.0      85.0      65.0      38.822584      36.0   \n",
       "2       driving_license     0.0       1.0       1.0       0.997869       1.0   \n",
       "3           region_code     0.0      52.0      52.0      26.388807      28.0   \n",
       "4    previously_insured     0.0       1.0       1.0       0.458210       0.0   \n",
       "5        annual_premium  2630.0  540165.0  537535.0   30564.389581   31669.0   \n",
       "6  policy_sales_channel     1.0     163.0     162.0     112.034295     133.0   \n",
       "7               vintage    10.0     299.0     289.0     154.347397     154.0   \n",
       "8              response     0.0       1.0       1.0       0.122563       0.0   \n",
       "\n",
       "             std          skew    kurtosis  \n",
       "0  110016.691870  9.443274e-16   -1.200000  \n",
       "1      15.511591  6.725390e-01   -0.565655  \n",
       "2       0.046109 -2.159518e+01  464.354302  \n",
       "3      13.229871 -1.152664e-01   -0.867857  \n",
       "4       0.498251  1.677471e-01   -1.971871  \n",
       "5   17213.132474  1.766087e+00   34.004569  \n",
       "6      54.203924 -9.000081e-01   -0.970810  \n",
       "7      83.671194  3.029517e-03   -1.200688  \n",
       "8       0.327935  2.301906e+00    3.298788  "
      ]
     },
     "execution_count": 10,
     "metadata": {},
     "output_type": "execute_result"
    }
   ],
   "source": [
    "# Central Tendency - Mean, Median\n",
    "ct1 = pd.DataFrame(num_attributes.apply(np.mean )).T\n",
    "ct2 = pd.DataFrame(num_attributes.apply(np.median )).T\n",
    "\n",
    "# dispersion - std, min, max, range, skew, kurtosis\n",
    "d1 = pd.DataFrame(num_attributes.apply( np.std)).T\n",
    "d2 = pd.DataFrame(num_attributes.apply( min)).T\n",
    "d3 = pd.DataFrame(num_attributes.apply( max)).T\n",
    "d4 = pd.DataFrame(num_attributes.apply( lambda x: x.max() - x.min())).T\n",
    "d5 = pd.DataFrame(num_attributes.apply( lambda x: x.skew() )).T\n",
    "d6 = pd.DataFrame(num_attributes.apply( lambda x: x.kurtosis() )).T\n",
    "\n",
    "# concat\n",
    "m = pd.concat([d2, d3, d4, ct1, ct2, d1, d5, d6]).T.reset_index()\n",
    "m.columns = ['attributes', 'min', 'max', 'range', 'mean', 'median', 'std', 'skew', 'kurtosis']\n",
    "m"
   ]
  },
  {
   "cell_type": "markdown",
   "id": "right-energy",
   "metadata": {
    "ExecuteTime": {
     "end_time": "2021-07-21T14:20:10.499764Z",
     "start_time": "2021-07-21T14:20:10.484088Z"
    }
   },
   "source": [
    "### 1.5.2. Categorical Attributes"
   ]
  },
  {
   "cell_type": "code",
   "execution_count": 11,
   "id": "german-implementation",
   "metadata": {
    "ExecuteTime": {
     "end_time": "2021-07-25T21:21:06.027799Z",
     "start_time": "2021-07-25T21:21:05.996469Z"
    }
   },
   "outputs": [
    {
     "data": {
      "text/html": [
       "<div>\n",
       "<style scoped>\n",
       "    .dataframe tbody tr th:only-of-type {\n",
       "        vertical-align: middle;\n",
       "    }\n",
       "\n",
       "    .dataframe tbody tr th {\n",
       "        vertical-align: top;\n",
       "    }\n",
       "\n",
       "    .dataframe thead th {\n",
       "        text-align: right;\n",
       "    }\n",
       "</style>\n",
       "<table border=\"1\" class=\"dataframe\">\n",
       "  <thead>\n",
       "    <tr style=\"text-align: right;\">\n",
       "      <th></th>\n",
       "      <th>gender</th>\n",
       "      <th>vehicle_age</th>\n",
       "      <th>vehicle_damage</th>\n",
       "    </tr>\n",
       "  </thead>\n",
       "  <tbody>\n",
       "    <tr>\n",
       "      <th>0</th>\n",
       "      <td>Male</td>\n",
       "      <td>&gt; 2 Years</td>\n",
       "      <td>Yes</td>\n",
       "    </tr>\n",
       "    <tr>\n",
       "      <th>1</th>\n",
       "      <td>Male</td>\n",
       "      <td>1-2 Year</td>\n",
       "      <td>No</td>\n",
       "    </tr>\n",
       "    <tr>\n",
       "      <th>2</th>\n",
       "      <td>Male</td>\n",
       "      <td>&gt; 2 Years</td>\n",
       "      <td>Yes</td>\n",
       "    </tr>\n",
       "    <tr>\n",
       "      <th>3</th>\n",
       "      <td>Male</td>\n",
       "      <td>&lt; 1 Year</td>\n",
       "      <td>No</td>\n",
       "    </tr>\n",
       "    <tr>\n",
       "      <th>4</th>\n",
       "      <td>Female</td>\n",
       "      <td>&lt; 1 Year</td>\n",
       "      <td>No</td>\n",
       "    </tr>\n",
       "  </tbody>\n",
       "</table>\n",
       "</div>"
      ],
      "text/plain": [
       "   gender vehicle_age vehicle_damage\n",
       "0    Male   > 2 Years            Yes\n",
       "1    Male    1-2 Year             No\n",
       "2    Male   > 2 Years            Yes\n",
       "3    Male    < 1 Year             No\n",
       "4  Female    < 1 Year             No"
      ]
     },
     "execution_count": 11,
     "metadata": {},
     "output_type": "execute_result"
    }
   ],
   "source": [
    "cat_attributes.head()"
   ]
  },
  {
   "cell_type": "code",
   "execution_count": 12,
   "id": "painful-estimate",
   "metadata": {
    "ExecuteTime": {
     "end_time": "2021-07-25T21:21:06.143751Z",
     "start_time": "2021-07-25T21:21:06.027799Z"
    }
   },
   "outputs": [
    {
     "data": {
      "text/plain": [
       "gender            2\n",
       "vehicle_age       3\n",
       "vehicle_damage    2\n",
       "dtype: int64"
      ]
     },
     "execution_count": 12,
     "metadata": {},
     "output_type": "execute_result"
    }
   ],
   "source": [
    "cat_attributes.apply( lambda x: x.unique().shape[0] )"
   ]
  },
  {
   "cell_type": "markdown",
   "id": "durable-verification",
   "metadata": {},
   "source": [
    "# 2.0. Feature Engineering"
   ]
  },
  {
   "cell_type": "code",
   "execution_count": 13,
   "id": "grateful-glenn",
   "metadata": {
    "ExecuteTime": {
     "end_time": "2021-07-25T21:21:06.212377Z",
     "start_time": "2021-07-25T21:21:06.143751Z"
    }
   },
   "outputs": [
    {
     "data": {
      "text/html": [
       "<div>\n",
       "<style scoped>\n",
       "    .dataframe tbody tr th:only-of-type {\n",
       "        vertical-align: middle;\n",
       "    }\n",
       "\n",
       "    .dataframe tbody tr th {\n",
       "        vertical-align: top;\n",
       "    }\n",
       "\n",
       "    .dataframe thead th {\n",
       "        text-align: right;\n",
       "    }\n",
       "</style>\n",
       "<table border=\"1\" class=\"dataframe\">\n",
       "  <thead>\n",
       "    <tr style=\"text-align: right;\">\n",
       "      <th></th>\n",
       "      <th>id</th>\n",
       "      <th>gender</th>\n",
       "      <th>age</th>\n",
       "      <th>driving_license</th>\n",
       "      <th>region_code</th>\n",
       "      <th>previously_insured</th>\n",
       "      <th>vehicle_age</th>\n",
       "      <th>vehicle_damage</th>\n",
       "      <th>annual_premium</th>\n",
       "      <th>policy_sales_channel</th>\n",
       "      <th>vintage</th>\n",
       "      <th>response</th>\n",
       "    </tr>\n",
       "  </thead>\n",
       "  <tbody>\n",
       "    <tr>\n",
       "      <th>0</th>\n",
       "      <td>1</td>\n",
       "      <td>Male</td>\n",
       "      <td>44</td>\n",
       "      <td>1</td>\n",
       "      <td>28.0</td>\n",
       "      <td>0</td>\n",
       "      <td>&gt; 2 Years</td>\n",
       "      <td>Yes</td>\n",
       "      <td>40454.0</td>\n",
       "      <td>26.0</td>\n",
       "      <td>217</td>\n",
       "      <td>1</td>\n",
       "    </tr>\n",
       "    <tr>\n",
       "      <th>1</th>\n",
       "      <td>2</td>\n",
       "      <td>Male</td>\n",
       "      <td>76</td>\n",
       "      <td>1</td>\n",
       "      <td>3.0</td>\n",
       "      <td>0</td>\n",
       "      <td>1-2 Year</td>\n",
       "      <td>No</td>\n",
       "      <td>33536.0</td>\n",
       "      <td>26.0</td>\n",
       "      <td>183</td>\n",
       "      <td>0</td>\n",
       "    </tr>\n",
       "    <tr>\n",
       "      <th>2</th>\n",
       "      <td>3</td>\n",
       "      <td>Male</td>\n",
       "      <td>47</td>\n",
       "      <td>1</td>\n",
       "      <td>28.0</td>\n",
       "      <td>0</td>\n",
       "      <td>&gt; 2 Years</td>\n",
       "      <td>Yes</td>\n",
       "      <td>38294.0</td>\n",
       "      <td>26.0</td>\n",
       "      <td>27</td>\n",
       "      <td>1</td>\n",
       "    </tr>\n",
       "    <tr>\n",
       "      <th>3</th>\n",
       "      <td>4</td>\n",
       "      <td>Male</td>\n",
       "      <td>21</td>\n",
       "      <td>1</td>\n",
       "      <td>11.0</td>\n",
       "      <td>1</td>\n",
       "      <td>&lt; 1 Year</td>\n",
       "      <td>No</td>\n",
       "      <td>28619.0</td>\n",
       "      <td>152.0</td>\n",
       "      <td>203</td>\n",
       "      <td>0</td>\n",
       "    </tr>\n",
       "    <tr>\n",
       "      <th>4</th>\n",
       "      <td>5</td>\n",
       "      <td>Female</td>\n",
       "      <td>29</td>\n",
       "      <td>1</td>\n",
       "      <td>41.0</td>\n",
       "      <td>1</td>\n",
       "      <td>&lt; 1 Year</td>\n",
       "      <td>No</td>\n",
       "      <td>27496.0</td>\n",
       "      <td>152.0</td>\n",
       "      <td>39</td>\n",
       "      <td>0</td>\n",
       "    </tr>\n",
       "  </tbody>\n",
       "</table>\n",
       "</div>"
      ],
      "text/plain": [
       "   id  gender  age  driving_license  region_code  previously_insured  \\\n",
       "0   1    Male   44                1         28.0                   0   \n",
       "1   2    Male   76                1          3.0                   0   \n",
       "2   3    Male   47                1         28.0                   0   \n",
       "3   4    Male   21                1         11.0                   1   \n",
       "4   5  Female   29                1         41.0                   1   \n",
       "\n",
       "  vehicle_age vehicle_damage  annual_premium  policy_sales_channel  vintage  \\\n",
       "0   > 2 Years            Yes         40454.0                  26.0      217   \n",
       "1    1-2 Year             No         33536.0                  26.0      183   \n",
       "2   > 2 Years            Yes         38294.0                  26.0       27   \n",
       "3    < 1 Year             No         28619.0                 152.0      203   \n",
       "4    < 1 Year             No         27496.0                 152.0       39   \n",
       "\n",
       "   response  \n",
       "0         1  \n",
       "1         0  \n",
       "2         1  \n",
       "3         0  \n",
       "4         0  "
      ]
     },
     "execution_count": 13,
     "metadata": {},
     "output_type": "execute_result"
    }
   ],
   "source": [
    "df2 = df1.copy()\n",
    "df2.head()"
   ]
  },
  {
   "cell_type": "code",
   "execution_count": 14,
   "id": "timely-principal",
   "metadata": {
    "ExecuteTime": {
     "end_time": "2021-07-25T21:21:06.575730Z",
     "start_time": "2021-07-25T21:21:06.212377Z"
    }
   },
   "outputs": [
    {
     "data": {
      "text/html": [
       "<div>\n",
       "<style scoped>\n",
       "    .dataframe tbody tr th:only-of-type {\n",
       "        vertical-align: middle;\n",
       "    }\n",
       "\n",
       "    .dataframe tbody tr th {\n",
       "        vertical-align: top;\n",
       "    }\n",
       "\n",
       "    .dataframe thead th {\n",
       "        text-align: right;\n",
       "    }\n",
       "</style>\n",
       "<table border=\"1\" class=\"dataframe\">\n",
       "  <thead>\n",
       "    <tr style=\"text-align: right;\">\n",
       "      <th></th>\n",
       "      <th>id</th>\n",
       "      <th>gender</th>\n",
       "      <th>age</th>\n",
       "      <th>driving_license</th>\n",
       "      <th>region_code</th>\n",
       "      <th>previously_insured</th>\n",
       "      <th>vehicle_age</th>\n",
       "      <th>vehicle_damage</th>\n",
       "      <th>annual_premium</th>\n",
       "      <th>policy_sales_channel</th>\n",
       "      <th>vintage</th>\n",
       "      <th>response</th>\n",
       "    </tr>\n",
       "  </thead>\n",
       "  <tbody>\n",
       "    <tr>\n",
       "      <th>0</th>\n",
       "      <td>1</td>\n",
       "      <td>Male</td>\n",
       "      <td>44</td>\n",
       "      <td>1</td>\n",
       "      <td>28.0</td>\n",
       "      <td>0</td>\n",
       "      <td>over_2_years</td>\n",
       "      <td>1</td>\n",
       "      <td>40454.0</td>\n",
       "      <td>26.0</td>\n",
       "      <td>217</td>\n",
       "      <td>1</td>\n",
       "    </tr>\n",
       "    <tr>\n",
       "      <th>1</th>\n",
       "      <td>2</td>\n",
       "      <td>Male</td>\n",
       "      <td>76</td>\n",
       "      <td>1</td>\n",
       "      <td>3.0</td>\n",
       "      <td>0</td>\n",
       "      <td>between_1_2_year</td>\n",
       "      <td>0</td>\n",
       "      <td>33536.0</td>\n",
       "      <td>26.0</td>\n",
       "      <td>183</td>\n",
       "      <td>0</td>\n",
       "    </tr>\n",
       "    <tr>\n",
       "      <th>2</th>\n",
       "      <td>3</td>\n",
       "      <td>Male</td>\n",
       "      <td>47</td>\n",
       "      <td>1</td>\n",
       "      <td>28.0</td>\n",
       "      <td>0</td>\n",
       "      <td>over_2_years</td>\n",
       "      <td>1</td>\n",
       "      <td>38294.0</td>\n",
       "      <td>26.0</td>\n",
       "      <td>27</td>\n",
       "      <td>1</td>\n",
       "    </tr>\n",
       "    <tr>\n",
       "      <th>3</th>\n",
       "      <td>4</td>\n",
       "      <td>Male</td>\n",
       "      <td>21</td>\n",
       "      <td>1</td>\n",
       "      <td>11.0</td>\n",
       "      <td>1</td>\n",
       "      <td>below_1_year</td>\n",
       "      <td>0</td>\n",
       "      <td>28619.0</td>\n",
       "      <td>152.0</td>\n",
       "      <td>203</td>\n",
       "      <td>0</td>\n",
       "    </tr>\n",
       "    <tr>\n",
       "      <th>4</th>\n",
       "      <td>5</td>\n",
       "      <td>Female</td>\n",
       "      <td>29</td>\n",
       "      <td>1</td>\n",
       "      <td>41.0</td>\n",
       "      <td>1</td>\n",
       "      <td>below_1_year</td>\n",
       "      <td>0</td>\n",
       "      <td>27496.0</td>\n",
       "      <td>152.0</td>\n",
       "      <td>39</td>\n",
       "      <td>0</td>\n",
       "    </tr>\n",
       "  </tbody>\n",
       "</table>\n",
       "</div>"
      ],
      "text/plain": [
       "   id  gender  age  driving_license  region_code  previously_insured  \\\n",
       "0   1    Male   44                1         28.0                   0   \n",
       "1   2    Male   76                1          3.0                   0   \n",
       "2   3    Male   47                1         28.0                   0   \n",
       "3   4    Male   21                1         11.0                   1   \n",
       "4   5  Female   29                1         41.0                   1   \n",
       "\n",
       "        vehicle_age  vehicle_damage  annual_premium  policy_sales_channel  \\\n",
       "0      over_2_years               1         40454.0                  26.0   \n",
       "1  between_1_2_year               0         33536.0                  26.0   \n",
       "2      over_2_years               1         38294.0                  26.0   \n",
       "3      below_1_year               0         28619.0                 152.0   \n",
       "4      below_1_year               0         27496.0                 152.0   \n",
       "\n",
       "   vintage  response  \n",
       "0      217         1  \n",
       "1      183         0  \n",
       "2       27         1  \n",
       "3      203         0  \n",
       "4       39         0  "
      ]
     },
     "execution_count": 14,
     "metadata": {},
     "output_type": "execute_result"
    }
   ],
   "source": [
    "#vehicle_damage\n",
    "df2['vehicle_damage'] = df2['vehicle_damage'].apply(lambda x: 0 if x == 'No' else 1)\n",
    "\n",
    "#vehicle_age\n",
    "df2['vehicle_age'] = df2['vehicle_age'].apply(lambda x: 'over_2_years' if x == '> 2 Years' else \n",
    "                                              'between_1_2_year' if x == '1-2 Year' else 'below_1_year' )\n",
    "\n",
    "df2.head()"
   ]
  },
  {
   "cell_type": "markdown",
   "id": "alike-corrections",
   "metadata": {},
   "source": [
    "# 3.0. Data Filtering"
   ]
  },
  {
   "cell_type": "code",
   "execution_count": 15,
   "id": "southwest-booking",
   "metadata": {
    "ExecuteTime": {
     "end_time": "2021-07-25T21:21:06.629124Z",
     "start_time": "2021-07-25T21:21:06.575730Z"
    }
   },
   "outputs": [],
   "source": [
    "df3 = df2.copy()"
   ]
  },
  {
   "cell_type": "markdown",
   "id": "polish-horror",
   "metadata": {},
   "source": [
    "# 4.0. Exploratoria Data Analysis"
   ]
  },
  {
   "cell_type": "code",
   "execution_count": 16,
   "id": "modern-furniture",
   "metadata": {
    "ExecuteTime": {
     "end_time": "2021-07-25T21:21:06.675965Z",
     "start_time": "2021-07-25T21:21:06.629124Z"
    }
   },
   "outputs": [],
   "source": [
    "df4 = df3.copy()"
   ]
  },
  {
   "cell_type": "markdown",
   "id": "stock-governor",
   "metadata": {},
   "source": [
    "## 4.1. Univariate Analysis\n",
    "\n"
   ]
  },
  {
   "cell_type": "markdown",
   "id": "retained-front",
   "metadata": {},
   "source": [
    "### 4.1.1. Response Variable"
   ]
  },
  {
   "cell_type": "code",
   "execution_count": 17,
   "id": "going-official",
   "metadata": {
    "ExecuteTime": {
     "end_time": "2021-07-25T21:21:07.678457Z",
     "start_time": "2021-07-25T21:21:06.675965Z"
    }
   },
   "outputs": [
    {
     "data": {
      "image/png": "[encoded data removed]",
      "text/plain": [
       "<Figure size 360x360 with 1 Axes>"
      ]
     },
     "metadata": {
      "needs_background": "light"
     },
     "output_type": "display_data"
    }
   ],
   "source": [
    "# analisar o label\n",
    "sns.displot(df4['response'], kde=False);"
   ]
  },
  {
   "cell_type": "code",
   "execution_count": 18,
   "id": "nominated-asset",
   "metadata": {
    "ExecuteTime": {
     "end_time": "2021-07-25T21:21:07.863496Z",
     "start_time": "2021-07-25T21:21:07.678457Z"
    }
   },
   "outputs": [
    {
     "data": {
      "text/html": [
       "<div>\n",
       "<style scoped>\n",
       "    .dataframe tbody tr th:only-of-type {\n",
       "        vertical-align: middle;\n",
       "    }\n",
       "\n",
       "    .dataframe tbody tr th {\n",
       "        vertical-align: top;\n",
       "    }\n",
       "\n",
       "    .dataframe thead th {\n",
       "        text-align: right;\n",
       "    }\n",
       "</style>\n",
       "<table border=\"1\" class=\"dataframe\">\n",
       "  <thead>\n",
       "    <tr style=\"text-align: right;\">\n",
       "      <th></th>\n",
       "      <th></th>\n",
       "      <th>quantity</th>\n",
       "      <th>Age</th>\n",
       "      <th>Premium</th>\n",
       "      <th>Vintage</th>\n",
       "    </tr>\n",
       "    <tr>\n",
       "      <th>response</th>\n",
       "      <th>region_code</th>\n",
       "      <th></th>\n",
       "      <th></th>\n",
       "      <th></th>\n",
       "      <th></th>\n",
       "    </tr>\n",
       "  </thead>\n",
       "  <tbody>\n",
       "    <tr>\n",
       "      <th rowspan=\"5\" valign=\"top\">0</th>\n",
       "      <th>1.0</th>\n",
       "      <td>899</td>\n",
       "      <td>45.0</td>\n",
       "      <td>2660.351502</td>\n",
       "      <td>154.545050</td>\n",
       "    </tr>\n",
       "    <tr>\n",
       "      <th>31.0</th>\n",
       "      <td>1763</td>\n",
       "      <td>43.0</td>\n",
       "      <td>2673.854793</td>\n",
       "      <td>158.567782</td>\n",
       "    </tr>\n",
       "    <tr>\n",
       "      <th>48.0</th>\n",
       "      <td>4204</td>\n",
       "      <td>49.0</td>\n",
       "      <td>2677.646289</td>\n",
       "      <td>154.920314</td>\n",
       "    </tr>\n",
       "    <tr>\n",
       "      <th>20.0</th>\n",
       "      <td>1712</td>\n",
       "      <td>47.0</td>\n",
       "      <td>2747.074766</td>\n",
       "      <td>152.521028</td>\n",
       "    </tr>\n",
       "    <tr>\n",
       "      <th>0.0</th>\n",
       "      <td>1847</td>\n",
       "      <td>46.0</td>\n",
       "      <td>2863.350839</td>\n",
       "      <td>155.918787</td>\n",
       "    </tr>\n",
       "    <tr>\n",
       "      <th rowspan=\"9\" valign=\"top\">1</th>\n",
       "      <th>48.0</th>\n",
       "      <td>477</td>\n",
       "      <td>47.0</td>\n",
       "      <td>2867.400419</td>\n",
       "      <td>155.542977</td>\n",
       "    </tr>\n",
       "    <tr>\n",
       "      <th>31.0</th>\n",
       "      <td>197</td>\n",
       "      <td>44.0</td>\n",
       "      <td>2872.690355</td>\n",
       "      <td>149.609137</td>\n",
       "    </tr>\n",
       "    <tr>\n",
       "      <th>20.0</th>\n",
       "      <td>223</td>\n",
       "      <td>45.0</td>\n",
       "      <td>3047.044843</td>\n",
       "      <td>159.430493</td>\n",
       "    </tr>\n",
       "    <tr>\n",
       "      <th>1.0</th>\n",
       "      <td>109</td>\n",
       "      <td>45.0</td>\n",
       "      <td>3131.376147</td>\n",
       "      <td>157.889908</td>\n",
       "    </tr>\n",
       "    <tr>\n",
       "      <th>0.0</th>\n",
       "      <td>174</td>\n",
       "      <td>48.0</td>\n",
       "      <td>5002.798851</td>\n",
       "      <td>159.310345</td>\n",
       "    </tr>\n",
       "    <tr>\n",
       "      <th>44.0</th>\n",
       "      <td>33</td>\n",
       "      <td>36.0</td>\n",
       "      <td>21089.515152</td>\n",
       "      <td>176.363636</td>\n",
       "    </tr>\n",
       "    <tr>\n",
       "      <th>12.0</th>\n",
       "      <td>312</td>\n",
       "      <td>39.0</td>\n",
       "      <td>21878.336538</td>\n",
       "      <td>153.858974</td>\n",
       "    </tr>\n",
       "    <tr>\n",
       "      <th>16.0</th>\n",
       "      <td>134</td>\n",
       "      <td>34.5</td>\n",
       "      <td>21915.417910</td>\n",
       "      <td>152.791045</td>\n",
       "    </tr>\n",
       "    <tr>\n",
       "      <th>23.0</th>\n",
       "      <td>300</td>\n",
       "      <td>40.0</td>\n",
       "      <td>22702.416667</td>\n",
       "      <td>148.883333</td>\n",
       "    </tr>\n",
       "    <tr>\n",
       "      <th rowspan=\"3\" valign=\"top\">0</th>\n",
       "      <th>27.0</th>\n",
       "      <td>2614</td>\n",
       "      <td>25.0</td>\n",
       "      <td>22811.244836</td>\n",
       "      <td>151.763198</td>\n",
       "    </tr>\n",
       "    <tr>\n",
       "      <th>38.0</th>\n",
       "      <td>1637</td>\n",
       "      <td>44.0</td>\n",
       "      <td>23118.836286</td>\n",
       "      <td>156.795968</td>\n",
       "    </tr>\n",
       "    <tr>\n",
       "      <th>16.0</th>\n",
       "      <td>1873</td>\n",
       "      <td>25.0</td>\n",
       "      <td>23143.487987</td>\n",
       "      <td>156.119060</td>\n",
       "    </tr>\n",
       "    <tr>\n",
       "      <th rowspan=\"3\" valign=\"top\">1</th>\n",
       "      <th>3.0</th>\n",
       "      <td>1181</td>\n",
       "      <td>39.0</td>\n",
       "      <td>23189.732430</td>\n",
       "      <td>154.568163</td>\n",
       "    </tr>\n",
       "    <tr>\n",
       "      <th>30.0</th>\n",
       "      <td>900</td>\n",
       "      <td>35.0</td>\n",
       "      <td>23218.614444</td>\n",
       "      <td>156.186667</td>\n",
       "    </tr>\n",
       "    <tr>\n",
       "      <th>25.0</th>\n",
       "      <td>107</td>\n",
       "      <td>42.0</td>\n",
       "      <td>23259.392523</td>\n",
       "      <td>153.859813</td>\n",
       "    </tr>\n",
       "  </tbody>\n",
       "</table>\n",
       "</div>"
      ],
      "text/plain": [
       "                      quantity   Age       Premium     Vintage\n",
       "response region_code                                          \n",
       "0        1.0               899  45.0   2660.351502  154.545050\n",
       "         31.0             1763  43.0   2673.854793  158.567782\n",
       "         48.0             4204  49.0   2677.646289  154.920314\n",
       "         20.0             1712  47.0   2747.074766  152.521028\n",
       "         0.0              1847  46.0   2863.350839  155.918787\n",
       "1        48.0              477  47.0   2867.400419  155.542977\n",
       "         31.0              197  44.0   2872.690355  149.609137\n",
       "         20.0              223  45.0   3047.044843  159.430493\n",
       "         1.0               109  45.0   3131.376147  157.889908\n",
       "         0.0               174  48.0   5002.798851  159.310345\n",
       "         44.0               33  36.0  21089.515152  176.363636\n",
       "         12.0              312  39.0  21878.336538  153.858974\n",
       "         16.0              134  34.5  21915.417910  152.791045\n",
       "         23.0              300  40.0  22702.416667  148.883333\n",
       "0        27.0             2614  25.0  22811.244836  151.763198\n",
       "         38.0             1637  44.0  23118.836286  156.795968\n",
       "         16.0             1873  25.0  23143.487987  156.119060\n",
       "1        3.0              1181  39.0  23189.732430  154.568163\n",
       "         30.0              900  35.0  23218.614444  156.186667\n",
       "         25.0              107  42.0  23259.392523  153.859813"
      ]
     },
     "execution_count": 18,
     "metadata": {},
     "output_type": "execute_result"
    }
   ],
   "source": [
    "df4.groupby(['response', 'region_code']).agg(quantity= ('id', 'count'), Age= ('age', 'median'),Premium=('annual_premium', 'mean'), Vintage=('vintage', 'mean')).sort_values('Premium').head(20)\n"
   ]
  },
  {
   "cell_type": "markdown",
   "id": "stable-morrison",
   "metadata": {},
   "source": [
    "### 4.1.2. Numerical Variable"
   ]
  },
  {
   "cell_type": "code",
   "execution_count": 19,
   "id": "mobile-deposit",
   "metadata": {
    "ExecuteTime": {
     "end_time": "2021-07-25T21:21:10.128368Z",
     "start_time": "2021-07-25T21:21:07.863496Z"
    }
   },
   "outputs": [
    {
     "data": {
      "image/png": "[encoded data removed]",
      "text/plain": [
       "<Figure size 432x288 with 9 Axes>"
      ]
     },
     "metadata": {
      "needs_background": "light"
     },
     "output_type": "display_data"
    }
   ],
   "source": [
    "\n",
    "num_attributes.hist( bins=25 );"
   ]
  },
  {
   "cell_type": "code",
   "execution_count": 20,
   "id": "choice-structure",
   "metadata": {
    "ExecuteTime": {
     "end_time": "2021-07-25T21:21:10.144014Z",
     "start_time": "2021-07-25T21:21:10.128368Z"
    }
   },
   "outputs": [],
   "source": [
    "# PROFILE  \n",
    "\n",
    "#profile = ProfileReport( df4 )\n",
    "#profile.to_file( 'output_v2.html' )"
   ]
  },
  {
   "cell_type": "code",
   "execution_count": 21,
   "id": "stopped-proposition",
   "metadata": {
    "ExecuteTime": {
     "end_time": "2021-07-25T21:21:10.444441Z",
     "start_time": "2021-07-25T21:21:10.144014Z"
    }
   },
   "outputs": [
    {
     "data": {
      "image/png": "[encoded data removed]",
      "text/plain": [
       "<Figure size 576x288 with 1 Axes>"
      ]
     },
     "metadata": {
      "needs_background": "light"
     },
     "output_type": "display_data"
    }
   ],
   "source": [
    "# Age\n",
    "plt.subplots(figsize=(8, 4))\n",
    "sns.boxplot( x='response', y='age', data=df4 );"
   ]
  },
  {
   "cell_type": "code",
   "execution_count": 22,
   "id": "coordinated-following",
   "metadata": {
    "ExecuteTime": {
     "end_time": "2021-07-25T21:21:11.341056Z",
     "start_time": "2021-07-25T21:21:10.444441Z"
    },
    "cell_style": "split"
   },
   "outputs": [
    {
     "data": {
      "text/plain": [
       "<AxesSubplot:xlabel='age', ylabel='Count'>"
      ]
     },
     "execution_count": 22,
     "metadata": {},
     "output_type": "execute_result"
    },
    {
     "data": {
      "image/png": "[encoded data removed]",
      "text/plain": [
       "<Figure size 432x288 with 1 Axes>"
      ]
     },
     "metadata": {
      "needs_background": "light"
     },
     "output_type": "display_data"
    }
   ],
   "source": [
    "aux00 = df4.loc[df4['response'] == 0, 'age']\n",
    "sns.histplot( aux00 )"
   ]
  },
  {
   "cell_type": "code",
   "execution_count": 23,
   "id": "neither-stadium",
   "metadata": {
    "ExecuteTime": {
     "end_time": "2021-07-25T21:21:11.826814Z",
     "start_time": "2021-07-25T21:21:11.341056Z"
    },
    "cell_style": "split"
   },
   "outputs": [
    {
     "data": {
      "image/png": "[encoded data removed]",
      "text/plain": [
       "<Figure size 432x288 with 1 Axes>"
      ]
     },
     "metadata": {
      "needs_background": "light"
     },
     "output_type": "display_data"
    }
   ],
   "source": [
    "aux00 = df4.loc[df4['response'] == 1, 'age']\n",
    "sns.histplot( aux00 );"
   ]
  },
  {
   "cell_type": "code",
   "execution_count": 24,
   "id": "sized-canon",
   "metadata": {
    "ExecuteTime": {
     "end_time": "2021-07-25T21:21:12.127769Z",
     "start_time": "2021-07-25T21:21:11.826814Z"
    }
   },
   "outputs": [
    {
     "data": {
      "image/png": "[encoded data removed]",
      "text/plain": [
       "<Figure size 576x288 with 1 Axes>"
      ]
     },
     "metadata": {
      "needs_background": "light"
     },
     "output_type": "display_data"
    }
   ],
   "source": [
    "# Annul income\n",
    "plt.subplots(figsize=(8, 4))\n",
    "sns.boxplot(x='response', y='annual_premium', data=df4);"
   ]
  },
  {
   "cell_type": "markdown",
   "id": "partial-clinic",
   "metadata": {},
   "source": [
    "- too many outliers, try to zoon it"
   ]
  },
  {
   "cell_type": "code",
   "execution_count": 25,
   "id": "naked-worship",
   "metadata": {
    "ExecuteTime": {
     "end_time": "2021-07-25T21:21:12.281527Z",
     "start_time": "2021-07-25T21:21:12.127769Z"
    }
   },
   "outputs": [],
   "source": [
    "df4 = df4[(df4['annual_premium'] > 10000) &(df4['annual_premium'] < 100000)]"
   ]
  },
  {
   "cell_type": "code",
   "execution_count": 26,
   "id": "nutritional-allocation",
   "metadata": {
    "ExecuteTime": {
     "end_time": "2021-07-25T21:21:13.331814Z",
     "start_time": "2021-07-25T21:21:12.281527Z"
    },
    "cell_style": "split"
   },
   "outputs": [
    {
     "data": {
      "image/png": "[encoded data removed]",
      "text/plain": [
       "<Figure size 432x288 with 1 Axes>"
      ]
     },
     "metadata": {
      "needs_background": "light"
     },
     "output_type": "display_data"
    }
   ],
   "source": [
    "aux00 = df4.loc[df4['response'] == 0, 'annual_premium']\n",
    "sns.histplot( aux00 );"
   ]
  },
  {
   "cell_type": "code",
   "execution_count": 27,
   "id": "blind-coast",
   "metadata": {
    "ExecuteTime": {
     "end_time": "2021-07-25T21:21:13.865452Z",
     "start_time": "2021-07-25T21:21:13.331814Z"
    },
    "cell_style": "split"
   },
   "outputs": [
    {
     "data": {
      "image/png": "[encoded data removed]",
      "text/plain": [
       "<Figure size 432x288 with 1 Axes>"
      ]
     },
     "metadata": {
      "needs_background": "light"
     },
     "output_type": "display_data"
    }
   ],
   "source": [
    "aux00 = df4.loc[df4['response'] == 1, 'annual_premium']\n",
    "sns.histplot( aux00 );"
   ]
  },
  {
   "cell_type": "code",
   "execution_count": 28,
   "id": "composed-defensive",
   "metadata": {
    "ExecuteTime": {
     "end_time": "2021-07-25T21:21:14.059497Z",
     "start_time": "2021-07-25T21:21:13.865452Z"
    }
   },
   "outputs": [
    {
     "data": {
      "image/png": "[encoded data removed]",
      "text/plain": [
       "<Figure size 576x288 with 1 Axes>"
      ]
     },
     "metadata": {
      "needs_background": "light"
     },
     "output_type": "display_data"
    }
   ],
   "source": [
    "# driving license\n",
    "plt.subplots(figsize=(8, 4))\n",
    "aux = df4[['driving_license', 'response']].groupby( 'response' ).sum().reset_index()\n",
    "sns.barplot( x='response', y='driving_license', data=aux );\n"
   ]
  },
  {
   "cell_type": "code",
   "execution_count": 29,
   "id": "three-tuner",
   "metadata": {
    "ExecuteTime": {
     "end_time": "2021-07-25T21:21:14.514196Z",
     "start_time": "2021-07-25T21:21:14.059497Z"
    },
    "cell_style": "split"
   },
   "outputs": [
    {
     "data": {
      "text/plain": [
       "<AxesSubplot:xlabel='region_code', ylabel='id'>"
      ]
     },
     "execution_count": 29,
     "metadata": {},
     "output_type": "execute_result"
    },
    {
     "data": {
      "image/png": "[encoded data removed]",
      "text/plain": [
       "<Figure size 432x288 with 1 Axes>"
      ]
     },
     "metadata": {
      "needs_background": "light"
     },
     "output_type": "display_data"
    }
   ],
   "source": [
    "# region code\n",
    "aux0 = df4[['id', 'region_code', 'response']].groupby( ['region_code', 'response'] ).count().reset_index()\n",
    "sns.scatterplot( x='region_code', y='id', hue='response', data=aux0 )\n"
   ]
  },
  {
   "cell_type": "code",
   "execution_count": 30,
   "id": "agreed-boxing",
   "metadata": {
    "ExecuteTime": {
     "end_time": "2021-07-25T21:21:15.182622Z",
     "start_time": "2021-07-25T21:21:14.514196Z"
    },
    "cell_style": "split"
   },
   "outputs": [
    {
     "data": {
      "image/png": "[encoded data removed]",
      "text/plain": [
       "<Figure size 432x288 with 1 Axes>"
      ]
     },
     "metadata": {
      "needs_background": "light"
     },
     "output_type": "display_data"
    }
   ],
   "source": [
    "sns.histplot(df4['region_code']);"
   ]
  },
  {
   "cell_type": "code",
   "execution_count": 31,
   "id": "sorted-flavor",
   "metadata": {
    "ExecuteTime": {
     "end_time": "2021-07-25T21:21:15.266811Z",
     "start_time": "2021-07-25T21:21:15.182622Z"
    }
   },
   "outputs": [
    {
     "data": {
      "text/html": [
       "<div>\n",
       "<style scoped>\n",
       "    .dataframe tbody tr th:only-of-type {\n",
       "        vertical-align: middle;\n",
       "    }\n",
       "\n",
       "    .dataframe tbody tr th {\n",
       "        vertical-align: top;\n",
       "    }\n",
       "\n",
       "    .dataframe thead th {\n",
       "        text-align: right;\n",
       "    }\n",
       "</style>\n",
       "<table border=\"1\" class=\"dataframe\">\n",
       "  <thead>\n",
       "    <tr style=\"text-align: right;\">\n",
       "      <th></th>\n",
       "      <th>quantity</th>\n",
       "      <th>Age</th>\n",
       "      <th>Premium</th>\n",
       "      <th>Vintage</th>\n",
       "    </tr>\n",
       "    <tr>\n",
       "      <th>response</th>\n",
       "      <th></th>\n",
       "      <th></th>\n",
       "      <th></th>\n",
       "      <th></th>\n",
       "    </tr>\n",
       "  </thead>\n",
       "  <tbody>\n",
       "    <tr>\n",
       "      <th>0</th>\n",
       "      <td>78119</td>\n",
       "      <td>46</td>\n",
       "      <td>41685.096391</td>\n",
       "      <td>154.397368</td>\n",
       "    </tr>\n",
       "    <tr>\n",
       "      <th>1</th>\n",
       "      <td>18031</td>\n",
       "      <td>45</td>\n",
       "      <td>42016.139759</td>\n",
       "      <td>154.402363</td>\n",
       "    </tr>\n",
       "  </tbody>\n",
       "</table>\n",
       "</div>"
      ],
      "text/plain": [
       "          quantity  Age       Premium     Vintage\n",
       "response                                         \n",
       "0            78119   46  41685.096391  154.397368\n",
       "1            18031   45  42016.139759  154.402363"
      ]
     },
     "execution_count": 31,
     "metadata": {},
     "output_type": "execute_result"
    }
   ],
   "source": [
    "#region 28 represents 27.9% of the database\n",
    "df4.loc[df4['region_code'] == 28, :].groupby([  'response']).agg(quantity= ('id', 'count'),Age= ('age', 'median'),Premium=('annual_premium', 'mean'), Vintage=('vintage', 'mean')).sort_values('Premium')\n"
   ]
  },
  {
   "cell_type": "code",
   "execution_count": 32,
   "id": "cardiovascular-groove",
   "metadata": {
    "ExecuteTime": {
     "end_time": "2021-07-25T21:21:15.335798Z",
     "start_time": "2021-07-25T21:21:15.266811Z"
    }
   },
   "outputs": [
    {
     "data": {
      "text/html": [
       "<div>\n",
       "<style scoped>\n",
       "    .dataframe tbody tr th:only-of-type {\n",
       "        vertical-align: middle;\n",
       "    }\n",
       "\n",
       "    .dataframe tbody tr th {\n",
       "        vertical-align: top;\n",
       "    }\n",
       "\n",
       "    .dataframe thead th {\n",
       "        text-align: right;\n",
       "    }\n",
       "</style>\n",
       "<table border=\"1\" class=\"dataframe\">\n",
       "  <thead>\n",
       "    <tr style=\"text-align: right;\">\n",
       "      <th></th>\n",
       "      <th>quantity</th>\n",
       "      <th>Age</th>\n",
       "      <th>Premium</th>\n",
       "      <th>Vintage</th>\n",
       "    </tr>\n",
       "    <tr>\n",
       "      <th>response</th>\n",
       "      <th></th>\n",
       "      <th></th>\n",
       "      <th></th>\n",
       "      <th></th>\n",
       "    </tr>\n",
       "  </thead>\n",
       "  <tbody>\n",
       "    <tr>\n",
       "      <th>1</th>\n",
       "      <td>2724</td>\n",
       "      <td>45</td>\n",
       "      <td>40541.461821</td>\n",
       "      <td>153.109765</td>\n",
       "    </tr>\n",
       "    <tr>\n",
       "      <th>0</th>\n",
       "      <td>27034</td>\n",
       "      <td>30</td>\n",
       "      <td>40771.045461</td>\n",
       "      <td>154.918584</td>\n",
       "    </tr>\n",
       "  </tbody>\n",
       "</table>\n",
       "</div>"
      ],
      "text/plain": [
       "          quantity  Age       Premium     Vintage\n",
       "response                                         \n",
       "1             2724   45  40541.461821  153.109765\n",
       "0            27034   30  40771.045461  154.918584"
      ]
     },
     "execution_count": 32,
     "metadata": {},
     "output_type": "execute_result"
    }
   ],
   "source": [
    "df4.loc[df4['region_code'] == 8, :].groupby([  'response']).agg(quantity= ('id', 'count'),Age= ('age', 'median'),Premium=('annual_premium', 'mean'), Vintage=('vintage', 'mean')).sort_values('Premium')\n"
   ]
  },
  {
   "cell_type": "code",
   "execution_count": 33,
   "id": "junior-assurance",
   "metadata": {
    "ExecuteTime": {
     "end_time": "2021-07-25T21:21:16.454418Z",
     "start_time": "2021-07-25T21:21:15.335798Z"
    }
   },
   "outputs": [
    {
     "data": {
      "image/png": "[encoded data removed]",
      "text/plain": [
       "<Figure size 1080x288 with 1 Axes>"
      ]
     },
     "metadata": {
      "needs_background": "light"
     },
     "output_type": "display_data"
    }
   ],
   "source": [
    "aux = df4[(df4['region_code'] != 28)& (df4['region_code'] != 8) & (df4['response'] == 1)]\n",
    "fig = plt.subplots(figsize = (15,4))\n",
    "sns.countplot(x = 'region_code', data = aux);"
   ]
  },
  {
   "cell_type": "code",
   "execution_count": 34,
   "id": "isolated-fetish",
   "metadata": {
    "ExecuteTime": {
     "end_time": "2021-07-25T21:21:16.617197Z",
     "start_time": "2021-07-25T21:21:16.454418Z"
    }
   },
   "outputs": [
    {
     "data": {
      "text/html": [
       "<div>\n",
       "<style scoped>\n",
       "    .dataframe tbody tr th:only-of-type {\n",
       "        vertical-align: middle;\n",
       "    }\n",
       "\n",
       "    .dataframe tbody tr th {\n",
       "        vertical-align: top;\n",
       "    }\n",
       "\n",
       "    .dataframe thead th {\n",
       "        text-align: right;\n",
       "    }\n",
       "</style>\n",
       "<table border=\"1\" class=\"dataframe\">\n",
       "  <thead>\n",
       "    <tr style=\"text-align: right;\">\n",
       "      <th>response</th>\n",
       "      <th>0</th>\n",
       "      <th>1</th>\n",
       "    </tr>\n",
       "    <tr>\n",
       "      <th>previously_insured</th>\n",
       "      <th></th>\n",
       "      <th></th>\n",
       "    </tr>\n",
       "  </thead>\n",
       "  <tbody>\n",
       "    <tr>\n",
       "      <th>0</th>\n",
       "      <td>0.769438</td>\n",
       "      <td>0.230562</td>\n",
       "    </tr>\n",
       "    <tr>\n",
       "      <th>1</th>\n",
       "      <td>0.999191</td>\n",
       "      <td>0.000809</td>\n",
       "    </tr>\n",
       "  </tbody>\n",
       "</table>\n",
       "</div>"
      ],
      "text/plain": [
       "response                   0         1\n",
       "previously_insured                    \n",
       "0                   0.769438  0.230562\n",
       "1                   0.999191  0.000809"
      ]
     },
     "execution_count": 34,
     "metadata": {},
     "output_type": "execute_result"
    }
   ],
   "source": [
    "# Previous insured\n",
    "pd.crosstab(df4['previously_insured'], df4['response'] ).apply( lambda x: x / x.sum(), axis=1 )"
   ]
  },
  {
   "cell_type": "markdown",
   "id": "underlying-setting",
   "metadata": {},
   "source": [
    "- 99% of one condition, may generate viés "
   ]
  },
  {
   "cell_type": "code",
   "execution_count": 35,
   "id": "surprising-timeline",
   "metadata": {
    "ExecuteTime": {
     "end_time": "2021-07-25T21:21:16.639349Z",
     "start_time": "2021-07-25T21:21:16.617197Z"
    }
   },
   "outputs": [
    {
     "data": {
      "text/plain": [
       "array([1, 0], dtype=int64)"
      ]
     },
     "execution_count": 35,
     "metadata": {},
     "output_type": "execute_result"
    }
   ],
   "source": [
    "df4['vehicle_damage'].unique()"
   ]
  },
  {
   "cell_type": "code",
   "execution_count": 36,
   "id": "under-cardiff",
   "metadata": {
    "ExecuteTime": {
     "end_time": "2021-07-25T21:21:19.421711Z",
     "start_time": "2021-07-25T21:21:16.639349Z"
    }
   },
   "outputs": [
    {
     "data": {
      "text/plain": [
       "<AxesSubplot:xlabel='response', ylabel='policy_sales_channel'>"
      ]
     },
     "execution_count": 36,
     "metadata": {},
     "output_type": "execute_result"
    },
    {
     "data": {
      "image/png": "[encoded data removed]",
      "text/plain": [
       "<Figure size 1728x864 with 1 Axes>"
      ]
     },
     "metadata": {
      "needs_background": "light"
     },
     "output_type": "display_data"
    }
   ],
   "source": [
    "#'policy_sales_channel'\n",
    "plt.figure( figsize=(24, 12 ))\n",
    "aux = df4[['policy_sales_channel', 'response']].groupby( 'policy_sales_channel').sum().reset_index()\n",
    "sns.barplot( x='response', y='policy_sales_channel', data=aux )"
   ]
  },
  {
   "cell_type": "markdown",
   "id": "induced-blackberry",
   "metadata": {},
   "source": [
    "### 4.1.3. Categorical Variable"
   ]
  },
  {
   "cell_type": "code",
   "execution_count": 37,
   "id": "greenhouse-chicken",
   "metadata": {
    "ExecuteTime": {
     "end_time": "2021-07-25T21:21:26.272177Z",
     "start_time": "2021-07-25T21:21:19.421711Z"
    }
   },
   "outputs": [
    {
     "name": "stderr",
     "output_type": "stream",
     "text": [
      "C:\\Users\\ACER\\anaconda3\\envs\\datasciencemproducao\\lib\\site-packages\\seaborn\\_decorators.py:36: FutureWarning: Pass the following variable as a keyword arg: x. From version 0.12, the only valid positional argument will be `data`, and passing other arguments without an explicit keyword will result in an error or misinterpretation.\n",
      "  warnings.warn(\n",
      "C:\\Users\\ACER\\anaconda3\\envs\\datasciencemproducao\\lib\\site-packages\\seaborn\\_decorators.py:36: FutureWarning: Pass the following variable as a keyword arg: x. From version 0.12, the only valid positional argument will be `data`, and passing other arguments without an explicit keyword will result in an error or misinterpretation.\n",
      "  warnings.warn(\n"
     ]
    },
    {
     "data": {
      "image/png": "[encoded data removed]",
      "text/plain": [
       "<Figure size 1152x864 with 4 Axes>"
      ]
     },
     "metadata": {
      "needs_background": "light"
     },
     "output_type": "display_data"
    }
   ],
   "source": [
    "#gender vehicle_age vehicle_damage\n",
    "\n",
    "plt.figure( figsize=(16, 12 ))\n",
    "# Gender\n",
    "\n",
    "plt.subplot( 2, 2, 1 )\n",
    "sns.countplot( df4['gender'] );\n",
    "\n",
    "plt.subplot( 2, 2, 2 )\n",
    "sns.kdeplot( df4[df4['gender'] == 'Female']['response'], label='female', shade=True );\n",
    "sns.kdeplot( df4[df4['gender'] == 'Male']['response'], label='male', shade=True );\n",
    "\n",
    "# Vehicle_age\n",
    "plt.subplot( 2, 2, 3 )\n",
    "sns.countplot( df4['vehicle_age'] )\n",
    "\n",
    "plt.subplot( 2, 2, 4 )\n",
    "sns.kdeplot( data= df4[df4['vehicle_age'] == 'over_2_years']['response'], label='over_2_years', shade=True );\n",
    "sns.kdeplot( data=df4[df4['vehicle_age'] == 'below_1_year']['response'], label='below_1_year', shade=True );\n",
    "sns.kdeplot( data=df4[df4['vehicle_age'] == 'between_1_2_year']['response'], label='between_1_2', shade=True );\n",
    "\n"
   ]
  },
  {
   "cell_type": "code",
   "execution_count": 38,
   "id": "found-sound",
   "metadata": {
    "ExecuteTime": {
     "end_time": "2021-07-25T21:21:26.388167Z",
     "start_time": "2021-07-25T21:21:26.272177Z"
    }
   },
   "outputs": [
    {
     "data": {
      "text/html": [
       "<div>\n",
       "<style scoped>\n",
       "    .dataframe tbody tr th:only-of-type {\n",
       "        vertical-align: middle;\n",
       "    }\n",
       "\n",
       "    .dataframe tbody tr th {\n",
       "        vertical-align: top;\n",
       "    }\n",
       "\n",
       "    .dataframe thead th {\n",
       "        text-align: right;\n",
       "    }\n",
       "</style>\n",
       "<table border=\"1\" class=\"dataframe\">\n",
       "  <thead>\n",
       "    <tr style=\"text-align: right;\">\n",
       "      <th></th>\n",
       "      <th>vehicle_age</th>\n",
       "      <th>response</th>\n",
       "      <th>id</th>\n",
       "    </tr>\n",
       "  </thead>\n",
       "  <tbody>\n",
       "    <tr>\n",
       "      <th>0</th>\n",
       "      <td>below_1_year</td>\n",
       "      <td>0</td>\n",
       "      <td>137861</td>\n",
       "    </tr>\n",
       "    <tr>\n",
       "      <th>1</th>\n",
       "      <td>below_1_year</td>\n",
       "      <td>1</td>\n",
       "      <td>5994</td>\n",
       "    </tr>\n",
       "    <tr>\n",
       "      <th>2</th>\n",
       "      <td>between_1_2_year</td>\n",
       "      <td>0</td>\n",
       "      <td>130381</td>\n",
       "    </tr>\n",
       "    <tr>\n",
       "      <th>3</th>\n",
       "      <td>between_1_2_year</td>\n",
       "      <td>1</td>\n",
       "      <td>28017</td>\n",
       "    </tr>\n",
       "    <tr>\n",
       "      <th>4</th>\n",
       "      <td>over_2_years</td>\n",
       "      <td>0</td>\n",
       "      <td>9126</td>\n",
       "    </tr>\n",
       "    <tr>\n",
       "      <th>5</th>\n",
       "      <td>over_2_years</td>\n",
       "      <td>1</td>\n",
       "      <td>4070</td>\n",
       "    </tr>\n",
       "  </tbody>\n",
       "</table>\n",
       "</div>"
      ],
      "text/plain": [
       "        vehicle_age  response      id\n",
       "0      below_1_year         0  137861\n",
       "1      below_1_year         1    5994\n",
       "2  between_1_2_year         0  130381\n",
       "3  between_1_2_year         1   28017\n",
       "4      over_2_years         0    9126\n",
       "5      over_2_years         1    4070"
      ]
     },
     "execution_count": 38,
     "metadata": {},
     "output_type": "execute_result"
    }
   ],
   "source": [
    "# vehicle_age\n",
    "df4[['id','vehicle_age', 'response']].groupby( ['vehicle_age', 'response'] ).count().reset_index()"
   ]
  },
  {
   "cell_type": "code",
   "execution_count": 39,
   "id": "choice-paris",
   "metadata": {
    "ExecuteTime": {
     "end_time": "2021-07-25T21:21:26.773796Z",
     "start_time": "2021-07-25T21:21:26.388167Z"
    }
   },
   "outputs": [
    {
     "data": {
      "image/png": "[encoded data removed]",
      "text/plain": [
       "<Figure size 720x432 with 1 Axes>"
      ]
     },
     "metadata": {},
     "output_type": "display_data"
    }
   ],
   "source": [
    "plt.figure( figsize=(10, 6 ))\n",
    "\n",
    "# vehicle damage\n",
    "a=df4.groupby('response').count()[['vehicle_damage']].reset_index()\n",
    "plt.pie(a['vehicle_damage'], labels =a['response'], autopct=\"%.1f%%\");\n",
    "plt.legend(title = \"response\");\n",
    "plt.title('Vehicle Damage');\n",
    "\n"
   ]
  },
  {
   "cell_type": "code",
   "execution_count": 40,
   "id": "burning-explanation",
   "metadata": {
    "ExecuteTime": {
     "end_time": "2021-07-25T21:21:27.143743Z",
     "start_time": "2021-07-25T21:21:26.773796Z"
    }
   },
   "outputs": [
    {
     "data": {
      "image/png": "[encoded data removed]",
      "text/plain": [
       "<Figure size 1080x288 with 1 Axes>"
      ]
     },
     "metadata": {
      "needs_background": "light"
     },
     "output_type": "display_data"
    }
   ],
   "source": [
    "fig, axs = plt.subplots(figsize = (15,4))\n",
    "sns.countplot(x = df4['vehicle_damage'], hue = df4['response']);"
   ]
  },
  {
   "cell_type": "markdown",
   "id": "white-sound",
   "metadata": {},
   "source": [
    "# 5.0. Data Preparation"
   ]
  },
  {
   "cell_type": "code",
   "execution_count": 41,
   "id": "modular-federation",
   "metadata": {
    "ExecuteTime": {
     "end_time": "2021-07-25T21:21:27.190613Z",
     "start_time": "2021-07-25T21:21:27.143743Z"
    }
   },
   "outputs": [],
   "source": [
    "df5 = df4.copy()"
   ]
  },
  {
   "cell_type": "code",
   "execution_count": 42,
   "id": "identified-chambers",
   "metadata": {
    "ExecuteTime": {
     "end_time": "2021-07-25T21:21:27.459750Z",
     "start_time": "2021-07-25T21:21:27.190613Z"
    }
   },
   "outputs": [],
   "source": [
    "X = df4.drop( 'response', axis=1 )\n",
    "y = df4['response'].copy() \n",
    "\n",
    "x_train, x_validation, y_train, y_validation = ms.train_test_split( X, y, test_size=0.20 )\n",
    "\n",
    "df5 = pd.concat( [x_train, y_train], axis=1 )"
   ]
  },
  {
   "cell_type": "markdown",
   "id": "entitled-compound",
   "metadata": {},
   "source": [
    "## 5.1. Standardization"
   ]
  },
  {
   "cell_type": "code",
   "execution_count": 43,
   "id": "comfortable-donor",
   "metadata": {
    "ExecuteTime": {
     "end_time": "2021-07-25T21:21:27.560043Z",
     "start_time": "2021-07-25T21:21:27.459750Z"
    }
   },
   "outputs": [],
   "source": [
    "ss = pp.StandardScaler()\n",
    "\n",
    "# annual_premium\n",
    "df5['annual_premium'] = ss.fit_transform( df5[['annual_premium']].values )"
   ]
  },
  {
   "cell_type": "markdown",
   "id": "bronze-publisher",
   "metadata": {},
   "source": [
    "## 5.2. Rescaling"
   ]
  },
  {
   "cell_type": "code",
   "execution_count": 44,
   "id": "spread-monte",
   "metadata": {
    "ExecuteTime": {
     "end_time": "2021-07-25T21:21:27.644736Z",
     "start_time": "2021-07-25T21:21:27.560043Z"
    }
   },
   "outputs": [],
   "source": [
    "mms_age = pp.MinMaxScaler()\n",
    "mms_vintage = pp.MinMaxScaler()\n",
    "\n",
    "# Age\n",
    "df5['age'] = mms_age.fit_transform( df5[['age']].values )\n",
    "\n",
    "# vintage\n",
    "df5['vintage'] = mms_vintage.fit_transform( df5[['vintage']].values )"
   ]
  },
  {
   "cell_type": "markdown",
   "id": "executive-netherlands",
   "metadata": {},
   "source": [
    "### 5.3.1. Encoding"
   ]
  },
  {
   "cell_type": "markdown",
   "id": "plain-trail",
   "metadata": {},
   "source": [
    "## Encoder"
   ]
  },
  {
   "cell_type": "code",
   "execution_count": 45,
   "id": "conservative-stability",
   "metadata": {
    "ExecuteTime": {
     "end_time": "2021-07-25T21:21:28.146444Z",
     "start_time": "2021-07-25T21:21:27.644736Z"
    }
   },
   "outputs": [
    {
     "name": "stderr",
     "output_type": "stream",
     "text": [
      "C:\\Users\\ACER\\anaconda3\\envs\\datasciencemproducao\\lib\\site-packages\\category_encoders\\utils.py:21: FutureWarning: is_categorical is deprecated and will be removed in a future version.  Use is_categorical_dtype instead\n",
      "  elif pd.api.types.is_categorical(cols):\n"
     ]
    }
   ],
   "source": [
    "# gender - One Hot Encoding / Target Encoding\n",
    "\n",
    "encoder_gender =TargetEncoder()\n",
    "df5['gender'] = encoder_gender.fit_transform(df5['gender'], df5['response'])\n",
    "\n",
    "# region_code - Target Encoding / Frequency Encoding\n",
    "target_encode_region_code = df5.groupby( 'region_code' )['response'].mean()\n",
    "df5.loc[:, 'region_code'] = df5['region_code'].map( target_encode_region_code )\n",
    "\n",
    "\n",
    "## vehicle_age - One Hot Encoding / Frequency Encoding\n",
    "df5 = pd.get_dummies( df5, prefix='vehicle_age', columns=['vehicle_age'] )\n",
    "\n",
    "## policy_sales_channel - Target Encoding / Frequency Encoding\n",
    "fe_policy_sales_channel = df5.groupby( 'policy_sales_channel' ).size() / len( df5 ) \n",
    "df5.loc[:, 'policy_sales_channel'] = df5['policy_sales_channel'].map( fe_policy_sales_channel )"
   ]
  },
  {
   "cell_type": "markdown",
   "id": "dimensional-denver",
   "metadata": {},
   "source": [
    "## 5.4. Validation Preparation"
   ]
  },
  {
   "cell_type": "code",
   "execution_count": 46,
   "id": "convenient-front",
   "metadata": {
    "ExecuteTime": {
     "end_time": "2021-07-25T21:21:28.331354Z",
     "start_time": "2021-07-25T21:21:28.146444Z"
    }
   },
   "outputs": [
    {
     "name": "stderr",
     "output_type": "stream",
     "text": [
      "C:\\Users\\ACER\\anaconda3\\envs\\datasciencemproducao\\lib\\site-packages\\pandas\\core\\indexing.py:1787: SettingWithCopyWarning: \n",
      "A value is trying to be set on a copy of a slice from a DataFrame.\n",
      "Try using .loc[row_indexer,col_indexer] = value instead\n",
      "\n",
      "See the caveats in the documentation: https://pandas.pydata.org/pandas-docs/stable/user_guide/indexing.html#returning-a-view-versus-a-copy\n",
      "  self._setitem_single_column(loc, val, pi)\n",
      "C:\\Users\\ACER\\anaconda3\\envs\\datasciencemproducao\\lib\\site-packages\\pandas\\core\\indexing.py:1738: SettingWithCopyWarning: \n",
      "A value is trying to be set on a copy of a slice from a DataFrame.\n",
      "Try using .loc[row_indexer,col_indexer] = value instead\n",
      "\n",
      "See the caveats in the documentation: https://pandas.pydata.org/pandas-docs/stable/user_guide/indexing.html#returning-a-view-versus-a-copy\n",
      "  self._setitem_single_column(loc, value[:, i].tolist(), pi)\n",
      "C:\\Users\\ACER\\anaconda3\\envs\\datasciencemproducao\\lib\\site-packages\\pandas\\core\\indexing.py:1676: SettingWithCopyWarning: \n",
      "A value is trying to be set on a copy of a slice from a DataFrame.\n",
      "Try using .loc[row_indexer,col_indexer] = value instead\n",
      "\n",
      "See the caveats in the documentation: https://pandas.pydata.org/pandas-docs/stable/user_guide/indexing.html#returning-a-view-versus-a-copy\n",
      "  self._setitem_single_column(ilocs[0], value, pi)\n"
     ]
    }
   ],
   "source": [
    "# gender\n",
    "x_validation.loc[:, 'gender'] =  encoder_gender.transform(x_validation[['gender']], y=None )\n",
    "\n",
    "# age\n",
    "x_validation.loc[:, 'age'] = mms_age.transform( x_validation[['age']].values )\n",
    "\n",
    "# region_code\n",
    "x_validation.loc[:, 'region_code'] = x_validation.loc[:, 'region_code'].map( target_encode_region_code )\n",
    "\n",
    "# vehicle_age\n",
    "x_validation = pd.get_dummies( x_validation, prefix='vehicle_age', columns=['vehicle_age'] )\n",
    "\n",
    "# annual_premium\n",
    "x_validation.loc[:, 'annual_premium'] = ss.transform( x_validation[['annual_premium']].values )\n",
    "\n",
    "# policy_sales_channel\n",
    "x_validation.loc[:, 'policy_sales_channel'] = x_validation['policy_sales_channel'].map( fe_policy_sales_channel )\n",
    "\n",
    "# vintage\n",
    "x_validation.loc[:, 'vintage'] = mms_vintage.transform( x_validation[['vintage']].values )\n",
    "\n",
    "# fillna\n",
    "x_validation = x_validation.fillna( 0 )"
   ]
  },
  {
   "cell_type": "code",
   "execution_count": 47,
   "id": "adapted-guidance",
   "metadata": {
    "ExecuteTime": {
     "end_time": "2021-07-25T21:21:28.378178Z",
     "start_time": "2021-07-25T21:21:28.331354Z"
    }
   },
   "outputs": [
    {
     "data": {
      "text/html": [
       "<div>\n",
       "<style scoped>\n",
       "    .dataframe tbody tr th:only-of-type {\n",
       "        vertical-align: middle;\n",
       "    }\n",
       "\n",
       "    .dataframe tbody tr th {\n",
       "        vertical-align: top;\n",
       "    }\n",
       "\n",
       "    .dataframe thead th {\n",
       "        text-align: right;\n",
       "    }\n",
       "</style>\n",
       "<table border=\"1\" class=\"dataframe\">\n",
       "  <thead>\n",
       "    <tr style=\"text-align: right;\">\n",
       "      <th></th>\n",
       "      <th>id</th>\n",
       "      <th>gender</th>\n",
       "      <th>age</th>\n",
       "      <th>driving_license</th>\n",
       "      <th>region_code</th>\n",
       "      <th>previously_insured</th>\n",
       "      <th>vehicle_damage</th>\n",
       "      <th>annual_premium</th>\n",
       "      <th>policy_sales_channel</th>\n",
       "      <th>vintage</th>\n",
       "      <th>response</th>\n",
       "      <th>vehicle_age_below_1_year</th>\n",
       "      <th>vehicle_age_between_1_2_year</th>\n",
       "      <th>vehicle_age_over_2_years</th>\n",
       "    </tr>\n",
       "  </thead>\n",
       "  <tbody>\n",
       "    <tr>\n",
       "      <th>16202</th>\n",
       "      <td>16203</td>\n",
       "      <td>0.137564</td>\n",
       "      <td>0.107692</td>\n",
       "      <td>1</td>\n",
       "      <td>0.115704</td>\n",
       "      <td>1</td>\n",
       "      <td>0</td>\n",
       "      <td>-0.389784</td>\n",
       "      <td>0.386739</td>\n",
       "      <td>0.252595</td>\n",
       "      <td>0</td>\n",
       "      <td>1</td>\n",
       "      <td>0</td>\n",
       "      <td>0</td>\n",
       "    </tr>\n",
       "    <tr>\n",
       "      <th>139946</th>\n",
       "      <td>139947</td>\n",
       "      <td>0.100796</td>\n",
       "      <td>0.123077</td>\n",
       "      <td>1</td>\n",
       "      <td>0.100528</td>\n",
       "      <td>1</td>\n",
       "      <td>0</td>\n",
       "      <td>-0.954747</td>\n",
       "      <td>0.386739</td>\n",
       "      <td>0.065744</td>\n",
       "      <td>0</td>\n",
       "      <td>1</td>\n",
       "      <td>0</td>\n",
       "      <td>0</td>\n",
       "    </tr>\n",
       "    <tr>\n",
       "      <th>111627</th>\n",
       "      <td>111628</td>\n",
       "      <td>0.100796</td>\n",
       "      <td>0.000000</td>\n",
       "      <td>1</td>\n",
       "      <td>0.101006</td>\n",
       "      <td>1</td>\n",
       "      <td>0</td>\n",
       "      <td>0.086972</td>\n",
       "      <td>0.051748</td>\n",
       "      <td>1.000000</td>\n",
       "      <td>0</td>\n",
       "      <td>1</td>\n",
       "      <td>0</td>\n",
       "      <td>0</td>\n",
       "    </tr>\n",
       "    <tr>\n",
       "      <th>187949</th>\n",
       "      <td>187950</td>\n",
       "      <td>0.137564</td>\n",
       "      <td>0.461538</td>\n",
       "      <td>1</td>\n",
       "      <td>0.120988</td>\n",
       "      <td>0</td>\n",
       "      <td>1</td>\n",
       "      <td>-0.513347</td>\n",
       "      <td>0.212645</td>\n",
       "      <td>0.221453</td>\n",
       "      <td>0</td>\n",
       "      <td>0</td>\n",
       "      <td>1</td>\n",
       "      <td>0</td>\n",
       "    </tr>\n",
       "    <tr>\n",
       "      <th>220280</th>\n",
       "      <td>220281</td>\n",
       "      <td>0.100796</td>\n",
       "      <td>0.030769</td>\n",
       "      <td>1</td>\n",
       "      <td>0.113633</td>\n",
       "      <td>1</td>\n",
       "      <td>0</td>\n",
       "      <td>-0.389966</td>\n",
       "      <td>0.386739</td>\n",
       "      <td>0.304498</td>\n",
       "      <td>0</td>\n",
       "      <td>1</td>\n",
       "      <td>0</td>\n",
       "      <td>0</td>\n",
       "    </tr>\n",
       "  </tbody>\n",
       "</table>\n",
       "</div>"
      ],
      "text/plain": [
       "            id    gender       age  driving_license  region_code  \\\n",
       "16202    16203  0.137564  0.107692                1     0.115704   \n",
       "139946  139947  0.100796  0.123077                1     0.100528   \n",
       "111627  111628  0.100796  0.000000                1     0.101006   \n",
       "187949  187950  0.137564  0.461538                1     0.120988   \n",
       "220280  220281  0.100796  0.030769                1     0.113633   \n",
       "\n",
       "        previously_insured  vehicle_damage  annual_premium  \\\n",
       "16202                    1               0       -0.389784   \n",
       "139946                   1               0       -0.954747   \n",
       "111627                   1               0        0.086972   \n",
       "187949                   0               1       -0.513347   \n",
       "220280                   1               0       -0.389966   \n",
       "\n",
       "        policy_sales_channel   vintage  response  vehicle_age_below_1_year  \\\n",
       "16202               0.386739  0.252595         0                         1   \n",
       "139946              0.386739  0.065744         0                         1   \n",
       "111627              0.051748  1.000000         0                         1   \n",
       "187949              0.212645  0.221453         0                         0   \n",
       "220280              0.386739  0.304498         0                         1   \n",
       "\n",
       "        vehicle_age_between_1_2_year  vehicle_age_over_2_years  \n",
       "16202                              0                         0  \n",
       "139946                             0                         0  \n",
       "111627                             0                         0  \n",
       "187949                             1                         0  \n",
       "220280                             0                         0  "
      ]
     },
     "execution_count": 47,
     "metadata": {},
     "output_type": "execute_result"
    }
   ],
   "source": [
    "df5.head()"
   ]
  },
  {
   "cell_type": "markdown",
   "id": "mysterious-administrator",
   "metadata": {},
   "source": [
    "# 6.0. Feature Selection"
   ]
  },
  {
   "cell_type": "code",
   "execution_count": 48,
   "id": "developing-baker",
   "metadata": {
    "ExecuteTime": {
     "end_time": "2021-07-25T21:21:28.409433Z",
     "start_time": "2021-07-25T21:21:28.378178Z"
    }
   },
   "outputs": [],
   "source": [
    "df6 = df5.copy()"
   ]
  },
  {
   "cell_type": "markdown",
   "id": "suited-scheduling",
   "metadata": {},
   "source": [
    "## 6.1. Boruta Algorithm"
   ]
  },
  {
   "cell_type": "code",
   "execution_count": 49,
   "id": "tribal-perry",
   "metadata": {
    "ExecuteTime": {
     "end_time": "2021-07-25T21:21:28.431614Z",
     "start_time": "2021-07-25T21:21:28.409433Z"
    }
   },
   "outputs": [],
   "source": [
    "## training and test dataset for Boruta\n",
    "#x_train_b = df6.drop(['id', 'response'], axis = 1).values\n",
    "#y_train_b = y_train.values.ravel()\n",
    "#\n",
    "#\n",
    "## define RandomForestRegressor\n",
    "#rf = RandomForestClassifier(n_jobs=-1, class_weight='balanced', max_depth=5)\n",
    "#\n",
    "## define Boruta feature selection method\n",
    "#boruta_feat_selector = BorutaPy(rf, n_estimators='auto', verbose=2, random_state=42).fit( x_train_b,y_train_b )\n",
    "#\n",
    "## find all relevant features\n",
    "#boruta_feat_selector.fit(x_train_b,y_train_b )\n",
    "#\n",
    "## check ranking of features\n",
    "#boruta_feat_selector.ranking_"
   ]
  },
  {
   "cell_type": "code",
   "execution_count": 50,
   "id": "hawaiian-soviet",
   "metadata": {
    "ExecuteTime": {
     "end_time": "2021-07-25T21:21:28.447220Z",
     "start_time": "2021-07-25T21:21:28.431614Z"
    }
   },
   "outputs": [],
   "source": [
    "#cols_selected = boruta_feat_selector.support_.tolist()\n",
    "#\n",
    "##colunas selecionadas\n",
    "#x_train_fs = df6.drop(['id', 'response'], axis = 1)\n",
    "#cols_selected_boruta = x_train_fs.iloc[:, cols_selected].columns.to_list()\n",
    "#\n",
    "##colunas não selecionadas\n",
    "#cols_not_selected_boruta = list(np.setdiff1d(x_train_fs.columns,cols_selected_boruta))\n",
    "#\n",
    "#print(\"BorutaSelected Column: \\n\",cols_selected_boruta )\n",
    "#\n",
    "#\n",
    "#print(\"Boruta NOT Selected Column:\", cols_not_selected_boruta )\n"
   ]
  },
  {
   "cell_type": "markdown",
   "id": "cellular-resort",
   "metadata": {},
   "source": [
    "## 6.2. Feature Importance"
   ]
  },
  {
   "cell_type": "code",
   "execution_count": 51,
   "id": "gross-sapphire",
   "metadata": {
    "ExecuteTime": {
     "end_time": "2021-07-25T21:22:42.181135Z",
     "start_time": "2021-07-25T21:21:28.447220Z"
    }
   },
   "outputs": [
    {
     "data": {
      "text/plain": [
       "ExtraTreesClassifier(bootstrap=False, ccp_alpha=0.0, class_weight=None,\n",
       "                     criterion='gini', max_depth=None, max_features='auto',\n",
       "                     max_leaf_nodes=None, max_samples=None,\n",
       "                     min_impurity_decrease=0.0, min_impurity_split=None,\n",
       "                     min_samples_leaf=1, min_samples_split=2,\n",
       "                     min_weight_fraction_leaf=0.0, n_estimators=250, n_jobs=-1,\n",
       "                     oob_score=False, random_state=0, verbose=0,\n",
       "                     warm_start=False)"
      ]
     },
     "execution_count": 51,
     "metadata": {},
     "output_type": "execute_result"
    }
   ],
   "source": [
    "# model definition\n",
    "forest = en.ExtraTreesClassifier( n_estimators=250, random_state=0, n_jobs=-1 )\n",
    "\n",
    "# data preparation\n",
    "x_train_n = df5.drop( ['id', 'response'], axis=1 )\n",
    "y_train_n = y_train.values\n",
    "forest.fit( x_train_n, y_train_n )"
   ]
  },
  {
   "cell_type": "code",
   "execution_count": 52,
   "id": "adopted-carter",
   "metadata": {
    "ExecuteTime": {
     "end_time": "2021-07-25T21:23:03.619201Z",
     "start_time": "2021-07-25T21:22:42.297100Z"
    }
   },
   "outputs": [
    {
     "name": "stdout",
     "output_type": "stream",
     "text": [
      "feature ranking\n",
      "                        feature  importance\n",
      "0                annual_premium    0.274459\n",
      "0                       vintage    0.249557\n",
      "0                           age    0.156257\n",
      "0                   region_code    0.102731\n",
      "0                vehicle_damage    0.070491\n",
      "0            previously_insured    0.058840\n",
      "0          policy_sales_channel    0.057587\n",
      "0      vehicle_age_below_1_year    0.014708\n",
      "0  vehicle_age_between_1_2_year    0.007146\n",
      "0                        gender    0.004686\n",
      "0      vehicle_age_over_2_years    0.003001\n",
      "0               driving_license    0.000537\n"
     ]
    },
    {
     "data": {
      "image/png": "[encoded data removed]",
      "text/plain": [
       "<Figure size 432x288 with 1 Axes>"
      ]
     },
     "metadata": {
      "needs_background": "light"
     },
     "output_type": "display_data"
    }
   ],
   "source": [
    "importances = forest.feature_importances_\n",
    "indices = np.argsort( importances )[::-1]\n",
    "\n",
    "print( 'feature ranking')\n",
    "df = pd.DataFrame()\n",
    "\n",
    "for i, j in zip( x_train_n, forest.feature_importances_ ):\n",
    "    aux = pd.DataFrame( {'feature': i, 'importance': j}, index=[0] )\n",
    "    df = pd.concat( [df, aux], axis=0 )\n",
    "    \n",
    "print( df.sort_values( 'importance', ascending=False ) )\n",
    "\n",
    "# Plot the impurity-based feature importances of the forest\n",
    "plt.figure()\n",
    "plt.title(\"Feature importances\")\n",
    "plt.bar(range(x_train_n.shape[1]), importances[indices], color=\"r\", align=\"center\")\n",
    "plt.xticks(range(x_train_n.shape[1]), indices)\n",
    "plt.xlim([-1, x_train_n.shape[1]])\n",
    "plt.show()"
   ]
  },
  {
   "cell_type": "markdown",
   "id": "raised-backing",
   "metadata": {},
   "source": [
    "Selected Columns :\n",
    "\n",
    "From EDA Analysis:\n",
    "    \n",
    "            'gender', age','annual_preminum', 'policy_sales_channel', 'region_code', 'vehicle_age'\n",
    "         \n",
    "From Boruta\n",
    "       \n",
    "         'gender', 'age', 'driving_license', 'region_code', 'previously_insured', 'vehicle_damage', 'annual_premium', \n",
    "         'policy_sales_channel', 'vehicle_age_below_1_year', 'vehicle_age_between_1_2_year', 'vehicle_age_over_2_years'\n",
    "    \n",
    "\n",
    "From Features Importance - untill 5% \n",
    "\n",
    "        'annual_premium', 'vintage', 'age', 'region_code','vehicle_damage', 'policy_sales_channel', 'previously_insured'.        \n",
    "Features final list:\n",
    "    "
   ]
  },
  {
   "cell_type": "markdown",
   "id": "dangerous-istanbul",
   "metadata": {},
   "source": [
    "# 7.0. Machine Learning Modelling"
   ]
  },
  {
   "cell_type": "code",
   "execution_count": 53,
   "id": "better-topic",
   "metadata": {
    "ExecuteTime": {
     "end_time": "2021-07-25T21:23:04.220831Z",
     "start_time": "2021-07-25T21:23:03.634741Z"
    }
   },
   "outputs": [],
   "source": [
    "df7 = df6.copy()"
   ]
  },
  {
   "cell_type": "code",
   "execution_count": 54,
   "id": "municipal-method",
   "metadata": {
    "ExecuteTime": {
     "end_time": "2021-07-25T21:23:04.722001Z",
     "start_time": "2021-07-25T21:23:04.258589Z"
    }
   },
   "outputs": [],
   "source": [
    "column_selected = ['annual_premium', 'vintage', 'age', 'region_code','vehicle_damage', 'policy_sales_channel']\n",
    "\n",
    "X_train = df7[column_selected]\n",
    "x_test= x_validation[column_selected]\n",
    "y_test = y_validation.copy()"
   ]
  },
  {
   "cell_type": "markdown",
   "id": "colored-tennessee",
   "metadata": {},
   "source": [
    "- **Ordering Metrics**"
   ]
  },
  {
   "cell_type": "markdown",
   "id": "sporting-cartoon",
   "metadata": {},
   "source": [
    "## 7.1. KNN Classifier"
   ]
  },
  {
   "cell_type": "code",
   "execution_count": 55,
   "id": "grateful-straight",
   "metadata": {
    "ExecuteTime": {
     "end_time": "2021-07-25T21:23:18.305723Z",
     "start_time": "2021-07-25T21:23:04.722001Z"
    }
   },
   "outputs": [],
   "source": [
    "# model definition\n",
    "knn_model = nh.KNeighborsClassifier( n_neighbors=7 )\n",
    "\n",
    "# model training\n",
    "knn_model.fit( X_train, y_train )\n",
    "\n",
    "# model prediction - Poder de GENERALIZACAO \n",
    "yhat_knn = knn_model.predict_proba( x_test )"
   ]
  },
  {
   "cell_type": "code",
   "execution_count": 56,
   "id": "tight-triangle",
   "metadata": {
    "ExecuteTime": {
     "end_time": "2021-07-25T21:23:19.039265Z",
     "start_time": "2021-07-25T21:23:18.305723Z"
    }
   },
   "outputs": [
    {
     "data": {
      "image/png": "[encoded data removed]",
      "text/plain": [
       "<Figure size 1080x360 with 2 Axes>"
      ]
     },
     "metadata": {
      "needs_background": "light"
     },
     "output_type": "display_data"
    }
   ],
   "source": [
    "fig, axs = plt.subplots(ncols= 2, figsize = (15,5))\n",
    "skplt.metrics.plot_cumulative_gain(y_test, yhat_knn, ax=axs[0])\n",
    "skplt.metrics.plot_lift_curve(y_test, yhat_knn,ax=axs[1]);"
   ]
  },
  {
   "cell_type": "markdown",
   "id": "optional-fifty",
   "metadata": {
    "ExecuteTime": {
     "end_time": "2021-07-23T16:50:58.064998Z",
     "start_time": "2021-07-23T16:50:58.033799Z"
    }
   },
   "source": [
    "## 7.2. Logistic Regression"
   ]
  },
  {
   "cell_type": "code",
   "execution_count": 57,
   "id": "adolescent-cloud",
   "metadata": {
    "ExecuteTime": {
     "end_time": "2021-07-25T21:23:21.080237Z",
     "start_time": "2021-07-25T21:23:19.039265Z"
    }
   },
   "outputs": [],
   "source": [
    "# model definition\n",
    "lr_model = lm.LogisticRegression( random_state=42 ) \n",
    "\n",
    "# model training\n",
    "lr_model.fit( X_train, y_train )\n",
    "\n",
    "# model prediction\n",
    "yhat_lr = lr_model.predict_proba( x_test )"
   ]
  },
  {
   "cell_type": "code",
   "execution_count": 58,
   "id": "fatty-trinity",
   "metadata": {
    "ExecuteTime": {
     "end_time": "2021-07-25T21:23:21.717294Z",
     "start_time": "2021-07-25T21:23:21.082256Z"
    }
   },
   "outputs": [
    {
     "data": {
      "image/png": "[encoded data removed]",
      "text/plain": [
       "<Figure size 1080x360 with 2 Axes>"
      ]
     },
     "metadata": {
      "needs_background": "light"
     },
     "output_type": "display_data"
    }
   ],
   "source": [
    "fig, axs = plt.subplots(ncols= 2, figsize = (15,5))\n",
    "skplt.metrics.plot_cumulative_gain(y_test, yhat_lr, ax=axs[0])\n",
    "skplt.metrics.plot_lift_curve(y_test, yhat_lr,ax=axs[1]);"
   ]
  },
  {
   "cell_type": "markdown",
   "id": "important-insurance",
   "metadata": {},
   "source": [
    "## 7.3. RandomForest Classifier"
   ]
  },
  {
   "cell_type": "code",
   "execution_count": 59,
   "id": "respected-sussex",
   "metadata": {
    "ExecuteTime": {
     "end_time": "2021-07-25T21:27:38.976461Z",
     "start_time": "2021-07-25T21:23:21.717294Z"
    }
   },
   "outputs": [],
   "source": [
    "# model definition\n",
    "rfc_model = RandomForestClassifier(n_estimators = 300, random_state = 42)\n",
    "\n",
    "# model fit\n",
    "rfc_model.fit( X_train, y_train )\n",
    "\n",
    "# model predict\n",
    "yhat_rfc = rfc_model.predict_proba( x_test )\n",
    "\n"
   ]
  },
  {
   "cell_type": "code",
   "execution_count": 60,
   "id": "taken-howard",
   "metadata": {
    "ExecuteTime": {
     "end_time": "2021-07-25T21:27:39.605907Z",
     "start_time": "2021-07-25T21:27:38.978496Z"
    }
   },
   "outputs": [
    {
     "data": {
      "image/png": "[encoded data removed]",
      "text/plain": [
       "<Figure size 1080x360 with 2 Axes>"
      ]
     },
     "metadata": {
      "needs_background": "light"
     },
     "output_type": "display_data"
    }
   ],
   "source": [
    "fig, axs = plt.subplots(ncols= 2, figsize = (15,5))\n",
    "skplt.metrics.plot_cumulative_gain(y_test, yhat_rfc, ax=axs[0])\n",
    "skplt.metrics.plot_lift_curve(y_test, yhat_rfc,ax=axs[1]);"
   ]
  },
  {
   "cell_type": "markdown",
   "id": "excellent-newcastle",
   "metadata": {},
   "source": [
    "## 7.4. Naive Bayles"
   ]
  },
  {
   "cell_type": "code",
   "execution_count": 63,
   "id": "separated-uncertainty",
   "metadata": {
    "ExecuteTime": {
     "end_time": "2021-07-25T21:30:20.751733Z",
     "start_time": "2021-07-25T21:30:20.504223Z"
    }
   },
   "outputs": [],
   "source": [
    "# model definition\n",
    "naive_model = GaussianNB()\n",
    "\n",
    "# model fit\n",
    "naive_model.fit( X_train, y_train )\n",
    "\n",
    "# model predict\n",
    "yhat_naive = naive_model.predict_proba( x_test )"
   ]
  },
  {
   "cell_type": "code",
   "execution_count": 64,
   "id": "equivalent-precipitation",
   "metadata": {
    "ExecuteTime": {
     "end_time": "2021-07-25T21:30:27.890298Z",
     "start_time": "2021-07-25T21:30:27.326191Z"
    }
   },
   "outputs": [
    {
     "data": {
      "image/png": "[encoded data removed]",
      "text/plain": [
       "<Figure size 1080x360 with 2 Axes>"
      ]
     },
     "metadata": {
      "needs_background": "light"
     },
     "output_type": "display_data"
    }
   ],
   "source": [
    "fig, axs = plt.subplots(ncols=2, figsize= (15,5))\n",
    "skplt.metrics.plot_cumulative_gain(y_test, yhat_naive, ax=axs[0])\n",
    "skplt.metrics.plot_lift_curve(y_test, yhat_naive,ax=axs[1]);"
   ]
  },
  {
   "cell_type": "markdown",
   "id": "bulgarian-housing",
   "metadata": {},
   "source": [
    "## 7.5. XGBoost Classifier"
   ]
  },
  {
   "cell_type": "code",
   "execution_count": 66,
   "id": "great-brooklyn",
   "metadata": {
    "ExecuteTime": {
     "end_time": "2021-07-25T21:31:39.846694Z",
     "start_time": "2021-07-25T21:31:08.527904Z"
    }
   },
   "outputs": [],
   "source": [
    "# model definition\n",
    "xgb_model = xgb.XGBClassifier(objective = 'binary:logistic', eval_metric = 'error')\n",
    "\n",
    "# model fit\n",
    "model_xgb = xgb_model.fit(X_train,y_train)\n",
    "\n",
    "# model predict\n",
    "yhat_xgb = model_xgb.predict_proba(x_test)"
   ]
  },
  {
   "cell_type": "code",
   "execution_count": 67,
   "id": "broadband-pricing",
   "metadata": {
    "ExecuteTime": {
     "end_time": "2021-07-25T21:32:27.443328Z",
     "start_time": "2021-07-25T21:32:26.858375Z"
    }
   },
   "outputs": [
    {
     "data": {
      "image/png": "[encoded data removed]",
      "text/plain": [
       "<Figure size 1080x360 with 2 Axes>"
      ]
     },
     "metadata": {
      "needs_background": "light"
     },
     "output_type": "display_data"
    }
   ],
   "source": [
    "fig, axs = plt.subplots(ncols=2, figsize= (15,5))\n",
    "skplt.metrics.plot_cumulative_gain(y_test, yhat_xgb, ax=axs[0])\n",
    "skplt.metrics.plot_lift_curve(y_test, yhat_xgb,ax=axs[1]);"
   ]
  },
  {
   "cell_type": "markdown",
   "id": "signal-christmas",
   "metadata": {},
   "source": [
    "## 8.0. Performance Metrics"
   ]
  },
  {
   "cell_type": "code",
   "execution_count": 69,
   "id": "civilian-pocket",
   "metadata": {
    "ExecuteTime": {
     "end_time": "2021-07-25T21:36:29.933201Z",
     "start_time": "2021-07-25T21:36:29.601117Z"
    }
   },
   "outputs": [
    {
     "name": "stdout",
     "output_type": "stream",
     "text": [
      "[[55407     0]\n",
      " [ 7683     0]]\n"
     ]
    },
    {
     "data": {
      "text/plain": [
       "0.8782215882073229"
      ]
     },
     "execution_count": 69,
     "metadata": {},
     "output_type": "execute_result"
    }
   ],
   "source": [
    "# Making the Confusion Matrix\n",
    "from sklearn.metrics import confusion_matrix, accuracy_score\n",
    "y_pred = model_xgb.predict(x_test)\n",
    "cm = confusion_matrix(y_test, y_pred)\n",
    "print(cm)\n",
    "accuracy_score(y_test, y_pred)"
   ]
  },
  {
   "cell_type": "markdown",
   "id": "honest-liberal",
   "metadata": {},
   "source": [
    "## 8.1 Single performance"
   ]
  },
  {
   "cell_type": "code",
   "execution_count": 115,
   "id": "attempted-papua",
   "metadata": {
    "ExecuteTime": {
     "end_time": "2021-07-25T22:37:58.864102Z",
     "start_time": "2021-07-25T22:37:58.832902Z"
    }
   },
   "outputs": [],
   "source": [
    "def data_preparation_yhat_model(target,x_val, y_val,model):\n",
    "    # prepare dataset\n",
    "    data = x_val.copy()\n",
    "    data[target] = y_val.copy()\n",
    "    \n",
    "    # propensity score\n",
    "    data['score'] = model[:, 1].tolist()      \n",
    "    \n",
    "    data = data.sort_values('score', ascending = False)\n",
    "    \n",
    "    # reset index\n",
    "    data = data.reset_index( drop=True )\n",
    "    \n",
    "    return data\n",
    "    "
   ]
  },
  {
   "cell_type": "code",
   "execution_count": 111,
   "id": "small-citizen",
   "metadata": {
    "ExecuteTime": {
     "end_time": "2021-07-25T22:37:13.451102Z",
     "start_time": "2021-07-25T22:37:13.428946Z"
    }
   },
   "outputs": [],
   "source": [
    "def precision_at_k( data, target, k=2000):\n",
    "    \n",
    "\n",
    "    # create ranking order\n",
    "    data['ranking'] = data.index + 1 \n",
    "\n",
    "    data['precision_at_k'] = data[target].cumsum() / data['ranking']\n",
    "\n",
    "    return data.loc[k, 'precision_at_k']"
   ]
  },
  {
   "cell_type": "code",
   "execution_count": 120,
   "id": "excellent-denmark",
   "metadata": {
    "ExecuteTime": {
     "end_time": "2021-07-25T22:40:36.631534Z",
     "start_time": "2021-07-25T22:40:36.593709Z"
    }
   },
   "outputs": [],
   "source": [
    "def recall_at_k(  data,target, k=2000 ):\n",
    "\n",
    "    # create ranking order\n",
    "    data['ranking'] = data.index + 1 \n",
    "\n",
    "    data['recall_at_k'] = data[target].cumsum() / data[target].sum()\n",
    "\n",
    "    return data.loc[k, 'recall_at_k']"
   ]
  },
  {
   "cell_type": "code",
   "execution_count": 117,
   "id": "ordered-fleet",
   "metadata": {
    "ExecuteTime": {
     "end_time": "2021-07-25T22:38:42.148121Z",
     "start_time": "2021-07-25T22:38:42.032202Z"
    }
   },
   "outputs": [
    {
     "data": {
      "text/html": [
       "<div>\n",
       "<style scoped>\n",
       "    .dataframe tbody tr th:only-of-type {\n",
       "        vertical-align: middle;\n",
       "    }\n",
       "\n",
       "    .dataframe tbody tr th {\n",
       "        vertical-align: top;\n",
       "    }\n",
       "\n",
       "    .dataframe thead th {\n",
       "        text-align: right;\n",
       "    }\n",
       "</style>\n",
       "<table border=\"1\" class=\"dataframe\">\n",
       "  <thead>\n",
       "    <tr style=\"text-align: right;\">\n",
       "      <th></th>\n",
       "      <th>id</th>\n",
       "      <th>gender</th>\n",
       "      <th>age</th>\n",
       "      <th>driving_license</th>\n",
       "      <th>region_code</th>\n",
       "      <th>previously_insured</th>\n",
       "      <th>vehicle_damage</th>\n",
       "      <th>annual_premium</th>\n",
       "      <th>policy_sales_channel</th>\n",
       "      <th>vintage</th>\n",
       "      <th>vehicle_age_below_1_year</th>\n",
       "      <th>vehicle_age_between_1_2_year</th>\n",
       "      <th>vehicle_age_over_2_years</th>\n",
       "      <th>response</th>\n",
       "      <th>score</th>\n",
       "    </tr>\n",
       "  </thead>\n",
       "  <tbody>\n",
       "    <tr>\n",
       "      <th>0</th>\n",
       "      <td>158468</td>\n",
       "      <td>0.100796</td>\n",
       "      <td>0.169231</td>\n",
       "      <td>1</td>\n",
       "      <td>0.153629</td>\n",
       "      <td>0</td>\n",
       "      <td>1</td>\n",
       "      <td>-1.674254</td>\n",
       "      <td>0.007406</td>\n",
       "      <td>0.006920</td>\n",
       "      <td>0</td>\n",
       "      <td>1</td>\n",
       "      <td>0</td>\n",
       "      <td>0</td>\n",
       "      <td>0.453660</td>\n",
       "    </tr>\n",
       "    <tr>\n",
       "      <th>1</th>\n",
       "      <td>277223</td>\n",
       "      <td>0.137564</td>\n",
       "      <td>0.261538</td>\n",
       "      <td>1</td>\n",
       "      <td>0.187359</td>\n",
       "      <td>0</td>\n",
       "      <td>1</td>\n",
       "      <td>-1.360244</td>\n",
       "      <td>0.196264</td>\n",
       "      <td>1.000000</td>\n",
       "      <td>0</td>\n",
       "      <td>1</td>\n",
       "      <td>0</td>\n",
       "      <td>0</td>\n",
       "      <td>0.451291</td>\n",
       "    </tr>\n",
       "    <tr>\n",
       "      <th>2</th>\n",
       "      <td>33414</td>\n",
       "      <td>0.137564</td>\n",
       "      <td>0.230769</td>\n",
       "      <td>1</td>\n",
       "      <td>0.101006</td>\n",
       "      <td>0</td>\n",
       "      <td>1</td>\n",
       "      <td>-1.371088</td>\n",
       "      <td>0.007406</td>\n",
       "      <td>0.993080</td>\n",
       "      <td>0</td>\n",
       "      <td>1</td>\n",
       "      <td>0</td>\n",
       "      <td>0</td>\n",
       "      <td>0.449141</td>\n",
       "    </tr>\n",
       "    <tr>\n",
       "      <th>3</th>\n",
       "      <td>179932</td>\n",
       "      <td>0.100796</td>\n",
       "      <td>0.200000</td>\n",
       "      <td>1</td>\n",
       "      <td>0.201281</td>\n",
       "      <td>0</td>\n",
       "      <td>1</td>\n",
       "      <td>-1.228389</td>\n",
       "      <td>0.009158</td>\n",
       "      <td>1.000000</td>\n",
       "      <td>0</td>\n",
       "      <td>1</td>\n",
       "      <td>0</td>\n",
       "      <td>1</td>\n",
       "      <td>0.448859</td>\n",
       "    </tr>\n",
       "    <tr>\n",
       "      <th>4</th>\n",
       "      <td>290688</td>\n",
       "      <td>0.137564</td>\n",
       "      <td>0.153846</td>\n",
       "      <td>1</td>\n",
       "      <td>0.113633</td>\n",
       "      <td>0</td>\n",
       "      <td>1</td>\n",
       "      <td>-1.269121</td>\n",
       "      <td>0.212645</td>\n",
       "      <td>0.152249</td>\n",
       "      <td>0</td>\n",
       "      <td>1</td>\n",
       "      <td>0</td>\n",
       "      <td>1</td>\n",
       "      <td>0.445302</td>\n",
       "    </tr>\n",
       "  </tbody>\n",
       "</table>\n",
       "</div>"
      ],
      "text/plain": [
       "       id    gender       age  driving_license  region_code  \\\n",
       "0  158468  0.100796  0.169231                1     0.153629   \n",
       "1  277223  0.137564  0.261538                1     0.187359   \n",
       "2   33414  0.137564  0.230769                1     0.101006   \n",
       "3  179932  0.100796  0.200000                1     0.201281   \n",
       "4  290688  0.137564  0.153846                1     0.113633   \n",
       "\n",
       "   previously_insured  vehicle_damage  annual_premium  policy_sales_channel  \\\n",
       "0                   0               1       -1.674254              0.007406   \n",
       "1                   0               1       -1.360244              0.196264   \n",
       "2                   0               1       -1.371088              0.007406   \n",
       "3                   0               1       -1.228389              0.009158   \n",
       "4                   0               1       -1.269121              0.212645   \n",
       "\n",
       "    vintage  vehicle_age_below_1_year  vehicle_age_between_1_2_year  \\\n",
       "0  0.006920                         0                             1   \n",
       "1  1.000000                         0                             1   \n",
       "2  0.993080                         0                             1   \n",
       "3  1.000000                         0                             1   \n",
       "4  0.152249                         0                             1   \n",
       "\n",
       "   vehicle_age_over_2_years  response     score  \n",
       "0                         0         0  0.453660  \n",
       "1                         0         0  0.451291  \n",
       "2                         0         0  0.449141  \n",
       "3                         0         1  0.448859  \n",
       "4                         0         1  0.445302  "
      ]
     },
     "execution_count": 117,
     "metadata": {},
     "output_type": "execute_result"
    }
   ],
   "source": [
    "df8 = data_preparation_yhat_model('response',x_validation.copy(),y_validation.copy(), yhat_xgb )\n",
    "df8.head()"
   ]
  },
  {
   "cell_type": "code",
   "execution_count": 125,
   "id": "shaped-turkey",
   "metadata": {
    "ExecuteTime": {
     "end_time": "2021-07-25T22:49:45.533481Z",
     "start_time": "2021-07-25T22:49:45.417553Z"
    }
   },
   "outputs": [
    {
     "name": "stdout",
     "output_type": "stream",
     "text": [
      "Precision at K: 0.2951803213119125, Recall : 0.5763373682155408\n"
     ]
    }
   ],
   "source": [
    "# Knn\n",
    "df8 = data_preparation_yhat_model('response',x_validation.copy(),y_validation.copy(), yhat_knn )\n",
    "# compute precision at k\n",
    "knn_precision = precision_at_k( df8,'response', k=15000 )\n",
    "# Recall @k\n",
    "knn_recall = recall_at_k( df8, 'response' , k=15000 )\n",
    "\n",
    "print( 'Precision at K: {}, Recall : {}'.format(knn_precision, knn_recall ) )"
   ]
  },
  {
   "cell_type": "code",
   "execution_count": 126,
   "id": "accepted-connection",
   "metadata": {
    "ExecuteTime": {
     "end_time": "2021-07-25T22:51:06.713652Z",
     "start_time": "2021-07-25T22:51:06.582086Z"
    }
   },
   "outputs": [
    {
     "name": "stdout",
     "output_type": "stream",
     "text": [
      "Precision at K: 0.28284781014599025, Recall : 0.5522582324612781\n"
     ]
    }
   ],
   "source": [
    "# Logistic Regression\n",
    "df8 = data_preparation_yhat_model('response',x_validation.copy(),y_validation.copy(), yhat_lr )\n",
    "# compute precision at k\n",
    "lr_precision = precision_at_k( df8,'response', k=15000 )\n",
    "# Recall @k\n",
    "lr_recall = recall_at_k( df8, 'response' , k=15000 )\n",
    "\n",
    "print( 'Precision at K: {}, Recall : {}'.format(lr_precision, lr_recall ) )"
   ]
  },
  {
   "cell_type": "code",
   "execution_count": 130,
   "id": "cooperative-wednesday",
   "metadata": {
    "ExecuteTime": {
     "end_time": "2021-07-25T23:14:21.616673Z",
     "start_time": "2021-07-25T23:14:21.485197Z"
    }
   },
   "outputs": [
    {
     "name": "stdout",
     "output_type": "stream",
     "text": [
      "Precision at K: 0.2919805346310246, Recall : 0.5700898086684889\n"
     ]
    }
   ],
   "source": [
    "# Naive Bayes\n",
    "df8 = data_preparation_yhat_model('response',x_validation.copy(),y_validation.copy(), yhat_naive )\n",
    "# compute precision at k\n",
    "naive_precision = precision_at_k( df8,'response', k=15000 )\n",
    "# Recall @k\n",
    "naive_recall = recall_at_k( df8, 'response' , k=15000 )\n",
    "\n",
    "print( 'Precision at K: {}, Recall : {}'.format(naive_precision, naive_recall ) )"
   ]
  },
  {
   "cell_type": "code",
   "execution_count": 127,
   "id": "bottom-muscle",
   "metadata": {
    "ExecuteTime": {
     "end_time": "2021-07-25T22:53:01.606860Z",
     "start_time": "2021-07-25T22:53:01.475308Z"
    }
   },
   "outputs": [
    {
     "name": "stdout",
     "output_type": "stream",
     "text": [
      "Precision at K: 0.31051263249116723, Recall : 0.6062735910451647\n"
     ]
    }
   ],
   "source": [
    "# Random Forest Classifier\n",
    "df8 = data_preparation_yhat_model('response',x_validation.copy(),y_validation.copy(), yhat_rfc )\n",
    "# compute precision at k\n",
    "rfc_precision = precision_at_k( df8,'response', k=15000 )\n",
    "# Recall @k\n",
    "rfc_recall = recall_at_k( df8, 'response' , k=15000 )\n",
    "\n",
    "print( 'Precision at K: {}, Recall : {}'.format(rfc_precision, rfc_recall ) )"
   ]
  },
  {
   "cell_type": "code",
   "execution_count": 128,
   "id": "stable-netherlands",
   "metadata": {
    "ExecuteTime": {
     "end_time": "2021-07-25T22:54:37.191965Z",
     "start_time": "2021-07-25T22:54:37.076014Z"
    }
   },
   "outputs": [
    {
     "name": "stdout",
     "output_type": "stream",
     "text": [
      "Precision at K: 0.3399106726218252, Recall : 0.6636730443837043\n"
     ]
    }
   ],
   "source": [
    "#Xgboost \n",
    "df8 = data_preparation_yhat_model('response',x_validation.copy(),y_validation.copy(), yhat_xgb )\n",
    "xgb_precision = precision_at_k( df8,'response', k=15000 )\n",
    "# Recall at K\n",
    "xgb_recall = recall_at_k( df8, 'response' , k=15000 )\n",
    "print( 'Precision at K: {}, Recall : {}'.format(xgb_precision, xgb_recall ) )"
   ]
  },
  {
   "cell_type": "markdown",
   "id": "characteristic-island",
   "metadata": {
    "ExecuteTime": {
     "end_time": "2021-07-25T22:55:57.975563Z",
     "start_time": "2021-07-25T22:55:57.959943Z"
    }
   },
   "source": [
    "## 8.2. Compare Model's Performance"
   ]
  },
  {
   "cell_type": "code",
   "execution_count": 136,
   "id": "favorite-revelation",
   "metadata": {
    "ExecuteTime": {
     "end_time": "2021-07-25T23:26:03.371801Z",
     "start_time": "2021-07-25T23:26:02.838827Z"
    }
   },
   "outputs": [
    {
     "data": {
      "text/html": [
       "<style  type=\"text/css\" >\n",
       "#T_f0dc3_row0_col4,#T_f0dc3_row1_col4{\n",
       "            background-color:  lightgreen;\n",
       "        }</style><table id=\"T_f0dc3_\" ><thead>    <tr>        <th class=\"blank level0\" ></th>        <th class=\"col_heading level0 col0\" >Logistic R</th>        <th class=\"col_heading level0 col1\" >Naive Bayes</th>        <th class=\"col_heading level0 col2\" >KNN</th>        <th class=\"col_heading level0 col3\" >Randon F</th>        <th class=\"col_heading level0 col4\" >XGBoosting</th>    </tr></thead><tbody>\n",
       "                <tr>\n",
       "                        <th id=\"T_f0dc3_level0_row0\" class=\"row_heading level0 row0\" >Precision at K</th>\n",
       "                        <td id=\"T_f0dc3_row0_col0\" class=\"data row0 col0\" >0.282848</td>\n",
       "                        <td id=\"T_f0dc3_row0_col1\" class=\"data row0 col1\" >0.291981</td>\n",
       "                        <td id=\"T_f0dc3_row0_col2\" class=\"data row0 col2\" >0.295180</td>\n",
       "                        <td id=\"T_f0dc3_row0_col3\" class=\"data row0 col3\" >0.310513</td>\n",
       "                        <td id=\"T_f0dc3_row0_col4\" class=\"data row0 col4\" >0.339911</td>\n",
       "            </tr>\n",
       "            <tr>\n",
       "                        <th id=\"T_f0dc3_level0_row1\" class=\"row_heading level0 row1\" >Recall at K</th>\n",
       "                        <td id=\"T_f0dc3_row1_col0\" class=\"data row1 col0\" >0.552258</td>\n",
       "                        <td id=\"T_f0dc3_row1_col1\" class=\"data row1 col1\" >0.570090</td>\n",
       "                        <td id=\"T_f0dc3_row1_col2\" class=\"data row1 col2\" >0.576337</td>\n",
       "                        <td id=\"T_f0dc3_row1_col3\" class=\"data row1 col3\" >0.606274</td>\n",
       "                        <td id=\"T_f0dc3_row1_col4\" class=\"data row1 col4\" >0.663673</td>\n",
       "            </tr>\n",
       "    </tbody></table>"
      ],
      "text/plain": [
       "<pandas.io.formats.style.Styler at 0x2879444aa90>"
      ]
     },
     "execution_count": 136,
     "metadata": {},
     "output_type": "execute_result"
    }
   ],
   "source": [
    "performance_summary = { \n",
    "    'Precision at K' : [lr_precision, naive_precision, knn_precision, rfc_precision, xgb_precision],\n",
    "    'Recall at K'    : [lr_recall, naive_recall, knn_recall, rfc_recall, xgb_recall]\n",
    "}\n",
    "\n",
    "metrics = pd.DataFrame(performance_summary).T\n",
    "metrics.columns = ['Logistic R', 'Naive Bayes', 'KNN', 'Randon F', 'XGBoosting']\n",
    "metrics.style.highlight_max( color='lightgreen', axis=1 )"
   ]
  },
  {
   "cell_type": "code",
   "execution_count": 99,
   "id": "injured-defeat",
   "metadata": {
    "ExecuteTime": {
     "end_time": "2021-07-25T22:24:42.447196Z",
     "start_time": "2021-07-25T22:24:42.409420Z"
    }
   },
   "outputs": [
    {
     "data": {
      "text/plain": [
       "0.6636730443837043"
      ]
     },
     "execution_count": 99,
     "metadata": {},
     "output_type": "execute_result"
    }
   ],
   "source": []
  }
 ],
 "metadata": {
  "kernelspec": {
   "display_name": "Python 3",
   "language": "python",
   "name": "python3"
  },
  "language_info": {
   "codemirror_mode": {
    "name": "ipython",
    "version": 3
   },
   "file_extension": ".py",
   "mimetype": "text/x-python",
   "name": "python",
   "nbconvert_exporter": "python",
   "pygments_lexer": "ipython3",
   "version": "3.8.8"
  }
 },
 "nbformat": 4,
 "nbformat_minor": 5
}
